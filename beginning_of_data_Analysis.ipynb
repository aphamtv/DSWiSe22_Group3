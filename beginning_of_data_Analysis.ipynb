{
 "cells": [
  {
   "cell_type": "code",
   "execution_count": 1,
   "metadata": {
    "colab": {
     "base_uri": "https://localhost:8080/"
    },
    "id": "zxaZjgNGc_70",
    "outputId": "315dff03-7652-4571-85f0-e9373ec21850"
   },
   "outputs": [],
   "source": [
    "#from google.colab import drive\n",
    "#drive.mount ('/content/drive')"
   ]
  },
  {
   "cell_type": "code",
   "execution_count": 3,
   "metadata": {
    "id": "K-YsUzc-cYFs"
   },
   "outputs": [],
   "source": [
    "import numpy as np\n",
    "import matplotlib as matplt\n",
    "import matplotlib.pyplot as plt\n",
    "import pandas as pd\n",
    "import seaborn as sns\n",
    "from scipy.stats import norm\n",
    "from scipy import stats\n",
    "from sklearn import (\n",
    "    linear_model, metrics, pipeline, preprocessing, model_selection\n",
    ")\n",
    "\n",
    "from sklearn.preprocessing import scale, LabelEncoder\n",
    "import sklearn.linear_model as skl_lm\n",
    "from sklearn.metrics import mean_squared_error, r2_score, roc_curve, roc_auc_score\n",
    "import statsmodels.api as sm\n",
    "import statsmodels.formula.api as smf\n",
    "\n",
    "#from statsmodels.formula.api import SurvfuncRight\n",
    "\n",
    "#!pip install lifelines\n",
    "from lifelines import CoxPHFitter\n",
    "\n",
    "from sklearn.model_selection import cross_val_score\n",
    "from sklearn.model_selection import RepeatedKFold\n",
    "from sklearn.linear_model import Lasso\n",
    "\n",
    "import sklearn.linear_model as skl_lm\n",
    "\n",
    "from sklearn.model_selection import RepeatedKFold\n",
    "from sklearn.tree import DecisionTreeClassifier\n",
    "from sklearn.model_selection import KFold, cross_val_score\n",
    "\n",
    "import warnings\n",
    "warnings.filterwarnings('ignore')"
   ]
  },
  {
   "cell_type": "code",
   "execution_count": 4,
   "metadata": {
    "colab": {
     "base_uri": "https://localhost:8080/"
    },
    "id": "ke2zQr7Sck9A",
    "outputId": "c1445497-2d5a-430b-f189-4a137b7a5bb6"
   },
   "outputs": [
    {
     "name": "stdout",
     "output_type": "stream",
     "text": [
      "(7214, 53)\n"
     ]
    },
    {
     "data": {
      "text/plain": [
       "Index(['id', 'name', 'first', 'last', 'compas_screening_date', 'sex', 'dob',\n",
       "       'age', 'age_cat', 'race', 'juv_fel_count', 'decile_score',\n",
       "       'juv_misd_count', 'juv_other_count', 'priors_count',\n",
       "       'days_b_screening_arrest', 'c_jail_in', 'c_jail_out', 'c_case_number',\n",
       "       'c_offense_date', 'c_arrest_date', 'c_days_from_compas',\n",
       "       'c_charge_degree', 'c_charge_desc', 'is_recid', 'r_case_number',\n",
       "       'r_charge_degree', 'r_days_from_arrest', 'r_offense_date',\n",
       "       'r_charge_desc', 'r_jail_in', 'r_jail_out', 'violent_recid',\n",
       "       'is_violent_recid', 'vr_case_number', 'vr_charge_degree',\n",
       "       'vr_offense_date', 'vr_charge_desc', 'type_of_assessment',\n",
       "       'decile_score.1', 'score_text', 'screening_date',\n",
       "       'v_type_of_assessment', 'v_decile_score', 'v_score_text',\n",
       "       'v_screening_date', 'in_custody', 'out_custody', 'priors_count.1',\n",
       "       'start', 'end', 'event', 'two_year_recid'],\n",
       "      dtype='object')"
      ]
     },
     "execution_count": 4,
     "metadata": {},
     "output_type": "execute_result"
    }
   ],
   "source": [
    "raw_data = pd.read_csv(\"compas-scores-two-years.csv\")\n",
    "print(raw_data.shape)\n",
    "raw_data.columns"
   ]
  },
  {
   "cell_type": "code",
   "execution_count": null,
   "metadata": {
    "colab": {
     "base_uri": "https://localhost:8080/",
     "height": 386
    },
    "id": "3NbCStLbt5an",
    "outputId": "41859589-0fba-4d19-9acd-a1dc12e6d0ab"
   },
   "outputs": [],
   "source": [
    "raw_data.head()"
   ]
  },
  {
   "cell_type": "code",
   "execution_count": null,
   "metadata": {
    "colab": {
     "base_uri": "https://localhost:8080/"
    },
    "id": "zpgWBJgldp38",
    "outputId": "a9dff8d2-e7de-4282-b68d-ed1af43f3d3d"
   },
   "outputs": [],
   "source": [
    "raw_data.isna().sum()"
   ]
  },
  {
   "cell_type": "markdown",
   "metadata": {
    "id": "y08U2FIPuVNe"
   },
   "source": [
    "Short comparison to other CSVs"
   ]
  },
  {
   "cell_type": "code",
   "execution_count": 5,
   "metadata": {
    "colab": {
     "base_uri": "https://localhost:8080/"
    },
    "id": "Ek9X9d5KuU4i",
    "outputId": "5c6bff05-d9bf-4eca-88a5-2b501c8f2ea7"
   },
   "outputs": [
    {
     "name": "stdout",
     "output_type": "stream",
     "text": [
      "(13419, 52)\n"
     ]
    },
    {
     "data": {
      "text/plain": [
       "Index(['id', 'name', 'first', 'last', 'compas_screening_date', 'sex', 'dob',\n",
       "       'age', 'age_cat', 'race', 'juv_fel_count', 'decile_score',\n",
       "       'juv_misd_count', 'juv_other_count', 'priors_count',\n",
       "       'days_b_screening_arrest', 'c_jail_in', 'c_jail_out', 'c_case_number',\n",
       "       'c_offense_date', 'c_arrest_date', 'c_days_from_compas',\n",
       "       'c_charge_degree', 'c_charge_desc', 'is_recid', 'r_case_number',\n",
       "       'r_charge_degree', 'r_days_from_arrest', 'r_offense_date',\n",
       "       'r_charge_desc', 'r_jail_in', 'r_jail_out', 'violent_recid',\n",
       "       'is_violent_recid', 'vr_case_number', 'vr_charge_degree',\n",
       "       'vr_offense_date', 'vr_charge_desc', 'type_of_assessment',\n",
       "       'decile_score.1', 'score_text', 'screening_date',\n",
       "       'v_type_of_assessment', 'v_decile_score', 'v_score_text',\n",
       "       'v_screening_date', 'in_custody', 'out_custody', 'priors_count.1',\n",
       "       'start', 'end', 'event'],\n",
       "      dtype='object')"
      ]
     },
     "execution_count": 5,
     "metadata": {},
     "output_type": "execute_result"
    }
   ],
   "source": [
    "parsed_data = pd.read_csv(\"cox-parsed.csv\")\n",
    "print(parsed_data.shape)\n",
    "parsed_data.columns "
   ]
  },
  {
   "cell_type": "markdown",
   "metadata": {
    "id": "E3W-WM7vvgJ-"
   },
   "source": [
    "how is this dataset diffrent: number of rows is bigger (names double if diffrent), but columns are the same"
   ]
  },
  {
   "cell_type": "code",
   "execution_count": null,
   "metadata": {
    "colab": {
     "base_uri": "https://localhost:8080/",
     "height": 386
    },
    "id": "7HxMBkrBuzx0",
    "outputId": "3ceeaf5e-1f25-4888-e5f6-07b272201a50"
   },
   "outputs": [],
   "source": [
    "parsed_data.head()"
   ]
  },
  {
   "cell_type": "markdown",
   "metadata": {
    "id": "ReAis1bfeOPK"
   },
   "source": [
    "# Data Cleaning"
   ]
  },
  {
   "cell_type": "code",
   "execution_count": 6,
   "metadata": {
    "colab": {
     "base_uri": "https://localhost:8080/"
    },
    "id": "bsdDouc1dr9x",
    "outputId": "69507214-698a-407a-c2ae-dc438e354261"
   },
   "outputs": [
    {
     "data": {
      "text/plain": [
       "6172"
      ]
     },
     "execution_count": 6,
     "metadata": {},
     "output_type": "execute_result"
    }
   ],
   "source": [
    "df = raw_data.loc[\n",
    "    (raw_data['days_b_screening_arrest'] <= 30) &\n",
    "    (raw_data['days_b_screening_arrest'] >= -30) &\n",
    "    (raw_data['is_recid'] != -1) &\n",
    "    (raw_data['c_charge_degree'] != \"O\") &\n",
    "    (raw_data['score_text'] != \"N/A\")\n",
    "]\n",
    "len(df)"
   ]
  },
  {
   "cell_type": "markdown",
   "metadata": {
    "id": "e9mV_C6EeLYu"
   },
   "source": [
    "# Exploratory Analysis"
   ]
  },
  {
   "cell_type": "code",
   "execution_count": null,
   "metadata": {
    "colab": {
     "base_uri": "https://localhost:8080/"
    },
    "id": "ygdSfPnRdvX-",
    "outputId": "a379719b-0feb-4f0d-f591-513d7f323061"
   },
   "outputs": [],
   "source": [
    "df['race'].value_counts()"
   ]
  },
  {
   "cell_type": "code",
   "execution_count": null,
   "metadata": {
    "colab": {
     "base_uri": "https://localhost:8080/",
     "height": 175
    },
    "id": "ZzKlIkTNd0QC",
    "outputId": "9971cc51-2c3e-4b00-c2ee-1f3127305442"
   },
   "outputs": [],
   "source": [
    "# Race by Score Text\n",
    "pd.crosstab(df['score_text'],df['race'])"
   ]
  },
  {
   "cell_type": "code",
   "execution_count": null,
   "metadata": {
    "colab": {
     "base_uri": "https://localhost:8080/",
     "height": 298
    },
    "id": "FzO29N4Ad4Fh",
    "outputId": "94a86259-cc86-4ebf-abfa-aa14ba12432f"
   },
   "outputs": [],
   "source": [
    "score_text_by_race = df.groupby(['race','score_text'], sort = True)['id'].size()\n",
    "score_text_by_race.unstack().plot(\n",
    "    kind = \"barh\", \n",
    "    title = \"Score Text by Race\",\n",
    "    ylabel = \"Score Text\",\n",
    "    xlabel = \"Race\",\n",
    "    figsize = (8,4),\n",
    "    stacked = True\n",
    ")"
   ]
  },
  {
   "cell_type": "code",
   "execution_count": null,
   "metadata": {
    "id": "kd0IeDP1d5lS"
   },
   "outputs": [],
   "source": [
    "df_three = df.loc[df['race'].isin([\"African-American\",\"Caucasian\",\"Hispanic\"])]"
   ]
  },
  {
   "cell_type": "code",
   "execution_count": null,
   "metadata": {
    "colab": {
     "base_uri": "https://localhost:8080/",
     "height": 363
    },
    "id": "pPF7-kJzd7vP",
    "outputId": "832a201a-8b2b-4cb8-a1a3-ec6a31e03388"
   },
   "outputs": [],
   "source": [
    "#calculate the total and proportions of score texts in each race group\n",
    "score_text_by_race_prop= df_three.groupby(['race', 'score_text']).agg({'score_text': 'count'})\n",
    "score_text_by_race_prop['prop'] = score_text_by_race_prop.groupby(level = 0).apply(lambda x:100 * x / float(x.sum()))\n",
    "score_text_by_race_prop"
   ]
  },
  {
   "cell_type": "code",
   "execution_count": null,
   "metadata": {
    "colab": {
     "base_uri": "https://localhost:8080/"
    },
    "id": "esMOBXDHd-Ew",
    "outputId": "731d49fb-18fa-4e7d-b783-b7b24bb241b8"
   },
   "outputs": [],
   "source": [
    "df_three.groupby('race')['decile_score'].mean()"
   ]
  },
  {
   "cell_type": "markdown",
   "metadata": {
    "id": "KxeHvbGheGIE"
   },
   "source": [
    "# Distribution of decile scores"
   ]
  },
  {
   "cell_type": "code",
   "execution_count": null,
   "metadata": {
    "colab": {
     "base_uri": "https://localhost:8080/",
     "height": 312
    },
    "id": "oclWFcIAd_Du",
    "outputId": "9bdec64d-2317-4b53-b57f-5b4da02a9e58"
   },
   "outputs": [],
   "source": [
    "sns.countplot(\n",
    "    data = df_three,\n",
    "    x = 'decile_score',\n",
    "    hue = 'race',\n",
    "    palette = [\"#F97306\",\"#0343DF\",\"#00FF00\"]\n",
    ")\n",
    "plt.title('Distribution of Decile Scores by Race')\n",
    "plt.xlabel('Decile Score')\n",
    "plt.ylabel('Count')"
   ]
  },
  {
   "cell_type": "markdown",
   "metadata": {
    "id": "9GPrMjhxeXfi"
   },
   "source": [
    "# COMPAS Score Prediction\n",
    "## Linear Regression Model"
   ]
  },
  {
   "cell_type": "code",
   "execution_count": null,
   "metadata": {
    "id": "AEJW07oFeC_y"
   },
   "outputs": [],
   "source": [
    "features = pd.concat(\n",
    "    [pd.get_dummies(df_three.age_cat, prefix='age'),\n",
    "     pd.get_dummies(df_three.sex, prefix='sex'),\n",
    "     pd.get_dummies(df_three.c_charge_degree, prefix='degree'), # felony or misdemeanor charge ('f' or 'm')\n",
    "     df.priors_count],\n",
    "    axis=1)\n",
    "\n",
    "# drop one less dummy variable\n",
    "features.drop(['age_25 - 45', 'sex_Female', 'degree_M'], axis=1, inplace=True)\n",
    "\n",
    "# predict the Decile Score\n",
    "target = df_three.decile_score"
   ]
  },
  {
   "cell_type": "code",
   "execution_count": null,
   "metadata": {
    "colab": {
     "base_uri": "https://localhost:8080/"
    },
    "id": "wiYTrBFrh6US",
    "outputId": "8805e678-992e-4a0e-f741-2f35b0fb576f"
   },
   "outputs": [],
   "source": [
    "target.head()"
   ]
  },
  {
   "cell_type": "code",
   "execution_count": null,
   "metadata": {
    "id": "VJQfRuRNMMW-"
   },
   "outputs": [],
   "source": [
    "def MAPE(Y_actual,Y_Predicted):\n",
    "    mape = np.mean(np.abs((Y_actual - Y_Predicted)/Y_actual))*100\n",
    "    return mape\n",
    "    "
   ]
  },
  {
   "cell_type": "markdown",
   "metadata": {
    "id": "mFoOnnLeeemu"
   },
   "source": [
    "## Lasso"
   ]
  },
  {
   "cell_type": "code",
   "execution_count": null,
   "metadata": {
    "colab": {
     "base_uri": "https://localhost:8080/",
     "height": 311
    },
    "id": "4Wv4M_vYegvl",
    "outputId": "8e312ecb-e940-44af-f34d-449397fecb5f"
   },
   "outputs": [],
   "source": [
    "X_train, X_test, y_train, y_test = model_selection.train_test_split(features, target, test_size = 0.25, random_state = 3)"
   ]
  },
  {
   "cell_type": "code",
   "execution_count": null,
   "metadata": {
    "id": "77j98Tl8enGY"
   },
   "outputs": [],
   "source": [
    "alphas = 10**np.linspace(10,-2,1000)*0.5 #why?, why not make 0.95 in the first place?\n",
    "#print(alphas)\n",
    "#https://numpy.org/devdocs/reference/generated/numpy.linspace.html"
   ]
  },
  {
   "cell_type": "code",
   "execution_count": null,
   "metadata": {
    "colab": {
     "base_uri": "https://localhost:8080/",
     "height": 253
    },
    "id": "hZA126o8eqcc",
    "outputId": "d71287ec-b51a-4d9d-bcbc-6f914ae4f9ee"
   },
   "outputs": [],
   "source": [
    "# Lasso Model\n",
    "# find the best alpha\n",
    "lasso = linear_model.LassoCV(alphas = alphas, cv = 10, max_iter = 100000) #https://scikit-learn.org/stable/modules/generated/sklearn.linear_model.LassoCV.html\n",
    "lasso_cv = lasso.fit(X_train,y_train)\n",
    "\n",
    "lasso_predict = lasso_cv.predict(X_test)\n",
    "lasso_mse = metrics.mean_squared_error(y_test, lasso_predict)\n",
    "lasso_mse "
   ]
  },
  {
   "cell_type": "code",
   "execution_count": null,
   "metadata": {
    "colab": {
     "base_uri": "https://localhost:8080/",
     "height": 166
    },
    "id": "dZ4qj_8ZetiW",
    "outputId": "bcb86db3-7b1c-445d-cb2c-addabebc0da0"
   },
   "outputs": [],
   "source": [
    "lasso_cv.alpha_"
   ]
  },
  {
   "cell_type": "code",
   "execution_count": null,
   "metadata": {
    "colab": {
     "base_uri": "https://localhost:8080/",
     "height": 235
    },
    "id": "hR9Kn_keL7wQ",
    "outputId": "aa4dd695-15ea-4a10-be8f-9170f07851cf"
   },
   "outputs": [],
   "source": [
    "#accuracy of lasso\n",
    "lasso_MAPE = MAPE(y_test,lasso_predict) #(Mean Absolute Percentage Error) \n",
    "print(\"MAPE value lasso Regression: \",lasso_MAPE)\n",
    "lasso_Accuracy = 100 - lasso_MAPE\n",
    "print('Accuracy of lasso Regression: {:0.2f}%.'.format(lasso_Accuracy))"
   ]
  },
  {
   "cell_type": "code",
   "execution_count": null,
   "metadata": {
    "id": "_6MUydg_KWh3"
   },
   "outputs": [],
   "source": [
    "#why both? do I see which variables are excluded by lasso in this case?\n",
    "#Accuracy of Ridge is slightly better"
   ]
  },
  {
   "cell_type": "markdown",
   "metadata": {
    "id": "jtmh97DJehBE"
   },
   "source": [
    "## Ridge"
   ]
  },
  {
   "cell_type": "code",
   "execution_count": null,
   "metadata": {
    "colab": {
     "base_uri": "https://localhost:8080/",
     "height": 253
    },
    "id": "WfLl4xLVMor5",
    "outputId": "b2844e12-2a43-4bfe-ef79-4acd4a1c55a9"
   },
   "outputs": [],
   "source": [
    "#with alpha from lasso\n",
    "\n",
    "#TO DO there is also a ridge cv function that should be used for alpha here\n",
    "ridge = linear_model.Ridge(alpha = lasso_cv.alpha_, normalize = True) #https://scikit-learn.org/stable/modules/generated/sklearn.linear_model.Ridge.html\n",
    "ridge_model = ridge.fit(X_train, y_train) #that's with alpha=1.0\n",
    "\n",
    "ridge_predict = ridge_model.predict(X_test)\n",
    "ridge_mse = metrics.mean_squared_error(y_test, ridge_predict)\n",
    "ridge_mse "
   ]
  },
  {
   "cell_type": "code",
   "execution_count": null,
   "metadata": {
    "id": "v1X0BSlyLtmV"
   },
   "outputs": [],
   "source": [
    "#ridge scheint nur mit einem alpha zu gehen und nicht mit alphas?"
   ]
  },
  {
   "cell_type": "code",
   "execution_count": null,
   "metadata": {
    "colab": {
     "base_uri": "https://localhost:8080/"
    },
    "id": "CD4jl_rfGBKM",
    "outputId": "a3a49fc7-0b52-431b-d3c4-9d0c74135c33"
   },
   "outputs": [],
   "source": [
    "Ridge_MAPE = MAPE(y_test,ridge_predict)\n",
    "print(\"MAPE value: \",Ridge_MAPE)\n",
    "Accuracy = 100 - Ridge_MAPE\n",
    "print('Accuracy of Ridge Regression: {:0.2f}%.'.format(Accuracy))\n",
    "\n",
    "#source: https://www.askpython.com/python/examples/ridge-regression\n",
    "#also interesting source: https://www.statology.org/ridge-regression-in-python/"
   ]
  },
  {
   "cell_type": "code",
   "execution_count": null,
   "metadata": {
    "colab": {
     "base_uri": "https://localhost:8080/"
    },
    "id": "2IBzf_B-DjLq",
    "outputId": "08d9eb30-7f43-4249-c65d-b1d10dc1b8f0"
   },
   "outputs": [],
   "source": [
    "'''clf = DecisionTreeClassifier(random_state=42)\n",
    "\n",
    "k_folds = KFold(n_splits = 5)\n",
    "\n",
    "scores = cross_val_score(clf, X_test, y_test, cv = k_folds)\n",
    "\n",
    "print(\"Cross Validation Scores: \", scores)\n",
    "print(\"Average CV Score: \", scores.mean())\n",
    "print(\"Number of CV Scores used in Average: \", len(scores))\n",
    "\n",
    "#source: https://www.w3schools.com/python/python_ml_cross_validation.asp'''"
   ]
  },
  {
   "cell_type": "markdown",
   "metadata": {
    "id": "HLfwLdb5Ot7J"
   },
   "source": [
    "## Interpretation of MSE\n",
    "\n",
    "Advantages of using MSE\n",
    "*  Easy to calculate in Python\n",
    "*  Simple to understand calculation for end users\n",
    "*  Designed to punish large errors\n",
    "\n",
    "Disadvantages of using MSE\n",
    "*  Error value not given in terms of the target\n",
    "*  Difficult to interpret\n",
    "*  Not comparable across use cases\n",
    "\n",
    "What is a good MSE value?\n",
    "The closer your MSE value is to 0, the more accurate your model is. However, there is no 'good' value for MSE. It is an absolute value which is unique to each dataset and can only be used to say whether the model has become more or less accurate than a previous run.\n",
    "\n",
    "Can MSE be used to compare models?\n",
    "MSE cannot be used to compare different models from different datasets as it’s an absolute value that is only relevant to that given dataset. If you need to compare models across different datasets then it would be best to use percentage metrics such as MAPE.\n",
    "\n",
    "source: https://stephenallwright.com/good-mse-value/"
   ]
  },
  {
   "cell_type": "markdown",
   "metadata": {
    "id": "oyJF5b7nPX6N"
   },
   "source": [
    "## Interpretation of MAPE\n",
    "\n",
    "MAPE (Mean Absolute Percentage Error) is a common regression machine learning metric, but it can be confusing to know what a good score actually is. In this post, I explain what MAPE is, what a good score is, and answer some common questions that people have.\n",
    "\n",
    "What is MAPE?\n",
    "Mean Absolute Percentage Error (MAPE) is the mean of all absolute percentage errors between the predicted and actual values.\n",
    "\n",
    "It is a popular metric to use as it returns the error as a percentage, making it both easy for end users to understand and simple to compare model accuracy across use cases and datasets.\n",
    "\n",
    "Positives of using MAPE as a metric\n",
    "*  Easy for end users to understand as the error is a percentage\n",
    "*  Possible to compare model accuracy across datasets and use cases\n",
    "*  Easily implemented in Python\n",
    "\n",
    "Negatives of using MAPE as a metric\n",
    "*  Not possible to use when actual values can be at or close to zero\n",
    "\n",
    "When to use MAPE?\n",
    "MAPE should be used when either communicating results to end users is important or when you need to be able to compare your results with other models. It shouldn’t be used when you have actual values that are close to or at zero due to the division by zero error.\n",
    "\n",
    "source: https://stephenallwright.com/good-mape-score/"
   ]
  },
  {
   "cell_type": "markdown",
   "metadata": {
    "id": "eeC2UCLOxeCq"
   },
   "source": [
    "# Reproduce COMPAS analysis"
   ]
  },
  {
   "cell_type": "markdown",
   "metadata": {
    "id": "Q3oM_Mlve0xV"
   },
   "source": [
    "*   Distribution of COMPAS score among whtites and blacks (plot) & compare with Distribution of real recidivism among whites and blacks (plot)\n",
    "*   Most predictive factors in logistic model (with controlling for other factors) for score\n",
    "\n",
    "Application of Survival Function (It looks at Time to event (in this case 2 years):\n",
    "\n",
    "*   Cox proportional hazard model (https://towardsdatascience.com/the-cox-proportional-hazards-model-35e60e554d8f) \n",
    "·\tCoefficients\n",
    "·\tInteraction term\n",
    "·\tContigency table (FP / FN rates) among all, whites and blacks\n",
    "\n",
    "*   Kaplan Meier survival plot „shows the probability of an event at a respective time interval“ (https://www.mygreatlearning.com/blog/kaplan-meier-curve-explained/)\n",
    "\n"
   ]
  },
  {
   "cell_type": "code",
   "execution_count": 19,
   "metadata": {
    "id": "1qKttRZNxibU"
   },
   "outputs": [],
   "source": [
    "df_binary = df.loc[df['race'].isin([\"African-American\",\"Caucasian\"])]"
   ]
  },
  {
   "cell_type": "code",
   "execution_count": null,
   "metadata": {
    "colab": {
     "base_uri": "https://localhost:8080/",
     "height": 366
    },
    "id": "xrz7uSqAgrNl",
    "outputId": "c486857a-3992-4fbb-a078-3a7abb90a2d4"
   },
   "outputs": [],
   "source": [
    "df_binary.head()"
   ]
  },
  {
   "cell_type": "markdown",
   "metadata": {
    "id": "em36XsXNmYZy"
   },
   "source": [
    "### Distribution of COMPAS score among whtites and blacks (plot) & compare with Distribution of real recidivism among whites and blacks (plot)"
   ]
  },
  {
   "cell_type": "code",
   "execution_count": null,
   "metadata": {
    "id": "XQhrk-b3kQEN"
   },
   "outputs": [],
   "source": [
    "#calculate the total and proportions of decile scores in each race group\n",
    "decile_score_by_race_prop= df_binary.groupby(['race', 'decile_score']).agg({'decile_score': 'count'})\n",
    "decile_score_by_race_prop['prop'] = decile_score_by_race_prop.groupby(level = 0).apply(lambda x:100 * x / float(x.sum()))"
   ]
  },
  {
   "cell_type": "code",
   "execution_count": null,
   "metadata": {
    "id": "vpM6etORkpw8"
   },
   "outputs": [],
   "source": [
    "is_recid_by_race_prop= df_binary.groupby(['race', 'is_recid']).agg({'decile_score': 'count'})\n",
    "is_recid_by_race_prop['prop'] = is_recid_by_race_prop.groupby(level = 0).apply(lambda x:100 * x / float(x.sum()))"
   ]
  },
  {
   "cell_type": "code",
   "execution_count": null,
   "metadata": {
    "colab": {
     "base_uri": "https://localhost:8080/",
     "height": 312
    },
    "id": "LBoZMxSCgyRg",
    "outputId": "ddd91e75-6882-41a8-f6b9-05160f66ed84"
   },
   "outputs": [],
   "source": [
    "sns.countplot(\n",
    "    data = df_binary,\n",
    "    x = 'decile_score',\n",
    "    hue = 'race',\n",
    "    palette = [\"#F97306\",\"#0343DF\",\"#00FF00\"]\n",
    ")\n",
    "plt.title('Distribution of Decile Scores by Race')\n",
    "plt.xlabel('Decile Score')\n",
    "plt.ylabel('Count')"
   ]
  },
  {
   "cell_type": "code",
   "execution_count": null,
   "metadata": {
    "colab": {
     "base_uri": "https://localhost:8080/",
     "height": 312
    },
    "id": "PbmUL6ixlCVo",
    "outputId": "4490a2fc-7e6e-49f1-aa15-d41ebc7e63b7"
   },
   "outputs": [],
   "source": [
    "sns.countplot(\n",
    "    data = df_binary,\n",
    "    x = 'is_recid',\n",
    "    hue = 'race',\n",
    "    palette = [\"#F97306\",\"#0343DF\",\"#00FF00\"]\n",
    ")\n",
    "plt.title('Distribution of recidivism by Race')\n",
    "plt.xlabel('Recidivism')\n",
    "plt.ylabel('Count')"
   ]
  },
  {
   "cell_type": "markdown",
   "metadata": {
    "id": "Lb-QwPcbmiQZ"
   },
   "source": [
    "### Most predictive factors in logistic model (with controlling for other factors) for score"
   ]
  },
  {
   "cell_type": "code",
   "execution_count": 7,
   "metadata": {
    "id": "_Xwes0c7wzQ3"
   },
   "outputs": [],
   "source": [
    "#medium and high are high, low stays low\n",
    "\n",
    "df['score_text_binary'] = df['score_text'].replace(['Medium'], 'High')"
   ]
  },
  {
   "cell_type": "code",
   "execution_count": 8,
   "metadata": {
    "id": "ohbmQUcEw3EZ"
   },
   "outputs": [],
   "source": [
    "#make numbers\n",
    "df['score_text_binary']= df['score_text_binary'].replace(['High'], 1)\n",
    "df['score_text_binary']= df['score_text_binary'].replace(['Low'], 0)"
   ]
  },
  {
   "cell_type": "code",
   "execution_count": null,
   "metadata": {
    "colab": {
     "base_uri": "https://localhost:8080/"
    },
    "id": "olbgR2rc1f2N",
    "outputId": "906c09ea-47e0-49d9-f047-a96fe2d7bdd4"
   },
   "outputs": [],
   "source": [
    "#First logistic regression\n",
    "est = smf.logit('score_text_binary ~ C(age_cat) + C(race) + C(sex) + priors_count + C(c_charge_degree) + two_year_recid', df).fit()\n",
    "print(est.summary())"
   ]
  },
  {
   "cell_type": "code",
   "execution_count": null,
   "metadata": {
    "colab": {
     "base_uri": "https://localhost:8080/",
     "height": 268
    },
    "id": "DbwGpWUiy_EU",
    "outputId": "74e89fcd-486c-4ca8-c4d2-bc0bd7b40d71"
   },
   "outputs": [],
   "source": [
    "#releveling to get the intercept we want\n",
    "X = pd.concat(\n",
    "    [pd.get_dummies(df.age_cat, prefix='age'),\n",
    "     pd.get_dummies(df.sex, prefix='sex'),\n",
    "     pd.get_dummies(df.race, prefix='race'),\n",
    "     pd.get_dummies(df.c_charge_degree, prefix='c_charge_degree'),\n",
    "     df.priors_count, df.two_year_recid],\n",
    "    axis=1)\n",
    "X.head()\n"
   ]
  },
  {
   "cell_type": "code",
   "execution_count": null,
   "metadata": {
    "id": "HJY4BYlGAThb"
   },
   "outputs": [],
   "source": [
    "# drop one less dummy variable\n",
    "X.drop(['age_25 - 45', 'sex_Male', 'race_Caucasian'], axis=1, inplace=True)\n"
   ]
  },
  {
   "cell_type": "code",
   "execution_count": null,
   "metadata": {
    "id": "-fOEv47M-sBS"
   },
   "outputs": [],
   "source": [
    "y = df.score_text_binary"
   ]
  },
  {
   "cell_type": "code",
   "execution_count": null,
   "metadata": {
    "colab": {
     "base_uri": "https://localhost:8080/"
    },
    "id": "2Dsc7Ar7fwuP",
    "outputId": "bb5d6263-464d-48c0-bb27-18ee9ba65b51"
   },
   "outputs": [],
   "source": [
    "#rearranging the columns:\n",
    "cols = X.columns.tolist()\n",
    "cols"
   ]
  },
  {
   "cell_type": "code",
   "execution_count": null,
   "metadata": {
    "colab": {
     "base_uri": "https://localhost:8080/"
    },
    "id": "IS1pLVsZhV81",
    "outputId": "43ef3629-74c5-4b4e-ccb6-3f1d0ac233cd"
   },
   "outputs": [],
   "source": [
    "skl_lm.LogisticRegression()"
   ]
  },
  {
   "cell_type": "code",
   "execution_count": null,
   "metadata": {
    "colab": {
     "base_uri": "https://localhost:8080/"
    },
    "id": "KwB0iTnAllVh",
    "outputId": "1b91282d-6caf-4290-ac27-706c5dcdb50e"
   },
   "outputs": [],
   "source": [
    "est2 = smf.logit('y ~ X', X).fit()\n",
    "print(est2.summary().tables[1]) "
   ]
  },
  {
   "cell_type": "code",
   "execution_count": null,
   "metadata": {
    "colab": {
     "base_uri": "https://localhost:8080/"
    },
    "id": "z4-JHDgrw7Dq",
    "outputId": "980e0123-c34a-4d27-b93c-60671dcf72b7"
   },
   "outputs": [],
   "source": [
    "#predict score text\n",
    "\n",
    "est = smf.logit('y ~ X', df).fit()\n",
    "print(est.summary().tables[1]) "
   ]
  },
  {
   "cell_type": "code",
   "execution_count": null,
   "metadata": {
    "id": "RydptChNGVLa"
   },
   "outputs": [],
   "source": [
    "X_train_log, X_test_log, y_train_log, y_test_log = model_selection.train_test_split(X, y,test_size = 0.3, random_state = 3)"
   ]
  },
  {
   "cell_type": "code",
   "execution_count": null,
   "metadata": {
    "colab": {
     "base_uri": "https://localhost:8080/"
    },
    "id": "GYzvRUVwF4QW",
    "outputId": "29362aaf-7b27-446b-a098-135f0c274ae3"
   },
   "outputs": [],
   "source": [
    "clf = skl_lm.LogisticRegression(solver='newton-cg')\n",
    "clf.fit(X_train_log,y_train_log)\n",
    "\n",
    "print('columnnames: ',clf.feature_names_in_)\n",
    "print('coefficients: ',clf.coef_)\n",
    "print('intercept :', clf.intercept_) #intercept matches somehow\n",
    "\n",
    "#why is it diffrent numbers than logit?"
   ]
  },
  {
   "cell_type": "code",
   "execution_count": null,
   "metadata": {
    "id": "Hv0-Rxcol5U_"
   },
   "outputs": [],
   "source": [
    "#TO DO remember that charge degree should go into the intercept\n",
    "# why are two columns with nan values in the logit regression (could be the charge degree)?"
   ]
  },
  {
   "cell_type": "markdown",
   "metadata": {
    "id": "KdQc_VjQJZsr"
   },
   "source": [
    "### Most predictive factors in logistic model (with controlling for other factors) for recidivism"
   ]
  },
  {
   "cell_type": "code",
   "execution_count": null,
   "metadata": {
    "id": "Z55e0O7cJ_yu"
   },
   "outputs": [],
   "source": [
    "X_recid = pd.concat(\n",
    "    [pd.get_dummies(df.age_cat, prefix='age'),\n",
    "     pd.get_dummies(df.sex, prefix='sex'),\n",
    "     pd.get_dummies(df.race, prefix='race'),\n",
    "     pd.get_dummies(df.c_charge_degree, prefix='c_charge_degree'),\n",
    "     df.priors_count],\n",
    "    axis=1)"
   ]
  },
  {
   "cell_type": "markdown",
   "metadata": {
    "id": "rf4YXgK3xjAm"
   },
   "source": [
    "# Reproduce Northpointe's rebuttal\n",
    "AUC Results in Sample A\n",
    "Sample A consists of pretrial defendants with complete case\n",
    "records who have at least two years of follow-up time. The PP authors use\n",
    "Sample A to fit reverse logistic regressions predicting the“Not Low”Risk Level.\n",
    "Subsets of Sample A are used for tests of the GRRS (n=6,172) and the VRRS\n",
    "(n=4,020). (p.4 and 16 Northpointe)"
   ]
  },
  {
   "cell_type": "code",
   "execution_count": null,
   "metadata": {
    "colab": {
     "base_uri": "https://localhost:8080/"
    },
    "id": "oJ3spczfvtTr",
    "outputId": "681726db-d7a3-4467-a711-813bc8f5a91b"
   },
   "outputs": [],
   "source": [
    "# Convert categorical features to numeric levels\n",
    "'''for feature in df.columns:\n",
    "    if df[feature].dtype==\"object\":\n",
    "      #print(feature)\n",
    "      le = LabelEncoder()\n",
    "      le.fit(df.columns)\n",
    "      df[feature] = le.fit_transform(df[feature].astype(str)) #le.fit_transform(df_train[feature].astype(str))\n",
    "\n",
    "print(df.head())'''"
   ]
  },
  {
   "cell_type": "code",
   "execution_count": null,
   "metadata": {
    "id": "l7e79sTUvt-2"
   },
   "outputs": [],
   "source": [
    "'''X2= df[['age_cat','race', 'sex', 'priors_count','c_charge_degree', 'two_year_recid']]\n",
    "X_train2, X_test2, y_train2, y_test2 = model_selection.train_test_split(X2, y, test_size = 0.3, random_state = 3)'''"
   ]
  },
  {
   "cell_type": "code",
   "execution_count": null,
   "metadata": {
    "colab": {
     "base_uri": "https://localhost:8080/",
     "height": 312
    },
    "id": "GEf9I-tbxjuv",
    "outputId": "7650a285-e622-4535-9b8b-73184d5d7f02"
   },
   "outputs": [],
   "source": [
    "'''clf2 = skl_lm.LogisticRegression(solver='newton-cg')\n",
    "clf2.fit(X_train2,y_train2)\n",
    "\n",
    "y_pred2 = clf.predict_proba(X_test2) \n",
    "y_pred_prob2 = y_pred2[:,1]\n",
    "\n",
    "\n",
    "#ROC\n",
    "fpr, tpr, thresholds = roc_curve(y_test2, y_pred_prob2)\n",
    "plt.plot([0, 1], [0, 1], 'k--')\n",
    "plt.plot(fpr, tpr, label='Logistic Regression')\n",
    "plt.xlabel('False Positive Rate')\n",
    "plt.ylabel('True Positive Rate')\n",
    "plt.title('Logistic Regression ROC Curve')\n",
    "plt.show();\n",
    "\n",
    "#AUC\n",
    "print('The total AUC is ', roc_auc_score(y_test2, y_pred_prob2))'''"
   ]
  },
  {
   "cell_type": "code",
   "execution_count": null,
   "metadata": {
    "colab": {
     "base_uri": "https://localhost:8080/",
     "height": 312
    },
    "id": "8pby16o3x8VE",
    "outputId": "67a9026d-31fb-450a-b0d1-3aad8f07ccad"
   },
   "outputs": [],
   "source": [
    "'''y_pred = clf.predict_proba(X_test_log) \n",
    "y_pred_prob = y_pred[:,1]\n",
    "\n",
    "#ROC\n",
    "fpr, tpr, thresholds = roc_curve(y_test_log, y_pred_prob)\n",
    "plt.plot([0, 1], [0, 1], 'k--')\n",
    "plt.plot(fpr, tpr, label='Logistic Regression')\n",
    "plt.xlabel('False Positive Rate')\n",
    "plt.ylabel('True Positive Rate')\n",
    "plt.title('Logistic Regression ROC Curve')\n",
    "plt.show();\n",
    "\n",
    "#AUC\n",
    "print('The total AUC is ', roc_auc_score(y_test_log, y_pred_prob))'''"
   ]
  },
  {
   "cell_type": "markdown",
   "metadata": {
    "id": "YWMPT6mJ-A-Q"
   },
   "source": [
    "##AUC for multiclass taking the idea from https://allendowney.github.io/RecidivismCaseStudy/02_calibration.html"
   ]
  },
  {
   "cell_type": "code",
   "execution_count": 9,
   "metadata": {
    "id": "xrQ81tsS-AUF"
   },
   "outputs": [],
   "source": [
    "from os.path import basename, exists\n",
    "\n",
    "def download(url):\n",
    "    filename = basename(url)\n",
    "    if not exists(filename):\n",
    "        from urllib.request import urlretrieve\n",
    "        local, _ = urlretrieve(url, filename)\n",
    "        print('Downloaded ' + local)\n"
   ]
  },
  {
   "cell_type": "code",
   "execution_count": 10,
   "metadata": {
    "colab": {
     "base_uri": "https://localhost:8080/"
    },
    "id": "P4IV9Z6q-qRV",
    "outputId": "551c97c6-9dfd-4cb6-db5a-311b61bcbd63"
   },
   "outputs": [
    {
     "name": "stdout",
     "output_type": "stream",
     "text": [
      "Downloaded utils.py\n"
     ]
    }
   ],
   "source": [
    "download('https://raw.githubusercontent.com/AllenDowney/RecidivismCaseStudy/' +\n",
    "         'master/utils.py')"
   ]
  },
  {
   "cell_type": "code",
   "execution_count": 11,
   "metadata": {
    "id": "Zuk4e3ie-x35"
   },
   "outputs": [],
   "source": [
    "from utils import decorate\n",
    "from utils import make_matrix\n",
    "from utils import compute_metrics\n",
    "from utils import error_rates"
   ]
  },
  {
   "cell_type": "code",
   "execution_count": 12,
   "metadata": {
    "id": "4Mck5MP3BUio"
   },
   "outputs": [],
   "source": [
    "def calibration_curve(df):\n",
    "    \"\"\"Fraction in each risk group charged with another crime.\n",
    "    \n",
    "    df: DataFrame\n",
    "    \n",
    "    returns: Series\n",
    "    \"\"\"\n",
    "    grouped = df.groupby('decile_score')\n",
    "    return grouped['two_year_recid'].mean()"
   ]
  },
  {
   "cell_type": "code",
   "execution_count": 13,
   "metadata": {
    "colab": {
     "base_uri": "https://localhost:8080/",
     "height": 297
    },
    "id": "PhWAp0VdBWfJ",
    "outputId": "05f2a4fa-dcd6-4c0d-8a03-6e51744f52fb"
   },
   "outputs": [
    {
     "data": {
      "image/png": "[encoded data removed]",
      "text/plain": [
       "<Figure size 432x288 with 1 Axes>"
      ]
     },
     "metadata": {
      "needs_background": "light"
     },
     "output_type": "display_data"
    }
   ],
   "source": [
    "#Washinton post!!!\n",
    "cal_all = calibration_curve(raw_data)\n",
    "cal_all.plot(linestyle='dotted', \n",
    "              color='gray',\n",
    "              label='All defendants')\n",
    "\n",
    "white = (raw_data['race'] == 'Caucasian')\n",
    "cal_white = calibration_curve(raw_data[white])\n",
    "cal_white.plot(label='White')\n",
    "\n",
    "black = (raw_data['race'] == 'African-American')\n",
    "cal_black = calibration_curve(raw_data[black])\n",
    "cal_black.plot(label='Black')\n",
    "\n",
    "decorate(xlabel='Risk score',\n",
    "         ylabel='Fraction charged with new crime',\n",
    "         title='Recivism vs risk score, grouped by race')"
   ]
  },
  {
   "cell_type": "markdown",
   "metadata": {
    "id": "_U83VJWS-6jc"
   },
   "source": [
    "###Matrices and Metrics"
   ]
  },
  {
   "cell_type": "code",
   "execution_count": null,
   "metadata": {
    "colab": {
     "base_uri": "https://localhost:8080/",
     "height": 143
    },
    "id": "EEqQ0rGe-7fk",
    "outputId": "80628eef-c812-4717-df8e-4636483ecc1c"
   },
   "outputs": [],
   "source": [
    "matrix_white = make_matrix(raw_data[white])\n",
    "matrix_white"
   ]
  },
  {
   "cell_type": "code",
   "execution_count": null,
   "metadata": {
    "colab": {
     "base_uri": "https://localhost:8080/",
     "height": 143
    },
    "id": "xxg4ulhLB2EW",
    "outputId": "f48bf79f-91e9-44c8-b228-c7231769a1e1"
   },
   "outputs": [],
   "source": [
    "matrix_black = make_matrix(raw_data[black])\n",
    "matrix_black"
   ]
  },
  {
   "cell_type": "code",
   "execution_count": null,
   "metadata": {
    "colab": {
     "base_uri": "https://localhost:8080/",
     "height": 238
    },
    "id": "E20zj1D-B8Ic",
    "outputId": "922be99a-6145-4952-8912-1522d28550e5"
   },
   "outputs": [],
   "source": [
    "metrics_white = compute_metrics(matrix_white, \n",
    "                                'White defendants')\n",
    "metrics_white"
   ]
  },
  {
   "cell_type": "code",
   "execution_count": null,
   "metadata": {
    "colab": {
     "base_uri": "https://localhost:8080/",
     "height": 238
    },
    "id": "YuXSbEuZB-AY",
    "outputId": "5761db2c-ca38-41cc-d01e-ab5083f8c811"
   },
   "outputs": [],
   "source": [
    "metrics_black = compute_metrics(matrix_black, \n",
    "                                'Black defendants')\n",
    "metrics_black"
   ]
  },
  {
   "cell_type": "markdown",
   "metadata": {
    "id": "lwlLDL5-CIKn"
   },
   "source": [
    "###What Would It Take?\n",
    "Suppose we want to fix COMPAS so that predictive values are the same for black and white defendants. We could do that by using different thresholds for the two groups.\n",
    "\n",
    "In this section, we’ll figure out what it would take to re-calibrate COMPAS; then we’ll see what effect that would have on predictive values."
   ]
  },
  {
   "cell_type": "code",
   "execution_count": null,
   "metadata": {
    "id": "TB6PDUXGCEmP"
   },
   "outputs": [],
   "source": [
    "def sweep_threshold(cp):\n",
    "    \"\"\"Sweep a range of threshold and compute accuracy metrics.\n",
    "    \n",
    "    cp: DataFrame of COMPAS data\n",
    "    \n",
    "    returns: DataFrame with one row for each threshold and\n",
    "             one column for each metric\n",
    "    \"\"\"\n",
    "    index = range(0, 11)\n",
    "    columns = ['FPR', 'FNR', 'PPV', 'NPV', 'Prevalence']\n",
    "    table = pd.DataFrame(index=index, columns=columns, dtype=float) \n",
    "\n",
    "    for threshold in index:\n",
    "        m = make_matrix(cp, threshold)\n",
    "        metrics = compute_metrics(m)\n",
    "        table.loc[threshold] = metrics['Percent']\n",
    "        \n",
    "    return table"
   ]
  },
  {
   "cell_type": "markdown",
   "metadata": {
    "id": "zBIYxHh9750A"
   },
   "source": [
    "# Reproduce Washington Post 1 analysis"
   ]
  },
  {
   "cell_type": "code",
   "execution_count": 14,
   "metadata": {
    "id": "Qd6cIvvv75FE"
   },
   "outputs": [],
   "source": [
    "import plotly.express as px"
   ]
  },
  {
   "cell_type": "code",
   "execution_count": 52,
   "metadata": {},
   "outputs": [
    {
     "data": {
      "text/html": [
       "<div>\n",
       "<style scoped>\n",
       "    .dataframe tbody tr th:only-of-type {\n",
       "        vertical-align: middle;\n",
       "    }\n",
       "\n",
       "    .dataframe tbody tr th {\n",
       "        vertical-align: top;\n",
       "    }\n",
       "\n",
       "    .dataframe thead th {\n",
       "        text-align: right;\n",
       "    }\n",
       "</style>\n",
       "<table border=\"1\" class=\"dataframe\">\n",
       "  <thead>\n",
       "    <tr style=\"text-align: right;\">\n",
       "      <th></th>\n",
       "      <th>id</th>\n",
       "      <th>name</th>\n",
       "      <th>first</th>\n",
       "      <th>last</th>\n",
       "      <th>compas_screening_date</th>\n",
       "      <th>sex</th>\n",
       "      <th>dob</th>\n",
       "      <th>age</th>\n",
       "      <th>age_cat</th>\n",
       "      <th>race</th>\n",
       "      <th>...</th>\n",
       "      <th>v_decile_score</th>\n",
       "      <th>v_score_text</th>\n",
       "      <th>v_screening_date</th>\n",
       "      <th>in_custody</th>\n",
       "      <th>out_custody</th>\n",
       "      <th>priors_count.1</th>\n",
       "      <th>start</th>\n",
       "      <th>end</th>\n",
       "      <th>event</th>\n",
       "      <th>two_year_recid</th>\n",
       "    </tr>\n",
       "  </thead>\n",
       "  <tbody>\n",
       "    <tr>\n",
       "      <th>1</th>\n",
       "      <td>3</td>\n",
       "      <td>kevon dixon</td>\n",
       "      <td>kevon</td>\n",
       "      <td>dixon</td>\n",
       "      <td>2013-01-27</td>\n",
       "      <td>Male</td>\n",
       "      <td>1982-01-22</td>\n",
       "      <td>34</td>\n",
       "      <td>25 - 45</td>\n",
       "      <td>African-American</td>\n",
       "      <td>...</td>\n",
       "      <td>1</td>\n",
       "      <td>Low</td>\n",
       "      <td>2013-01-27</td>\n",
       "      <td>2013-01-26</td>\n",
       "      <td>2013-02-05</td>\n",
       "      <td>0</td>\n",
       "      <td>9</td>\n",
       "      <td>159</td>\n",
       "      <td>1</td>\n",
       "      <td>1</td>\n",
       "    </tr>\n",
       "    <tr>\n",
       "      <th>2</th>\n",
       "      <td>4</td>\n",
       "      <td>ed philo</td>\n",
       "      <td>ed</td>\n",
       "      <td>philo</td>\n",
       "      <td>2013-04-14</td>\n",
       "      <td>Male</td>\n",
       "      <td>1991-05-14</td>\n",
       "      <td>24</td>\n",
       "      <td>Less than 25</td>\n",
       "      <td>African-American</td>\n",
       "      <td>...</td>\n",
       "      <td>3</td>\n",
       "      <td>Low</td>\n",
       "      <td>2013-04-14</td>\n",
       "      <td>2013-06-16</td>\n",
       "      <td>2013-06-16</td>\n",
       "      <td>4</td>\n",
       "      <td>0</td>\n",
       "      <td>63</td>\n",
       "      <td>0</td>\n",
       "      <td>1</td>\n",
       "    </tr>\n",
       "    <tr>\n",
       "      <th>3</th>\n",
       "      <td>5</td>\n",
       "      <td>marcu brown</td>\n",
       "      <td>marcu</td>\n",
       "      <td>brown</td>\n",
       "      <td>2013-01-13</td>\n",
       "      <td>Male</td>\n",
       "      <td>1993-01-21</td>\n",
       "      <td>23</td>\n",
       "      <td>Less than 25</td>\n",
       "      <td>African-American</td>\n",
       "      <td>...</td>\n",
       "      <td>6</td>\n",
       "      <td>Medium</td>\n",
       "      <td>2013-01-13</td>\n",
       "      <td>NaN</td>\n",
       "      <td>NaN</td>\n",
       "      <td>1</td>\n",
       "      <td>0</td>\n",
       "      <td>1174</td>\n",
       "      <td>0</td>\n",
       "      <td>0</td>\n",
       "    </tr>\n",
       "    <tr>\n",
       "      <th>11</th>\n",
       "      <td>15</td>\n",
       "      <td>ellyaher lanza</td>\n",
       "      <td>ellyaher</td>\n",
       "      <td>lanza</td>\n",
       "      <td>2013-10-03</td>\n",
       "      <td>Male</td>\n",
       "      <td>1992-08-18</td>\n",
       "      <td>23</td>\n",
       "      <td>Less than 25</td>\n",
       "      <td>African-American</td>\n",
       "      <td>...</td>\n",
       "      <td>4</td>\n",
       "      <td>Low</td>\n",
       "      <td>2013-10-03</td>\n",
       "      <td>2013-10-03</td>\n",
       "      <td>2013-10-07</td>\n",
       "      <td>3</td>\n",
       "      <td>4</td>\n",
       "      <td>128</td>\n",
       "      <td>1</td>\n",
       "      <td>1</td>\n",
       "    </tr>\n",
       "    <tr>\n",
       "      <th>13</th>\n",
       "      <td>18</td>\n",
       "      <td>jarrod turbe</td>\n",
       "      <td>jarrod</td>\n",
       "      <td>turbe</td>\n",
       "      <td>2013-10-09</td>\n",
       "      <td>Male</td>\n",
       "      <td>1974-12-02</td>\n",
       "      <td>41</td>\n",
       "      <td>25 - 45</td>\n",
       "      <td>African-American</td>\n",
       "      <td>...</td>\n",
       "      <td>2</td>\n",
       "      <td>Low</td>\n",
       "      <td>2013-10-09</td>\n",
       "      <td>2013-10-08</td>\n",
       "      <td>2013-10-09</td>\n",
       "      <td>0</td>\n",
       "      <td>0</td>\n",
       "      <td>905</td>\n",
       "      <td>0</td>\n",
       "      <td>0</td>\n",
       "    </tr>\n",
       "  </tbody>\n",
       "</table>\n",
       "<p>5 rows × 53 columns</p>\n",
       "</div>"
      ],
      "text/plain": [
       "    id            name     first   last compas_screening_date   sex  \\\n",
       "1    3     kevon dixon     kevon  dixon            2013-01-27  Male   \n",
       "2    4        ed philo        ed  philo            2013-04-14  Male   \n",
       "3    5     marcu brown     marcu  brown            2013-01-13  Male   \n",
       "11  15  ellyaher lanza  ellyaher  lanza            2013-10-03  Male   \n",
       "13  18    jarrod turbe    jarrod  turbe            2013-10-09  Male   \n",
       "\n",
       "           dob  age       age_cat              race  ...  v_decile_score  \\\n",
       "1   1982-01-22   34       25 - 45  African-American  ...               1   \n",
       "2   1991-05-14   24  Less than 25  African-American  ...               3   \n",
       "3   1993-01-21   23  Less than 25  African-American  ...               6   \n",
       "11  1992-08-18   23  Less than 25  African-American  ...               4   \n",
       "13  1974-12-02   41       25 - 45  African-American  ...               2   \n",
       "\n",
       "    v_score_text  v_screening_date  in_custody  out_custody  priors_count.1  \\\n",
       "1            Low        2013-01-27  2013-01-26   2013-02-05               0   \n",
       "2            Low        2013-04-14  2013-06-16   2013-06-16               4   \n",
       "3         Medium        2013-01-13         NaN          NaN               1   \n",
       "11           Low        2013-10-03  2013-10-03   2013-10-07               3   \n",
       "13           Low        2013-10-09  2013-10-08   2013-10-09               0   \n",
       "\n",
       "   start   end event two_year_recid  \n",
       "1      9   159     1              1  \n",
       "2      0    63     0              1  \n",
       "3      0  1174     0              0  \n",
       "11     4   128     1              1  \n",
       "13     0   905     0              0  \n",
       "\n",
       "[5 rows x 53 columns]"
      ]
     },
     "execution_count": 52,
     "metadata": {},
     "output_type": "execute_result"
    }
   ],
   "source": [
    "df_black = raw_data.loc[raw_data['race'].isin([\"African-American\"])]\n",
    "df_black.head()"
   ]
  },
  {
   "cell_type": "code",
   "execution_count": 53,
   "metadata": {},
   "outputs": [
    {
     "data": {
      "text/html": [
       "<div>\n",
       "<style scoped>\n",
       "    .dataframe tbody tr th:only-of-type {\n",
       "        vertical-align: middle;\n",
       "    }\n",
       "\n",
       "    .dataframe tbody tr th {\n",
       "        vertical-align: top;\n",
       "    }\n",
       "\n",
       "    .dataframe thead th {\n",
       "        text-align: right;\n",
       "    }\n",
       "</style>\n",
       "<table border=\"1\" class=\"dataframe\">\n",
       "  <thead>\n",
       "    <tr style=\"text-align: right;\">\n",
       "      <th></th>\n",
       "      <th>id</th>\n",
       "      <th>name</th>\n",
       "      <th>first</th>\n",
       "      <th>last</th>\n",
       "      <th>compas_screening_date</th>\n",
       "      <th>sex</th>\n",
       "      <th>dob</th>\n",
       "      <th>age</th>\n",
       "      <th>age_cat</th>\n",
       "      <th>race</th>\n",
       "      <th>...</th>\n",
       "      <th>v_decile_score</th>\n",
       "      <th>v_score_text</th>\n",
       "      <th>v_screening_date</th>\n",
       "      <th>in_custody</th>\n",
       "      <th>out_custody</th>\n",
       "      <th>priors_count.1</th>\n",
       "      <th>start</th>\n",
       "      <th>end</th>\n",
       "      <th>event</th>\n",
       "      <th>two_year_recid</th>\n",
       "    </tr>\n",
       "  </thead>\n",
       "  <tbody>\n",
       "    <tr>\n",
       "      <th>6</th>\n",
       "      <td>8</td>\n",
       "      <td>edward riddle</td>\n",
       "      <td>edward</td>\n",
       "      <td>riddle</td>\n",
       "      <td>2014-02-19</td>\n",
       "      <td>Male</td>\n",
       "      <td>1974-07-23</td>\n",
       "      <td>41</td>\n",
       "      <td>25 - 45</td>\n",
       "      <td>Caucasian</td>\n",
       "      <td>...</td>\n",
       "      <td>2</td>\n",
       "      <td>Low</td>\n",
       "      <td>2014-02-19</td>\n",
       "      <td>2014-03-31</td>\n",
       "      <td>2014-04-18</td>\n",
       "      <td>14</td>\n",
       "      <td>5</td>\n",
       "      <td>40</td>\n",
       "      <td>1</td>\n",
       "      <td>1</td>\n",
       "    </tr>\n",
       "    <tr>\n",
       "      <th>8</th>\n",
       "      <td>10</td>\n",
       "      <td>elizabeth thieme</td>\n",
       "      <td>elizabeth</td>\n",
       "      <td>thieme</td>\n",
       "      <td>2014-03-16</td>\n",
       "      <td>Female</td>\n",
       "      <td>1976-06-03</td>\n",
       "      <td>39</td>\n",
       "      <td>25 - 45</td>\n",
       "      <td>Caucasian</td>\n",
       "      <td>...</td>\n",
       "      <td>1</td>\n",
       "      <td>Low</td>\n",
       "      <td>2014-03-16</td>\n",
       "      <td>2014-03-15</td>\n",
       "      <td>2014-03-18</td>\n",
       "      <td>0</td>\n",
       "      <td>2</td>\n",
       "      <td>747</td>\n",
       "      <td>0</td>\n",
       "      <td>0</td>\n",
       "    </tr>\n",
       "    <tr>\n",
       "      <th>9</th>\n",
       "      <td>13</td>\n",
       "      <td>bo bradac</td>\n",
       "      <td>bo</td>\n",
       "      <td>bradac</td>\n",
       "      <td>2013-11-04</td>\n",
       "      <td>Male</td>\n",
       "      <td>1994-06-10</td>\n",
       "      <td>21</td>\n",
       "      <td>Less than 25</td>\n",
       "      <td>Caucasian</td>\n",
       "      <td>...</td>\n",
       "      <td>5</td>\n",
       "      <td>Medium</td>\n",
       "      <td>2013-11-04</td>\n",
       "      <td>2015-01-06</td>\n",
       "      <td>2015-01-07</td>\n",
       "      <td>1</td>\n",
       "      <td>0</td>\n",
       "      <td>428</td>\n",
       "      <td>1</td>\n",
       "      <td>1</td>\n",
       "    </tr>\n",
       "    <tr>\n",
       "      <th>10</th>\n",
       "      <td>14</td>\n",
       "      <td>benjamin franc</td>\n",
       "      <td>benjamin</td>\n",
       "      <td>franc</td>\n",
       "      <td>2013-11-26</td>\n",
       "      <td>Male</td>\n",
       "      <td>1988-06-01</td>\n",
       "      <td>27</td>\n",
       "      <td>25 - 45</td>\n",
       "      <td>Caucasian</td>\n",
       "      <td>...</td>\n",
       "      <td>4</td>\n",
       "      <td>Low</td>\n",
       "      <td>2013-11-26</td>\n",
       "      <td>2013-11-25</td>\n",
       "      <td>2013-11-26</td>\n",
       "      <td>0</td>\n",
       "      <td>0</td>\n",
       "      <td>857</td>\n",
       "      <td>0</td>\n",
       "      <td>0</td>\n",
       "    </tr>\n",
       "    <tr>\n",
       "      <th>12</th>\n",
       "      <td>16</td>\n",
       "      <td>kortney coleman</td>\n",
       "      <td>kortney</td>\n",
       "      <td>coleman</td>\n",
       "      <td>2013-01-01</td>\n",
       "      <td>Female</td>\n",
       "      <td>1978-08-22</td>\n",
       "      <td>37</td>\n",
       "      <td>25 - 45</td>\n",
       "      <td>Caucasian</td>\n",
       "      <td>...</td>\n",
       "      <td>1</td>\n",
       "      <td>Low</td>\n",
       "      <td>2013-01-01</td>\n",
       "      <td>2013-01-01</td>\n",
       "      <td>2013-01-02</td>\n",
       "      <td>0</td>\n",
       "      <td>1</td>\n",
       "      <td>1186</td>\n",
       "      <td>0</td>\n",
       "      <td>0</td>\n",
       "    </tr>\n",
       "  </tbody>\n",
       "</table>\n",
       "<p>5 rows × 53 columns</p>\n",
       "</div>"
      ],
      "text/plain": [
       "    id              name      first     last compas_screening_date     sex  \\\n",
       "6    8     edward riddle     edward   riddle            2014-02-19    Male   \n",
       "8   10  elizabeth thieme  elizabeth   thieme            2014-03-16  Female   \n",
       "9   13         bo bradac         bo   bradac            2013-11-04    Male   \n",
       "10  14    benjamin franc   benjamin    franc            2013-11-26    Male   \n",
       "12  16   kortney coleman    kortney  coleman            2013-01-01  Female   \n",
       "\n",
       "           dob  age       age_cat       race  ...  v_decile_score  \\\n",
       "6   1974-07-23   41       25 - 45  Caucasian  ...               2   \n",
       "8   1976-06-03   39       25 - 45  Caucasian  ...               1   \n",
       "9   1994-06-10   21  Less than 25  Caucasian  ...               5   \n",
       "10  1988-06-01   27       25 - 45  Caucasian  ...               4   \n",
       "12  1978-08-22   37       25 - 45  Caucasian  ...               1   \n",
       "\n",
       "    v_score_text  v_screening_date  in_custody  out_custody  priors_count.1  \\\n",
       "6            Low        2014-02-19  2014-03-31   2014-04-18              14   \n",
       "8            Low        2014-03-16  2014-03-15   2014-03-18               0   \n",
       "9         Medium        2013-11-04  2015-01-06   2015-01-07               1   \n",
       "10           Low        2013-11-26  2013-11-25   2013-11-26               0   \n",
       "12           Low        2013-01-01  2013-01-01   2013-01-02               0   \n",
       "\n",
       "   start   end event two_year_recid  \n",
       "6      5    40     1              1  \n",
       "8      2   747     0              0  \n",
       "9      0   428     1              1  \n",
       "10     0   857     0              0  \n",
       "12     1  1186     0              0  \n",
       "\n",
       "[5 rows x 53 columns]"
      ]
     },
     "execution_count": 53,
     "metadata": {},
     "output_type": "execute_result"
    }
   ],
   "source": [
    "df_white = raw_data.loc[raw_data['race'].isin([\"Caucasian\"])]\n",
    "df_white.head()"
   ]
  },
  {
   "cell_type": "code",
   "execution_count": 100,
   "metadata": {},
   "outputs": [],
   "source": [
    "df_white['score_text'] = raw_data['score_text'].replace(['Medium'], 'High')\n",
    "df_white_recid = df_white.loc[df_white['is_recid'].isin([1])]\n",
    "df_white_nonrecid = df_white.loc[df_white['is_recid'].isin([0])]\n",
    "df_black['score_text'] = raw_data['score_text'].replace(['Medium'], 'High')\n",
    "df_black_recid = df_black.loc[df_black['is_recid'].isin([1])]\n",
    "df_black_nonrecid = df_black.loc[df_black['is_recid'].isin([0])]"
   ]
  },
  {
   "cell_type": "code",
   "execution_count": 93,
   "metadata": {},
   "outputs": [
    {
     "data": {
      "text/plain": [
       "Text(0, 0.5, 'Count')"
      ]
     },
     "execution_count": 93,
     "metadata": {},
     "output_type": "execute_result"
    },
    {
     "data": {
      "image/png": "[encoded data removed]",
      "text/plain": [
       "<Figure size 432x288 with 1 Axes>"
      ]
     },
     "metadata": {
      "needs_background": "light"
     },
     "output_type": "display_data"
    }
   ],
   "source": [
    "sns.countplot(\n",
    "    data = df_black,\n",
    "    x = 'score_text',\n",
    "    hue = 'is_recid',\n",
    "    palette = [\"#0343DF\",\"#00bfff\"]\n",
    ")\n",
    "plt.title('Distribution of recidivism for Blacks')\n",
    "plt.xlabel('Recidivism')\n",
    "plt.ylabel('Count')"
   ]
  },
  {
   "cell_type": "code",
   "execution_count": null,
   "metadata": {},
   "outputs": [],
   "source": []
  },
  {
   "cell_type": "code",
   "execution_count": 94,
   "metadata": {},
   "outputs": [
    {
     "data": {
      "text/plain": [
       "Text(0, 0.5, 'Count')"
      ]
     },
     "execution_count": 94,
     "metadata": {},
     "output_type": "execute_result"
    },
    {
     "data": {
      "image/png": "[encoded data removed]",
      "text/plain": [
       "<Figure size 432x288 with 1 Axes>"
      ]
     },
     "metadata": {
      "needs_background": "light"
     },
     "output_type": "display_data"
    }
   ],
   "source": [
    "sns.countplot(\n",
    "    data = df_white,\n",
    "    x = 'score_text',\n",
    "    hue = 'is_recid',\n",
    "    palette = [\"#0343DF\",\"#00bfff\"]\n",
    "    \n",
    ")\n",
    "\n",
    "\n",
    "plt.title('Distribution of recidivism for Whites')\n",
    "plt.xlabel('Recidivism')\n",
    "plt.ylabel('Count')"
   ]
  },
  {
   "cell_type": "code",
   "execution_count": 115,
   "metadata": {},
   "outputs": [
    {
     "data": {
      "text/plain": [
       "<function matplotlib.pyplot.show(close=None, block=None)>"
      ]
     },
     "execution_count": 115,
     "metadata": {},
     "output_type": "execute_result"
    },
    {
     "data": {
      "image/png": "[encoded data removed]",
      "text/plain": [
       "<Figure size 432x288 with 1 Axes>"
      ]
     },
     "metadata": {
      "needs_background": "light"
     },
     "output_type": "display_data"
    }
   ],
   "source": [
    "## trying with 2 subplots for stacking\n",
    "df_plot = df_black.groupby(['is_recid', 'score_text']).size().reset_index().pivot(columns='is_recid', index='score_text', values=0)\n",
    "ax = df_plot.plot(\n",
    "    kind='bar', \n",
    "    stacked=True,\n",
    "    title='Distribution of recidivism for Blacks',\n",
    "    color=[\"#0343DF\",\"#00bfff\"])\n",
    "plt.gca().invert_xaxis()\n",
    "ax.set_xlabel(\"Risk Category\")\n",
    "ax.set_ylabel(\"Number of Defendants\")\n",
    "plt.show"
   ]
  },
  {
   "cell_type": "code",
   "execution_count": 116,
   "metadata": {},
   "outputs": [
    {
     "data": {
      "text/plain": [
       "<function matplotlib.pyplot.show(close=None, block=None)>"
      ]
     },
     "execution_count": 116,
     "metadata": {},
     "output_type": "execute_result"
    },
    {
     "data": {
      "image/png": "[encoded data removed]",
      "text/plain": [
       "<Figure size 432x288 with 1 Axes>"
      ]
     },
     "metadata": {
      "needs_background": "light"
     },
     "output_type": "display_data"
    }
   ],
   "source": [
    "df_plot = df_white.groupby(['is_recid', 'score_text']).size().reset_index().pivot(columns='is_recid', index='score_text', values=0)\n",
    "df_plot.plot(\n",
    "    kind='bar', \n",
    "    stacked=True,\n",
    "    title='Distribution of recidivism for Whites',\n",
    "    color=[\"#0343DF\",\"#00bfff\"])\n",
    "plt.gca().invert_xaxis()\n",
    "ax.set_xlabel(\"Risk Category\")\n",
    "ax.set_ylabel(\"Number of Defendants\")\n",
    "plt.show"
   ]
  },
  {
   "cell_type": "code",
   "execution_count": 67,
   "metadata": {},
   "outputs": [
    {
     "data": {
      "image/png": "[encoded data removed]",
      "text/plain": [
       "<Figure size 432x288 with 2 Axes>"
      ]
     },
     "metadata": {
      "needs_background": "light"
     },
     "output_type": "display_data"
    }
   ],
   "source": [
    "fig, (ax1, ax2) = plt.subplots(1,2)\n",
    "\n",
    "sns.countplot(\n",
    "    data = df_black,\n",
    "    x = 'score_text',\n",
    "    hue = 'is_recid',\n",
    "    palette = [\"#F97306\",\"#0343DF\",\"#00FF00\"],\n",
    "    dodge=False,\n",
    "    ax=ax1\n",
    ")\n",
    "\n",
    "plt.title('Distribution of recidivism by Race')\n",
    "plt.xlabel('African-American')\n",
    "plt.ylabel('')\n",
    "\n",
    "sns.countplot(\n",
    "    data = df_white,\n",
    "    x = 'score_text',\n",
    "    hue = 'is_recid',\n",
    "    palette = [\"#F97306\",\"#0343DF\",\"#00FF00\"],\n",
    "    dodge=False,\n",
    "    ax=ax2\n",
    ")\n",
    "\n",
    "plt.title('Distribution of recidivism by Race')\n",
    "plt.xlabel('Caucasian')\n",
    "plt.ylabel('')\n",
    "\n",
    "fig.show()\n"
   ]
  },
  {
   "cell_type": "code",
   "execution_count": 65,
   "metadata": {},
   "outputs": [
    {
     "data": {
      "text/plain": [
       "6       1\n",
       "8       0\n",
       "9       1\n",
       "10      0\n",
       "12      0\n",
       "       ..\n",
       "7192    0\n",
       "7194    1\n",
       "7199    0\n",
       "7205    1\n",
       "7206    1\n",
       "Name: is_recid, Length: 2454, dtype: int64"
      ]
     },
     "execution_count": 65,
     "metadata": {},
     "output_type": "execute_result"
    }
   ],
   "source": [
    "df_white['is_recid']"
   ]
  },
  {
   "cell_type": "markdown",
   "metadata": {
    "id": "RdUBgqrvzYNj"
   },
   "source": [
    "# Directly / indirectly Model recidivism / Tree based model for ?\n",
    "\n",
    "\n",
    "directly(classification) --> random forest?\n",
    "*  predict recidivism\n",
    "*  predict violent recidivism\n",
    "\n",
    "indirectly (regression)\n",
    "*  predict COMPAS scores for recidivism\n",
    "*  predict COMPAS scores for violent recidivism\n"
   ]
  },
  {
   "cell_type": "code",
   "execution_count": null,
   "metadata": {
    "id": "-_1Bn1dPzYqv"
   },
   "outputs": [],
   "source": []
  },
  {
   "cell_type": "code",
   "execution_count": null,
   "metadata": {
    "id": "NOEz1-NHyDPA"
   },
   "outputs": [],
   "source": []
  },
  {
   "cell_type": "markdown",
   "metadata": {
    "id": "kgB2JtfgyDr0"
   },
   "source": [
    "# Explore connections between local and global explanations from machine learning model with multiple linear regression"
   ]
  },
  {
   "cell_type": "code",
   "execution_count": null,
   "metadata": {
    "id": "Se8CzVPGzEtr"
   },
   "outputs": [],
   "source": []
  },
  {
   "cell_type": "markdown",
   "metadata": {
    "id": "to-zgxeNzFEo"
   },
   "source": [
    "# 1 or more questions from the following:\n",
    "\n",
    "1. Is there a single correct definition of fairness ? Are multiple types of fairness compatible ?\n",
    "2. Are interpretable models just as accurate as black box machine learning models for predicting recidivism ?\n",
    "Can complex models be as transparent as simple ones ? How do I communicate nonlinear dependencies ?\n",
    "3. How do I explain a single prediction, i.e. how do I decompose it into feature driven components ? What\n",
    "would be useful global feature attribution methods ?\n",
    "4. How does the \"base rate\" affect the tradeoffs ?\n",
    "5. How can I find relevant interactions ?\n",
    "6. Counterfactuals: what extra value do they bring and what assumptions are made ?\n"
   ]
  },
  {
   "cell_type": "code",
   "execution_count": null,
   "metadata": {
    "id": "5HxqTKmBzP1R"
   },
   "outputs": [],
   "source": []
  },
  {
   "cell_type": "markdown",
   "metadata": {
    "id": "sokK9U33zx8x"
   },
   "source": [
    "# Are the COMPAS risk scales racially biased against blacks?\n"
   ]
  },
  {
   "cell_type": "markdown",
   "metadata": {
    "id": "i9tDlY8cz15g"
   },
   "source": [
    "\"Particular characteristics of non-black defendants in Broward County, Florida are the reason why some of the previous analyses found COMPAS biased\" (stated as an assumption in file:///C:/Users/joana/Documents/Nextcloud/03%20Karriere/2022%20WS%2023%20BIPM%20HWR/1%20-%20Data%20Science/project/reading/Chapter%2010%20Story%20COMPAS_%20recidivism%20reloaded%20_%20XAI%20Stories.pdf page 16)\n",
    "\n",
    "Check Ceteris Paribus (which freezes all othe factors) and then it's still biased for African Americans (same, page 20)\n",
    "\n",
    "\n",
    "\n",
    "could they controll for race (interrelating with age and number for arrests for example)?"
   ]
  },
  {
   "cell_type": "markdown",
   "metadata": {
    "id": "CYTgDli-veoc"
   },
   "source": [
    "### Is the Articel / model of COMPAS good?\n",
    "\n",
    "They should have done a regression with only whites and blacks not all --> numbers change"
   ]
  },
  {
   "cell_type": "markdown",
   "metadata": {
    "id": "RczIIuF-4iEH"
   },
   "source": [
    "# Check in the end whether:\n"
   ]
  }
 ],
 "metadata": {
  "colab": {
   "provenance": []
  },
  "kernelspec": {
   "display_name": "Python 3 (ipykernel)",
   "language": "python",
   "name": "python3"
  },
  "language_info": {
   "codemirror_mode": {
    "name": "ipython",
    "version": 3
   },
   "file_extension": ".py",
   "mimetype": "text/x-python",
   "name": "python",
   "nbconvert_exporter": "python",
   "pygments_lexer": "ipython3",
   "version": "3.9.12"
  }
 },
 "nbformat": 4,
 "nbformat_minor": 1
}
