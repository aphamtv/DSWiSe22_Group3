{
  "cells": [
    {
      "cell_type": "markdown",
      "id": "3d4054af-c07e-48bc-9243-0b4c91144abb",
      "metadata": {
        "id": "3d4054af-c07e-48bc-9243-0b4c91144abb"
      },
      "source": [
        "# Examining the Predictive Fairness of Recidivism Models"
      ]
    },
    {
      "cell_type": "markdown",
      "id": "27de8099-7dc6-4954-8369-b71d388e55e4",
      "metadata": {
        "id": "27de8099-7dc6-4954-8369-b71d388e55e4"
      },
      "source": [
        "The topic of fairness in machine learning has garnered much attention in recent years, particularly in the context of criminal justice. One such case is the use of the COMPAS system by Northpointe, which uses machine learning algorithms to predict recidivism in defendants. The results of the COMPAS system have been the subject of numerous claims, both in support and against its fairness.\n",
        "\n",
        "In this notebook, we aim to examine the claims surrounding the COMPAS system's fairness in predicting recidivism. We use recidivism data that was provided by the Broward County, Florida to ProPublica, the first initiative to analyse the fairness. We aim to reproduce the claims made by ProPublica, Northpointe, and the Washington Post. In the second part of the paper, we address some important questions about fairness in machine learning models. Finally, we aim to answer the question of whether recidivism can be predicted based on simple factors such as age, gender, race, and prior history of recidivism. We also compare the performance of a more complex tree-based statistical model with a simpler logistic regression model."
      ]
    },
    {
      "cell_type": "markdown",
      "id": "7fbd1b71-9ec9-461c-ad53-226bd07d904d",
      "metadata": {
        "tags": [],
        "id": "7fbd1b71-9ec9-461c-ad53-226bd07d904d"
      },
      "source": [
        "## Data Preparation"
      ]
    },
    {
      "cell_type": "code",
      "execution_count": 48,
      "id": "6775a9c7-01c8-403a-9975-7ef2f13a6e82",
      "metadata": {
        "id": "6775a9c7-01c8-403a-9975-7ef2f13a6e82"
      },
      "outputs": [],
      "source": [
        "import numpy as np\n",
        "import matplotlib.pyplot as plt\n",
        "import pandas as pd\n",
        "import seaborn as sns\n",
        "from sklearn.linear_model import LogisticRegression\n",
        "from sklearn.ensemble import RandomForestClassifier\n",
        "from sklearn.metrics import confusion_matrix, classification_report\n",
        "from sklearn.tree import DecisionTreeClassifier, plot_tree, export_text\n",
        "from sklearn import metrics\n",
        "from sklearn.model_selection import cross_val_score, train_test_split,cross_validate, StratifiedKFold\n",
        "from xgboost import XGBClassifier\n",
        "from sklearn.compose import ColumnTransformer\n",
        "from sklearn.pipeline import Pipeline\n",
        "from sklearn.preprocessing import LabelEncoder, StandardScaler, OneHotEncoder\n",
        "from sklearn.model_selection import GridSearchCV, RandomizedSearchCV\n",
        "import warnings\n",
        "import os\n",
        "warnings.filterwarnings('ignore')"
      ]
    },
    {
      "cell_type": "code",
      "execution_count": 49,
      "id": "84235978-4b54-4ca9-9bae-27dabfb0ef39",
      "metadata": {
        "id": "84235978-4b54-4ca9-9bae-27dabfb0ef39"
      },
      "outputs": [],
      "source": [
        "# set global random seed\n",
        "rand = 3\n",
        "os.environ['PYTHONHASHSEED']=str(rand)\n",
        "np.random.seed(rand)"
      ]
    },
    {
      "cell_type": "markdown",
      "id": "656121ec-95aa-4555-9bca-6f1810fb7de0",
      "metadata": {
        "id": "656121ec-95aa-4555-9bca-6f1810fb7de0"
      },
      "source": [
        "We use the `Compas-scores-two-years` dataset published by ProPublica and apply the same data filter used by them to create a new dataframe compas_df. The dataset contains information on defendants charged with a crime and assessed using the COMPAS risk assessment tool. The data includes demographic information, criminal history, and the results of the COMPAS assessment, including a predicted risk score and likelihood of recidivism over a two-year period. The filter selects only the rows from the data where the number of days between the arrest and the screening is within the range of -30 to 30, the value in the is_recid column is not -1, the value in the c_charge_degree column is not \"O\", and the value in the score_text column is not \"N/A\"."
      ]
    },
    {
      "cell_type": "code",
      "execution_count": 50,
      "id": "4a3324f6-a1ed-4281-a75b-8a6aa3987ca4",
      "metadata": {
        "colab": {
          "base_uri": "https://localhost:8080/"
        },
        "id": "4a3324f6-a1ed-4281-a75b-8a6aa3987ca4",
        "outputId": "e24fce4c-172c-4b78-d1d5-078159431d6e"
      },
      "outputs": [
        {
          "output_type": "execute_result",
          "data": {
            "text/plain": [
              "Index(['id', 'name', 'first', 'last', 'compas_screening_date', 'sex', 'dob',\n",
              "       'age', 'age_cat', 'race', 'juv_fel_count', 'decile_score',\n",
              "       'juv_misd_count', 'juv_other_count', 'priors_count',\n",
              "       'days_b_screening_arrest', 'c_jail_in', 'c_jail_out', 'c_case_number',\n",
              "       'c_offense_date', 'c_arrest_date', 'c_days_from_compas',\n",
              "       'c_charge_degree', 'c_charge_desc', 'is_recid', 'r_case_number',\n",
              "       'r_charge_degree', 'r_days_from_arrest', 'r_offense_date',\n",
              "       'r_charge_desc', 'r_jail_in', 'r_jail_out', 'violent_recid',\n",
              "       'is_violent_recid', 'vr_case_number', 'vr_charge_degree',\n",
              "       'vr_offense_date', 'vr_charge_desc', 'type_of_assessment',\n",
              "       'decile_score.1', 'score_text', 'screening_date',\n",
              "       'v_type_of_assessment', 'v_decile_score', 'v_score_text',\n",
              "       'v_screening_date', 'in_custody', 'out_custody', 'priors_count.1',\n",
              "       'start', 'end', 'event', 'two_year_recid'],\n",
              "      dtype='object')"
            ]
          },
          "metadata": {},
          "execution_count": 50
        }
      ],
      "source": [
        "dataURL = 'https://raw.githubusercontent.com/propublica/compas-analysis/master/compas-scores-two-years.csv'\n",
        "raw_data = pd.read_csv(dataURL)\n",
        "raw_data.columns"
      ]
    },
    {
      "cell_type": "code",
      "execution_count": 51,
      "id": "ddc573b6-fcb2-4a60-ad05-b5ec6009fe66",
      "metadata": {
        "colab": {
          "base_uri": "https://localhost:8080/"
        },
        "id": "ddc573b6-fcb2-4a60-ad05-b5ec6009fe66",
        "outputId": "77fe8419-8734-4368-a191-4c32613842ce"
      },
      "outputs": [
        {
          "output_type": "execute_result",
          "data": {
            "text/plain": [
              "(6172, 53)"
            ]
          },
          "metadata": {},
          "execution_count": 51
        }
      ],
      "source": [
        "compas_df = raw_data.loc[\n",
        "    (raw_data['days_b_screening_arrest'] <= 30) &\n",
        "    (raw_data['days_b_screening_arrest'] >= -30) &\n",
        "    (raw_data['is_recid'] != -1) &\n",
        "    (raw_data['c_charge_degree'] != \"O\") &\n",
        "    (raw_data['score_text'] != \"N/A\")\n",
        "]\n",
        "compas_df.shape"
      ]
    },
    {
      "cell_type": "code",
      "execution_count": 52,
      "id": "55f8d7af-7a45-49d7-b51d-59631532e422",
      "metadata": {
        "colab": {
          "base_uri": "https://localhost:8080/"
        },
        "id": "55f8d7af-7a45-49d7-b51d-59631532e422",
        "outputId": "33fffa3c-156b-4127-8e8f-5196bf7a22b0"
      },
      "outputs": [
        {
          "output_type": "stream",
          "name": "stdout",
          "text": [
            "(13419, 52)\n"
          ]
        },
        {
          "output_type": "execute_result",
          "data": {
            "text/plain": [
              "Index(['id', 'name', 'first', 'last', 'compas_screening_date', 'sex', 'dob',\n",
              "       'age', 'age_cat', 'race', 'juv_fel_count', 'decile_score',\n",
              "       'juv_misd_count', 'juv_other_count', 'priors_count',\n",
              "       'days_b_screening_arrest', 'c_jail_in', 'c_jail_out', 'c_case_number',\n",
              "       'c_offense_date', 'c_arrest_date', 'c_days_from_compas',\n",
              "       'c_charge_degree', 'c_charge_desc', 'is_recid', 'r_case_number',\n",
              "       'r_charge_degree', 'r_days_from_arrest', 'r_offense_date',\n",
              "       'r_charge_desc', 'r_jail_in', 'r_jail_out', 'violent_recid',\n",
              "       'is_violent_recid', 'vr_case_number', 'vr_charge_degree',\n",
              "       'vr_offense_date', 'vr_charge_desc', 'type_of_assessment',\n",
              "       'decile_score.1', 'score_text', 'screening_date',\n",
              "       'v_type_of_assessment', 'v_decile_score', 'v_score_text',\n",
              "       'v_screening_date', 'in_custody', 'out_custody', 'priors_count.1',\n",
              "       'start', 'end', 'event'],\n",
              "      dtype='object')"
            ]
          },
          "metadata": {},
          "execution_count": 52
        }
      ],
      "source": [
        "# load COX data\n",
        "parsed_dataURL = 'https://raw.githubusercontent.com/propublica/compas-analysis/master/cox-parsed.csv'\n",
        "parsed_data = pd.read_csv(parsed_dataURL)\n",
        "print(parsed_data.shape)\n",
        "parsed_data.columns\n"
      ]
    },
    {
      "cell_type": "markdown",
      "id": "359f724a-5439-4f28-8313-3bf1dae25385",
      "metadata": {
        "id": "359f724a-5439-4f28-8313-3bf1dae25385",
        "tags": []
      },
      "source": [
        "## Exploratory Analysis"
      ]
    },
    {
      "cell_type": "markdown",
      "id": "e383f25f-6661-45eb-9f02-8a6e6956eaed",
      "metadata": {
        "id": "e383f25f-6661-45eb-9f02-8a6e6956eaed"
      },
      "source": [
        "In this exploratory data analysis, we will examine the structure and characteristics of the dataset, including its size, distribution of variables, and any missing or abnormal values. We will also create visualizations to help identify patterns and relationships between variables. The insights gained from this analysis will be used to guide the development of hypotheses and the choice of statistical models for our subsequent analysis."
      ]
    },
    {
      "cell_type": "markdown",
      "id": "9f406276-edb3-4889-ab4d-210398618420",
      "metadata": {
        "tags": [],
        "id": "9f406276-edb3-4889-ab4d-210398618420"
      },
      "source": [
        "### Race Variables"
      ]
    },
    {
      "cell_type": "markdown",
      "id": "c79e9653-91b9-4974-8812-050a67f16591",
      "metadata": {
        "id": "c79e9653-91b9-4974-8812-050a67f16591"
      },
      "source": [
        "Initially, we assess the distribution of Race Variables."
      ]
    },
    {
      "cell_type": "code",
      "execution_count": 53,
      "id": "d14a56c2-f439-4c6b-9021-ffeaff6d2e2d",
      "metadata": {
        "colab": {
          "base_uri": "https://localhost:8080/",
          "height": 0
        },
        "id": "d14a56c2-f439-4c6b-9021-ffeaff6d2e2d",
        "outputId": "3c7585e3-7c19-4231-9b01-da5399c3db8a"
      },
      "outputs": [
        {
          "output_type": "execute_result",
          "data": {
            "text/plain": [
              "<matplotlib.axes._subplots.AxesSubplot at 0x7f71037e7400>"
            ]
          },
          "metadata": {},
          "execution_count": 53
        },
        {
          "output_type": "display_data",
          "data": {
            "text/plain": [
              "<Figure size 432x288 with 1 Axes>"
            ],
            "image/png": "[encoded data removed]"
          },
          "metadata": {
            "needs_background": "light"
          }
        }
      ],
      "source": [
        "compas_df['race'].value_counts().plot(\n",
        "    title = \"Defendants by Race Distribution\",\n",
        "    kind= \"barh\", \n",
        "    color = \"#f17775\")"
      ]
    },
    {
      "cell_type": "markdown",
      "id": "1d2a2608-d9c6-42cb-b152-8b91a90242cf",
      "metadata": {
        "id": "1d2a2608-d9c6-42cb-b152-8b91a90242cf"
      },
      "source": [
        "It can be clearly seen from the graph that the sample is unbalanced with regards to the race variable, where the sample data of COMPAS have extremely small representation of Asian and Native American. According to the US Census data, Asians make up about 5.23% of the nation’s overall population in 2014; in the ProPublica, however, they accounts for only 0.5% of the data. Caucasians and African-Americans represent the biggest race groups in the dataset."
      ]
    },
    {
      "cell_type": "code",
      "execution_count": 54,
      "id": "90e277f1-b10a-4f7a-bce8-2504fb287bd5",
      "metadata": {
        "id": "90e277f1-b10a-4f7a-bce8-2504fb287bd5",
        "outputId": "b7e23e36-c9be-4039-8e0f-81695f50b454",
        "colab": {
          "base_uri": "https://localhost:8080/"
        }
      },
      "outputs": [
        {
          "output_type": "stream",
          "name": "stdout",
          "text": [
            "Race Distribution of Defendants\n",
            "                  Value Counts  Percentage\n",
            "African-American          3175      51.442\n",
            "Caucasian                 2103      34.073\n",
            "Hispanic                   509       8.247\n",
            "Other                      343       5.557\n",
            "Asian                       31       0.502\n",
            "Native American             11       0.178\n"
          ]
        }
      ],
      "source": [
        "value_counts = compas_df['race'].value_counts()\n",
        "percentage = np.round(value_counts / len(compas_df) * 100,3)\n",
        "\n",
        "table = pd.concat([value_counts, percentage], axis=1)\n",
        "table.columns = ['Value Counts', 'Percentage']\n",
        "print(\"Race Distribution of Defendants\")\n",
        "print(table)"
      ]
    },
    {
      "cell_type": "markdown",
      "id": "0573725b-9fb1-4545-a9ad-26c62324a025",
      "metadata": {
        "tags": [],
        "id": "0573725b-9fb1-4545-a9ad-26c62324a025"
      },
      "source": [
        "### Sex Variables"
      ]
    },
    {
      "cell_type": "markdown",
      "id": "1402be4b-69c6-4e39-a632-cd5f7a377053",
      "metadata": {
        "id": "1402be4b-69c6-4e39-a632-cd5f7a377053"
      },
      "source": [
        "Looking at the sex variable, it shows that there is a significant imbalance in the distribution of males and females in the sample population, with males accounting for approximately 81% of the sample and females accounting for approximately 19%. "
      ]
    },
    {
      "cell_type": "code",
      "execution_count": 55,
      "id": "daed362f-4644-46c3-b243-3f161b8040a4",
      "metadata": {
        "colab": {
          "base_uri": "https://localhost:8080/",
          "height": 0
        },
        "id": "daed362f-4644-46c3-b243-3f161b8040a4",
        "outputId": "0913249d-0e67-406a-cedb-bf1fa45ba102"
      },
      "outputs": [
        {
          "output_type": "execute_result",
          "data": {
            "text/plain": [
              "<matplotlib.axes._subplots.AxesSubplot at 0x7f71036d82e0>"
            ]
          },
          "metadata": {},
          "execution_count": 55
        },
        {
          "output_type": "display_data",
          "data": {
            "text/plain": [
              "<Figure size 432x288 with 1 Axes>"
            ],
            "image/png": "[encoded data removed]"
          },
          "metadata": {
            "needs_background": "light"
          }
        }
      ],
      "source": [
        "compas_df['sex'].value_counts().plot(\n",
        "    title = \"Defendants by Sex Distribution\",\n",
        "    kind= \"barh\", \n",
        "    color = \"#f17775\")"
      ]
    },
    {
      "cell_type": "code",
      "execution_count": 56,
      "id": "7e8f5df6-de66-4836-84e2-c93c7e724799",
      "metadata": {
        "colab": {
          "base_uri": "https://localhost:8080/"
        },
        "id": "7e8f5df6-de66-4836-84e2-c93c7e724799",
        "outputId": "7b7c93f4-f268-4af5-c8c3-6f4222a2bf79"
      },
      "outputs": [
        {
          "output_type": "stream",
          "name": "stdout",
          "text": [
            "Sex Distribution of Defendants\n",
            "        Value Counts  Percentage\n",
            "Male            4997      80.962\n",
            "Female          1175      19.038\n"
          ]
        }
      ],
      "source": [
        "value_counts = compas_df['sex'].value_counts()\n",
        "percentage = np.round(value_counts / len(compas_df) * 100,3)\n",
        "\n",
        "table = pd.concat([value_counts, percentage], axis=1)\n",
        "table.columns = ['Value Counts', 'Percentage']\n",
        "print(\"Sex Distribution of Defendants\")\n",
        "print(table)"
      ]
    },
    {
      "cell_type": "markdown",
      "id": "0a25d9db-b15c-4720-9607-9ac233db2112",
      "metadata": {
        "tags": [],
        "id": "0a25d9db-b15c-4720-9607-9ac233db2112"
      },
      "source": [
        "### Age Variable"
      ]
    },
    {
      "cell_type": "markdown",
      "id": "46520e3b-0c0b-4cf5-bcb0-684cc4791e98",
      "metadata": {
        "id": "46520e3b-0c0b-4cf5-bcb0-684cc4791e98"
      },
      "source": [
        "The histogram shows that most of the defendants in the COMPAS data are between the ages of 25 and 35, with a concentration of ages towards the younger end of this range. This type of distribution can indicate that the population of defendants in the COMPAS data is relatively young, with fewer older defendants. "
      ]
    },
    {
      "cell_type": "code",
      "execution_count": 57,
      "id": "c2967cb1-0d31-4671-a54d-83b41c029a68",
      "metadata": {
        "id": "c2967cb1-0d31-4671-a54d-83b41c029a68",
        "outputId": "2fd5223f-7143-4b4e-c0ad-28a8f7dbf93d",
        "colab": {
          "base_uri": "https://localhost:8080/",
          "height": 0
        }
      },
      "outputs": [
        {
          "output_type": "display_data",
          "data": {
            "text/plain": [
              "<Figure size 432x288 with 1 Axes>"
            ],
            "image/png": "[encoded data removed]"
          },
          "metadata": {
            "needs_background": "light"
          }
        }
      ],
      "source": [
        "plt.hist(compas_df['age'], bins=20, color='#ffab40')\n",
        "plt.title(\"Age Distribution\")\n",
        "plt.xlabel(\"Age\")\n",
        "plt.ylabel(\"Frequency\")\n",
        "plt.show()"
      ]
    },
    {
      "cell_type": "markdown",
      "id": "1c20afcb-0162-442d-a0d5-e6c05ac272f2",
      "metadata": {
        "id": "1c20afcb-0162-442d-a0d5-e6c05ac272f2"
      },
      "source": [
        "Given that African American and Caucasian groups are the predominant populations in our dataset, and ProPublica, Northpoint and the Washington Post also do concentrate on these two groups, we will analyze age distributions within these two populations to gain a deeper understanding of their demographic structures. \n",
        "\n",
        "The distribution below shows that African-Americans defendants tend to be younger than Caucasians defendants."
      ]
    },
    {
      "cell_type": "code",
      "execution_count": 58,
      "id": "2a0a79ea-9a0a-4709-9e7a-ff86a9245e4d",
      "metadata": {
        "id": "2a0a79ea-9a0a-4709-9e7a-ff86a9245e4d"
      },
      "outputs": [],
      "source": [
        "# to customize the histogram color\n",
        "import matplotlib.cm as cm\n",
        "import matplotlib.colors as colors\n",
        "\n",
        "def hist_color(color_code_start, color_code_end, n):\n",
        "    cmap = cm.colors.LinearSegmentedColormap.from_list(\"MyColorMap\", [color_code_start, color_code_end], N = n)\n",
        "    colors_array = cmap(colors.Normalize()(range(n)))\n",
        "    color_codes = [colors.to_hex(c) for c in colors_array]\n",
        "    return color_codes"
      ]
    },
    {
      "cell_type": "code",
      "execution_count": 59,
      "id": "2bda8a61-6e76-48ed-815d-e1b6ed229a1c",
      "metadata": {
        "colab": {
          "base_uri": "https://localhost:8080/",
          "height": 0
        },
        "id": "2bda8a61-6e76-48ed-815d-e1b6ed229a1c",
        "outputId": "0fd1eb9e-762d-45fb-fd28-32542adb6311"
      },
      "outputs": [
        {
          "output_type": "execute_result",
          "data": {
            "text/plain": [
              "<matplotlib.axes._subplots.AxesSubplot at 0x7f7109bf2df0>"
            ]
          },
          "metadata": {},
          "execution_count": 59
        },
        {
          "output_type": "display_data",
          "data": {
            "text/plain": [
              "<Figure size 1080x504 with 1 Axes>"
            ],
            "image/png": "[encoded data removed]"
          },
          "metadata": {
            "needs_background": "light"
          }
        }
      ],
      "source": [
        "min_age = int(compas_df['age'].min())\n",
        "max_age = int(compas_df['age'].max())\n",
        "age_bins = np.arange(min_age, max_age+1, 5)\n",
        "\n",
        "compas_df[compas_df['race'].isin([\"African-American\",\"Caucasian\"])].groupby('race')['age'].apply(lambda x: pd.cut(x, bins = age_bins, right = False).value_counts(normalize = False)).unstack().plot(\n",
        "    kind='bar', \n",
        "    color = hist_color('#fff0db', '#f38800', 20),\n",
        "    figsize=(15, 7),\n",
        "    title='Age Distribution by Race', \n",
        "    ylabel='Number of Defendants'\n",
        ")"
      ]
    },
    {
      "cell_type": "markdown",
      "id": "044ef75a-3e98-4682-9c01-2899c1f9f9c7",
      "metadata": {
        "tags": [],
        "id": "044ef75a-3e98-4682-9c01-2899c1f9f9c7"
      },
      "source": [
        "### Priors_Count Variable"
      ]
    },
    {
      "cell_type": "markdown",
      "source": [
        "From the distribution of the priors count variable, we see that the dataset tends to have few priors."
      ],
      "metadata": {
        "id": "8d-fu2ZeAwfR"
      },
      "id": "8d-fu2ZeAwfR"
    },
    {
      "cell_type": "code",
      "execution_count": 60,
      "id": "c7148766-8f30-4fb7-a70f-715ad9dbd14b",
      "metadata": {
        "colab": {
          "base_uri": "https://localhost:8080/",
          "height": 0
        },
        "id": "c7148766-8f30-4fb7-a70f-715ad9dbd14b",
        "outputId": "9880892e-77dd-427b-e7c7-b0c7c1e1aedd"
      },
      "outputs": [
        {
          "output_type": "display_data",
          "data": {
            "text/plain": [
              "<Figure size 432x288 with 1 Axes>"
            ],
            "image/png": "[encoded data removed]"
          },
          "metadata": {
            "needs_background": "light"
          }
        }
      ],
      "source": [
        "plt.hist(compas_df['priors_count'], bins=20, color='#016d8c')\n",
        "plt.title(\"Priors Distribution\")\n",
        "plt.xlabel(\"Priors\")\n",
        "plt.ylabel(\"Frequency\")\n",
        "plt.show()"
      ]
    },
    {
      "cell_type": "markdown",
      "source": [
        "As done before for the age variable, we here also look at the age feature for African-Americans and Caucasians in a direct comparison. It shows that African-Americans are "
      ],
      "metadata": {
        "id": "YXKwyKE2AuwP"
      },
      "id": "YXKwyKE2AuwP"
    },
    {
      "cell_type": "code",
      "execution_count": 61,
      "id": "c055d95f-934c-4798-afe5-f6cfb35f0c43",
      "metadata": {
        "colab": {
          "base_uri": "https://localhost:8080/",
          "height": 0
        },
        "id": "c055d95f-934c-4798-afe5-f6cfb35f0c43",
        "outputId": "6726dcb9-fd57-4e05-a596-1c75bf3f1c1a"
      },
      "outputs": [
        {
          "output_type": "execute_result",
          "data": {
            "text/plain": [
              "<matplotlib.axes._subplots.AxesSubplot at 0x7f710a7b2520>"
            ]
          },
          "metadata": {},
          "execution_count": 61
        },
        {
          "output_type": "display_data",
          "data": {
            "text/plain": [
              "<Figure size 1080x504 with 1 Axes>"
            ],
            "image/png": "[encoded data removed]"
          },
          "metadata": {
            "needs_background": "light"
          }
        }
      ],
      "source": [
        "min_priors = int(compas_df['priors_count'].min())\n",
        "max_priors = int(compas_df['priors_count'].max())\n",
        "count_bins = np.arange(min_priors, max_priors + 1, 2)\n",
        "\n",
        "compas_df[compas_df['race'].isin([\"African-American\",\"Caucasian\"])].groupby('race')['priors_count'].apply(lambda x: pd.cut(x, bins = count_bins, right = False).value_counts(normalize = False)).unstack().plot(\n",
        "    kind='bar', \n",
        "    color = hist_color('#e3e9ed', '#016d8c',20),\n",
        "    figsize=(15, 7),\n",
        "    title='\"Priors Count\" Distribution by Race', \n",
        "    ylabel='Number of Defendants'\n",
        ")\n"
      ]
    },
    {
      "cell_type": "markdown",
      "source": [
        "### Correlation between Features"
      ],
      "metadata": {
        "id": "jAU6NTqXBVhY"
      },
      "id": "jAU6NTqXBVhY"
    },
    {
      "cell_type": "markdown",
      "source": [
        "This heatmap shows a positive correlations for the decile score with two year recidivism. Meaning that the assigned decile score by COMPAS does indeed represent a tendency of defendants with high scores to be recidivating. \n",
        "\n",
        "This heatmap also shows a positive correlations for the decile score with  priors and  a negativ correlation with age. This means that overall the more crimes the defendant has commited before, the higher his / her score and that overall younger defendant have  higher scores.\n",
        "This is not surprising as both are also correlated with two year recidivism."
      ],
      "metadata": {
        "id": "FZsYGqqyB1Rg"
      },
      "id": "FZsYGqqyB1Rg"
    },
    {
      "cell_type": "code",
      "execution_count": 62,
      "id": "8bfdf85a-594c-4012-8b2a-3c007691b500",
      "metadata": {
        "colab": {
          "base_uri": "https://localhost:8080/",
          "height": 0
        },
        "id": "8bfdf85a-594c-4012-8b2a-3c007691b500",
        "outputId": "bb52bc49-4285-4772-b7fe-0ef750720ef4"
      },
      "outputs": [
        {
          "output_type": "display_data",
          "data": {
            "text/plain": [
              "<Figure size 1080x720 with 2 Axes>"
            ],
            "image/png": "[encoded data removed]"
          },
          "metadata": {
            "needs_background": "light"
          }
        }
      ],
      "source": [
        "\n",
        "import matplotlib.colors as mcolors\n",
        "\n",
        "colors = ['#fdf2f2', '#f17775']\n",
        "cmap = mcolors.LinearSegmentedColormap.from_list(\"\", colors)\n",
        "\n",
        "plt.figure(figsize=(15, 10))\n",
        "sns.heatmap(compas_df[['age', 'race', 'sex', 'decile_score', 'priors_count', 'two_year_recid']].corr(), annot=True, cmap=cmap, vmin=-1, vmax=1)\n",
        "plt.title('Heatmap of Correlation between Features')\n",
        "plt.show()"
      ]
    },
    {
      "cell_type": "markdown",
      "id": "3fc238f6-b2ec-4d48-9f41-4f50a0dcef49",
      "metadata": {
        "tags": [],
        "id": "3fc238f6-b2ec-4d48-9f41-4f50a0dcef49"
      },
      "source": [
        "### Decile Scores"
      ]
    },
    {
      "cell_type": "markdown",
      "id": "26298874-9505-4587-985b-0fb73bd102ae",
      "metadata": {
        "id": "26298874-9505-4587-985b-0fb73bd102ae"
      },
      "source": [
        "Next, we examine the distribution of COMPAS decile scores across different racial groups in relation to recidivism."
      ]
    },
    {
      "cell_type": "code",
      "execution_count": 63,
      "id": "b58679ab-7798-47e8-ac1a-06763ffd9986",
      "metadata": {
        "id": "b58679ab-7798-47e8-ac1a-06763ffd9986",
        "outputId": "5ed20d94-11aa-4bee-a8ed-4f6a893ea057",
        "colab": {
          "base_uri": "https://localhost:8080/",
          "height": 299
        }
      },
      "outputs": [
        {
          "output_type": "execute_result",
          "data": {
            "text/plain": [
              "<matplotlib.axes._subplots.AxesSubplot at 0x7f7109e05a60>"
            ]
          },
          "metadata": {},
          "execution_count": 63
        },
        {
          "output_type": "display_data",
          "data": {
            "text/plain": [
              "<Figure size 576x288 with 1 Axes>"
            ],
            "image/png": "[encoded data removed]"
          },
          "metadata": {
            "needs_background": "light"
          }
        }
      ],
      "source": [
        "score_text_by_race = compas_df.groupby(['race','score_text'], sort = True)['id'].size()\n",
        "score_text_by_race.unstack().sort_values(by=\"race\", ascending=False).plot(\n",
        "    kind = \"barh\", \n",
        "    title = \"Score Text by Race\",\n",
        "    ylabel = \"Score Text\",\n",
        "    xlabel = \"Race\",\n",
        "    color = [\"#f17775\", \"#016d8c\", \"#ffab40\"],\n",
        "    figsize = (8,4),\n",
        "    stacked = True\n",
        ")"
      ]
    },
    {
      "cell_type": "markdown",
      "id": "a1341f92-81de-46f4-b9e9-9e04407c6f5f",
      "metadata": {
        "id": "a1341f92-81de-46f4-b9e9-9e04407c6f5f"
      },
      "source": [
        "African American defendants have the highest number of defendants classified with high scores. However, it is important to consider that African Americans make up the largest racial group in this dataset, representing 51.442% of the total. \n",
        "\n",
        "To better understand the distribution of decile scores among different racial groups, we plotted the histogram as below. The chart reveals a noticeable pattern. As the decile score increases, the proportion of defendants from both the Caucasian, Hispanics, Asians and 'Other' racial groups decreases. However, this trend is not observed in the African American and the Native American groups, where the proportion of defendants remains relatively stable across different decile scores."
      ]
    },
    {
      "cell_type": "code",
      "source": [
        "import matplotlib.cm as cm\n",
        "import matplotlib.colors as colors\n",
        "\n",
        "cmap = cm.colors.LinearSegmentedColormap.from_list(\"MyColorMap\", ['#F8BBBA', '#A31310'], N=10)\n",
        "colors_array = cmap(colors.Normalize()(range(10)))\n",
        "color_codes = [colors.to_hex(c) for c in colors_array]\n",
        "\n",
        "compas_df.groupby('race')['decile_score'].value_counts(normalize=True).unstack().plot(\n",
        "    kind='bar', \n",
        "    color = color_codes,\n",
        "    figsize=(20, 7),\n",
        "    title='Decile Score Histogram by Race', \n",
        "    ylabel='% with Decile Score'\n",
        ")"
      ],
      "metadata": {
        "colab": {
          "base_uri": "https://localhost:8080/",
          "height": 360
        },
        "id": "clM1e0QABNyJ",
        "outputId": "01749a4d-49d9-401c-a422-f590b03c69a1"
      },
      "id": "clM1e0QABNyJ",
      "execution_count": 65,
      "outputs": [
        {
          "output_type": "execute_result",
          "data": {
            "text/plain": [
              "<matplotlib.axes._subplots.AxesSubplot at 0x7f7109be6e80>"
            ]
          },
          "metadata": {},
          "execution_count": 65
        },
        {
          "output_type": "display_data",
          "data": {
            "text/plain": [
              "<Figure size 1440x504 with 1 Axes>"
            ],
            "image/png": "[encoded data removed]"
          },
          "metadata": {
            "needs_background": "light"
          }
        }
      ]
    },
    {
      "cell_type": "markdown",
      "id": "0c6f4c16-34bf-4f24-b423-69ee273ebcdb",
      "metadata": {
        "tags": [],
        "id": "0c6f4c16-34bf-4f24-b423-69ee273ebcdb"
      },
      "source": [
        "## Replicating the Analysis"
      ]
    },
    {
      "cell_type": "code",
      "execution_count": 66,
      "id": "95f4cce4-2b72-41ea-b569-78b51ed8cd85",
      "metadata": {
        "id": "95f4cce4-2b72-41ea-b569-78b51ed8cd85"
      },
      "outputs": [],
      "source": [
        "df = compas_df.copy()"
      ]
    },
    {
      "cell_type": "markdown",
      "id": "ed6e5f25-2212-42e9-b410-23c3e15b1051",
      "metadata": {
        "id": "ed6e5f25-2212-42e9-b410-23c3e15b1051",
        "tags": []
      },
      "source": [
        "### ProPublica analysis"
      ]
    },
    {
      "cell_type": "markdown",
      "id": "c21292a9-4868-4091-9aa6-a5b6efabc3a4",
      "metadata": {
        "id": "c21292a9-4868-4091-9aa6-a5b6efabc3a4"
      },
      "source": [
        "ProPublica in their article claims that the COMPAS algorithm is biased agains black people. They based their argument on the following:\n",
        "- The distributions of decile scores is different in each of the groups, where white people are assigned more low scores whereas for African-Americans the distribution is more balanced.\n",
        "- Black people are more likely to be assigned a high score.\n",
        "- White people were more often wrongly assigned low scores than blacks.\n",
        "\n",
        "*Next*, we will reproduce some of the claims."
      ]
    },
    {
      "cell_type": "markdown",
      "id": "dc485e8e-a616-419f-9f31-642b495ffe2d",
      "metadata": {
        "id": "dc485e8e-a616-419f-9f31-642b495ffe2d"
      },
      "source": [
        "**Compas Score Distribution**"
      ]
    },
    {
      "cell_type": "code",
      "execution_count": 67,
      "id": "1d4c723a-a3a1-4989-b884-6d2573dba535",
      "metadata": {
        "id": "1d4c723a-a3a1-4989-b884-6d2573dba535"
      },
      "outputs": [],
      "source": [
        "# Create a dataframe with only the african-americans and caucasians\n",
        "df_binary = df.loc[df['race'].isin([\"African-American\",\"Caucasian\"])]"
      ]
    },
    {
      "cell_type": "code",
      "execution_count": 68,
      "id": "10e53dec-8d36-45af-8ebf-c28c9e463150",
      "metadata": {
        "id": "10e53dec-8d36-45af-8ebf-c28c9e463150"
      },
      "outputs": [],
      "source": [
        "# Calculate the total and proportions of decile scores per race\n",
        "decile_score_by_race_prop= df_binary.groupby(['race', 'decile_score']).agg({'decile_score': 'count'})\n",
        "decile_score_by_race_prop['prop'] = decile_score_by_race_prop.groupby(level = 0).apply(lambda x:100 * x / float(x.sum()))"
      ]
    },
    {
      "cell_type": "code",
      "execution_count": 69,
      "id": "97b9b561-6237-407e-96c3-84dd3154db86",
      "metadata": {
        "id": "97b9b561-6237-407e-96c3-84dd3154db86"
      },
      "outputs": [],
      "source": [
        "# Calculate the total and proportions of recidivates per race\n",
        "is_recid_by_race_prop= df_binary.groupby(['race', 'is_recid']).agg({'decile_score': 'count'})\n",
        "is_recid_by_race_prop['prop'] = is_recid_by_race_prop.groupby(level = 0).apply(lambda x:100 * x / float(x.sum()))"
      ]
    },
    {
      "cell_type": "code",
      "execution_count": 70,
      "id": "9922e726-f203-4950-aa36-08605d46118f",
      "metadata": {
        "colab": {
          "base_uri": "https://localhost:8080/",
          "height": 0
        },
        "id": "9922e726-f203-4950-aa36-08605d46118f",
        "outputId": "418c0386-4cd3-4ad8-ac99-d63ba2c22d8b"
      },
      "outputs": [
        {
          "output_type": "execute_result",
          "data": {
            "text/plain": [
              "Text(0, 0.5, 'Count')"
            ]
          },
          "metadata": {},
          "execution_count": 70
        },
        {
          "output_type": "display_data",
          "data": {
            "text/plain": [
              "<Figure size 432x288 with 1 Axes>"
            ],
            "image/png": "[encoded data removed]"
          },
          "metadata": {
            "needs_background": "light"
          }
        }
      ],
      "source": [
        "sns.countplot(\n",
        "    data = df_binary,\n",
        "    x = 'decile_score',\n",
        "    hue = 'race',\n",
        "    palette = [\"#ffab40\",\"#016d8c\"]\n",
        ")\n",
        "plt.title('Distribution of Decile Scores by Race')\n",
        "plt.xlabel('Decile Score')\n",
        "plt.ylabel('Count')"
      ]
    },
    {
      "cell_type": "markdown",
      "id": "ab974088-c396-4101-a009-2e09b3d59984",
      "metadata": {
        "id": "ab974088-c396-4101-a009-2e09b3d59984"
      },
      "source": [
        "In this plot we can see that Caucasians's distribution of scores is skewed towards lower scores, whereas African Americans have a similar numbers for each of the scores."
      ]
    },
    {
      "cell_type": "markdown",
      "id": "20ba4aaa-316c-4cb0-98dc-cb28f80a5945",
      "metadata": {
        "id": "20ba4aaa-316c-4cb0-98dc-cb28f80a5945"
      },
      "source": [
        "**Most predictive factors in logistic model (with controlling for other factors) for score**"
      ]
    },
    {
      "cell_type": "code",
      "execution_count": 71,
      "id": "b3e12266-4557-40c2-9f74-ede225094e7b",
      "metadata": {
        "id": "b3e12266-4557-40c2-9f74-ede225094e7b"
      },
      "outputs": [],
      "source": [
        "# As in the ProPublica article the score text \"medium\" and \"high\" are labeled \"high\", the score text \"low\" stays the same in order to have binary score texts\n",
        "df['score_text_binary'] = df['score_text'].replace(['Medium'], 'High')"
      ]
    },
    {
      "cell_type": "code",
      "execution_count": 72,
      "id": "a14ac01f-00d7-42db-96be-032140f2f4b4",
      "metadata": {
        "id": "a14ac01f-00d7-42db-96be-032140f2f4b4"
      },
      "outputs": [],
      "source": [
        "# In order to be able to use this labeling in the regression, the labels need to be numerical\n",
        "df['score_text_binary']= df['score_text_binary'].replace(['High'], 1)\n",
        "df['score_text_binary']= df['score_text_binary'].replace(['Low'], 0)"
      ]
    },
    {
      "cell_type": "markdown",
      "id": "7f13b96b-5af7-4a60-a507-03a698392372",
      "metadata": {
        "id": "7f13b96b-5af7-4a60-a507-03a698392372"
      },
      "source": [
        "ProPublica claims that Black defendants are 45% more likely than white defendants to receive a higher score correcting for the seriousness of their crime, previous arrests, and future criminal behavior (when adjusted for other variables).\n",
        "\n",
        "For that, we reproduced the logistic regression they made, and later we adjust it."
      ]
    },
    {
      "cell_type": "code",
      "execution_count": 73,
      "id": "441b7abd-772e-4a9b-995a-8cba1323b80d",
      "metadata": {
        "colab": {
          "base_uri": "https://localhost:8080/"
        },
        "id": "441b7abd-772e-4a9b-995a-8cba1323b80d",
        "outputId": "71c61146-69fb-4af7-9c58-c4114a8b6cc9"
      },
      "outputs": [
        {
          "output_type": "stream",
          "name": "stdout",
          "text": [
            "Optimization terminated successfully.\n",
            "         Current function value: 0.499708\n",
            "         Iterations 6\n",
            "                           Logit Regression Results                           \n",
            "==============================================================================\n",
            "Dep. Variable:      score_text_binary   No. Observations:                 6172\n",
            "Model:                          Logit   Df Residuals:                     6160\n",
            "Method:                           MLE   Df Model:                           11\n",
            "Date:                Wed, 15 Feb 2023   Pseudo R-squ.:                  0.2729\n",
            "Time:                        08:41:19   Log-Likelihood:                -3084.2\n",
            "converged:                       True   LL-Null:                       -4241.7\n",
            "Covariance Type:            nonrobust   LLR p-value:                     0.000\n",
            "=================================================================================================================================\n",
            "                                                                    coef    std err          z      P>|z|      [0.025      0.975]\n",
            "---------------------------------------------------------------------------------------------------------------------------------\n",
            "Intercept                                                        -1.5255      0.079    -19.430      0.000      -1.679      -1.372\n",
            "C(age_cat)[T.Greater than 45]                                    -1.3556      0.099    -13.682      0.000      -1.550      -1.161\n",
            "C(age_cat)[T.Less than 25]                                        1.3084      0.076     17.232      0.000       1.160       1.457\n",
            "C(race, Treatment(reference=\"Caucasian\"))[T.African-American]     0.4772      0.069      6.881      0.000       0.341       0.613\n",
            "C(race, Treatment(reference=\"Caucasian\"))[T.Asian]               -0.2544      0.478     -0.532      0.595      -1.192       0.683\n",
            "C(race, Treatment(reference=\"Caucasian\"))[T.Hispanic]            -0.4284      0.128     -3.344      0.001      -0.680      -0.177\n",
            "C(race, Treatment(reference=\"Caucasian\"))[T.Native American]      1.3942      0.766      1.820      0.069      -0.107       2.896\n",
            "C(race, Treatment(reference=\"Caucasian\"))[T.Other]               -0.8263      0.162     -5.098      0.000      -1.144      -0.509\n",
            "C(sex, Treatment(reference=\"Male\"))[T.Female]                     0.2213      0.080      2.783      0.005       0.065       0.377\n",
            "C(c_charge_degree)[T.M]                                          -0.3112      0.067     -4.677      0.000      -0.442      -0.181\n",
            "priors_count                                                      0.2689      0.011     24.221      0.000       0.247       0.291\n",
            "two_year_recid                                                    0.6859      0.064     10.713      0.000       0.560       0.811\n",
            "=================================================================================================================================\n"
          ]
        }
      ],
      "source": [
        "# Logistic Regression: Where the intercept doesn't take the right value automatically, we set it via the reference. \n",
        "# The Intercept shall be: white, male, aged between 25-45\n",
        "import statsmodels.formula.api as smf\n",
        "\n",
        "est = smf.logit('score_text_binary ~ C(age_cat) + C(race, Treatment(reference=\"Caucasian\")) + C(sex,Treatment(reference=\"Male\")) + priors_count + C(c_charge_degree) + two_year_recid', df).fit()\n",
        "print(est.summary())"
      ]
    },
    {
      "cell_type": "code",
      "execution_count": 74,
      "id": "988ea6ce-4426-4ed6-b2cb-262eee07ada1",
      "metadata": {
        "colab": {
          "base_uri": "https://localhost:8080/"
        },
        "id": "988ea6ce-4426-4ed6-b2cb-262eee07ada1",
        "outputId": "a9f73c8f-3a70-49a1-d7a3-abfa8f57258a"
      },
      "outputs": [
        {
          "output_type": "execute_result",
          "data": {
            "text/plain": [
              "1.452825407001621"
            ]
          },
          "metadata": {},
          "execution_count": 74
        }
      ],
      "source": [
        "# Controlling for other variables by taking the Intercept to have a control and a treatment group\n",
        "ControlgGroup= np.exp(-1.5255)/(1+ np.exp(-1.5255))\n",
        "FinalClaim= np.exp(0.4772)/(1- ControlgGroup + (ControlgGroup * np.exp(0.4772)))\n",
        "FinalClaim\n",
        "# Interpretation: Black people are 45% more likely to be assesed as high risk"
      ]
    },
    {
      "cell_type": "markdown",
      "id": "aaf5985c-233e-4790-b3c5-a307a2095eab",
      "metadata": {
        "id": "aaf5985c-233e-4790-b3c5-a307a2095eab"
      },
      "source": [
        "The FinalClaim 1.45 indicates that Black people are 45% more likely to be assesed as high risk"
      ]
    },
    {
      "cell_type": "markdown",
      "id": "553e174b-155f-417f-a5ea-529906f89dcc",
      "metadata": {
        "id": "553e174b-155f-417f-a5ea-529906f89dcc",
        "tags": []
      },
      "source": [
        "### Northpointe's Rebuttal Analysis"
      ]
    },
    {
      "cell_type": "markdown",
      "id": "c43aff4c-bf73-4f6e-bbc5-3bafaae9018c",
      "metadata": {
        "id": "c43aff4c-bf73-4f6e-bbc5-3bafaae9018c"
      },
      "source": [
        "**Different base rates for recidivism**"
      ]
    },
    {
      "cell_type": "markdown",
      "id": "c898f95f-7246-4e71-beee-74cd2da257bf",
      "metadata": {
        "id": "c898f95f-7246-4e71-beee-74cd2da257bf"
      },
      "source": [
        "Northpointe, in their rebuttal to the ProPublica article, explain that:\n",
        "- Propublica failed to include information about the data they used. White people got lower values because they have lower imputs of the risk scales, such as less drug problems, less criminal history, older age than for the black people sample. In addition, white people have lower base rates for recidivism.\n",
        "- COMPAS has equal discriminative ability (equally accurate) for blacks and whites because the AUC for white and black defendant are not significally different. \n",
        "- ProPublica confuses model errors with the target population error. To test racial bias, Northpointes argues that the target population errors should be analyzed, and not the model errors as ProPublica did. They explain that the false positive rate (meaning assign someone as high risk when they are not) will increase if the base rate increases (high recidivism rates for black people). \n"
      ]
    },
    {
      "cell_type": "markdown",
      "id": "01f2d7d9-5f08-4880-bf0e-91bdf2fc4bea",
      "metadata": {
        "id": "01f2d7d9-5f08-4880-bf0e-91bdf2fc4bea"
      },
      "source": [
        "**Different base rates for recidivism**"
      ]
    },
    {
      "cell_type": "code",
      "execution_count": 75,
      "id": "253a0bd4-af8d-4e30-87e8-8cf988b0e6ec",
      "metadata": {
        "colab": {
          "base_uri": "https://localhost:8080/",
          "height": 0
        },
        "id": "253a0bd4-af8d-4e30-87e8-8cf988b0e6ec",
        "outputId": "50e808ae-69c6-41b9-f2e6-1087a596e461"
      },
      "outputs": [
        {
          "output_type": "execute_result",
          "data": {
            "text/plain": [
              "Text(0, 0.5, 'Count')"
            ]
          },
          "metadata": {},
          "execution_count": 75
        },
        {
          "output_type": "display_data",
          "data": {
            "text/plain": [
              "<Figure size 432x288 with 1 Axes>"
            ],
            "image/png": "[encoded data removed]"
          },
          "metadata": {
            "needs_background": "light"
          }
        }
      ],
      "source": [
        "sns.countplot(\n",
        "    data = df_binary,\n",
        "    x = 'is_recid',\n",
        "    hue = 'race',\n",
        "    palette = [\"#ffab40\",\"#016d8c\"]\n",
        ")\n",
        "plt.title('Distribution of recidivism by Race')\n",
        "plt.xlabel('Recidivism')\n",
        "plt.ylabel('Count')"
      ]
    },
    {
      "cell_type": "markdown",
      "id": "632c776f-0b72-480b-947a-9f986fcdb27d",
      "metadata": {
        "id": "632c776f-0b72-480b-947a-9f986fcdb27d"
      },
      "source": [
        "On this plot we can see the different base rates for recidivisim in African-American and Caucasian groups. Black people recidivate at a higher rate than white people. This, as Northpointe explains, will affect the FPR."
      ]
    },
    {
      "cell_type": "markdown",
      "id": "1cdcb63c-faf4-4737-a606-32ea2fb89691",
      "metadata": {
        "id": "1cdcb63c-faf4-4737-a606-32ea2fb89691"
      },
      "source": [
        "**Similar AUC and error rates**"
      ]
    },
    {
      "cell_type": "markdown",
      "id": "19d6289f-6ae9-4f53-8ad3-c40a9e3e7abb",
      "metadata": {
        "id": "19d6289f-6ae9-4f53-8ad3-c40a9e3e7abb"
      },
      "source": [
        "In addition, since Northpointe based their rebuttal on showing that the AUC and error rates for both groups are not significally different. \n",
        "\n",
        "We wanted to reproduce the ROC for the Sample A as Northpointe did. Sample A, as mentioned in their article, \"consists of pretrial defendants with complete case records who have at least two years of follow-up time. The PP authors use Sample A to fit reverse logistic regressions predicting the“Not Low”Risk Level.\""
      ]
    },
    {
      "cell_type": "code",
      "execution_count": 76,
      "id": "756ec26b-bda7-4753-b83a-a5e0ed1074ed",
      "metadata": {
        "id": "756ec26b-bda7-4753-b83a-a5e0ed1074ed"
      },
      "outputs": [],
      "source": [
        "# Convert categorical features to numeric levels\n",
        "for feature in df.columns:\n",
        "    if df[feature].dtype==\"object\":\n",
        "      le = LabelEncoder()\n",
        "      le.fit(df.columns)\n",
        "      df[feature] = le.fit_transform(df[feature].astype(str)) #le.fit_transform(df_train[feature].astype(str))"
      ]
    },
    {
      "cell_type": "code",
      "execution_count": 77,
      "id": "7f17ed0a-eeb1-44b3-ae58-11165b7f3d58",
      "metadata": {
        "id": "7f17ed0a-eeb1-44b3-ae58-11165b7f3d58"
      },
      "outputs": [],
      "source": [
        "# Dataframe of target: binary score text\n",
        "y = df.score_text_binary"
      ]
    },
    {
      "cell_type": "markdown",
      "id": "56cb8d6a-2401-4f36-8acc-30c74f1eab5d",
      "metadata": {
        "id": "56cb8d6a-2401-4f36-8acc-30c74f1eab5d"
      },
      "source": [
        "We take the same features as ProPublica did for their logistic regression. This is what Northpointe did as well (Sample A)"
      ]
    },
    {
      "cell_type": "code",
      "execution_count": 78,
      "id": "2576f1d9-7da7-49c8-880a-18e9e1efb8a4",
      "metadata": {
        "id": "2576f1d9-7da7-49c8-880a-18e9e1efb8a4"
      },
      "outputs": [],
      "source": [
        "X = df[['age_cat','race', 'sex', 'priors_count','c_charge_degree', 'two_year_recid']]\n",
        "X_train, X_test, y_train, y_test = train_test_split(X, y, test_size = 0.11, random_state = 94)"
      ]
    },
    {
      "cell_type": "markdown",
      "id": "d07b09e8-dbfd-4349-b80a-54d96de5b758",
      "metadata": {
        "id": "d07b09e8-dbfd-4349-b80a-54d96de5b758"
      },
      "source": [
        "Although we used the same sample A for our ROC, the AUC is different from Northpointe (AUC=0.71)."
      ]
    },
    {
      "cell_type": "code",
      "execution_count": 79,
      "id": "1b218ec6-a22b-47b4-a610-55933a762c5f",
      "metadata": {
        "colab": {
          "base_uri": "https://localhost:8080/",
          "height": 0
        },
        "id": "1b218ec6-a22b-47b4-a610-55933a762c5f",
        "outputId": "3fc6c184-e2f8-42f2-86ed-7735d070ec91"
      },
      "outputs": [
        {
          "output_type": "display_data",
          "data": {
            "text/plain": [
              "<Figure size 432x288 with 1 Axes>"
            ],
            "image/png": "[encoded data removed]"
          },
          "metadata": {
            "needs_background": "light"
          }
        },
        {
          "output_type": "stream",
          "name": "stdout",
          "text": [
            "The total AUC is  0.7419049137350764\n"
          ]
        }
      ],
      "source": [
        "# Fit logisti regression\n",
        "clf2 = LogisticRegression(solver='newton-cg')\n",
        "clf2.fit(X_train,y_train)\n",
        "\n",
        "# Predict y probability \n",
        "y_pred = clf2.predict_proba(X_test) \n",
        "y_pred_prob = y_pred[:,1]\n",
        "\n",
        "# ROC\n",
        "fpr, tpr, thresholds = metrics.roc_curve(y_test, y_pred_prob)\n",
        "plt.plot([0, 1], [0, 1], color='gray', linestyle='dashed', linewidth = 1)\n",
        "plt.plot(fpr, tpr, label='Logistic Regression', color= '#ffab40')\n",
        "plt.xlabel('False Positive Rate')\n",
        "plt.ylabel('True Positive Rate')\n",
        "plt.title('Logistic Regression ROC Curve')\n",
        "plt.show();\n",
        "\n",
        "#AUC\n",
        "print('The total AUC is ', metrics.roc_auc_score(y_test, y_pred_prob))"
      ]
    },
    {
      "cell_type": "markdown",
      "id": "81c38f1b-00f9-4c0f-a7cb-167d254bf02d",
      "metadata": {
        "id": "81c38f1b-00f9-4c0f-a7cb-167d254bf02d"
      },
      "source": [
        "Although we used the same sample A for our ROC, the AUC is different from Northpointe (AUC=0.71)."
      ]
    },
    {
      "cell_type": "markdown",
      "id": "42ddf8c4-55dd-4504-869c-b89189ec88ec",
      "metadata": {
        "id": "42ddf8c4-55dd-4504-869c-b89189ec88ec"
      },
      "source": [
        "### The Washington Post 1 Analysis"
      ]
    },
    {
      "cell_type": "markdown",
      "id": "009b80ac-d417-4206-a50d-65c65892b585",
      "metadata": {
        "id": "009b80ac-d417-4206-a50d-65c65892b585"
      },
      "source": [
        "The Washington Post 1 goes beyond the claims from Northpointe and ProPublica, and gives a more comprehensive explanation.\n",
        "\n",
        "Basically, they claim that an algorithm can't be fair on both ways:\n",
        "- Northpointe's definition of fairness: in each risk score, both groups have the same proportion of recidivism.\n",
        "- ProPublica definition of fairnes: among defendants who did not reoffend, the proportion of blacks and whites that were classified as low risk should have been the same. As we shown, black defendants are more likely to be classified as High risk although they later wouldn't reoffend.\n"
      ]
    },
    {
      "cell_type": "code",
      "execution_count": 80,
      "id": "5da2c9e9-1410-4bf2-9c7d-2a1a2ee6d415",
      "metadata": {
        "id": "5da2c9e9-1410-4bf2-9c7d-2a1a2ee6d415"
      },
      "outputs": [],
      "source": [
        "def calibration_curve(df):\n",
        "    grouped = df.groupby('decile_score')\n",
        "    return grouped['two_year_recid'].mean()"
      ]
    },
    {
      "cell_type": "code",
      "execution_count": 81,
      "id": "d2c6bb55-721a-4001-ac47-88a8edc6a819",
      "metadata": {
        "colab": {
          "base_uri": "https://localhost:8080/"
        },
        "id": "d2c6bb55-721a-4001-ac47-88a8edc6a819",
        "outputId": "db35bbf2-a1cf-48be-bd28-f599b7c1ef38"
      },
      "outputs": [
        {
          "output_type": "execute_result",
          "data": {
            "text/plain": [
              "(3696, 53)"
            ]
          },
          "metadata": {},
          "execution_count": 81
        }
      ],
      "source": [
        "# Create Datafram with only african-americans\n",
        "df_black = raw_data.loc[raw_data['race'].isin([\"African-American\"])]\n",
        "df_black.shape"
      ]
    },
    {
      "cell_type": "markdown",
      "id": "723f22ee-f7da-409d-8a12-808eb0fb4953",
      "metadata": {
        "id": "723f22ee-f7da-409d-8a12-808eb0fb4953"
      },
      "source": [
        "Washington Post shows the Northpointe's definition of fairnes with the following graphic, which shows the recidivism rate by risk score and race. White and black defendants with the same risk score are roughly equally likely to reoffend."
      ]
    },
    {
      "cell_type": "code",
      "execution_count": 82,
      "id": "6982a18c-7026-46b3-a0b9-171811ec028b",
      "metadata": {
        "colab": {
          "base_uri": "https://localhost:8080/",
          "height": 0
        },
        "id": "6982a18c-7026-46b3-a0b9-171811ec028b",
        "outputId": "dbf0794d-8fc8-4372-bc4e-8aa4e23f0e80"
      },
      "outputs": [
        {
          "output_type": "execute_result",
          "data": {
            "text/plain": [
              "<matplotlib.legend.Legend at 0x7f7102b3d160>"
            ]
          },
          "metadata": {},
          "execution_count": 82
        },
        {
          "output_type": "display_data",
          "data": {
            "text/plain": [
              "<Figure size 432x288 with 1 Axes>"
            ],
            "image/png": "[encoded data removed]"
          },
          "metadata": {
            "needs_background": "light"
          }
        }
      ],
      "source": [
        "# for all data in the dataset\n",
        "cal_all = calibration_curve(raw_data)\n",
        "cal_all.plot(linestyle = 'dotted', \n",
        "              color = 'gray',\n",
        "              label= \"All defendants\")\n",
        "\n",
        "# White Defendants\n",
        "cal_white = calibration_curve(raw_data[raw_data['race'] == \"Caucasian\"])\n",
        "cal_white.plot(\n",
        "    color = \"#ffab40\",\n",
        "    label = \"White\")\n",
        "\n",
        "# Black Defendants\n",
        "cal_black = calibration_curve(raw_data[raw_data['race'] == \"African-American\"])\n",
        "cal_black.plot(\n",
        "    color = \"#016d8c\",\n",
        "    label='Black')\n",
        "\n",
        "# Add title and label\n",
        "plt.title(\"Calibration Curve by Race\")\n",
        "plt.xlabel(\"Decile Score\")\n",
        "plt.ylabel(\"Two Year Recidivism Rate\")\n",
        "plt.legend()"
      ]
    },
    {
      "cell_type": "code",
      "execution_count": 83,
      "id": "ca143296-3244-4826-b9e0-cc1398d0e2ac",
      "metadata": {
        "id": "ca143296-3244-4826-b9e0-cc1398d0e2ac"
      },
      "outputs": [],
      "source": [
        "# Create Datafram with only african-americans\n",
        "df_black = raw_data.loc[raw_data['race'].isin([\"African-American\"])]\n",
        "\n",
        "# Create dataframe with only caucasians\n",
        "df_white = raw_data.loc[raw_data['race'].isin([\"Caucasian\"])]"
      ]
    },
    {
      "cell_type": "markdown",
      "id": "3662342e-fc6c-4dc7-87ad-447018f408ac",
      "metadata": {
        "id": "3662342e-fc6c-4dc7-87ad-447018f408ac",
        "outputId": "6595e43a-c8d3-4b70-bc31-ee32b4dc6c98"
      },
      "source": [
        "In this section, we will perform the following steps to analyze the data per race:\n",
        "\n",
        "* Relabel the score text as before, but instead of using numerical values, we will use descriptive labels.\n",
        "\n",
        "* Divide the dataframe into two groups: those who recidivated and those who did not."
      ]
    },
    {
      "cell_type": "code",
      "execution_count": 84,
      "id": "b1903712-2397-442a-a5f9-25c118d9d398",
      "metadata": {
        "id": "b1903712-2397-442a-a5f9-25c118d9d398"
      },
      "outputs": [],
      "source": [
        "# Per race:\n",
        "# Relabel the score text as before but not with numerical\n",
        "# Devide dataframe in recidivated and non-recidivated\n",
        "df_white['score_text'] = raw_data['score_text'].replace(['Medium'], 'Medium/High').replace(['High'], 'Medium/High')\n",
        "df_white_recid = df_white.loc[df_white['is_recid'].isin([1])]\n",
        "df_white_nonrecid = df_white.loc[df_white['is_recid'].isin([0])]\n",
        "\n",
        "df_black['score_text'] = raw_data['score_text'].replace(['Medium'], 'Medium/High').replace(['High'], 'Medium/High')\n",
        "df_black_recid = df_black.loc[df_black['is_recid'].isin([1])]\n",
        "df_black_nonrecid = df_black.loc[df_black['is_recid'].isin([0])]"
      ]
    },
    {
      "cell_type": "code",
      "execution_count": 85,
      "id": "21edc3f9-af1e-480f-81d8-f386b976a1d9",
      "metadata": {
        "colab": {
          "base_uri": "https://localhost:8080/",
          "height": 0
        },
        "id": "21edc3f9-af1e-480f-81d8-f386b976a1d9",
        "outputId": "ecce7289-3209-4759-fa1b-c216bd73177f"
      },
      "outputs": [
        {
          "output_type": "display_data",
          "data": {
            "text/plain": [
              "<Figure size 720x360 with 2 Axes>"
            ],
            "image/png": "[encoded data removed]"
          },
          "metadata": {
            "needs_background": "light"
          }
        }
      ],
      "source": [
        "# Create figure and axes objects\n",
        "fig, (ax1, ax2) = plt.subplots(1, 2, figsize=(10,5))\n",
        "\n",
        "# Plot first dataframe\n",
        "df_plot = df_black.groupby(['is_recid', 'score_text']).size().reset_index().pivot(columns='is_recid', index='score_text', values=0)\n",
        "df_plot.plot(\n",
        "    kind='bar', \n",
        "    stacked=True,\n",
        "    width=0.7,\n",
        "    title='Distribution of recidivism for Blacks',\n",
        "    color=[\"#ffab40\",\"#016d8c\"],\n",
        "    ax=ax1)\n",
        "ax1.set_xlabel(\"Risk Category\")\n",
        "ax1.set_ylabel(\"Number of Defendants\")\n",
        "ax1.invert_xaxis()\n",
        "plt.ylim([0, 2250])\n",
        "plt.yticks([0, 500, 1000, 1500, 2000])\n",
        "\n",
        "# Plot second dataframe\n",
        "df_plot = df_white.groupby(['is_recid', 'score_text']).size().reset_index().pivot(columns='is_recid', index='score_text', values=0)\n",
        "df_plot.plot(\n",
        "    kind='bar', \n",
        "    stacked=True,\n",
        "    width=0.7,\n",
        "    title='Distribution of recidivism for Whites',\n",
        "    color=[\"#ffab40\",\"#016d8c\"],\n",
        "    ax=ax2)\n",
        "ax2.set_xlabel(\"Risk Category\")\n",
        "ax2.set_ylabel(\"\")\n",
        "ax2.invert_xaxis()\n",
        "plt.ylim([0, 2250])\n",
        "plt.yticks([0, 500, 1000, 1500, 2000])\n",
        "\n",
        "# Show plot\n",
        "plt.show()"
      ]
    },
    {
      "cell_type": "markdown",
      "id": "7e576e95-c5bf-45bd-bfce-314557a96f59",
      "metadata": {
        "id": "7e576e95-c5bf-45bd-bfce-314557a96f59"
      },
      "source": [
        "Finally, on their article they show the previous chart to visualize two things:\n",
        "- The proportion of defendants who reoffend is the same for black and white people.\n",
        "- The recidivism base rate for black defendants is higher than for white defendants.\n",
        "\n",
        "With this, they explain that innevitably a greater amount of black defendant will be classified as high risk, and with that more black defendant will also be missclassified as high risk.\n",
        "\n",
        "In relation to what Northpointe said, if the prevalence (recidivism base rate) for both groups is different, then is not possible for both errors (model and population) to be fair.\n",
        "\n",
        "Northpointe has \"fair\", meaning similar, population errors, and therefore the FPR (model error) will be higher for black people."
      ]
    },
    {
      "cell_type": "markdown",
      "id": "2d08ef28-795c-4837-b6d3-427bb73469d2",
      "metadata": {
        "tags": [],
        "id": "2d08ef28-795c-4837-b6d3-427bb73469d2"
      },
      "source": [
        "## Recidivism Classification"
      ]
    },
    {
      "cell_type": "markdown",
      "id": "064293a3-c8f7-4e0c-b49e-e7349e694fc0",
      "metadata": {
        "tags": [],
        "id": "064293a3-c8f7-4e0c-b49e-e7349e694fc0"
      },
      "source": [
        "### Processing Data"
      ]
    },
    {
      "cell_type": "markdown",
      "id": "6d2f1a30-bd02-4b9f-be9e-bd8466990ad5",
      "metadata": {
        "id": "6d2f1a30-bd02-4b9f-be9e-bd8466990ad5"
      },
      "source": [
        "Our hypothesis focuses on the predictability of recidivism based on simple factors, therefore, we only use a subset of the features available in the dataset. The selected features include 'sex', 'age', 'race', 'priors_count', and 'c_charge_degree', which will be used to predict the two-year recidivism. These features were chosen based on their simplicity and potential impact on recidivism, and represent a mix of demographic and criminal history information.\""
      ]
    },
    {
      "cell_type": "code",
      "execution_count": 86,
      "id": "73cc5ad9-dbd2-47e0-a326-4089877fc95c",
      "metadata": {
        "id": "73cc5ad9-dbd2-47e0-a326-4089877fc95c"
      },
      "outputs": [],
      "source": [
        "df = compas_df.copy()"
      ]
    },
    {
      "cell_type": "code",
      "execution_count": 87,
      "id": "ec531b6d-c369-425d-81bb-547e72e15855",
      "metadata": {
        "colab": {
          "base_uri": "https://localhost:8080/"
        },
        "id": "ec531b6d-c369-425d-81bb-547e72e15855",
        "outputId": "04476ac4-2a62-4725-d314-f639253f667d"
      },
      "outputs": [
        {
          "output_type": "execute_result",
          "data": {
            "text/plain": [
              "(6172, 6)"
            ]
          },
          "metadata": {},
          "execution_count": 87
        }
      ],
      "source": [
        "df = df[['sex', 'age', 'race', 'priors_count', 'c_charge_degree', 'two_year_recid']]\n",
        "df.shape"
      ]
    },
    {
      "cell_type": "markdown",
      "id": "1232ce8c-18dc-403c-8694-fac2fc61aed2",
      "metadata": {
        "id": "1232ce8c-18dc-403c-8694-fac2fc61aed2"
      },
      "source": [
        "#### Data bias \n",
        "To solve the data imbalance this issue in Race group, we merge these two groups into a single \"Other\" group, making the sample data more balanced and allowing us to make more accurate predictions.\""
      ]
    },
    {
      "cell_type": "code",
      "execution_count": 88,
      "id": "05b32f22-e776-4e36-ae4c-d14f96362ad5",
      "metadata": {
        "colab": {
          "base_uri": "https://localhost:8080/"
        },
        "id": "05b32f22-e776-4e36-ae4c-d14f96362ad5",
        "outputId": "5e13b0c1-0cef-4f9e-d4e5-fcb684d95266"
      },
      "outputs": [
        {
          "output_type": "execute_result",
          "data": {
            "text/plain": [
              "African-American    3175\n",
              "Caucasian           2103\n",
              "Hispanic             509\n",
              "Other                385\n",
              "Name: race, dtype: int64"
            ]
          },
          "metadata": {},
          "execution_count": 88
        }
      ],
      "source": [
        "df.loc[df['race'].isin(['Native American', 'Asian']), 'race'] = \"Other\"\n",
        "df['race'].value_counts()"
      ]
    },
    {
      "cell_type": "markdown",
      "id": "62d096bf-d8ca-406c-a128-432656bc783e",
      "metadata": {
        "id": "62d096bf-d8ca-406c-a128-432656bc783e"
      },
      "source": [
        "#### Data Imbalance"
      ]
    },
    {
      "cell_type": "markdown",
      "id": "03e90e53-5487-4ed3-8a69-e6f4f4d25ba0",
      "metadata": {
        "id": "03e90e53-5487-4ed3-8a69-e6f4f4d25ba0"
      },
      "source": [
        "In this step, we are checking the balance of the target variable, which is the rate of recidivism. According to the data, the rate of defendants who do not recidivate is 45.51% and the rate of recidivism is 54.49%. This means that the data is imbalanced, with a higher rate of recidivism than defendants who do not recidivate. Despite the imbalance, the difference in the rate is small, so we have decided to leave it as it is, without making any adjustments."
      ]
    },
    {
      "cell_type": "code",
      "execution_count": 89,
      "id": "6fec6b6f-3e74-4bfb-8c71-6c7477ddaaf7",
      "metadata": {
        "colab": {
          "base_uri": "https://localhost:8080/"
        },
        "id": "6fec6b6f-3e74-4bfb-8c71-6c7477ddaaf7",
        "outputId": "ad4e3176-7f88-450d-eecb-ccffea4415d6"
      },
      "outputs": [
        {
          "output_type": "stream",
          "name": "stdout",
          "text": [
            "Not Recidivism Rate: 45.512%\n",
            "Recidivism Rate: 54.488%\n"
          ]
        }
      ],
      "source": [
        "not_recid = (df['two_year_recid'].sum()/df['two_year_recid'].shape[0])*100\n",
        "\n",
        "print(\"Not Recidivism Rate: %.3f%%\" % not_recid)\n",
        "print(\"Recidivism Rate: %.3f%%\" % (100-not_recid))"
      ]
    },
    {
      "cell_type": "markdown",
      "id": "9bb71a09-f450-4d82-8dca-6ad80fb8e207",
      "metadata": {
        "tags": [],
        "id": "9bb71a09-f450-4d82-8dca-6ad80fb8e207"
      },
      "source": [
        "#### Convert Categorical Data"
      ]
    },
    {
      "cell_type": "markdown",
      "id": "ac579e37-e21a-4c2f-a2d7-7607600fc17e",
      "metadata": {
        "id": "ac579e37-e21a-4c2f-a2d7-7607600fc17e"
      },
      "source": [
        "The categorical data is converted into numerical data with OneHotCoder. The purpose of converting these variables into numerical form is to make it easier for machine learning algorithms to work with the data. In addition, to ensure consistency and accurate scaling, the numerical data is then standardized using StandardScaler. This helps to eliminate any biases or disparities that may be present in the data, leading to more accurate results from machine learning models."
      ]
    },
    {
      "cell_type": "code",
      "execution_count": 90,
      "id": "5ad91177-c8d8-4a7f-a58f-14c62d2beafd",
      "metadata": {
        "id": "5ad91177-c8d8-4a7f-a58f-14c62d2beafd"
      },
      "outputs": [],
      "source": [
        "categorical_features = ['race', 'sex', 'c_charge_degree']\n",
        "categorical_transformer = Pipeline(steps = [\n",
        "    ('onehot', OneHotEncoder(drop='if_binary'))\n",
        "])\n",
        "\n",
        "numerical_features = ['age', 'priors_count']\n",
        "numerical_transformer = Pipeline(steps=[\n",
        "    ('scale', StandardScaler())\n",
        "])\n",
        "\n",
        "# Pipeline for Data Preprocess\n",
        "preprocessor = ColumnTransformer(transformers=[\n",
        "        ('cate', categorical_transformer, categorical_features),\n",
        "        ('num', numerical_transformer, numerical_features)\n",
        "])"
      ]
    },
    {
      "cell_type": "markdown",
      "id": "fc7d68e5-dba2-42c0-a4be-9b1ffae7c523",
      "metadata": {
        "tags": [],
        "id": "fc7d68e5-dba2-42c0-a4be-9b1ffae7c523"
      },
      "source": [
        "### Model Implementation"
      ]
    },
    {
      "cell_type": "markdown",
      "id": "22db3832-a18c-4554-a813-4b2439c42d7d",
      "metadata": {
        "id": "22db3832-a18c-4554-a813-4b2439c42d7d"
      },
      "source": [
        "#### Training and Testing Data"
      ]
    },
    {
      "cell_type": "markdown",
      "id": "aa76152e-776c-4734-936f-142b0c9df02f",
      "metadata": {
        "id": "aa76152e-776c-4734-936f-142b0c9df02f"
      },
      "source": [
        "The dataset was divided into two parts: 70% for training and 30% for testing. In order to ensure that the proportion of positive and negative samples in both the training and testing datasets was the same as in the original dataset, the stratified sampling approach was used with the target variable 'two_year_recid' as the stratification criterion. This helps to avoid any bias in the model evaluation that could result from an imbalanced distribution of the target variable in the training and testing datasets."
      ]
    },
    {
      "cell_type": "code",
      "execution_count": 91,
      "id": "f0f8af9f-e4fc-4f22-b114-5b1615c4abb8",
      "metadata": {
        "id": "f0f8af9f-e4fc-4f22-b114-5b1615c4abb8"
      },
      "outputs": [],
      "source": [
        "# define features, target, and stratify for splitting\n",
        "features = df[['sex','age','race','priors_count','c_charge_degree']]\n",
        "target = df['two_year_recid']\n",
        "stratify = df['two_year_recid']\n",
        "race = df['race'] # for fairness check later"
      ]
    },
    {
      "cell_type": "code",
      "execution_count": 92,
      "id": "0c3f89e9-3157-4c10-9b24-df17924f0786",
      "metadata": {
        "id": "0c3f89e9-3157-4c10-9b24-df17924f0786"
      },
      "outputs": [],
      "source": [
        "X_train, X_test, y_train, y_test, race_train, race_test = train_test_split(\n",
        "        features, \n",
        "        target, \n",
        "        race,\n",
        "        test_size = 0.3,\n",
        "        random_state = rand\n",
        ")"
      ]
    },
    {
      "cell_type": "markdown",
      "id": "24c75f31-a302-4563-8f37-1371172194ac",
      "metadata": {
        "id": "24c75f31-a302-4563-8f37-1371172194ac"
      },
      "source": [
        "#### Model Selections"
      ]
    },
    {
      "cell_type": "markdown",
      "id": "77ba084f-9c73-4665-8d73-61cef169c906",
      "metadata": {
        "id": "77ba084f-9c73-4665-8d73-61cef169c906"
      },
      "source": [
        "We use Logistic Regression as the baseline model due to its simplicity and ease of interpretability. It is widely used for binary classification problems and can provide a quick and efficient solution for our problem.\n",
        "\n",
        "For the tree-based models, we use Decision Tree and Random Forest. Random Forest is an ensemble model that builds multiple decision trees and aggregates their predictions to reduce overfitting and improve accuracy. Decision Tree, on the other hand, builds a single tree from the training data, making it easier to interpret the model. These two models are popular for their performance, scalability, and ability to handle large datasets. \n",
        "\n",
        "Initially, the model is implemented on the training data without any tuning or adjustments to the model's parameters. This allows us to obtain a baseline performance of the model and serves as a starting point for further optimization."
      ]
    },
    {
      "cell_type": "code",
      "execution_count": 93,
      "id": "339a802d-426b-43ae-8669-833d4ce720f4",
      "metadata": {
        "id": "339a802d-426b-43ae-8669-833d4ce720f4"
      },
      "outputs": [],
      "source": [
        "classifiers = {\n",
        "    'Logistic Regression': {'model': Pipeline(steps = [\n",
        "        ('preprocessor', preprocessor),\n",
        "        ('classifier', LogisticRegression(random_state = rand))])},\n",
        "    'Decision Tree' : {'model': Pipeline(steps = [\n",
        "        ('preprocessor', preprocessor),\n",
        "        ('classifier', DecisionTreeClassifier(random_state = rand))])},\n",
        "    'Random Forest' : {'model': Pipeline(steps = [\n",
        "        ('preprocessor', preprocessor),\n",
        "        ('classifier', RandomForestClassifier(random_state = rand))])}\n",
        "}"
      ]
    },
    {
      "cell_type": "markdown",
      "id": "db04ee9a-f043-4562-870c-02b5e66611fc",
      "metadata": {
        "id": "db04ee9a-f043-4562-870c-02b5e66611fc"
      },
      "source": [
        "#### Evaluation Metrics\n",
        "The F1 score and AUC ROC are used as the evaluation metrics for the models due to the slight imbalance in the data class. These metrics provide a comprehensive evaluation of the model's performance in terms of precision, recall, and accuracy, allowing us to address the imbalance in the data class and accurately assess the model's ability to predict recidivism. In addition, cross validation using Stratified Kfolds with 5 splits is also employed to improve the robustness of the model evaluation results."
      ]
    },
    {
      "cell_type": "code",
      "execution_count": 94,
      "id": "92034b03-1e14-48ea-a9f0-b0faed3239e4",
      "metadata": {
        "id": "92034b03-1e14-48ea-a9f0-b0faed3239e4"
      },
      "outputs": [],
      "source": [
        "# create a df to store the cross-validation results of each model\n",
        "cv_result = pd.DataFrame(columns= ['Model', \n",
        "                                   'AVG F1', \n",
        "                                   'AVG AUC', \n",
        "                                   'AVG Precision', \n",
        "                                   'AVG Recall', \n",
        "                                   'AVG Accuracy'])"
      ]
    },
    {
      "cell_type": "code",
      "execution_count": 95,
      "id": "c1b9ca4c-266c-41f3-a2e9-01267c5ac46c",
      "metadata": {
        "id": "c1b9ca4c-266c-41f3-a2e9-01267c5ac46c"
      },
      "outputs": [],
      "source": [
        "for model_name in classifiers.keys():\n",
        "    model = classifiers[model_name]['model']\n",
        "    \n",
        "    # define scoring metrics\n",
        "    scoring = ['f1','roc_auc','precision','recall','accuracy']\n",
        "        \n",
        "    # generate cross validation for with defined random state\n",
        "    skf = StratifiedKFold(n_splits = 5, random_state = rand, shuffle = True)\n",
        "        \n",
        "    # cross validation\n",
        "    scores = cross_validate(\n",
        "        model, \n",
        "        X_train, \n",
        "        y_train, \n",
        "        scoring = scoring, \n",
        "        cv = skf)\n",
        "    cv_result = cv_result.append({'Model': model_name, \n",
        "                                  'AVG F1': scores['test_f1'].mean(), \n",
        "                                  'AVG AUC': scores['test_roc_auc'].mean(),\n",
        "                                  'AVG Precision': scores['test_precision'].mean(), \n",
        "                                   'AVG Recall': scores['test_recall'].mean(), \n",
        "                                   'AVG Accuracy': scores['test_accuracy'].mean()\n",
        "                                 }, ignore_index = True\n",
        "                                )"
      ]
    },
    {
      "cell_type": "code",
      "execution_count": 96,
      "id": "77832b71-7912-43ae-838b-48ed855cb8e9",
      "metadata": {
        "colab": {
          "base_uri": "https://localhost:8080/",
          "height": 0
        },
        "id": "77832b71-7912-43ae-838b-48ed855cb8e9",
        "outputId": "229c93a5-89d7-4ce6-e237-53c25aec3e7d"
      },
      "outputs": [
        {
          "output_type": "stream",
          "name": "stdout",
          "text": [
            "Cross Validation Result\n"
          ]
        },
        {
          "output_type": "execute_result",
          "data": {
            "text/plain": [
              "                 Model    AVG F1   AVG AUC  AVG Precision  AVG Recall  \\\n",
              "0  Logistic Regression  0.607257  0.721527       0.675775    0.551654   \n",
              "2        Random Forest  0.565130  0.658175       0.575591    0.555216   \n",
              "1        Decision Tree  0.525996  0.606750       0.566048    0.491603   \n",
              "\n",
              "   AVG Accuracy  \n",
              "0      0.675694  \n",
              "2      0.611343  \n",
              "1      0.597454  "
            ],
            "text/html": [
              "\n",
              "  <div id=\"df-922cdc43-985a-4b8f-87c9-af125ae35d26\">\n",
              "    <div class=\"colab-df-container\">\n",
              "      <div>\n",
              "<style scoped>\n",
              "    .dataframe tbody tr th:only-of-type {\n",
              "        vertical-align: middle;\n",
              "    }\n",
              "\n",
              "    .dataframe tbody tr th {\n",
              "        vertical-align: top;\n",
              "    }\n",
              "\n",
              "    .dataframe thead th {\n",
              "        text-align: right;\n",
              "    }\n",
              "</style>\n",
              "<table border=\"1\" class=\"dataframe\">\n",
              "  <thead>\n",
              "    <tr style=\"text-align: right;\">\n",
              "      <th></th>\n",
              "      <th>Model</th>\n",
              "      <th>AVG F1</th>\n",
              "      <th>AVG AUC</th>\n",
              "      <th>AVG Precision</th>\n",
              "      <th>AVG Recall</th>\n",
              "      <th>AVG Accuracy</th>\n",
              "    </tr>\n",
              "  </thead>\n",
              "  <tbody>\n",
              "    <tr>\n",
              "      <th>0</th>\n",
              "      <td>Logistic Regression</td>\n",
              "      <td>0.607257</td>\n",
              "      <td>0.721527</td>\n",
              "      <td>0.675775</td>\n",
              "      <td>0.551654</td>\n",
              "      <td>0.675694</td>\n",
              "    </tr>\n",
              "    <tr>\n",
              "      <th>2</th>\n",
              "      <td>Random Forest</td>\n",
              "      <td>0.565130</td>\n",
              "      <td>0.658175</td>\n",
              "      <td>0.575591</td>\n",
              "      <td>0.555216</td>\n",
              "      <td>0.611343</td>\n",
              "    </tr>\n",
              "    <tr>\n",
              "      <th>1</th>\n",
              "      <td>Decision Tree</td>\n",
              "      <td>0.525996</td>\n",
              "      <td>0.606750</td>\n",
              "      <td>0.566048</td>\n",
              "      <td>0.491603</td>\n",
              "      <td>0.597454</td>\n",
              "    </tr>\n",
              "  </tbody>\n",
              "</table>\n",
              "</div>\n",
              "      <button class=\"colab-df-convert\" onclick=\"convertToInteractive('df-922cdc43-985a-4b8f-87c9-af125ae35d26')\"\n",
              "              title=\"Convert this dataframe to an interactive table.\"\n",
              "              style=\"display:none;\">\n",
              "        \n",
              "  <svg xmlns=\"http://www.w3.org/2000/svg\" height=\"24px\"viewBox=\"0 0 24 24\"\n",
              "       width=\"24px\">\n",
              "    <path d=\"M0 0h24v24H0V0z\" fill=\"none\"/>\n",
              "    <path d=\"M18.56 5.44l.94 2.06.94-2.06 2.06-.94-2.06-.94-.94-2.06-.94 2.06-2.06.94zm-11 1L8.5 8.5l.94-2.06 2.06-.94-2.06-.94L8.5 2.5l-.94 2.06-2.06.94zm10 10l.94 2.06.94-2.06 2.06-.94-2.06-.94-.94-2.06-.94 2.06-2.06.94z\"/><path d=\"M17.41 7.96l-1.37-1.37c-.4-.4-.92-.59-1.43-.59-.52 0-1.04.2-1.43.59L10.3 9.45l-7.72 7.72c-.78.78-.78 2.05 0 2.83L4 21.41c.39.39.9.59 1.41.59.51 0 1.02-.2 1.41-.59l7.78-7.78 2.81-2.81c.8-.78.8-2.07 0-2.86zM5.41 20L4 18.59l7.72-7.72 1.47 1.35L5.41 20z\"/>\n",
              "  </svg>\n",
              "      </button>\n",
              "      \n",
              "  <style>\n",
              "    .colab-df-container {\n",
              "      display:flex;\n",
              "      flex-wrap:wrap;\n",
              "      gap: 12px;\n",
              "    }\n",
              "\n",
              "    .colab-df-convert {\n",
              "      background-color: #E8F0FE;\n",
              "      border: none;\n",
              "      border-radius: 50%;\n",
              "      cursor: pointer;\n",
              "      display: none;\n",
              "      fill: #1967D2;\n",
              "      height: 32px;\n",
              "      padding: 0 0 0 0;\n",
              "      width: 32px;\n",
              "    }\n",
              "\n",
              "    .colab-df-convert:hover {\n",
              "      background-color: #E2EBFA;\n",
              "      box-shadow: 0px 1px 2px rgba(60, 64, 67, 0.3), 0px 1px 3px 1px rgba(60, 64, 67, 0.15);\n",
              "      fill: #174EA6;\n",
              "    }\n",
              "\n",
              "    [theme=dark] .colab-df-convert {\n",
              "      background-color: #3B4455;\n",
              "      fill: #D2E3FC;\n",
              "    }\n",
              "\n",
              "    [theme=dark] .colab-df-convert:hover {\n",
              "      background-color: #434B5C;\n",
              "      box-shadow: 0px 1px 3px 1px rgba(0, 0, 0, 0.15);\n",
              "      filter: drop-shadow(0px 1px 2px rgba(0, 0, 0, 0.3));\n",
              "      fill: #FFFFFF;\n",
              "    }\n",
              "  </style>\n",
              "\n",
              "      <script>\n",
              "        const buttonEl =\n",
              "          document.querySelector('#df-922cdc43-985a-4b8f-87c9-af125ae35d26 button.colab-df-convert');\n",
              "        buttonEl.style.display =\n",
              "          google.colab.kernel.accessAllowed ? 'block' : 'none';\n",
              "\n",
              "        async function convertToInteractive(key) {\n",
              "          const element = document.querySelector('#df-922cdc43-985a-4b8f-87c9-af125ae35d26');\n",
              "          const dataTable =\n",
              "            await google.colab.kernel.invokeFunction('convertToInteractive',\n",
              "                                                     [key], {});\n",
              "          if (!dataTable) return;\n",
              "\n",
              "          const docLinkHtml = 'Like what you see? Visit the ' +\n",
              "            '<a target=\"_blank\" href=https://colab.research.google.com/notebooks/data_table.ipynb>data table notebook</a>'\n",
              "            + ' to learn more about interactive tables.';\n",
              "          element.innerHTML = '';\n",
              "          dataTable['output_type'] = 'display_data';\n",
              "          await google.colab.output.renderOutput(dataTable, element);\n",
              "          const docLink = document.createElement('div');\n",
              "          docLink.innerHTML = docLinkHtml;\n",
              "          element.appendChild(docLink);\n",
              "        }\n",
              "      </script>\n",
              "    </div>\n",
              "  </div>\n",
              "  "
            ]
          },
          "metadata": {},
          "execution_count": 96
        }
      ],
      "source": [
        "# print the result, sort by the AVG F1\n",
        "print(\"Cross Validation Result\")\n",
        "cv_result.sort_values(by='AVG F1', ascending=False)"
      ]
    },
    {
      "cell_type": "markdown",
      "id": "1112ad67-d7ff-4313-8b6a-98287ca67fd9",
      "metadata": {
        "id": "1112ad67-d7ff-4313-8b6a-98287ca67fd9"
      },
      "source": [
        "The Logistic Regression model has demonstrated the best performance in terms of F1 score and AUC ROC. As a next step, we will fine-tune the tree-based models to see if we can improve their performance and find a model that outperforms Logistic Regression."
      ]
    },
    {
      "cell_type": "markdown",
      "id": "529f04da-58ad-4ee1-a999-cb94be3b59a8",
      "metadata": {
        "id": "529f04da-58ad-4ee1-a999-cb94be3b59a8"
      },
      "source": [
        "#### Model Tuning"
      ]
    },
    {
      "cell_type": "markdown",
      "id": "21aef35a-e5bf-408e-a472-ca76b450682d",
      "metadata": {
        "id": "21aef35a-e5bf-408e-a472-ca76b450682d"
      },
      "source": [
        "We utilized Random Search to find the best hyperparameters for each of the tree-based models. The hyperparameters are the parameters that cannot be learned from the training data and are used to control the learning process of the model. By fine-tuning these hyperparameters, we aimed to improve the performance of the tree-based models and find the best one for our problem."
      ]
    },
    {
      "cell_type": "code",
      "execution_count": 97,
      "id": "b0916de9-9057-49cd-84bb-0ab6b628077d",
      "metadata": {
        "id": "b0916de9-9057-49cd-84bb-0ab6b628077d"
      },
      "outputs": [],
      "source": [
        "# define params grid for decision tree\n",
        "dt_param_grid = {\n",
        "    'classifier__criterion': ['gini'],\n",
        "    'classifier__splitter': ['best','random'],\n",
        "    'classifier__max_depth': [2,5,10,20,40,None],\n",
        "    'classifier__min_samples_split': [1,3,5,7],\n",
        "    'classifier__max_features': ['auto','sqrt','log2',None]}"
      ]
    },
    {
      "cell_type": "code",
      "execution_count": 98,
      "id": "da4e7b5e-8e30-4433-b8c3-3a151ae29e33",
      "metadata": {
        "id": "da4e7b5e-8e30-4433-b8c3-3a151ae29e33"
      },
      "outputs": [],
      "source": [
        "# define params grid for random forest\n",
        "rf_param_grid = {\n",
        "    'classifier__n_estimators': [int(x) for x in np.linspace(start = 100, stop = 200, num = 20)],\n",
        "    'classifier__max_features': ['auto', 'sqrt'],\n",
        "    'classifier__max_depth': [int(x) for x in np.linspace(80, 100, num = 10)],\n",
        "    'classifier__min_samples_split': [int(x) for x in np.linspace(start = 2, stop = 20, num = 5)],\n",
        "    'classifier__min_samples_leaf': [int(x) for x in np.linspace(start = 1, stop = 20, num = 2)],\n",
        "    'classifier__bootstrap': [True, False]\n",
        "}"
      ]
    },
    {
      "cell_type": "code",
      "execution_count": 99,
      "id": "1afa2ac7-3f18-4260-9b3d-8247bf086164",
      "metadata": {
        "id": "1afa2ac7-3f18-4260-9b3d-8247bf086164"
      },
      "outputs": [],
      "source": [
        "tuning_classifiers = {\n",
        "    'Decision Tree' : {'model': Pipeline(steps = [\n",
        "        ('preprocessor', preprocessor),\n",
        "        ('classifier', DecisionTreeClassifier(random_state = rand))]), 'param_grid': dt_param_grid},\n",
        "    'Random Forest' : {'model': Pipeline(steps = [\n",
        "        ('preprocessor', preprocessor),\n",
        "        ('classifier', RandomForestClassifier(random_state = rand))]), 'param_grid': rf_param_grid}\n",
        "}"
      ]
    },
    {
      "cell_type": "code",
      "execution_count": 102,
      "id": "8a689548-844b-4155-935b-dbbff215597c",
      "metadata": {
        "colab": {
          "base_uri": "https://localhost:8080/"
        },
        "id": "8a689548-844b-4155-935b-dbbff215597c",
        "outputId": "756612cc-daae-48e0-fc56-a818d7b7578f"
      },
      "outputs": [
        {
          "output_type": "stream",
          "name": "stdout",
          "text": [
            "True Negatives (TN): 768\n",
            "False Positives (FP): 240\n",
            "False Negatives (FN): 379\n",
            "True Positives (TP): 465\n",
            "\n",
            "Classification Report:\n",
            "              precision    recall  f1-score   support\n",
            "\n",
            "           0       0.67      0.76      0.71      1008\n",
            "           1       0.66      0.55      0.60       844\n",
            "\n",
            "    accuracy                           0.67      1852\n",
            "   macro avg       0.66      0.66      0.66      1852\n",
            "weighted avg       0.67      0.67      0.66      1852\n",
            "\n",
            "Decision Tree\n",
            "best score = 0.6664351851851852\n",
            "best params = {'classifier__splitter': 'best', 'classifier__min_samples_split': 3, 'classifier__max_features': 'log2', 'classifier__max_depth': 5, 'classifier__criterion': 'gini'}\n",
            "\n",
            "True Negatives (TN): 787\n",
            "False Positives (FP): 221\n",
            "False Negatives (FN): 348\n",
            "True Positives (TP): 496\n",
            "\n",
            "Classification Report:\n",
            "              precision    recall  f1-score   support\n",
            "\n",
            "           0       0.69      0.78      0.73      1008\n",
            "           1       0.69      0.59      0.64       844\n",
            "\n",
            "    accuracy                           0.69      1852\n",
            "   macro avg       0.69      0.68      0.68      1852\n",
            "weighted avg       0.69      0.69      0.69      1852\n",
            "\n",
            "Random Forest\n",
            "best score = 0.6761574074074075\n",
            "best params = {'classifier__n_estimators': 178, 'classifier__min_samples_split': 20, 'classifier__min_samples_leaf': 20, 'classifier__max_features': 'auto', 'classifier__max_depth': 91, 'classifier__bootstrap': True}\n",
            "\n"
          ]
        }
      ],
      "source": [
        "# comment out b/c running time was a bit long, the results were added to the classifiers below\n",
        "\n",
        "#  for model_name in tuning_classifiers.keys():\n",
        "#    rs = RandomizedSearchCV(\n",
        "#        estimator = tuning_classifiers[model_name]['model'], \n",
        "#        param_distributions = tuning_classifiers[model_name]['param_grid'], \n",
        "#        n_iter = 100, \n",
        "#        cv = 5, \n",
        "#        scoring ='f1_micro',\n",
        "#        random_state = rand)\n",
        "#    rs.fit(X_train, y_train)\n",
        "#    y_pred = rs.predict(X_test)\n",
        "   \n",
        "#    cm = confusion_matrix(y_test, y_pred)\n",
        "  \n",
        "#    cr = classification_report(y_test, y_pred)\n",
        "#    tn, fp, fn, tp = cm.ravel()\n",
        "#    print(\"True Negatives (TN):\", tn)\n",
        "#    print(\"False Positives (FP):\", fp)\n",
        "#    print(\"False Negatives (FN):\", fn)\n",
        "#    print(\"True Positives (TP):\", tp)\n",
        "#    print()\n",
        "#    print(\"Classification Report:\")\n",
        "#    print(cr)\n",
        "#    print(model_name)\n",
        "#    print('best score = ' + str(rs.best_score_))\n",
        "#    print('best params = ' + str(rs.best_params_))\n",
        "#    print()"
      ]
    },
    {
      "cell_type": "code",
      "execution_count": 103,
      "id": "b999693b-259e-400f-9735-1717ec9e3cfa",
      "metadata": {
        "id": "b999693b-259e-400f-9735-1717ec9e3cfa"
      },
      "outputs": [],
      "source": [
        "tuned_classifiers = {\n",
        "    'Logistic Regression': {'model': Pipeline(steps = [\n",
        "        ('preprocessor', preprocessor),\n",
        "        ('classifier', LogisticRegression(random_state = rand))])},\n",
        "     'Decision Tree' : {'model': Pipeline(steps = [\n",
        "        ('preprocessor', preprocessor),\n",
        "        ('classifier', DecisionTreeClassifier(\n",
        "            splitter = 'best', \n",
        "            min_samples_split = 3, \n",
        "            max_features = 'log2', \n",
        "            max_depth = 5, \n",
        "            criterion = 'gini',\n",
        "            random_state = rand))])},\n",
        "    'Random Forest' : {'model': Pipeline(steps = [\n",
        "        ('preprocessor', preprocessor),\n",
        "        ('classifier', RandomForestClassifier(\n",
        "            n_estimators = 178,\n",
        "            min_samples_split = 20,\n",
        "            min_samples_leaf = 20,\n",
        "            max_features = 'auto' ,\n",
        "            max_depth = 91,\n",
        "            bootstrap = True,\n",
        "            random_state = rand))])}\n",
        "}"
      ]
    },
    {
      "cell_type": "markdown",
      "id": "af9d06e9-570f-423d-a125-4014a5179dd7",
      "metadata": {
        "tags": [],
        "id": "af9d06e9-570f-423d-a125-4014a5179dd7"
      },
      "source": [
        "### Results"
      ]
    },
    {
      "cell_type": "markdown",
      "id": "b9b79c85-7f0e-43f6-91af-8c1aec381d2c",
      "metadata": {
        "id": "b9b79c85-7f0e-43f6-91af-8c1aec381d2c"
      },
      "source": [
        "We use the Dalex package which provides a suite of tools for interpretation and explanation of complex predictive models. The use of Dalex allows us to obtain a better understanding of the relationship between our predictors and the outcome we aim to predict. "
      ]
    },
    {
      "cell_type": "code",
      "execution_count": 104,
      "id": "a51fc172-899a-4c4f-9e69-744ed273a45d",
      "metadata": {
        "id": "a51fc172-899a-4c4f-9e69-744ed273a45d"
      },
      "outputs": [],
      "source": [
        "# use Dalexdalex library\n",
        "import dalex as dx\n",
        "# https://pypi.org/project/dalex/\n",
        "\n",
        "# please import plotply if you can't see the graphs pip install plotly==5.13.0\n",
        "# https://pypi.org/project/plotly/"
      ]
    },
    {
      "cell_type": "code",
      "execution_count": 105,
      "id": "1869063e-17fc-4bfe-bc8c-6d57fcc9f929",
      "metadata": {
        "id": "1869063e-17fc-4bfe-bc8c-6d57fcc9f929"
      },
      "outputs": [],
      "source": [
        "exp_list = []\n",
        "for model_name in tuned_classifiers.keys():\n",
        "    model = tuned_classifiers[model_name]['model']\n",
        "    fitted_model = model.fit(X_train, y_train)\n",
        "    \n",
        "    # get the predict probability and prediction from each mode\n",
        "    y_test_prob = fitted_model.predict_proba(X_test)[:, 1]\n",
        "    # y_test_pred = np.where(y_test_prob  > 0.5, 1, 0)\n",
        "    y_test_pred = fitted_model.predict(X_test)\n",
        "    tuned_classifiers[model_name]['pred_test'] = y_test_pred\n",
        "    tuned_classifiers[model_name]['prob_test'] = y_test_prob\n",
        "    \n",
        "    # create explainer for each model\n",
        "    exp = dx.Explainer(\n",
        "        fitted_model,\n",
        "        X_test, \n",
        "        y_test,\n",
        "        label = model_name, \n",
        "        verbose = False)\n",
        "\n",
        "    exp_list += [exp] "
      ]
    },
    {
      "cell_type": "markdown",
      "id": "bbca8657-a231-41f9-bf01-aaf0ad2f64f2",
      "metadata": {
        "tags": [],
        "id": "bbca8657-a231-41f9-bf01-aaf0ad2f64f2"
      },
      "source": [
        "#### Model Performance"
      ]
    },
    {
      "cell_type": "markdown",
      "id": "df6eae2b-a83c-44e3-8cbb-bf941e7aed70",
      "metadata": {
        "id": "df6eae2b-a83c-44e3-8cbb-bf941e7aed70"
      },
      "source": [
        "We know that F1 score is defined as the harmonic mean of precision and recall. Also, F1 work well with imbalanced data. Here we can see that F1 for Random Forest is better than Logistic Regression. A low F1 score means that both, Precision and Recall, are low; and a high F1 score means they are both high, which is the desired ideal scenario. A medium F1 score happens when Recall is high and Precision low, or viceversa. When we look at the AUC, the Logistic Regression performs slightly better, but as our data, even after the processing of it, is still a bit imbalanced, we can rely more on the F1 score.\n",
        "\n",
        "‍Precision is defined as the proportion of the positive class predictions that were actually correct. Within everything that has been predicted as a positive, precision counts the percentage that is correct. In this case, it would be the proportion of people classified as someone who would recidivate.\n",
        "\n",
        "Recall refers to the proportion of actual positive class samples that were identified by the model. Within everything that actually is positive, how many did the model succeed to find. In this case, of those who did recidivate, how many did the model find as people who would commit another crime.\n",
        "\n",
        "As mentioned before, there is a trade-off between recall and precision. A very precise model is very “pure”: maybe it does not find all the positives, but the ones that the model does class as positive are very likely to be correct. On the contrary, a model with high recall succeeds well in finding all the positive cases in the data, even though they may also wrongly identify some negative cases as positive cases."
      ]
    },
    {
      "cell_type": "code",
      "execution_count": 131,
      "id": "12357785-4b59-4e2e-a191-6fc142b88e9d",
      "metadata": {
        "colab": {
          "base_uri": "https://localhost:8080/",
          "height": 143
        },
        "id": "12357785-4b59-4e2e-a191-6fc142b88e9d",
        "outputId": "e6bc9063-30e8-4634-d7f5-2992939d5cf7"
      },
      "outputs": [
        {
          "output_type": "execute_result",
          "data": {
            "text/plain": [
              "                           f1       auc  accuracy    recall  precision\n",
              "Random Forest        0.635490  0.738619  0.692765  0.587678   0.691771\n",
              "Logistic Regression  0.617234  0.745580  0.690605  0.547393   0.707504\n",
              "Decision Tree        0.600387  0.721563  0.665767  0.550948   0.659574"
            ],
            "text/html": [
              "\n",
              "  <div id=\"df-3e0536f8-99a6-44d1-bfcc-b1b0db839023\">\n",
              "    <div class=\"colab-df-container\">\n",
              "      <div>\n",
              "<style scoped>\n",
              "    .dataframe tbody tr th:only-of-type {\n",
              "        vertical-align: middle;\n",
              "    }\n",
              "\n",
              "    .dataframe tbody tr th {\n",
              "        vertical-align: top;\n",
              "    }\n",
              "\n",
              "    .dataframe thead th {\n",
              "        text-align: right;\n",
              "    }\n",
              "</style>\n",
              "<table border=\"1\" class=\"dataframe\">\n",
              "  <thead>\n",
              "    <tr style=\"text-align: right;\">\n",
              "      <th></th>\n",
              "      <th>f1</th>\n",
              "      <th>auc</th>\n",
              "      <th>accuracy</th>\n",
              "      <th>recall</th>\n",
              "      <th>precision</th>\n",
              "    </tr>\n",
              "  </thead>\n",
              "  <tbody>\n",
              "    <tr>\n",
              "      <th>Random Forest</th>\n",
              "      <td>0.635490</td>\n",
              "      <td>0.738619</td>\n",
              "      <td>0.692765</td>\n",
              "      <td>0.587678</td>\n",
              "      <td>0.691771</td>\n",
              "    </tr>\n",
              "    <tr>\n",
              "      <th>Logistic Regression</th>\n",
              "      <td>0.617234</td>\n",
              "      <td>0.745580</td>\n",
              "      <td>0.690605</td>\n",
              "      <td>0.547393</td>\n",
              "      <td>0.707504</td>\n",
              "    </tr>\n",
              "    <tr>\n",
              "      <th>Decision Tree</th>\n",
              "      <td>0.600387</td>\n",
              "      <td>0.721563</td>\n",
              "      <td>0.665767</td>\n",
              "      <td>0.550948</td>\n",
              "      <td>0.659574</td>\n",
              "    </tr>\n",
              "  </tbody>\n",
              "</table>\n",
              "</div>\n",
              "      <button class=\"colab-df-convert\" onclick=\"convertToInteractive('df-3e0536f8-99a6-44d1-bfcc-b1b0db839023')\"\n",
              "              title=\"Convert this dataframe to an interactive table.\"\n",
              "              style=\"display:none;\">\n",
              "        \n",
              "  <svg xmlns=\"http://www.w3.org/2000/svg\" height=\"24px\"viewBox=\"0 0 24 24\"\n",
              "       width=\"24px\">\n",
              "    <path d=\"M0 0h24v24H0V0z\" fill=\"none\"/>\n",
              "    <path d=\"M18.56 5.44l.94 2.06.94-2.06 2.06-.94-2.06-.94-.94-2.06-.94 2.06-2.06.94zm-11 1L8.5 8.5l.94-2.06 2.06-.94-2.06-.94L8.5 2.5l-.94 2.06-2.06.94zm10 10l.94 2.06.94-2.06 2.06-.94-2.06-.94-.94-2.06-.94 2.06-2.06.94z\"/><path d=\"M17.41 7.96l-1.37-1.37c-.4-.4-.92-.59-1.43-.59-.52 0-1.04.2-1.43.59L10.3 9.45l-7.72 7.72c-.78.78-.78 2.05 0 2.83L4 21.41c.39.39.9.59 1.41.59.51 0 1.02-.2 1.41-.59l7.78-7.78 2.81-2.81c.8-.78.8-2.07 0-2.86zM5.41 20L4 18.59l7.72-7.72 1.47 1.35L5.41 20z\"/>\n",
              "  </svg>\n",
              "      </button>\n",
              "      \n",
              "  <style>\n",
              "    .colab-df-container {\n",
              "      display:flex;\n",
              "      flex-wrap:wrap;\n",
              "      gap: 12px;\n",
              "    }\n",
              "\n",
              "    .colab-df-convert {\n",
              "      background-color: #E8F0FE;\n",
              "      border: none;\n",
              "      border-radius: 50%;\n",
              "      cursor: pointer;\n",
              "      display: none;\n",
              "      fill: #1967D2;\n",
              "      height: 32px;\n",
              "      padding: 0 0 0 0;\n",
              "      width: 32px;\n",
              "    }\n",
              "\n",
              "    .colab-df-convert:hover {\n",
              "      background-color: #E2EBFA;\n",
              "      box-shadow: 0px 1px 2px rgba(60, 64, 67, 0.3), 0px 1px 3px 1px rgba(60, 64, 67, 0.15);\n",
              "      fill: #174EA6;\n",
              "    }\n",
              "\n",
              "    [theme=dark] .colab-df-convert {\n",
              "      background-color: #3B4455;\n",
              "      fill: #D2E3FC;\n",
              "    }\n",
              "\n",
              "    [theme=dark] .colab-df-convert:hover {\n",
              "      background-color: #434B5C;\n",
              "      box-shadow: 0px 1px 3px 1px rgba(0, 0, 0, 0.15);\n",
              "      filter: drop-shadow(0px 1px 2px rgba(0, 0, 0, 0.3));\n",
              "      fill: #FFFFFF;\n",
              "    }\n",
              "  </style>\n",
              "\n",
              "      <script>\n",
              "        const buttonEl =\n",
              "          document.querySelector('#df-3e0536f8-99a6-44d1-bfcc-b1b0db839023 button.colab-df-convert');\n",
              "        buttonEl.style.display =\n",
              "          google.colab.kernel.accessAllowed ? 'block' : 'none';\n",
              "\n",
              "        async function convertToInteractive(key) {\n",
              "          const element = document.querySelector('#df-3e0536f8-99a6-44d1-bfcc-b1b0db839023');\n",
              "          const dataTable =\n",
              "            await google.colab.kernel.invokeFunction('convertToInteractive',\n",
              "                                                     [key], {});\n",
              "          if (!dataTable) return;\n",
              "\n",
              "          const docLinkHtml = 'Like what you see? Visit the ' +\n",
              "            '<a target=\"_blank\" href=https://colab.research.google.com/notebooks/data_table.ipynb>data table notebook</a>'\n",
              "            + ' to learn more about interactive tables.';\n",
              "          element.innerHTML = '';\n",
              "          dataTable['output_type'] = 'display_data';\n",
              "          await google.colab.output.renderOutput(dataTable, element);\n",
              "          const docLink = document.createElement('div');\n",
              "          docLink.innerHTML = docLinkHtml;\n",
              "          element.appendChild(docLink);\n",
              "        }\n",
              "      </script>\n",
              "    </div>\n",
              "  </div>\n",
              "  "
            ]
          },
          "metadata": {},
          "execution_count": 131
        }
      ],
      "source": [
        "m_performance_list = [e.model_performance() for e in exp_list]\n",
        "pd.concat([mp.result[['f1','auc','accuracy','recall','precision']] for mp in m_performance_list], axis=0).sort_values(by='f1', ascending=False)"
      ]
    },
    {
      "cell_type": "markdown",
      "id": "7eb427f9-1dab-4071-b244-c529f446d339",
      "metadata": {
        "id": "7eb427f9-1dab-4071-b244-c529f446d339"
      },
      "source": [
        "The ROC graph shows that the decision tree has a lower performance compared to the other two methods, logistic regression and random forest, which have similar results. In terms of AUC, logistic regression has a better performance than random forest."
      ]
    },
    {
      "cell_type": "code",
      "execution_count": 132,
      "id": "dac3571a-d5c7-4cee-ac70-70fc222a4ada",
      "metadata": {
        "colab": {
          "base_uri": "https://localhost:8080/",
          "height": 542
        },
        "id": "dac3571a-d5c7-4cee-ac70-70fc222a4ada",
        "outputId": "b92475f1-fdee-4a72-e0ae-3465eb8be9a3"
      },
      "outputs": [
        {
          "output_type": "display_data",
          "data": {
            "text/html": [
              "<html>\n",
              "<head><meta charset=\"utf-8\" /></head>\n",
              "<body>\n",
              "    <div>            <script src=\"https://cdnjs.cloudflare.com/ajax/libs/mathjax/2.7.5/MathJax.js?config=TeX-AMS-MML_SVG\"></script><script type=\"text/javascript\">if (window.MathJax) {MathJax.Hub.Config({SVG: {font: \"STIX-Web\"}});}</script>                <script type=\"text/javascript\">window.PlotlyConfig = {MathJaxConfig: 'local'};</script>\n",
              "        <script src=\"https://cdn.plot.ly/plotly-2.8.3.min.js\"></script>                <div id=\"be9381a8-0e17-49e4-be9a-202e5842d71e\" class=\"plotly-graph-div\" style=\"height:525px; width:100%;\"></div>            <script type=\"text/javascript\">                                    window.PLOTLYENV=window.PLOTLYENV || {};                                    if (document.getElementById(\"be9381a8-0e17-49e4-be9a-202e5842d71e\")) {                    Plotly.newPlot(                        \"be9381a8-0e17-49e4-be9a-202e5842d71e\",                        [{\"line\":{\"shape\":\"hv\"},\"marker\":{\"color\":\"#8bdcbe\"},\"name\":\"Logistic Regression\",\"x\":[0,0.0,0.001984126984126984,0.008928571428571428,0.008928571428571428,0.011904761904761904,0.012896825396825396,0.016865079365079364,0.016865079365079364,0.017857142857142856,0.026785714285714284,0.028769841269841268,0.03273809523809524,0.041666666666666664,0.04365079365079365,0.04365079365079365,0.047619047619047616,0.04861111111111111,0.050595238095238096,0.057539682539682536,0.06349206349206349,0.0763888888888889,0.07837301587301587,0.07837301587301587,0.09027777777777778,0.10416666666666667,0.12103174603174603,0.1378968253968254,0.15376984126984128,0.15476190476190477,0.17063492063492064,0.1974206349206349,0.21329365079365079,0.21626984126984128,0.22023809523809523,0.24305555555555555,0.24702380952380953,0.25892857142857145,0.28174603174603174,0.3005952380952381,0.3115079365079365,0.314484126984127,0.3392857142857143,0.34325396825396826,0.3501984126984127,0.3531746031746032,0.3680555555555556,0.3759920634920635,0.37797619047619047,0.38293650793650796,0.4107142857142857,0.42857142857142855,0.4375,0.4623015873015873,0.48214285714285715,0.48313492063492064,0.4861111111111111,0.49603174603174605,0.5109126984126984,0.5456349206349206,0.5505952380952381,0.5525793650793651,0.5694444444444444,0.6091269841269841,0.6220238095238095,0.6319444444444444,0.6359126984126984,0.6448412698412699,0.6478174603174603,0.6517857142857143,0.6537698412698413,0.6557539682539683,0.6597222222222222,0.6934523809523809,0.7113095238095238,0.7162698412698413,0.7321428571428571,0.7728174603174603,0.7748015873015873,0.7787698412698413,0.7827380952380952,0.8154761904761905,0.8234126984126984,0.8353174603174603,0.8492063492063492,0.8561507936507936,0.8581349206349206,0.8640873015873016,0.8670634920634921,0.8809523809523809,0.8839285714285714,0.8978174603174603,0.9067460317460317,0.9146825396825397,0.9156746031746031,0.9186507936507936,0.9464285714285714,0.9484126984126984,0.9702380952380952,0.9880952380952381,0.996031746031746,1.0],\"y\":[0,0.022511848341232227,0.03672985781990521,0.054502369668246446,0.05924170616113744,0.06872037914691943,0.07227488151658767,0.10900473933649289,0.0971563981042654,0.11137440758293839,0.14454976303317535,0.1481042654028436,0.16824644549763032,0.18838862559241706,0.20616113744075829,0.20497630331753555,0.21919431279620852,0.23459715639810427,0.2559241706161137,0.278436018957346,0.2890995260663507,0.3412322274881517,0.3459715639810427,0.3471563981042654,0.3696682464454976,0.39928909952606634,0.4277251184834123,0.45023696682464454,0.4727488151658768,0.47393364928909953,0.5035545023696683,0.5604265402843602,0.5758293838862559,0.580568720379147,0.5829383886255924,0.6113744075829384,0.6208530805687204,0.6291469194312796,0.6469194312796208,0.6587677725118484,0.6741706161137441,0.6777251184834123,0.707345971563981,0.7109004739336493,0.716824644549763,0.7215639810426541,0.7274881516587678,0.7334123222748815,0.7417061611374408,0.7476303317535545,0.764218009478673,0.7796208530805687,0.7890995260663507,0.806872037914692,0.8210900473933649,0.8222748815165877,0.8222748815165877,0.8329383886255924,0.8376777251184834,0.8518957345971564,0.8518957345971564,0.8518957345971564,0.8554502369668247,0.8755924170616114,0.8838862559241706,0.8921800947867299,0.8933649289099526,0.9004739336492891,0.9016587677725119,0.9052132701421801,0.9052132701421801,0.9052132701421801,0.9063981042654028,0.9206161137440758,0.9229857819905213,0.9229857819905213,0.9277251184834123,0.9407582938388626,0.9407582938388626,0.943127962085308,0.9454976303317536,0.9514218009478673,0.95260663507109,0.9549763033175356,0.9585308056872038,0.9609004739336493,0.9609004739336493,0.9609004739336493,0.9609004739336493,0.9644549763033176,0.9656398104265402,0.9727488151658767,0.9739336492890995,0.976303317535545,0.976303317535545,0.9774881516587678,0.9881516587677726,0.9881516587677726,0.990521327014218,0.9964454976303317,0.9988151658767772,1.0],\"type\":\"scatter\"},{\"line\":{\"shape\":\"hv\"},\"marker\":{\"color\":\"#f05a71\"},\"name\":\"Decision Tree\",\"x\":[0,0.002976190476190476,0.00496031746031746,0.006944444444444444,0.061507936507936505,0.06646825396825397,0.07936507936507936,0.08333333333333333,0.09424603174603174,0.11507936507936507,0.13095238095238096,0.13392857142857142,0.16170634920634921,0.2371031746031746,0.23809523809523808,0.24503968253968253,0.2569444444444444,0.26785714285714285,0.3680555555555556,0.38095238095238093,0.4027777777777778,0.4087301587301587,0.4097222222222222,0.4117063492063492,0.4156746031746032,0.6001984126984127,0.6111111111111112,0.8968253968253969,0.9255952380952381,0.9801587301587301,1.0],\"y\":[0,0.009478672985781991,0.014218009478672985,0.037914691943127965,0.24881516587677724,0.2523696682464455,0.29265402843601895,0.31161137440758296,0.3222748815165877,0.3684834123222749,0.39454976303317535,0.4028436018957346,0.44549763033175355,0.5485781990521327,0.5509478672985783,0.5675355450236966,0.5841232227488151,0.5983412322274881,0.7191943127962085,0.7251184834123223,0.75,0.754739336492891,0.7559241706161137,0.7618483412322274,0.7677725118483413,0.8436018957345972,0.8566350710900474,0.9751184834123223,0.9834123222748815,0.9964454976303317,1.0],\"type\":\"scatter\"},{\"line\":{\"shape\":\"hv\"},\"marker\":{\"color\":\"#4378bf\"},\"name\":\"Random Forest\",\"x\":[0,0.000992063492063492,0.001984126984126984,0.001984126984126984,0.00496031746031746,0.011904761904761904,0.015873015873015872,0.016865079365079364,0.025793650793650792,0.025793650793650792,0.027777777777777776,0.041666666666666664,0.054563492063492064,0.057539682539682536,0.05952380952380952,0.0625,0.06349206349206349,0.06349206349206349,0.07738095238095238,0.08035714285714286,0.0882936507936508,0.09126984126984126,0.09821428571428571,0.10119047619047619,0.10317460317460317,0.11507936507936507,0.11507936507936507,0.11904761904761904,0.12103174603174603,0.1259920634920635,0.12896825396825398,0.1378968253968254,0.14384920634920634,0.14583333333333334,0.1597222222222222,0.16964285714285715,0.17956349206349206,0.18353174603174602,0.19940476190476192,0.2003968253968254,0.20932539682539683,0.21031746031746032,0.21626984126984128,0.21825396825396826,0.21825396825396826,0.22321428571428573,0.22420634920634921,0.2361111111111111,0.2371031746031746,0.26884920634920634,0.2767857142857143,0.2906746031746032,0.30158730158730157,0.30952380952380953,0.3134920634920635,0.31746031746031744,0.3253968253968254,0.33630952380952384,0.3412698412698413,0.36408730158730157,0.375,0.37797619047619047,0.38095238095238093,0.3968253968253968,0.4166666666666667,0.42063492063492064,0.4236111111111111,0.43353174603174605,0.47619047619047616,0.4771825396825397,0.4781746031746032,0.49107142857142855,0.5466269841269841,0.5486111111111112,0.5704365079365079,0.5882936507936508,0.6011904761904762,0.6101190476190477,0.6220238095238095,0.6498015873015873,0.6607142857142857,0.6626984126984127,0.7023809523809523,0.7043650793650794,0.7281746031746031,0.7281746031746031,0.7301587301587301,0.7390873015873016,0.7896825396825397,0.8035714285714286,0.8134920634920635,0.8313492063492064,0.8521825396825397,0.8581349206349206,0.8928571428571429,0.8968253968253969,0.9007936507936508,0.9037698412698413,0.9107142857142857,0.9454365079365079,0.9553571428571429,0.9672619047619048],\"y\":[0,0.01066350710900474,0.024881516587677725,0.027251184834123223,0.06279620853080568,0.11137440758293839,0.13270142180094788,0.1362559241706161,0.15639810426540285,0.1552132701421801,0.17535545023696683,0.2156398104265403,0.25118483412322273,0.259478672985782,0.26303317535545023,0.27014218009478674,0.2772511848341232,0.27606635071090047,0.30213270142180093,0.31161137440758296,0.33175355450236965,0.3400473933649289,0.35308056872037913,0.36018957345971564,0.36729857819905215,0.4028436018957346,0.4040284360189573,0.4146919431279621,0.4194312796208531,0.42298578199052134,0.4277251184834123,0.45023696682464454,0.45734597156398105,0.4597156398104265,0.47393364928909953,0.49644549763033174,0.5154028436018957,0.5272511848341233,0.5509478672985783,0.5533175355450237,0.5722748815165877,0.5746445497630331,0.5841232227488151,0.5841232227488151,0.5864928909952607,0.5947867298578199,0.5959715639810427,0.6042654028436019,0.6054502369668247,0.6338862559241706,0.6433649289099526,0.6540284360189573,0.6587677725118484,0.6670616113744076,0.6753554502369669,0.6789099526066351,0.6883886255924171,0.6966824644549763,0.7097156398104265,0.7274881516587678,0.7369668246445498,0.7381516587677726,0.740521327014218,0.7523696682464455,0.7618483412322274,0.7654028436018957,0.7665876777251185,0.7713270142180095,0.79739336492891,0.7997630331753555,0.8021327014218009,0.806872037914692,0.8376777251184834,0.8376777251184834,0.8495260663507109,0.8601895734597157,0.8649289099526066,0.8696682464454977,0.8732227488151659,0.8838862559241706,0.8909952606635071,0.8909952606635071,0.9075829383886256,0.9075829383886256,0.9170616113744076,0.9182464454976303,0.919431279620853,0.9229857819905213,0.9360189573459715,0.9395734597156398,0.9407582938388626,0.9454976303317536,0.9502369668246445,0.9549763033175356,0.9691943127962085,0.9703791469194313,0.9703791469194313,0.9703791469194313,0.9774881516587678,0.9845971563981043,0.9845971563981043,0.9917061611374408],\"type\":\"scatter\"}],                        {\"template\":{\"data\":{\"scatter\":[{\"type\":\"scatter\"}]}},\"yaxis\":{\"title\":{\"text\":\"True positive rate\"},\"type\":\"linear\",\"gridwidth\":2,\"zeroline\":false,\"automargin\":true,\"ticks\":\"outside\",\"tickcolor\":\"white\",\"ticklen\":10,\"fixedrange\":true},\"xaxis\":{\"title\":{\"text\":\"False positive rate\"},\"type\":\"linear\",\"gridwidth\":2,\"zeroline\":false,\"automargin\":true,\"ticks\":\"outside\",\"tickcolor\":\"white\",\"ticklen\":10,\"fixedrange\":true},\"title\":{\"text\":\"Receiver Operating Characteristic\",\"x\":0.15},\"font\":{\"color\":\"#371ea3\"},\"margin\":{\"t\":78,\"b\":71,\"r\":30}},                        {\"responsive\": true}                    ).then(function(){\n",
              "                            \n",
              "var gd = document.getElementById('be9381a8-0e17-49e4-be9a-202e5842d71e');\n",
              "var x = new MutationObserver(function (mutations, observer) {{\n",
              "        var display = window.getComputedStyle(gd).display;\n",
              "        if (!display || display === 'none') {{\n",
              "            console.log([gd, 'removed!']);\n",
              "            Plotly.purge(gd);\n",
              "            observer.disconnect();\n",
              "        }}\n",
              "}});\n",
              "\n",
              "// Listen for the removal of the full notebook cells\n",
              "var notebookContainer = gd.closest('#notebook-container');\n",
              "if (notebookContainer) {{\n",
              "    x.observe(notebookContainer, {childList: true});\n",
              "}}\n",
              "\n",
              "// Listen for the clearing of the current output cell\n",
              "var outputEl = gd.closest('.output');\n",
              "if (outputEl) {{\n",
              "    x.observe(outputEl, {childList: true});\n",
              "}}\n",
              "\n",
              "                        })                };                            </script>        </div>\n",
              "</body>\n",
              "</html>"
            ]
          },
          "metadata": {}
        }
      ],
      "source": [
        "m_performance_list[0].plot(m_performance_list[1:], geom=\"roc\")"
      ]
    },
    {
      "cell_type": "markdown",
      "id": "9c834457-5211-4711-9716-58bb71b14a68",
      "metadata": {
        "tags": [],
        "id": "9c834457-5211-4711-9716-58bb71b14a68"
      },
      "source": [
        "#### Error Breakdown"
      ]
    },
    {
      "cell_type": "markdown",
      "id": "6abe9800-95ee-4454-a360-c16b2cd65959",
      "metadata": {
        "id": "6abe9800-95ee-4454-a360-c16b2cd65959"
      },
      "source": [
        "When we compare the scores of each model by race, we can see that in terms of Precision and Recall, random forest and logistic regression have similar scores for African-Americans and Caucasians.\n",
        "\n",
        "However, our random forest model has a higher recall for white people (43.4% vs.35.3% from the logistic regression). This means that our model succeeds better in finding the positives (will recidivate), even though it might wronly label some actual negatives (didn't recidivate). Although this is not optimal, it mitigates the effect ProPublica complaint about: that among defendants who ultimately did not reoffend, blacks were more than twice as likely as whites to be classified as medium or high risk.\n",
        "\n",
        "In the three models, both, precision and recall, are higher for African-Americans. This is expectable since there are more black individuals in the data set, so the model can be better trained."
      ]
    },
    {
      "cell_type": "code",
      "execution_count": 133,
      "id": "b0d58d4d-3954-4c93-ba0a-b17cd744996b",
      "metadata": {
        "id": "b0d58d4d-3954-4c93-ba0a-b17cd744996b"
      },
      "outputs": [],
      "source": [
        "# to calculate the error down by group\n",
        "def metrics_by_group(s):\n",
        "    accuracy = metrics.accuracy_score(s.y_true, s.y_pred) * 100\n",
        "    precision = metrics.precision_score(s.y_true, s.y_pred) * 100\n",
        "    recall = metrics.recall_score(s.y_true, s.y_pred) * 100\n",
        "    f1 = metrics.f1_score(s.y_true, s.y_pred) * 100\n",
        "    roc_auc = metrics.roc_auc_score(s.y_true, s.y_prob) * 100\n",
        "    tn, fp, fn, tp = metrics.confusion_matrix(s.y_true, s.y_pred).ravel()\n",
        "    fnr = (fn/(tp+fn)) * 100\n",
        "    fpr = (fp/(tn+fp)) * 100\n",
        "    support = len(s.y_true)\n",
        "\n",
        "    return pd.Series((support, f1, roc_auc, accuracy, precision, recall, tn, fp, fn, tp, fnr, fpr),\\\n",
        "                     index=['support', 'f1', 'roc-auc', 'accuracy', 'precision', 'recall', 'tn','fp','fn','tp', 'fnr', 'fpr'])\n",
        "\n",
        "def error_breakdown_by_race(model_name):\n",
        "    model = tuned_classifiers[model_name]\n",
        "    \n",
        "    print('Error breakdown for model', model_name, 'and group by Race')\n",
        "        \n",
        "    predict_df = pd.DataFrame({'race': X_test['race'].tolist(),\\\n",
        "                              'y_true': y_test.tolist(),\n",
        "                              'y_pred': model['pred_test'],\n",
        "                              'y_prob': model['prob_test']}, index=X_test.index)\n",
        "\n",
        "    group_metrics_df = predict_df.groupby(['race']).apply(metrics_by_group)\n",
        "\n",
        "    html = group_metrics_df.sort_values(by='f1', ascending=False).style.\\\n",
        "            format({'support':'{:,.0f}', 'f1':'{:.1f}%', 'roc-auc':'{:.1f}%', 'accuracy':'{:.1f}%',\\\n",
        "                    'precision':'{:.1f}%', 'recall':'{:.1f}%',\\\n",
        "                    'tn':'{:.0f}', 'fp':'{:.0f}','fn':'{:.0f}', 'tp':'{:.0f}',\\\n",
        "                    'fnr':'{:.1f}%', 'fpr':'{:.1f}%'})\n",
        "            # highlight_max(subset=['f1','roc-auc'])\n",
        "            # highlight_min(subset=['fnr','fpr'])\n",
        "    return html"
      ]
    },
    {
      "cell_type": "code",
      "execution_count": 134,
      "id": "08ae0f37-92f2-4cd3-aff8-ec338e9fcabb",
      "metadata": {
        "colab": {
          "base_uri": "https://localhost:8080/",
          "height": 279
        },
        "id": "08ae0f37-92f2-4cd3-aff8-ec338e9fcabb",
        "outputId": "fb94bdb9-f4e2-4a90-d343-3aaceb55bc91"
      },
      "outputs": [
        {
          "output_type": "stream",
          "name": "stdout",
          "text": [
            "Error breakdown for model Logistic Regression and group by Race\n"
          ]
        },
        {
          "output_type": "execute_result",
          "data": {
            "text/plain": [
              "<pandas.io.formats.style.Styler at 0x7f7101dd9460>"
            ],
            "text/html": [
              "<style type=\"text/css\">\n",
              "</style>\n",
              "<table id=\"T_806bb_\" class=\"dataframe\">\n",
              "  <thead>\n",
              "    <tr>\n",
              "      <th class=\"blank level0\" >&nbsp;</th>\n",
              "      <th class=\"col_heading level0 col0\" >support</th>\n",
              "      <th class=\"col_heading level0 col1\" >f1</th>\n",
              "      <th class=\"col_heading level0 col2\" >roc-auc</th>\n",
              "      <th class=\"col_heading level0 col3\" >accuracy</th>\n",
              "      <th class=\"col_heading level0 col4\" >precision</th>\n",
              "      <th class=\"col_heading level0 col5\" >recall</th>\n",
              "      <th class=\"col_heading level0 col6\" >tn</th>\n",
              "      <th class=\"col_heading level0 col7\" >fp</th>\n",
              "      <th class=\"col_heading level0 col8\" >fn</th>\n",
              "      <th class=\"col_heading level0 col9\" >tp</th>\n",
              "      <th class=\"col_heading level0 col10\" >fnr</th>\n",
              "      <th class=\"col_heading level0 col11\" >fpr</th>\n",
              "    </tr>\n",
              "    <tr>\n",
              "      <th class=\"index_name level0\" >race</th>\n",
              "      <th class=\"blank col0\" >&nbsp;</th>\n",
              "      <th class=\"blank col1\" >&nbsp;</th>\n",
              "      <th class=\"blank col2\" >&nbsp;</th>\n",
              "      <th class=\"blank col3\" >&nbsp;</th>\n",
              "      <th class=\"blank col4\" >&nbsp;</th>\n",
              "      <th class=\"blank col5\" >&nbsp;</th>\n",
              "      <th class=\"blank col6\" >&nbsp;</th>\n",
              "      <th class=\"blank col7\" >&nbsp;</th>\n",
              "      <th class=\"blank col8\" >&nbsp;</th>\n",
              "      <th class=\"blank col9\" >&nbsp;</th>\n",
              "      <th class=\"blank col10\" >&nbsp;</th>\n",
              "      <th class=\"blank col11\" >&nbsp;</th>\n",
              "    </tr>\n",
              "  </thead>\n",
              "  <tbody>\n",
              "    <tr>\n",
              "      <th id=\"T_806bb_level0_row0\" class=\"row_heading level0 row0\" >African-American</th>\n",
              "      <td id=\"T_806bb_row0_col0\" class=\"data row0 col0\" >922</td>\n",
              "      <td id=\"T_806bb_row0_col1\" class=\"data row0 col1\" >72.3%</td>\n",
              "      <td id=\"T_806bb_row0_col2\" class=\"data row0 col2\" >76.0%</td>\n",
              "      <td id=\"T_806bb_row0_col3\" class=\"data row0 col3\" >70.9%</td>\n",
              "      <td id=\"T_806bb_row0_col4\" class=\"data row0 col4\" >72.2%</td>\n",
              "      <td id=\"T_806bb_row0_col5\" class=\"data row0 col5\" >72.5%</td>\n",
              "      <td id=\"T_806bb_row0_col6\" class=\"data row0 col6\" >304</td>\n",
              "      <td id=\"T_806bb_row0_col7\" class=\"data row0 col7\" >135</td>\n",
              "      <td id=\"T_806bb_row0_col8\" class=\"data row0 col8\" >133</td>\n",
              "      <td id=\"T_806bb_row0_col9\" class=\"data row0 col9\" >350</td>\n",
              "      <td id=\"T_806bb_row0_col10\" class=\"data row0 col10\" >27.5%</td>\n",
              "      <td id=\"T_806bb_row0_col11\" class=\"data row0 col11\" >30.8%</td>\n",
              "    </tr>\n",
              "    <tr>\n",
              "      <th id=\"T_806bb_level0_row1\" class=\"row_heading level0 row1\" >Caucasian</th>\n",
              "      <td id=\"T_806bb_row1_col0\" class=\"data row1 col0\" >633</td>\n",
              "      <td id=\"T_806bb_row1_col1\" class=\"data row1 col1\" >46.2%</td>\n",
              "      <td id=\"T_806bb_row1_col2\" class=\"data row1 col2\" >73.3%</td>\n",
              "      <td id=\"T_806bb_row1_col3\" class=\"data row1 col3\" >67.6%</td>\n",
              "      <td id=\"T_806bb_row1_col4\" class=\"data row1 col4\" >66.7%</td>\n",
              "      <td id=\"T_806bb_row1_col5\" class=\"data row1 col5\" >35.3%</td>\n",
              "      <td id=\"T_806bb_row1_col6\" class=\"data row1 col6\" >340</td>\n",
              "      <td id=\"T_806bb_row1_col7\" class=\"data row1 col7\" >44</td>\n",
              "      <td id=\"T_806bb_row1_col8\" class=\"data row1 col8\" >161</td>\n",
              "      <td id=\"T_806bb_row1_col9\" class=\"data row1 col9\" >88</td>\n",
              "      <td id=\"T_806bb_row1_col10\" class=\"data row1 col10\" >64.7%</td>\n",
              "      <td id=\"T_806bb_row1_col11\" class=\"data row1 col11\" >11.5%</td>\n",
              "    </tr>\n",
              "    <tr>\n",
              "      <th id=\"T_806bb_level0_row2\" class=\"row_heading level0 row2\" >Hispanic</th>\n",
              "      <td id=\"T_806bb_row2_col0\" class=\"data row2 col0\" >169</td>\n",
              "      <td id=\"T_806bb_row2_col1\" class=\"data row2 col1\" >34.8%</td>\n",
              "      <td id=\"T_806bb_row2_col2\" class=\"data row2 col2\" >63.6%</td>\n",
              "      <td id=\"T_806bb_row2_col3\" class=\"data row2 col3\" >64.5%</td>\n",
              "      <td id=\"T_806bb_row2_col4\" class=\"data row2 col4\" >64.0%</td>\n",
              "      <td id=\"T_806bb_row2_col5\" class=\"data row2 col5\" >23.9%</td>\n",
              "      <td id=\"T_806bb_row2_col6\" class=\"data row2 col6\" >93</td>\n",
              "      <td id=\"T_806bb_row2_col7\" class=\"data row2 col7\" >9</td>\n",
              "      <td id=\"T_806bb_row2_col8\" class=\"data row2 col8\" >51</td>\n",
              "      <td id=\"T_806bb_row2_col9\" class=\"data row2 col9\" >16</td>\n",
              "      <td id=\"T_806bb_row2_col10\" class=\"data row2 col10\" >76.1%</td>\n",
              "      <td id=\"T_806bb_row2_col11\" class=\"data row2 col11\" >8.8%</td>\n",
              "    </tr>\n",
              "    <tr>\n",
              "      <th id=\"T_806bb_level0_row3\" class=\"row_heading level0 row3\" >Other</th>\n",
              "      <td id=\"T_806bb_row3_col0\" class=\"data row3 col0\" >128</td>\n",
              "      <td id=\"T_806bb_row3_col1\" class=\"data row3 col1\" >28.6%</td>\n",
              "      <td id=\"T_806bb_row3_col2\" class=\"data row3 col2\" >75.1%</td>\n",
              "      <td id=\"T_806bb_row3_col3\" class=\"data row3 col3\" >68.8%</td>\n",
              "      <td id=\"T_806bb_row3_col4\" class=\"data row3 col4\" >72.7%</td>\n",
              "      <td id=\"T_806bb_row3_col5\" class=\"data row3 col5\" >17.8%</td>\n",
              "      <td id=\"T_806bb_row3_col6\" class=\"data row3 col6\" >80</td>\n",
              "      <td id=\"T_806bb_row3_col7\" class=\"data row3 col7\" >3</td>\n",
              "      <td id=\"T_806bb_row3_col8\" class=\"data row3 col8\" >37</td>\n",
              "      <td id=\"T_806bb_row3_col9\" class=\"data row3 col9\" >8</td>\n",
              "      <td id=\"T_806bb_row3_col10\" class=\"data row3 col10\" >82.2%</td>\n",
              "      <td id=\"T_806bb_row3_col11\" class=\"data row3 col11\" >3.6%</td>\n",
              "    </tr>\n",
              "  </tbody>\n",
              "</table>\n"
            ]
          },
          "metadata": {},
          "execution_count": 134
        }
      ],
      "source": [
        "error_breakdown_by_race('Logistic Regression')"
      ]
    },
    {
      "cell_type": "code",
      "execution_count": 135,
      "id": "d130c715-85db-4cfb-8063-14b466aaeae6",
      "metadata": {
        "colab": {
          "base_uri": "https://localhost:8080/",
          "height": 279
        },
        "id": "d130c715-85db-4cfb-8063-14b466aaeae6",
        "outputId": "e854e16b-2edf-4cca-9dca-a70837d5fec6"
      },
      "outputs": [
        {
          "output_type": "stream",
          "name": "stdout",
          "text": [
            "Error breakdown for model Decision Tree and group by Race\n"
          ]
        },
        {
          "output_type": "execute_result",
          "data": {
            "text/plain": [
              "<pandas.io.formats.style.Styler at 0x7f71092a7100>"
            ],
            "text/html": [
              "<style type=\"text/css\">\n",
              "</style>\n",
              "<table id=\"T_7f534_\" class=\"dataframe\">\n",
              "  <thead>\n",
              "    <tr>\n",
              "      <th class=\"blank level0\" >&nbsp;</th>\n",
              "      <th class=\"col_heading level0 col0\" >support</th>\n",
              "      <th class=\"col_heading level0 col1\" >f1</th>\n",
              "      <th class=\"col_heading level0 col2\" >roc-auc</th>\n",
              "      <th class=\"col_heading level0 col3\" >accuracy</th>\n",
              "      <th class=\"col_heading level0 col4\" >precision</th>\n",
              "      <th class=\"col_heading level0 col5\" >recall</th>\n",
              "      <th class=\"col_heading level0 col6\" >tn</th>\n",
              "      <th class=\"col_heading level0 col7\" >fp</th>\n",
              "      <th class=\"col_heading level0 col8\" >fn</th>\n",
              "      <th class=\"col_heading level0 col9\" >tp</th>\n",
              "      <th class=\"col_heading level0 col10\" >fnr</th>\n",
              "      <th class=\"col_heading level0 col11\" >fpr</th>\n",
              "    </tr>\n",
              "    <tr>\n",
              "      <th class=\"index_name level0\" >race</th>\n",
              "      <th class=\"blank col0\" >&nbsp;</th>\n",
              "      <th class=\"blank col1\" >&nbsp;</th>\n",
              "      <th class=\"blank col2\" >&nbsp;</th>\n",
              "      <th class=\"blank col3\" >&nbsp;</th>\n",
              "      <th class=\"blank col4\" >&nbsp;</th>\n",
              "      <th class=\"blank col5\" >&nbsp;</th>\n",
              "      <th class=\"blank col6\" >&nbsp;</th>\n",
              "      <th class=\"blank col7\" >&nbsp;</th>\n",
              "      <th class=\"blank col8\" >&nbsp;</th>\n",
              "      <th class=\"blank col9\" >&nbsp;</th>\n",
              "      <th class=\"blank col10\" >&nbsp;</th>\n",
              "      <th class=\"blank col11\" >&nbsp;</th>\n",
              "    </tr>\n",
              "  </thead>\n",
              "  <tbody>\n",
              "    <tr>\n",
              "      <th id=\"T_7f534_level0_row0\" class=\"row_heading level0 row0\" >African-American</th>\n",
              "      <td id=\"T_7f534_row0_col0\" class=\"data row0 col0\" >922</td>\n",
              "      <td id=\"T_7f534_row0_col1\" class=\"data row0 col1\" >68.4%</td>\n",
              "      <td id=\"T_7f534_row0_col2\" class=\"data row0 col2\" >73.6%</td>\n",
              "      <td id=\"T_7f534_row0_col3\" class=\"data row0 col3\" >67.7%</td>\n",
              "      <td id=\"T_7f534_row0_col4\" class=\"data row0 col4\" >70.2%</td>\n",
              "      <td id=\"T_7f534_row0_col5\" class=\"data row0 col5\" >66.7%</td>\n",
              "      <td id=\"T_7f534_row0_col6\" class=\"data row0 col6\" >302</td>\n",
              "      <td id=\"T_7f534_row0_col7\" class=\"data row0 col7\" >137</td>\n",
              "      <td id=\"T_7f534_row0_col8\" class=\"data row0 col8\" >161</td>\n",
              "      <td id=\"T_7f534_row0_col9\" class=\"data row0 col9\" >322</td>\n",
              "      <td id=\"T_7f534_row0_col10\" class=\"data row0 col10\" >33.3%</td>\n",
              "      <td id=\"T_7f534_row0_col11\" class=\"data row0 col11\" >31.2%</td>\n",
              "    </tr>\n",
              "    <tr>\n",
              "      <th id=\"T_7f534_level0_row1\" class=\"row_heading level0 row1\" >Caucasian</th>\n",
              "      <td id=\"T_7f534_row1_col0\" class=\"data row1 col0\" >633</td>\n",
              "      <td id=\"T_7f534_row1_col1\" class=\"data row1 col1\" >48.6%</td>\n",
              "      <td id=\"T_7f534_row1_col2\" class=\"data row1 col2\" >69.6%</td>\n",
              "      <td id=\"T_7f534_row1_col3\" class=\"data row1 col3\" >66.2%</td>\n",
              "      <td id=\"T_7f534_row1_col4\" class=\"data row1 col4\" >60.5%</td>\n",
              "      <td id=\"T_7f534_row1_col5\" class=\"data row1 col5\" >40.6%</td>\n",
              "      <td id=\"T_7f534_row1_col6\" class=\"data row1 col6\" >318</td>\n",
              "      <td id=\"T_7f534_row1_col7\" class=\"data row1 col7\" >66</td>\n",
              "      <td id=\"T_7f534_row1_col8\" class=\"data row1 col8\" >148</td>\n",
              "      <td id=\"T_7f534_row1_col9\" class=\"data row1 col9\" >101</td>\n",
              "      <td id=\"T_7f534_row1_col10\" class=\"data row1 col10\" >59.4%</td>\n",
              "      <td id=\"T_7f534_row1_col11\" class=\"data row1 col11\" >17.2%</td>\n",
              "    </tr>\n",
              "    <tr>\n",
              "      <th id=\"T_7f534_level0_row2\" class=\"row_heading level0 row2\" >Other</th>\n",
              "      <td id=\"T_7f534_row2_col0\" class=\"data row2 col0\" >128</td>\n",
              "      <td id=\"T_7f534_row2_col1\" class=\"data row2 col1\" >48.1%</td>\n",
              "      <td id=\"T_7f534_row2_col2\" class=\"data row2 col2\" >71.6%</td>\n",
              "      <td id=\"T_7f534_row2_col3\" class=\"data row2 col3\" >68.0%</td>\n",
              "      <td id=\"T_7f534_row2_col4\" class=\"data row2 col4\" >55.9%</td>\n",
              "      <td id=\"T_7f534_row2_col5\" class=\"data row2 col5\" >42.2%</td>\n",
              "      <td id=\"T_7f534_row2_col6\" class=\"data row2 col6\" >68</td>\n",
              "      <td id=\"T_7f534_row2_col7\" class=\"data row2 col7\" >15</td>\n",
              "      <td id=\"T_7f534_row2_col8\" class=\"data row2 col8\" >26</td>\n",
              "      <td id=\"T_7f534_row2_col9\" class=\"data row2 col9\" >19</td>\n",
              "      <td id=\"T_7f534_row2_col10\" class=\"data row2 col10\" >57.8%</td>\n",
              "      <td id=\"T_7f534_row2_col11\" class=\"data row2 col11\" >18.1%</td>\n",
              "    </tr>\n",
              "    <tr>\n",
              "      <th id=\"T_7f534_level0_row3\" class=\"row_heading level0 row3\" >Hispanic</th>\n",
              "      <td id=\"T_7f534_row3_col0\" class=\"data row3 col0\" >169</td>\n",
              "      <td id=\"T_7f534_row3_col1\" class=\"data row3 col1\" >41.1%</td>\n",
              "      <td id=\"T_7f534_row3_col2\" class=\"data row3 col2\" >62.1%</td>\n",
              "      <td id=\"T_7f534_row3_col3\" class=\"data row3 col3\" >60.9%</td>\n",
              "      <td id=\"T_7f534_row3_col4\" class=\"data row3 col4\" >51.1%</td>\n",
              "      <td id=\"T_7f534_row3_col5\" class=\"data row3 col5\" >34.3%</td>\n",
              "      <td id=\"T_7f534_row3_col6\" class=\"data row3 col6\" >80</td>\n",
              "      <td id=\"T_7f534_row3_col7\" class=\"data row3 col7\" >22</td>\n",
              "      <td id=\"T_7f534_row3_col8\" class=\"data row3 col8\" >44</td>\n",
              "      <td id=\"T_7f534_row3_col9\" class=\"data row3 col9\" >23</td>\n",
              "      <td id=\"T_7f534_row3_col10\" class=\"data row3 col10\" >65.7%</td>\n",
              "      <td id=\"T_7f534_row3_col11\" class=\"data row3 col11\" >21.6%</td>\n",
              "    </tr>\n",
              "  </tbody>\n",
              "</table>\n"
            ]
          },
          "metadata": {},
          "execution_count": 135
        }
      ],
      "source": [
        "error_breakdown_by_race('Decision Tree')"
      ]
    },
    {
      "cell_type": "code",
      "execution_count": 136,
      "id": "7f9c7911-2a9d-4273-9877-eadfea0067b6",
      "metadata": {
        "colab": {
          "base_uri": "https://localhost:8080/",
          "height": 279
        },
        "id": "7f9c7911-2a9d-4273-9877-eadfea0067b6",
        "outputId": "7f99d6c0-8d85-4414-f079-a536c350c21f"
      },
      "outputs": [
        {
          "output_type": "stream",
          "name": "stdout",
          "text": [
            "Error breakdown for model Random Forest and group by Race\n"
          ]
        },
        {
          "output_type": "execute_result",
          "data": {
            "text/plain": [
              "<pandas.io.formats.style.Styler at 0x7f7103718f10>"
            ],
            "text/html": [
              "<style type=\"text/css\">\n",
              "</style>\n",
              "<table id=\"T_d706a_\" class=\"dataframe\">\n",
              "  <thead>\n",
              "    <tr>\n",
              "      <th class=\"blank level0\" >&nbsp;</th>\n",
              "      <th class=\"col_heading level0 col0\" >support</th>\n",
              "      <th class=\"col_heading level0 col1\" >f1</th>\n",
              "      <th class=\"col_heading level0 col2\" >roc-auc</th>\n",
              "      <th class=\"col_heading level0 col3\" >accuracy</th>\n",
              "      <th class=\"col_heading level0 col4\" >precision</th>\n",
              "      <th class=\"col_heading level0 col5\" >recall</th>\n",
              "      <th class=\"col_heading level0 col6\" >tn</th>\n",
              "      <th class=\"col_heading level0 col7\" >fp</th>\n",
              "      <th class=\"col_heading level0 col8\" >fn</th>\n",
              "      <th class=\"col_heading level0 col9\" >tp</th>\n",
              "      <th class=\"col_heading level0 col10\" >fnr</th>\n",
              "      <th class=\"col_heading level0 col11\" >fpr</th>\n",
              "    </tr>\n",
              "    <tr>\n",
              "      <th class=\"index_name level0\" >race</th>\n",
              "      <th class=\"blank col0\" >&nbsp;</th>\n",
              "      <th class=\"blank col1\" >&nbsp;</th>\n",
              "      <th class=\"blank col2\" >&nbsp;</th>\n",
              "      <th class=\"blank col3\" >&nbsp;</th>\n",
              "      <th class=\"blank col4\" >&nbsp;</th>\n",
              "      <th class=\"blank col5\" >&nbsp;</th>\n",
              "      <th class=\"blank col6\" >&nbsp;</th>\n",
              "      <th class=\"blank col7\" >&nbsp;</th>\n",
              "      <th class=\"blank col8\" >&nbsp;</th>\n",
              "      <th class=\"blank col9\" >&nbsp;</th>\n",
              "      <th class=\"blank col10\" >&nbsp;</th>\n",
              "      <th class=\"blank col11\" >&nbsp;</th>\n",
              "    </tr>\n",
              "  </thead>\n",
              "  <tbody>\n",
              "    <tr>\n",
              "      <th id=\"T_d706a_level0_row0\" class=\"row_heading level0 row0\" >African-American</th>\n",
              "      <td id=\"T_d706a_row0_col0\" class=\"data row0 col0\" >922</td>\n",
              "      <td id=\"T_d706a_row0_col1\" class=\"data row0 col1\" >71.9%</td>\n",
              "      <td id=\"T_d706a_row0_col2\" class=\"data row0 col2\" >75.7%</td>\n",
              "      <td id=\"T_d706a_row0_col3\" class=\"data row0 col3\" >70.4%</td>\n",
              "      <td id=\"T_d706a_row0_col4\" class=\"data row0 col4\" >71.5%</td>\n",
              "      <td id=\"T_d706a_row0_col5\" class=\"data row0 col5\" >72.3%</td>\n",
              "      <td id=\"T_d706a_row0_col6\" class=\"data row0 col6\" >300</td>\n",
              "      <td id=\"T_d706a_row0_col7\" class=\"data row0 col7\" >139</td>\n",
              "      <td id=\"T_d706a_row0_col8\" class=\"data row0 col8\" >134</td>\n",
              "      <td id=\"T_d706a_row0_col9\" class=\"data row0 col9\" >349</td>\n",
              "      <td id=\"T_d706a_row0_col10\" class=\"data row0 col10\" >27.7%</td>\n",
              "      <td id=\"T_d706a_row0_col11\" class=\"data row0 col11\" >31.7%</td>\n",
              "    </tr>\n",
              "    <tr>\n",
              "      <th id=\"T_d706a_level0_row1\" class=\"row_heading level0 row1\" >Caucasian</th>\n",
              "      <td id=\"T_d706a_row1_col0\" class=\"data row1 col0\" >633</td>\n",
              "      <td id=\"T_d706a_row1_col1\" class=\"data row1 col1\" >52.4%</td>\n",
              "      <td id=\"T_d706a_row1_col2\" class=\"data row1 col2\" >71.0%</td>\n",
              "      <td id=\"T_d706a_row1_col3\" class=\"data row1 col3\" >69.0%</td>\n",
              "      <td id=\"T_d706a_row1_col4\" class=\"data row1 col4\" >66.3%</td>\n",
              "      <td id=\"T_d706a_row1_col5\" class=\"data row1 col5\" >43.4%</td>\n",
              "      <td id=\"T_d706a_row1_col6\" class=\"data row1 col6\" >329</td>\n",
              "      <td id=\"T_d706a_row1_col7\" class=\"data row1 col7\" >55</td>\n",
              "      <td id=\"T_d706a_row1_col8\" class=\"data row1 col8\" >141</td>\n",
              "      <td id=\"T_d706a_row1_col9\" class=\"data row1 col9\" >108</td>\n",
              "      <td id=\"T_d706a_row1_col10\" class=\"data row1 col10\" >56.6%</td>\n",
              "      <td id=\"T_d706a_row1_col11\" class=\"data row1 col11\" >14.3%</td>\n",
              "    </tr>\n",
              "    <tr>\n",
              "      <th id=\"T_d706a_level0_row2\" class=\"row_heading level0 row2\" >Other</th>\n",
              "      <td id=\"T_d706a_row2_col0\" class=\"data row2 col0\" >128</td>\n",
              "      <td id=\"T_d706a_row2_col1\" class=\"data row2 col1\" >50.7%</td>\n",
              "      <td id=\"T_d706a_row2_col2\" class=\"data row2 col2\" >75.4%</td>\n",
              "      <td id=\"T_d706a_row2_col3\" class=\"data row2 col3\" >71.1%</td>\n",
              "      <td id=\"T_d706a_row2_col4\" class=\"data row2 col4\" >63.3%</td>\n",
              "      <td id=\"T_d706a_row2_col5\" class=\"data row2 col5\" >42.2%</td>\n",
              "      <td id=\"T_d706a_row2_col6\" class=\"data row2 col6\" >72</td>\n",
              "      <td id=\"T_d706a_row2_col7\" class=\"data row2 col7\" >11</td>\n",
              "      <td id=\"T_d706a_row2_col8\" class=\"data row2 col8\" >26</td>\n",
              "      <td id=\"T_d706a_row2_col9\" class=\"data row2 col9\" >19</td>\n",
              "      <td id=\"T_d706a_row2_col10\" class=\"data row2 col10\" >57.8%</td>\n",
              "      <td id=\"T_d706a_row2_col11\" class=\"data row2 col11\" >13.3%</td>\n",
              "    </tr>\n",
              "    <tr>\n",
              "      <th id=\"T_d706a_level0_row3\" class=\"row_heading level0 row3\" >Hispanic</th>\n",
              "      <td id=\"T_d706a_row3_col0\" class=\"data row3 col0\" >169</td>\n",
              "      <td id=\"T_d706a_row3_col1\" class=\"data row3 col1\" >38.8%</td>\n",
              "      <td id=\"T_d706a_row3_col2\" class=\"data row3 col2\" >63.7%</td>\n",
              "      <td id=\"T_d706a_row3_col3\" class=\"data row3 col3\" >62.7%</td>\n",
              "      <td id=\"T_d706a_row3_col4\" class=\"data row3 col4\" >55.6%</td>\n",
              "      <td id=\"T_d706a_row3_col5\" class=\"data row3 col5\" >29.9%</td>\n",
              "      <td id=\"T_d706a_row3_col6\" class=\"data row3 col6\" >86</td>\n",
              "      <td id=\"T_d706a_row3_col7\" class=\"data row3 col7\" >16</td>\n",
              "      <td id=\"T_d706a_row3_col8\" class=\"data row3 col8\" >47</td>\n",
              "      <td id=\"T_d706a_row3_col9\" class=\"data row3 col9\" >20</td>\n",
              "      <td id=\"T_d706a_row3_col10\" class=\"data row3 col10\" >70.1%</td>\n",
              "      <td id=\"T_d706a_row3_col11\" class=\"data row3 col11\" >15.7%</td>\n",
              "    </tr>\n",
              "  </tbody>\n",
              "</table>\n"
            ]
          },
          "metadata": {},
          "execution_count": 136
        }
      ],
      "source": [
        "error_breakdown_by_race('Random Forest')"
      ]
    },
    {
      "cell_type": "code",
      "execution_count": 137,
      "id": "3e7fcf4c",
      "metadata": {
        "id": "3e7fcf4c"
      },
      "outputs": [],
      "source": [
        "df_new = X_test\n",
        "df_new['y_test'] = y_test\n",
        "df_new['y_pred'] = y_pred\n",
        "\n",
        "df_whites = df_new.loc[df['race'] == \"Caucasian\"]\n",
        "df_blacks = df_new.loc[df['race'] == \"African-American\"]"
      ]
    },
    {
      "cell_type": "markdown",
      "id": "80c80052",
      "metadata": {
        "id": "80c80052"
      },
      "source": [
        "Confusion matrices for model Random Forest for races African-American and Caucasian as graphical representation of the error breakdown above:"
      ]
    },
    {
      "cell_type": "code",
      "execution_count": 138,
      "id": "3fd3af3a",
      "metadata": {
        "colab": {
          "base_uri": "https://localhost:8080/",
          "height": 296
        },
        "id": "3fd3af3a",
        "outputId": "50f100dc-2cd5-4f98-9a13-7096cffacb41"
      },
      "outputs": [
        {
          "output_type": "display_data",
          "data": {
            "text/plain": [
              "<Figure size 720x360 with 4 Axes>"
            ],
            "image/png": "[encoded data removed]"
          },
          "metadata": {
            "needs_background": "light"
          }
        }
      ],
      "source": [
        "## if there is an error -- need to run random forest model code (commented out)\n",
        "thresh = 200\n",
        "\n",
        "# Calculate confusion matrices for each race\n",
        "cm1 = confusion_matrix(df_blacks['y_test'], df_blacks['y_pred'])\n",
        "cm2 = confusion_matrix(df_whites['y_test'], df_whites['y_pred'])\n",
        "\n",
        "# Plot confusion matrices side by side\n",
        "fig, (ax1, ax2) = plt.subplots(1, 2, figsize=(10,5))\n",
        "\n",
        "# Plot first confusion matrix\n",
        "im1 = ax1.imshow(cm1, cmap=plt.cm.Oranges)\n",
        "ax1.set_xticks(np.arange(2))\n",
        "ax1.set_yticks(np.arange(2))\n",
        "ax1.set_xticklabels(['Predicted Negative', 'Predicted Positive'])\n",
        "ax1.set_yticklabels(['True Negative', 'True Positive'])\n",
        "plt.setp(ax1.get_xticklabels(), rotation=0, rotation_mode=\"anchor\")\n",
        "for i in range(2):\n",
        "    for j in range(2):\n",
        "        ax1.text(j, i, cm1[i, j], ha=\"center\", va=\"center\", color=\"white\" if cm1[i, j] > thresh else \"black\")\n",
        "ax1.set_title(\"African-American\")\n",
        "\n",
        "# Plot second confusion matrix\n",
        "im2 = ax2.imshow(cm2, cmap=plt.cm.Oranges)\n",
        "ax2.set_xticks(np.arange(2))\n",
        "ax2.set_yticks(np.arange(2))\n",
        "ax2.set_xticklabels(['Predicted Negative', 'Predicted Positive'])\n",
        "ax2.set_yticklabels(['', ''])\n",
        "plt.setp(ax2.get_xticklabels(), rotation=0, rotation_mode=\"anchor\")\n",
        "for i in range(2):\n",
        "    for j in range(2):\n",
        "        ax2.text(j, i, cm2[i, j], ha=\"center\", va=\"center\", color=\"white\" if cm2[i, j] > thresh else \"black\")\n",
        "ax2.set_title(\"Caucasian\")\n",
        "\n",
        "# Add colorbar\n",
        "fig.colorbar(im1, ax=ax1, fraction=0.046, pad=0.04)\n",
        "fig.colorbar(im2, ax=ax2, fraction=0.046, pad=0.04)\n",
        "\n",
        "plt.show()"
      ]
    },
    {
      "cell_type": "markdown",
      "id": "34c06877-0378-4ac1-a175-1262ecdce3ab",
      "metadata": {
        "id": "34c06877-0378-4ac1-a175-1262ecdce3ab"
      },
      "source": [
        "#### Variable Importance"
      ]
    },
    {
      "cell_type": "markdown",
      "id": "084740d6-158e-4ef7-928d-965dc52a57ba",
      "metadata": {
        "id": "084740d6-158e-4ef7-928d-965dc52a57ba"
      },
      "source": [
        "Dalex uses drop-out loss to represent how much the overall accuracy of the model would decrease if a specific feature were removed. According to the chart, if the feature \"priors_count\" were removed, the model's information would decrease significantly. In constrast, it would have been better if the \"race\" feature was dropped because our models do not use the 'race' feature. \n",
        "Nevertheless, we need to examinate other metrics before making the conclusion"
      ]
    },
    {
      "cell_type": "code",
      "execution_count": 139,
      "id": "7dfe0b80-2d99-490e-a6b5-df57ac36e62e",
      "metadata": {
        "id": "7dfe0b80-2d99-490e-a6b5-df57ac36e62e"
      },
      "outputs": [],
      "source": [
        "m_vi_list = [e.model_parts() for e in exp_list]"
      ]
    },
    {
      "cell_type": "code",
      "execution_count": 140,
      "id": "759e52a3-e842-4b17-a797-5d705e002f46",
      "metadata": {
        "colab": {
          "base_uri": "https://localhost:8080/",
          "height": 828
        },
        "id": "759e52a3-e842-4b17-a797-5d705e002f46",
        "outputId": "8fc01b05-2cda-4ebd-ba11-05b3c5ecefa1"
      },
      "outputs": [
        {
          "output_type": "display_data",
          "data": {
            "text/html": [
              "<html>\n",
              "<head><meta charset=\"utf-8\" /></head>\n",
              "<body>\n",
              "    <div>            <script src=\"https://cdnjs.cloudflare.com/ajax/libs/mathjax/2.7.5/MathJax.js?config=TeX-AMS-MML_SVG\"></script><script type=\"text/javascript\">if (window.MathJax) {MathJax.Hub.Config({SVG: {font: \"STIX-Web\"}});}</script>                <script type=\"text/javascript\">window.PlotlyConfig = {MathJaxConfig: 'local'};</script>\n",
              "        <script src=\"https://cdn.plot.ly/plotly-2.8.3.min.js\"></script>                <div id=\"48f22f94-56df-42b3-be0d-6b7ff66808ef\" class=\"plotly-graph-div\" style=\"height:811.0px; width:100%;\"></div>            <script type=\"text/javascript\">                                    window.PLOTLYENV=window.PLOTLYENV || {};                                    if (document.getElementById(\"48f22f94-56df-42b3-be0d-6b7ff66808ef\")) {                    Plotly.newPlot(                        \"48f22f94-56df-42b3-be0d-6b7ff66808ef\",                        [{\"base\":0.2605171445790247,\"hoverinfo\":\"text\",\"hoverlabel\":{\"bgcolor\":\"rgba(0,0,0,0.8)\"},\"hovertext\":[\"Model: Logistic Regression loss after<br>variable: priors_count is permuted: 0.398<br>Drop-out loss change: +0.137\",\"Model: Logistic Regression loss after<br>variable: age is permuted: 0.35<br>Drop-out loss change: +0.089\",\"Model: Logistic Regression loss after<br>variable: sex is permuted: 0.267<br>Drop-out loss change: +0.006\",\"Model: Logistic Regression loss after<br>variable: c_charge_degree is permuted: 0.266<br>Drop-out loss change: +0.005\",\"Model: Logistic Regression loss after<br>variable: y_pred is permuted: 0.261<br>Drop-out loss change: -0.0\",\"Model: Logistic Regression loss after<br>variable: y_test is permuted: 0.261<br>Drop-out loss change: -0.0\",\"Model: Logistic Regression loss after<br>variable: race is permuted: 0.261<br>Drop-out loss change: +0.001\"],\"marker\":{\"color\":\"#8bdcbe\"},\"orientation\":\"h\",\"showlegend\":false,\"text\":[\"+0.137\",\"+0.089\",\"+0.006\",\"+0.005\",\"0.0\",\"0.0\",\"+0.001\"],\"textposition\":\"outside\",\"x\":[0.13720491821302438,0.08948540142581951,0.006350507002579497,0.005432912380714694,0.0,0.0,0.0008564778575544385],\"y\":[\"priors_count\",\"age\",\"sex\",\"c_charge_degree\",\"y_pred\",\"y_test\",\"race\"],\"type\":\"bar\",\"xaxis\":\"x\",\"yaxis\":\"y\"},{\"base\":0.28571002998694384,\"hoverinfo\":\"text\",\"hoverlabel\":{\"bgcolor\":\"rgba(0,0,0,0.8)\"},\"hovertext\":[\"Model: Decision Tree loss after<br>variable: priors_count is permuted: 0.45<br>Drop-out loss change: +0.165\",\"Model: Decision Tree loss after<br>variable: age is permuted: 0.35<br>Drop-out loss change: +0.065\",\"Model: Decision Tree loss after<br>variable: sex is permuted: 0.294<br>Drop-out loss change: +0.008\",\"Model: Decision Tree loss after<br>variable: c_charge_degree is permuted: 0.285<br>Drop-out loss change: -0.0\",\"Model: Decision Tree loss after<br>variable: y_pred is permuted: 0.286<br>Drop-out loss change: -0.0\",\"Model: Decision Tree loss after<br>variable: y_test is permuted: 0.286<br>Drop-out loss change: -0.0\",\"Model: Decision Tree loss after<br>variable: race is permuted: 0.284<br>Drop-out loss change: -0.002\"],\"marker\":{\"color\":\"#4378bf\"},\"orientation\":\"h\",\"showlegend\":false,\"text\":[\"+0.165\",\"+0.065\",\"+0.008\",\"0.0\",\"0.0\",\"0.0\",\"0.002\"],\"textposition\":\"outside\",\"x\":[0.16450473920084996,0.0647591009478986,0.008344710904588493,-0.00024403927812460813,0.0,0.0,-0.0017121317826451765],\"y\":[\"priors_count\",\"age\",\"sex\",\"c_charge_degree\",\"y_pred\",\"y_test\",\"race\"],\"type\":\"bar\",\"xaxis\":\"x2\",\"yaxis\":\"y2\"},{\"base\":0.2578983501312445,\"hoverinfo\":\"text\",\"hoverlabel\":{\"bgcolor\":\"rgba(0,0,0,0.8)\"},\"hovertext\":[\"Model: Random Forest loss after<br>variable: priors_count is permuted: 0.415<br>Drop-out loss change: +0.157\",\"Model: Random Forest loss after<br>variable: age is permuted: 0.35<br>Drop-out loss change: +0.092\",\"Model: Random Forest loss after<br>variable: sex is permuted: 0.266<br>Drop-out loss change: +0.008\",\"Model: Random Forest loss after<br>variable: c_charge_degree is permuted: 0.256<br>Drop-out loss change: -0.002\",\"Model: Random Forest loss after<br>variable: y_pred is permuted: 0.258<br>Drop-out loss change: -0.0\",\"Model: Random Forest loss after<br>variable: y_test is permuted: 0.258<br>Drop-out loss change: -0.0\",\"Model: Random Forest loss after<br>variable: race is permuted: 0.258<br>Drop-out loss change: -0.0\"],\"marker\":{\"color\":\"#46bac2\"},\"orientation\":\"h\",\"showlegend\":false,\"text\":[\"+0.157\",\"+0.092\",\"+0.008\",\"0.002\",\"0.0\",\"0.0\",\"0.0\"],\"textposition\":\"outside\",\"x\":[0.15727001888707226,0.09215484635687676,0.007793466536642757,-0.0017142300788188236,0.0,0.0,-6.119272676435861e-05],\"y\":[\"priors_count\",\"age\",\"sex\",\"c_charge_degree\",\"y_pred\",\"y_test\",\"race\"],\"type\":\"bar\",\"xaxis\":\"x3\",\"yaxis\":\"y3\"}],                        {\"template\":{\"data\":{\"scatter\":[{\"type\":\"scatter\"}]}},\"xaxis\":{\"anchor\":\"y\",\"domain\":[0.0,1.0],\"matches\":\"x3\",\"showticklabels\":false,\"type\":\"linear\",\"gridwidth\":2,\"zeroline\":false,\"automargin\":true,\"ticks\":\"outside\",\"tickcolor\":\"white\",\"ticklen\":3,\"fixedrange\":true,\"range\":[0.22707952268212048,0.47931936655809904]},\"yaxis\":{\"anchor\":\"x\",\"domain\":[0.7111111111111111,1.0],\"type\":\"category\",\"autorange\":\"reversed\",\"gridwidth\":2,\"automargin\":true,\"ticks\":\"outside\",\"tickcolor\":\"white\",\"ticklen\":10,\"fixedrange\":true},\"xaxis2\":{\"anchor\":\"y2\",\"domain\":[0.0,1.0],\"matches\":\"x3\",\"showticklabels\":false,\"type\":\"linear\",\"gridwidth\":2,\"zeroline\":false,\"automargin\":true,\"ticks\":\"outside\",\"tickcolor\":\"white\",\"ticklen\":3,\"fixedrange\":true,\"range\":[0.22707952268212048,0.47931936655809904]},\"yaxis2\":{\"anchor\":\"x2\",\"domain\":[0.35555555555555557,0.6444444444444445],\"type\":\"category\",\"autorange\":\"reversed\",\"gridwidth\":2,\"automargin\":true,\"ticks\":\"outside\",\"tickcolor\":\"white\",\"ticklen\":10,\"fixedrange\":true},\"xaxis3\":{\"anchor\":\"y3\",\"domain\":[0.0,1.0],\"type\":\"linear\",\"gridwidth\":2,\"zeroline\":false,\"automargin\":true,\"ticks\":\"outside\",\"tickcolor\":\"white\",\"ticklen\":3,\"fixedrange\":true,\"range\":[0.22707952268212048,0.47931936655809904]},\"yaxis3\":{\"anchor\":\"x3\",\"domain\":[0.0,0.2888888888888889],\"type\":\"category\",\"autorange\":\"reversed\",\"gridwidth\":2,\"automargin\":true,\"ticks\":\"outside\",\"tickcolor\":\"white\",\"ticklen\":10,\"fixedrange\":true},\"annotations\":[{\"font\":{\"size\":16},\"showarrow\":false,\"text\":\"Logistic Regression\",\"x\":0.5,\"xanchor\":\"center\",\"xref\":\"paper\",\"y\":1.0,\"yanchor\":\"bottom\",\"yref\":\"paper\"},{\"font\":{\"size\":16},\"showarrow\":false,\"text\":\"Decision Tree\",\"x\":0.5,\"xanchor\":\"center\",\"xref\":\"paper\",\"y\":0.6444444444444445,\"yanchor\":\"bottom\",\"yref\":\"paper\"},{\"font\":{\"size\":16},\"showarrow\":false,\"text\":\"Random Forest\",\"x\":0.5,\"xanchor\":\"center\",\"xref\":\"paper\",\"y\":0.2888888888888889,\"yanchor\":\"bottom\",\"yref\":\"paper\"},{\"font\":{\"size\":16},\"showarrow\":false,\"text\":\"drop-out loss\",\"x\":0.5,\"xanchor\":\"center\",\"xref\":\"paper\",\"y\":0,\"yanchor\":\"top\",\"yref\":\"paper\",\"yshift\":-30}],\"shapes\":[{\"line\":{\"color\":\"#371ea3\",\"dash\":\"dot\",\"width\":1.5},\"type\":\"line\",\"x0\":0.2605171445790247,\"x1\":0.2605171445790247,\"xref\":\"x\",\"y0\":-1,\"y1\":7,\"yref\":\"y\"},{\"line\":{\"color\":\"#371ea3\",\"dash\":\"dot\",\"width\":1.5},\"type\":\"line\",\"x0\":0.28571002998694384,\"x1\":0.28571002998694384,\"xref\":\"x2\",\"y0\":-1,\"y1\":7,\"yref\":\"y2\"},{\"line\":{\"color\":\"#371ea3\",\"dash\":\"dot\",\"width\":1.5},\"type\":\"line\",\"x0\":0.2578983501312445,\"x1\":0.2578983501312445,\"xref\":\"x3\",\"y0\":-1,\"y1\":7,\"yref\":\"y3\"}],\"title\":{\"text\":\"Variable Importance\",\"x\":0.15},\"font\":{\"color\":\"#371ea3\"},\"margin\":{\"t\":78,\"b\":71,\"r\":30},\"height\":811.0},                        {\"displaylogo\": false, \"staticPlot\": false, \"toImageButtonOptions\": {\"height\": null, \"width\": null}, \"modeBarButtonsToRemove\": [\"sendDataToCloud\", \"lasso2d\", \"autoScale2d\", \"select2d\", \"zoom2d\", \"pan2d\", \"zoomIn2d\", \"zoomOut2d\", \"resetScale2d\", \"toggleSpikelines\", \"hoverCompareCartesian\", \"hoverClosestCartesian\"], \"responsive\": true}                    ).then(function(){\n",
              "                            \n",
              "var gd = document.getElementById('48f22f94-56df-42b3-be0d-6b7ff66808ef');\n",
              "var x = new MutationObserver(function (mutations, observer) {{\n",
              "        var display = window.getComputedStyle(gd).display;\n",
              "        if (!display || display === 'none') {{\n",
              "            console.log([gd, 'removed!']);\n",
              "            Plotly.purge(gd);\n",
              "            observer.disconnect();\n",
              "        }}\n",
              "}});\n",
              "\n",
              "// Listen for the removal of the full notebook cells\n",
              "var notebookContainer = gd.closest('#notebook-container');\n",
              "if (notebookContainer) {{\n",
              "    x.observe(notebookContainer, {childList: true});\n",
              "}}\n",
              "\n",
              "// Listen for the clearing of the current output cell\n",
              "var outputEl = gd.closest('.output');\n",
              "if (outputEl) {{\n",
              "    x.observe(outputEl, {childList: true});\n",
              "}}\n",
              "\n",
              "                        })                };                            </script>        </div>\n",
              "</body>\n",
              "</html>"
            ]
          },
          "metadata": {}
        }
      ],
      "source": [
        "m_vi_list[0].plot(m_vi_list[1:])"
      ]
    },
    {
      "cell_type": "markdown",
      "id": "fbbc7f66-f82b-4f89-9776-7863bfdd6e5d",
      "metadata": {
        "id": "fbbc7f66-f82b-4f89-9776-7863bfdd6e5d"
      },
      "source": [
        "**Partial Dependences**"
      ]
    },
    {
      "cell_type": "markdown",
      "id": "e1ba2f7e-5240-467c-8193-eedcee771238",
      "metadata": {
        "id": "e1ba2f7e-5240-467c-8193-eedcee771238"
      },
      "source": [
        "After identifying the influential variables in all three models, the next step is to compare the relationship between these variables and the predicted response across the models. To do this, we use [Partial-dependence profiles (PDPs)](https://ema.drwhy.ai/partialDependenceProfiles.html), which are graphical representations of how a model's prediction changes as the value of a single input feature changes, while all other features remain constant. These profiles provide insight into the behavior of the models and help explain why they are making certain predictions."
      ]
    },
    {
      "cell_type": "markdown",
      "id": "0c757253-2d6d-4e75-ab53-59e36cac35aa",
      "metadata": {
        "id": "0c757253-2d6d-4e75-ab53-59e36cac35aa"
      },
      "source": [
        "The partial-dependence profiles for age and prior crimes show a general trend of increased predicted probability of recidivism with younger age and higher number of prior crimes. The relationship between the features and the target in logistic regression is modeled using a linear equation, resulting in a smooth partial-dependence profile curve. In contrast, decision trees and random forests use non-linear decision rules, leading to a more complex and non-linear relationship between the features and the target. As a result, the partial-dependence profiles for these models are not necessarily smooth and tend to be flatter. The difference also can be seen at the right edge of the age scale, which is likely due to random forest models' tendency to shrink predictions towards the average and poor extrapolation performance outside the range of values seen in the training data."
      ]
    },
    {
      "cell_type": "code",
      "execution_count": 141,
      "id": "5890af0d-a843-4487-88a5-bc8f6c281fca",
      "metadata": {
        "colab": {
          "base_uri": "https://localhost:8080/"
        },
        "id": "5890af0d-a843-4487-88a5-bc8f6c281fca",
        "outputId": "fcce0c70-600e-4663-bc85-d05947a26ab6"
      },
      "outputs": [
        {
          "output_type": "stream",
          "name": "stderr",
          "text": [
            "Calculating ceteris paribus: 100%|██████████| 7/7 [00:00<00:00, 21.71it/s]\n",
            "Calculating ceteris paribus: 100%|██████████| 7/7 [00:00<00:00, 32.00it/s]\n",
            "Calculating ceteris paribus: 100%|██████████| 7/7 [00:01<00:00,  5.38it/s]\n"
          ]
        }
      ],
      "source": [
        "m_pdp_list = [e.model_profile(type = 'partial') for e in exp_list]"
      ]
    },
    {
      "cell_type": "code",
      "execution_count": 142,
      "id": "85727c7c-ec6d-4cf2-a08c-c86ac42f9012",
      "metadata": {
        "colab": {
          "base_uri": "https://localhost:8080/",
          "height": 846
        },
        "id": "85727c7c-ec6d-4cf2-a08c-c86ac42f9012",
        "outputId": "62b1b73a-ea38-4aad-c894-037615c70dc5"
      },
      "outputs": [
        {
          "output_type": "display_data",
          "data": {
            "text/html": [
              "<html>\n",
              "<head><meta charset=\"utf-8\" /></head>\n",
              "<body>\n",
              "    <div>            <script src=\"https://cdnjs.cloudflare.com/ajax/libs/mathjax/2.7.5/MathJax.js?config=TeX-AMS-MML_SVG\"></script><script type=\"text/javascript\">if (window.MathJax) {MathJax.Hub.Config({SVG: {font: \"STIX-Web\"}});}</script>                <script type=\"text/javascript\">window.PlotlyConfig = {MathJaxConfig: 'local'};</script>\n",
              "        <script src=\"https://cdn.plot.ly/plotly-2.8.3.min.js\"></script>                <div id=\"808934be-e137-4ce4-9131-73e37af732d8\" class=\"plotly-graph-div\" style=\"height:829px; width:100%;\"></div>            <script type=\"text/javascript\">                                    window.PLOTLYENV=window.PLOTLYENV || {};                                    if (document.getElementById(\"808934be-e137-4ce4-9131-73e37af732d8\")) {                    Plotly.newPlot(                        \"808934be-e137-4ce4-9131-73e37af732d8\",                        [{\"customdata\":[[0.4641905853484294,\"Logistic Regression\",\"age\"],[0.4641905853484294,\"Logistic Regression\",\"age\"],[0.4641905853484294,\"Logistic Regression\",\"age\"],[0.4641905853484294,\"Logistic Regression\",\"age\"],[0.4641905853484294,\"Logistic Regression\",\"age\"],[0.4641905853484294,\"Logistic Regression\",\"age\"],[0.4641905853484294,\"Logistic Regression\",\"age\"],[0.4641905853484294,\"Logistic Regression\",\"age\"],[0.4641905853484294,\"Logistic Regression\",\"age\"],[0.4641905853484294,\"Logistic Regression\",\"age\"],[0.4641905853484294,\"Logistic Regression\",\"age\"],[0.4641905853484294,\"Logistic Regression\",\"age\"],[0.4641905853484294,\"Logistic Regression\",\"age\"],[0.4641905853484294,\"Logistic Regression\",\"age\"],[0.4641905853484294,\"Logistic Regression\",\"age\"],[0.4641905853484294,\"Logistic Regression\",\"age\"],[0.4641905853484294,\"Logistic Regression\",\"age\"],[0.4641905853484294,\"Logistic Regression\",\"age\"],[0.4641905853484294,\"Logistic Regression\",\"age\"],[0.4641905853484294,\"Logistic Regression\",\"age\"],[0.4641905853484294,\"Logistic Regression\",\"age\"],[0.4641905853484294,\"Logistic Regression\",\"age\"],[0.4641905853484294,\"Logistic Regression\",\"age\"],[0.4641905853484294,\"Logistic Regression\",\"age\"],[0.4641905853484294,\"Logistic Regression\",\"age\"],[0.4641905853484294,\"Logistic Regression\",\"age\"],[0.4641905853484294,\"Logistic Regression\",\"age\"],[0.4641905853484294,\"Logistic Regression\",\"age\"],[0.4641905853484294,\"Logistic Regression\",\"age\"],[0.4641905853484294,\"Logistic Regression\",\"age\"],[0.4641905853484294,\"Logistic Regression\",\"age\"],[0.4641905853484294,\"Logistic Regression\",\"age\"],[0.4641905853484294,\"Logistic Regression\",\"age\"],[0.4641905853484294,\"Logistic Regression\",\"age\"],[0.4641905853484294,\"Logistic Regression\",\"age\"],[0.4641905853484294,\"Logistic Regression\",\"age\"],[0.4641905853484294,\"Logistic Regression\",\"age\"],[0.4641905853484294,\"Logistic Regression\",\"age\"],[0.4641905853484294,\"Logistic Regression\",\"age\"],[0.4641905853484294,\"Logistic Regression\",\"age\"],[0.4641905853484294,\"Logistic Regression\",\"age\"],[0.4641905853484294,\"Logistic Regression\",\"age\"],[0.4641905853484294,\"Logistic Regression\",\"age\"],[0.4641905853484294,\"Logistic Regression\",\"age\"],[0.4641905853484294,\"Logistic Regression\",\"age\"],[0.4641905853484294,\"Logistic Regression\",\"age\"],[0.4641905853484294,\"Logistic Regression\",\"age\"],[0.4641905853484294,\"Logistic Regression\",\"age\"],[0.4641905853484294,\"Logistic Regression\",\"age\"],[0.4641905853484294,\"Logistic Regression\",\"age\"],[0.4641905853484294,\"Logistic Regression\",\"age\"],[0.4641905853484294,\"Logistic Regression\",\"age\"],[0.4641905853484294,\"Logistic Regression\",\"age\"],[0.4641905853484294,\"Logistic Regression\",\"age\"],[0.4641905853484294,\"Logistic Regression\",\"age\"],[0.4641905853484294,\"Logistic Regression\",\"age\"],[0.4641905853484294,\"Logistic Regression\",\"age\"],[0.4641905853484294,\"Logistic Regression\",\"age\"],[0.4641905853484294,\"Logistic Regression\",\"age\"],[0.4641905853484294,\"Logistic Regression\",\"age\"],[0.4641905853484294,\"Logistic Regression\",\"age\"],[0.4641905853484294,\"Logistic Regression\",\"age\"],[0.4641905853484294,\"Logistic Regression\",\"age\"],[0.4641905853484294,\"Logistic Regression\",\"age\"],[0.4641905853484294,\"Logistic Regression\",\"age\"],[0.4641905853484294,\"Logistic Regression\",\"age\"],[0.4641905853484294,\"Logistic Regression\",\"age\"],[0.4641905853484294,\"Logistic Regression\",\"age\"],[0.4641905853484294,\"Logistic Regression\",\"age\"],[0.4641905853484294,\"Logistic Regression\",\"age\"],[0.4641905853484294,\"Logistic Regression\",\"age\"],[0.4641905853484294,\"Logistic Regression\",\"age\"],[0.4641905853484294,\"Logistic Regression\",\"age\"],[0.4641905853484294,\"Logistic Regression\",\"age\"],[0.4641905853484294,\"Logistic Regression\",\"age\"],[0.4641905853484294,\"Logistic Regression\",\"age\"],[0.4641905853484294,\"Logistic Regression\",\"age\"],[0.4641905853484294,\"Logistic Regression\",\"age\"],[0.4641905853484294,\"Logistic Regression\",\"age\"],[0.4641905853484294,\"Logistic Regression\",\"age\"],[0.4641905853484294,\"Logistic Regression\",\"age\"],[0.4641905853484294,\"Logistic Regression\",\"age\"],[0.4641905853484294,\"Logistic Regression\",\"age\"],[0.4641905853484294,\"Logistic Regression\",\"age\"],[0.4641905853484294,\"Logistic Regression\",\"age\"],[0.4641905853484294,\"Logistic Regression\",\"age\"],[0.4641905853484294,\"Logistic Regression\",\"age\"],[0.4641905853484294,\"Logistic Regression\",\"age\"],[0.4641905853484294,\"Logistic Regression\",\"age\"],[0.4641905853484294,\"Logistic Regression\",\"age\"],[0.4641905853484294,\"Logistic Regression\",\"age\"],[0.4641905853484294,\"Logistic Regression\",\"age\"],[0.4641905853484294,\"Logistic Regression\",\"age\"],[0.4641905853484294,\"Logistic Regression\",\"age\"],[0.4641905853484294,\"Logistic Regression\",\"age\"],[0.4641905853484294,\"Logistic Regression\",\"age\"],[0.4641905853484294,\"Logistic Regression\",\"age\"],[0.4641905853484294,\"Logistic Regression\",\"age\"],[0.4641905853484294,\"Logistic Regression\",\"age\"],[0.4641905853484294,\"Logistic Regression\",\"age\"],[0.4641905853484294,\"Logistic Regression\",\"age\"]],\"hovertemplate\":\"<b>%{hovertext}</b><br><br>prediction=%{y:.3f}<br>mean_prediction=%{customdata[0]:.3f}<extra></extra>\",\"hovertext\":[\"Logistic Regression\",\"Logistic Regression\",\"Logistic Regression\",\"Logistic Regression\",\"Logistic Regression\",\"Logistic Regression\",\"Logistic Regression\",\"Logistic Regression\",\"Logistic Regression\",\"Logistic Regression\",\"Logistic Regression\",\"Logistic Regression\",\"Logistic Regression\",\"Logistic Regression\",\"Logistic Regression\",\"Logistic Regression\",\"Logistic Regression\",\"Logistic Regression\",\"Logistic Regression\",\"Logistic Regression\",\"Logistic Regression\",\"Logistic Regression\",\"Logistic Regression\",\"Logistic Regression\",\"Logistic Regression\",\"Logistic Regression\",\"Logistic Regression\",\"Logistic Regression\",\"Logistic Regression\",\"Logistic Regression\",\"Logistic Regression\",\"Logistic Regression\",\"Logistic Regression\",\"Logistic Regression\",\"Logistic Regression\",\"Logistic Regression\",\"Logistic Regression\",\"Logistic Regression\",\"Logistic Regression\",\"Logistic Regression\",\"Logistic Regression\",\"Logistic Regression\",\"Logistic Regression\",\"Logistic Regression\",\"Logistic Regression\",\"Logistic Regression\",\"Logistic Regression\",\"Logistic Regression\",\"Logistic Regression\",\"Logistic Regression\",\"Logistic Regression\",\"Logistic Regression\",\"Logistic Regression\",\"Logistic Regression\",\"Logistic Regression\",\"Logistic Regression\",\"Logistic Regression\",\"Logistic Regression\",\"Logistic Regression\",\"Logistic Regression\",\"Logistic Regression\",\"Logistic Regression\",\"Logistic Regression\",\"Logistic Regression\",\"Logistic Regression\",\"Logistic Regression\",\"Logistic Regression\",\"Logistic Regression\",\"Logistic Regression\",\"Logistic Regression\",\"Logistic Regression\",\"Logistic Regression\",\"Logistic Regression\",\"Logistic Regression\",\"Logistic Regression\",\"Logistic Regression\",\"Logistic Regression\",\"Logistic Regression\",\"Logistic Regression\",\"Logistic Regression\",\"Logistic Regression\",\"Logistic Regression\",\"Logistic Regression\",\"Logistic Regression\",\"Logistic Regression\",\"Logistic Regression\",\"Logistic Regression\",\"Logistic Regression\",\"Logistic Regression\",\"Logistic Regression\",\"Logistic Regression\",\"Logistic Regression\",\"Logistic Regression\",\"Logistic Regression\",\"Logistic Regression\",\"Logistic Regression\",\"Logistic Regression\",\"Logistic Regression\",\"Logistic Regression\",\"Logistic Regression\",\"Logistic Regression\"],\"legendgroup\":\"Logistic Regression\",\"line\":{\"color\":\"#8bdcbe\",\"dash\":\"solid\",\"width\":2},\"marker\":{\"symbol\":\"circle\"},\"mode\":\"lines\",\"name\":\"Logistic Regression\",\"orientation\":\"v\",\"showlegend\":true,\"x\":[18.0,18.62,19.24,19.86,20.48,21.1,21.72,22.34,22.96,23.58,24.2,24.82,25.439999999999998,26.060000000000002,26.68,27.3,27.92,28.54,29.16,29.78,30.4,31.02,31.64,32.26,32.879999999999995,33.5,34.120000000000005,34.739999999999995,35.36,35.980000000000004,36.6,37.22,37.84,38.46,39.08,39.7,40.32,40.94,41.56,42.18,42.8,43.42,44.04,44.66,45.28,45.9,46.519999999999996,47.14,47.76,48.379999999999995,49.0,49.620000000000005,50.24,50.86,51.48,52.1,52.72,53.339999999999996,53.96,54.58,55.2,55.82,56.44,57.06,57.68,58.3,58.92,59.54,60.16,60.78,61.4,62.02,62.64,63.26,63.88,64.5,65.12,65.74000000000001,66.36,66.97999999999999,67.6,68.22,68.84,69.46000000000001,70.08,70.7,71.32,71.94,72.56,73.18,73.8,74.42,75.03999999999999,75.66,76.28,76.9,77.52,78.14,78.75999999999999,79.38,80.0],\"xaxis\":\"x3\",\"y\":[0.6133374220174415,0.6077406898752384,0.6021228592120261,0.5964853846761875,0.5908297355696686,0.5851573942261502,0.5794698543684792,0.573768619449334,0.5680552009791473,0.5623311168453266,0.5565978896268285,0.5508570449081366,0.5451101095966625,0.539358610247556,0.5336040713998546,0.5278480139278212,0.5220919534112504,0.5163373985284029,0.5105858494751302,0.5048387964136144,0.4990977179540124,0.4933640796721459,0.4876393326662127,0.4819249121553327,0.4762222361225583,0.4705327040047999,0.464857695431922,0.4591985690170759,0.45355666120012994,0.447933285145864,0.44232972969838386,0.43674725839301404,0.4311871085267215,0.4256504902879205,0.42013858594630893,0.4146525491031931,0.4091935040025619,0.40376254490298485,0.39836073551022844,0.39298910847030677,0.3876486649225134,0.3823403741118223,0.3770651730598891,0.3718239662937377,0.3666176256310828,0.36144699002110703,0.35631286543939367,0.35121602483560516,0.3461572081323955,0.341137122273954,0.3361564413224936,0.3312158066009251,0.3263158268798922,0.32145707860728845,0.3166401061783302,0.31186542224421987,0.3071335080574054,0.3024448138514198,0.2977997592532692,0.2931987337263317,0.2886420970417293,0.2841301797761416,0.2796632838340429,0.2752416829923639,0.2708656234656028,0.26653532448943995,0.26225097892094645,0.2580127538535131,0.2538207912446706,0.2496752085550185,0.24557609939652897,0.2415235341885439,0.2375175608198416,0.23355820531520313,0.22964547250497044,0.22577934669614919,0.22195979234366972,0.21818675472048676,0.2144601605852578,0.21077991884641017,0.20714592122146866,0.2035580428905819,0.20001614314325122,0.19652006601733,0.19306964092942727,0.1896646832959114,0.18630499514377472,0.18299036571068034,0.17972057203357453,0.1764953795253078,0.1733145425387657,0.1701778049180681,0.16708490053645236,0.16403555382050633,0.16102948026047487,0.15806638690640845,0.1551459728499768,0.15226792969181213,0.1494319419942973,0.14663768771975172,0.143884838654014],\"yaxis\":\"y3\",\"type\":\"scatter\",\"opacity\":1},{\"customdata\":[[0.4641905853484294,\"Logistic Regression\",\"priors_count\"],[0.4641905853484294,\"Logistic Regression\",\"priors_count\"],[0.4641905853484294,\"Logistic Regression\",\"priors_count\"],[0.4641905853484294,\"Logistic Regression\",\"priors_count\"],[0.4641905853484294,\"Logistic Regression\",\"priors_count\"],[0.4641905853484294,\"Logistic Regression\",\"priors_count\"],[0.4641905853484294,\"Logistic Regression\",\"priors_count\"],[0.4641905853484294,\"Logistic Regression\",\"priors_count\"],[0.4641905853484294,\"Logistic Regression\",\"priors_count\"],[0.4641905853484294,\"Logistic Regression\",\"priors_count\"],[0.4641905853484294,\"Logistic Regression\",\"priors_count\"],[0.4641905853484294,\"Logistic Regression\",\"priors_count\"],[0.4641905853484294,\"Logistic Regression\",\"priors_count\"],[0.4641905853484294,\"Logistic Regression\",\"priors_count\"],[0.4641905853484294,\"Logistic Regression\",\"priors_count\"],[0.4641905853484294,\"Logistic Regression\",\"priors_count\"],[0.4641905853484294,\"Logistic Regression\",\"priors_count\"],[0.4641905853484294,\"Logistic Regression\",\"priors_count\"],[0.4641905853484294,\"Logistic Regression\",\"priors_count\"],[0.4641905853484294,\"Logistic Regression\",\"priors_count\"],[0.4641905853484294,\"Logistic Regression\",\"priors_count\"],[0.4641905853484294,\"Logistic Regression\",\"priors_count\"],[0.4641905853484294,\"Logistic Regression\",\"priors_count\"],[0.4641905853484294,\"Logistic Regression\",\"priors_count\"],[0.4641905853484294,\"Logistic Regression\",\"priors_count\"],[0.4641905853484294,\"Logistic Regression\",\"priors_count\"],[0.4641905853484294,\"Logistic Regression\",\"priors_count\"],[0.4641905853484294,\"Logistic Regression\",\"priors_count\"],[0.4641905853484294,\"Logistic Regression\",\"priors_count\"],[0.4641905853484294,\"Logistic Regression\",\"priors_count\"],[0.4641905853484294,\"Logistic Regression\",\"priors_count\"],[0.4641905853484294,\"Logistic Regression\",\"priors_count\"],[0.4641905853484294,\"Logistic Regression\",\"priors_count\"],[0.4641905853484294,\"Logistic Regression\",\"priors_count\"],[0.4641905853484294,\"Logistic Regression\",\"priors_count\"],[0.4641905853484294,\"Logistic Regression\",\"priors_count\"],[0.4641905853484294,\"Logistic Regression\",\"priors_count\"],[0.4641905853484294,\"Logistic Regression\",\"priors_count\"],[0.4641905853484294,\"Logistic Regression\",\"priors_count\"],[0.4641905853484294,\"Logistic Regression\",\"priors_count\"],[0.4641905853484294,\"Logistic Regression\",\"priors_count\"],[0.4641905853484294,\"Logistic Regression\",\"priors_count\"],[0.4641905853484294,\"Logistic Regression\",\"priors_count\"],[0.4641905853484294,\"Logistic Regression\",\"priors_count\"],[0.4641905853484294,\"Logistic Regression\",\"priors_count\"],[0.4641905853484294,\"Logistic Regression\",\"priors_count\"],[0.4641905853484294,\"Logistic Regression\",\"priors_count\"],[0.4641905853484294,\"Logistic Regression\",\"priors_count\"],[0.4641905853484294,\"Logistic Regression\",\"priors_count\"],[0.4641905853484294,\"Logistic Regression\",\"priors_count\"],[0.4641905853484294,\"Logistic Regression\",\"priors_count\"],[0.4641905853484294,\"Logistic Regression\",\"priors_count\"],[0.4641905853484294,\"Logistic Regression\",\"priors_count\"],[0.4641905853484294,\"Logistic Regression\",\"priors_count\"],[0.4641905853484294,\"Logistic Regression\",\"priors_count\"],[0.4641905853484294,\"Logistic Regression\",\"priors_count\"],[0.4641905853484294,\"Logistic Regression\",\"priors_count\"],[0.4641905853484294,\"Logistic Regression\",\"priors_count\"],[0.4641905853484294,\"Logistic Regression\",\"priors_count\"],[0.4641905853484294,\"Logistic Regression\",\"priors_count\"],[0.4641905853484294,\"Logistic Regression\",\"priors_count\"],[0.4641905853484294,\"Logistic Regression\",\"priors_count\"],[0.4641905853484294,\"Logistic Regression\",\"priors_count\"],[0.4641905853484294,\"Logistic Regression\",\"priors_count\"],[0.4641905853484294,\"Logistic Regression\",\"priors_count\"],[0.4641905853484294,\"Logistic Regression\",\"priors_count\"],[0.4641905853484294,\"Logistic Regression\",\"priors_count\"],[0.4641905853484294,\"Logistic Regression\",\"priors_count\"],[0.4641905853484294,\"Logistic Regression\",\"priors_count\"],[0.4641905853484294,\"Logistic Regression\",\"priors_count\"],[0.4641905853484294,\"Logistic Regression\",\"priors_count\"],[0.4641905853484294,\"Logistic Regression\",\"priors_count\"],[0.4641905853484294,\"Logistic Regression\",\"priors_count\"],[0.4641905853484294,\"Logistic Regression\",\"priors_count\"],[0.4641905853484294,\"Logistic Regression\",\"priors_count\"],[0.4641905853484294,\"Logistic Regression\",\"priors_count\"],[0.4641905853484294,\"Logistic Regression\",\"priors_count\"],[0.4641905853484294,\"Logistic Regression\",\"priors_count\"],[0.4641905853484294,\"Logistic Regression\",\"priors_count\"],[0.4641905853484294,\"Logistic Regression\",\"priors_count\"],[0.4641905853484294,\"Logistic Regression\",\"priors_count\"],[0.4641905853484294,\"Logistic Regression\",\"priors_count\"],[0.4641905853484294,\"Logistic Regression\",\"priors_count\"],[0.4641905853484294,\"Logistic Regression\",\"priors_count\"],[0.4641905853484294,\"Logistic Regression\",\"priors_count\"],[0.4641905853484294,\"Logistic Regression\",\"priors_count\"],[0.4641905853484294,\"Logistic Regression\",\"priors_count\"],[0.4641905853484294,\"Logistic Regression\",\"priors_count\"],[0.4641905853484294,\"Logistic Regression\",\"priors_count\"],[0.4641905853484294,\"Logistic Regression\",\"priors_count\"],[0.4641905853484294,\"Logistic Regression\",\"priors_count\"],[0.4641905853484294,\"Logistic Regression\",\"priors_count\"],[0.4641905853484294,\"Logistic Regression\",\"priors_count\"],[0.4641905853484294,\"Logistic Regression\",\"priors_count\"],[0.4641905853484294,\"Logistic Regression\",\"priors_count\"],[0.4641905853484294,\"Logistic Regression\",\"priors_count\"],[0.4641905853484294,\"Logistic Regression\",\"priors_count\"],[0.4641905853484294,\"Logistic Regression\",\"priors_count\"],[0.4641905853484294,\"Logistic Regression\",\"priors_count\"],[0.4641905853484294,\"Logistic Regression\",\"priors_count\"],[0.4641905853484294,\"Logistic Regression\",\"priors_count\"]],\"hovertemplate\":\"<b>%{hovertext}</b><br><br>prediction=%{y:.3f}<br>mean_prediction=%{customdata[0]:.3f}<extra></extra>\",\"hovertext\":[\"Logistic Regression\",\"Logistic Regression\",\"Logistic Regression\",\"Logistic Regression\",\"Logistic Regression\",\"Logistic Regression\",\"Logistic Regression\",\"Logistic Regression\",\"Logistic Regression\",\"Logistic Regression\",\"Logistic Regression\",\"Logistic Regression\",\"Logistic Regression\",\"Logistic Regression\",\"Logistic Regression\",\"Logistic Regression\",\"Logistic Regression\",\"Logistic Regression\",\"Logistic Regression\",\"Logistic Regression\",\"Logistic Regression\",\"Logistic Regression\",\"Logistic Regression\",\"Logistic Regression\",\"Logistic Regression\",\"Logistic Regression\",\"Logistic Regression\",\"Logistic Regression\",\"Logistic Regression\",\"Logistic Regression\",\"Logistic Regression\",\"Logistic Regression\",\"Logistic Regression\",\"Logistic Regression\",\"Logistic Regression\",\"Logistic Regression\",\"Logistic Regression\",\"Logistic Regression\",\"Logistic Regression\",\"Logistic Regression\",\"Logistic Regression\",\"Logistic Regression\",\"Logistic Regression\",\"Logistic Regression\",\"Logistic Regression\",\"Logistic Regression\",\"Logistic Regression\",\"Logistic Regression\",\"Logistic Regression\",\"Logistic Regression\",\"Logistic Regression\",\"Logistic Regression\",\"Logistic Regression\",\"Logistic Regression\",\"Logistic Regression\",\"Logistic Regression\",\"Logistic Regression\",\"Logistic Regression\",\"Logistic Regression\",\"Logistic Regression\",\"Logistic Regression\",\"Logistic Regression\",\"Logistic Regression\",\"Logistic Regression\",\"Logistic Regression\",\"Logistic Regression\",\"Logistic Regression\",\"Logistic Regression\",\"Logistic Regression\",\"Logistic Regression\",\"Logistic Regression\",\"Logistic Regression\",\"Logistic Regression\",\"Logistic Regression\",\"Logistic Regression\",\"Logistic Regression\",\"Logistic Regression\",\"Logistic Regression\",\"Logistic Regression\",\"Logistic Regression\",\"Logistic Regression\",\"Logistic Regression\",\"Logistic Regression\",\"Logistic Regression\",\"Logistic Regression\",\"Logistic Regression\",\"Logistic Regression\",\"Logistic Regression\",\"Logistic Regression\",\"Logistic Regression\",\"Logistic Regression\",\"Logistic Regression\",\"Logistic Regression\",\"Logistic Regression\",\"Logistic Regression\",\"Logistic Regression\",\"Logistic Regression\",\"Logistic Regression\",\"Logistic Regression\",\"Logistic Regression\",\"Logistic Regression\"],\"legendgroup\":\"Logistic Regression\",\"line\":{\"color\":\"#8bdcbe\",\"dash\":\"solid\",\"width\":2},\"marker\":{\"symbol\":\"circle\"},\"mode\":\"lines\",\"name\":\"Logistic Regression\",\"orientation\":\"v\",\"showlegend\":false,\"x\":[0.0,0.36,0.72,1.08,1.44,1.7999999999999998,2.16,2.52,2.88,3.2399999999999998,3.5999999999999996,3.96,4.32,4.68,5.04,5.3999999999999995,5.76,6.12,6.4799999999999995,6.84,7.199999999999999,7.56,7.92,8.28,8.64,9.0,9.36,9.719999999999999,10.08,10.44,10.799999999999999,11.16,11.52,11.879999999999999,12.24,12.6,12.959999999999999,13.32,13.68,14.04,14.399999999999999,14.76,15.12,15.479999999999999,15.84,16.2,16.56,16.919999999999998,17.28,17.64,18.0,18.36,18.72,19.08,19.439999999999998,19.8,20.16,20.52,20.88,21.24,21.599999999999998,21.96,22.32,22.68,23.04,23.4,23.759999999999998,24.119999999999997,24.48,24.84,25.2,25.56,25.919999999999998,26.279999999999998,26.64,27.0,27.36,27.72,28.08,28.439999999999998,28.799999999999997,29.16,29.52,29.88,30.24,30.599999999999998,30.959999999999997,31.32,31.68,32.04,32.4,32.76,33.12,33.48,33.839999999999996,34.199999999999996,34.56,34.92,35.28,35.64,36.0],\"xaxis\":\"x4\",\"y\":[0.33605870249014286,0.34830184409223913,0.3607344355425155,0.37334266943914607,0.3861119327098461,0.39902686749971994,0.4120714388222738,0.4252290083617861,0.4384824137250979,0.45181405236253586,0.4652059693127263,0.47863994787577097,0.4920976022845048,0.5055604714247908,0.5190101126530858,0.532428194772461,0.5457965892561727,0.5590974588496648,0.5723133427362136,0.5854272375166991,0.5984226733284479,0.6112837845098816,0.6239953743048874,0.6365429731914961,0.6489128905117585,0.661092259171892,0.6730690732722273,0.6848322186137799,0.6963714961111628,0.7076776382189945,0.7187423185501192,0.729558154928188,0.7401187061740365,0.7504184629745413,0.7604528332241608,0.7702181222631961,0.7797115084630835,0.7889310146280385,0.7978754756944149,0.806544503214653,0.8149384471121072,0.8230583551868613,0.8309059308413859,0.8384834894790983,0.8457939140091157,0.8528406098672845,0.8596274599375107,0.8661587797290224,0.8724392731350432,0.8784739890669355,0.8842682792257178,0.8898277572404152,0.8951582593704437,0.9002658069375332,0.9051565706219538,0.9098368367283253,0.914312975498367,0.9185914115217763,0.9226785962722285,0.9265809827733749,0.9303050023797769,0.9338570436400054,0.9372434331936371,0.9404704186405914,0.9435441533100796,0.9464706828473127,0.9492559335289085,0.9519057022125335,0.9544256478225498,0.9568212842711815,0.9590979747137931,0.9612609270371341,0.9633151904806997,0.9652656532935276,0.9671170413316512,0.968873917504943,0.9705406819860551,0.9721215730985105,0.9736206688055965,0.97504188872648,0.9763889966108151,0.9776656032079875,0.97887516947196,0.9800210100474241,0.9811062969875587,0.9821340636581315,0.983107208786925,0.9840285006214974,0.984900581162099,0.9857259704401491,0.98650707081601,0.9872461712729158,0.9879454516867804,0.9886069870542641,0.9892327516639028,0.989824623197328,0.990384386749616,0.9909137387596388,0.9914142908429293,0.991887573521058,0.9923350398428397],\"yaxis\":\"y4\",\"type\":\"scatter\",\"opacity\":1},{\"customdata\":[[0.4641905853484294,\"Logistic Regression\",\"y_test\"],[0.4641905853484294,\"Logistic Regression\",\"y_test\"],[0.4641905853484294,\"Logistic Regression\",\"y_test\"],[0.4641905853484294,\"Logistic Regression\",\"y_test\"],[0.4641905853484294,\"Logistic Regression\",\"y_test\"],[0.4641905853484294,\"Logistic Regression\",\"y_test\"],[0.4641905853484294,\"Logistic Regression\",\"y_test\"],[0.4641905853484294,\"Logistic Regression\",\"y_test\"],[0.4641905853484294,\"Logistic Regression\",\"y_test\"],[0.4641905853484294,\"Logistic Regression\",\"y_test\"],[0.4641905853484294,\"Logistic Regression\",\"y_test\"],[0.4641905853484294,\"Logistic Regression\",\"y_test\"],[0.4641905853484294,\"Logistic Regression\",\"y_test\"],[0.4641905853484294,\"Logistic Regression\",\"y_test\"],[0.4641905853484294,\"Logistic Regression\",\"y_test\"],[0.4641905853484294,\"Logistic Regression\",\"y_test\"],[0.4641905853484294,\"Logistic Regression\",\"y_test\"],[0.4641905853484294,\"Logistic Regression\",\"y_test\"],[0.4641905853484294,\"Logistic Regression\",\"y_test\"],[0.4641905853484294,\"Logistic Regression\",\"y_test\"],[0.4641905853484294,\"Logistic Regression\",\"y_test\"],[0.4641905853484294,\"Logistic Regression\",\"y_test\"],[0.4641905853484294,\"Logistic Regression\",\"y_test\"],[0.4641905853484294,\"Logistic Regression\",\"y_test\"],[0.4641905853484294,\"Logistic Regression\",\"y_test\"],[0.4641905853484294,\"Logistic Regression\",\"y_test\"],[0.4641905853484294,\"Logistic Regression\",\"y_test\"],[0.4641905853484294,\"Logistic Regression\",\"y_test\"],[0.4641905853484294,\"Logistic Regression\",\"y_test\"],[0.4641905853484294,\"Logistic Regression\",\"y_test\"],[0.4641905853484294,\"Logistic Regression\",\"y_test\"],[0.4641905853484294,\"Logistic Regression\",\"y_test\"],[0.4641905853484294,\"Logistic Regression\",\"y_test\"],[0.4641905853484294,\"Logistic Regression\",\"y_test\"],[0.4641905853484294,\"Logistic Regression\",\"y_test\"],[0.4641905853484294,\"Logistic Regression\",\"y_test\"],[0.4641905853484294,\"Logistic Regression\",\"y_test\"],[0.4641905853484294,\"Logistic Regression\",\"y_test\"],[0.4641905853484294,\"Logistic Regression\",\"y_test\"],[0.4641905853484294,\"Logistic Regression\",\"y_test\"],[0.4641905853484294,\"Logistic Regression\",\"y_test\"],[0.4641905853484294,\"Logistic Regression\",\"y_test\"],[0.4641905853484294,\"Logistic Regression\",\"y_test\"],[0.4641905853484294,\"Logistic Regression\",\"y_test\"],[0.4641905853484294,\"Logistic Regression\",\"y_test\"],[0.4641905853484294,\"Logistic Regression\",\"y_test\"],[0.4641905853484294,\"Logistic Regression\",\"y_test\"],[0.4641905853484294,\"Logistic Regression\",\"y_test\"],[0.4641905853484294,\"Logistic Regression\",\"y_test\"],[0.4641905853484294,\"Logistic Regression\",\"y_test\"],[0.4641905853484294,\"Logistic Regression\",\"y_test\"],[0.4641905853484294,\"Logistic Regression\",\"y_test\"],[0.4641905853484294,\"Logistic Regression\",\"y_test\"],[0.4641905853484294,\"Logistic Regression\",\"y_test\"],[0.4641905853484294,\"Logistic Regression\",\"y_test\"],[0.4641905853484294,\"Logistic Regression\",\"y_test\"],[0.4641905853484294,\"Logistic Regression\",\"y_test\"],[0.4641905853484294,\"Logistic Regression\",\"y_test\"],[0.4641905853484294,\"Logistic Regression\",\"y_test\"],[0.4641905853484294,\"Logistic Regression\",\"y_test\"],[0.4641905853484294,\"Logistic Regression\",\"y_test\"],[0.4641905853484294,\"Logistic Regression\",\"y_test\"],[0.4641905853484294,\"Logistic Regression\",\"y_test\"],[0.4641905853484294,\"Logistic Regression\",\"y_test\"],[0.4641905853484294,\"Logistic Regression\",\"y_test\"],[0.4641905853484294,\"Logistic Regression\",\"y_test\"],[0.4641905853484294,\"Logistic Regression\",\"y_test\"],[0.4641905853484294,\"Logistic Regression\",\"y_test\"],[0.4641905853484294,\"Logistic Regression\",\"y_test\"],[0.4641905853484294,\"Logistic Regression\",\"y_test\"],[0.4641905853484294,\"Logistic Regression\",\"y_test\"],[0.4641905853484294,\"Logistic Regression\",\"y_test\"],[0.4641905853484294,\"Logistic Regression\",\"y_test\"],[0.4641905853484294,\"Logistic Regression\",\"y_test\"],[0.4641905853484294,\"Logistic Regression\",\"y_test\"],[0.4641905853484294,\"Logistic Regression\",\"y_test\"],[0.4641905853484294,\"Logistic Regression\",\"y_test\"],[0.4641905853484294,\"Logistic Regression\",\"y_test\"],[0.4641905853484294,\"Logistic Regression\",\"y_test\"],[0.4641905853484294,\"Logistic Regression\",\"y_test\"],[0.4641905853484294,\"Logistic Regression\",\"y_test\"],[0.4641905853484294,\"Logistic Regression\",\"y_test\"],[0.4641905853484294,\"Logistic Regression\",\"y_test\"],[0.4641905853484294,\"Logistic Regression\",\"y_test\"],[0.4641905853484294,\"Logistic Regression\",\"y_test\"],[0.4641905853484294,\"Logistic Regression\",\"y_test\"],[0.4641905853484294,\"Logistic Regression\",\"y_test\"],[0.4641905853484294,\"Logistic Regression\",\"y_test\"],[0.4641905853484294,\"Logistic Regression\",\"y_test\"],[0.4641905853484294,\"Logistic Regression\",\"y_test\"],[0.4641905853484294,\"Logistic Regression\",\"y_test\"],[0.4641905853484294,\"Logistic Regression\",\"y_test\"],[0.4641905853484294,\"Logistic Regression\",\"y_test\"],[0.4641905853484294,\"Logistic Regression\",\"y_test\"],[0.4641905853484294,\"Logistic Regression\",\"y_test\"],[0.4641905853484294,\"Logistic Regression\",\"y_test\"],[0.4641905853484294,\"Logistic Regression\",\"y_test\"],[0.4641905853484294,\"Logistic Regression\",\"y_test\"],[0.4641905853484294,\"Logistic Regression\",\"y_test\"],[0.4641905853484294,\"Logistic Regression\",\"y_test\"],[0.4641905853484294,\"Logistic Regression\",\"y_test\"]],\"hovertemplate\":\"<b>%{hovertext}</b><br><br>prediction=%{y:.3f}<br>mean_prediction=%{customdata[0]:.3f}<extra></extra>\",\"hovertext\":[\"Logistic Regression\",\"Logistic Regression\",\"Logistic Regression\",\"Logistic Regression\",\"Logistic Regression\",\"Logistic Regression\",\"Logistic Regression\",\"Logistic Regression\",\"Logistic Regression\",\"Logistic Regression\",\"Logistic Regression\",\"Logistic Regression\",\"Logistic Regression\",\"Logistic Regression\",\"Logistic Regression\",\"Logistic Regression\",\"Logistic Regression\",\"Logistic Regression\",\"Logistic Regression\",\"Logistic Regression\",\"Logistic Regression\",\"Logistic Regression\",\"Logistic Regression\",\"Logistic Regression\",\"Logistic Regression\",\"Logistic Regression\",\"Logistic Regression\",\"Logistic Regression\",\"Logistic Regression\",\"Logistic Regression\",\"Logistic Regression\",\"Logistic Regression\",\"Logistic Regression\",\"Logistic Regression\",\"Logistic Regression\",\"Logistic Regression\",\"Logistic Regression\",\"Logistic Regression\",\"Logistic Regression\",\"Logistic Regression\",\"Logistic Regression\",\"Logistic Regression\",\"Logistic Regression\",\"Logistic Regression\",\"Logistic Regression\",\"Logistic Regression\",\"Logistic Regression\",\"Logistic Regression\",\"Logistic Regression\",\"Logistic Regression\",\"Logistic Regression\",\"Logistic Regression\",\"Logistic Regression\",\"Logistic Regression\",\"Logistic Regression\",\"Logistic Regression\",\"Logistic Regression\",\"Logistic Regression\",\"Logistic Regression\",\"Logistic Regression\",\"Logistic Regression\",\"Logistic Regression\",\"Logistic Regression\",\"Logistic Regression\",\"Logistic Regression\",\"Logistic Regression\",\"Logistic Regression\",\"Logistic Regression\",\"Logistic Regression\",\"Logistic Regression\",\"Logistic Regression\",\"Logistic Regression\",\"Logistic Regression\",\"Logistic Regression\",\"Logistic Regression\",\"Logistic Regression\",\"Logistic Regression\",\"Logistic Regression\",\"Logistic Regression\",\"Logistic Regression\",\"Logistic Regression\",\"Logistic Regression\",\"Logistic Regression\",\"Logistic Regression\",\"Logistic Regression\",\"Logistic Regression\",\"Logistic Regression\",\"Logistic Regression\",\"Logistic Regression\",\"Logistic Regression\",\"Logistic Regression\",\"Logistic Regression\",\"Logistic Regression\",\"Logistic Regression\",\"Logistic Regression\",\"Logistic Regression\",\"Logistic Regression\",\"Logistic Regression\",\"Logistic Regression\",\"Logistic Regression\",\"Logistic Regression\"],\"legendgroup\":\"Logistic Regression\",\"line\":{\"color\":\"#8bdcbe\",\"dash\":\"solid\",\"width\":2},\"marker\":{\"symbol\":\"circle\"},\"mode\":\"lines\",\"name\":\"Logistic Regression\",\"orientation\":\"v\",\"showlegend\":false,\"x\":[0.0,0.01,0.02,0.03,0.04,0.05,0.06,0.07,0.08,0.09,0.1,0.11,0.12,0.13,0.14,0.15,0.16,0.17,0.18,0.19,0.2,0.21,0.22,0.23,0.24,0.25,0.26,0.27,0.28,0.29,0.3,0.31,0.32,0.33,0.34,0.35000000000000003,0.36,0.37,0.38,0.39,0.4,0.41000000000000003,0.42,0.43,0.44,0.45,0.46,0.47000000000000003,0.48,0.49,0.5,0.51,0.52,0.53,0.54,0.55,0.56,0.5700000000000001,0.58,0.59,0.6,0.61,0.62,0.63,0.64,0.65,0.66,0.67,0.68,0.6900000000000001,0.7000000000000001,0.71,0.72,0.73,0.74,0.75,0.76,0.77,0.78,0.79,0.8,0.81,0.8200000000000001,0.8300000000000001,0.84,0.85,0.86,0.87,0.88,0.89,0.9,0.91,0.92,0.93,0.9400000000000001,0.9500000000000001,0.96,0.97,0.98,0.99,1.0],\"xaxis\":\"x\",\"y\":[0.4641905853484294,0.4641905853484294,0.4641905853484294,0.4641905853484294,0.4641905853484294,0.4641905853484294,0.4641905853484294,0.4641905853484294,0.4641905853484294,0.4641905853484294,0.4641905853484294,0.4641905853484294,0.4641905853484294,0.4641905853484294,0.4641905853484294,0.4641905853484294,0.4641905853484294,0.4641905853484294,0.4641905853484294,0.4641905853484294,0.4641905853484294,0.4641905853484294,0.4641905853484294,0.4641905853484294,0.4641905853484294,0.4641905853484294,0.4641905853484294,0.4641905853484294,0.4641905853484294,0.4641905853484294,0.4641905853484294,0.4641905853484294,0.4641905853484294,0.4641905853484294,0.4641905853484294,0.4641905853484294,0.4641905853484294,0.4641905853484294,0.4641905853484294,0.4641905853484294,0.4641905853484294,0.4641905853484294,0.4641905853484294,0.4641905853484294,0.4641905853484294,0.4641905853484294,0.4641905853484294,0.4641905853484294,0.4641905853484294,0.4641905853484294,0.4641905853484294,0.4641905853484294,0.4641905853484294,0.4641905853484294,0.4641905853484294,0.4641905853484294,0.4641905853484294,0.4641905853484294,0.4641905853484294,0.4641905853484294,0.4641905853484294,0.4641905853484294,0.4641905853484294,0.4641905853484294,0.4641905853484294,0.4641905853484294,0.4641905853484294,0.4641905853484294,0.4641905853484294,0.4641905853484294,0.4641905853484294,0.4641905853484294,0.4641905853484294,0.4641905853484294,0.4641905853484294,0.4641905853484294,0.4641905853484294,0.4641905853484294,0.4641905853484294,0.4641905853484294,0.4641905853484294,0.4641905853484294,0.4641905853484294,0.4641905853484294,0.4641905853484294,0.4641905853484294,0.4641905853484294,0.4641905853484294,0.4641905853484294,0.4641905853484294,0.4641905853484294,0.4641905853484294,0.4641905853484294,0.4641905853484294,0.4641905853484294,0.4641905853484294,0.4641905853484294,0.4641905853484294,0.4641905853484294,0.4641905853484294,0.4641905853484294],\"yaxis\":\"y\",\"type\":\"scatter\",\"opacity\":1},{\"customdata\":[[0.4641905853484294,\"Logistic Regression\",\"y_pred\"],[0.4641905853484294,\"Logistic Regression\",\"y_pred\"],[0.4641905853484294,\"Logistic Regression\",\"y_pred\"],[0.4641905853484294,\"Logistic Regression\",\"y_pred\"],[0.4641905853484294,\"Logistic Regression\",\"y_pred\"],[0.4641905853484294,\"Logistic Regression\",\"y_pred\"],[0.4641905853484294,\"Logistic Regression\",\"y_pred\"],[0.4641905853484294,\"Logistic Regression\",\"y_pred\"],[0.4641905853484294,\"Logistic Regression\",\"y_pred\"],[0.4641905853484294,\"Logistic Regression\",\"y_pred\"],[0.4641905853484294,\"Logistic Regression\",\"y_pred\"],[0.4641905853484294,\"Logistic Regression\",\"y_pred\"],[0.4641905853484294,\"Logistic Regression\",\"y_pred\"],[0.4641905853484294,\"Logistic Regression\",\"y_pred\"],[0.4641905853484294,\"Logistic Regression\",\"y_pred\"],[0.4641905853484294,\"Logistic Regression\",\"y_pred\"],[0.4641905853484294,\"Logistic Regression\",\"y_pred\"],[0.4641905853484294,\"Logistic Regression\",\"y_pred\"],[0.4641905853484294,\"Logistic Regression\",\"y_pred\"],[0.4641905853484294,\"Logistic Regression\",\"y_pred\"],[0.4641905853484294,\"Logistic Regression\",\"y_pred\"],[0.4641905853484294,\"Logistic Regression\",\"y_pred\"],[0.4641905853484294,\"Logistic Regression\",\"y_pred\"],[0.4641905853484294,\"Logistic Regression\",\"y_pred\"],[0.4641905853484294,\"Logistic Regression\",\"y_pred\"],[0.4641905853484294,\"Logistic Regression\",\"y_pred\"],[0.4641905853484294,\"Logistic Regression\",\"y_pred\"],[0.4641905853484294,\"Logistic Regression\",\"y_pred\"],[0.4641905853484294,\"Logistic Regression\",\"y_pred\"],[0.4641905853484294,\"Logistic Regression\",\"y_pred\"],[0.4641905853484294,\"Logistic Regression\",\"y_pred\"],[0.4641905853484294,\"Logistic Regression\",\"y_pred\"],[0.4641905853484294,\"Logistic Regression\",\"y_pred\"],[0.4641905853484294,\"Logistic Regression\",\"y_pred\"],[0.4641905853484294,\"Logistic Regression\",\"y_pred\"],[0.4641905853484294,\"Logistic Regression\",\"y_pred\"],[0.4641905853484294,\"Logistic Regression\",\"y_pred\"],[0.4641905853484294,\"Logistic Regression\",\"y_pred\"],[0.4641905853484294,\"Logistic Regression\",\"y_pred\"],[0.4641905853484294,\"Logistic Regression\",\"y_pred\"],[0.4641905853484294,\"Logistic Regression\",\"y_pred\"],[0.4641905853484294,\"Logistic Regression\",\"y_pred\"],[0.4641905853484294,\"Logistic Regression\",\"y_pred\"],[0.4641905853484294,\"Logistic Regression\",\"y_pred\"],[0.4641905853484294,\"Logistic Regression\",\"y_pred\"],[0.4641905853484294,\"Logistic Regression\",\"y_pred\"],[0.4641905853484294,\"Logistic Regression\",\"y_pred\"],[0.4641905853484294,\"Logistic Regression\",\"y_pred\"],[0.4641905853484294,\"Logistic Regression\",\"y_pred\"],[0.4641905853484294,\"Logistic Regression\",\"y_pred\"],[0.4641905853484294,\"Logistic Regression\",\"y_pred\"],[0.4641905853484294,\"Logistic Regression\",\"y_pred\"],[0.4641905853484294,\"Logistic Regression\",\"y_pred\"],[0.4641905853484294,\"Logistic Regression\",\"y_pred\"],[0.4641905853484294,\"Logistic Regression\",\"y_pred\"],[0.4641905853484294,\"Logistic Regression\",\"y_pred\"],[0.4641905853484294,\"Logistic Regression\",\"y_pred\"],[0.4641905853484294,\"Logistic Regression\",\"y_pred\"],[0.4641905853484294,\"Logistic Regression\",\"y_pred\"],[0.4641905853484294,\"Logistic Regression\",\"y_pred\"],[0.4641905853484294,\"Logistic Regression\",\"y_pred\"],[0.4641905853484294,\"Logistic Regression\",\"y_pred\"],[0.4641905853484294,\"Logistic Regression\",\"y_pred\"],[0.4641905853484294,\"Logistic Regression\",\"y_pred\"],[0.4641905853484294,\"Logistic Regression\",\"y_pred\"],[0.4641905853484294,\"Logistic Regression\",\"y_pred\"],[0.4641905853484294,\"Logistic Regression\",\"y_pred\"],[0.4641905853484294,\"Logistic Regression\",\"y_pred\"],[0.4641905853484294,\"Logistic Regression\",\"y_pred\"],[0.4641905853484294,\"Logistic Regression\",\"y_pred\"],[0.4641905853484294,\"Logistic Regression\",\"y_pred\"],[0.4641905853484294,\"Logistic Regression\",\"y_pred\"],[0.4641905853484294,\"Logistic Regression\",\"y_pred\"],[0.4641905853484294,\"Logistic Regression\",\"y_pred\"],[0.4641905853484294,\"Logistic Regression\",\"y_pred\"],[0.4641905853484294,\"Logistic Regression\",\"y_pred\"],[0.4641905853484294,\"Logistic Regression\",\"y_pred\"],[0.4641905853484294,\"Logistic Regression\",\"y_pred\"],[0.4641905853484294,\"Logistic Regression\",\"y_pred\"],[0.4641905853484294,\"Logistic Regression\",\"y_pred\"],[0.4641905853484294,\"Logistic Regression\",\"y_pred\"],[0.4641905853484294,\"Logistic Regression\",\"y_pred\"],[0.4641905853484294,\"Logistic Regression\",\"y_pred\"],[0.4641905853484294,\"Logistic Regression\",\"y_pred\"],[0.4641905853484294,\"Logistic Regression\",\"y_pred\"],[0.4641905853484294,\"Logistic Regression\",\"y_pred\"],[0.4641905853484294,\"Logistic Regression\",\"y_pred\"],[0.4641905853484294,\"Logistic Regression\",\"y_pred\"],[0.4641905853484294,\"Logistic Regression\",\"y_pred\"],[0.4641905853484294,\"Logistic Regression\",\"y_pred\"],[0.4641905853484294,\"Logistic Regression\",\"y_pred\"],[0.4641905853484294,\"Logistic Regression\",\"y_pred\"],[0.4641905853484294,\"Logistic Regression\",\"y_pred\"],[0.4641905853484294,\"Logistic Regression\",\"y_pred\"],[0.4641905853484294,\"Logistic Regression\",\"y_pred\"],[0.4641905853484294,\"Logistic Regression\",\"y_pred\"],[0.4641905853484294,\"Logistic Regression\",\"y_pred\"],[0.4641905853484294,\"Logistic Regression\",\"y_pred\"],[0.4641905853484294,\"Logistic Regression\",\"y_pred\"],[0.4641905853484294,\"Logistic Regression\",\"y_pred\"],[0.4641905853484294,\"Logistic Regression\",\"y_pred\"]],\"hovertemplate\":\"<b>%{hovertext}</b><br><br>prediction=%{y:.3f}<br>mean_prediction=%{customdata[0]:.3f}<extra></extra>\",\"hovertext\":[\"Logistic Regression\",\"Logistic Regression\",\"Logistic Regression\",\"Logistic Regression\",\"Logistic Regression\",\"Logistic Regression\",\"Logistic Regression\",\"Logistic Regression\",\"Logistic Regression\",\"Logistic Regression\",\"Logistic Regression\",\"Logistic Regression\",\"Logistic Regression\",\"Logistic Regression\",\"Logistic Regression\",\"Logistic Regression\",\"Logistic Regression\",\"Logistic Regression\",\"Logistic Regression\",\"Logistic Regression\",\"Logistic Regression\",\"Logistic Regression\",\"Logistic Regression\",\"Logistic Regression\",\"Logistic Regression\",\"Logistic Regression\",\"Logistic Regression\",\"Logistic Regression\",\"Logistic Regression\",\"Logistic Regression\",\"Logistic Regression\",\"Logistic Regression\",\"Logistic Regression\",\"Logistic Regression\",\"Logistic Regression\",\"Logistic Regression\",\"Logistic Regression\",\"Logistic Regression\",\"Logistic Regression\",\"Logistic Regression\",\"Logistic Regression\",\"Logistic Regression\",\"Logistic Regression\",\"Logistic Regression\",\"Logistic Regression\",\"Logistic Regression\",\"Logistic Regression\",\"Logistic Regression\",\"Logistic Regression\",\"Logistic Regression\",\"Logistic Regression\",\"Logistic Regression\",\"Logistic Regression\",\"Logistic Regression\",\"Logistic Regression\",\"Logistic Regression\",\"Logistic Regression\",\"Logistic Regression\",\"Logistic Regression\",\"Logistic Regression\",\"Logistic Regression\",\"Logistic Regression\",\"Logistic Regression\",\"Logistic Regression\",\"Logistic Regression\",\"Logistic Regression\",\"Logistic Regression\",\"Logistic Regression\",\"Logistic Regression\",\"Logistic Regression\",\"Logistic Regression\",\"Logistic Regression\",\"Logistic Regression\",\"Logistic Regression\",\"Logistic Regression\",\"Logistic Regression\",\"Logistic Regression\",\"Logistic Regression\",\"Logistic Regression\",\"Logistic Regression\",\"Logistic Regression\",\"Logistic Regression\",\"Logistic Regression\",\"Logistic Regression\",\"Logistic Regression\",\"Logistic Regression\",\"Logistic Regression\",\"Logistic Regression\",\"Logistic Regression\",\"Logistic Regression\",\"Logistic Regression\",\"Logistic Regression\",\"Logistic Regression\",\"Logistic Regression\",\"Logistic Regression\",\"Logistic Regression\",\"Logistic Regression\",\"Logistic Regression\",\"Logistic Regression\",\"Logistic Regression\",\"Logistic Regression\"],\"legendgroup\":\"Logistic Regression\",\"line\":{\"color\":\"#8bdcbe\",\"dash\":\"solid\",\"width\":2},\"marker\":{\"symbol\":\"circle\"},\"mode\":\"lines\",\"name\":\"Logistic Regression\",\"orientation\":\"v\",\"showlegend\":false,\"x\":[0.0,0.01,0.02,0.03,0.04,0.05,0.06,0.07,0.08,0.09,0.1,0.11,0.12,0.13,0.14,0.15,0.16,0.17,0.18,0.19,0.2,0.21,0.22,0.23,0.24,0.25,0.26,0.27,0.28,0.29,0.3,0.31,0.32,0.33,0.34,0.35000000000000003,0.36,0.37,0.38,0.39,0.4,0.41000000000000003,0.42,0.43,0.44,0.45,0.46,0.47000000000000003,0.48,0.49,0.5,0.51,0.52,0.53,0.54,0.55,0.56,0.5700000000000001,0.58,0.59,0.6,0.61,0.62,0.63,0.64,0.65,0.66,0.67,0.68,0.6900000000000001,0.7000000000000001,0.71,0.72,0.73,0.74,0.75,0.76,0.77,0.78,0.79,0.8,0.81,0.8200000000000001,0.8300000000000001,0.84,0.85,0.86,0.87,0.88,0.89,0.9,0.91,0.92,0.93,0.9400000000000001,0.9500000000000001,0.96,0.97,0.98,0.99,1.0],\"xaxis\":\"x2\",\"y\":[0.4641905853484294,0.4641905853484294,0.4641905853484294,0.4641905853484294,0.4641905853484294,0.4641905853484294,0.4641905853484294,0.4641905853484294,0.4641905853484294,0.4641905853484294,0.4641905853484294,0.4641905853484294,0.4641905853484294,0.4641905853484294,0.4641905853484294,0.4641905853484294,0.4641905853484294,0.4641905853484294,0.4641905853484294,0.4641905853484294,0.4641905853484294,0.4641905853484294,0.4641905853484294,0.4641905853484294,0.4641905853484294,0.4641905853484294,0.4641905853484294,0.4641905853484294,0.4641905853484294,0.4641905853484294,0.4641905853484294,0.4641905853484294,0.4641905853484294,0.4641905853484294,0.4641905853484294,0.4641905853484294,0.4641905853484294,0.4641905853484294,0.4641905853484294,0.4641905853484294,0.4641905853484294,0.4641905853484294,0.4641905853484294,0.4641905853484294,0.4641905853484294,0.4641905853484294,0.4641905853484294,0.4641905853484294,0.4641905853484294,0.4641905853484294,0.4641905853484294,0.4641905853484294,0.4641905853484294,0.4641905853484294,0.4641905853484294,0.4641905853484294,0.4641905853484294,0.4641905853484294,0.4641905853484294,0.4641905853484294,0.4641905853484294,0.4641905853484294,0.4641905853484294,0.4641905853484294,0.4641905853484294,0.4641905853484294,0.4641905853484294,0.4641905853484294,0.4641905853484294,0.4641905853484294,0.4641905853484294,0.4641905853484294,0.4641905853484294,0.4641905853484294,0.4641905853484294,0.4641905853484294,0.4641905853484294,0.4641905853484294,0.4641905853484294,0.4641905853484294,0.4641905853484294,0.4641905853484294,0.4641905853484294,0.4641905853484294,0.4641905853484294,0.4641905853484294,0.4641905853484294,0.4641905853484294,0.4641905853484294,0.4641905853484294,0.4641905853484294,0.4641905853484294,0.4641905853484294,0.4641905853484294,0.4641905853484294,0.4641905853484294,0.4641905853484294,0.4641905853484294,0.4641905853484294,0.4641905853484294,0.4641905853484294],\"yaxis\":\"y2\",\"type\":\"scatter\",\"opacity\":1},{\"customdata\":[[0.4347248099094563,\"Decision Tree\",\"age\"],[0.4347248099094563,\"Decision Tree\",\"age\"],[0.4347248099094563,\"Decision Tree\",\"age\"],[0.4347248099094563,\"Decision Tree\",\"age\"],[0.4347248099094563,\"Decision Tree\",\"age\"],[0.4347248099094563,\"Decision Tree\",\"age\"],[0.4347248099094563,\"Decision Tree\",\"age\"],[0.4347248099094563,\"Decision Tree\",\"age\"],[0.4347248099094563,\"Decision Tree\",\"age\"],[0.4347248099094563,\"Decision Tree\",\"age\"],[0.4347248099094563,\"Decision Tree\",\"age\"],[0.4347248099094563,\"Decision Tree\",\"age\"],[0.4347248099094563,\"Decision Tree\",\"age\"],[0.4347248099094563,\"Decision Tree\",\"age\"],[0.4347248099094563,\"Decision Tree\",\"age\"],[0.4347248099094563,\"Decision Tree\",\"age\"],[0.4347248099094563,\"Decision Tree\",\"age\"],[0.4347248099094563,\"Decision Tree\",\"age\"],[0.4347248099094563,\"Decision Tree\",\"age\"],[0.4347248099094563,\"Decision Tree\",\"age\"],[0.4347248099094563,\"Decision Tree\",\"age\"],[0.4347248099094563,\"Decision Tree\",\"age\"],[0.4347248099094563,\"Decision Tree\",\"age\"],[0.4347248099094563,\"Decision Tree\",\"age\"],[0.4347248099094563,\"Decision Tree\",\"age\"],[0.4347248099094563,\"Decision Tree\",\"age\"],[0.4347248099094563,\"Decision Tree\",\"age\"],[0.4347248099094563,\"Decision Tree\",\"age\"],[0.4347248099094563,\"Decision Tree\",\"age\"],[0.4347248099094563,\"Decision Tree\",\"age\"],[0.4347248099094563,\"Decision Tree\",\"age\"],[0.4347248099094563,\"Decision Tree\",\"age\"],[0.4347248099094563,\"Decision Tree\",\"age\"],[0.4347248099094563,\"Decision Tree\",\"age\"],[0.4347248099094563,\"Decision Tree\",\"age\"],[0.4347248099094563,\"Decision Tree\",\"age\"],[0.4347248099094563,\"Decision Tree\",\"age\"],[0.4347248099094563,\"Decision Tree\",\"age\"],[0.4347248099094563,\"Decision Tree\",\"age\"],[0.4347248099094563,\"Decision Tree\",\"age\"],[0.4347248099094563,\"Decision Tree\",\"age\"],[0.4347248099094563,\"Decision Tree\",\"age\"],[0.4347248099094563,\"Decision Tree\",\"age\"],[0.4347248099094563,\"Decision Tree\",\"age\"],[0.4347248099094563,\"Decision Tree\",\"age\"],[0.4347248099094563,\"Decision Tree\",\"age\"],[0.4347248099094563,\"Decision Tree\",\"age\"],[0.4347248099094563,\"Decision Tree\",\"age\"],[0.4347248099094563,\"Decision Tree\",\"age\"],[0.4347248099094563,\"Decision Tree\",\"age\"],[0.4347248099094563,\"Decision Tree\",\"age\"],[0.4347248099094563,\"Decision Tree\",\"age\"],[0.4347248099094563,\"Decision Tree\",\"age\"],[0.4347248099094563,\"Decision Tree\",\"age\"],[0.4347248099094563,\"Decision Tree\",\"age\"],[0.4347248099094563,\"Decision Tree\",\"age\"],[0.4347248099094563,\"Decision Tree\",\"age\"],[0.4347248099094563,\"Decision Tree\",\"age\"],[0.4347248099094563,\"Decision Tree\",\"age\"],[0.4347248099094563,\"Decision Tree\",\"age\"],[0.4347248099094563,\"Decision Tree\",\"age\"],[0.4347248099094563,\"Decision Tree\",\"age\"],[0.4347248099094563,\"Decision Tree\",\"age\"],[0.4347248099094563,\"Decision Tree\",\"age\"],[0.4347248099094563,\"Decision Tree\",\"age\"],[0.4347248099094563,\"Decision Tree\",\"age\"],[0.4347248099094563,\"Decision Tree\",\"age\"],[0.4347248099094563,\"Decision Tree\",\"age\"],[0.4347248099094563,\"Decision Tree\",\"age\"],[0.4347248099094563,\"Decision Tree\",\"age\"],[0.4347248099094563,\"Decision Tree\",\"age\"],[0.4347248099094563,\"Decision Tree\",\"age\"],[0.4347248099094563,\"Decision Tree\",\"age\"],[0.4347248099094563,\"Decision Tree\",\"age\"],[0.4347248099094563,\"Decision Tree\",\"age\"],[0.4347248099094563,\"Decision Tree\",\"age\"],[0.4347248099094563,\"Decision Tree\",\"age\"],[0.4347248099094563,\"Decision Tree\",\"age\"],[0.4347248099094563,\"Decision Tree\",\"age\"],[0.4347248099094563,\"Decision Tree\",\"age\"],[0.4347248099094563,\"Decision Tree\",\"age\"],[0.4347248099094563,\"Decision Tree\",\"age\"],[0.4347248099094563,\"Decision Tree\",\"age\"],[0.4347248099094563,\"Decision Tree\",\"age\"],[0.4347248099094563,\"Decision Tree\",\"age\"],[0.4347248099094563,\"Decision Tree\",\"age\"],[0.4347248099094563,\"Decision Tree\",\"age\"],[0.4347248099094563,\"Decision Tree\",\"age\"],[0.4347248099094563,\"Decision Tree\",\"age\"],[0.4347248099094563,\"Decision Tree\",\"age\"],[0.4347248099094563,\"Decision Tree\",\"age\"],[0.4347248099094563,\"Decision Tree\",\"age\"],[0.4347248099094563,\"Decision Tree\",\"age\"],[0.4347248099094563,\"Decision Tree\",\"age\"],[0.4347248099094563,\"Decision Tree\",\"age\"],[0.4347248099094563,\"Decision Tree\",\"age\"],[0.4347248099094563,\"Decision Tree\",\"age\"],[0.4347248099094563,\"Decision Tree\",\"age\"],[0.4347248099094563,\"Decision Tree\",\"age\"],[0.4347248099094563,\"Decision Tree\",\"age\"],[0.4347248099094563,\"Decision Tree\",\"age\"]],\"hovertemplate\":\"<b>%{hovertext}</b><br><br>prediction=%{y:.3f}<br>mean_prediction=%{customdata[0]:.3f}<extra></extra>\",\"hovertext\":[\"Decision Tree\",\"Decision Tree\",\"Decision Tree\",\"Decision Tree\",\"Decision Tree\",\"Decision Tree\",\"Decision Tree\",\"Decision Tree\",\"Decision Tree\",\"Decision Tree\",\"Decision Tree\",\"Decision Tree\",\"Decision Tree\",\"Decision Tree\",\"Decision Tree\",\"Decision Tree\",\"Decision Tree\",\"Decision Tree\",\"Decision Tree\",\"Decision Tree\",\"Decision Tree\",\"Decision Tree\",\"Decision Tree\",\"Decision Tree\",\"Decision Tree\",\"Decision Tree\",\"Decision Tree\",\"Decision Tree\",\"Decision Tree\",\"Decision Tree\",\"Decision Tree\",\"Decision Tree\",\"Decision Tree\",\"Decision Tree\",\"Decision Tree\",\"Decision Tree\",\"Decision Tree\",\"Decision Tree\",\"Decision Tree\",\"Decision Tree\",\"Decision Tree\",\"Decision Tree\",\"Decision Tree\",\"Decision Tree\",\"Decision Tree\",\"Decision Tree\",\"Decision Tree\",\"Decision Tree\",\"Decision Tree\",\"Decision Tree\",\"Decision Tree\",\"Decision Tree\",\"Decision Tree\",\"Decision Tree\",\"Decision Tree\",\"Decision Tree\",\"Decision Tree\",\"Decision Tree\",\"Decision Tree\",\"Decision Tree\",\"Decision Tree\",\"Decision Tree\",\"Decision Tree\",\"Decision Tree\",\"Decision Tree\",\"Decision Tree\",\"Decision Tree\",\"Decision Tree\",\"Decision Tree\",\"Decision Tree\",\"Decision Tree\",\"Decision Tree\",\"Decision Tree\",\"Decision Tree\",\"Decision Tree\",\"Decision Tree\",\"Decision Tree\",\"Decision Tree\",\"Decision Tree\",\"Decision Tree\",\"Decision Tree\",\"Decision Tree\",\"Decision Tree\",\"Decision Tree\",\"Decision Tree\",\"Decision Tree\",\"Decision Tree\",\"Decision Tree\",\"Decision Tree\",\"Decision Tree\",\"Decision Tree\",\"Decision Tree\",\"Decision Tree\",\"Decision Tree\",\"Decision Tree\",\"Decision Tree\",\"Decision Tree\",\"Decision Tree\",\"Decision Tree\",\"Decision Tree\",\"Decision Tree\"],\"legendgroup\":\"Decision Tree\",\"line\":{\"color\":\"#f05a71\",\"dash\":\"solid\",\"width\":2},\"marker\":{\"symbol\":\"circle\"},\"mode\":\"lines\",\"name\":\"Decision Tree\",\"orientation\":\"v\",\"showlegend\":true,\"x\":[18.0,18.62,19.24,19.86,20.48,21.1,21.72,22.34,22.96,23.58,24.2,24.82,25.439999999999998,26.060000000000002,26.68,27.3,27.92,28.54,29.16,29.78,30.4,31.02,31.64,32.26,32.879999999999995,33.5,34.120000000000005,34.739999999999995,35.36,35.980000000000004,36.6,37.22,37.84,38.46,39.08,39.7,40.32,40.94,41.56,42.18,42.8,43.42,44.04,44.66,45.28,45.9,46.519999999999996,47.14,47.76,48.379999999999995,49.0,49.620000000000005,50.24,50.86,51.48,52.1,52.72,53.339999999999996,53.96,54.58,55.2,55.82,56.44,57.06,57.68,58.3,58.92,59.54,60.16,60.78,61.4,62.02,62.64,63.26,63.88,64.5,65.12,65.74000000000001,66.36,66.97999999999999,67.6,68.22,68.84,69.46000000000001,70.08,70.7,71.32,71.94,72.56,73.18,73.8,74.42,75.03999999999999,75.66,76.28,76.9,77.52,78.14,78.75999999999999,79.38,80.0],\"xaxis\":\"x3\",\"y\":[0.6567169525764889,0.6567169525764889,0.6567169525764889,0.6567169525764889,0.6567169525764889,0.5940173727445561,0.5940173727445561,0.5940173727445561,0.46650127605393815,0.46650127605393815,0.46650127605393815,0.46650127605393815,0.46650127605393815,0.46650127605393815,0.4776123871650493,0.4776123871650493,0.4776123871650493,0.4776123871650493,0.4776123871650493,0.4776123871650493,0.4776123871650493,0.46761238716504927,0.46761238716504927,0.46761238716504927,0.4220353962432769,0.405675604556418,0.405675604556418,0.3652058127607772,0.3652058127607772,0.3652058127607772,0.3652058127607772,0.3652058127607772,0.3652058127607772,0.3652058127607772,0.3652058127607772,0.3652058127607772,0.3652058127607772,0.3652058127607772,0.3652058127607772,0.3652058127607772,0.3652058127607772,0.3652058127607772,0.3652058127607772,0.3652058127607772,0.3652058127607772,0.3652058127607772,0.36253914609411053,0.36253914609411053,0.36253914609411053,0.36253914609411053,0.36253914609411053,0.36253914609411053,0.36253914609411053,0.36253914609411053,0.36253914609411053,0.36253914609411053,0.307934009690413,0.307934009690413,0.307934009690413,0.307934009690413,0.307934009690413,0.307934009690413,0.307934009690413,0.307934009690413,0.307934009690413,0.307934009690413,0.307934009690413,0.307934009690413,0.307934009690413,0.307934009690413,0.307934009690413,0.307934009690413,0.307934009690413,0.307934009690413,0.307934009690413,0.307934009690413,0.307934009690413,0.307934009690413,0.307934009690413,0.307934009690413,0.307934009690413,0.307934009690413,0.307934009690413,0.307934009690413,0.307934009690413,0.307934009690413,0.307934009690413,0.307934009690413,0.307934009690413,0.307934009690413,0.307934009690413,0.307934009690413,0.307934009690413,0.307934009690413,0.307934009690413,0.307934009690413,0.307934009690413,0.307934009690413,0.307934009690413,0.307934009690413,0.307934009690413],\"yaxis\":\"y3\",\"type\":\"scatter\",\"opacity\":1},{\"customdata\":[[0.4347248099094563,\"Decision Tree\",\"priors_count\"],[0.4347248099094563,\"Decision Tree\",\"priors_count\"],[0.4347248099094563,\"Decision Tree\",\"priors_count\"],[0.4347248099094563,\"Decision Tree\",\"priors_count\"],[0.4347248099094563,\"Decision Tree\",\"priors_count\"],[0.4347248099094563,\"Decision Tree\",\"priors_count\"],[0.4347248099094563,\"Decision Tree\",\"priors_count\"],[0.4347248099094563,\"Decision Tree\",\"priors_count\"],[0.4347248099094563,\"Decision Tree\",\"priors_count\"],[0.4347248099094563,\"Decision Tree\",\"priors_count\"],[0.4347248099094563,\"Decision Tree\",\"priors_count\"],[0.4347248099094563,\"Decision Tree\",\"priors_count\"],[0.4347248099094563,\"Decision Tree\",\"priors_count\"],[0.4347248099094563,\"Decision Tree\",\"priors_count\"],[0.4347248099094563,\"Decision Tree\",\"priors_count\"],[0.4347248099094563,\"Decision Tree\",\"priors_count\"],[0.4347248099094563,\"Decision Tree\",\"priors_count\"],[0.4347248099094563,\"Decision Tree\",\"priors_count\"],[0.4347248099094563,\"Decision Tree\",\"priors_count\"],[0.4347248099094563,\"Decision Tree\",\"priors_count\"],[0.4347248099094563,\"Decision Tree\",\"priors_count\"],[0.4347248099094563,\"Decision Tree\",\"priors_count\"],[0.4347248099094563,\"Decision Tree\",\"priors_count\"],[0.4347248099094563,\"Decision Tree\",\"priors_count\"],[0.4347248099094563,\"Decision Tree\",\"priors_count\"],[0.4347248099094563,\"Decision Tree\",\"priors_count\"],[0.4347248099094563,\"Decision Tree\",\"priors_count\"],[0.4347248099094563,\"Decision Tree\",\"priors_count\"],[0.4347248099094563,\"Decision Tree\",\"priors_count\"],[0.4347248099094563,\"Decision Tree\",\"priors_count\"],[0.4347248099094563,\"Decision Tree\",\"priors_count\"],[0.4347248099094563,\"Decision Tree\",\"priors_count\"],[0.4347248099094563,\"Decision Tree\",\"priors_count\"],[0.4347248099094563,\"Decision Tree\",\"priors_count\"],[0.4347248099094563,\"Decision Tree\",\"priors_count\"],[0.4347248099094563,\"Decision Tree\",\"priors_count\"],[0.4347248099094563,\"Decision Tree\",\"priors_count\"],[0.4347248099094563,\"Decision Tree\",\"priors_count\"],[0.4347248099094563,\"Decision Tree\",\"priors_count\"],[0.4347248099094563,\"Decision Tree\",\"priors_count\"],[0.4347248099094563,\"Decision Tree\",\"priors_count\"],[0.4347248099094563,\"Decision Tree\",\"priors_count\"],[0.4347248099094563,\"Decision Tree\",\"priors_count\"],[0.4347248099094563,\"Decision Tree\",\"priors_count\"],[0.4347248099094563,\"Decision Tree\",\"priors_count\"],[0.4347248099094563,\"Decision Tree\",\"priors_count\"],[0.4347248099094563,\"Decision Tree\",\"priors_count\"],[0.4347248099094563,\"Decision Tree\",\"priors_count\"],[0.4347248099094563,\"Decision Tree\",\"priors_count\"],[0.4347248099094563,\"Decision Tree\",\"priors_count\"],[0.4347248099094563,\"Decision Tree\",\"priors_count\"],[0.4347248099094563,\"Decision Tree\",\"priors_count\"],[0.4347248099094563,\"Decision Tree\",\"priors_count\"],[0.4347248099094563,\"Decision Tree\",\"priors_count\"],[0.4347248099094563,\"Decision Tree\",\"priors_count\"],[0.4347248099094563,\"Decision Tree\",\"priors_count\"],[0.4347248099094563,\"Decision Tree\",\"priors_count\"],[0.4347248099094563,\"Decision Tree\",\"priors_count\"],[0.4347248099094563,\"Decision Tree\",\"priors_count\"],[0.4347248099094563,\"Decision Tree\",\"priors_count\"],[0.4347248099094563,\"Decision Tree\",\"priors_count\"],[0.4347248099094563,\"Decision Tree\",\"priors_count\"],[0.4347248099094563,\"Decision Tree\",\"priors_count\"],[0.4347248099094563,\"Decision Tree\",\"priors_count\"],[0.4347248099094563,\"Decision Tree\",\"priors_count\"],[0.4347248099094563,\"Decision Tree\",\"priors_count\"],[0.4347248099094563,\"Decision Tree\",\"priors_count\"],[0.4347248099094563,\"Decision Tree\",\"priors_count\"],[0.4347248099094563,\"Decision Tree\",\"priors_count\"],[0.4347248099094563,\"Decision Tree\",\"priors_count\"],[0.4347248099094563,\"Decision Tree\",\"priors_count\"],[0.4347248099094563,\"Decision Tree\",\"priors_count\"],[0.4347248099094563,\"Decision Tree\",\"priors_count\"],[0.4347248099094563,\"Decision Tree\",\"priors_count\"],[0.4347248099094563,\"Decision Tree\",\"priors_count\"],[0.4347248099094563,\"Decision Tree\",\"priors_count\"],[0.4347248099094563,\"Decision Tree\",\"priors_count\"],[0.4347248099094563,\"Decision Tree\",\"priors_count\"],[0.4347248099094563,\"Decision Tree\",\"priors_count\"],[0.4347248099094563,\"Decision Tree\",\"priors_count\"],[0.4347248099094563,\"Decision Tree\",\"priors_count\"],[0.4347248099094563,\"Decision Tree\",\"priors_count\"],[0.4347248099094563,\"Decision Tree\",\"priors_count\"],[0.4347248099094563,\"Decision Tree\",\"priors_count\"],[0.4347248099094563,\"Decision Tree\",\"priors_count\"],[0.4347248099094563,\"Decision Tree\",\"priors_count\"],[0.4347248099094563,\"Decision Tree\",\"priors_count\"],[0.4347248099094563,\"Decision Tree\",\"priors_count\"],[0.4347248099094563,\"Decision Tree\",\"priors_count\"],[0.4347248099094563,\"Decision Tree\",\"priors_count\"],[0.4347248099094563,\"Decision Tree\",\"priors_count\"],[0.4347248099094563,\"Decision Tree\",\"priors_count\"],[0.4347248099094563,\"Decision Tree\",\"priors_count\"],[0.4347248099094563,\"Decision Tree\",\"priors_count\"],[0.4347248099094563,\"Decision Tree\",\"priors_count\"],[0.4347248099094563,\"Decision Tree\",\"priors_count\"],[0.4347248099094563,\"Decision Tree\",\"priors_count\"],[0.4347248099094563,\"Decision Tree\",\"priors_count\"],[0.4347248099094563,\"Decision Tree\",\"priors_count\"],[0.4347248099094563,\"Decision Tree\",\"priors_count\"],[0.4347248099094563,\"Decision Tree\",\"priors_count\"]],\"hovertemplate\":\"<b>%{hovertext}</b><br><br>prediction=%{y:.3f}<br>mean_prediction=%{customdata[0]:.3f}<extra></extra>\",\"hovertext\":[\"Decision Tree\",\"Decision Tree\",\"Decision Tree\",\"Decision Tree\",\"Decision Tree\",\"Decision Tree\",\"Decision Tree\",\"Decision Tree\",\"Decision Tree\",\"Decision Tree\",\"Decision Tree\",\"Decision Tree\",\"Decision Tree\",\"Decision Tree\",\"Decision Tree\",\"Decision Tree\",\"Decision Tree\",\"Decision Tree\",\"Decision Tree\",\"Decision Tree\",\"Decision Tree\",\"Decision Tree\",\"Decision Tree\",\"Decision Tree\",\"Decision Tree\",\"Decision Tree\",\"Decision Tree\",\"Decision Tree\",\"Decision Tree\",\"Decision Tree\",\"Decision Tree\",\"Decision Tree\",\"Decision Tree\",\"Decision Tree\",\"Decision Tree\",\"Decision Tree\",\"Decision Tree\",\"Decision Tree\",\"Decision Tree\",\"Decision Tree\",\"Decision Tree\",\"Decision Tree\",\"Decision Tree\",\"Decision Tree\",\"Decision Tree\",\"Decision Tree\",\"Decision Tree\",\"Decision Tree\",\"Decision Tree\",\"Decision Tree\",\"Decision Tree\",\"Decision Tree\",\"Decision Tree\",\"Decision Tree\",\"Decision Tree\",\"Decision Tree\",\"Decision Tree\",\"Decision Tree\",\"Decision Tree\",\"Decision Tree\",\"Decision Tree\",\"Decision Tree\",\"Decision Tree\",\"Decision Tree\",\"Decision Tree\",\"Decision Tree\",\"Decision Tree\",\"Decision Tree\",\"Decision Tree\",\"Decision Tree\",\"Decision Tree\",\"Decision Tree\",\"Decision Tree\",\"Decision Tree\",\"Decision Tree\",\"Decision Tree\",\"Decision Tree\",\"Decision Tree\",\"Decision Tree\",\"Decision Tree\",\"Decision Tree\",\"Decision Tree\",\"Decision Tree\",\"Decision Tree\",\"Decision Tree\",\"Decision Tree\",\"Decision Tree\",\"Decision Tree\",\"Decision Tree\",\"Decision Tree\",\"Decision Tree\",\"Decision Tree\",\"Decision Tree\",\"Decision Tree\",\"Decision Tree\",\"Decision Tree\",\"Decision Tree\",\"Decision Tree\",\"Decision Tree\",\"Decision Tree\",\"Decision Tree\"],\"legendgroup\":\"Decision Tree\",\"line\":{\"color\":\"#f05a71\",\"dash\":\"solid\",\"width\":2},\"marker\":{\"symbol\":\"circle\"},\"mode\":\"lines\",\"name\":\"Decision Tree\",\"orientation\":\"v\",\"showlegend\":false,\"x\":[0.0,0.36,0.72,1.08,1.44,1.7999999999999998,2.16,2.52,2.88,3.2399999999999998,3.5999999999999996,3.96,4.32,4.68,5.04,5.3999999999999995,5.76,6.12,6.4799999999999995,6.84,7.199999999999999,7.56,7.92,8.28,8.64,9.0,9.36,9.719999999999999,10.08,10.44,10.799999999999999,11.16,11.52,11.879999999999999,12.24,12.6,12.959999999999999,13.32,13.68,14.04,14.399999999999999,14.76,15.12,15.479999999999999,15.84,16.2,16.56,16.919999999999998,17.28,17.64,18.0,18.36,18.72,19.08,19.439999999999998,19.8,20.16,20.52,20.88,21.24,21.599999999999998,21.96,22.32,22.68,23.04,23.4,23.759999999999998,24.119999999999997,24.48,24.84,25.2,25.56,25.919999999999998,26.279999999999998,26.64,27.0,27.36,27.72,28.08,28.439999999999998,28.799999999999997,29.16,29.52,29.88,30.24,30.599999999999998,30.959999999999997,31.32,31.68,32.04,32.4,32.76,33.12,33.48,33.839999999999996,34.199999999999996,34.56,34.92,35.28,35.64,36.0],\"xaxis\":\"x4\",\"y\":[0.2653030115057649,0.2653030115057649,0.3875321014133547,0.3875321014133547,0.3875321014133547,0.3875321014133547,0.3875321014133547,0.5978624389507444,0.5978624389507444,0.5978624389507444,0.5978624389507444,0.5978624389507444,0.5978624389507444,0.5978624389507444,0.5978624389507444,0.5978624389507444,0.6191412528045611,0.6191412528045611,0.6191412528045611,0.6377943492208155,0.6377943492208155,0.6826923084044889,0.6826923084044889,0.6826923084044889,0.6826923084044889,0.6826923084044889,0.6826923084044889,0.6826923084044889,0.6826923084044889,0.6826923084044889,0.6826923084044889,0.6826923084044889,0.6826923084044889,0.6826923084044889,0.6826923084044889,0.6826923084044889,0.6826923084044889,0.6826923084044889,0.6826923084044889,0.6826923084044889,0.6826923084044889,0.6826923084044889,0.6826923084044889,0.6826923084044889,0.6826923084044889,0.6826923084044889,0.6826923084044889,0.6826923084044889,0.6826923084044889,0.6826923084044889,0.6826923084044889,0.6826923084044889,0.6826923084044889,0.6826923084044889,0.6826923084044889,0.6826923084044889,0.6826923084044889,0.6826923084044889,0.6826923084044889,0.6826923084044889,0.6826923084044889,0.6826923084044889,0.6826923084044889,0.6826923084044889,0.6826923084044889,0.6826923084044889,0.6826923084044889,0.6826923084044889,0.6826923084044889,0.6826923084044889,0.6826923084044889,0.6826923084044889,0.6826923084044889,0.6826923084044889,0.6826923084044889,0.6826923084044889,0.6826923084044889,0.6826923084044889,0.6826923084044889,0.6826923084044889,0.6826923084044889,0.6826923084044889,0.6826923084044889,0.6826923084044889,0.6826923084044889,0.6826923084044889,0.6826923084044889,0.6826923084044889,0.6826923084044889,0.6826923084044889,0.6826923084044889,0.6826923084044889,0.6826923084044889,0.6826923084044889,0.6826923084044889,0.6826923084044889,0.6826923084044889,0.6826923084044889,0.6826923084044889,0.6826923084044889,0.6826923084044889],\"yaxis\":\"y4\",\"type\":\"scatter\",\"opacity\":1},{\"customdata\":[[0.4347248099094563,\"Decision Tree\",\"y_test\"],[0.4347248099094563,\"Decision Tree\",\"y_test\"],[0.4347248099094563,\"Decision Tree\",\"y_test\"],[0.4347248099094563,\"Decision Tree\",\"y_test\"],[0.4347248099094563,\"Decision Tree\",\"y_test\"],[0.4347248099094563,\"Decision Tree\",\"y_test\"],[0.4347248099094563,\"Decision Tree\",\"y_test\"],[0.4347248099094563,\"Decision Tree\",\"y_test\"],[0.4347248099094563,\"Decision Tree\",\"y_test\"],[0.4347248099094563,\"Decision Tree\",\"y_test\"],[0.4347248099094563,\"Decision Tree\",\"y_test\"],[0.4347248099094563,\"Decision Tree\",\"y_test\"],[0.4347248099094563,\"Decision Tree\",\"y_test\"],[0.4347248099094563,\"Decision Tree\",\"y_test\"],[0.4347248099094563,\"Decision Tree\",\"y_test\"],[0.4347248099094563,\"Decision Tree\",\"y_test\"],[0.4347248099094563,\"Decision Tree\",\"y_test\"],[0.4347248099094563,\"Decision Tree\",\"y_test\"],[0.4347248099094563,\"Decision Tree\",\"y_test\"],[0.4347248099094563,\"Decision Tree\",\"y_test\"],[0.4347248099094563,\"Decision Tree\",\"y_test\"],[0.4347248099094563,\"Decision Tree\",\"y_test\"],[0.4347248099094563,\"Decision Tree\",\"y_test\"],[0.4347248099094563,\"Decision Tree\",\"y_test\"],[0.4347248099094563,\"Decision Tree\",\"y_test\"],[0.4347248099094563,\"Decision Tree\",\"y_test\"],[0.4347248099094563,\"Decision Tree\",\"y_test\"],[0.4347248099094563,\"Decision Tree\",\"y_test\"],[0.4347248099094563,\"Decision Tree\",\"y_test\"],[0.4347248099094563,\"Decision Tree\",\"y_test\"],[0.4347248099094563,\"Decision Tree\",\"y_test\"],[0.4347248099094563,\"Decision Tree\",\"y_test\"],[0.4347248099094563,\"Decision Tree\",\"y_test\"],[0.4347248099094563,\"Decision Tree\",\"y_test\"],[0.4347248099094563,\"Decision Tree\",\"y_test\"],[0.4347248099094563,\"Decision Tree\",\"y_test\"],[0.4347248099094563,\"Decision Tree\",\"y_test\"],[0.4347248099094563,\"Decision Tree\",\"y_test\"],[0.4347248099094563,\"Decision Tree\",\"y_test\"],[0.4347248099094563,\"Decision Tree\",\"y_test\"],[0.4347248099094563,\"Decision Tree\",\"y_test\"],[0.4347248099094563,\"Decision Tree\",\"y_test\"],[0.4347248099094563,\"Decision Tree\",\"y_test\"],[0.4347248099094563,\"Decision Tree\",\"y_test\"],[0.4347248099094563,\"Decision Tree\",\"y_test\"],[0.4347248099094563,\"Decision Tree\",\"y_test\"],[0.4347248099094563,\"Decision Tree\",\"y_test\"],[0.4347248099094563,\"Decision Tree\",\"y_test\"],[0.4347248099094563,\"Decision Tree\",\"y_test\"],[0.4347248099094563,\"Decision Tree\",\"y_test\"],[0.4347248099094563,\"Decision Tree\",\"y_test\"],[0.4347248099094563,\"Decision Tree\",\"y_test\"],[0.4347248099094563,\"Decision Tree\",\"y_test\"],[0.4347248099094563,\"Decision Tree\",\"y_test\"],[0.4347248099094563,\"Decision Tree\",\"y_test\"],[0.4347248099094563,\"Decision Tree\",\"y_test\"],[0.4347248099094563,\"Decision Tree\",\"y_test\"],[0.4347248099094563,\"Decision Tree\",\"y_test\"],[0.4347248099094563,\"Decision Tree\",\"y_test\"],[0.4347248099094563,\"Decision Tree\",\"y_test\"],[0.4347248099094563,\"Decision Tree\",\"y_test\"],[0.4347248099094563,\"Decision Tree\",\"y_test\"],[0.4347248099094563,\"Decision Tree\",\"y_test\"],[0.4347248099094563,\"Decision Tree\",\"y_test\"],[0.4347248099094563,\"Decision Tree\",\"y_test\"],[0.4347248099094563,\"Decision Tree\",\"y_test\"],[0.4347248099094563,\"Decision Tree\",\"y_test\"],[0.4347248099094563,\"Decision Tree\",\"y_test\"],[0.4347248099094563,\"Decision Tree\",\"y_test\"],[0.4347248099094563,\"Decision Tree\",\"y_test\"],[0.4347248099094563,\"Decision Tree\",\"y_test\"],[0.4347248099094563,\"Decision Tree\",\"y_test\"],[0.4347248099094563,\"Decision Tree\",\"y_test\"],[0.4347248099094563,\"Decision Tree\",\"y_test\"],[0.4347248099094563,\"Decision Tree\",\"y_test\"],[0.4347248099094563,\"Decision Tree\",\"y_test\"],[0.4347248099094563,\"Decision Tree\",\"y_test\"],[0.4347248099094563,\"Decision Tree\",\"y_test\"],[0.4347248099094563,\"Decision Tree\",\"y_test\"],[0.4347248099094563,\"Decision Tree\",\"y_test\"],[0.4347248099094563,\"Decision Tree\",\"y_test\"],[0.4347248099094563,\"Decision Tree\",\"y_test\"],[0.4347248099094563,\"Decision Tree\",\"y_test\"],[0.4347248099094563,\"Decision Tree\",\"y_test\"],[0.4347248099094563,\"Decision Tree\",\"y_test\"],[0.4347248099094563,\"Decision Tree\",\"y_test\"],[0.4347248099094563,\"Decision Tree\",\"y_test\"],[0.4347248099094563,\"Decision Tree\",\"y_test\"],[0.4347248099094563,\"Decision Tree\",\"y_test\"],[0.4347248099094563,\"Decision Tree\",\"y_test\"],[0.4347248099094563,\"Decision Tree\",\"y_test\"],[0.4347248099094563,\"Decision Tree\",\"y_test\"],[0.4347248099094563,\"Decision Tree\",\"y_test\"],[0.4347248099094563,\"Decision Tree\",\"y_test\"],[0.4347248099094563,\"Decision Tree\",\"y_test\"],[0.4347248099094563,\"Decision Tree\",\"y_test\"],[0.4347248099094563,\"Decision Tree\",\"y_test\"],[0.4347248099094563,\"Decision Tree\",\"y_test\"],[0.4347248099094563,\"Decision Tree\",\"y_test\"],[0.4347248099094563,\"Decision Tree\",\"y_test\"],[0.4347248099094563,\"Decision Tree\",\"y_test\"]],\"hovertemplate\":\"<b>%{hovertext}</b><br><br>prediction=%{y:.3f}<br>mean_prediction=%{customdata[0]:.3f}<extra></extra>\",\"hovertext\":[\"Decision Tree\",\"Decision Tree\",\"Decision Tree\",\"Decision Tree\",\"Decision Tree\",\"Decision Tree\",\"Decision Tree\",\"Decision Tree\",\"Decision Tree\",\"Decision Tree\",\"Decision Tree\",\"Decision Tree\",\"Decision Tree\",\"Decision Tree\",\"Decision Tree\",\"Decision Tree\",\"Decision Tree\",\"Decision Tree\",\"Decision Tree\",\"Decision Tree\",\"Decision Tree\",\"Decision Tree\",\"Decision Tree\",\"Decision Tree\",\"Decision Tree\",\"Decision Tree\",\"Decision Tree\",\"Decision Tree\",\"Decision Tree\",\"Decision Tree\",\"Decision Tree\",\"Decision Tree\",\"Decision Tree\",\"Decision Tree\",\"Decision Tree\",\"Decision Tree\",\"Decision Tree\",\"Decision Tree\",\"Decision Tree\",\"Decision Tree\",\"Decision Tree\",\"Decision Tree\",\"Decision Tree\",\"Decision Tree\",\"Decision Tree\",\"Decision Tree\",\"Decision Tree\",\"Decision Tree\",\"Decision Tree\",\"Decision Tree\",\"Decision Tree\",\"Decision Tree\",\"Decision Tree\",\"Decision Tree\",\"Decision Tree\",\"Decision Tree\",\"Decision Tree\",\"Decision Tree\",\"Decision Tree\",\"Decision Tree\",\"Decision Tree\",\"Decision Tree\",\"Decision Tree\",\"Decision Tree\",\"Decision Tree\",\"Decision Tree\",\"Decision Tree\",\"Decision Tree\",\"Decision Tree\",\"Decision Tree\",\"Decision Tree\",\"Decision Tree\",\"Decision Tree\",\"Decision Tree\",\"Decision Tree\",\"Decision Tree\",\"Decision Tree\",\"Decision Tree\",\"Decision Tree\",\"Decision Tree\",\"Decision Tree\",\"Decision Tree\",\"Decision Tree\",\"Decision Tree\",\"Decision Tree\",\"Decision Tree\",\"Decision Tree\",\"Decision Tree\",\"Decision Tree\",\"Decision Tree\",\"Decision Tree\",\"Decision Tree\",\"Decision Tree\",\"Decision Tree\",\"Decision Tree\",\"Decision Tree\",\"Decision Tree\",\"Decision Tree\",\"Decision Tree\",\"Decision Tree\",\"Decision Tree\"],\"legendgroup\":\"Decision Tree\",\"line\":{\"color\":\"#f05a71\",\"dash\":\"solid\",\"width\":2},\"marker\":{\"symbol\":\"circle\"},\"mode\":\"lines\",\"name\":\"Decision Tree\",\"orientation\":\"v\",\"showlegend\":false,\"x\":[0.0,0.01,0.02,0.03,0.04,0.05,0.06,0.07,0.08,0.09,0.1,0.11,0.12,0.13,0.14,0.15,0.16,0.17,0.18,0.19,0.2,0.21,0.22,0.23,0.24,0.25,0.26,0.27,0.28,0.29,0.3,0.31,0.32,0.33,0.34,0.35000000000000003,0.36,0.37,0.38,0.39,0.4,0.41000000000000003,0.42,0.43,0.44,0.45,0.46,0.47000000000000003,0.48,0.49,0.5,0.51,0.52,0.53,0.54,0.55,0.56,0.5700000000000001,0.58,0.59,0.6,0.61,0.62,0.63,0.64,0.65,0.66,0.67,0.68,0.6900000000000001,0.7000000000000001,0.71,0.72,0.73,0.74,0.75,0.76,0.77,0.78,0.79,0.8,0.81,0.8200000000000001,0.8300000000000001,0.84,0.85,0.86,0.87,0.88,0.89,0.9,0.91,0.92,0.93,0.9400000000000001,0.9500000000000001,0.96,0.97,0.98,0.99,1.0],\"xaxis\":\"x\",\"y\":[0.4347248099094563,0.4347248099094563,0.4347248099094563,0.4347248099094563,0.4347248099094563,0.4347248099094563,0.4347248099094563,0.4347248099094563,0.4347248099094563,0.4347248099094563,0.4347248099094563,0.4347248099094563,0.4347248099094563,0.4347248099094563,0.4347248099094563,0.4347248099094563,0.4347248099094563,0.4347248099094563,0.4347248099094563,0.4347248099094563,0.4347248099094563,0.4347248099094563,0.4347248099094563,0.4347248099094563,0.4347248099094563,0.4347248099094563,0.4347248099094563,0.4347248099094563,0.4347248099094563,0.4347248099094563,0.4347248099094563,0.4347248099094563,0.4347248099094563,0.4347248099094563,0.4347248099094563,0.4347248099094563,0.4347248099094563,0.4347248099094563,0.4347248099094563,0.4347248099094563,0.4347248099094563,0.4347248099094563,0.4347248099094563,0.4347248099094563,0.4347248099094563,0.4347248099094563,0.4347248099094563,0.4347248099094563,0.4347248099094563,0.4347248099094563,0.4347248099094563,0.4347248099094563,0.4347248099094563,0.4347248099094563,0.4347248099094563,0.4347248099094563,0.4347248099094563,0.4347248099094563,0.4347248099094563,0.4347248099094563,0.4347248099094563,0.4347248099094563,0.4347248099094563,0.4347248099094563,0.4347248099094563,0.4347248099094563,0.4347248099094563,0.4347248099094563,0.4347248099094563,0.4347248099094563,0.4347248099094563,0.4347248099094563,0.4347248099094563,0.4347248099094563,0.4347248099094563,0.4347248099094563,0.4347248099094563,0.4347248099094563,0.4347248099094563,0.4347248099094563,0.4347248099094563,0.4347248099094563,0.4347248099094563,0.4347248099094563,0.4347248099094563,0.4347248099094563,0.4347248099094563,0.4347248099094563,0.4347248099094563,0.4347248099094563,0.4347248099094563,0.4347248099094563,0.4347248099094563,0.4347248099094563,0.4347248099094563,0.4347248099094563,0.4347248099094563,0.4347248099094563,0.4347248099094563,0.4347248099094563,0.4347248099094563],\"yaxis\":\"y\",\"type\":\"scatter\",\"opacity\":1},{\"customdata\":[[0.4347248099094563,\"Decision Tree\",\"y_pred\"],[0.4347248099094563,\"Decision Tree\",\"y_pred\"],[0.4347248099094563,\"Decision Tree\",\"y_pred\"],[0.4347248099094563,\"Decision Tree\",\"y_pred\"],[0.4347248099094563,\"Decision Tree\",\"y_pred\"],[0.4347248099094563,\"Decision Tree\",\"y_pred\"],[0.4347248099094563,\"Decision Tree\",\"y_pred\"],[0.4347248099094563,\"Decision Tree\",\"y_pred\"],[0.4347248099094563,\"Decision Tree\",\"y_pred\"],[0.4347248099094563,\"Decision Tree\",\"y_pred\"],[0.4347248099094563,\"Decision Tree\",\"y_pred\"],[0.4347248099094563,\"Decision Tree\",\"y_pred\"],[0.4347248099094563,\"Decision Tree\",\"y_pred\"],[0.4347248099094563,\"Decision Tree\",\"y_pred\"],[0.4347248099094563,\"Decision Tree\",\"y_pred\"],[0.4347248099094563,\"Decision Tree\",\"y_pred\"],[0.4347248099094563,\"Decision Tree\",\"y_pred\"],[0.4347248099094563,\"Decision Tree\",\"y_pred\"],[0.4347248099094563,\"Decision Tree\",\"y_pred\"],[0.4347248099094563,\"Decision Tree\",\"y_pred\"],[0.4347248099094563,\"Decision Tree\",\"y_pred\"],[0.4347248099094563,\"Decision Tree\",\"y_pred\"],[0.4347248099094563,\"Decision Tree\",\"y_pred\"],[0.4347248099094563,\"Decision Tree\",\"y_pred\"],[0.4347248099094563,\"Decision Tree\",\"y_pred\"],[0.4347248099094563,\"Decision Tree\",\"y_pred\"],[0.4347248099094563,\"Decision Tree\",\"y_pred\"],[0.4347248099094563,\"Decision Tree\",\"y_pred\"],[0.4347248099094563,\"Decision Tree\",\"y_pred\"],[0.4347248099094563,\"Decision Tree\",\"y_pred\"],[0.4347248099094563,\"Decision Tree\",\"y_pred\"],[0.4347248099094563,\"Decision Tree\",\"y_pred\"],[0.4347248099094563,\"Decision Tree\",\"y_pred\"],[0.4347248099094563,\"Decision Tree\",\"y_pred\"],[0.4347248099094563,\"Decision Tree\",\"y_pred\"],[0.4347248099094563,\"Decision Tree\",\"y_pred\"],[0.4347248099094563,\"Decision Tree\",\"y_pred\"],[0.4347248099094563,\"Decision Tree\",\"y_pred\"],[0.4347248099094563,\"Decision Tree\",\"y_pred\"],[0.4347248099094563,\"Decision Tree\",\"y_pred\"],[0.4347248099094563,\"Decision Tree\",\"y_pred\"],[0.4347248099094563,\"Decision Tree\",\"y_pred\"],[0.4347248099094563,\"Decision Tree\",\"y_pred\"],[0.4347248099094563,\"Decision Tree\",\"y_pred\"],[0.4347248099094563,\"Decision Tree\",\"y_pred\"],[0.4347248099094563,\"Decision Tree\",\"y_pred\"],[0.4347248099094563,\"Decision Tree\",\"y_pred\"],[0.4347248099094563,\"Decision Tree\",\"y_pred\"],[0.4347248099094563,\"Decision Tree\",\"y_pred\"],[0.4347248099094563,\"Decision Tree\",\"y_pred\"],[0.4347248099094563,\"Decision Tree\",\"y_pred\"],[0.4347248099094563,\"Decision Tree\",\"y_pred\"],[0.4347248099094563,\"Decision Tree\",\"y_pred\"],[0.4347248099094563,\"Decision Tree\",\"y_pred\"],[0.4347248099094563,\"Decision Tree\",\"y_pred\"],[0.4347248099094563,\"Decision Tree\",\"y_pred\"],[0.4347248099094563,\"Decision Tree\",\"y_pred\"],[0.4347248099094563,\"Decision Tree\",\"y_pred\"],[0.4347248099094563,\"Decision Tree\",\"y_pred\"],[0.4347248099094563,\"Decision Tree\",\"y_pred\"],[0.4347248099094563,\"Decision Tree\",\"y_pred\"],[0.4347248099094563,\"Decision Tree\",\"y_pred\"],[0.4347248099094563,\"Decision Tree\",\"y_pred\"],[0.4347248099094563,\"Decision Tree\",\"y_pred\"],[0.4347248099094563,\"Decision Tree\",\"y_pred\"],[0.4347248099094563,\"Decision Tree\",\"y_pred\"],[0.4347248099094563,\"Decision Tree\",\"y_pred\"],[0.4347248099094563,\"Decision Tree\",\"y_pred\"],[0.4347248099094563,\"Decision Tree\",\"y_pred\"],[0.4347248099094563,\"Decision Tree\",\"y_pred\"],[0.4347248099094563,\"Decision Tree\",\"y_pred\"],[0.4347248099094563,\"Decision Tree\",\"y_pred\"],[0.4347248099094563,\"Decision Tree\",\"y_pred\"],[0.4347248099094563,\"Decision Tree\",\"y_pred\"],[0.4347248099094563,\"Decision Tree\",\"y_pred\"],[0.4347248099094563,\"Decision Tree\",\"y_pred\"],[0.4347248099094563,\"Decision Tree\",\"y_pred\"],[0.4347248099094563,\"Decision Tree\",\"y_pred\"],[0.4347248099094563,\"Decision Tree\",\"y_pred\"],[0.4347248099094563,\"Decision Tree\",\"y_pred\"],[0.4347248099094563,\"Decision Tree\",\"y_pred\"],[0.4347248099094563,\"Decision Tree\",\"y_pred\"],[0.4347248099094563,\"Decision Tree\",\"y_pred\"],[0.4347248099094563,\"Decision Tree\",\"y_pred\"],[0.4347248099094563,\"Decision Tree\",\"y_pred\"],[0.4347248099094563,\"Decision Tree\",\"y_pred\"],[0.4347248099094563,\"Decision Tree\",\"y_pred\"],[0.4347248099094563,\"Decision Tree\",\"y_pred\"],[0.4347248099094563,\"Decision Tree\",\"y_pred\"],[0.4347248099094563,\"Decision Tree\",\"y_pred\"],[0.4347248099094563,\"Decision Tree\",\"y_pred\"],[0.4347248099094563,\"Decision Tree\",\"y_pred\"],[0.4347248099094563,\"Decision Tree\",\"y_pred\"],[0.4347248099094563,\"Decision Tree\",\"y_pred\"],[0.4347248099094563,\"Decision Tree\",\"y_pred\"],[0.4347248099094563,\"Decision Tree\",\"y_pred\"],[0.4347248099094563,\"Decision Tree\",\"y_pred\"],[0.4347248099094563,\"Decision Tree\",\"y_pred\"],[0.4347248099094563,\"Decision Tree\",\"y_pred\"],[0.4347248099094563,\"Decision Tree\",\"y_pred\"],[0.4347248099094563,\"Decision Tree\",\"y_pred\"]],\"hovertemplate\":\"<b>%{hovertext}</b><br><br>prediction=%{y:.3f}<br>mean_prediction=%{customdata[0]:.3f}<extra></extra>\",\"hovertext\":[\"Decision Tree\",\"Decision Tree\",\"Decision Tree\",\"Decision Tree\",\"Decision Tree\",\"Decision Tree\",\"Decision Tree\",\"Decision Tree\",\"Decision Tree\",\"Decision Tree\",\"Decision Tree\",\"Decision Tree\",\"Decision Tree\",\"Decision Tree\",\"Decision Tree\",\"Decision Tree\",\"Decision Tree\",\"Decision Tree\",\"Decision Tree\",\"Decision Tree\",\"Decision Tree\",\"Decision Tree\",\"Decision Tree\",\"Decision Tree\",\"Decision Tree\",\"Decision Tree\",\"Decision Tree\",\"Decision Tree\",\"Decision Tree\",\"Decision Tree\",\"Decision Tree\",\"Decision Tree\",\"Decision Tree\",\"Decision Tree\",\"Decision Tree\",\"Decision Tree\",\"Decision Tree\",\"Decision Tree\",\"Decision Tree\",\"Decision Tree\",\"Decision Tree\",\"Decision Tree\",\"Decision Tree\",\"Decision Tree\",\"Decision Tree\",\"Decision Tree\",\"Decision Tree\",\"Decision Tree\",\"Decision Tree\",\"Decision Tree\",\"Decision Tree\",\"Decision Tree\",\"Decision Tree\",\"Decision Tree\",\"Decision Tree\",\"Decision Tree\",\"Decision Tree\",\"Decision Tree\",\"Decision Tree\",\"Decision Tree\",\"Decision Tree\",\"Decision Tree\",\"Decision Tree\",\"Decision Tree\",\"Decision Tree\",\"Decision Tree\",\"Decision Tree\",\"Decision Tree\",\"Decision Tree\",\"Decision Tree\",\"Decision Tree\",\"Decision Tree\",\"Decision Tree\",\"Decision Tree\",\"Decision Tree\",\"Decision Tree\",\"Decision Tree\",\"Decision Tree\",\"Decision Tree\",\"Decision Tree\",\"Decision Tree\",\"Decision Tree\",\"Decision Tree\",\"Decision Tree\",\"Decision Tree\",\"Decision Tree\",\"Decision Tree\",\"Decision Tree\",\"Decision Tree\",\"Decision Tree\",\"Decision Tree\",\"Decision Tree\",\"Decision Tree\",\"Decision Tree\",\"Decision Tree\",\"Decision Tree\",\"Decision Tree\",\"Decision Tree\",\"Decision Tree\",\"Decision Tree\",\"Decision Tree\"],\"legendgroup\":\"Decision Tree\",\"line\":{\"color\":\"#f05a71\",\"dash\":\"solid\",\"width\":2},\"marker\":{\"symbol\":\"circle\"},\"mode\":\"lines\",\"name\":\"Decision Tree\",\"orientation\":\"v\",\"showlegend\":false,\"x\":[0.0,0.01,0.02,0.03,0.04,0.05,0.06,0.07,0.08,0.09,0.1,0.11,0.12,0.13,0.14,0.15,0.16,0.17,0.18,0.19,0.2,0.21,0.22,0.23,0.24,0.25,0.26,0.27,0.28,0.29,0.3,0.31,0.32,0.33,0.34,0.35000000000000003,0.36,0.37,0.38,0.39,0.4,0.41000000000000003,0.42,0.43,0.44,0.45,0.46,0.47000000000000003,0.48,0.49,0.5,0.51,0.52,0.53,0.54,0.55,0.56,0.5700000000000001,0.58,0.59,0.6,0.61,0.62,0.63,0.64,0.65,0.66,0.67,0.68,0.6900000000000001,0.7000000000000001,0.71,0.72,0.73,0.74,0.75,0.76,0.77,0.78,0.79,0.8,0.81,0.8200000000000001,0.8300000000000001,0.84,0.85,0.86,0.87,0.88,0.89,0.9,0.91,0.92,0.93,0.9400000000000001,0.9500000000000001,0.96,0.97,0.98,0.99,1.0],\"xaxis\":\"x2\",\"y\":[0.4347248099094563,0.4347248099094563,0.4347248099094563,0.4347248099094563,0.4347248099094563,0.4347248099094563,0.4347248099094563,0.4347248099094563,0.4347248099094563,0.4347248099094563,0.4347248099094563,0.4347248099094563,0.4347248099094563,0.4347248099094563,0.4347248099094563,0.4347248099094563,0.4347248099094563,0.4347248099094563,0.4347248099094563,0.4347248099094563,0.4347248099094563,0.4347248099094563,0.4347248099094563,0.4347248099094563,0.4347248099094563,0.4347248099094563,0.4347248099094563,0.4347248099094563,0.4347248099094563,0.4347248099094563,0.4347248099094563,0.4347248099094563,0.4347248099094563,0.4347248099094563,0.4347248099094563,0.4347248099094563,0.4347248099094563,0.4347248099094563,0.4347248099094563,0.4347248099094563,0.4347248099094563,0.4347248099094563,0.4347248099094563,0.4347248099094563,0.4347248099094563,0.4347248099094563,0.4347248099094563,0.4347248099094563,0.4347248099094563,0.4347248099094563,0.4347248099094563,0.4347248099094563,0.4347248099094563,0.4347248099094563,0.4347248099094563,0.4347248099094563,0.4347248099094563,0.4347248099094563,0.4347248099094563,0.4347248099094563,0.4347248099094563,0.4347248099094563,0.4347248099094563,0.4347248099094563,0.4347248099094563,0.4347248099094563,0.4347248099094563,0.4347248099094563,0.4347248099094563,0.4347248099094563,0.4347248099094563,0.4347248099094563,0.4347248099094563,0.4347248099094563,0.4347248099094563,0.4347248099094563,0.4347248099094563,0.4347248099094563,0.4347248099094563,0.4347248099094563,0.4347248099094563,0.4347248099094563,0.4347248099094563,0.4347248099094563,0.4347248099094563,0.4347248099094563,0.4347248099094563,0.4347248099094563,0.4347248099094563,0.4347248099094563,0.4347248099094563,0.4347248099094563,0.4347248099094563,0.4347248099094563,0.4347248099094563,0.4347248099094563,0.4347248099094563,0.4347248099094563,0.4347248099094563,0.4347248099094563,0.4347248099094563],\"yaxis\":\"y2\",\"type\":\"scatter\",\"opacity\":1},{\"customdata\":[[0.4545256228673391,\"Random Forest\",\"age\"],[0.4545256228673391,\"Random Forest\",\"age\"],[0.4545256228673391,\"Random Forest\",\"age\"],[0.4545256228673391,\"Random Forest\",\"age\"],[0.4545256228673391,\"Random Forest\",\"age\"],[0.4545256228673391,\"Random Forest\",\"age\"],[0.4545256228673391,\"Random Forest\",\"age\"],[0.4545256228673391,\"Random Forest\",\"age\"],[0.4545256228673391,\"Random Forest\",\"age\"],[0.4545256228673391,\"Random Forest\",\"age\"],[0.4545256228673391,\"Random Forest\",\"age\"],[0.4545256228673391,\"Random Forest\",\"age\"],[0.4545256228673391,\"Random Forest\",\"age\"],[0.4545256228673391,\"Random Forest\",\"age\"],[0.4545256228673391,\"Random Forest\",\"age\"],[0.4545256228673391,\"Random Forest\",\"age\"],[0.4545256228673391,\"Random Forest\",\"age\"],[0.4545256228673391,\"Random Forest\",\"age\"],[0.4545256228673391,\"Random Forest\",\"age\"],[0.4545256228673391,\"Random Forest\",\"age\"],[0.4545256228673391,\"Random Forest\",\"age\"],[0.4545256228673391,\"Random Forest\",\"age\"],[0.4545256228673391,\"Random Forest\",\"age\"],[0.4545256228673391,\"Random Forest\",\"age\"],[0.4545256228673391,\"Random Forest\",\"age\"],[0.4545256228673391,\"Random Forest\",\"age\"],[0.4545256228673391,\"Random Forest\",\"age\"],[0.4545256228673391,\"Random Forest\",\"age\"],[0.4545256228673391,\"Random Forest\",\"age\"],[0.4545256228673391,\"Random Forest\",\"age\"],[0.4545256228673391,\"Random Forest\",\"age\"],[0.4545256228673391,\"Random Forest\",\"age\"],[0.4545256228673391,\"Random Forest\",\"age\"],[0.4545256228673391,\"Random Forest\",\"age\"],[0.4545256228673391,\"Random Forest\",\"age\"],[0.4545256228673391,\"Random Forest\",\"age\"],[0.4545256228673391,\"Random Forest\",\"age\"],[0.4545256228673391,\"Random Forest\",\"age\"],[0.4545256228673391,\"Random Forest\",\"age\"],[0.4545256228673391,\"Random Forest\",\"age\"],[0.4545256228673391,\"Random Forest\",\"age\"],[0.4545256228673391,\"Random Forest\",\"age\"],[0.4545256228673391,\"Random Forest\",\"age\"],[0.4545256228673391,\"Random Forest\",\"age\"],[0.4545256228673391,\"Random Forest\",\"age\"],[0.4545256228673391,\"Random Forest\",\"age\"],[0.4545256228673391,\"Random Forest\",\"age\"],[0.4545256228673391,\"Random Forest\",\"age\"],[0.4545256228673391,\"Random Forest\",\"age\"],[0.4545256228673391,\"Random Forest\",\"age\"],[0.4545256228673391,\"Random Forest\",\"age\"],[0.4545256228673391,\"Random Forest\",\"age\"],[0.4545256228673391,\"Random Forest\",\"age\"],[0.4545256228673391,\"Random Forest\",\"age\"],[0.4545256228673391,\"Random Forest\",\"age\"],[0.4545256228673391,\"Random Forest\",\"age\"],[0.4545256228673391,\"Random Forest\",\"age\"],[0.4545256228673391,\"Random Forest\",\"age\"],[0.4545256228673391,\"Random Forest\",\"age\"],[0.4545256228673391,\"Random Forest\",\"age\"],[0.4545256228673391,\"Random Forest\",\"age\"],[0.4545256228673391,\"Random Forest\",\"age\"],[0.4545256228673391,\"Random Forest\",\"age\"],[0.4545256228673391,\"Random Forest\",\"age\"],[0.4545256228673391,\"Random Forest\",\"age\"],[0.4545256228673391,\"Random Forest\",\"age\"],[0.4545256228673391,\"Random Forest\",\"age\"],[0.4545256228673391,\"Random Forest\",\"age\"],[0.4545256228673391,\"Random Forest\",\"age\"],[0.4545256228673391,\"Random Forest\",\"age\"],[0.4545256228673391,\"Random Forest\",\"age\"],[0.4545256228673391,\"Random Forest\",\"age\"],[0.4545256228673391,\"Random Forest\",\"age\"],[0.4545256228673391,\"Random Forest\",\"age\"],[0.4545256228673391,\"Random Forest\",\"age\"],[0.4545256228673391,\"Random Forest\",\"age\"],[0.4545256228673391,\"Random Forest\",\"age\"],[0.4545256228673391,\"Random Forest\",\"age\"],[0.4545256228673391,\"Random Forest\",\"age\"],[0.4545256228673391,\"Random Forest\",\"age\"],[0.4545256228673391,\"Random Forest\",\"age\"],[0.4545256228673391,\"Random Forest\",\"age\"],[0.4545256228673391,\"Random Forest\",\"age\"],[0.4545256228673391,\"Random Forest\",\"age\"],[0.4545256228673391,\"Random Forest\",\"age\"],[0.4545256228673391,\"Random Forest\",\"age\"],[0.4545256228673391,\"Random Forest\",\"age\"],[0.4545256228673391,\"Random Forest\",\"age\"],[0.4545256228673391,\"Random Forest\",\"age\"],[0.4545256228673391,\"Random Forest\",\"age\"],[0.4545256228673391,\"Random Forest\",\"age\"],[0.4545256228673391,\"Random Forest\",\"age\"],[0.4545256228673391,\"Random Forest\",\"age\"],[0.4545256228673391,\"Random Forest\",\"age\"],[0.4545256228673391,\"Random Forest\",\"age\"],[0.4545256228673391,\"Random Forest\",\"age\"],[0.4545256228673391,\"Random Forest\",\"age\"],[0.4545256228673391,\"Random Forest\",\"age\"],[0.4545256228673391,\"Random Forest\",\"age\"],[0.4545256228673391,\"Random Forest\",\"age\"],[0.4545256228673391,\"Random Forest\",\"age\"]],\"hovertemplate\":\"<b>%{hovertext}</b><br><br>prediction=%{y:.3f}<br>mean_prediction=%{customdata[0]:.3f}<extra></extra>\",\"hovertext\":[\"Random Forest\",\"Random Forest\",\"Random Forest\",\"Random Forest\",\"Random Forest\",\"Random Forest\",\"Random Forest\",\"Random Forest\",\"Random Forest\",\"Random Forest\",\"Random Forest\",\"Random Forest\",\"Random Forest\",\"Random Forest\",\"Random Forest\",\"Random Forest\",\"Random Forest\",\"Random Forest\",\"Random Forest\",\"Random Forest\",\"Random Forest\",\"Random Forest\",\"Random Forest\",\"Random Forest\",\"Random Forest\",\"Random Forest\",\"Random Forest\",\"Random Forest\",\"Random Forest\",\"Random Forest\",\"Random Forest\",\"Random Forest\",\"Random Forest\",\"Random Forest\",\"Random Forest\",\"Random Forest\",\"Random Forest\",\"Random Forest\",\"Random Forest\",\"Random Forest\",\"Random Forest\",\"Random Forest\",\"Random Forest\",\"Random Forest\",\"Random Forest\",\"Random Forest\",\"Random Forest\",\"Random Forest\",\"Random Forest\",\"Random Forest\",\"Random Forest\",\"Random Forest\",\"Random Forest\",\"Random Forest\",\"Random Forest\",\"Random Forest\",\"Random Forest\",\"Random Forest\",\"Random Forest\",\"Random Forest\",\"Random Forest\",\"Random Forest\",\"Random Forest\",\"Random Forest\",\"Random Forest\",\"Random Forest\",\"Random Forest\",\"Random Forest\",\"Random Forest\",\"Random Forest\",\"Random Forest\",\"Random Forest\",\"Random Forest\",\"Random Forest\",\"Random Forest\",\"Random Forest\",\"Random Forest\",\"Random Forest\",\"Random Forest\",\"Random Forest\",\"Random Forest\",\"Random Forest\",\"Random Forest\",\"Random Forest\",\"Random Forest\",\"Random Forest\",\"Random Forest\",\"Random Forest\",\"Random Forest\",\"Random Forest\",\"Random Forest\",\"Random Forest\",\"Random Forest\",\"Random Forest\",\"Random Forest\",\"Random Forest\",\"Random Forest\",\"Random Forest\",\"Random Forest\",\"Random Forest\",\"Random Forest\"],\"legendgroup\":\"Random Forest\",\"line\":{\"color\":\"#4378bf\",\"dash\":\"solid\",\"width\":2},\"marker\":{\"symbol\":\"circle\"},\"mode\":\"lines\",\"name\":\"Random Forest\",\"orientation\":\"v\",\"showlegend\":true,\"x\":[18.0,18.62,19.24,19.86,20.48,21.1,21.72,22.34,22.96,23.58,24.2,24.82,25.439999999999998,26.060000000000002,26.68,27.3,27.92,28.54,29.16,29.78,30.4,31.02,31.64,32.26,32.879999999999995,33.5,34.120000000000005,34.739999999999995,35.36,35.980000000000004,36.6,37.22,37.84,38.46,39.08,39.7,40.32,40.94,41.56,42.18,42.8,43.42,44.04,44.66,45.28,45.9,46.519999999999996,47.14,47.76,48.379999999999995,49.0,49.620000000000005,50.24,50.86,51.48,52.1,52.72,53.339999999999996,53.96,54.58,55.2,55.82,56.44,57.06,57.68,58.3,58.92,59.54,60.16,60.78,61.4,62.02,62.64,63.26,63.88,64.5,65.12,65.74000000000001,66.36,66.97999999999999,67.6,68.22,68.84,69.46000000000001,70.08,70.7,71.32,71.94,72.56,73.18,73.8,74.42,75.03999999999999,75.66,76.28,76.9,77.52,78.14,78.75999999999999,79.38,80.0],\"xaxis\":\"x3\",\"y\":[0.6487325966139643,0.6487325966139643,0.6487325966139643,0.6487325966139643,0.6487325966139643,0.6031507481096966,0.5821799543303985,0.5821799543303985,0.5382386913925619,0.5298791592616316,0.5298791592616316,0.5055088501982867,0.5054197132921677,0.4922946866721104,0.48399322451823773,0.4838942014195619,0.4783662420689452,0.46380498678864956,0.4637380025348227,0.45814136664405897,0.4581437032954372,0.45142884271524764,0.44317683049484025,0.44295937954557824,0.4182777937447988,0.395160662727207,0.3949978457380474,0.3785314800395872,0.37820699122962764,0.37384613538611405,0.36215078484734026,0.3621654149419092,0.36031226140726846,0.36027139049133916,0.3513914755939655,0.34246247096867477,0.34208827919975265,0.3512678329334451,0.35641522096117395,0.3566487852511669,0.36401649565147404,0.36420902644288455,0.36592526148619603,0.3721129149938692,0.37246612492534564,0.37067483188609507,0.367665902195,0.3657669543224177,0.358569303376552,0.35856082044527976,0.3449831833052363,0.34669121741830633,0.34652632393689514,0.3476642493537025,0.3474919937568129,0.3402662990012116,0.3207939352981251,0.3206253959722824,0.31846090159375606,0.3155785377117841,0.3155785377117841,0.3070680462793976,0.3070680462793976,0.3055113138994263,0.3057048819877964,0.3057048819877964,0.3064025136674563,0.30517493384483896,0.3050275118930548,0.3037561689793885,0.3037561689793885,0.303882170198177,0.30368219695045096,0.30368219695045096,0.30350480749173514,0.30350480749173514,0.30350480749173514,0.30350480749173514,0.30350480749173514,0.30350480749173514,0.3020389583445709,0.3020389583445709,0.3020389583445709,0.3020389583445709,0.3020389583445709,0.3020389583445709,0.3020389583445709,0.3020389583445709,0.3020389583445709,0.3020389583445709,0.3020389583445709,0.3020389583445709,0.3020389583445709,0.3020389583445709,0.3020389583445709,0.3020389583445709,0.3020389583445709,0.3020389583445709,0.3020389583445709,0.3020389583445709,0.3020389583445709],\"yaxis\":\"y3\",\"type\":\"scatter\",\"opacity\":1},{\"customdata\":[[0.4545256228673391,\"Random Forest\",\"priors_count\"],[0.4545256228673391,\"Random Forest\",\"priors_count\"],[0.4545256228673391,\"Random Forest\",\"priors_count\"],[0.4545256228673391,\"Random Forest\",\"priors_count\"],[0.4545256228673391,\"Random Forest\",\"priors_count\"],[0.4545256228673391,\"Random Forest\",\"priors_count\"],[0.4545256228673391,\"Random Forest\",\"priors_count\"],[0.4545256228673391,\"Random Forest\",\"priors_count\"],[0.4545256228673391,\"Random Forest\",\"priors_count\"],[0.4545256228673391,\"Random Forest\",\"priors_count\"],[0.4545256228673391,\"Random Forest\",\"priors_count\"],[0.4545256228673391,\"Random Forest\",\"priors_count\"],[0.4545256228673391,\"Random Forest\",\"priors_count\"],[0.4545256228673391,\"Random Forest\",\"priors_count\"],[0.4545256228673391,\"Random Forest\",\"priors_count\"],[0.4545256228673391,\"Random Forest\",\"priors_count\"],[0.4545256228673391,\"Random Forest\",\"priors_count\"],[0.4545256228673391,\"Random Forest\",\"priors_count\"],[0.4545256228673391,\"Random Forest\",\"priors_count\"],[0.4545256228673391,\"Random Forest\",\"priors_count\"],[0.4545256228673391,\"Random Forest\",\"priors_count\"],[0.4545256228673391,\"Random Forest\",\"priors_count\"],[0.4545256228673391,\"Random Forest\",\"priors_count\"],[0.4545256228673391,\"Random Forest\",\"priors_count\"],[0.4545256228673391,\"Random Forest\",\"priors_count\"],[0.4545256228673391,\"Random Forest\",\"priors_count\"],[0.4545256228673391,\"Random Forest\",\"priors_count\"],[0.4545256228673391,\"Random Forest\",\"priors_count\"],[0.4545256228673391,\"Random Forest\",\"priors_count\"],[0.4545256228673391,\"Random Forest\",\"priors_count\"],[0.4545256228673391,\"Random Forest\",\"priors_count\"],[0.4545256228673391,\"Random Forest\",\"priors_count\"],[0.4545256228673391,\"Random Forest\",\"priors_count\"],[0.4545256228673391,\"Random Forest\",\"priors_count\"],[0.4545256228673391,\"Random Forest\",\"priors_count\"],[0.4545256228673391,\"Random Forest\",\"priors_count\"],[0.4545256228673391,\"Random Forest\",\"priors_count\"],[0.4545256228673391,\"Random Forest\",\"priors_count\"],[0.4545256228673391,\"Random Forest\",\"priors_count\"],[0.4545256228673391,\"Random Forest\",\"priors_count\"],[0.4545256228673391,\"Random Forest\",\"priors_count\"],[0.4545256228673391,\"Random Forest\",\"priors_count\"],[0.4545256228673391,\"Random Forest\",\"priors_count\"],[0.4545256228673391,\"Random Forest\",\"priors_count\"],[0.4545256228673391,\"Random Forest\",\"priors_count\"],[0.4545256228673391,\"Random Forest\",\"priors_count\"],[0.4545256228673391,\"Random Forest\",\"priors_count\"],[0.4545256228673391,\"Random Forest\",\"priors_count\"],[0.4545256228673391,\"Random Forest\",\"priors_count\"],[0.4545256228673391,\"Random Forest\",\"priors_count\"],[0.4545256228673391,\"Random Forest\",\"priors_count\"],[0.4545256228673391,\"Random Forest\",\"priors_count\"],[0.4545256228673391,\"Random Forest\",\"priors_count\"],[0.4545256228673391,\"Random Forest\",\"priors_count\"],[0.4545256228673391,\"Random Forest\",\"priors_count\"],[0.4545256228673391,\"Random Forest\",\"priors_count\"],[0.4545256228673391,\"Random Forest\",\"priors_count\"],[0.4545256228673391,\"Random Forest\",\"priors_count\"],[0.4545256228673391,\"Random Forest\",\"priors_count\"],[0.4545256228673391,\"Random Forest\",\"priors_count\"],[0.4545256228673391,\"Random Forest\",\"priors_count\"],[0.4545256228673391,\"Random Forest\",\"priors_count\"],[0.4545256228673391,\"Random Forest\",\"priors_count\"],[0.4545256228673391,\"Random Forest\",\"priors_count\"],[0.4545256228673391,\"Random Forest\",\"priors_count\"],[0.4545256228673391,\"Random Forest\",\"priors_count\"],[0.4545256228673391,\"Random Forest\",\"priors_count\"],[0.4545256228673391,\"Random Forest\",\"priors_count\"],[0.4545256228673391,\"Random Forest\",\"priors_count\"],[0.4545256228673391,\"Random Forest\",\"priors_count\"],[0.4545256228673391,\"Random Forest\",\"priors_count\"],[0.4545256228673391,\"Random Forest\",\"priors_count\"],[0.4545256228673391,\"Random Forest\",\"priors_count\"],[0.4545256228673391,\"Random Forest\",\"priors_count\"],[0.4545256228673391,\"Random Forest\",\"priors_count\"],[0.4545256228673391,\"Random Forest\",\"priors_count\"],[0.4545256228673391,\"Random Forest\",\"priors_count\"],[0.4545256228673391,\"Random Forest\",\"priors_count\"],[0.4545256228673391,\"Random Forest\",\"priors_count\"],[0.4545256228673391,\"Random Forest\",\"priors_count\"],[0.4545256228673391,\"Random Forest\",\"priors_count\"],[0.4545256228673391,\"Random Forest\",\"priors_count\"],[0.4545256228673391,\"Random Forest\",\"priors_count\"],[0.4545256228673391,\"Random Forest\",\"priors_count\"],[0.4545256228673391,\"Random Forest\",\"priors_count\"],[0.4545256228673391,\"Random Forest\",\"priors_count\"],[0.4545256228673391,\"Random Forest\",\"priors_count\"],[0.4545256228673391,\"Random Forest\",\"priors_count\"],[0.4545256228673391,\"Random Forest\",\"priors_count\"],[0.4545256228673391,\"Random Forest\",\"priors_count\"],[0.4545256228673391,\"Random Forest\",\"priors_count\"],[0.4545256228673391,\"Random Forest\",\"priors_count\"],[0.4545256228673391,\"Random Forest\",\"priors_count\"],[0.4545256228673391,\"Random Forest\",\"priors_count\"],[0.4545256228673391,\"Random Forest\",\"priors_count\"],[0.4545256228673391,\"Random Forest\",\"priors_count\"],[0.4545256228673391,\"Random Forest\",\"priors_count\"],[0.4545256228673391,\"Random Forest\",\"priors_count\"],[0.4545256228673391,\"Random Forest\",\"priors_count\"],[0.4545256228673391,\"Random Forest\",\"priors_count\"],[0.4545256228673391,\"Random Forest\",\"priors_count\"]],\"hovertemplate\":\"<b>%{hovertext}</b><br><br>prediction=%{y:.3f}<br>mean_prediction=%{customdata[0]:.3f}<extra></extra>\",\"hovertext\":[\"Random Forest\",\"Random Forest\",\"Random Forest\",\"Random Forest\",\"Random Forest\",\"Random Forest\",\"Random Forest\",\"Random Forest\",\"Random Forest\",\"Random Forest\",\"Random Forest\",\"Random Forest\",\"Random Forest\",\"Random Forest\",\"Random Forest\",\"Random Forest\",\"Random Forest\",\"Random Forest\",\"Random Forest\",\"Random Forest\",\"Random Forest\",\"Random Forest\",\"Random Forest\",\"Random Forest\",\"Random Forest\",\"Random Forest\",\"Random Forest\",\"Random Forest\",\"Random Forest\",\"Random Forest\",\"Random Forest\",\"Random Forest\",\"Random Forest\",\"Random Forest\",\"Random Forest\",\"Random Forest\",\"Random Forest\",\"Random Forest\",\"Random Forest\",\"Random Forest\",\"Random Forest\",\"Random Forest\",\"Random Forest\",\"Random Forest\",\"Random Forest\",\"Random Forest\",\"Random Forest\",\"Random Forest\",\"Random Forest\",\"Random Forest\",\"Random Forest\",\"Random Forest\",\"Random Forest\",\"Random Forest\",\"Random Forest\",\"Random Forest\",\"Random Forest\",\"Random Forest\",\"Random Forest\",\"Random Forest\",\"Random Forest\",\"Random Forest\",\"Random Forest\",\"Random Forest\",\"Random Forest\",\"Random Forest\",\"Random Forest\",\"Random Forest\",\"Random Forest\",\"Random Forest\",\"Random Forest\",\"Random Forest\",\"Random Forest\",\"Random Forest\",\"Random Forest\",\"Random Forest\",\"Random Forest\",\"Random Forest\",\"Random Forest\",\"Random Forest\",\"Random Forest\",\"Random Forest\",\"Random Forest\",\"Random Forest\",\"Random Forest\",\"Random Forest\",\"Random Forest\",\"Random Forest\",\"Random Forest\",\"Random Forest\",\"Random Forest\",\"Random Forest\",\"Random Forest\",\"Random Forest\",\"Random Forest\",\"Random Forest\",\"Random Forest\",\"Random Forest\",\"Random Forest\",\"Random Forest\",\"Random Forest\"],\"legendgroup\":\"Random Forest\",\"line\":{\"color\":\"#4378bf\",\"dash\":\"solid\",\"width\":2},\"marker\":{\"symbol\":\"circle\"},\"mode\":\"lines\",\"name\":\"Random Forest\",\"orientation\":\"v\",\"showlegend\":false,\"x\":[0.0,0.36,0.72,1.08,1.44,1.7999999999999998,2.16,2.52,2.88,3.2399999999999998,3.5999999999999996,3.96,4.32,4.68,5.04,5.3999999999999995,5.76,6.12,6.4799999999999995,6.84,7.199999999999999,7.56,7.92,8.28,8.64,9.0,9.36,9.719999999999999,10.08,10.44,10.799999999999999,11.16,11.52,11.879999999999999,12.24,12.6,12.959999999999999,13.32,13.68,14.04,14.399999999999999,14.76,15.12,15.479999999999999,15.84,16.2,16.56,16.919999999999998,17.28,17.64,18.0,18.36,18.72,19.08,19.439999999999998,19.8,20.16,20.52,20.88,21.24,21.599999999999998,21.96,22.32,22.68,23.04,23.4,23.759999999999998,24.119999999999997,24.48,24.84,25.2,25.56,25.919999999999998,26.279999999999998,26.64,27.0,27.36,27.72,28.08,28.439999999999998,28.799999999999997,29.16,29.52,29.88,30.24,30.599999999999998,30.959999999999997,31.32,31.68,32.04,32.4,32.76,33.12,33.48,33.839999999999996,34.199999999999996,34.56,34.92,35.28,35.64,36.0],\"xaxis\":\"x4\",\"y\":[0.30257840794534835,0.30257840794534835,0.37089496734463606,0.37089496734463606,0.37089496734463606,0.4475047673377941,0.4475047673377941,0.5581682678646385,0.5581682678646385,0.5581682678646385,0.5664217074514905,0.5664217074514905,0.5664217074514905,0.5767648899895338,0.5768498475730606,0.5768498475730606,0.6106666306281282,0.6108479648970925,0.6108479648970925,0.6389463050734783,0.6390640030603087,0.6584207564782489,0.6584207564782489,0.6584207564782489,0.6731374323718368,0.6731374323718368,0.6731374323718368,0.6844107528341624,0.6844107528341624,0.6844107528341624,0.6815869781097397,0.6816938737110172,0.692277997990399,0.692277997990399,0.692277997990399,0.6984133713717565,0.6984133713717565,0.6984133713717565,0.6956230159579605,0.6956230159579605,0.6956230159579605,0.698894536645414,0.698894536645414,0.698894536645414,0.7185035311698204,0.7185035311698204,0.7198119467504269,0.7198119467504269,0.7198119467504269,0.7197163815730394,0.7197163815730394,0.7197163815730394,0.7178908557810324,0.7178908557810324,0.7178908557810324,0.7166787207849608,0.7166787207849608,0.7171230998439772,0.7171230998439772,0.7171230998439772,0.7179539543311038,0.7179539543311038,0.7179539543311038,0.7179539543311038,0.7179539543311038,0.7179539543311038,0.7179539543311038,0.7179539543311038,0.7179539543311038,0.7179539543311038,0.7179539543311038,0.7179539543311038,0.7179539543311038,0.7179539543311038,0.7179539543311038,0.7179539543311038,0.7179539543311038,0.7179539543311038,0.7179539543311038,0.7179539543311038,0.7179539543311038,0.7179539543311038,0.7179539543311038,0.7179539543311038,0.7179539543311038,0.7179539543311038,0.7179539543311038,0.7179539543311038,0.7179539543311038,0.7179539543311038,0.7179539543311038,0.7179539543311038,0.7179539543311038,0.7179539543311038,0.7179539543311038,0.7179539543311038,0.7179539543311038,0.7179539543311038,0.7179539543311038,0.7179539543311038,0.7179539543311038],\"yaxis\":\"y4\",\"type\":\"scatter\",\"opacity\":1},{\"customdata\":[[0.4545256228673391,\"Random Forest\",\"y_test\"],[0.4545256228673391,\"Random Forest\",\"y_test\"],[0.4545256228673391,\"Random Forest\",\"y_test\"],[0.4545256228673391,\"Random Forest\",\"y_test\"],[0.4545256228673391,\"Random Forest\",\"y_test\"],[0.4545256228673391,\"Random Forest\",\"y_test\"],[0.4545256228673391,\"Random Forest\",\"y_test\"],[0.4545256228673391,\"Random Forest\",\"y_test\"],[0.4545256228673391,\"Random Forest\",\"y_test\"],[0.4545256228673391,\"Random Forest\",\"y_test\"],[0.4545256228673391,\"Random Forest\",\"y_test\"],[0.4545256228673391,\"Random Forest\",\"y_test\"],[0.4545256228673391,\"Random Forest\",\"y_test\"],[0.4545256228673391,\"Random Forest\",\"y_test\"],[0.4545256228673391,\"Random Forest\",\"y_test\"],[0.4545256228673391,\"Random Forest\",\"y_test\"],[0.4545256228673391,\"Random Forest\",\"y_test\"],[0.4545256228673391,\"Random Forest\",\"y_test\"],[0.4545256228673391,\"Random Forest\",\"y_test\"],[0.4545256228673391,\"Random Forest\",\"y_test\"],[0.4545256228673391,\"Random Forest\",\"y_test\"],[0.4545256228673391,\"Random Forest\",\"y_test\"],[0.4545256228673391,\"Random Forest\",\"y_test\"],[0.4545256228673391,\"Random Forest\",\"y_test\"],[0.4545256228673391,\"Random Forest\",\"y_test\"],[0.4545256228673391,\"Random Forest\",\"y_test\"],[0.4545256228673391,\"Random Forest\",\"y_test\"],[0.4545256228673391,\"Random Forest\",\"y_test\"],[0.4545256228673391,\"Random Forest\",\"y_test\"],[0.4545256228673391,\"Random Forest\",\"y_test\"],[0.4545256228673391,\"Random Forest\",\"y_test\"],[0.4545256228673391,\"Random Forest\",\"y_test\"],[0.4545256228673391,\"Random Forest\",\"y_test\"],[0.4545256228673391,\"Random Forest\",\"y_test\"],[0.4545256228673391,\"Random Forest\",\"y_test\"],[0.4545256228673391,\"Random Forest\",\"y_test\"],[0.4545256228673391,\"Random Forest\",\"y_test\"],[0.4545256228673391,\"Random Forest\",\"y_test\"],[0.4545256228673391,\"Random Forest\",\"y_test\"],[0.4545256228673391,\"Random Forest\",\"y_test\"],[0.4545256228673391,\"Random Forest\",\"y_test\"],[0.4545256228673391,\"Random Forest\",\"y_test\"],[0.4545256228673391,\"Random Forest\",\"y_test\"],[0.4545256228673391,\"Random Forest\",\"y_test\"],[0.4545256228673391,\"Random Forest\",\"y_test\"],[0.4545256228673391,\"Random Forest\",\"y_test\"],[0.4545256228673391,\"Random Forest\",\"y_test\"],[0.4545256228673391,\"Random Forest\",\"y_test\"],[0.4545256228673391,\"Random Forest\",\"y_test\"],[0.4545256228673391,\"Random Forest\",\"y_test\"],[0.4545256228673391,\"Random Forest\",\"y_test\"],[0.4545256228673391,\"Random Forest\",\"y_test\"],[0.4545256228673391,\"Random Forest\",\"y_test\"],[0.4545256228673391,\"Random Forest\",\"y_test\"],[0.4545256228673391,\"Random Forest\",\"y_test\"],[0.4545256228673391,\"Random Forest\",\"y_test\"],[0.4545256228673391,\"Random Forest\",\"y_test\"],[0.4545256228673391,\"Random Forest\",\"y_test\"],[0.4545256228673391,\"Random Forest\",\"y_test\"],[0.4545256228673391,\"Random Forest\",\"y_test\"],[0.4545256228673391,\"Random Forest\",\"y_test\"],[0.4545256228673391,\"Random Forest\",\"y_test\"],[0.4545256228673391,\"Random Forest\",\"y_test\"],[0.4545256228673391,\"Random Forest\",\"y_test\"],[0.4545256228673391,\"Random Forest\",\"y_test\"],[0.4545256228673391,\"Random Forest\",\"y_test\"],[0.4545256228673391,\"Random Forest\",\"y_test\"],[0.4545256228673391,\"Random Forest\",\"y_test\"],[0.4545256228673391,\"Random Forest\",\"y_test\"],[0.4545256228673391,\"Random Forest\",\"y_test\"],[0.4545256228673391,\"Random Forest\",\"y_test\"],[0.4545256228673391,\"Random Forest\",\"y_test\"],[0.4545256228673391,\"Random Forest\",\"y_test\"],[0.4545256228673391,\"Random Forest\",\"y_test\"],[0.4545256228673391,\"Random Forest\",\"y_test\"],[0.4545256228673391,\"Random Forest\",\"y_test\"],[0.4545256228673391,\"Random Forest\",\"y_test\"],[0.4545256228673391,\"Random Forest\",\"y_test\"],[0.4545256228673391,\"Random Forest\",\"y_test\"],[0.4545256228673391,\"Random Forest\",\"y_test\"],[0.4545256228673391,\"Random Forest\",\"y_test\"],[0.4545256228673391,\"Random Forest\",\"y_test\"],[0.4545256228673391,\"Random Forest\",\"y_test\"],[0.4545256228673391,\"Random Forest\",\"y_test\"],[0.4545256228673391,\"Random Forest\",\"y_test\"],[0.4545256228673391,\"Random Forest\",\"y_test\"],[0.4545256228673391,\"Random Forest\",\"y_test\"],[0.4545256228673391,\"Random Forest\",\"y_test\"],[0.4545256228673391,\"Random Forest\",\"y_test\"],[0.4545256228673391,\"Random Forest\",\"y_test\"],[0.4545256228673391,\"Random Forest\",\"y_test\"],[0.4545256228673391,\"Random Forest\",\"y_test\"],[0.4545256228673391,\"Random Forest\",\"y_test\"],[0.4545256228673391,\"Random Forest\",\"y_test\"],[0.4545256228673391,\"Random Forest\",\"y_test\"],[0.4545256228673391,\"Random Forest\",\"y_test\"],[0.4545256228673391,\"Random Forest\",\"y_test\"],[0.4545256228673391,\"Random Forest\",\"y_test\"],[0.4545256228673391,\"Random Forest\",\"y_test\"],[0.4545256228673391,\"Random Forest\",\"y_test\"],[0.4545256228673391,\"Random Forest\",\"y_test\"]],\"hovertemplate\":\"<b>%{hovertext}</b><br><br>prediction=%{y:.3f}<br>mean_prediction=%{customdata[0]:.3f}<extra></extra>\",\"hovertext\":[\"Random Forest\",\"Random Forest\",\"Random Forest\",\"Random Forest\",\"Random Forest\",\"Random Forest\",\"Random Forest\",\"Random Forest\",\"Random Forest\",\"Random Forest\",\"Random Forest\",\"Random Forest\",\"Random Forest\",\"Random Forest\",\"Random Forest\",\"Random Forest\",\"Random Forest\",\"Random Forest\",\"Random Forest\",\"Random Forest\",\"Random Forest\",\"Random Forest\",\"Random Forest\",\"Random Forest\",\"Random Forest\",\"Random Forest\",\"Random Forest\",\"Random Forest\",\"Random Forest\",\"Random Forest\",\"Random Forest\",\"Random Forest\",\"Random Forest\",\"Random Forest\",\"Random Forest\",\"Random Forest\",\"Random Forest\",\"Random Forest\",\"Random Forest\",\"Random Forest\",\"Random Forest\",\"Random Forest\",\"Random Forest\",\"Random Forest\",\"Random Forest\",\"Random Forest\",\"Random Forest\",\"Random Forest\",\"Random Forest\",\"Random Forest\",\"Random Forest\",\"Random Forest\",\"Random Forest\",\"Random Forest\",\"Random Forest\",\"Random Forest\",\"Random Forest\",\"Random Forest\",\"Random Forest\",\"Random Forest\",\"Random Forest\",\"Random Forest\",\"Random Forest\",\"Random Forest\",\"Random Forest\",\"Random Forest\",\"Random Forest\",\"Random Forest\",\"Random Forest\",\"Random Forest\",\"Random Forest\",\"Random Forest\",\"Random Forest\",\"Random Forest\",\"Random Forest\",\"Random Forest\",\"Random Forest\",\"Random Forest\",\"Random Forest\",\"Random Forest\",\"Random Forest\",\"Random Forest\",\"Random Forest\",\"Random Forest\",\"Random Forest\",\"Random Forest\",\"Random Forest\",\"Random Forest\",\"Random Forest\",\"Random Forest\",\"Random Forest\",\"Random Forest\",\"Random Forest\",\"Random Forest\",\"Random Forest\",\"Random Forest\",\"Random Forest\",\"Random Forest\",\"Random Forest\",\"Random Forest\",\"Random Forest\"],\"legendgroup\":\"Random Forest\",\"line\":{\"color\":\"#4378bf\",\"dash\":\"solid\",\"width\":2},\"marker\":{\"symbol\":\"circle\"},\"mode\":\"lines\",\"name\":\"Random Forest\",\"orientation\":\"v\",\"showlegend\":false,\"x\":[0.0,0.01,0.02,0.03,0.04,0.05,0.06,0.07,0.08,0.09,0.1,0.11,0.12,0.13,0.14,0.15,0.16,0.17,0.18,0.19,0.2,0.21,0.22,0.23,0.24,0.25,0.26,0.27,0.28,0.29,0.3,0.31,0.32,0.33,0.34,0.35000000000000003,0.36,0.37,0.38,0.39,0.4,0.41000000000000003,0.42,0.43,0.44,0.45,0.46,0.47000000000000003,0.48,0.49,0.5,0.51,0.52,0.53,0.54,0.55,0.56,0.5700000000000001,0.58,0.59,0.6,0.61,0.62,0.63,0.64,0.65,0.66,0.67,0.68,0.6900000000000001,0.7000000000000001,0.71,0.72,0.73,0.74,0.75,0.76,0.77,0.78,0.79,0.8,0.81,0.8200000000000001,0.8300000000000001,0.84,0.85,0.86,0.87,0.88,0.89,0.9,0.91,0.92,0.93,0.9400000000000001,0.9500000000000001,0.96,0.97,0.98,0.99,1.0],\"xaxis\":\"x\",\"y\":[0.4545256228673391,0.4545256228673391,0.4545256228673391,0.4545256228673391,0.4545256228673391,0.4545256228673391,0.4545256228673391,0.4545256228673391,0.4545256228673391,0.4545256228673391,0.4545256228673391,0.4545256228673391,0.4545256228673391,0.4545256228673391,0.4545256228673391,0.4545256228673391,0.4545256228673391,0.4545256228673391,0.4545256228673391,0.4545256228673391,0.4545256228673391,0.4545256228673391,0.4545256228673391,0.4545256228673391,0.4545256228673391,0.4545256228673391,0.4545256228673391,0.4545256228673391,0.4545256228673391,0.4545256228673391,0.4545256228673391,0.4545256228673391,0.4545256228673391,0.4545256228673391,0.4545256228673391,0.4545256228673391,0.4545256228673391,0.4545256228673391,0.4545256228673391,0.4545256228673391,0.4545256228673391,0.4545256228673391,0.4545256228673391,0.4545256228673391,0.4545256228673391,0.4545256228673391,0.4545256228673391,0.4545256228673391,0.4545256228673391,0.4545256228673391,0.4545256228673391,0.4545256228673391,0.4545256228673391,0.4545256228673391,0.4545256228673391,0.4545256228673391,0.4545256228673391,0.4545256228673391,0.4545256228673391,0.4545256228673391,0.4545256228673391,0.4545256228673391,0.4545256228673391,0.4545256228673391,0.4545256228673391,0.4545256228673391,0.4545256228673391,0.4545256228673391,0.4545256228673391,0.4545256228673391,0.4545256228673391,0.4545256228673391,0.4545256228673391,0.4545256228673391,0.4545256228673391,0.4545256228673391,0.4545256228673391,0.4545256228673391,0.4545256228673391,0.4545256228673391,0.4545256228673391,0.4545256228673391,0.4545256228673391,0.4545256228673391,0.4545256228673391,0.4545256228673391,0.4545256228673391,0.4545256228673391,0.4545256228673391,0.4545256228673391,0.4545256228673391,0.4545256228673391,0.4545256228673391,0.4545256228673391,0.4545256228673391,0.4545256228673391,0.4545256228673391,0.4545256228673391,0.4545256228673391,0.4545256228673391,0.4545256228673391],\"yaxis\":\"y\",\"type\":\"scatter\",\"opacity\":1},{\"customdata\":[[0.4545256228673391,\"Random Forest\",\"y_pred\"],[0.4545256228673391,\"Random Forest\",\"y_pred\"],[0.4545256228673391,\"Random Forest\",\"y_pred\"],[0.4545256228673391,\"Random Forest\",\"y_pred\"],[0.4545256228673391,\"Random Forest\",\"y_pred\"],[0.4545256228673391,\"Random Forest\",\"y_pred\"],[0.4545256228673391,\"Random Forest\",\"y_pred\"],[0.4545256228673391,\"Random Forest\",\"y_pred\"],[0.4545256228673391,\"Random Forest\",\"y_pred\"],[0.4545256228673391,\"Random Forest\",\"y_pred\"],[0.4545256228673391,\"Random Forest\",\"y_pred\"],[0.4545256228673391,\"Random Forest\",\"y_pred\"],[0.4545256228673391,\"Random Forest\",\"y_pred\"],[0.4545256228673391,\"Random Forest\",\"y_pred\"],[0.4545256228673391,\"Random Forest\",\"y_pred\"],[0.4545256228673391,\"Random Forest\",\"y_pred\"],[0.4545256228673391,\"Random Forest\",\"y_pred\"],[0.4545256228673391,\"Random Forest\",\"y_pred\"],[0.4545256228673391,\"Random Forest\",\"y_pred\"],[0.4545256228673391,\"Random Forest\",\"y_pred\"],[0.4545256228673391,\"Random Forest\",\"y_pred\"],[0.4545256228673391,\"Random Forest\",\"y_pred\"],[0.4545256228673391,\"Random Forest\",\"y_pred\"],[0.4545256228673391,\"Random Forest\",\"y_pred\"],[0.4545256228673391,\"Random Forest\",\"y_pred\"],[0.4545256228673391,\"Random Forest\",\"y_pred\"],[0.4545256228673391,\"Random Forest\",\"y_pred\"],[0.4545256228673391,\"Random Forest\",\"y_pred\"],[0.4545256228673391,\"Random Forest\",\"y_pred\"],[0.4545256228673391,\"Random Forest\",\"y_pred\"],[0.4545256228673391,\"Random Forest\",\"y_pred\"],[0.4545256228673391,\"Random Forest\",\"y_pred\"],[0.4545256228673391,\"Random Forest\",\"y_pred\"],[0.4545256228673391,\"Random Forest\",\"y_pred\"],[0.4545256228673391,\"Random Forest\",\"y_pred\"],[0.4545256228673391,\"Random Forest\",\"y_pred\"],[0.4545256228673391,\"Random Forest\",\"y_pred\"],[0.4545256228673391,\"Random Forest\",\"y_pred\"],[0.4545256228673391,\"Random Forest\",\"y_pred\"],[0.4545256228673391,\"Random Forest\",\"y_pred\"],[0.4545256228673391,\"Random Forest\",\"y_pred\"],[0.4545256228673391,\"Random Forest\",\"y_pred\"],[0.4545256228673391,\"Random Forest\",\"y_pred\"],[0.4545256228673391,\"Random Forest\",\"y_pred\"],[0.4545256228673391,\"Random Forest\",\"y_pred\"],[0.4545256228673391,\"Random Forest\",\"y_pred\"],[0.4545256228673391,\"Random Forest\",\"y_pred\"],[0.4545256228673391,\"Random Forest\",\"y_pred\"],[0.4545256228673391,\"Random Forest\",\"y_pred\"],[0.4545256228673391,\"Random Forest\",\"y_pred\"],[0.4545256228673391,\"Random Forest\",\"y_pred\"],[0.4545256228673391,\"Random Forest\",\"y_pred\"],[0.4545256228673391,\"Random Forest\",\"y_pred\"],[0.4545256228673391,\"Random Forest\",\"y_pred\"],[0.4545256228673391,\"Random Forest\",\"y_pred\"],[0.4545256228673391,\"Random Forest\",\"y_pred\"],[0.4545256228673391,\"Random Forest\",\"y_pred\"],[0.4545256228673391,\"Random Forest\",\"y_pred\"],[0.4545256228673391,\"Random Forest\",\"y_pred\"],[0.4545256228673391,\"Random Forest\",\"y_pred\"],[0.4545256228673391,\"Random Forest\",\"y_pred\"],[0.4545256228673391,\"Random Forest\",\"y_pred\"],[0.4545256228673391,\"Random Forest\",\"y_pred\"],[0.4545256228673391,\"Random Forest\",\"y_pred\"],[0.4545256228673391,\"Random Forest\",\"y_pred\"],[0.4545256228673391,\"Random Forest\",\"y_pred\"],[0.4545256228673391,\"Random Forest\",\"y_pred\"],[0.4545256228673391,\"Random Forest\",\"y_pred\"],[0.4545256228673391,\"Random Forest\",\"y_pred\"],[0.4545256228673391,\"Random Forest\",\"y_pred\"],[0.4545256228673391,\"Random Forest\",\"y_pred\"],[0.4545256228673391,\"Random Forest\",\"y_pred\"],[0.4545256228673391,\"Random Forest\",\"y_pred\"],[0.4545256228673391,\"Random Forest\",\"y_pred\"],[0.4545256228673391,\"Random Forest\",\"y_pred\"],[0.4545256228673391,\"Random Forest\",\"y_pred\"],[0.4545256228673391,\"Random Forest\",\"y_pred\"],[0.4545256228673391,\"Random Forest\",\"y_pred\"],[0.4545256228673391,\"Random Forest\",\"y_pred\"],[0.4545256228673391,\"Random Forest\",\"y_pred\"],[0.4545256228673391,\"Random Forest\",\"y_pred\"],[0.4545256228673391,\"Random Forest\",\"y_pred\"],[0.4545256228673391,\"Random Forest\",\"y_pred\"],[0.4545256228673391,\"Random Forest\",\"y_pred\"],[0.4545256228673391,\"Random Forest\",\"y_pred\"],[0.4545256228673391,\"Random Forest\",\"y_pred\"],[0.4545256228673391,\"Random Forest\",\"y_pred\"],[0.4545256228673391,\"Random Forest\",\"y_pred\"],[0.4545256228673391,\"Random Forest\",\"y_pred\"],[0.4545256228673391,\"Random Forest\",\"y_pred\"],[0.4545256228673391,\"Random Forest\",\"y_pred\"],[0.4545256228673391,\"Random Forest\",\"y_pred\"],[0.4545256228673391,\"Random Forest\",\"y_pred\"],[0.4545256228673391,\"Random Forest\",\"y_pred\"],[0.4545256228673391,\"Random Forest\",\"y_pred\"],[0.4545256228673391,\"Random Forest\",\"y_pred\"],[0.4545256228673391,\"Random Forest\",\"y_pred\"],[0.4545256228673391,\"Random Forest\",\"y_pred\"],[0.4545256228673391,\"Random Forest\",\"y_pred\"],[0.4545256228673391,\"Random Forest\",\"y_pred\"],[0.4545256228673391,\"Random Forest\",\"y_pred\"]],\"hovertemplate\":\"<b>%{hovertext}</b><br><br>prediction=%{y:.3f}<br>mean_prediction=%{customdata[0]:.3f}<extra></extra>\",\"hovertext\":[\"Random Forest\",\"Random Forest\",\"Random Forest\",\"Random Forest\",\"Random Forest\",\"Random Forest\",\"Random Forest\",\"Random Forest\",\"Random Forest\",\"Random Forest\",\"Random Forest\",\"Random Forest\",\"Random Forest\",\"Random Forest\",\"Random Forest\",\"Random Forest\",\"Random Forest\",\"Random Forest\",\"Random Forest\",\"Random Forest\",\"Random Forest\",\"Random Forest\",\"Random Forest\",\"Random Forest\",\"Random Forest\",\"Random Forest\",\"Random Forest\",\"Random Forest\",\"Random Forest\",\"Random Forest\",\"Random Forest\",\"Random Forest\",\"Random Forest\",\"Random Forest\",\"Random Forest\",\"Random Forest\",\"Random Forest\",\"Random Forest\",\"Random Forest\",\"Random Forest\",\"Random Forest\",\"Random Forest\",\"Random Forest\",\"Random Forest\",\"Random Forest\",\"Random Forest\",\"Random Forest\",\"Random Forest\",\"Random Forest\",\"Random Forest\",\"Random Forest\",\"Random Forest\",\"Random Forest\",\"Random Forest\",\"Random Forest\",\"Random Forest\",\"Random Forest\",\"Random Forest\",\"Random Forest\",\"Random Forest\",\"Random Forest\",\"Random Forest\",\"Random Forest\",\"Random Forest\",\"Random Forest\",\"Random Forest\",\"Random Forest\",\"Random Forest\",\"Random Forest\",\"Random Forest\",\"Random Forest\",\"Random Forest\",\"Random Forest\",\"Random Forest\",\"Random Forest\",\"Random Forest\",\"Random Forest\",\"Random Forest\",\"Random Forest\",\"Random Forest\",\"Random Forest\",\"Random Forest\",\"Random Forest\",\"Random Forest\",\"Random Forest\",\"Random Forest\",\"Random Forest\",\"Random Forest\",\"Random Forest\",\"Random Forest\",\"Random Forest\",\"Random Forest\",\"Random Forest\",\"Random Forest\",\"Random Forest\",\"Random Forest\",\"Random Forest\",\"Random Forest\",\"Random Forest\",\"Random Forest\",\"Random Forest\"],\"legendgroup\":\"Random Forest\",\"line\":{\"color\":\"#4378bf\",\"dash\":\"solid\",\"width\":2},\"marker\":{\"symbol\":\"circle\"},\"mode\":\"lines\",\"name\":\"Random Forest\",\"orientation\":\"v\",\"showlegend\":false,\"x\":[0.0,0.01,0.02,0.03,0.04,0.05,0.06,0.07,0.08,0.09,0.1,0.11,0.12,0.13,0.14,0.15,0.16,0.17,0.18,0.19,0.2,0.21,0.22,0.23,0.24,0.25,0.26,0.27,0.28,0.29,0.3,0.31,0.32,0.33,0.34,0.35000000000000003,0.36,0.37,0.38,0.39,0.4,0.41000000000000003,0.42,0.43,0.44,0.45,0.46,0.47000000000000003,0.48,0.49,0.5,0.51,0.52,0.53,0.54,0.55,0.56,0.5700000000000001,0.58,0.59,0.6,0.61,0.62,0.63,0.64,0.65,0.66,0.67,0.68,0.6900000000000001,0.7000000000000001,0.71,0.72,0.73,0.74,0.75,0.76,0.77,0.78,0.79,0.8,0.81,0.8200000000000001,0.8300000000000001,0.84,0.85,0.86,0.87,0.88,0.89,0.9,0.91,0.92,0.93,0.9400000000000001,0.9500000000000001,0.96,0.97,0.98,0.99,1.0],\"xaxis\":\"x2\",\"y\":[0.4545256228673391,0.4545256228673391,0.4545256228673391,0.4545256228673391,0.4545256228673391,0.4545256228673391,0.4545256228673391,0.4545256228673391,0.4545256228673391,0.4545256228673391,0.4545256228673391,0.4545256228673391,0.4545256228673391,0.4545256228673391,0.4545256228673391,0.4545256228673391,0.4545256228673391,0.4545256228673391,0.4545256228673391,0.4545256228673391,0.4545256228673391,0.4545256228673391,0.4545256228673391,0.4545256228673391,0.4545256228673391,0.4545256228673391,0.4545256228673391,0.4545256228673391,0.4545256228673391,0.4545256228673391,0.4545256228673391,0.4545256228673391,0.4545256228673391,0.4545256228673391,0.4545256228673391,0.4545256228673391,0.4545256228673391,0.4545256228673391,0.4545256228673391,0.4545256228673391,0.4545256228673391,0.4545256228673391,0.4545256228673391,0.4545256228673391,0.4545256228673391,0.4545256228673391,0.4545256228673391,0.4545256228673391,0.4545256228673391,0.4545256228673391,0.4545256228673391,0.4545256228673391,0.4545256228673391,0.4545256228673391,0.4545256228673391,0.4545256228673391,0.4545256228673391,0.4545256228673391,0.4545256228673391,0.4545256228673391,0.4545256228673391,0.4545256228673391,0.4545256228673391,0.4545256228673391,0.4545256228673391,0.4545256228673391,0.4545256228673391,0.4545256228673391,0.4545256228673391,0.4545256228673391,0.4545256228673391,0.4545256228673391,0.4545256228673391,0.4545256228673391,0.4545256228673391,0.4545256228673391,0.4545256228673391,0.4545256228673391,0.4545256228673391,0.4545256228673391,0.4545256228673391,0.4545256228673391,0.4545256228673391,0.4545256228673391,0.4545256228673391,0.4545256228673391,0.4545256228673391,0.4545256228673391,0.4545256228673391,0.4545256228673391,0.4545256228673391,0.4545256228673391,0.4545256228673391,0.4545256228673391,0.4545256228673391,0.4545256228673391,0.4545256228673391,0.4545256228673391,0.4545256228673391,0.4545256228673391,0.4545256228673391],\"yaxis\":\"y2\",\"type\":\"scatter\",\"opacity\":1}],                        {\"template\":{\"data\":{\"scatter\":[{\"type\":\"scatter\"}]}},\"xaxis\":{\"anchor\":\"y\",\"domain\":[0.0,0.475],\"title\":{\"text\":\"\"},\"showticklabels\":true,\"type\":\"linear\",\"gridwidth\":2,\"zeroline\":false,\"automargin\":true,\"ticks\":\"outside\",\"tickcolor\":\"white\",\"ticklen\":3,\"fixedrange\":true},\"yaxis\":{\"anchor\":\"x\",\"domain\":[0.0,0.425],\"title\":{\"text\":\"\"},\"range\":[0.05903981853513143,1.0771800599617223],\"type\":\"linear\",\"gridwidth\":2,\"zeroline\":false,\"automargin\":true,\"ticks\":\"outside\",\"tickcolor\":\"white\",\"ticklen\":3,\"fixedrange\":true},\"xaxis2\":{\"anchor\":\"y2\",\"domain\":[0.525,1.0],\"title\":{\"text\":\"\"},\"showticklabels\":true,\"type\":\"linear\",\"gridwidth\":2,\"zeroline\":false,\"automargin\":true,\"ticks\":\"outside\",\"tickcolor\":\"white\",\"ticklen\":3,\"fixedrange\":true},\"yaxis2\":{\"anchor\":\"x2\",\"domain\":[0.0,0.425],\"matches\":\"y\",\"showticklabels\":false,\"type\":\"linear\",\"gridwidth\":2,\"zeroline\":false,\"automargin\":true,\"ticks\":\"outside\",\"tickcolor\":\"white\",\"ticklen\":3,\"fixedrange\":true,\"title\":{\"text\":\"\"}},\"xaxis3\":{\"anchor\":\"y3\",\"domain\":[0.0,0.475],\"showticklabels\":true,\"type\":\"linear\",\"gridwidth\":2,\"zeroline\":false,\"automargin\":true,\"ticks\":\"outside\",\"tickcolor\":\"white\",\"ticklen\":3,\"fixedrange\":true,\"title\":{\"text\":\"\"}},\"yaxis3\":{\"anchor\":\"x3\",\"domain\":[0.575,1.0],\"matches\":\"y\",\"title\":{\"text\":\"\"},\"range\":[0.05903981853513143,1.0771800599617223],\"type\":\"linear\",\"gridwidth\":2,\"zeroline\":false,\"automargin\":true,\"ticks\":\"outside\",\"tickcolor\":\"white\",\"ticklen\":3,\"fixedrange\":true},\"xaxis4\":{\"anchor\":\"y4\",\"domain\":[0.525,1.0],\"showticklabels\":true,\"type\":\"linear\",\"gridwidth\":2,\"zeroline\":false,\"automargin\":true,\"ticks\":\"outside\",\"tickcolor\":\"white\",\"ticklen\":3,\"fixedrange\":true,\"title\":{\"text\":\"\"}},\"yaxis4\":{\"anchor\":\"x4\",\"domain\":[0.575,1.0],\"matches\":\"y\",\"showticklabels\":false,\"type\":\"linear\",\"gridwidth\":2,\"zeroline\":false,\"automargin\":true,\"ticks\":\"outside\",\"tickcolor\":\"white\",\"ticklen\":3,\"fixedrange\":true,\"title\":{\"text\":\"\"}},\"annotations\":[{\"font\":{\"size\":13},\"showarrow\":false,\"text\":\"y_test\",\"x\":0.2375,\"xanchor\":\"center\",\"xref\":\"paper\",\"y\":0.425,\"yanchor\":\"bottom\",\"yref\":\"paper\"},{\"font\":{\"size\":13},\"showarrow\":false,\"text\":\"y_pred\",\"x\":0.7625,\"xanchor\":\"center\",\"xref\":\"paper\",\"y\":0.425,\"yanchor\":\"bottom\",\"yref\":\"paper\"},{\"font\":{\"size\":13},\"showarrow\":false,\"text\":\"age\",\"x\":0.2375,\"xanchor\":\"center\",\"xref\":\"paper\",\"y\":1.0,\"yanchor\":\"bottom\",\"yref\":\"paper\"},{\"font\":{\"size\":13},\"showarrow\":false,\"text\":\"priors_count\",\"x\":0.7625,\"xanchor\":\"center\",\"xref\":\"paper\",\"y\":1.0,\"yanchor\":\"bottom\",\"yref\":\"paper\"},{\"font\":{\"size\":13},\"showarrow\":false,\"text\":\"prediction\",\"textangle\":-90,\"x\":-0.07,\"xref\":\"paper\",\"y\":0.5,\"yref\":\"paper\"}],\"legend\":{\"title\":{\"text\":\"label\",\"font\":{\"size\":12}},\"tracegroupgap\":0,\"font\":{\"size\":11},\"orientation\":\"h\",\"yanchor\":\"bottom\",\"y\":1.0361881785283473,\"xanchor\":\"right\",\"x\":1,\"itemsizing\":\"constant\"},\"margin\":{\"t\":78,\"b\":71,\"r\":30},\"font\":{\"color\":\"#371ea3\"},\"title\":{\"font\":{\"size\":16},\"text\":\"Aggregated Profiles\",\"x\":0.15},\"hovermode\":\"x unified\",\"height\":829},                        {\"displaylogo\": false, \"staticPlot\": false, \"toImageButtonOptions\": {\"height\": null, \"width\": null}, \"modeBarButtonsToRemove\": [\"sendDataToCloud\", \"lasso2d\", \"autoScale2d\", \"select2d\", \"zoom2d\", \"pan2d\", \"zoomIn2d\", \"zoomOut2d\", \"resetScale2d\", \"toggleSpikelines\", \"hoverCompareCartesian\", \"hoverClosestCartesian\"], \"responsive\": true}                    ).then(function(){\n",
              "                            \n",
              "var gd = document.getElementById('808934be-e137-4ce4-9131-73e37af732d8');\n",
              "var x = new MutationObserver(function (mutations, observer) {{\n",
              "        var display = window.getComputedStyle(gd).display;\n",
              "        if (!display || display === 'none') {{\n",
              "            console.log([gd, 'removed!']);\n",
              "            Plotly.purge(gd);\n",
              "            observer.disconnect();\n",
              "        }}\n",
              "}});\n",
              "\n",
              "// Listen for the removal of the full notebook cells\n",
              "var notebookContainer = gd.closest('#notebook-container');\n",
              "if (notebookContainer) {{\n",
              "    x.observe(notebookContainer, {childList: true});\n",
              "}}\n",
              "\n",
              "// Listen for the clearing of the current output cell\n",
              "var outputEl = gd.closest('.output');\n",
              "if (outputEl) {{\n",
              "    x.observe(outputEl, {childList: true});\n",
              "}}\n",
              "\n",
              "                        })                };                            </script>        </div>\n",
              "</body>\n",
              "</html>"
            ]
          },
          "metadata": {}
        }
      ],
      "source": [
        "m_pdp_list[0].plot(m_pdp_list[1:])"
      ]
    },
    {
      "cell_type": "markdown",
      "id": "c3e29ba8-7de3-4d24-9ab4-8096f41258b4",
      "metadata": {
        "id": "c3e29ba8-7de3-4d24-9ab4-8096f41258b4"
      },
      "source": [
        "In the case of categorical variables, it is interesting to focus on race. The results show that being African-American increases the probability of recidivism for all three models, while the other races decrease it. This is related to the fact that, as a Washington Post article explains, if the recidivism rate for white and black defendants is the same within each risk category, and if black defendants have a higher overall recidivism rate, then a greater share of black defendants will be classified as high risk (will recidivate). As well, being female reduces the probability of recidivism, as does committing a misdemeanor crime.\n",
        "\n",
        "When analyzing all categorical variables, the green bar for logistic regression is always bigger than the blue one for random forest. This is expected because, in general, random forest models shrink predictions towards the average."
      ]
    },
    {
      "cell_type": "code",
      "execution_count": 143,
      "id": "bf28714d-ab4d-423a-904e-7217cc02123a",
      "metadata": {
        "colab": {
          "base_uri": "https://localhost:8080/",
          "height": 901
        },
        "id": "bf28714d-ab4d-423a-904e-7217cc02123a",
        "outputId": "2db19faa-c16c-45e6-f52a-7354a958edad"
      },
      "outputs": [
        {
          "output_type": "stream",
          "name": "stderr",
          "text": [
            "Calculating ceteris paribus: 100%|██████████| 7/7 [00:00<00:00, 36.31it/s]\n",
            "Calculating ceteris paribus: 100%|██████████| 7/7 [00:00<00:00, 47.82it/s]\n",
            "Calculating ceteris paribus: 100%|██████████| 7/7 [00:01<00:00,  5.19it/s]\n"
          ]
        },
        {
          "output_type": "display_data",
          "data": {
            "text/html": [
              "<html>\n",
              "<head><meta charset=\"utf-8\" /></head>\n",
              "<body>\n",
              "    <div>            <script src=\"https://cdnjs.cloudflare.com/ajax/libs/mathjax/2.7.5/MathJax.js?config=TeX-AMS-MML_SVG\"></script><script type=\"text/javascript\">if (window.MathJax) {MathJax.Hub.Config({SVG: {font: \"STIX-Web\"}});}</script>                <script type=\"text/javascript\">window.PlotlyConfig = {MathJaxConfig: 'local'};</script>\n",
              "        <script src=\"https://cdn.plot.ly/plotly-2.8.3.min.js\"></script>                <div id=\"7915d401-b3b7-4f16-976d-7cb09320c45c\" class=\"plotly-graph-div\" style=\"height:829px; width:100%;\"></div>            <script type=\"text/javascript\">                                    window.PLOTLYENV=window.PLOTLYENV || {};                                    if (document.getElementById(\"7915d401-b3b7-4f16-976d-7cb09320c45c\")) {                    Plotly.newPlot(                        \"7915d401-b3b7-4f16-976d-7cb09320c45c\",                        [{\"alignmentgroup\":\"True\",\"base\":[0.46388957597714464,0.46388957597714464],\"customdata\":[[0.4767126811132587,\"Logistic Regression\",\"sex\"],[0.4067221634120719,\"Logistic Regression\",\"sex\"]],\"hovertemplate\":\"<b>%{hovertext}</b><br><br>mean_prediction=%{base:.3f}<br>prediction=%{customdata[0]:.3f}<extra></extra>\",\"hovertext\":[\"Logistic Regression\",\"Logistic Regression\"],\"legendgroup\":\"Logistic Regression\",\"marker\":{\"color\":\"#8bdcbe\",\"pattern\":{\"shape\":\"\"}},\"name\":\"Logistic Regression\",\"offsetgroup\":\"Logistic Regression\",\"orientation\":\"v\",\"showlegend\":true,\"textposition\":\"auto\",\"x\":[\"Male\",\"Female\"],\"xaxis\":\"x3\",\"y\":[0.012823105136114066,-0.05716741256507274],\"yaxis\":\"y3\",\"type\":\"bar\"},{\"alignmentgroup\":\"True\",\"base\":[0.46388957597714464,0.46388957597714464,0.46388957597714464,0.46388957597714464],\"customdata\":[[0.461594673354908,\"Logistic Regression\",\"race\"],[0.4792599219529109,\"Logistic Regression\",\"race\"],[0.4127846823183207,\"Logistic Regression\",\"race\"],[0.41839046649273764,\"Logistic Regression\",\"race\"]],\"hovertemplate\":\"<b>%{hovertext}</b><br><br>mean_prediction=%{base:.3f}<br>prediction=%{customdata[0]:.3f}<extra></extra>\",\"hovertext\":[\"Logistic Regression\",\"Logistic Regression\",\"Logistic Regression\",\"Logistic Regression\"],\"legendgroup\":\"Logistic Regression\",\"marker\":{\"color\":\"#8bdcbe\",\"pattern\":{\"shape\":\"\"}},\"name\":\"Logistic Regression\",\"offsetgroup\":\"Logistic Regression\",\"orientation\":\"v\",\"showlegend\":false,\"textposition\":\"auto\",\"x\":[\"Caucasian\",\"African-American\",\"Hispanic\",\"Other\"],\"xaxis\":\"x4\",\"y\":[-0.0022949026222366387,0.015370345975766253,-0.051104893658823924,-0.045499109484407],\"yaxis\":\"y4\",\"type\":\"bar\"},{\"alignmentgroup\":\"True\",\"base\":[0.46388957597714464,0.46388957597714464],\"customdata\":[[0.4336119221245903,\"Logistic Regression\",\"c_charge_degree\"],[0.47702884299919246,\"Logistic Regression\",\"c_charge_degree\"]],\"hovertemplate\":\"<b>%{hovertext}</b><br><br>mean_prediction=%{base:.3f}<br>prediction=%{customdata[0]:.3f}<extra></extra>\",\"hovertext\":[\"Logistic Regression\",\"Logistic Regression\"],\"legendgroup\":\"Logistic Regression\",\"marker\":{\"color\":\"#8bdcbe\",\"pattern\":{\"shape\":\"\"}},\"name\":\"Logistic Regression\",\"offsetgroup\":\"Logistic Regression\",\"orientation\":\"v\",\"showlegend\":false,\"textposition\":\"auto\",\"x\":[\"M\",\"F\"],\"xaxis\":\"x\",\"y\":[-0.03027765385255432,0.013139267022047818],\"yaxis\":\"y\",\"type\":\"bar\"},{\"alignmentgroup\":\"True\",\"base\":[0.43446112562299805,0.43446112562299805],\"customdata\":[[0.43960687414551103,\"Decision Tree\",\"sex\"],[0.39793570282728596,\"Decision Tree\",\"sex\"]],\"hovertemplate\":\"<b>%{hovertext}</b><br><br>mean_prediction=%{base:.3f}<br>prediction=%{customdata[0]:.3f}<extra></extra>\",\"hovertext\":[\"Decision Tree\",\"Decision Tree\"],\"legendgroup\":\"Decision Tree\",\"marker\":{\"color\":\"#f05a71\",\"pattern\":{\"shape\":\"\"}},\"name\":\"Decision Tree\",\"offsetgroup\":\"Decision Tree\",\"orientation\":\"v\",\"showlegend\":true,\"textposition\":\"auto\",\"x\":[\"Male\",\"Female\"],\"xaxis\":\"x3\",\"y\":[0.005145748522512983,-0.03652542279571208],\"yaxis\":\"y3\",\"type\":\"bar\"},{\"alignmentgroup\":\"True\",\"base\":[0.43446112562299805,0.43446112562299805,0.43446112562299805,0.43446112562299805],\"customdata\":[[0.43250554287755044,\"Decision Tree\",\"race\"],[0.43959010969818535,\"Decision Tree\",\"race\"],[0.41114924527491975,\"Decision Tree\",\"race\"],[0.4032148598276906,\"Decision Tree\",\"race\"]],\"hovertemplate\":\"<b>%{hovertext}</b><br><br>mean_prediction=%{base:.3f}<br>prediction=%{customdata[0]:.3f}<extra></extra>\",\"hovertext\":[\"Decision Tree\",\"Decision Tree\",\"Decision Tree\",\"Decision Tree\"],\"legendgroup\":\"Decision Tree\",\"marker\":{\"color\":\"#f05a71\",\"pattern\":{\"shape\":\"\"}},\"name\":\"Decision Tree\",\"offsetgroup\":\"Decision Tree\",\"orientation\":\"v\",\"showlegend\":false,\"textposition\":\"auto\",\"x\":[\"Caucasian\",\"African-American\",\"Hispanic\",\"Other\"],\"xaxis\":\"x4\",\"y\":[-0.001955582745447604,0.005128984075187304,-0.023311880348078295,-0.031246265795307426],\"yaxis\":\"y4\",\"type\":\"bar\"},{\"alignmentgroup\":\"True\",\"base\":[0.43446112562299805,0.43446112562299805],\"customdata\":[[0.41757063254617693,\"Decision Tree\",\"c_charge_degree\"],[0.43964285571888745,\"Decision Tree\",\"c_charge_degree\"]],\"hovertemplate\":\"<b>%{hovertext}</b><br><br>mean_prediction=%{base:.3f}<br>prediction=%{customdata[0]:.3f}<extra></extra>\",\"hovertext\":[\"Decision Tree\",\"Decision Tree\"],\"legendgroup\":\"Decision Tree\",\"marker\":{\"color\":\"#f05a71\",\"pattern\":{\"shape\":\"\"}},\"name\":\"Decision Tree\",\"offsetgroup\":\"Decision Tree\",\"orientation\":\"v\",\"showlegend\":false,\"textposition\":\"auto\",\"x\":[\"M\",\"F\"],\"xaxis\":\"x\",\"y\":[-0.01689049307682111,0.005181730095889403],\"yaxis\":\"y\",\"type\":\"bar\"},{\"alignmentgroup\":\"True\",\"base\":[0.4437095287811102,0.4437095287811102],\"customdata\":[[0.4519906411716962,\"Random Forest\",\"sex\"],[0.3971312075951711,\"Random Forest\",\"sex\"]],\"hovertemplate\":\"<b>%{hovertext}</b><br><br>mean_prediction=%{base:.3f}<br>prediction=%{customdata[0]:.3f}<extra></extra>\",\"hovertext\":[\"Random Forest\",\"Random Forest\"],\"legendgroup\":\"Random Forest\",\"marker\":{\"color\":\"#4378bf\",\"pattern\":{\"shape\":\"\"}},\"name\":\"Random Forest\",\"offsetgroup\":\"Random Forest\",\"orientation\":\"v\",\"showlegend\":true,\"textposition\":\"auto\",\"x\":[\"Male\",\"Female\"],\"xaxis\":\"x3\",\"y\":[0.008281112390585987,-0.046578321185939076],\"yaxis\":\"y3\",\"type\":\"bar\"},{\"alignmentgroup\":\"True\",\"base\":[0.4437095287811102,0.4437095287811102,0.4437095287811102,0.4437095287811102],\"customdata\":[[0.43343772368552946,\"Random Forest\",\"race\"],[0.4572533107267017,\"Random Forest\",\"race\"],[0.4066065231148769,\"Random Forest\",\"race\"],[0.4121776668830687,\"Random Forest\",\"race\"]],\"hovertemplate\":\"<b>%{hovertext}</b><br><br>mean_prediction=%{base:.3f}<br>prediction=%{customdata[0]:.3f}<extra></extra>\",\"hovertext\":[\"Random Forest\",\"Random Forest\",\"Random Forest\",\"Random Forest\"],\"legendgroup\":\"Random Forest\",\"marker\":{\"color\":\"#4378bf\",\"pattern\":{\"shape\":\"\"}},\"name\":\"Random Forest\",\"offsetgroup\":\"Random Forest\",\"orientation\":\"v\",\"showlegend\":false,\"textposition\":\"auto\",\"x\":[\"Caucasian\",\"African-American\",\"Hispanic\",\"Other\"],\"xaxis\":\"x4\",\"y\":[-0.010271805095580733,0.013543781945591526,-0.03710300566623331,-0.03153186189804147],\"yaxis\":\"y4\",\"type\":\"bar\"},{\"alignmentgroup\":\"True\",\"base\":[0.4437095287811102,0.4437095287811102],\"customdata\":[[0.42241765491347444,\"Random Forest\",\"c_charge_degree\"],[0.45275955418081243,\"Random Forest\",\"c_charge_degree\"]],\"hovertemplate\":\"<b>%{hovertext}</b><br><br>mean_prediction=%{base:.3f}<br>prediction=%{customdata[0]:.3f}<extra></extra>\",\"hovertext\":[\"Random Forest\",\"Random Forest\"],\"legendgroup\":\"Random Forest\",\"marker\":{\"color\":\"#4378bf\",\"pattern\":{\"shape\":\"\"}},\"name\":\"Random Forest\",\"offsetgroup\":\"Random Forest\",\"orientation\":\"v\",\"showlegend\":false,\"textposition\":\"auto\",\"x\":[\"M\",\"F\"],\"xaxis\":\"x\",\"y\":[-0.021291873867635758,0.009050025399702233],\"yaxis\":\"y\",\"type\":\"bar\"}],                        {\"template\":{\"data\":{\"scatter\":[{\"type\":\"scatter\"}]}},\"xaxis\":{\"anchor\":\"y\",\"domain\":[0.0,0.475],\"title\":{\"text\":\"\"},\"showticklabels\":true,\"type\":\"category\",\"gridwidth\":2,\"automargin\":true,\"ticks\":\"outside\",\"tickcolor\":\"white\",\"ticklen\":10,\"fixedrange\":true},\"yaxis\":{\"anchor\":\"x\",\"domain\":[0.0,0.425],\"title\":{\"text\":\"\"},\"range\":[0.38891833615939714,0.4874727933886849],\"type\":\"linear\",\"gridwidth\":2,\"zeroline\":false,\"automargin\":true,\"ticks\":\"outside\",\"tickcolor\":\"white\",\"ticklen\":3,\"fixedrange\":true},\"xaxis2\":{\"anchor\":\"y2\",\"domain\":[0.525,1.0],\"title\":{\"text\":\"\"},\"showticklabels\":true,\"type\":\"category\",\"gridwidth\":2,\"automargin\":true,\"ticks\":\"outside\",\"tickcolor\":\"white\",\"ticklen\":10,\"fixedrange\":true},\"yaxis2\":{\"anchor\":\"x2\",\"domain\":[0.0,0.425],\"matches\":\"y\",\"showticklabels\":false,\"type\":\"linear\",\"gridwidth\":2,\"zeroline\":false,\"automargin\":true,\"ticks\":\"outside\",\"tickcolor\":\"white\",\"ticklen\":3,\"fixedrange\":true,\"title\":{\"text\":\"\"}},\"xaxis3\":{\"anchor\":\"y3\",\"domain\":[0.0,0.475],\"showticklabels\":true,\"type\":\"category\",\"gridwidth\":2,\"automargin\":true,\"ticks\":\"outside\",\"tickcolor\":\"white\",\"ticklen\":10,\"fixedrange\":true,\"title\":{\"text\":\"\"}},\"yaxis3\":{\"anchor\":\"x3\",\"domain\":[0.575,1.0],\"matches\":\"y\",\"title\":{\"text\":\"\"},\"range\":[0.38891833615939714,0.4874727933886849],\"type\":\"linear\",\"gridwidth\":2,\"zeroline\":false,\"automargin\":true,\"ticks\":\"outside\",\"tickcolor\":\"white\",\"ticklen\":3,\"fixedrange\":true},\"xaxis4\":{\"anchor\":\"y4\",\"domain\":[0.525,1.0],\"showticklabels\":true,\"type\":\"category\",\"gridwidth\":2,\"automargin\":true,\"ticks\":\"outside\",\"tickcolor\":\"white\",\"ticklen\":10,\"fixedrange\":true,\"title\":{\"text\":\"\"}},\"yaxis4\":{\"anchor\":\"x4\",\"domain\":[0.575,1.0],\"matches\":\"y\",\"showticklabels\":false,\"type\":\"linear\",\"gridwidth\":2,\"zeroline\":false,\"automargin\":true,\"ticks\":\"outside\",\"tickcolor\":\"white\",\"ticklen\":3,\"fixedrange\":true,\"title\":{\"text\":\"\"}},\"annotations\":[{\"font\":{\"size\":13},\"showarrow\":false,\"text\":\"c_charge_degree\",\"x\":0.2375,\"xanchor\":\"center\",\"xref\":\"paper\",\"y\":0.425,\"yanchor\":\"bottom\",\"yref\":\"paper\"},{\"font\":{\"size\":13},\"showarrow\":false,\"text\":\"sex\",\"x\":0.2375,\"xanchor\":\"center\",\"xref\":\"paper\",\"y\":1.0,\"yanchor\":\"bottom\",\"yref\":\"paper\"},{\"font\":{\"size\":13},\"showarrow\":false,\"text\":\"race\",\"x\":0.7625,\"xanchor\":\"center\",\"xref\":\"paper\",\"y\":1.0,\"yanchor\":\"bottom\",\"yref\":\"paper\"},{\"font\":{\"size\":13},\"showarrow\":false,\"text\":\"prediction\",\"textangle\":-90,\"x\":-0.07,\"xref\":\"paper\",\"y\":0.5,\"yref\":\"paper\"}],\"legend\":{\"title\":{\"text\":\"label\",\"font\":{\"size\":12}},\"tracegroupgap\":0,\"font\":{\"size\":11},\"orientation\":\"h\",\"yanchor\":\"bottom\",\"y\":1.0361881785283473,\"xanchor\":\"right\",\"x\":1,\"itemsizing\":\"constant\"},\"margin\":{\"t\":78,\"b\":71,\"r\":30},\"barmode\":\"group\",\"shapes\":[{\"layer\":\"below\",\"line\":{\"color\":\"#371ea3\",\"dash\":\"dot\",\"width\":1.5},\"type\":\"line\",\"x0\":0,\"x1\":1,\"xref\":\"x domain\",\"y0\":0.46388957597714464,\"y1\":0.46388957597714464,\"yref\":\"y\"},{\"layer\":\"below\",\"line\":{\"color\":\"#371ea3\",\"dash\":\"dot\",\"width\":1.5},\"type\":\"line\",\"x0\":0,\"x1\":1,\"xref\":\"x3 domain\",\"y0\":0.46388957597714464,\"y1\":0.46388957597714464,\"yref\":\"y3\"},{\"layer\":\"below\",\"line\":{\"color\":\"#371ea3\",\"dash\":\"dot\",\"width\":1.5},\"type\":\"line\",\"x0\":0,\"x1\":1,\"xref\":\"x4 domain\",\"y0\":0.46388957597714464,\"y1\":0.46388957597714464,\"yref\":\"y4\"},{\"layer\":\"below\",\"line\":{\"color\":\"#371ea3\",\"dash\":\"dot\",\"width\":1.5},\"type\":\"line\",\"x0\":0,\"x1\":1,\"xref\":\"x domain\",\"y0\":0.46388957597714464,\"y1\":0.46388957597714464,\"yref\":\"y\"},{\"layer\":\"below\",\"line\":{\"color\":\"#371ea3\",\"dash\":\"dot\",\"width\":1.5},\"type\":\"line\",\"x0\":0,\"x1\":1,\"xref\":\"x3 domain\",\"y0\":0.46388957597714464,\"y1\":0.46388957597714464,\"yref\":\"y3\"},{\"layer\":\"below\",\"line\":{\"color\":\"#371ea3\",\"dash\":\"dot\",\"width\":1.5},\"type\":\"line\",\"x0\":0,\"x1\":1,\"xref\":\"x4 domain\",\"y0\":0.46388957597714464,\"y1\":0.46388957597714464,\"yref\":\"y4\"},{\"layer\":\"below\",\"line\":{\"color\":\"#371ea3\",\"dash\":\"dot\",\"width\":1.5},\"type\":\"line\",\"x0\":0,\"x1\":1,\"xref\":\"x domain\",\"y0\":0.46388957597714464,\"y1\":0.46388957597714464,\"yref\":\"y\"},{\"layer\":\"below\",\"line\":{\"color\":\"#371ea3\",\"dash\":\"dot\",\"width\":1.5},\"type\":\"line\",\"x0\":0,\"x1\":1,\"xref\":\"x3 domain\",\"y0\":0.46388957597714464,\"y1\":0.46388957597714464,\"yref\":\"y3\"},{\"layer\":\"below\",\"line\":{\"color\":\"#371ea3\",\"dash\":\"dot\",\"width\":1.5},\"type\":\"line\",\"x0\":0,\"x1\":1,\"xref\":\"x4 domain\",\"y0\":0.46388957597714464,\"y1\":0.46388957597714464,\"yref\":\"y4\"},{\"layer\":\"below\",\"line\":{\"color\":\"#371ea3\",\"dash\":\"dot\",\"width\":1.5},\"type\":\"line\",\"x0\":0,\"x1\":1,\"xref\":\"x domain\",\"y0\":0.43446112562299805,\"y1\":0.43446112562299805,\"yref\":\"y\"},{\"layer\":\"below\",\"line\":{\"color\":\"#371ea3\",\"dash\":\"dot\",\"width\":1.5},\"type\":\"line\",\"x0\":0,\"x1\":1,\"xref\":\"x3 domain\",\"y0\":0.43446112562299805,\"y1\":0.43446112562299805,\"yref\":\"y3\"},{\"layer\":\"below\",\"line\":{\"color\":\"#371ea3\",\"dash\":\"dot\",\"width\":1.5},\"type\":\"line\",\"x0\":0,\"x1\":1,\"xref\":\"x4 domain\",\"y0\":0.43446112562299805,\"y1\":0.43446112562299805,\"yref\":\"y4\"},{\"layer\":\"below\",\"line\":{\"color\":\"#371ea3\",\"dash\":\"dot\",\"width\":1.5},\"type\":\"line\",\"x0\":0,\"x1\":1,\"xref\":\"x domain\",\"y0\":0.43446112562299805,\"y1\":0.43446112562299805,\"yref\":\"y\"},{\"layer\":\"below\",\"line\":{\"color\":\"#371ea3\",\"dash\":\"dot\",\"width\":1.5},\"type\":\"line\",\"x0\":0,\"x1\":1,\"xref\":\"x3 domain\",\"y0\":0.43446112562299805,\"y1\":0.43446112562299805,\"yref\":\"y3\"},{\"layer\":\"below\",\"line\":{\"color\":\"#371ea3\",\"dash\":\"dot\",\"width\":1.5},\"type\":\"line\",\"x0\":0,\"x1\":1,\"xref\":\"x4 domain\",\"y0\":0.43446112562299805,\"y1\":0.43446112562299805,\"yref\":\"y4\"},{\"layer\":\"below\",\"line\":{\"color\":\"#371ea3\",\"dash\":\"dot\",\"width\":1.5},\"type\":\"line\",\"x0\":0,\"x1\":1,\"xref\":\"x domain\",\"y0\":0.43446112562299805,\"y1\":0.43446112562299805,\"yref\":\"y\"},{\"layer\":\"below\",\"line\":{\"color\":\"#371ea3\",\"dash\":\"dot\",\"width\":1.5},\"type\":\"line\",\"x0\":0,\"x1\":1,\"xref\":\"x3 domain\",\"y0\":0.43446112562299805,\"y1\":0.43446112562299805,\"yref\":\"y3\"},{\"layer\":\"below\",\"line\":{\"color\":\"#371ea3\",\"dash\":\"dot\",\"width\":1.5},\"type\":\"line\",\"x0\":0,\"x1\":1,\"xref\":\"x4 domain\",\"y0\":0.43446112562299805,\"y1\":0.43446112562299805,\"yref\":\"y4\"},{\"layer\":\"below\",\"line\":{\"color\":\"#371ea3\",\"dash\":\"dot\",\"width\":1.5},\"type\":\"line\",\"x0\":0,\"x1\":1,\"xref\":\"x domain\",\"y0\":0.4437095287811102,\"y1\":0.4437095287811102,\"yref\":\"y\"},{\"layer\":\"below\",\"line\":{\"color\":\"#371ea3\",\"dash\":\"dot\",\"width\":1.5},\"type\":\"line\",\"x0\":0,\"x1\":1,\"xref\":\"x3 domain\",\"y0\":0.4437095287811102,\"y1\":0.4437095287811102,\"yref\":\"y3\"},{\"layer\":\"below\",\"line\":{\"color\":\"#371ea3\",\"dash\":\"dot\",\"width\":1.5},\"type\":\"line\",\"x0\":0,\"x1\":1,\"xref\":\"x4 domain\",\"y0\":0.4437095287811102,\"y1\":0.4437095287811102,\"yref\":\"y4\"},{\"layer\":\"below\",\"line\":{\"color\":\"#371ea3\",\"dash\":\"dot\",\"width\":1.5},\"type\":\"line\",\"x0\":0,\"x1\":1,\"xref\":\"x domain\",\"y0\":0.4437095287811102,\"y1\":0.4437095287811102,\"yref\":\"y\"},{\"layer\":\"below\",\"line\":{\"color\":\"#371ea3\",\"dash\":\"dot\",\"width\":1.5},\"type\":\"line\",\"x0\":0,\"x1\":1,\"xref\":\"x3 domain\",\"y0\":0.4437095287811102,\"y1\":0.4437095287811102,\"yref\":\"y3\"},{\"layer\":\"below\",\"line\":{\"color\":\"#371ea3\",\"dash\":\"dot\",\"width\":1.5},\"type\":\"line\",\"x0\":0,\"x1\":1,\"xref\":\"x4 domain\",\"y0\":0.4437095287811102,\"y1\":0.4437095287811102,\"yref\":\"y4\"},{\"layer\":\"below\",\"line\":{\"color\":\"#371ea3\",\"dash\":\"dot\",\"width\":1.5},\"type\":\"line\",\"x0\":0,\"x1\":1,\"xref\":\"x domain\",\"y0\":0.4437095287811102,\"y1\":0.4437095287811102,\"yref\":\"y\"},{\"layer\":\"below\",\"line\":{\"color\":\"#371ea3\",\"dash\":\"dot\",\"width\":1.5},\"type\":\"line\",\"x0\":0,\"x1\":1,\"xref\":\"x3 domain\",\"y0\":0.4437095287811102,\"y1\":0.4437095287811102,\"yref\":\"y3\"},{\"layer\":\"below\",\"line\":{\"color\":\"#371ea3\",\"dash\":\"dot\",\"width\":1.5},\"type\":\"line\",\"x0\":0,\"x1\":1,\"xref\":\"x4 domain\",\"y0\":0.4437095287811102,\"y1\":0.4437095287811102,\"yref\":\"y4\"}],\"font\":{\"color\":\"#371ea3\"},\"title\":{\"font\":{\"size\":16},\"text\":\"Aggregated Profiles\",\"x\":0.15},\"hovermode\":\"x unified\",\"height\":829},                        {\"displaylogo\": false, \"staticPlot\": false, \"toImageButtonOptions\": {\"height\": null, \"width\": null}, \"modeBarButtonsToRemove\": [\"sendDataToCloud\", \"lasso2d\", \"autoScale2d\", \"select2d\", \"zoom2d\", \"pan2d\", \"zoomIn2d\", \"zoomOut2d\", \"resetScale2d\", \"toggleSpikelines\", \"hoverCompareCartesian\", \"hoverClosestCartesian\"], \"responsive\": true}                    ).then(function(){\n",
              "                            \n",
              "var gd = document.getElementById('7915d401-b3b7-4f16-976d-7cb09320c45c');\n",
              "var x = new MutationObserver(function (mutations, observer) {{\n",
              "        var display = window.getComputedStyle(gd).display;\n",
              "        if (!display || display === 'none') {{\n",
              "            console.log([gd, 'removed!']);\n",
              "            Plotly.purge(gd);\n",
              "            observer.disconnect();\n",
              "        }}\n",
              "}});\n",
              "\n",
              "// Listen for the removal of the full notebook cells\n",
              "var notebookContainer = gd.closest('#notebook-container');\n",
              "if (notebookContainer) {{\n",
              "    x.observe(notebookContainer, {childList: true});\n",
              "}}\n",
              "\n",
              "// Listen for the clearing of the current output cell\n",
              "var outputEl = gd.closest('.output');\n",
              "if (outputEl) {{\n",
              "    x.observe(outputEl, {childList: true});\n",
              "}}\n",
              "\n",
              "                        })                };                            </script>        </div>\n",
              "</body>\n",
              "</html>"
            ]
          },
          "metadata": {}
        }
      ],
      "source": [
        "m_pdp_cate_list = [e.model_profile(variable_type = 'categorical') for e in exp_list]\n",
        "m_pdp_cate_list[0].plot(m_pdp_cate_list[1:])"
      ]
    },
    {
      "cell_type": "markdown",
      "id": "a89a2130-6896-42ba-981b-85464b1606b0",
      "metadata": {
        "id": "a89a2130-6896-42ba-981b-85464b1606b0"
      },
      "source": [
        "#### Instance-level Exploration"
      ]
    },
    {
      "cell_type": "markdown",
      "id": "9a3c630a-d029-446f-8017-407c52df0543",
      "metadata": {
        "id": "9a3c630a-d029-446f-8017-407c52df0543"
      },
      "source": [
        "The previous global explorations give us a comprehensive perspective on our model by highlighting errors, determining the variables with the greatest overall impact, and exploring predictor-response relationships across all observations. Now we will look at the model's behavior at the instance-level to understand why a specific prediction was made for a particular instance. DALEX uses a technique called [Break Down]((https://ema.drwhy.ai/breakDown.html#BDMethod) to calculate localized variable importance scores. The basic idea is to calculate the contribution of variable in prediction of f(x) as changes in the expected model response given other variables. However, the values of Break-down plots may vary based on the order of the variables as it examines the contribution of each variable to the prediction while holding the previous variables constant. Thus, we also use [SHapley Additive exPlanations (SHAP)](https://ema.drwhy.ai/shapley.html#shapley) to which is based on the concept of Shapley values for local explaination."
      ]
    },
    {
      "cell_type": "markdown",
      "id": "28ec9135-d134-4053-b881-79057e27d8bc",
      "metadata": {
        "id": "28ec9135-d134-4053-b881-79057e27d8bc"
      },
      "source": [
        "**First Sample**"
      ]
    },
    {
      "cell_type": "code",
      "execution_count": 144,
      "id": "0ef4579e-5b67-4467-b06a-eb354e7b200b",
      "metadata": {
        "colab": {
          "base_uri": "https://localhost:8080/",
          "height": 81
        },
        "id": "0ef4579e-5b67-4467-b06a-eb354e7b200b",
        "outputId": "2ee67bcf-fbbe-4e8f-86aa-4f28716af480"
      },
      "outputs": [
        {
          "output_type": "execute_result",
          "data": {
            "text/plain": [
              "         sex  age              race  priors_count c_charge_degree  y_test  \\\n",
              "6433  Female   25  African-American             5               F       1   \n",
              "\n",
              "      y_pred  \n",
              "6433       1  "
            ],
            "text/html": [
              "\n",
              "  <div id=\"df-629cac0f-81b9-41f3-9bae-4cf91a9ba412\">\n",
              "    <div class=\"colab-df-container\">\n",
              "      <div>\n",
              "<style scoped>\n",
              "    .dataframe tbody tr th:only-of-type {\n",
              "        vertical-align: middle;\n",
              "    }\n",
              "\n",
              "    .dataframe tbody tr th {\n",
              "        vertical-align: top;\n",
              "    }\n",
              "\n",
              "    .dataframe thead th {\n",
              "        text-align: right;\n",
              "    }\n",
              "</style>\n",
              "<table border=\"1\" class=\"dataframe\">\n",
              "  <thead>\n",
              "    <tr style=\"text-align: right;\">\n",
              "      <th></th>\n",
              "      <th>sex</th>\n",
              "      <th>age</th>\n",
              "      <th>race</th>\n",
              "      <th>priors_count</th>\n",
              "      <th>c_charge_degree</th>\n",
              "      <th>y_test</th>\n",
              "      <th>y_pred</th>\n",
              "    </tr>\n",
              "  </thead>\n",
              "  <tbody>\n",
              "    <tr>\n",
              "      <th>6433</th>\n",
              "      <td>Female</td>\n",
              "      <td>25</td>\n",
              "      <td>African-American</td>\n",
              "      <td>5</td>\n",
              "      <td>F</td>\n",
              "      <td>1</td>\n",
              "      <td>1</td>\n",
              "    </tr>\n",
              "  </tbody>\n",
              "</table>\n",
              "</div>\n",
              "      <button class=\"colab-df-convert\" onclick=\"convertToInteractive('df-629cac0f-81b9-41f3-9bae-4cf91a9ba412')\"\n",
              "              title=\"Convert this dataframe to an interactive table.\"\n",
              "              style=\"display:none;\">\n",
              "        \n",
              "  <svg xmlns=\"http://www.w3.org/2000/svg\" height=\"24px\"viewBox=\"0 0 24 24\"\n",
              "       width=\"24px\">\n",
              "    <path d=\"M0 0h24v24H0V0z\" fill=\"none\"/>\n",
              "    <path d=\"M18.56 5.44l.94 2.06.94-2.06 2.06-.94-2.06-.94-.94-2.06-.94 2.06-2.06.94zm-11 1L8.5 8.5l.94-2.06 2.06-.94-2.06-.94L8.5 2.5l-.94 2.06-2.06.94zm10 10l.94 2.06.94-2.06 2.06-.94-2.06-.94-.94-2.06-.94 2.06-2.06.94z\"/><path d=\"M17.41 7.96l-1.37-1.37c-.4-.4-.92-.59-1.43-.59-.52 0-1.04.2-1.43.59L10.3 9.45l-7.72 7.72c-.78.78-.78 2.05 0 2.83L4 21.41c.39.39.9.59 1.41.59.51 0 1.02-.2 1.41-.59l7.78-7.78 2.81-2.81c.8-.78.8-2.07 0-2.86zM5.41 20L4 18.59l7.72-7.72 1.47 1.35L5.41 20z\"/>\n",
              "  </svg>\n",
              "      </button>\n",
              "      \n",
              "  <style>\n",
              "    .colab-df-container {\n",
              "      display:flex;\n",
              "      flex-wrap:wrap;\n",
              "      gap: 12px;\n",
              "    }\n",
              "\n",
              "    .colab-df-convert {\n",
              "      background-color: #E8F0FE;\n",
              "      border: none;\n",
              "      border-radius: 50%;\n",
              "      cursor: pointer;\n",
              "      display: none;\n",
              "      fill: #1967D2;\n",
              "      height: 32px;\n",
              "      padding: 0 0 0 0;\n",
              "      width: 32px;\n",
              "    }\n",
              "\n",
              "    .colab-df-convert:hover {\n",
              "      background-color: #E2EBFA;\n",
              "      box-shadow: 0px 1px 2px rgba(60, 64, 67, 0.3), 0px 1px 3px 1px rgba(60, 64, 67, 0.15);\n",
              "      fill: #174EA6;\n",
              "    }\n",
              "\n",
              "    [theme=dark] .colab-df-convert {\n",
              "      background-color: #3B4455;\n",
              "      fill: #D2E3FC;\n",
              "    }\n",
              "\n",
              "    [theme=dark] .colab-df-convert:hover {\n",
              "      background-color: #434B5C;\n",
              "      box-shadow: 0px 1px 3px 1px rgba(0, 0, 0, 0.15);\n",
              "      filter: drop-shadow(0px 1px 2px rgba(0, 0, 0, 0.3));\n",
              "      fill: #FFFFFF;\n",
              "    }\n",
              "  </style>\n",
              "\n",
              "      <script>\n",
              "        const buttonEl =\n",
              "          document.querySelector('#df-629cac0f-81b9-41f3-9bae-4cf91a9ba412 button.colab-df-convert');\n",
              "        buttonEl.style.display =\n",
              "          google.colab.kernel.accessAllowed ? 'block' : 'none';\n",
              "\n",
              "        async function convertToInteractive(key) {\n",
              "          const element = document.querySelector('#df-629cac0f-81b9-41f3-9bae-4cf91a9ba412');\n",
              "          const dataTable =\n",
              "            await google.colab.kernel.invokeFunction('convertToInteractive',\n",
              "                                                     [key], {});\n",
              "          if (!dataTable) return;\n",
              "\n",
              "          const docLinkHtml = 'Like what you see? Visit the ' +\n",
              "            '<a target=\"_blank\" href=https://colab.research.google.com/notebooks/data_table.ipynb>data table notebook</a>'\n",
              "            + ' to learn more about interactive tables.';\n",
              "          element.innerHTML = '';\n",
              "          dataTable['output_type'] = 'display_data';\n",
              "          await google.colab.output.renderOutput(dataTable, element);\n",
              "          const docLink = document.createElement('div');\n",
              "          docLink.innerHTML = docLinkHtml;\n",
              "          element.appendChild(docLink);\n",
              "        }\n",
              "      </script>\n",
              "    </div>\n",
              "  </div>\n",
              "  "
            ]
          },
          "metadata": {},
          "execution_count": 144
        }
      ],
      "source": [
        "sample_1 = X_test.iloc[[3]]\n",
        "sample_1.head()"
      ]
    },
    {
      "cell_type": "markdown",
      "id": "ff65faa8-e062-42fa-9acc-1a200f3cc01a",
      "metadata": {
        "id": "ff65faa8-e062-42fa-9acc-1a200f3cc01a"
      },
      "source": [
        "When considering a 25-year-old African-American woman with 5 prior crimes charged with a felony, the global behavior of the variables applies to the local explanation of the prediction when fixing the values of the other variables: **her age, race, number of prior crimes, and charge increase the probability of recidivism, while her sex decreases it**.\n",
        "\n",
        "In both models, random forest and logistic regression, the variable race = African-American increases the probability of recidivism, but in the random forest, it has a greater weight (0.029 compared to 0.018 in logistic regression). The same occurs with the other variables, where they have a greater absolute contribution in the random forest than in logistic regression. This is different from the analysis conducted in the global explanation, where it was mentioned that the effect of the variable race is greater for logistic regression compared to random forest. Overall, the prediction is higher than the mean."
      ]
    },
    {
      "cell_type": "code",
      "execution_count": 145,
      "id": "7761f025-5901-4781-9de0-61cc41b0685e",
      "metadata": {
        "colab": {
          "base_uri": "https://localhost:8080/",
          "height": 858
        },
        "id": "7761f025-5901-4781-9de0-61cc41b0685e",
        "outputId": "59fcc320-d49c-49d9-ca0b-1eb2da96c7dc"
      },
      "outputs": [
        {
          "output_type": "display_data",
          "data": {
            "text/html": [
              "<html>\n",
              "<head><meta charset=\"utf-8\" /></head>\n",
              "<body>\n",
              "    <div>            <script src=\"https://cdnjs.cloudflare.com/ajax/libs/mathjax/2.7.5/MathJax.js?config=TeX-AMS-MML_SVG\"></script><script type=\"text/javascript\">if (window.MathJax) {MathJax.Hub.Config({SVG: {font: \"STIX-Web\"}});}</script>                <script type=\"text/javascript\">window.PlotlyConfig = {MathJaxConfig: 'local'};</script>\n",
              "        <script src=\"https://cdn.plot.ly/plotly-2.8.3.min.js\"></script>                <div id=\"b728fdc5-46d3-495b-b3e8-8f46c921a7fc\" class=\"plotly-graph-div\" style=\"height:841.0px; width:100%;\"></div>            <script type=\"text/javascript\">                                    window.PLOTLYENV=window.PLOTLYENV || {};                                    if (document.getElementById(\"b728fdc5-46d3-495b-b3e8-8f46c921a7fc\")) {                    Plotly.newPlot(                        \"b728fdc5-46d3-495b-b3e8-8f46c921a7fc\",                        [{\"base\":0.44892406202805973,\"connector\":{\"line\":{\"color\":\"#371ea3\",\"dash\":\"solid\",\"width\":1},\"mode\":\"spanning\"},\"decreasing\":{\"marker\":{\"color\":\"#f05a71\"}},\"hoverinfo\":\"text+delta\",\"hoverlabel\":{\"bgcolor\":\"rgba(0,0,0,0.8)\"},\"hovertext\":[\"Average response: 0.449<br>Prediction: 0.591\",\"age = 25.0<br>increases average response by\",\"priors_count = 5.0<br>increases average response by\",\"race = African-American<br>increases average response by\",\"c_charge_degree = F<br>increases average response by\",\"y_pred = 1.0<br>decreases average response by\",\"y_test = 1.0<br>decreases average response by\",\"sex = Female<br>decreases average response by\",\"Average response: 0.449<br>Prediction: 0.591\"],\"increasing\":{\"marker\":{\"color\":\"#8bdcbe\"}},\"measure\":[\"relative\",\"relative\",\"relative\",\"relative\",\"relative\",\"relative\",\"relative\",\"relative\",\"total\"],\"orientation\":\"h\",\"showlegend\":false,\"text\":[\"0.449\",\"+0.083\",\"+0.086\",\"+0.018\",\"+0.017\",\"0.0\",\"0.0\",\"-0.062\",\"0.591\"],\"textposition\":\"outside\",\"totals\":{\"marker\":{\"color\":\"#371ea3\"}},\"x\":[0.0,0.083,0.086,0.018,0.017,0.0,0.0,-0.062,0.142],\"y\":[\"intercept\",\"age = 25.0\",\"priors_count = 5.0\",\"race = African-American\",\"c_charge_degree = F\",\"y_pred = 1.0\",\"y_test = 1.0\",\"sex = Female\",\"prediction\"],\"type\":\"waterfall\",\"xaxis\":\"x\",\"yaxis\":\"y\"},{\"base\":0.44892406202805973,\"connector\":{\"line\":{\"color\":\"#371ea3\",\"dash\":\"solid\",\"width\":1},\"mode\":\"spanning\"},\"decreasing\":{\"marker\":{\"color\":\"#f05a71\"}},\"hoverinfo\":\"text+delta\",\"hoverlabel\":{\"bgcolor\":\"rgba(0,0,0,0.8)\"},\"hovertext\":[\"Average response: 0.449<br>Prediction: 0.486\",\"priors_count = 5.0<br>increases average response by\",\"age = 25.0<br>increases average response by\",\"c_charge_degree = F<br>increases average response by\",\"race = African-American<br>decreases average response by\",\"y_pred = 1.0<br>decreases average response by\",\"y_test = 1.0<br>decreases average response by\",\"sex = Female<br>decreases average response by\",\"Average response: 0.449<br>Prediction: 0.486\"],\"increasing\":{\"marker\":{\"color\":\"#8bdcbe\"}},\"measure\":[\"relative\",\"relative\",\"relative\",\"relative\",\"relative\",\"relative\",\"relative\",\"relative\",\"total\"],\"orientation\":\"h\",\"showlegend\":false,\"text\":[\"0.449\",\"+0.149\",\"+0.077\",\"+0.048\",\"-0.003\",\"0.0\",\"0.0\",\"-0.234\",\"0.486\"],\"textposition\":\"outside\",\"totals\":{\"marker\":{\"color\":\"#371ea3\"}},\"x\":[-0.0,0.149,0.077,0.048,-0.003,0.0,0.0,-0.234,0.037],\"y\":[\"intercept\",\"priors_count = 5.0\",\"age = 25.0\",\"c_charge_degree = F\",\"race = African-American\",\"y_pred = 1.0\",\"y_test = 1.0\",\"sex = Female\",\"prediction\"],\"type\":\"waterfall\",\"xaxis\":\"x2\",\"yaxis\":\"y2\"},{\"base\":0.44892406202805973,\"connector\":{\"line\":{\"color\":\"#371ea3\",\"dash\":\"solid\",\"width\":1},\"mode\":\"spanning\"},\"decreasing\":{\"marker\":{\"color\":\"#f05a71\"}},\"hoverinfo\":\"text+delta\",\"hoverlabel\":{\"bgcolor\":\"rgba(0,0,0,0.8)\"},\"hovertext\":[\"Average response: 0.448<br>Prediction: 0.612\",\"priors_count = 5.0<br>increases average response by\",\"age = 25.0<br>increases average response by\",\"race = African-American<br>increases average response by\",\"c_charge_degree = F<br>increases average response by\",\"y_pred = 1.0<br>decreases average response by\",\"y_test = 1.0<br>decreases average response by\",\"sex = Female<br>decreases average response by\",\"Average response: 0.448<br>Prediction: 0.612\"],\"increasing\":{\"marker\":{\"color\":\"#8bdcbe\"}},\"measure\":[\"relative\",\"relative\",\"relative\",\"relative\",\"relative\",\"relative\",\"relative\",\"relative\",\"total\"],\"orientation\":\"h\",\"showlegend\":false,\"text\":[\"0.448\",\"+0.122\",\"+0.106\",\"+0.047\",\"+0.029\",\"0.0\",\"0.0\",\"-0.14\",\"0.612\"],\"textposition\":\"outside\",\"totals\":{\"marker\":{\"color\":\"#371ea3\"}},\"x\":[-0.001,0.122,0.106,0.047,0.029,0.0,0.0,-0.14,0.163],\"y\":[\"intercept\",\"priors_count = 5.0\",\"age = 25.0\",\"race = African-American\",\"c_charge_degree = F\",\"y_pred = 1.0\",\"y_test = 1.0\",\"sex = Female\",\"prediction\"],\"type\":\"waterfall\",\"xaxis\":\"x3\",\"yaxis\":\"y3\"}],                        {\"template\":{\"data\":{\"scatter\":[{\"type\":\"scatter\"}]}},\"xaxis\":{\"anchor\":\"y\",\"domain\":[0.0,1.0],\"matches\":\"x3\",\"showticklabels\":false,\"type\":\"linear\",\"gridwidth\":2,\"zeroline\":false,\"automargin\":true,\"ticks\":\"outside\",\"tickcolor\":\"white\",\"ticklen\":3,\"fixedrange\":true,\"range\":[0.40240000000000004,0.7976]},\"yaxis\":{\"anchor\":\"x\",\"domain\":[0.7111111111111111,1.0],\"type\":\"category\",\"autorange\":\"reversed\",\"gridwidth\":2,\"automargin\":true,\"ticks\":\"outside\",\"tickcolor\":\"white\",\"ticklen\":10,\"fixedrange\":true},\"xaxis2\":{\"anchor\":\"y2\",\"domain\":[0.0,1.0],\"matches\":\"x3\",\"showticklabels\":false,\"type\":\"linear\",\"gridwidth\":2,\"zeroline\":false,\"automargin\":true,\"ticks\":\"outside\",\"tickcolor\":\"white\",\"ticklen\":3,\"fixedrange\":true,\"range\":[0.40240000000000004,0.7976]},\"yaxis2\":{\"anchor\":\"x2\",\"domain\":[0.35555555555555557,0.6444444444444445],\"type\":\"category\",\"autorange\":\"reversed\",\"gridwidth\":2,\"automargin\":true,\"ticks\":\"outside\",\"tickcolor\":\"white\",\"ticklen\":10,\"fixedrange\":true},\"xaxis3\":{\"anchor\":\"y3\",\"domain\":[0.0,1.0],\"type\":\"linear\",\"gridwidth\":2,\"zeroline\":false,\"automargin\":true,\"ticks\":\"outside\",\"tickcolor\":\"white\",\"ticklen\":3,\"fixedrange\":true,\"range\":[0.40240000000000004,0.7976]},\"yaxis3\":{\"anchor\":\"x3\",\"domain\":[0.0,0.2888888888888889],\"type\":\"category\",\"autorange\":\"reversed\",\"gridwidth\":2,\"automargin\":true,\"ticks\":\"outside\",\"tickcolor\":\"white\",\"ticklen\":10,\"fixedrange\":true},\"annotations\":[{\"font\":{\"size\":16},\"showarrow\":false,\"text\":\"Logistic Regression\",\"x\":0.5,\"xanchor\":\"center\",\"xref\":\"paper\",\"y\":1.0,\"yanchor\":\"bottom\",\"yref\":\"paper\"},{\"font\":{\"size\":16},\"showarrow\":false,\"text\":\"Decision Tree\",\"x\":0.5,\"xanchor\":\"center\",\"xref\":\"paper\",\"y\":0.6444444444444445,\"yanchor\":\"bottom\",\"yref\":\"paper\"},{\"font\":{\"size\":16},\"showarrow\":false,\"text\":\"Random Forest\",\"x\":0.5,\"xanchor\":\"center\",\"xref\":\"paper\",\"y\":0.2888888888888889,\"yanchor\":\"bottom\",\"yref\":\"paper\"},{\"font\":{\"size\":16},\"showarrow\":false,\"text\":\"contribution\",\"x\":0.5,\"xanchor\":\"center\",\"xref\":\"paper\",\"y\":0,\"yanchor\":\"top\",\"yref\":\"paper\",\"yshift\":-30}],\"shapes\":[{\"line\":{\"color\":\"#371ea3\",\"dash\":\"dot\",\"width\":1.5},\"type\":\"line\",\"x0\":0.44892406202805973,\"x1\":0.44892406202805973,\"xref\":\"x\",\"y0\":-1,\"y1\":9,\"yref\":\"y\"},{\"line\":{\"color\":\"#371ea3\",\"dash\":\"dot\",\"width\":1.5},\"type\":\"line\",\"x0\":0.44892406202805973,\"x1\":0.44892406202805973,\"xref\":\"x2\",\"y0\":-1,\"y1\":9,\"yref\":\"y2\"},{\"line\":{\"color\":\"#371ea3\",\"dash\":\"dot\",\"width\":1.5},\"type\":\"line\",\"x0\":0.44892406202805973,\"x1\":0.44892406202805973,\"xref\":\"x3\",\"y0\":-1,\"y1\":9,\"yref\":\"y3\"}],\"title\":{\"text\":\"Break Down\",\"x\":0.15},\"font\":{\"color\":\"#371ea3\"},\"margin\":{\"t\":78,\"b\":71,\"r\":30},\"height\":841.0},                        {\"displaylogo\": false, \"staticPlot\": false, \"toImageButtonOptions\": {\"height\": null, \"width\": null}, \"modeBarButtonsToRemove\": [\"sendDataToCloud\", \"lasso2d\", \"autoScale2d\", \"select2d\", \"zoom2d\", \"pan2d\", \"zoomIn2d\", \"zoomOut2d\", \"resetScale2d\", \"toggleSpikelines\", \"hoverCompareCartesian\", \"hoverClosestCartesian\"], \"responsive\": true}                    ).then(function(){\n",
              "                            \n",
              "var gd = document.getElementById('b728fdc5-46d3-495b-b3e8-8f46c921a7fc');\n",
              "var x = new MutationObserver(function (mutations, observer) {{\n",
              "        var display = window.getComputedStyle(gd).display;\n",
              "        if (!display || display === 'none') {{\n",
              "            console.log([gd, 'removed!']);\n",
              "            Plotly.purge(gd);\n",
              "            observer.disconnect();\n",
              "        }}\n",
              "}});\n",
              "\n",
              "// Listen for the removal of the full notebook cells\n",
              "var notebookContainer = gd.closest('#notebook-container');\n",
              "if (notebookContainer) {{\n",
              "    x.observe(notebookContainer, {childList: true});\n",
              "}}\n",
              "\n",
              "// Listen for the clearing of the current output cell\n",
              "var outputEl = gd.closest('.output');\n",
              "if (outputEl) {{\n",
              "    x.observe(outputEl, {childList: true});\n",
              "}}\n",
              "\n",
              "                        })                };                            </script>        </div>\n",
              "</body>\n",
              "</html>"
            ]
          },
          "metadata": {}
        }
      ],
      "source": [
        "sample_1_bd_list = [e.predict_parts(sample_1, type='break_down') for e in exp_list]\n",
        "sample_1_bd_list[0].plot(sample_1_bd_list[1:])"
      ]
    },
    {
      "cell_type": "markdown",
      "id": "902bbc56-09dd-4fb9-af69-82861607e69c",
      "metadata": {
        "id": "902bbc56-09dd-4fb9-af69-82861607e69c"
      },
      "source": [
        "*The row marked “intercept” represents the overall mean value of predictions for the entire dataset. Subsequent rows display changes in the mean prediction caused by fixing the value of a particular explanatory variable. Positive changes are shown with green bars, while negative differences are shown with red bars. The final row, marked “prediction,” is the sum of the overall mean value and the changes, i.e., the predicted value of recidivism probability for an individual, indicated by the blue bar.*"
      ]
    },
    {
      "cell_type": "markdown",
      "id": "2b30d7c9-988e-46af-94e8-516b9bf58ef1",
      "metadata": {
        "id": "2b30d7c9-988e-46af-94e8-516b9bf58ef1"
      },
      "source": [
        "**The Shapley value** represents the average marginal contribution of a feature value across all possible combinations of the other features (i.e., all possible coalitions of features that are not being analyzed). For the sample_1 woman, in both logistic regression and random forest, all variables except gender increase the probability of recidivism, and the Shapley values have a similar behavior as seen in the Break-down plots."
      ]
    },
    {
      "cell_type": "code",
      "execution_count": 146,
      "id": "a8774cab-3224-4d01-b284-d68773d9e6e2",
      "metadata": {
        "colab": {
          "base_uri": "https://localhost:8080/",
          "height": 738
        },
        "id": "a8774cab-3224-4d01-b284-d68773d9e6e2",
        "outputId": "68b630fc-209f-4c38-b58a-b3c75a1b3c26"
      },
      "outputs": [
        {
          "output_type": "display_data",
          "data": {
            "text/html": [
              "<html>\n",
              "<head><meta charset=\"utf-8\" /></head>\n",
              "<body>\n",
              "    <div>            <script src=\"https://cdnjs.cloudflare.com/ajax/libs/mathjax/2.7.5/MathJax.js?config=TeX-AMS-MML_SVG\"></script><script type=\"text/javascript\">if (window.MathJax) {MathJax.Hub.Config({SVG: {font: \"STIX-Web\"}});}</script>                <script type=\"text/javascript\">window.PlotlyConfig = {MathJaxConfig: 'local'};</script>\n",
              "        <script src=\"https://cdn.plot.ly/plotly-2.8.3.min.js\"></script>                <div id=\"bd996466-cf96-47f1-a174-e667b58765ea\" class=\"plotly-graph-div\" style=\"height:721.0px; width:100%;\"></div>            <script type=\"text/javascript\">                                    window.PLOTLYENV=window.PLOTLYENV || {};                                    if (document.getElementById(\"bd996466-cf96-47f1-a174-e667b58765ea\")) {                    Plotly.newPlot(                        \"bd996466-cf96-47f1-a174-e667b58765ea\",                        [{\"base\":0.44892406202805973,\"hoverinfo\":\"text\",\"hoverlabel\":{\"bgcolor\":\"rgba(0,0,0,0.8)\"},\"hovertext\":[\"Average response: 0.449<br>Prediction: 0.591<br>age = 25.0<br>increases average response <br>by 0.09\",\"Average response: 0.449<br>Prediction: 0.591<br>priors_count = 5.0<br>increases average response <br>by 0.078\",\"Average response: 0.449<br>Prediction: 0.591<br>sex = Female<br>decreases average response <br>by 0.06\",\"Average response: 0.449<br>Prediction: 0.591<br>race = African-American<br>increases average response <br>by 0.017\",\"Average response: 0.449<br>Prediction: 0.591<br>c_charge_degree = F<br>increases average response <br>by 0.016\",\"Average response: 0.449<br>Prediction: 0.591<br>y_pred = 1.0<br>decreases average response <br>by 0.0\",\"Average response: 0.449<br>Prediction: 0.591<br>y_test = 1.0<br>decreases average response <br>by 0.0\"],\"marker\":{\"color\":[\"#8bdcbe\",\"#8bdcbe\",\"#f05a71\",\"#8bdcbe\",\"#8bdcbe\",\"#371ea3\",\"#371ea3\"]},\"orientation\":\"h\",\"showlegend\":false,\"text\":[\"+0.09\",\"+0.078\",\"-0.06\",\"+0.017\",\"+0.016\",\"0.0\",\"0.0\"],\"textposition\":\"outside\",\"x\":[0.09,0.078,-0.06,0.017,0.016,0.0,0.0],\"y\":[\"age = 25.0\",\"priors_count = 5.0\",\"sex = Female\",\"race = African-American\",\"c_charge_degree = F\",\"y_pred = 1.0\",\"y_test = 1.0\"],\"type\":\"bar\",\"xaxis\":\"x\",\"yaxis\":\"y\"},{\"base\":0.44892406202805973,\"hoverinfo\":\"text\",\"hoverlabel\":{\"bgcolor\":\"rgba(0,0,0,0.8)\"},\"hovertext\":[\"Average response: 0.449<br>Prediction: 0.486<br>priors_count = 5.0<br>increases average response <br>by 0.125\",\"Average response: 0.449<br>Prediction: 0.486<br>sex = Female<br>decreases average response <br>by 0.125\",\"Average response: 0.449<br>Prediction: 0.486<br>c_charge_degree = F<br>increases average response <br>by 0.036\",\"Average response: 0.449<br>Prediction: 0.486<br>age = 25.0<br>increases average response <br>by 0.02\",\"Average response: 0.449<br>Prediction: 0.486<br>race = African-American<br>decreases average response <br>by 0.019\",\"Average response: 0.449<br>Prediction: 0.486<br>y_pred = 1.0<br>decreases average response <br>by 0.0\",\"Average response: 0.449<br>Prediction: 0.486<br>y_test = 1.0<br>decreases average response <br>by 0.0\"],\"marker\":{\"color\":[\"#8bdcbe\",\"#f05a71\",\"#8bdcbe\",\"#8bdcbe\",\"#f05a71\",\"#371ea3\",\"#371ea3\"]},\"orientation\":\"h\",\"showlegend\":false,\"text\":[\"+0.125\",\"-0.125\",\"+0.036\",\"+0.02\",\"-0.019\",\"0.0\",\"0.0\"],\"textposition\":\"outside\",\"x\":[0.125,-0.125,0.036,0.02,-0.019,0.0,0.0],\"y\":[\"priors_count = 5.0\",\"sex = Female\",\"c_charge_degree = F\",\"age = 25.0\",\"race = African-American\",\"y_pred = 1.0\",\"y_test = 1.0\"],\"type\":\"bar\",\"xaxis\":\"x2\",\"yaxis\":\"y2\"},{\"base\":0.44892406202805973,\"hoverinfo\":\"text\",\"hoverlabel\":{\"bgcolor\":\"rgba(0,0,0,0.8)\"},\"hovertext\":[\"Average response: 0.449<br>Prediction: 0.612<br>priors_count = 5.0<br>increases average response <br>by 0.149\",\"Average response: 0.449<br>Prediction: 0.612<br>sex = Female<br>decreases average response <br>by 0.09\",\"Average response: 0.449<br>Prediction: 0.612<br>age = 25.0<br>increases average response <br>by 0.071\",\"Average response: 0.449<br>Prediction: 0.612<br>race = African-American<br>increases average response <br>by 0.025\",\"Average response: 0.449<br>Prediction: 0.612<br>c_charge_degree = F<br>increases average response <br>by 0.008\",\"Average response: 0.449<br>Prediction: 0.612<br>y_pred = 1.0<br>decreases average response <br>by 0.0\",\"Average response: 0.449<br>Prediction: 0.612<br>y_test = 1.0<br>decreases average response <br>by 0.0\"],\"marker\":{\"color\":[\"#8bdcbe\",\"#f05a71\",\"#8bdcbe\",\"#8bdcbe\",\"#8bdcbe\",\"#371ea3\",\"#371ea3\"]},\"orientation\":\"h\",\"showlegend\":false,\"text\":[\"+0.149\",\"-0.09\",\"+0.071\",\"+0.025\",\"+0.008\",\"0.0\",\"0.0\"],\"textposition\":\"outside\",\"x\":[0.149,-0.09,0.071,0.025,0.008,0.0,0.0],\"y\":[\"priors_count = 5.0\",\"sex = Female\",\"age = 25.0\",\"race = African-American\",\"c_charge_degree = F\",\"y_pred = 1.0\",\"y_test = 1.0\"],\"type\":\"bar\",\"xaxis\":\"x3\",\"yaxis\":\"y3\"}],                        {\"template\":{\"data\":{\"scatter\":[{\"type\":\"scatter\"}]}},\"xaxis\":{\"anchor\":\"y\",\"domain\":[0.0,1.0],\"matches\":\"x3\",\"showticklabels\":false,\"type\":\"linear\",\"gridwidth\":2,\"zeroline\":false,\"automargin\":true,\"ticks\":\"outside\",\"tickcolor\":\"white\",\"ticklen\":3,\"fixedrange\":true,\"range\":[0.28642406202805976,0.6337740620280597]},\"yaxis\":{\"anchor\":\"x\",\"domain\":[0.7111111111111111,1.0],\"type\":\"category\",\"autorange\":\"reversed\",\"gridwidth\":2,\"automargin\":true,\"ticks\":\"outside\",\"tickcolor\":\"white\",\"ticklen\":10,\"fixedrange\":true},\"xaxis2\":{\"anchor\":\"y2\",\"domain\":[0.0,1.0],\"matches\":\"x3\",\"showticklabels\":false,\"type\":\"linear\",\"gridwidth\":2,\"zeroline\":false,\"automargin\":true,\"ticks\":\"outside\",\"tickcolor\":\"white\",\"ticklen\":3,\"fixedrange\":true,\"range\":[0.28642406202805976,0.6337740620280597]},\"yaxis2\":{\"anchor\":\"x2\",\"domain\":[0.35555555555555557,0.6444444444444445],\"type\":\"category\",\"autorange\":\"reversed\",\"gridwidth\":2,\"automargin\":true,\"ticks\":\"outside\",\"tickcolor\":\"white\",\"ticklen\":10,\"fixedrange\":true},\"xaxis3\":{\"anchor\":\"y3\",\"domain\":[0.0,1.0],\"type\":\"linear\",\"gridwidth\":2,\"zeroline\":false,\"automargin\":true,\"ticks\":\"outside\",\"tickcolor\":\"white\",\"ticklen\":3,\"fixedrange\":true,\"range\":[0.28642406202805976,0.6337740620280597]},\"yaxis3\":{\"anchor\":\"x3\",\"domain\":[0.0,0.2888888888888889],\"type\":\"category\",\"autorange\":\"reversed\",\"gridwidth\":2,\"automargin\":true,\"ticks\":\"outside\",\"tickcolor\":\"white\",\"ticklen\":10,\"fixedrange\":true},\"annotations\":[{\"font\":{\"size\":16},\"showarrow\":false,\"text\":\"Logistic Regression\",\"x\":0.5,\"xanchor\":\"center\",\"xref\":\"paper\",\"y\":1.0,\"yanchor\":\"bottom\",\"yref\":\"paper\"},{\"font\":{\"size\":16},\"showarrow\":false,\"text\":\"Decision Tree\",\"x\":0.5,\"xanchor\":\"center\",\"xref\":\"paper\",\"y\":0.6444444444444445,\"yanchor\":\"bottom\",\"yref\":\"paper\"},{\"font\":{\"size\":16},\"showarrow\":false,\"text\":\"Random Forest\",\"x\":0.5,\"xanchor\":\"center\",\"xref\":\"paper\",\"y\":0.2888888888888889,\"yanchor\":\"bottom\",\"yref\":\"paper\"},{\"font\":{\"size\":16},\"showarrow\":false,\"text\":\"contribution\",\"x\":0.5,\"xanchor\":\"center\",\"xref\":\"paper\",\"y\":0,\"yanchor\":\"top\",\"yref\":\"paper\",\"yshift\":-30}],\"shapes\":[{\"line\":{\"color\":\"#371ea3\",\"dash\":\"dot\",\"width\":1.5},\"type\":\"line\",\"x0\":0.44892406202805973,\"x1\":0.44892406202805973,\"xref\":\"x\",\"y0\":-1,\"y1\":7,\"yref\":\"y\"},{\"line\":{\"color\":\"#371ea3\",\"dash\":\"dot\",\"width\":1.5},\"type\":\"line\",\"x0\":0.44892406202805973,\"x1\":0.44892406202805973,\"xref\":\"x2\",\"y0\":-1,\"y1\":7,\"yref\":\"y2\"},{\"line\":{\"color\":\"#371ea3\",\"dash\":\"dot\",\"width\":1.5},\"type\":\"line\",\"x0\":0.44892406202805973,\"x1\":0.44892406202805973,\"xref\":\"x3\",\"y0\":-1,\"y1\":7,\"yref\":\"y3\"}],\"title\":{\"text\":\"Shapley Values\",\"x\":0.15},\"font\":{\"color\":\"#371ea3\"},\"margin\":{\"t\":78,\"b\":71,\"r\":30},\"height\":721.0},                        {\"displaylogo\": false, \"staticPlot\": false, \"toImageButtonOptions\": {\"height\": null, \"width\": null}, \"modeBarButtonsToRemove\": [\"sendDataToCloud\", \"lasso2d\", \"autoScale2d\", \"select2d\", \"zoom2d\", \"pan2d\", \"zoomIn2d\", \"zoomOut2d\", \"resetScale2d\", \"toggleSpikelines\", \"hoverCompareCartesian\", \"hoverClosestCartesian\"], \"responsive\": true}                    ).then(function(){\n",
              "                            \n",
              "var gd = document.getElementById('bd996466-cf96-47f1-a174-e667b58765ea');\n",
              "var x = new MutationObserver(function (mutations, observer) {{\n",
              "        var display = window.getComputedStyle(gd).display;\n",
              "        if (!display || display === 'none') {{\n",
              "            console.log([gd, 'removed!']);\n",
              "            Plotly.purge(gd);\n",
              "            observer.disconnect();\n",
              "        }}\n",
              "}});\n",
              "\n",
              "// Listen for the removal of the full notebook cells\n",
              "var notebookContainer = gd.closest('#notebook-container');\n",
              "if (notebookContainer) {{\n",
              "    x.observe(notebookContainer, {childList: true});\n",
              "}}\n",
              "\n",
              "// Listen for the clearing of the current output cell\n",
              "var outputEl = gd.closest('.output');\n",
              "if (outputEl) {{\n",
              "    x.observe(outputEl, {childList: true});\n",
              "}}\n",
              "\n",
              "                        })                };                            </script>        </div>\n",
              "</body>\n",
              "</html>"
            ]
          },
          "metadata": {}
        }
      ],
      "source": [
        "sample_1_shap_list = [e.predict_parts(sample_1, type='shap') for e in exp_list]\n",
        "sample_1_shap_list[0].plot(sample_1_shap_list[1:])"
      ]
    },
    {
      "cell_type": "markdown",
      "id": "cdff410e-2736-44e7-9ed1-9bf9caf57d34",
      "metadata": {
        "id": "cdff410e-2736-44e7-9ed1-9bf9caf57d34"
      },
      "source": [
        "**Sample 2**"
      ]
    },
    {
      "cell_type": "code",
      "execution_count": 147,
      "id": "404a02e7-b9c8-4ce6-b747-f11d9bb0c88d",
      "metadata": {
        "colab": {
          "base_uri": "https://localhost:8080/",
          "height": 81
        },
        "id": "404a02e7-b9c8-4ce6-b747-f11d9bb0c88d",
        "outputId": "e4098d2a-9214-4221-892a-a27e8696774f"
      },
      "outputs": [
        {
          "output_type": "execute_result",
          "data": {
            "text/plain": [
              "       sex  age       race  priors_count c_charge_degree  y_test  y_pred\n",
              "2465  Male   37  Caucasian             1               F       1       0"
            ],
            "text/html": [
              "\n",
              "  <div id=\"df-827ba046-8970-46c1-8368-cb9f7ff07238\">\n",
              "    <div class=\"colab-df-container\">\n",
              "      <div>\n",
              "<style scoped>\n",
              "    .dataframe tbody tr th:only-of-type {\n",
              "        vertical-align: middle;\n",
              "    }\n",
              "\n",
              "    .dataframe tbody tr th {\n",
              "        vertical-align: top;\n",
              "    }\n",
              "\n",
              "    .dataframe thead th {\n",
              "        text-align: right;\n",
              "    }\n",
              "</style>\n",
              "<table border=\"1\" class=\"dataframe\">\n",
              "  <thead>\n",
              "    <tr style=\"text-align: right;\">\n",
              "      <th></th>\n",
              "      <th>sex</th>\n",
              "      <th>age</th>\n",
              "      <th>race</th>\n",
              "      <th>priors_count</th>\n",
              "      <th>c_charge_degree</th>\n",
              "      <th>y_test</th>\n",
              "      <th>y_pred</th>\n",
              "    </tr>\n",
              "  </thead>\n",
              "  <tbody>\n",
              "    <tr>\n",
              "      <th>2465</th>\n",
              "      <td>Male</td>\n",
              "      <td>37</td>\n",
              "      <td>Caucasian</td>\n",
              "      <td>1</td>\n",
              "      <td>F</td>\n",
              "      <td>1</td>\n",
              "      <td>0</td>\n",
              "    </tr>\n",
              "  </tbody>\n",
              "</table>\n",
              "</div>\n",
              "      <button class=\"colab-df-convert\" onclick=\"convertToInteractive('df-827ba046-8970-46c1-8368-cb9f7ff07238')\"\n",
              "              title=\"Convert this dataframe to an interactive table.\"\n",
              "              style=\"display:none;\">\n",
              "        \n",
              "  <svg xmlns=\"http://www.w3.org/2000/svg\" height=\"24px\"viewBox=\"0 0 24 24\"\n",
              "       width=\"24px\">\n",
              "    <path d=\"M0 0h24v24H0V0z\" fill=\"none\"/>\n",
              "    <path d=\"M18.56 5.44l.94 2.06.94-2.06 2.06-.94-2.06-.94-.94-2.06-.94 2.06-2.06.94zm-11 1L8.5 8.5l.94-2.06 2.06-.94-2.06-.94L8.5 2.5l-.94 2.06-2.06.94zm10 10l.94 2.06.94-2.06 2.06-.94-2.06-.94-.94-2.06-.94 2.06-2.06.94z\"/><path d=\"M17.41 7.96l-1.37-1.37c-.4-.4-.92-.59-1.43-.59-.52 0-1.04.2-1.43.59L10.3 9.45l-7.72 7.72c-.78.78-.78 2.05 0 2.83L4 21.41c.39.39.9.59 1.41.59.51 0 1.02-.2 1.41-.59l7.78-7.78 2.81-2.81c.8-.78.8-2.07 0-2.86zM5.41 20L4 18.59l7.72-7.72 1.47 1.35L5.41 20z\"/>\n",
              "  </svg>\n",
              "      </button>\n",
              "      \n",
              "  <style>\n",
              "    .colab-df-container {\n",
              "      display:flex;\n",
              "      flex-wrap:wrap;\n",
              "      gap: 12px;\n",
              "    }\n",
              "\n",
              "    .colab-df-convert {\n",
              "      background-color: #E8F0FE;\n",
              "      border: none;\n",
              "      border-radius: 50%;\n",
              "      cursor: pointer;\n",
              "      display: none;\n",
              "      fill: #1967D2;\n",
              "      height: 32px;\n",
              "      padding: 0 0 0 0;\n",
              "      width: 32px;\n",
              "    }\n",
              "\n",
              "    .colab-df-convert:hover {\n",
              "      background-color: #E2EBFA;\n",
              "      box-shadow: 0px 1px 2px rgba(60, 64, 67, 0.3), 0px 1px 3px 1px rgba(60, 64, 67, 0.15);\n",
              "      fill: #174EA6;\n",
              "    }\n",
              "\n",
              "    [theme=dark] .colab-df-convert {\n",
              "      background-color: #3B4455;\n",
              "      fill: #D2E3FC;\n",
              "    }\n",
              "\n",
              "    [theme=dark] .colab-df-convert:hover {\n",
              "      background-color: #434B5C;\n",
              "      box-shadow: 0px 1px 3px 1px rgba(0, 0, 0, 0.15);\n",
              "      filter: drop-shadow(0px 1px 2px rgba(0, 0, 0, 0.3));\n",
              "      fill: #FFFFFF;\n",
              "    }\n",
              "  </style>\n",
              "\n",
              "      <script>\n",
              "        const buttonEl =\n",
              "          document.querySelector('#df-827ba046-8970-46c1-8368-cb9f7ff07238 button.colab-df-convert');\n",
              "        buttonEl.style.display =\n",
              "          google.colab.kernel.accessAllowed ? 'block' : 'none';\n",
              "\n",
              "        async function convertToInteractive(key) {\n",
              "          const element = document.querySelector('#df-827ba046-8970-46c1-8368-cb9f7ff07238');\n",
              "          const dataTable =\n",
              "            await google.colab.kernel.invokeFunction('convertToInteractive',\n",
              "                                                     [key], {});\n",
              "          if (!dataTable) return;\n",
              "\n",
              "          const docLinkHtml = 'Like what you see? Visit the ' +\n",
              "            '<a target=\"_blank\" href=https://colab.research.google.com/notebooks/data_table.ipynb>data table notebook</a>'\n",
              "            + ' to learn more about interactive tables.';\n",
              "          element.innerHTML = '';\n",
              "          dataTable['output_type'] = 'display_data';\n",
              "          await google.colab.output.renderOutput(dataTable, element);\n",
              "          const docLink = document.createElement('div');\n",
              "          docLink.innerHTML = docLinkHtml;\n",
              "          element.appendChild(docLink);\n",
              "        }\n",
              "      </script>\n",
              "    </div>\n",
              "  </div>\n",
              "  "
            ]
          },
          "metadata": {},
          "execution_count": 147
        }
      ],
      "source": [
        "sample_2 = X_test.iloc[[20]]\n",
        "sample_2"
      ]
    },
    {
      "cell_type": "markdown",
      "id": "be32336c-f6b8-4a73-ba1c-40e2d7389b77",
      "metadata": {
        "id": "be32336c-f6b8-4a73-ba1c-40e2d7389b77"
      },
      "source": [
        "For a 37-years-old white man, with only 1 prior crime and charged with felony, the probability of recidivism is less than the mean. The variables that raise it are the c_charge_degree and sex. In the random forest, the race variable has the biggest decrease in the probability if we compare it to the same variable in the other two models. We connect this to the variable importance graphic presented before, where the feature \"race\" has some importance (0.001) in the random forest.\n",
        "\n",
        "In this case, we can see that the contribution of each variable (except for the race) in the logistic regression is bigger in absolute terms than for the random forest, as we would expect since the random forest tends to shrink towards the mean."
      ]
    },
    {
      "cell_type": "code",
      "execution_count": 148,
      "id": "fa678c64-7ffb-4816-9711-96bac3c882d1",
      "metadata": {
        "colab": {
          "base_uri": "https://localhost:8080/",
          "height": 858
        },
        "id": "fa678c64-7ffb-4816-9711-96bac3c882d1",
        "outputId": "aeae573b-2707-4cca-9e10-2c8424c26a83"
      },
      "outputs": [
        {
          "output_type": "display_data",
          "data": {
            "text/html": [
              "<html>\n",
              "<head><meta charset=\"utf-8\" /></head>\n",
              "<body>\n",
              "    <div>            <script src=\"https://cdnjs.cloudflare.com/ajax/libs/mathjax/2.7.5/MathJax.js?config=TeX-AMS-MML_SVG\"></script><script type=\"text/javascript\">if (window.MathJax) {MathJax.Hub.Config({SVG: {font: \"STIX-Web\"}});}</script>                <script type=\"text/javascript\">window.PlotlyConfig = {MathJaxConfig: 'local'};</script>\n",
              "        <script src=\"https://cdn.plot.ly/plotly-2.8.3.min.js\"></script>                <div id=\"b38dee46-64b0-40c4-8fa4-e6528aa81c8c\" class=\"plotly-graph-div\" style=\"height:841.0px; width:100%;\"></div>            <script type=\"text/javascript\">                                    window.PLOTLYENV=window.PLOTLYENV || {};                                    if (document.getElementById(\"b38dee46-64b0-40c4-8fa4-e6528aa81c8c\")) {                    Plotly.newPlot(                        \"b38dee46-64b0-40c4-8fa4-e6528aa81c8c\",                        [{\"base\":0.44892406202805973,\"connector\":{\"line\":{\"color\":\"#371ea3\",\"dash\":\"solid\",\"width\":1},\"mode\":\"spanning\"},\"decreasing\":{\"marker\":{\"color\":\"#f05a71\"}},\"hoverinfo\":\"text+delta\",\"hoverlabel\":{\"bgcolor\":\"rgba(0,0,0,0.8)\"},\"hovertext\":[\"Average response: 0.449<br>Prediction: 0.371\",\"c_charge_degree = F<br>increases average response by\",\"sex = Male<br>increases average response by\",\"y_pred = 0.0<br>decreases average response by\",\"y_test = 1.0<br>decreases average response by\",\"race = Caucasian<br>decreases average response by\",\"age = 37.0<br>decreases average response by\",\"priors_count = 1.0<br>decreases average response by\",\"Average response: 0.449<br>Prediction: 0.371\"],\"increasing\":{\"marker\":{\"color\":\"#8bdcbe\"}},\"measure\":[\"relative\",\"relative\",\"relative\",\"relative\",\"relative\",\"relative\",\"relative\",\"relative\",\"total\"],\"orientation\":\"h\",\"showlegend\":false,\"text\":[\"0.449\",\"+0.015\",\"+0.013\",\"0.0\",\"0.0\",\"-0.001\",\"-0.028\",\"-0.077\",\"0.371\"],\"textposition\":\"outside\",\"totals\":{\"marker\":{\"color\":\"#371ea3\"}},\"x\":[0.0,0.015,0.013,0.0,0.0,-0.001,-0.028,-0.077,-0.078],\"y\":[\"intercept\",\"c_charge_degree = F\",\"sex = Male\",\"y_pred = 0.0\",\"y_test = 1.0\",\"race = Caucasian\",\"age = 37.0\",\"priors_count = 1.0\",\"prediction\"],\"type\":\"waterfall\",\"xaxis\":\"x\",\"yaxis\":\"y\"},{\"base\":0.44892406202805973,\"connector\":{\"line\":{\"color\":\"#371ea3\",\"dash\":\"solid\",\"width\":1},\"mode\":\"spanning\"},\"decreasing\":{\"marker\":{\"color\":\"#f05a71\"}},\"hoverinfo\":\"text+delta\",\"hoverlabel\":{\"bgcolor\":\"rgba(0,0,0,0.8)\"},\"hovertext\":[\"Average response: 0.449<br>Prediction: 0.284\",\"c_charge_degree = F<br>increases average response by\",\"sex = Male<br>increases average response by\",\"y_pred = 0.0<br>decreases average response by\",\"y_test = 1.0<br>decreases average response by\",\"race = Caucasian<br>decreases average response by\",\"priors_count = 1.0<br>decreases average response by\",\"age = 37.0<br>decreases average response by\",\"Average response: 0.449<br>Prediction: 0.284\"],\"increasing\":{\"marker\":{\"color\":\"#8bdcbe\"}},\"measure\":[\"relative\",\"relative\",\"relative\",\"relative\",\"relative\",\"relative\",\"relative\",\"relative\",\"total\"],\"orientation\":\"h\",\"showlegend\":false,\"text\":[\"0.449\",\"+0.009\",\"+0.005\",\"0.0\",\"0.0\",\"-0.004\",\"-0.066\",\"-0.109\",\"0.284\"],\"textposition\":\"outside\",\"totals\":{\"marker\":{\"color\":\"#371ea3\"}},\"x\":[-0.0,0.009,0.005,0.0,0.0,-0.004,-0.066,-0.109,-0.165],\"y\":[\"intercept\",\"c_charge_degree = F\",\"sex = Male\",\"y_pred = 0.0\",\"y_test = 1.0\",\"race = Caucasian\",\"priors_count = 1.0\",\"age = 37.0\",\"prediction\"],\"type\":\"waterfall\",\"xaxis\":\"x2\",\"yaxis\":\"y2\"},{\"base\":0.44892406202805973,\"connector\":{\"line\":{\"color\":\"#371ea3\",\"dash\":\"solid\",\"width\":1},\"mode\":\"spanning\"},\"decreasing\":{\"marker\":{\"color\":\"#f05a71\"}},\"hoverinfo\":\"text+delta\",\"hoverlabel\":{\"bgcolor\":\"rgba(0,0,0,0.8)\"},\"hovertext\":[\"Average response: 0.448<br>Prediction: 0.312\",\"c_charge_degree = F<br>increases average response by\",\"sex = Male<br>increases average response by\",\"y_pred = 0.0<br>decreases average response by\",\"y_test = 1.0<br>decreases average response by\",\"race = Caucasian<br>decreases average response by\",\"age = 37.0<br>decreases average response by\",\"priors_count = 1.0<br>decreases average response by\",\"Average response: 0.448<br>Prediction: 0.312\"],\"increasing\":{\"marker\":{\"color\":\"#8bdcbe\"}},\"measure\":[\"relative\",\"relative\",\"relative\",\"relative\",\"relative\",\"relative\",\"relative\",\"relative\",\"total\"],\"orientation\":\"h\",\"showlegend\":false,\"text\":[\"0.448\",\"+0.01\",\"+0.006\",\"0.0\",\"0.0\",\"-0.02\",\"-0.066\",\"-0.066\",\"0.312\"],\"textposition\":\"outside\",\"totals\":{\"marker\":{\"color\":\"#371ea3\"}},\"x\":[-0.001,0.01,0.006,0.0,0.0,-0.02,-0.066,-0.066,-0.137],\"y\":[\"intercept\",\"c_charge_degree = F\",\"sex = Male\",\"y_pred = 0.0\",\"y_test = 1.0\",\"race = Caucasian\",\"age = 37.0\",\"priors_count = 1.0\",\"prediction\"],\"type\":\"waterfall\",\"xaxis\":\"x3\",\"yaxis\":\"y3\"}],                        {\"template\":{\"data\":{\"scatter\":[{\"type\":\"scatter\"}]}},\"xaxis\":{\"anchor\":\"y\",\"domain\":[0.0,1.0],\"matches\":\"x3\",\"showticklabels\":false,\"type\":\"linear\",\"gridwidth\":2,\"zeroline\":false,\"automargin\":true,\"ticks\":\"outside\",\"tickcolor\":\"white\",\"ticklen\":3,\"fixedrange\":true,\"range\":[0.25715,0.4929]},\"yaxis\":{\"anchor\":\"x\",\"domain\":[0.7111111111111111,1.0],\"type\":\"category\",\"autorange\":\"reversed\",\"gridwidth\":2,\"automargin\":true,\"ticks\":\"outside\",\"tickcolor\":\"white\",\"ticklen\":10,\"fixedrange\":true},\"xaxis2\":{\"anchor\":\"y2\",\"domain\":[0.0,1.0],\"matches\":\"x3\",\"showticklabels\":false,\"type\":\"linear\",\"gridwidth\":2,\"zeroline\":false,\"automargin\":true,\"ticks\":\"outside\",\"tickcolor\":\"white\",\"ticklen\":3,\"fixedrange\":true,\"range\":[0.25715,0.4929]},\"yaxis2\":{\"anchor\":\"x2\",\"domain\":[0.35555555555555557,0.6444444444444445],\"type\":\"category\",\"autorange\":\"reversed\",\"gridwidth\":2,\"automargin\":true,\"ticks\":\"outside\",\"tickcolor\":\"white\",\"ticklen\":10,\"fixedrange\":true},\"xaxis3\":{\"anchor\":\"y3\",\"domain\":[0.0,1.0],\"type\":\"linear\",\"gridwidth\":2,\"zeroline\":false,\"automargin\":true,\"ticks\":\"outside\",\"tickcolor\":\"white\",\"ticklen\":3,\"fixedrange\":true,\"range\":[0.25715,0.4929]},\"yaxis3\":{\"anchor\":\"x3\",\"domain\":[0.0,0.2888888888888889],\"type\":\"category\",\"autorange\":\"reversed\",\"gridwidth\":2,\"automargin\":true,\"ticks\":\"outside\",\"tickcolor\":\"white\",\"ticklen\":10,\"fixedrange\":true},\"annotations\":[{\"font\":{\"size\":16},\"showarrow\":false,\"text\":\"Logistic Regression\",\"x\":0.5,\"xanchor\":\"center\",\"xref\":\"paper\",\"y\":1.0,\"yanchor\":\"bottom\",\"yref\":\"paper\"},{\"font\":{\"size\":16},\"showarrow\":false,\"text\":\"Decision Tree\",\"x\":0.5,\"xanchor\":\"center\",\"xref\":\"paper\",\"y\":0.6444444444444445,\"yanchor\":\"bottom\",\"yref\":\"paper\"},{\"font\":{\"size\":16},\"showarrow\":false,\"text\":\"Random Forest\",\"x\":0.5,\"xanchor\":\"center\",\"xref\":\"paper\",\"y\":0.2888888888888889,\"yanchor\":\"bottom\",\"yref\":\"paper\"},{\"font\":{\"size\":16},\"showarrow\":false,\"text\":\"contribution\",\"x\":0.5,\"xanchor\":\"center\",\"xref\":\"paper\",\"y\":0,\"yanchor\":\"top\",\"yref\":\"paper\",\"yshift\":-30}],\"shapes\":[{\"line\":{\"color\":\"#371ea3\",\"dash\":\"dot\",\"width\":1.5},\"type\":\"line\",\"x0\":0.44892406202805973,\"x1\":0.44892406202805973,\"xref\":\"x\",\"y0\":-1,\"y1\":9,\"yref\":\"y\"},{\"line\":{\"color\":\"#371ea3\",\"dash\":\"dot\",\"width\":1.5},\"type\":\"line\",\"x0\":0.44892406202805973,\"x1\":0.44892406202805973,\"xref\":\"x2\",\"y0\":-1,\"y1\":9,\"yref\":\"y2\"},{\"line\":{\"color\":\"#371ea3\",\"dash\":\"dot\",\"width\":1.5},\"type\":\"line\",\"x0\":0.44892406202805973,\"x1\":0.44892406202805973,\"xref\":\"x3\",\"y0\":-1,\"y1\":9,\"yref\":\"y3\"}],\"title\":{\"text\":\"Break Down\",\"x\":0.15},\"font\":{\"color\":\"#371ea3\"},\"margin\":{\"t\":78,\"b\":71,\"r\":30},\"height\":841.0},                        {\"displaylogo\": false, \"staticPlot\": false, \"toImageButtonOptions\": {\"height\": null, \"width\": null}, \"modeBarButtonsToRemove\": [\"sendDataToCloud\", \"lasso2d\", \"autoScale2d\", \"select2d\", \"zoom2d\", \"pan2d\", \"zoomIn2d\", \"zoomOut2d\", \"resetScale2d\", \"toggleSpikelines\", \"hoverCompareCartesian\", \"hoverClosestCartesian\"], \"responsive\": true}                    ).then(function(){\n",
              "                            \n",
              "var gd = document.getElementById('b38dee46-64b0-40c4-8fa4-e6528aa81c8c');\n",
              "var x = new MutationObserver(function (mutations, observer) {{\n",
              "        var display = window.getComputedStyle(gd).display;\n",
              "        if (!display || display === 'none') {{\n",
              "            console.log([gd, 'removed!']);\n",
              "            Plotly.purge(gd);\n",
              "            observer.disconnect();\n",
              "        }}\n",
              "}});\n",
              "\n",
              "// Listen for the removal of the full notebook cells\n",
              "var notebookContainer = gd.closest('#notebook-container');\n",
              "if (notebookContainer) {{\n",
              "    x.observe(notebookContainer, {childList: true});\n",
              "}}\n",
              "\n",
              "// Listen for the clearing of the current output cell\n",
              "var outputEl = gd.closest('.output');\n",
              "if (outputEl) {{\n",
              "    x.observe(outputEl, {childList: true});\n",
              "}}\n",
              "\n",
              "                        })                };                            </script>        </div>\n",
              "</body>\n",
              "</html>"
            ]
          },
          "metadata": {}
        }
      ],
      "source": [
        "sample_2_bd_list = [e.predict_parts(sample_2, type='break_down') for e in exp_list]\n",
        "sample_2_bd_list[0].plot(sample_2_bd_list[1:])"
      ]
    },
    {
      "cell_type": "markdown",
      "id": "f31a1fcb-bb15-4eaf-a0c9-663dbcf65a7b",
      "metadata": {
        "id": "f31a1fcb-bb15-4eaf-a0c9-663dbcf65a7b"
      },
      "source": [
        "When analyzing the Shapley values for the man in sample_2, the contribution of the variables in the logistic regression behaves similarly to what was shown in the break-down plot. However, in the random forest, when averaged across all possible combinations of other variables, the feature \"race\" increases the probability of recidivism, in contrast to the behavior shown in the break-down plot, where it reduces it.\n",
        "\n",
        "Overall, for logistic regression and random forest, we can see that the most important variables for both local and global explanations are the number of prior crimes, age, and, to a lesser extent, gender. Regarding race, it seems to be important for the random forest, as its performance would decrease if it was removed. Additionally, when analyzing partial dependence, the effect is larger - in the global explanation - and it has a greater impact on the prediction when viewed in the context of local explanation, compared to the logistic regression."
      ]
    },
    {
      "cell_type": "code",
      "execution_count": 149,
      "id": "96a7cc05-bf37-42c6-9d3d-b6278249750f",
      "metadata": {
        "colab": {
          "base_uri": "https://localhost:8080/",
          "height": 738
        },
        "id": "96a7cc05-bf37-42c6-9d3d-b6278249750f",
        "outputId": "13638113-d6d9-43e9-f2de-fdaf18df92b1"
      },
      "outputs": [
        {
          "output_type": "display_data",
          "data": {
            "text/html": [
              "<html>\n",
              "<head><meta charset=\"utf-8\" /></head>\n",
              "<body>\n",
              "    <div>            <script src=\"https://cdnjs.cloudflare.com/ajax/libs/mathjax/2.7.5/MathJax.js?config=TeX-AMS-MML_SVG\"></script><script type=\"text/javascript\">if (window.MathJax) {MathJax.Hub.Config({SVG: {font: \"STIX-Web\"}});}</script>                <script type=\"text/javascript\">window.PlotlyConfig = {MathJaxConfig: 'local'};</script>\n",
              "        <script src=\"https://cdn.plot.ly/plotly-2.8.3.min.js\"></script>                <div id=\"d8481c44-1731-40ef-96c1-748d36e55f28\" class=\"plotly-graph-div\" style=\"height:721.0px; width:100%;\"></div>            <script type=\"text/javascript\">                                    window.PLOTLYENV=window.PLOTLYENV || {};                                    if (document.getElementById(\"d8481c44-1731-40ef-96c1-748d36e55f28\")) {                    Plotly.newPlot(                        \"d8481c44-1731-40ef-96c1-748d36e55f28\",                        [{\"base\":0.44892406202805973,\"hoverinfo\":\"text\",\"hoverlabel\":{\"bgcolor\":\"rgba(0,0,0,0.8)\"},\"hovertext\":[\"Average response: 0.449<br>Prediction: 0.371<br>priors_count = 1.0<br>decreases average response <br>by 0.077\",\"Average response: 0.449<br>Prediction: 0.371<br>age = 37.0<br>decreases average response <br>by 0.029\",\"Average response: 0.449<br>Prediction: 0.371<br>c_charge_degree = F<br>increases average response <br>by 0.016\",\"Average response: 0.449<br>Prediction: 0.371<br>sex = Male<br>increases average response <br>by 0.013\",\"Average response: 0.449<br>Prediction: 0.371<br>race = Caucasian<br>decreases average response <br>by 0.002\",\"Average response: 0.449<br>Prediction: 0.371<br>y_pred = 0.0<br>decreases average response <br>by 0.0\",\"Average response: 0.449<br>Prediction: 0.371<br>y_test = 1.0<br>decreases average response <br>by 0.0\"],\"marker\":{\"color\":[\"#f05a71\",\"#f05a71\",\"#8bdcbe\",\"#8bdcbe\",\"#f05a71\",\"#371ea3\",\"#371ea3\"]},\"orientation\":\"h\",\"showlegend\":false,\"text\":[\"-0.077\",\"-0.029\",\"+0.016\",\"+0.013\",\"-0.002\",\"0.0\",\"0.0\"],\"textposition\":\"outside\",\"x\":[-0.077,-0.029,0.016,0.013,-0.002,0.0,0.0],\"y\":[\"priors_count = 1.0\",\"age = 37.0\",\"c_charge_degree = F\",\"sex = Male\",\"race = Caucasian\",\"y_pred = 0.0\",\"y_test = 1.0\"],\"type\":\"bar\",\"xaxis\":\"x\",\"yaxis\":\"y\"},{\"base\":0.44892406202805973,\"hoverinfo\":\"text\",\"hoverlabel\":{\"bgcolor\":\"rgba(0,0,0,0.8)\"},\"hovertext\":[\"Average response: 0.449<br>Prediction: 0.284<br>age = 37.0<br>decreases average response <br>by 0.093\",\"Average response: 0.449<br>Prediction: 0.284<br>priors_count = 1.0<br>decreases average response <br>by 0.074\",\"Average response: 0.449<br>Prediction: 0.284<br>c_charge_degree = F<br>increases average response <br>by 0.003\",\"Average response: 0.449<br>Prediction: 0.284<br>race = Caucasian<br>decreases average response <br>by 0.001\",\"Average response: 0.449<br>Prediction: 0.284<br>sex = Male<br>decreases average response <br>by 0.0\",\"Average response: 0.449<br>Prediction: 0.284<br>y_pred = 0.0<br>decreases average response <br>by 0.0\",\"Average response: 0.449<br>Prediction: 0.284<br>y_test = 1.0<br>decreases average response <br>by 0.0\"],\"marker\":{\"color\":[\"#f05a71\",\"#f05a71\",\"#8bdcbe\",\"#f05a71\",\"#f05a71\",\"#371ea3\",\"#371ea3\"]},\"orientation\":\"h\",\"showlegend\":false,\"text\":[\"-0.093\",\"-0.074\",\"+0.003\",\"-0.001\",\"-0.0\",\"0.0\",\"0.0\"],\"textposition\":\"outside\",\"x\":[-0.093,-0.074,0.003,-0.001,-0.0,0.0,0.0],\"y\":[\"age = 37.0\",\"priors_count = 1.0\",\"c_charge_degree = F\",\"race = Caucasian\",\"sex = Male\",\"y_pred = 0.0\",\"y_test = 1.0\"],\"type\":\"bar\",\"xaxis\":\"x2\",\"yaxis\":\"y2\"},{\"base\":0.44892406202805973,\"hoverinfo\":\"text\",\"hoverlabel\":{\"bgcolor\":\"rgba(0,0,0,0.8)\"},\"hovertext\":[\"Average response: 0.449<br>Prediction: 0.312<br>age = 37.0<br>decreases average response <br>by 0.077\",\"Average response: 0.449<br>Prediction: 0.312<br>priors_count = 1.0<br>decreases average response <br>by 0.07\",\"Average response: 0.449<br>Prediction: 0.312<br>c_charge_degree = F<br>increases average response <br>by 0.007\",\"Average response: 0.449<br>Prediction: 0.312<br>race = Caucasian<br>increases average response <br>by 0.002\",\"Average response: 0.449<br>Prediction: 0.312<br>sex = Male<br>decreases average response <br>by 0.0\",\"Average response: 0.449<br>Prediction: 0.312<br>y_pred = 0.0<br>decreases average response <br>by 0.0\",\"Average response: 0.449<br>Prediction: 0.312<br>y_test = 1.0<br>decreases average response <br>by 0.0\"],\"marker\":{\"color\":[\"#f05a71\",\"#f05a71\",\"#8bdcbe\",\"#8bdcbe\",\"#f05a71\",\"#371ea3\",\"#371ea3\"]},\"orientation\":\"h\",\"showlegend\":false,\"text\":[\"-0.077\",\"-0.07\",\"+0.007\",\"+0.002\",\"-0.0\",\"0.0\",\"0.0\"],\"textposition\":\"outside\",\"x\":[-0.077,-0.07,0.007,0.002,-0.0,0.0,0.0],\"y\":[\"age = 37.0\",\"priors_count = 1.0\",\"c_charge_degree = F\",\"race = Caucasian\",\"sex = Male\",\"y_pred = 0.0\",\"y_test = 1.0\"],\"type\":\"bar\",\"xaxis\":\"x3\",\"yaxis\":\"y3\"}],                        {\"template\":{\"data\":{\"scatter\":[{\"type\":\"scatter\"}]}},\"xaxis\":{\"anchor\":\"y\",\"domain\":[0.0,1.0],\"matches\":\"x3\",\"showticklabels\":false,\"type\":\"linear\",\"gridwidth\":2,\"zeroline\":false,\"automargin\":true,\"ticks\":\"outside\",\"tickcolor\":\"white\",\"ticklen\":3,\"fixedrange\":true,\"range\":[0.3415240620280597,0.47887406202805977]},\"yaxis\":{\"anchor\":\"x\",\"domain\":[0.7111111111111111,1.0],\"type\":\"category\",\"autorange\":\"reversed\",\"gridwidth\":2,\"automargin\":true,\"ticks\":\"outside\",\"tickcolor\":\"white\",\"ticklen\":10,\"fixedrange\":true},\"xaxis2\":{\"anchor\":\"y2\",\"domain\":[0.0,1.0],\"matches\":\"x3\",\"showticklabels\":false,\"type\":\"linear\",\"gridwidth\":2,\"zeroline\":false,\"automargin\":true,\"ticks\":\"outside\",\"tickcolor\":\"white\",\"ticklen\":3,\"fixedrange\":true,\"range\":[0.3415240620280597,0.47887406202805977]},\"yaxis2\":{\"anchor\":\"x2\",\"domain\":[0.35555555555555557,0.6444444444444445],\"type\":\"category\",\"autorange\":\"reversed\",\"gridwidth\":2,\"automargin\":true,\"ticks\":\"outside\",\"tickcolor\":\"white\",\"ticklen\":10,\"fixedrange\":true},\"xaxis3\":{\"anchor\":\"y3\",\"domain\":[0.0,1.0],\"type\":\"linear\",\"gridwidth\":2,\"zeroline\":false,\"automargin\":true,\"ticks\":\"outside\",\"tickcolor\":\"white\",\"ticklen\":3,\"fixedrange\":true,\"range\":[0.3415240620280597,0.47887406202805977]},\"yaxis3\":{\"anchor\":\"x3\",\"domain\":[0.0,0.2888888888888889],\"type\":\"category\",\"autorange\":\"reversed\",\"gridwidth\":2,\"automargin\":true,\"ticks\":\"outside\",\"tickcolor\":\"white\",\"ticklen\":10,\"fixedrange\":true},\"annotations\":[{\"font\":{\"size\":16},\"showarrow\":false,\"text\":\"Logistic Regression\",\"x\":0.5,\"xanchor\":\"center\",\"xref\":\"paper\",\"y\":1.0,\"yanchor\":\"bottom\",\"yref\":\"paper\"},{\"font\":{\"size\":16},\"showarrow\":false,\"text\":\"Decision Tree\",\"x\":0.5,\"xanchor\":\"center\",\"xref\":\"paper\",\"y\":0.6444444444444445,\"yanchor\":\"bottom\",\"yref\":\"paper\"},{\"font\":{\"size\":16},\"showarrow\":false,\"text\":\"Random Forest\",\"x\":0.5,\"xanchor\":\"center\",\"xref\":\"paper\",\"y\":0.2888888888888889,\"yanchor\":\"bottom\",\"yref\":\"paper\"},{\"font\":{\"size\":16},\"showarrow\":false,\"text\":\"contribution\",\"x\":0.5,\"xanchor\":\"center\",\"xref\":\"paper\",\"y\":0,\"yanchor\":\"top\",\"yref\":\"paper\",\"yshift\":-30}],\"shapes\":[{\"line\":{\"color\":\"#371ea3\",\"dash\":\"dot\",\"width\":1.5},\"type\":\"line\",\"x0\":0.44892406202805973,\"x1\":0.44892406202805973,\"xref\":\"x\",\"y0\":-1,\"y1\":7,\"yref\":\"y\"},{\"line\":{\"color\":\"#371ea3\",\"dash\":\"dot\",\"width\":1.5},\"type\":\"line\",\"x0\":0.44892406202805973,\"x1\":0.44892406202805973,\"xref\":\"x2\",\"y0\":-1,\"y1\":7,\"yref\":\"y2\"},{\"line\":{\"color\":\"#371ea3\",\"dash\":\"dot\",\"width\":1.5},\"type\":\"line\",\"x0\":0.44892406202805973,\"x1\":0.44892406202805973,\"xref\":\"x3\",\"y0\":-1,\"y1\":7,\"yref\":\"y3\"}],\"title\":{\"text\":\"Shapley Values\",\"x\":0.15},\"font\":{\"color\":\"#371ea3\"},\"margin\":{\"t\":78,\"b\":71,\"r\":30},\"height\":721.0},                        {\"displaylogo\": false, \"staticPlot\": false, \"toImageButtonOptions\": {\"height\": null, \"width\": null}, \"modeBarButtonsToRemove\": [\"sendDataToCloud\", \"lasso2d\", \"autoScale2d\", \"select2d\", \"zoom2d\", \"pan2d\", \"zoomIn2d\", \"zoomOut2d\", \"resetScale2d\", \"toggleSpikelines\", \"hoverCompareCartesian\", \"hoverClosestCartesian\"], \"responsive\": true}                    ).then(function(){\n",
              "                            \n",
              "var gd = document.getElementById('d8481c44-1731-40ef-96c1-748d36e55f28');\n",
              "var x = new MutationObserver(function (mutations, observer) {{\n",
              "        var display = window.getComputedStyle(gd).display;\n",
              "        if (!display || display === 'none') {{\n",
              "            console.log([gd, 'removed!']);\n",
              "            Plotly.purge(gd);\n",
              "            observer.disconnect();\n",
              "        }}\n",
              "}});\n",
              "\n",
              "// Listen for the removal of the full notebook cells\n",
              "var notebookContainer = gd.closest('#notebook-container');\n",
              "if (notebookContainer) {{\n",
              "    x.observe(notebookContainer, {childList: true});\n",
              "}}\n",
              "\n",
              "// Listen for the clearing of the current output cell\n",
              "var outputEl = gd.closest('.output');\n",
              "if (outputEl) {{\n",
              "    x.observe(outputEl, {childList: true});\n",
              "}}\n",
              "\n",
              "                        })                };                            </script>        </div>\n",
              "</body>\n",
              "</html>"
            ]
          },
          "metadata": {}
        }
      ],
      "source": [
        "sample_2_shap_list = [e.predict_parts(sample_2, type='shap') for e in exp_list]\n",
        "sample_2_shap_list[0].plot(sample_2_shap_list[1:])"
      ]
    },
    {
      "cell_type": "markdown",
      "id": "6da50f8e-2c57-457f-ad85-cd312f834a07",
      "metadata": {
        "id": "6da50f8e-2c57-457f-ad85-cd312f834a07"
      },
      "source": [
        "#### Model Fairness"
      ]
    },
    {
      "cell_type": "markdown",
      "id": "1b2a36f0-3a4d-4117-8900-7ca0c000edd3",
      "metadata": {
        "id": "1b2a36f0-3a4d-4117-8900-7ca0c000edd3"
      },
      "source": [
        "The term \"bias\" is commonly used to describe disparities in algorithmic systems that are perceived as unjust or unethical from a societal standpoint. It's important to differentiate this meaning from the statistical definition of bias. In statistics and machine learning, the term bias has a well-established meaning that has been in use for a long time.\n",
        "\n",
        "A statistical estimator is considered biased if its average or expected value diverges from the true value it aims to estimate. Statistical bias is a crucial concept in statistics, and there is a wide range of established techniques for analyzing and correcting it. Machine learning is based on historical data, which means it reproduces the patterns and relationships it finds in that data. If different groups have different base rates, the model will inevitably have different error rates. This requires providing the computer with a sufficient number of diverse examples to uncover subtle patterns and accurately generalize from historical cases to future ones. However, the fact that machine learning is evidence-based does not guarantee accurate, reliable, or fair decisions."
      ]
    },
    {
      "cell_type": "markdown",
      "id": "2068de6e-5f92-491a-8840-01acfa430412",
      "metadata": {
        "id": "2068de6e-5f92-491a-8840-01acfa430412"
      },
      "source": [
        "**\"Fairness\" Decision** <br>\n",
        "That fairness decision is based on [epsilon](https://dalex.drwhy.ai/python/api/fairness/index.html), which is a parameter that defines acceptable fairness scores. The closer epsilon is to 1 the more strict the verdict is. If the ratio of certain unprivileged and privileged subgroup is within the (epsilon, 1/epsilon) range, then there is no discrimination in this metric and for these subgroups. As default, epsilon is set to 0.8 (it matches the four-fifths 80% rule).\n",
        "\n",
        "We get the information about bias according to the metrics TPR (True Positive Rate), ACC (Accuracy), PPV (Positive Predictive Value), FPR (False Positive Rate), and STP(Statistical parity). The metrics are derived from a confusion matrix for each unprivileged subgroup and then divided by metric values based on the privileged subgroup. There are [3 types of possible conclusions](https://medium.com/responsibleml/how-to-easily-check-if-your-ml-model-is-fair-2c173419ae4c):\n",
        "\n",
        "* `Not fair`: your model is not fair because 2 or more metric scores exceeded acceptable limits set by epsilon.\n",
        "\n",
        "* `Neither fair or not`: your model cannot be called fair because 1 metric score exceeded acceptable limits set by epsilon.It does not mean that your model is unfair but it cannot be automatically approved based on these metrics.\n",
        "\n",
        "* `Fair`: your model is fair in terms of checked fairness metrics."
      ]
    },
    {
      "cell_type": "markdown",
      "id": "d9a73f04-d59e-4047-86ae-ef8353d5d945",
      "metadata": {
        "id": "d9a73f04-d59e-4047-86ae-ef8353d5d945"
      },
      "source": [
        "To determine if the model has any bias, we will use the `fairness` module from Dalex.<br>\n",
        "* `protected`: An array-like object that contains subgroup values that represent a sensitive attribute, such as sex or nationality. The fairness metrics will be calculated for each of these subgroups and compared.\n",
        "\n",
        "* `privileged`: A string that specifies one of the subgroups, which is suspected of having the most privilege. This string will be used as a reference point for comparison with the other subgroups."
      ]
    },
    {
      "cell_type": "markdown",
      "id": "d3d291ff-6568-407b-8dda-e8b18ea0892c",
      "metadata": {
        "id": "d3d291ff-6568-407b-8dda-e8b18ea0892c"
      },
      "source": [
        "According to ProPublica, Caucasian individuals was determined to be underpredicted. Hence, this group was selected as the privileged group to see if our model is also privileged them."
      ]
    },
    {
      "cell_type": "code",
      "execution_count": 150,
      "id": "511a4cd4-c223-4ca2-823d-7fe75533ca04",
      "metadata": {
        "id": "511a4cd4-c223-4ca2-823d-7fe75533ca04"
      },
      "outputs": [],
      "source": [
        "mf_list = [e.model_fairness(protected = race_test, privileged = \"Caucasian\") for e in exp_list]"
      ]
    },
    {
      "cell_type": "code",
      "execution_count": 151,
      "id": "a5e0300b-5542-4294-8888-9bdc32e91265",
      "metadata": {
        "colab": {
          "base_uri": "https://localhost:8080/",
          "height": 542
        },
        "id": "a5e0300b-5542-4294-8888-9bdc32e91265",
        "outputId": "48e53232-37c6-4591-d341-c73da6e962c6"
      },
      "outputs": [
        {
          "output_type": "display_data",
          "data": {
            "text/html": [
              "<html>\n",
              "<head><meta charset=\"utf-8\" /></head>\n",
              "<body>\n",
              "    <div>            <script src=\"https://cdnjs.cloudflare.com/ajax/libs/mathjax/2.7.5/MathJax.js?config=TeX-AMS-MML_SVG\"></script><script type=\"text/javascript\">if (window.MathJax) {MathJax.Hub.Config({SVG: {font: \"STIX-Web\"}});}</script>                <script type=\"text/javascript\">window.PlotlyConfig = {MathJaxConfig: 'local'};</script>\n",
              "        <script src=\"https://cdn.plot.ly/plotly-2.8.3.min.js\"></script>                <div id=\"b3211cf7-6b5e-4200-9a8a-b1c6e2bf9bde\" class=\"plotly-graph-div\" style=\"height:525px; width:100%;\"></div>            <script type=\"text/javascript\">                                    window.PLOTLYENV=window.PLOTLYENV || {};                                    if (document.getElementById(\"b3211cf7-6b5e-4200-9a8a-b1c6e2bf9bde\")) {                    Plotly.newPlot(                        \"b3211cf7-6b5e-4200-9a8a-b1c6e2bf9bde\",                        [{\"alignmentgroup\":\"True\",\"customdata\":[[\"African-American\",2.054,\"Logistic Regression\"],[\"Hispanic\",0.677,\"Logistic Regression\"],[\"Other\",0.504,\"Logistic Regression\"]],\"hovertemplate\":\"<b>%{customdata[2]}</b><br>Subgroup: %{customdata[0]}<br>Score: %{customdata[1]}<br><extra></extra>\",\"legendgroup\":\"Logistic Regression\",\"marker\":{\"color\":\"#8bdcbe\",\"pattern\":{\"shape\":\"\"}},\"name\":\"Logistic Regression\",\"offsetgroup\":\"Logistic Regression\",\"orientation\":\"h\",\"showlegend\":true,\"textposition\":\"auto\",\"x\":[1.0538243626062322,-0.3229461756373938,-0.49575070821529743],\"xaxis\":\"x5\",\"y\":[0.25,0.5,0.75],\"yaxis\":\"y5\",\"type\":\"bar\"},{\"alignmentgroup\":\"True\",\"customdata\":[[\"African-American\",1.082,\"Logistic Regression\"],[\"Hispanic\",0.96,\"Logistic Regression\"],[\"Other\",1.09,\"Logistic Regression\"]],\"hovertemplate\":\"<b>%{customdata[2]}</b><br>Subgroup: %{customdata[0]}<br>Score: %{customdata[1]}<br><extra></extra>\",\"legendgroup\":\"Logistic Regression\",\"marker\":{\"color\":\"#8bdcbe\",\"pattern\":{\"shape\":\"\"}},\"name\":\"Logistic Regression\",\"offsetgroup\":\"Logistic Regression\",\"orientation\":\"h\",\"showlegend\":false,\"textposition\":\"auto\",\"x\":[0.08245877061469264,-0.040479760119940034,0.08995502248875553],\"xaxis\":\"x4\",\"y\":[0.25,0.5,0.75],\"yaxis\":\"y4\",\"type\":\"bar\"},{\"alignmentgroup\":\"True\",\"customdata\":[[\"African-American\",2.678,\"Logistic Regression\"],[\"Hispanic\",0.765,\"Logistic Regression\"],[\"Other\",0.313,\"Logistic Regression\"]],\"hovertemplate\":\"<b>%{customdata[2]}</b><br>Subgroup: %{customdata[0]}<br>Score: %{customdata[1]}<br><extra></extra>\",\"legendgroup\":\"Logistic Regression\",\"marker\":{\"color\":\"#8bdcbe\",\"pattern\":{\"shape\":\"\"}},\"name\":\"Logistic Regression\",\"offsetgroup\":\"Logistic Regression\",\"orientation\":\"h\",\"showlegend\":false,\"textposition\":\"auto\",\"x\":[1.678260869565217,-0.23478260869565226,-0.6869565217391305],\"xaxis\":\"x3\",\"y\":[0.25,0.5,0.75],\"yaxis\":\"y3\",\"type\":\"bar\"},{\"alignmentgroup\":\"True\",\"customdata\":[[\"African-American\",1.049,\"Logistic Regression\"],[\"Hispanic\",0.954,\"Logistic Regression\"],[\"Other\",1.018,\"Logistic Regression\"]],\"hovertemplate\":\"<b>%{customdata[2]}</b><br>Subgroup: %{customdata[0]}<br>Score: %{customdata[1]}<br><extra></extra>\",\"legendgroup\":\"Logistic Regression\",\"marker\":{\"color\":\"#8bdcbe\",\"pattern\":{\"shape\":\"\"}},\"name\":\"Logistic Regression\",\"offsetgroup\":\"Logistic Regression\",\"orientation\":\"h\",\"showlegend\":false,\"textposition\":\"auto\",\"x\":[0.04881656804733714,-0.04585798816568054,0.017751479289940697],\"xaxis\":\"x2\",\"y\":[0.25,0.5,0.75],\"yaxis\":\"y2\",\"type\":\"bar\"},{\"alignmentgroup\":\"True\",\"customdata\":[[\"African-American\",2.517,\"Logistic Regression\"],[\"Hispanic\",0.708,\"Logistic Regression\"],[\"Other\",0.411,\"Logistic Regression\"]],\"hovertemplate\":\"<b>%{customdata[2]}</b><br>Subgroup: %{customdata[0]}<br>Score: %{customdata[1]}<br><extra></extra>\",\"legendgroup\":\"Logistic Regression\",\"marker\":{\"color\":\"#8bdcbe\",\"pattern\":{\"shape\":\"\"}},\"name\":\"Logistic Regression\",\"offsetgroup\":\"Logistic Regression\",\"orientation\":\"h\",\"showlegend\":false,\"textposition\":\"auto\",\"x\":[1.5167464114832536,-0.29186602870813394,-0.5885167464114833],\"xaxis\":\"x\",\"y\":[0.25,0.5,0.75],\"yaxis\":\"y\",\"type\":\"bar\"},{\"alignmentgroup\":\"True\",\"customdata\":[[\"African-American\",1.643,\"Decision Tree\"],[\"Hispanic\",0.845,\"Decision Tree\"],[\"Other\",1.039,\"Decision Tree\"]],\"hovertemplate\":\"<b>%{customdata[2]}</b><br>Subgroup: %{customdata[0]}<br>Score: %{customdata[1]}<br><extra></extra>\",\"legendgroup\":\"Decision Tree\",\"marker\":{\"color\":\"#f05a71\",\"pattern\":{\"shape\":\"\"}},\"name\":\"Decision Tree\",\"offsetgroup\":\"Decision Tree\",\"orientation\":\"h\",\"showlegend\":true,\"textposition\":\"auto\",\"x\":[0.6428571428571428,-0.15517241379310343,0.039408866995073843],\"xaxis\":\"x5\",\"y\":[0.25,0.5,0.75],\"yaxis\":\"y5\",\"type\":\"bar\"},{\"alignmentgroup\":\"True\",\"customdata\":[[\"African-American\",1.16,\"Decision Tree\"],[\"Hispanic\",0.845,\"Decision Tree\"],[\"Other\",0.924,\"Decision Tree\"]],\"hovertemplate\":\"<b>%{customdata[2]}</b><br>Subgroup: %{customdata[0]}<br>Score: %{customdata[1]}<br><extra></extra>\",\"legendgroup\":\"Decision Tree\",\"marker\":{\"color\":\"#f05a71\",\"pattern\":{\"shape\":\"\"}},\"name\":\"Decision Tree\",\"offsetgroup\":\"Decision Tree\",\"orientation\":\"h\",\"showlegend\":false,\"textposition\":\"auto\",\"x\":[0.16033057851239674,-0.15537190082644625,-0.0760330578512396],\"xaxis\":\"x4\",\"y\":[0.25,0.5,0.75],\"yaxis\":\"y4\",\"type\":\"bar\"},{\"alignmentgroup\":\"True\",\"customdata\":[[\"African-American\",1.814,\"Decision Tree\"],[\"Hispanic\",1.256,\"Decision Tree\"],[\"Other\",1.052,\"Decision Tree\"]],\"hovertemplate\":\"<b>%{customdata[2]}</b><br>Subgroup: %{customdata[0]}<br>Score: %{customdata[1]}<br><extra></extra>\",\"legendgroup\":\"Decision Tree\",\"marker\":{\"color\":\"#f05a71\",\"pattern\":{\"shape\":\"\"}},\"name\":\"Decision Tree\",\"offsetgroup\":\"Decision Tree\",\"orientation\":\"h\",\"showlegend\":false,\"textposition\":\"auto\",\"x\":[0.8139534883720931,0.2558139534883721,0.05232558139534893],\"xaxis\":\"x3\",\"y\":[0.25,0.5,0.75],\"yaxis\":\"y3\",\"type\":\"bar\"},{\"alignmentgroup\":\"True\",\"customdata\":[[\"African-American\",1.023,\"Decision Tree\"],[\"Hispanic\",0.92,\"Decision Tree\"],[\"Other\",1.027,\"Decision Tree\"]],\"hovertemplate\":\"<b>%{customdata[2]}</b><br>Subgroup: %{customdata[0]}<br>Score: %{customdata[1]}<br><extra></extra>\",\"legendgroup\":\"Decision Tree\",\"marker\":{\"color\":\"#f05a71\",\"pattern\":{\"shape\":\"\"}},\"name\":\"Decision Tree\",\"offsetgroup\":\"Decision Tree\",\"orientation\":\"h\",\"showlegend\":false,\"textposition\":\"auto\",\"x\":[0.0226586102719033,-0.08006042296072513,0.027190332326284095],\"xaxis\":\"x2\",\"y\":[0.25,0.5,0.75],\"yaxis\":\"y2\",\"type\":\"bar\"},{\"alignmentgroup\":\"True\",\"customdata\":[[\"African-American\",1.886,\"Decision Tree\"],[\"Hispanic\",1.008,\"Decision Tree\"],[\"Other\",1.008,\"Decision Tree\"]],\"hovertemplate\":\"<b>%{customdata[2]}</b><br>Subgroup: %{customdata[0]}<br>Score: %{customdata[1]}<br><extra></extra>\",\"legendgroup\":\"Decision Tree\",\"marker\":{\"color\":\"#f05a71\",\"pattern\":{\"shape\":\"\"}},\"name\":\"Decision Tree\",\"offsetgroup\":\"Decision Tree\",\"orientation\":\"h\",\"showlegend\":false,\"textposition\":\"auto\",\"x\":[0.8863636363636362,0.007575757575757569,0.007575757575757569],\"xaxis\":\"x\",\"y\":[0.25,0.5,0.75],\"yaxis\":\"y\",\"type\":\"bar\"},{\"alignmentgroup\":\"True\",\"customdata\":[[\"African-American\",1.666,\"Random Forest\"],[\"Hispanic\",0.689,\"Random Forest\"],[\"Other\",0.972,\"Random Forest\"]],\"hovertemplate\":\"<b>%{customdata[2]}</b><br>Subgroup: %{customdata[0]}<br>Score: %{customdata[1]}<br><extra></extra>\",\"legendgroup\":\"Random Forest\",\"marker\":{\"color\":\"#4378bf\",\"pattern\":{\"shape\":\"\"}},\"name\":\"Random Forest\",\"offsetgroup\":\"Random Forest\",\"orientation\":\"h\",\"showlegend\":true,\"textposition\":\"auto\",\"x\":[0.6658986175115207,-0.3110599078341014,-0.027649769585253448],\"xaxis\":\"x5\",\"y\":[0.25,0.5,0.75],\"yaxis\":\"y5\",\"type\":\"bar\"},{\"alignmentgroup\":\"True\",\"customdata\":[[\"African-American\",1.078,\"Random Forest\"],[\"Hispanic\",0.839,\"Random Forest\"],[\"Other\",0.955,\"Random Forest\"]],\"hovertemplate\":\"<b>%{customdata[2]}</b><br>Subgroup: %{customdata[0]}<br>Score: %{customdata[1]}<br><extra></extra>\",\"legendgroup\":\"Random Forest\",\"marker\":{\"color\":\"#4378bf\",\"pattern\":{\"shape\":\"\"}},\"name\":\"Random Forest\",\"offsetgroup\":\"Random Forest\",\"orientation\":\"h\",\"showlegend\":false,\"textposition\":\"auto\",\"x\":[0.07843137254901955,-0.16138763197586725,-0.045248868778280604],\"xaxis\":\"x4\",\"y\":[0.25,0.5,0.75],\"yaxis\":\"y4\",\"type\":\"bar\"},{\"alignmentgroup\":\"True\",\"customdata\":[[\"African-American\",2.217,\"Random Forest\"],[\"Hispanic\",1.098,\"Random Forest\"],[\"Other\",0.93,\"Random Forest\"]],\"hovertemplate\":\"<b>%{customdata[2]}</b><br>Subgroup: %{customdata[0]}<br>Score: %{customdata[1]}<br><extra></extra>\",\"legendgroup\":\"Random Forest\",\"marker\":{\"color\":\"#4378bf\",\"pattern\":{\"shape\":\"\"}},\"name\":\"Random Forest\",\"offsetgroup\":\"Random Forest\",\"orientation\":\"h\",\"showlegend\":false,\"textposition\":\"auto\",\"x\":[1.216783216783217,0.09790209790209792,-0.06993006993006978],\"xaxis\":\"x3\",\"y\":[0.25,0.5,0.75],\"yaxis\":\"y3\",\"type\":\"bar\"},{\"alignmentgroup\":\"True\",\"customdata\":[[\"African-American\",1.02,\"Random Forest\"],[\"Hispanic\",0.909,\"Random Forest\"],[\"Other\",1.03,\"Random Forest\"]],\"hovertemplate\":\"<b>%{customdata[2]}</b><br>Subgroup: %{customdata[0]}<br>Score: %{customdata[1]}<br><extra></extra>\",\"legendgroup\":\"Random Forest\",\"marker\":{\"color\":\"#4378bf\",\"pattern\":{\"shape\":\"\"}},\"name\":\"Random Forest\",\"offsetgroup\":\"Random Forest\",\"orientation\":\"h\",\"showlegend\":false,\"textposition\":\"auto\",\"x\":[0.020289855072463725,-0.09130434782608687,0.0304347826086957],\"xaxis\":\"x2\",\"y\":[0.25,0.5,0.75],\"yaxis\":\"y2\",\"type\":\"bar\"},{\"alignmentgroup\":\"True\",\"customdata\":[[\"African-American\",2.05,\"Random Forest\"],[\"Hispanic\",0.826,\"Random Forest\"],[\"Other\",0.907,\"Random Forest\"]],\"hovertemplate\":\"<b>%{customdata[2]}</b><br>Subgroup: %{customdata[0]}<br>Score: %{customdata[1]}<br><extra></extra>\",\"legendgroup\":\"Random Forest\",\"marker\":{\"color\":\"#4378bf\",\"pattern\":{\"shape\":\"\"}},\"name\":\"Random Forest\",\"offsetgroup\":\"Random Forest\",\"orientation\":\"h\",\"showlegend\":false,\"textposition\":\"auto\",\"x\":[1.050387596899225,-0.17441860465116288,-0.09302325581395343],\"xaxis\":\"x\",\"y\":[0.25,0.5,0.75],\"yaxis\":\"y\",\"type\":\"bar\"}],                        {\"template\":{\"data\":{\"barpolar\":[{\"marker\":{\"line\":{\"color\":\"white\",\"width\":0.5},\"pattern\":{\"fillmode\":\"overlay\",\"size\":10,\"solidity\":0.2}},\"type\":\"barpolar\"}],\"bar\":[{\"error_x\":{\"color\":\"#2a3f5f\"},\"error_y\":{\"color\":\"#2a3f5f\"},\"marker\":{\"line\":{\"color\":\"white\",\"width\":0.5},\"pattern\":{\"fillmode\":\"overlay\",\"size\":10,\"solidity\":0.2}},\"type\":\"bar\"}],\"carpet\":[{\"aaxis\":{\"endlinecolor\":\"#2a3f5f\",\"gridcolor\":\"#C8D4E3\",\"linecolor\":\"#C8D4E3\",\"minorgridcolor\":\"#C8D4E3\",\"startlinecolor\":\"#2a3f5f\"},\"baxis\":{\"endlinecolor\":\"#2a3f5f\",\"gridcolor\":\"#C8D4E3\",\"linecolor\":\"#C8D4E3\",\"minorgridcolor\":\"#C8D4E3\",\"startlinecolor\":\"#2a3f5f\"},\"type\":\"carpet\"}],\"choropleth\":[{\"colorbar\":{\"outlinewidth\":0,\"ticks\":\"\"},\"type\":\"choropleth\"}],\"contourcarpet\":[{\"colorbar\":{\"outlinewidth\":0,\"ticks\":\"\"},\"type\":\"contourcarpet\"}],\"contour\":[{\"colorbar\":{\"outlinewidth\":0,\"ticks\":\"\"},\"colorscale\":[[0.0,\"#0d0887\"],[0.1111111111111111,\"#46039f\"],[0.2222222222222222,\"#7201a8\"],[0.3333333333333333,\"#9c179e\"],[0.4444444444444444,\"#bd3786\"],[0.5555555555555556,\"#d8576b\"],[0.6666666666666666,\"#ed7953\"],[0.7777777777777778,\"#fb9f3a\"],[0.8888888888888888,\"#fdca26\"],[1.0,\"#f0f921\"]],\"type\":\"contour\"}],\"heatmapgl\":[{\"colorbar\":{\"outlinewidth\":0,\"ticks\":\"\"},\"colorscale\":[[0.0,\"#0d0887\"],[0.1111111111111111,\"#46039f\"],[0.2222222222222222,\"#7201a8\"],[0.3333333333333333,\"#9c179e\"],[0.4444444444444444,\"#bd3786\"],[0.5555555555555556,\"#d8576b\"],[0.6666666666666666,\"#ed7953\"],[0.7777777777777778,\"#fb9f3a\"],[0.8888888888888888,\"#fdca26\"],[1.0,\"#f0f921\"]],\"type\":\"heatmapgl\"}],\"heatmap\":[{\"colorbar\":{\"outlinewidth\":0,\"ticks\":\"\"},\"colorscale\":[[0.0,\"#0d0887\"],[0.1111111111111111,\"#46039f\"],[0.2222222222222222,\"#7201a8\"],[0.3333333333333333,\"#9c179e\"],[0.4444444444444444,\"#bd3786\"],[0.5555555555555556,\"#d8576b\"],[0.6666666666666666,\"#ed7953\"],[0.7777777777777778,\"#fb9f3a\"],[0.8888888888888888,\"#fdca26\"],[1.0,\"#f0f921\"]],\"type\":\"heatmap\"}],\"histogram2dcontour\":[{\"colorbar\":{\"outlinewidth\":0,\"ticks\":\"\"},\"colorscale\":[[0.0,\"#0d0887\"],[0.1111111111111111,\"#46039f\"],[0.2222222222222222,\"#7201a8\"],[0.3333333333333333,\"#9c179e\"],[0.4444444444444444,\"#bd3786\"],[0.5555555555555556,\"#d8576b\"],[0.6666666666666666,\"#ed7953\"],[0.7777777777777778,\"#fb9f3a\"],[0.8888888888888888,\"#fdca26\"],[1.0,\"#f0f921\"]],\"type\":\"histogram2dcontour\"}],\"histogram2d\":[{\"colorbar\":{\"outlinewidth\":0,\"ticks\":\"\"},\"colorscale\":[[0.0,\"#0d0887\"],[0.1111111111111111,\"#46039f\"],[0.2222222222222222,\"#7201a8\"],[0.3333333333333333,\"#9c179e\"],[0.4444444444444444,\"#bd3786\"],[0.5555555555555556,\"#d8576b\"],[0.6666666666666666,\"#ed7953\"],[0.7777777777777778,\"#fb9f3a\"],[0.8888888888888888,\"#fdca26\"],[1.0,\"#f0f921\"]],\"type\":\"histogram2d\"}],\"histogram\":[{\"marker\":{\"pattern\":{\"fillmode\":\"overlay\",\"size\":10,\"solidity\":0.2}},\"type\":\"histogram\"}],\"mesh3d\":[{\"colorbar\":{\"outlinewidth\":0,\"ticks\":\"\"},\"type\":\"mesh3d\"}],\"parcoords\":[{\"line\":{\"colorbar\":{\"outlinewidth\":0,\"ticks\":\"\"}},\"type\":\"parcoords\"}],\"pie\":[{\"automargin\":true,\"type\":\"pie\"}],\"scatter3d\":[{\"line\":{\"colorbar\":{\"outlinewidth\":0,\"ticks\":\"\"}},\"marker\":{\"colorbar\":{\"outlinewidth\":0,\"ticks\":\"\"}},\"type\":\"scatter3d\"}],\"scattercarpet\":[{\"marker\":{\"colorbar\":{\"outlinewidth\":0,\"ticks\":\"\"}},\"type\":\"scattercarpet\"}],\"scattergeo\":[{\"marker\":{\"colorbar\":{\"outlinewidth\":0,\"ticks\":\"\"}},\"type\":\"scattergeo\"}],\"scattergl\":[{\"marker\":{\"colorbar\":{\"outlinewidth\":0,\"ticks\":\"\"}},\"type\":\"scattergl\"}],\"scattermapbox\":[{\"marker\":{\"colorbar\":{\"outlinewidth\":0,\"ticks\":\"\"}},\"type\":\"scattermapbox\"}],\"scatterpolargl\":[{\"marker\":{\"colorbar\":{\"outlinewidth\":0,\"ticks\":\"\"}},\"type\":\"scatterpolargl\"}],\"scatterpolar\":[{\"marker\":{\"colorbar\":{\"outlinewidth\":0,\"ticks\":\"\"}},\"type\":\"scatterpolar\"}],\"scatter\":[{\"marker\":{\"colorbar\":{\"outlinewidth\":0,\"ticks\":\"\"}},\"type\":\"scatter\"}],\"scatterternary\":[{\"marker\":{\"colorbar\":{\"outlinewidth\":0,\"ticks\":\"\"}},\"type\":\"scatterternary\"}],\"surface\":[{\"colorbar\":{\"outlinewidth\":0,\"ticks\":\"\"},\"colorscale\":[[0.0,\"#0d0887\"],[0.1111111111111111,\"#46039f\"],[0.2222222222222222,\"#7201a8\"],[0.3333333333333333,\"#9c179e\"],[0.4444444444444444,\"#bd3786\"],[0.5555555555555556,\"#d8576b\"],[0.6666666666666666,\"#ed7953\"],[0.7777777777777778,\"#fb9f3a\"],[0.8888888888888888,\"#fdca26\"],[1.0,\"#f0f921\"]],\"type\":\"surface\"}],\"table\":[{\"cells\":{\"fill\":{\"color\":\"#EBF0F8\"},\"line\":{\"color\":\"white\"}},\"header\":{\"fill\":{\"color\":\"#C8D4E3\"},\"line\":{\"color\":\"white\"}},\"type\":\"table\"}]},\"layout\":{\"annotationdefaults\":{\"arrowcolor\":\"#2a3f5f\",\"arrowhead\":0,\"arrowwidth\":1},\"autotypenumbers\":\"strict\",\"coloraxis\":{\"colorbar\":{\"outlinewidth\":0,\"ticks\":\"\"}},\"colorscale\":{\"diverging\":[[0,\"#8e0152\"],[0.1,\"#c51b7d\"],[0.2,\"#de77ae\"],[0.3,\"#f1b6da\"],[0.4,\"#fde0ef\"],[0.5,\"#f7f7f7\"],[0.6,\"#e6f5d0\"],[0.7,\"#b8e186\"],[0.8,\"#7fbc41\"],[0.9,\"#4d9221\"],[1,\"#276419\"]],\"sequential\":[[0.0,\"#0d0887\"],[0.1111111111111111,\"#46039f\"],[0.2222222222222222,\"#7201a8\"],[0.3333333333333333,\"#9c179e\"],[0.4444444444444444,\"#bd3786\"],[0.5555555555555556,\"#d8576b\"],[0.6666666666666666,\"#ed7953\"],[0.7777777777777778,\"#fb9f3a\"],[0.8888888888888888,\"#fdca26\"],[1.0,\"#f0f921\"]],\"sequentialminus\":[[0.0,\"#0d0887\"],[0.1111111111111111,\"#46039f\"],[0.2222222222222222,\"#7201a8\"],[0.3333333333333333,\"#9c179e\"],[0.4444444444444444,\"#bd3786\"],[0.5555555555555556,\"#d8576b\"],[0.6666666666666666,\"#ed7953\"],[0.7777777777777778,\"#fb9f3a\"],[0.8888888888888888,\"#fdca26\"],[1.0,\"#f0f921\"]]},\"colorway\":[\"#636efa\",\"#EF553B\",\"#00cc96\",\"#ab63fa\",\"#FFA15A\",\"#19d3f3\",\"#FF6692\",\"#B6E880\",\"#FF97FF\",\"#FECB52\"],\"font\":{\"color\":\"#2a3f5f\"},\"geo\":{\"bgcolor\":\"white\",\"lakecolor\":\"white\",\"landcolor\":\"white\",\"showlakes\":true,\"showland\":true,\"subunitcolor\":\"#C8D4E3\"},\"hoverlabel\":{\"align\":\"left\"},\"hovermode\":\"closest\",\"mapbox\":{\"style\":\"light\"},\"paper_bgcolor\":\"white\",\"plot_bgcolor\":\"white\",\"polar\":{\"angularaxis\":{\"gridcolor\":\"#EBF0F8\",\"linecolor\":\"#EBF0F8\",\"ticks\":\"\"},\"bgcolor\":\"white\",\"radialaxis\":{\"gridcolor\":\"#EBF0F8\",\"linecolor\":\"#EBF0F8\",\"ticks\":\"\"}},\"scene\":{\"xaxis\":{\"backgroundcolor\":\"white\",\"gridcolor\":\"#DFE8F3\",\"gridwidth\":2,\"linecolor\":\"#EBF0F8\",\"showbackground\":true,\"ticks\":\"\",\"zerolinecolor\":\"#EBF0F8\"},\"yaxis\":{\"backgroundcolor\":\"white\",\"gridcolor\":\"#DFE8F3\",\"gridwidth\":2,\"linecolor\":\"#EBF0F8\",\"showbackground\":true,\"ticks\":\"\",\"zerolinecolor\":\"#EBF0F8\"},\"zaxis\":{\"backgroundcolor\":\"white\",\"gridcolor\":\"#DFE8F3\",\"gridwidth\":2,\"linecolor\":\"#EBF0F8\",\"showbackground\":true,\"ticks\":\"\",\"zerolinecolor\":\"#EBF0F8\"}},\"shapedefaults\":{\"line\":{\"color\":\"#2a3f5f\"}},\"ternary\":{\"aaxis\":{\"gridcolor\":\"#DFE8F3\",\"linecolor\":\"#A2B1C6\",\"ticks\":\"\"},\"baxis\":{\"gridcolor\":\"#DFE8F3\",\"linecolor\":\"#A2B1C6\",\"ticks\":\"\"},\"bgcolor\":\"white\",\"caxis\":{\"gridcolor\":\"#DFE8F3\",\"linecolor\":\"#A2B1C6\",\"ticks\":\"\"}},\"title\":{\"x\":0.05},\"xaxis\":{\"automargin\":true,\"gridcolor\":\"#EBF0F8\",\"linecolor\":\"#EBF0F8\",\"ticks\":\"\",\"title\":{\"standoff\":15},\"zerolinecolor\":\"#EBF0F8\",\"zerolinewidth\":2},\"yaxis\":{\"automargin\":true,\"gridcolor\":\"#EBF0F8\",\"linecolor\":\"#EBF0F8\",\"ticks\":\"\",\"title\":{\"standoff\":15},\"zerolinecolor\":\"#EBF0F8\",\"zerolinewidth\":2}}},\"xaxis\":{\"anchor\":\"y\",\"domain\":[0.0,1.0],\"title\":{\"text\":\"score\"},\"tickvals\":[-1.0,-0.5,0.0,0.5,1.0,1.5,0.0],\"ticktext\":[0.0,0.5,1.0,1.5,2.0,2.5,1.0],\"range\":[-0.7556521739130436,1.8]},\"yaxis\":{\"anchor\":\"x\",\"domain\":[0.0,0.144],\"title\":{\"text\":\"\"},\"tickvals\":[0.25,0.5,0.75],\"ticktext\":[\"African-American\",\"Hispanic\",\"Other\"],\"range\":[0,1],\"showgrid\":false,\"zeroline\":false},\"xaxis2\":{\"anchor\":\"y2\",\"domain\":[0.0,1.0],\"matches\":\"x\",\"showticklabels\":false,\"tickvals\":[-1.0,-0.5,0.0,0.5,1.0,1.5,0.0],\"ticktext\":[0.0,0.5,1.0,1.5,2.0,2.5,1.0],\"range\":[-0.7556521739130436,1.8]},\"yaxis2\":{\"anchor\":\"x2\",\"domain\":[0.214,0.358],\"matches\":\"y\",\"title\":{\"text\":\"\"},\"tickvals\":[0.25,0.5,0.75],\"ticktext\":[\"African-American\",\"Hispanic\",\"Other\"],\"range\":[0,1],\"showgrid\":false,\"zeroline\":false},\"xaxis3\":{\"anchor\":\"y3\",\"domain\":[0.0,1.0],\"matches\":\"x\",\"showticklabels\":false,\"tickvals\":[-1.0,-0.5,0.0,0.5,1.0,1.5,0.0],\"ticktext\":[0.0,0.5,1.0,1.5,2.0,2.5,1.0],\"range\":[-0.7556521739130436,1.8]},\"yaxis3\":{\"anchor\":\"x3\",\"domain\":[0.428,0.572],\"matches\":\"y\",\"title\":{\"text\":\"subgroup\"},\"tickvals\":[0.25,0.5,0.75],\"ticktext\":[\"African-American\",\"Hispanic\",\"Other\"],\"range\":[0,1],\"showgrid\":false,\"zeroline\":false},\"xaxis4\":{\"anchor\":\"y4\",\"domain\":[0.0,1.0],\"matches\":\"x\",\"showticklabels\":false,\"tickvals\":[-1.0,-0.5,0.0,0.5,1.0,1.5,0.0],\"ticktext\":[0.0,0.5,1.0,1.5,2.0,2.5,1.0],\"range\":[-0.7556521739130436,1.8]},\"yaxis4\":{\"anchor\":\"x4\",\"domain\":[0.6419999999999999,0.7859999999999999],\"matches\":\"y\",\"title\":{\"text\":\"\"},\"tickvals\":[0.25,0.5,0.75],\"ticktext\":[\"African-American\",\"Hispanic\",\"Other\"],\"range\":[0,1],\"showgrid\":false,\"zeroline\":false},\"xaxis5\":{\"anchor\":\"y5\",\"domain\":[0.0,1.0],\"matches\":\"x\",\"showticklabels\":false,\"tickvals\":[-1.0,-0.5,0.0,0.5,1.0,1.5,0.0],\"ticktext\":[0.0,0.5,1.0,1.5,2.0,2.5,1.0],\"range\":[-0.7556521739130436,1.8]},\"yaxis5\":{\"anchor\":\"x5\",\"domain\":[0.856,1.0],\"matches\":\"y\",\"title\":{\"text\":\"\"},\"tickvals\":[0.25,0.5,0.75],\"ticktext\":[\"African-American\",\"Hispanic\",\"Other\"],\"range\":[0,1],\"showgrid\":false,\"zeroline\":false},\"annotations\":[{\"font\":{\"size\":15},\"showarrow\":false,\"text\":\"Statistical parity ratio   (TP + FP)/(TP + FP + TN + FN)\",\"x\":0.05,\"xanchor\":\"left\",\"xref\":\"paper\",\"y\":0.144,\"yanchor\":\"bottom\",\"yref\":\"paper\"},{\"font\":{\"size\":15},\"showarrow\":false,\"text\":\"Accuracy equality ratio    (TP + TN)/(TP + FP + TN + FN)\",\"x\":0.05,\"xanchor\":\"left\",\"xref\":\"paper\",\"y\":0.358,\"yanchor\":\"bottom\",\"yref\":\"paper\"},{\"font\":{\"size\":15},\"showarrow\":false,\"text\":\"Predictive equality ratio   FP/(FP + TN)\",\"x\":0.05,\"xanchor\":\"left\",\"xref\":\"paper\",\"y\":0.572,\"yanchor\":\"bottom\",\"yref\":\"paper\"},{\"font\":{\"size\":15},\"showarrow\":false,\"text\":\"Predictive parity ratio     TP/(TP + FP)\",\"x\":0.05,\"xanchor\":\"left\",\"xref\":\"paper\",\"y\":0.7859999999999999,\"yanchor\":\"bottom\",\"yref\":\"paper\"},{\"font\":{\"size\":15},\"showarrow\":false,\"text\":\"Equal opportunity ratio     TP/(TP + FN)\",\"x\":0.05,\"xanchor\":\"left\",\"xref\":\"paper\",\"y\":1.0,\"yanchor\":\"bottom\",\"yref\":\"paper\"}],\"legend\":{\"title\":{\"text\":\"label\"},\"tracegroupgap\":0},\"margin\":{\"t\":78,\"b\":71,\"r\":30},\"barmode\":\"group\",\"shapes\":[{\"fillcolor\":\"#f05a71\",\"layer\":\"below\",\"line\":{\"width\":0},\"opacity\":0.1,\"type\":\"rect\",\"x0\":0.25,\"x1\":1.8,\"xref\":\"x\",\"y0\":0,\"y1\":1,\"yref\":\"y\"},{\"fillcolor\":\"#f05a71\",\"layer\":\"below\",\"line\":{\"width\":0},\"opacity\":0.1,\"type\":\"rect\",\"x0\":-0.7556521739130436,\"x1\":-0.19999999999999996,\"xref\":\"x\",\"y0\":0,\"y1\":1,\"yref\":\"y\"},{\"fillcolor\":\"#c7f5bf\",\"layer\":\"below\",\"line\":{\"width\":0},\"opacity\":0.1,\"type\":\"rect\",\"x0\":-0.19999999999999996,\"x1\":0.25,\"xref\":\"x\",\"y0\":0,\"y1\":1,\"yref\":\"y\"},{\"line\":{\"color\":\"#371ea3\",\"width\":1.5},\"type\":\"line\",\"x0\":0,\"x1\":0,\"xref\":\"x\",\"y0\":0,\"y1\":1,\"yref\":\"y\"},{\"fillcolor\":\"#f05a71\",\"layer\":\"below\",\"line\":{\"width\":0},\"opacity\":0.1,\"type\":\"rect\",\"x0\":0.25,\"x1\":1.8,\"xref\":\"x\",\"y0\":0,\"y1\":1,\"yref\":\"y2\"},{\"fillcolor\":\"#f05a71\",\"layer\":\"below\",\"line\":{\"width\":0},\"opacity\":0.1,\"type\":\"rect\",\"x0\":-0.7556521739130436,\"x1\":-0.19999999999999996,\"xref\":\"x\",\"y0\":0,\"y1\":1,\"yref\":\"y2\"},{\"fillcolor\":\"#c7f5bf\",\"layer\":\"below\",\"line\":{\"width\":0},\"opacity\":0.1,\"type\":\"rect\",\"x0\":-0.19999999999999996,\"x1\":0.25,\"xref\":\"x\",\"y0\":0,\"y1\":1,\"yref\":\"y2\"},{\"line\":{\"color\":\"#371ea3\",\"width\":1.5},\"type\":\"line\",\"x0\":0,\"x1\":0,\"xref\":\"x\",\"y0\":0,\"y1\":1,\"yref\":\"y2\"},{\"fillcolor\":\"#f05a71\",\"layer\":\"below\",\"line\":{\"width\":0},\"opacity\":0.1,\"type\":\"rect\",\"x0\":0.25,\"x1\":1.8,\"xref\":\"x\",\"y0\":0,\"y1\":1,\"yref\":\"y3\"},{\"fillcolor\":\"#f05a71\",\"layer\":\"below\",\"line\":{\"width\":0},\"opacity\":0.1,\"type\":\"rect\",\"x0\":-0.7556521739130436,\"x1\":-0.19999999999999996,\"xref\":\"x\",\"y0\":0,\"y1\":1,\"yref\":\"y3\"},{\"fillcolor\":\"#c7f5bf\",\"layer\":\"below\",\"line\":{\"width\":0},\"opacity\":0.1,\"type\":\"rect\",\"x0\":-0.19999999999999996,\"x1\":0.25,\"xref\":\"x\",\"y0\":0,\"y1\":1,\"yref\":\"y3\"},{\"line\":{\"color\":\"#371ea3\",\"width\":1.5},\"type\":\"line\",\"x0\":0,\"x1\":0,\"xref\":\"x\",\"y0\":0,\"y1\":1,\"yref\":\"y3\"},{\"fillcolor\":\"#f05a71\",\"layer\":\"below\",\"line\":{\"width\":0},\"opacity\":0.1,\"type\":\"rect\",\"x0\":0.25,\"x1\":1.8,\"xref\":\"x\",\"y0\":0,\"y1\":1,\"yref\":\"y4\"},{\"fillcolor\":\"#f05a71\",\"layer\":\"below\",\"line\":{\"width\":0},\"opacity\":0.1,\"type\":\"rect\",\"x0\":-0.7556521739130436,\"x1\":-0.19999999999999996,\"xref\":\"x\",\"y0\":0,\"y1\":1,\"yref\":\"y4\"},{\"fillcolor\":\"#c7f5bf\",\"layer\":\"below\",\"line\":{\"width\":0},\"opacity\":0.1,\"type\":\"rect\",\"x0\":-0.19999999999999996,\"x1\":0.25,\"xref\":\"x\",\"y0\":0,\"y1\":1,\"yref\":\"y4\"},{\"line\":{\"color\":\"#371ea3\",\"width\":1.5},\"type\":\"line\",\"x0\":0,\"x1\":0,\"xref\":\"x\",\"y0\":0,\"y1\":1,\"yref\":\"y4\"},{\"fillcolor\":\"#f05a71\",\"layer\":\"below\",\"line\":{\"width\":0},\"opacity\":0.1,\"type\":\"rect\",\"x0\":0.25,\"x1\":1.8,\"y0\":0,\"y1\":1,\"yref\":\"y5\",\"xref\":\"x\"},{\"fillcolor\":\"#f05a71\",\"layer\":\"below\",\"line\":{\"width\":0},\"opacity\":0.1,\"type\":\"rect\",\"x0\":-0.7556521739130436,\"x1\":-0.19999999999999996,\"y0\":0,\"y1\":1,\"yref\":\"y5\",\"xref\":\"x\"},{\"fillcolor\":\"#c7f5bf\",\"layer\":\"below\",\"line\":{\"width\":0},\"opacity\":0.1,\"type\":\"rect\",\"x0\":-0.19999999999999996,\"x1\":0.25,\"y0\":0,\"y1\":1,\"yref\":\"y5\",\"xref\":\"x\"},{\"line\":{\"color\":\"#371ea3\",\"width\":1.5},\"type\":\"line\",\"x0\":0,\"x1\":0,\"xref\":\"x\",\"y0\":0,\"y1\":1,\"yref\":\"y5\"}],\"title\":{\"font\":{\"size\":25},\"text\":\"Fairness Check\",\"x\":0.5,\"y\":0.99},\"font\":{\"color\":\"#371ea3\"}},                        {\"displaylogo\": false, \"staticPlot\": false, \"toImageButtonOptions\": {\"height\": null, \"width\": null}, \"modeBarButtonsToRemove\": [\"sendDataToCloud\", \"lasso2d\", \"autoScale2d\", \"select2d\", \"zoom2d\", \"pan2d\", \"zoomIn2d\", \"zoomOut2d\", \"resetScale2d\", \"toggleSpikelines\", \"hoverCompareCartesian\", \"hoverClosestCartesian\"], \"responsive\": true}                    ).then(function(){\n",
              "                            \n",
              "var gd = document.getElementById('b3211cf7-6b5e-4200-9a8a-b1c6e2bf9bde');\n",
              "var x = new MutationObserver(function (mutations, observer) {{\n",
              "        var display = window.getComputedStyle(gd).display;\n",
              "        if (!display || display === 'none') {{\n",
              "            console.log([gd, 'removed!']);\n",
              "            Plotly.purge(gd);\n",
              "            observer.disconnect();\n",
              "        }}\n",
              "}});\n",
              "\n",
              "// Listen for the removal of the full notebook cells\n",
              "var notebookContainer = gd.closest('#notebook-container');\n",
              "if (notebookContainer) {{\n",
              "    x.observe(notebookContainer, {childList: true});\n",
              "}}\n",
              "\n",
              "// Listen for the clearing of the current output cell\n",
              "var outputEl = gd.closest('.output');\n",
              "if (outputEl) {{\n",
              "    x.observe(outputEl, {childList: true});\n",
              "}}\n",
              "\n",
              "                        })                };                            </script>        </div>\n",
              "</body>\n",
              "</html>"
            ]
          },
          "metadata": {}
        }
      ],
      "source": [
        "mf_list[0].plot(mf_list[1:])"
      ]
    },
    {
      "cell_type": "markdown",
      "id": "867581cf-7648-4a60-a3b9-760bb1bbdc3f",
      "metadata": {
        "id": "867581cf-7648-4a60-a3b9-760bb1bbdc3f"
      },
      "source": [
        "* Equal opportunity ratio = A classifier satisfies this definition if the subjects in the protected and unprotected groups have equal FNR (or equal TPR, since TPR= 1-FNR).\n",
        "\n",
        "* Predictive parity ratio = A classifier satisfies this definition if the subjects in the protected and unprotected groups have equal Positive Predictive Value (PPV)\n",
        "\n",
        "* Predictive equality ratio = A classifier satisfies this definition if the subjects in the protected and unprotected groups have aqual FPR.\n",
        "\n",
        "* Accuracy equality ratio = A classifier satisfies this definition if the subject in the protected and unprotected groups have equal prediction accuracy, that is, the probability of a subject from one class to be assigned to it.\n",
        "\n",
        "* Statistical parity ratio= A classifier satisfies this definition if the subjects in the protected and unprotected groups have equal probability of being assigned to the positive predicted class."
      ]
    },
    {
      "cell_type": "markdown",
      "id": "f46839b2-6dfe-48af-883f-2007f516777c",
      "metadata": {
        "id": "f46839b2-6dfe-48af-883f-2007f516777c"
      },
      "source": [
        "According to the fairness check, the logistic regression model, decision three and random forest are not fair. This is because the ratios for TPR, FPR and STP exceed the threshold (should be between 0.8 and 1.25). We can also observe the same graphically in the previous chart Fairnes Check, there the ratios for the mentioned matrix are in the red zone (over the threshold).\n",
        "\n",
        "We analyse these metrics for African-Americans:\n",
        "\n",
        "* TPR: all models have a higher sensitivity or recall for black people, which means that the model succeeds well in finding all the positive cases in the data, even though they may also wrongly identify some negative cases as positive cases. Again, this was one of the complaints from ProPoblica.\n",
        "\n",
        "* FPR: this metric is also higher for black defendants, since it's related to the previous explanation: the model finds more positive cases, with the downsize that it also labels someone who didn't reoffend as \"will recidivate\".\n",
        "\n",
        "* STP: this ratio shows that black defendants are assigned a positive outcome (will reoffend) more often than white defendants. This is also related to the results in TPR and FPR."
      ]
    },
    {
      "cell_type": "code",
      "execution_count": 152,
      "id": "90aef9de-ae1d-4f8e-98d9-0b2592a19b82",
      "metadata": {
        "colab": {
          "base_uri": "https://localhost:8080/"
        },
        "id": "90aef9de-ae1d-4f8e-98d9-0b2592a19b82",
        "outputId": "3dd0597d-7006-462c-f992-7816e06042ec"
      },
      "outputs": [
        {
          "output_type": "stream",
          "name": "stdout",
          "text": [
            "Logistic Regression\n",
            "Bias detected in 3 metrics: TPR, FPR, STP\n",
            "\n",
            "Conclusion: your model is not fair because 2 or more criteria exceeded acceptable limits set by epsilon.\n",
            "\n",
            "Ratios of metrics, based on 'Caucasian'. Parameter 'epsilon' was set to 0.8 and therefore metrics should be within (0.8, 1.25)\n",
            "                       TPR       ACC       PPV       FPR       STP\n",
            "African-American  2.053824  1.048817  1.082459  2.678261  2.516746\n",
            "Hispanic          0.677054  0.954142  0.959520  0.765217  0.708134\n",
            "Other             0.504249  1.017751  1.089955  0.313043  0.411483\n",
            "\n",
            "\n",
            "Decision Tree\n",
            "Bias detected in 3 metrics: TPR, FPR, STP\n",
            "\n",
            "Conclusion: your model is not fair because 2 or more criteria exceeded acceptable limits set by epsilon.\n",
            "\n",
            "Ratios of metrics, based on 'Caucasian'. Parameter 'epsilon' was set to 0.8 and therefore metrics should be within (0.8, 1.25)\n",
            "                       TPR       ACC       PPV       FPR       STP\n",
            "African-American  1.642857  1.022659  1.160331  1.813953  1.886364\n",
            "Hispanic          0.844828  0.919940  0.844628  1.255814  1.007576\n",
            "Other             1.039409  1.027190  0.923967  1.052326  1.007576\n",
            "\n",
            "\n",
            "Random Forest\n",
            "Bias detected in 3 metrics: TPR, FPR, STP\n",
            "\n",
            "Conclusion: your model is not fair because 2 or more criteria exceeded acceptable limits set by epsilon.\n",
            "\n",
            "Ratios of metrics, based on 'Caucasian'. Parameter 'epsilon' was set to 0.8 and therefore metrics should be within (0.8, 1.25)\n",
            "                       TPR       ACC       PPV       FPR       STP\n",
            "African-American  1.665899  1.020290  1.078431  2.216783  2.050388\n",
            "Hispanic          0.688940  0.908696  0.838612  1.097902  0.825581\n",
            "Other             0.972350  1.030435  0.954751  0.930070  0.906977\n",
            "\n",
            "\n"
          ]
        }
      ],
      "source": [
        "for mf in mf_list:\n",
        "    print(mf.label)\n",
        "    mf.fairness_check()\n",
        "    print(\"\\n\")"
      ]
    },
    {
      "cell_type": "code",
      "execution_count": 153,
      "id": "b55ea27b-7ea1-4743-9d7e-b67e6ceee08d",
      "metadata": {
        "colab": {
          "base_uri": "https://localhost:8080/",
          "height": 542
        },
        "id": "b55ea27b-7ea1-4743-9d7e-b67e6ceee08d",
        "outputId": "851eac9b-8047-4e41-db0a-dc03e4ce7cb2"
      },
      "outputs": [
        {
          "output_type": "display_data",
          "data": {
            "text/html": [
              "<html>\n",
              "<head><meta charset=\"utf-8\" /></head>\n",
              "<body>\n",
              "    <div>            <script src=\"https://cdnjs.cloudflare.com/ajax/libs/mathjax/2.7.5/MathJax.js?config=TeX-AMS-MML_SVG\"></script><script type=\"text/javascript\">if (window.MathJax) {MathJax.Hub.Config({SVG: {font: \"STIX-Web\"}});}</script>                <script type=\"text/javascript\">window.PlotlyConfig = {MathJaxConfig: 'local'};</script>\n",
              "        <script src=\"https://cdn.plot.ly/plotly-2.8.3.min.js\"></script>                <div id=\"3fdd7b54-b810-4854-bf3a-3912d3c6c4f0\" class=\"plotly-graph-div\" style=\"height:525px; width:100%;\"></div>            <script type=\"text/javascript\">                                    window.PLOTLYENV=window.PLOTLYENV || {};                                    if (document.getElementById(\"3fdd7b54-b810-4854-bf3a-3912d3c6c4f0\")) {                    Plotly.newPlot(                        \"3fdd7b54-b810-4854-bf3a-3912d3c6c4f0\",                        [{\"alignmentgroup\":\"True\",\"customdata\":[[1.794,\"TPR\"],[0.704,\"TPR\"],[0.911,\"TPR\"]],\"hovertemplate\":\"<b>%{label}</b><br>Metric: %{customdata[1]}<br>Parity loss: %{customdata[0]}<br><extra></extra>\",\"legendgroup\":\"TPR\",\"marker\":{\"color\":\"#8bdcbe\",\"pattern\":{\"shape\":\"\"},\"line\":{\"width\":0}},\"name\":\"TPR\",\"offsetgroup\":\"TPR\",\"orientation\":\"h\",\"showlegend\":true,\"textposition\":\"auto\",\"x\":[1.7943926095643756,0.7037117531839628,0.9110048688324713],\"xaxis\":\"x\",\"y\":[\"Logistic Regression\",\"Decision Tree\",\"Random Forest\"],\"yaxis\":\"y\",\"type\":\"bar\"},{\"alignmentgroup\":\"True\",\"customdata\":[[0.207,\"PPV\"],[0.397,\"PPV\"],[0.298,\"PPV\"]],\"hovertemplate\":\"<b>%{label}</b><br>Metric: %{customdata[1]}<br>Parity loss: %{customdata[0]}<br><extra></extra>\",\"legendgroup\":\"PPV\",\"marker\":{\"color\":\"#f05a71\",\"pattern\":{\"shape\":\"\"},\"line\":{\"width\":0}},\"name\":\"PPV\",\"offsetgroup\":\"PPV\",\"orientation\":\"h\",\"showlegend\":true,\"textposition\":\"auto\",\"x\":[0.20669339415700427,0.3966427986978489,0.2978188164851116],\"xaxis\":\"x\",\"y\":[\"Logistic Regression\",\"Decision Tree\",\"Random Forest\"],\"yaxis\":\"y\",\"type\":\"bar\"},{\"alignmentgroup\":\"True\",\"customdata\":[[2.414,\"FPR\"],[0.874,\"FPR\"],[0.962,\"FPR\"]],\"hovertemplate\":\"<b>%{label}</b><br>Metric: %{customdata[1]}<br>Parity loss: %{customdata[0]}<br><extra></extra>\",\"legendgroup\":\"FPR\",\"marker\":{\"color\":\"#4378bf\",\"pattern\":{\"shape\":\"\"},\"line\":{\"width\":0}},\"name\":\"FPR\",\"offsetgroup\":\"FPR\",\"orientation\":\"h\",\"showlegend\":true,\"textposition\":\"auto\",\"x\":[2.4141761584025083,0.8742951963191142,0.9619538207439277],\"xaxis\":\"x\",\"y\":[\"Logistic Regression\",\"Decision Tree\",\"Random Forest\"],\"yaxis\":\"y\",\"type\":\"bar\"},{\"alignmentgroup\":\"True\",\"customdata\":[[0.112,\"ACC\"],[0.133,\"ACC\"],[0.146,\"ACC\"]],\"hovertemplate\":\"<b>%{label}</b><br>Metric: %{customdata[1]}<br>Parity loss: %{customdata[0]}<br><extra></extra>\",\"legendgroup\":\"ACC\",\"marker\":{\"color\":\"#ae2c87\",\"pattern\":{\"shape\":\"\"},\"line\":{\"width\":0}},\"name\":\"ACC\",\"offsetgroup\":\"ACC\",\"orientation\":\"h\",\"showlegend\":true,\"textposition\":\"auto\",\"x\":[0.11220097162673438,0.13268024743552229,0.14581264773705743],\"xaxis\":\"x\",\"y\":[\"Logistic Regression\",\"Decision Tree\",\"Random Forest\"],\"yaxis\":\"y\",\"type\":\"bar\"},{\"alignmentgroup\":\"True\",\"customdata\":[[2.156,\"STP\"],[0.65,\"STP\"],[1.007,\"STP\"]],\"hovertemplate\":\"<b>%{label}</b><br>Metric: %{customdata[1]}<br>Parity loss: %{customdata[0]}<br><extra></extra>\",\"legendgroup\":\"STP\",\"marker\":{\"color\":\"#ffa58c\",\"pattern\":{\"shape\":\"\"},\"line\":{\"width\":0}},\"name\":\"STP\",\"offsetgroup\":\"STP\",\"orientation\":\"h\",\"showlegend\":true,\"textposition\":\"auto\",\"x\":[2.156075894684898,0.6497453851491025,1.0073347357127904],\"xaxis\":\"x\",\"y\":[\"Logistic Regression\",\"Decision Tree\",\"Random Forest\"],\"yaxis\":\"y\",\"type\":\"bar\"}],                        {\"template\":{\"data\":{\"barpolar\":[{\"marker\":{\"line\":{\"color\":\"white\",\"width\":0.5},\"pattern\":{\"fillmode\":\"overlay\",\"size\":10,\"solidity\":0.2}},\"type\":\"barpolar\"}],\"bar\":[{\"error_x\":{\"color\":\"#2a3f5f\"},\"error_y\":{\"color\":\"#2a3f5f\"},\"marker\":{\"line\":{\"color\":\"white\",\"width\":0.5},\"pattern\":{\"fillmode\":\"overlay\",\"size\":10,\"solidity\":0.2}},\"type\":\"bar\"}],\"carpet\":[{\"aaxis\":{\"endlinecolor\":\"#2a3f5f\",\"gridcolor\":\"#C8D4E3\",\"linecolor\":\"#C8D4E3\",\"minorgridcolor\":\"#C8D4E3\",\"startlinecolor\":\"#2a3f5f\"},\"baxis\":{\"endlinecolor\":\"#2a3f5f\",\"gridcolor\":\"#C8D4E3\",\"linecolor\":\"#C8D4E3\",\"minorgridcolor\":\"#C8D4E3\",\"startlinecolor\":\"#2a3f5f\"},\"type\":\"carpet\"}],\"choropleth\":[{\"colorbar\":{\"outlinewidth\":0,\"ticks\":\"\"},\"type\":\"choropleth\"}],\"contourcarpet\":[{\"colorbar\":{\"outlinewidth\":0,\"ticks\":\"\"},\"type\":\"contourcarpet\"}],\"contour\":[{\"colorbar\":{\"outlinewidth\":0,\"ticks\":\"\"},\"colorscale\":[[0.0,\"#0d0887\"],[0.1111111111111111,\"#46039f\"],[0.2222222222222222,\"#7201a8\"],[0.3333333333333333,\"#9c179e\"],[0.4444444444444444,\"#bd3786\"],[0.5555555555555556,\"#d8576b\"],[0.6666666666666666,\"#ed7953\"],[0.7777777777777778,\"#fb9f3a\"],[0.8888888888888888,\"#fdca26\"],[1.0,\"#f0f921\"]],\"type\":\"contour\"}],\"heatmapgl\":[{\"colorbar\":{\"outlinewidth\":0,\"ticks\":\"\"},\"colorscale\":[[0.0,\"#0d0887\"],[0.1111111111111111,\"#46039f\"],[0.2222222222222222,\"#7201a8\"],[0.3333333333333333,\"#9c179e\"],[0.4444444444444444,\"#bd3786\"],[0.5555555555555556,\"#d8576b\"],[0.6666666666666666,\"#ed7953\"],[0.7777777777777778,\"#fb9f3a\"],[0.8888888888888888,\"#fdca26\"],[1.0,\"#f0f921\"]],\"type\":\"heatmapgl\"}],\"heatmap\":[{\"colorbar\":{\"outlinewidth\":0,\"ticks\":\"\"},\"colorscale\":[[0.0,\"#0d0887\"],[0.1111111111111111,\"#46039f\"],[0.2222222222222222,\"#7201a8\"],[0.3333333333333333,\"#9c179e\"],[0.4444444444444444,\"#bd3786\"],[0.5555555555555556,\"#d8576b\"],[0.6666666666666666,\"#ed7953\"],[0.7777777777777778,\"#fb9f3a\"],[0.8888888888888888,\"#fdca26\"],[1.0,\"#f0f921\"]],\"type\":\"heatmap\"}],\"histogram2dcontour\":[{\"colorbar\":{\"outlinewidth\":0,\"ticks\":\"\"},\"colorscale\":[[0.0,\"#0d0887\"],[0.1111111111111111,\"#46039f\"],[0.2222222222222222,\"#7201a8\"],[0.3333333333333333,\"#9c179e\"],[0.4444444444444444,\"#bd3786\"],[0.5555555555555556,\"#d8576b\"],[0.6666666666666666,\"#ed7953\"],[0.7777777777777778,\"#fb9f3a\"],[0.8888888888888888,\"#fdca26\"],[1.0,\"#f0f921\"]],\"type\":\"histogram2dcontour\"}],\"histogram2d\":[{\"colorbar\":{\"outlinewidth\":0,\"ticks\":\"\"},\"colorscale\":[[0.0,\"#0d0887\"],[0.1111111111111111,\"#46039f\"],[0.2222222222222222,\"#7201a8\"],[0.3333333333333333,\"#9c179e\"],[0.4444444444444444,\"#bd3786\"],[0.5555555555555556,\"#d8576b\"],[0.6666666666666666,\"#ed7953\"],[0.7777777777777778,\"#fb9f3a\"],[0.8888888888888888,\"#fdca26\"],[1.0,\"#f0f921\"]],\"type\":\"histogram2d\"}],\"histogram\":[{\"marker\":{\"pattern\":{\"fillmode\":\"overlay\",\"size\":10,\"solidity\":0.2}},\"type\":\"histogram\"}],\"mesh3d\":[{\"colorbar\":{\"outlinewidth\":0,\"ticks\":\"\"},\"type\":\"mesh3d\"}],\"parcoords\":[{\"line\":{\"colorbar\":{\"outlinewidth\":0,\"ticks\":\"\"}},\"type\":\"parcoords\"}],\"pie\":[{\"automargin\":true,\"type\":\"pie\"}],\"scatter3d\":[{\"line\":{\"colorbar\":{\"outlinewidth\":0,\"ticks\":\"\"}},\"marker\":{\"colorbar\":{\"outlinewidth\":0,\"ticks\":\"\"}},\"type\":\"scatter3d\"}],\"scattercarpet\":[{\"marker\":{\"colorbar\":{\"outlinewidth\":0,\"ticks\":\"\"}},\"type\":\"scattercarpet\"}],\"scattergeo\":[{\"marker\":{\"colorbar\":{\"outlinewidth\":0,\"ticks\":\"\"}},\"type\":\"scattergeo\"}],\"scattergl\":[{\"marker\":{\"colorbar\":{\"outlinewidth\":0,\"ticks\":\"\"}},\"type\":\"scattergl\"}],\"scattermapbox\":[{\"marker\":{\"colorbar\":{\"outlinewidth\":0,\"ticks\":\"\"}},\"type\":\"scattermapbox\"}],\"scatterpolargl\":[{\"marker\":{\"colorbar\":{\"outlinewidth\":0,\"ticks\":\"\"}},\"type\":\"scatterpolargl\"}],\"scatterpolar\":[{\"marker\":{\"colorbar\":{\"outlinewidth\":0,\"ticks\":\"\"}},\"type\":\"scatterpolar\"}],\"scatter\":[{\"marker\":{\"colorbar\":{\"outlinewidth\":0,\"ticks\":\"\"}},\"type\":\"scatter\"}],\"scatterternary\":[{\"marker\":{\"colorbar\":{\"outlinewidth\":0,\"ticks\":\"\"}},\"type\":\"scatterternary\"}],\"surface\":[{\"colorbar\":{\"outlinewidth\":0,\"ticks\":\"\"},\"colorscale\":[[0.0,\"#0d0887\"],[0.1111111111111111,\"#46039f\"],[0.2222222222222222,\"#7201a8\"],[0.3333333333333333,\"#9c179e\"],[0.4444444444444444,\"#bd3786\"],[0.5555555555555556,\"#d8576b\"],[0.6666666666666666,\"#ed7953\"],[0.7777777777777778,\"#fb9f3a\"],[0.8888888888888888,\"#fdca26\"],[1.0,\"#f0f921\"]],\"type\":\"surface\"}],\"table\":[{\"cells\":{\"fill\":{\"color\":\"#EBF0F8\"},\"line\":{\"color\":\"white\"}},\"header\":{\"fill\":{\"color\":\"#C8D4E3\"},\"line\":{\"color\":\"white\"}},\"type\":\"table\"}]},\"layout\":{\"annotationdefaults\":{\"arrowcolor\":\"#2a3f5f\",\"arrowhead\":0,\"arrowwidth\":1},\"autotypenumbers\":\"strict\",\"coloraxis\":{\"colorbar\":{\"outlinewidth\":0,\"ticks\":\"\"}},\"colorscale\":{\"diverging\":[[0,\"#8e0152\"],[0.1,\"#c51b7d\"],[0.2,\"#de77ae\"],[0.3,\"#f1b6da\"],[0.4,\"#fde0ef\"],[0.5,\"#f7f7f7\"],[0.6,\"#e6f5d0\"],[0.7,\"#b8e186\"],[0.8,\"#7fbc41\"],[0.9,\"#4d9221\"],[1,\"#276419\"]],\"sequential\":[[0.0,\"#0d0887\"],[0.1111111111111111,\"#46039f\"],[0.2222222222222222,\"#7201a8\"],[0.3333333333333333,\"#9c179e\"],[0.4444444444444444,\"#bd3786\"],[0.5555555555555556,\"#d8576b\"],[0.6666666666666666,\"#ed7953\"],[0.7777777777777778,\"#fb9f3a\"],[0.8888888888888888,\"#fdca26\"],[1.0,\"#f0f921\"]],\"sequentialminus\":[[0.0,\"#0d0887\"],[0.1111111111111111,\"#46039f\"],[0.2222222222222222,\"#7201a8\"],[0.3333333333333333,\"#9c179e\"],[0.4444444444444444,\"#bd3786\"],[0.5555555555555556,\"#d8576b\"],[0.6666666666666666,\"#ed7953\"],[0.7777777777777778,\"#fb9f3a\"],[0.8888888888888888,\"#fdca26\"],[1.0,\"#f0f921\"]]},\"colorway\":[\"#636efa\",\"#EF553B\",\"#00cc96\",\"#ab63fa\",\"#FFA15A\",\"#19d3f3\",\"#FF6692\",\"#B6E880\",\"#FF97FF\",\"#FECB52\"],\"font\":{\"color\":\"#2a3f5f\"},\"geo\":{\"bgcolor\":\"white\",\"lakecolor\":\"white\",\"landcolor\":\"white\",\"showlakes\":true,\"showland\":true,\"subunitcolor\":\"#C8D4E3\"},\"hoverlabel\":{\"align\":\"left\"},\"hovermode\":\"closest\",\"mapbox\":{\"style\":\"light\"},\"paper_bgcolor\":\"white\",\"plot_bgcolor\":\"white\",\"polar\":{\"angularaxis\":{\"gridcolor\":\"#EBF0F8\",\"linecolor\":\"#EBF0F8\",\"ticks\":\"\"},\"bgcolor\":\"white\",\"radialaxis\":{\"gridcolor\":\"#EBF0F8\",\"linecolor\":\"#EBF0F8\",\"ticks\":\"\"}},\"scene\":{\"xaxis\":{\"backgroundcolor\":\"white\",\"gridcolor\":\"#DFE8F3\",\"gridwidth\":2,\"linecolor\":\"#EBF0F8\",\"showbackground\":true,\"ticks\":\"\",\"zerolinecolor\":\"#EBF0F8\"},\"yaxis\":{\"backgroundcolor\":\"white\",\"gridcolor\":\"#DFE8F3\",\"gridwidth\":2,\"linecolor\":\"#EBF0F8\",\"showbackground\":true,\"ticks\":\"\",\"zerolinecolor\":\"#EBF0F8\"},\"zaxis\":{\"backgroundcolor\":\"white\",\"gridcolor\":\"#DFE8F3\",\"gridwidth\":2,\"linecolor\":\"#EBF0F8\",\"showbackground\":true,\"ticks\":\"\",\"zerolinecolor\":\"#EBF0F8\"}},\"shapedefaults\":{\"line\":{\"color\":\"#2a3f5f\"}},\"ternary\":{\"aaxis\":{\"gridcolor\":\"#DFE8F3\",\"linecolor\":\"#A2B1C6\",\"ticks\":\"\"},\"baxis\":{\"gridcolor\":\"#DFE8F3\",\"linecolor\":\"#A2B1C6\",\"ticks\":\"\"},\"bgcolor\":\"white\",\"caxis\":{\"gridcolor\":\"#DFE8F3\",\"linecolor\":\"#A2B1C6\",\"ticks\":\"\"}},\"title\":{\"x\":0.05},\"xaxis\":{\"automargin\":true,\"gridcolor\":\"#EBF0F8\",\"linecolor\":\"#EBF0F8\",\"ticks\":\"\",\"title\":{\"standoff\":15},\"zerolinecolor\":\"#EBF0F8\",\"zerolinewidth\":2},\"yaxis\":{\"automargin\":true,\"gridcolor\":\"#EBF0F8\",\"linecolor\":\"#EBF0F8\",\"ticks\":\"\",\"title\":{\"standoff\":15},\"zerolinecolor\":\"#EBF0F8\",\"zerolinewidth\":2}}},\"xaxis\":{\"anchor\":\"y\",\"domain\":[0.0,1.0],\"title\":{\"text\":\"cumulated parity loss\"}},\"yaxis\":{\"anchor\":\"x\",\"domain\":[0.0,1.0],\"title\":{\"text\":\"label\"},\"showgrid\":false,\"zeroline\":false},\"legend\":{\"title\":{\"text\":\"metric\"},\"tracegroupgap\":0},\"margin\":{\"t\":78,\"b\":71,\"r\":30},\"barmode\":\"relative\",\"title\":{\"font\":{\"size\":25},\"text\":\"Stacked Parity Loss Metrics\",\"x\":0.5,\"y\":0.99},\"font\":{\"color\":\"#371ea3\"}},                        {\"displaylogo\": false, \"staticPlot\": false, \"toImageButtonOptions\": {\"height\": null, \"width\": null}, \"modeBarButtonsToRemove\": [\"sendDataToCloud\", \"lasso2d\", \"autoScale2d\", \"select2d\", \"zoom2d\", \"pan2d\", \"zoomIn2d\", \"zoomOut2d\", \"resetScale2d\", \"toggleSpikelines\", \"hoverCompareCartesian\", \"hoverClosestCartesian\"], \"responsive\": true}                    ).then(function(){\n",
              "                            \n",
              "var gd = document.getElementById('3fdd7b54-b810-4854-bf3a-3912d3c6c4f0');\n",
              "var x = new MutationObserver(function (mutations, observer) {{\n",
              "        var display = window.getComputedStyle(gd).display;\n",
              "        if (!display || display === 'none') {{\n",
              "            console.log([gd, 'removed!']);\n",
              "            Plotly.purge(gd);\n",
              "            observer.disconnect();\n",
              "        }}\n",
              "}});\n",
              "\n",
              "// Listen for the removal of the full notebook cells\n",
              "var notebookContainer = gd.closest('#notebook-container');\n",
              "if (notebookContainer) {{\n",
              "    x.observe(notebookContainer, {childList: true});\n",
              "}}\n",
              "\n",
              "// Listen for the clearing of the current output cell\n",
              "var outputEl = gd.closest('.output');\n",
              "if (outputEl) {{\n",
              "    x.observe(outputEl, {childList: true});\n",
              "}}\n",
              "\n",
              "                        })                };                            </script>        </div>\n",
              "</body>\n",
              "</html>"
            ]
          },
          "metadata": {}
        }
      ],
      "source": [
        "mf_list[0].plot(mf_list[1:],type = 'stacked')"
      ]
    },
    {
      "cell_type": "code",
      "execution_count": 154,
      "id": "fa7a9c01-1297-4b33-861f-acdf908d55ec",
      "metadata": {
        "colab": {
          "base_uri": "https://localhost:8080/",
          "height": 542
        },
        "id": "fa7a9c01-1297-4b33-861f-acdf908d55ec",
        "outputId": "998c8b72-083f-484a-8aee-7242e0357432"
      },
      "outputs": [
        {
          "output_type": "display_data",
          "data": {
            "text/html": [
              "<html>\n",
              "<head><meta charset=\"utf-8\" /></head>\n",
              "<body>\n",
              "    <div>            <script src=\"https://cdnjs.cloudflare.com/ajax/libs/mathjax/2.7.5/MathJax.js?config=TeX-AMS-MML_SVG\"></script><script type=\"text/javascript\">if (window.MathJax) {MathJax.Hub.Config({SVG: {font: \"STIX-Web\"}});}</script>                <script type=\"text/javascript\">window.PlotlyConfig = {MathJaxConfig: 'local'};</script>\n",
              "        <script src=\"https://cdn.plot.ly/plotly-2.8.3.min.js\"></script>                <div id=\"c95b27ca-57e5-451e-a24a-444e28ed0c27\" class=\"plotly-graph-div\" style=\"height:525px; width:100%;\"></div>            <script type=\"text/javascript\">                                    window.PLOTLYENV=window.PLOTLYENV || {};                                    if (document.getElementById(\"c95b27ca-57e5-451e-a24a-444e28ed0c27\")) {                    Plotly.newPlot(                        \"c95b27ca-57e5-451e-a24a-444e28ed0c27\",                        [{\"line\":{\"color\":\"#8bdcbe\"},\"marker\":{\"color\":[\"#8bdcbe\",\"#8bdcbe\",\"#8bdcbe\",\"#8bdcbe\",\"#8bdcbe\",\"#8bdcbe\"]},\"name\":\"Logistic Regression\",\"r\":[1.7943926095643756,0.20669339415700427,2.4141761584025083,0.11220097162673438,2.156075894684898,1.7943926095643756],\"text\":[\"Logistic Regression\",\"Logistic Regression\",\"Logistic Regression\",\"Logistic Regression\",\"Logistic Regression\",\"Logistic Regression\"],\"theta\":[\"TPR\",\"PPV\",\"FPR\",\"ACC\",\"STP\",\"TPR\"],\"type\":\"scatterpolar\",\"hovertemplate\":\"<b>%{text}</b><br>Metric: %{theta}<br>Parity loss: %{r:.3f}<extra></extra>\"},{\"line\":{\"color\":\"#f05a71\"},\"marker\":{\"color\":[\"#f05a71\",\"#f05a71\",\"#f05a71\",\"#f05a71\",\"#f05a71\",\"#f05a71\"]},\"name\":\"Decision Tree\",\"r\":[0.7037117531839628,0.3966427986978489,0.8742951963191142,0.13268024743552229,0.6497453851491025,0.7037117531839628],\"text\":[\"Decision Tree\",\"Decision Tree\",\"Decision Tree\",\"Decision Tree\",\"Decision Tree\",\"Decision Tree\"],\"theta\":[\"TPR\",\"PPV\",\"FPR\",\"ACC\",\"STP\",\"TPR\"],\"type\":\"scatterpolar\",\"hovertemplate\":\"<b>%{text}</b><br>Metric: %{theta}<br>Parity loss: %{r:.3f}<extra></extra>\"},{\"line\":{\"color\":\"#4378bf\"},\"marker\":{\"color\":[\"#4378bf\",\"#4378bf\",\"#4378bf\",\"#4378bf\",\"#4378bf\",\"#4378bf\"]},\"name\":\"Random Forest\",\"r\":[0.9110048688324713,0.2978188164851116,0.9619538207439277,0.14581264773705743,1.0073347357127904,0.9110048688324713],\"text\":[\"Random Forest\",\"Random Forest\",\"Random Forest\",\"Random Forest\",\"Random Forest\",\"Random Forest\"],\"theta\":[\"TPR\",\"PPV\",\"FPR\",\"ACC\",\"STP\",\"TPR\"],\"type\":\"scatterpolar\",\"hovertemplate\":\"<b>%{text}</b><br>Metric: %{theta}<br>Parity loss: %{r:.3f}<extra></extra>\"}],                        {\"template\":{\"data\":{\"barpolar\":[{\"marker\":{\"line\":{\"color\":\"white\",\"width\":0.5},\"pattern\":{\"fillmode\":\"overlay\",\"size\":10,\"solidity\":0.2}},\"type\":\"barpolar\"}],\"bar\":[{\"error_x\":{\"color\":\"#2a3f5f\"},\"error_y\":{\"color\":\"#2a3f5f\"},\"marker\":{\"line\":{\"color\":\"white\",\"width\":0.5},\"pattern\":{\"fillmode\":\"overlay\",\"size\":10,\"solidity\":0.2}},\"type\":\"bar\"}],\"carpet\":[{\"aaxis\":{\"endlinecolor\":\"#2a3f5f\",\"gridcolor\":\"#C8D4E3\",\"linecolor\":\"#C8D4E3\",\"minorgridcolor\":\"#C8D4E3\",\"startlinecolor\":\"#2a3f5f\"},\"baxis\":{\"endlinecolor\":\"#2a3f5f\",\"gridcolor\":\"#C8D4E3\",\"linecolor\":\"#C8D4E3\",\"minorgridcolor\":\"#C8D4E3\",\"startlinecolor\":\"#2a3f5f\"},\"type\":\"carpet\"}],\"choropleth\":[{\"colorbar\":{\"outlinewidth\":0,\"ticks\":\"\"},\"type\":\"choropleth\"}],\"contourcarpet\":[{\"colorbar\":{\"outlinewidth\":0,\"ticks\":\"\"},\"type\":\"contourcarpet\"}],\"contour\":[{\"colorbar\":{\"outlinewidth\":0,\"ticks\":\"\"},\"colorscale\":[[0.0,\"#0d0887\"],[0.1111111111111111,\"#46039f\"],[0.2222222222222222,\"#7201a8\"],[0.3333333333333333,\"#9c179e\"],[0.4444444444444444,\"#bd3786\"],[0.5555555555555556,\"#d8576b\"],[0.6666666666666666,\"#ed7953\"],[0.7777777777777778,\"#fb9f3a\"],[0.8888888888888888,\"#fdca26\"],[1.0,\"#f0f921\"]],\"type\":\"contour\"}],\"heatmapgl\":[{\"colorbar\":{\"outlinewidth\":0,\"ticks\":\"\"},\"colorscale\":[[0.0,\"#0d0887\"],[0.1111111111111111,\"#46039f\"],[0.2222222222222222,\"#7201a8\"],[0.3333333333333333,\"#9c179e\"],[0.4444444444444444,\"#bd3786\"],[0.5555555555555556,\"#d8576b\"],[0.6666666666666666,\"#ed7953\"],[0.7777777777777778,\"#fb9f3a\"],[0.8888888888888888,\"#fdca26\"],[1.0,\"#f0f921\"]],\"type\":\"heatmapgl\"}],\"heatmap\":[{\"colorbar\":{\"outlinewidth\":0,\"ticks\":\"\"},\"colorscale\":[[0.0,\"#0d0887\"],[0.1111111111111111,\"#46039f\"],[0.2222222222222222,\"#7201a8\"],[0.3333333333333333,\"#9c179e\"],[0.4444444444444444,\"#bd3786\"],[0.5555555555555556,\"#d8576b\"],[0.6666666666666666,\"#ed7953\"],[0.7777777777777778,\"#fb9f3a\"],[0.8888888888888888,\"#fdca26\"],[1.0,\"#f0f921\"]],\"type\":\"heatmap\"}],\"histogram2dcontour\":[{\"colorbar\":{\"outlinewidth\":0,\"ticks\":\"\"},\"colorscale\":[[0.0,\"#0d0887\"],[0.1111111111111111,\"#46039f\"],[0.2222222222222222,\"#7201a8\"],[0.3333333333333333,\"#9c179e\"],[0.4444444444444444,\"#bd3786\"],[0.5555555555555556,\"#d8576b\"],[0.6666666666666666,\"#ed7953\"],[0.7777777777777778,\"#fb9f3a\"],[0.8888888888888888,\"#fdca26\"],[1.0,\"#f0f921\"]],\"type\":\"histogram2dcontour\"}],\"histogram2d\":[{\"colorbar\":{\"outlinewidth\":0,\"ticks\":\"\"},\"colorscale\":[[0.0,\"#0d0887\"],[0.1111111111111111,\"#46039f\"],[0.2222222222222222,\"#7201a8\"],[0.3333333333333333,\"#9c179e\"],[0.4444444444444444,\"#bd3786\"],[0.5555555555555556,\"#d8576b\"],[0.6666666666666666,\"#ed7953\"],[0.7777777777777778,\"#fb9f3a\"],[0.8888888888888888,\"#fdca26\"],[1.0,\"#f0f921\"]],\"type\":\"histogram2d\"}],\"histogram\":[{\"marker\":{\"pattern\":{\"fillmode\":\"overlay\",\"size\":10,\"solidity\":0.2}},\"type\":\"histogram\"}],\"mesh3d\":[{\"colorbar\":{\"outlinewidth\":0,\"ticks\":\"\"},\"type\":\"mesh3d\"}],\"parcoords\":[{\"line\":{\"colorbar\":{\"outlinewidth\":0,\"ticks\":\"\"}},\"type\":\"parcoords\"}],\"pie\":[{\"automargin\":true,\"type\":\"pie\"}],\"scatter3d\":[{\"line\":{\"colorbar\":{\"outlinewidth\":0,\"ticks\":\"\"}},\"marker\":{\"colorbar\":{\"outlinewidth\":0,\"ticks\":\"\"}},\"type\":\"scatter3d\"}],\"scattercarpet\":[{\"marker\":{\"colorbar\":{\"outlinewidth\":0,\"ticks\":\"\"}},\"type\":\"scattercarpet\"}],\"scattergeo\":[{\"marker\":{\"colorbar\":{\"outlinewidth\":0,\"ticks\":\"\"}},\"type\":\"scattergeo\"}],\"scattergl\":[{\"marker\":{\"colorbar\":{\"outlinewidth\":0,\"ticks\":\"\"}},\"type\":\"scattergl\"}],\"scattermapbox\":[{\"marker\":{\"colorbar\":{\"outlinewidth\":0,\"ticks\":\"\"}},\"type\":\"scattermapbox\"}],\"scatterpolargl\":[{\"marker\":{\"colorbar\":{\"outlinewidth\":0,\"ticks\":\"\"}},\"type\":\"scatterpolargl\"}],\"scatterpolar\":[{\"marker\":{\"colorbar\":{\"outlinewidth\":0,\"ticks\":\"\"}},\"type\":\"scatterpolar\"}],\"scatter\":[{\"marker\":{\"colorbar\":{\"outlinewidth\":0,\"ticks\":\"\"}},\"type\":\"scatter\"}],\"scatterternary\":[{\"marker\":{\"colorbar\":{\"outlinewidth\":0,\"ticks\":\"\"}},\"type\":\"scatterternary\"}],\"surface\":[{\"colorbar\":{\"outlinewidth\":0,\"ticks\":\"\"},\"colorscale\":[[0.0,\"#0d0887\"],[0.1111111111111111,\"#46039f\"],[0.2222222222222222,\"#7201a8\"],[0.3333333333333333,\"#9c179e\"],[0.4444444444444444,\"#bd3786\"],[0.5555555555555556,\"#d8576b\"],[0.6666666666666666,\"#ed7953\"],[0.7777777777777778,\"#fb9f3a\"],[0.8888888888888888,\"#fdca26\"],[1.0,\"#f0f921\"]],\"type\":\"surface\"}],\"table\":[{\"cells\":{\"fill\":{\"color\":\"#EBF0F8\"},\"line\":{\"color\":\"white\"}},\"header\":{\"fill\":{\"color\":\"#C8D4E3\"},\"line\":{\"color\":\"white\"}},\"type\":\"table\"}]},\"layout\":{\"annotationdefaults\":{\"arrowcolor\":\"#2a3f5f\",\"arrowhead\":0,\"arrowwidth\":1},\"autotypenumbers\":\"strict\",\"coloraxis\":{\"colorbar\":{\"outlinewidth\":0,\"ticks\":\"\"}},\"colorscale\":{\"diverging\":[[0,\"#8e0152\"],[0.1,\"#c51b7d\"],[0.2,\"#de77ae\"],[0.3,\"#f1b6da\"],[0.4,\"#fde0ef\"],[0.5,\"#f7f7f7\"],[0.6,\"#e6f5d0\"],[0.7,\"#b8e186\"],[0.8,\"#7fbc41\"],[0.9,\"#4d9221\"],[1,\"#276419\"]],\"sequential\":[[0.0,\"#0d0887\"],[0.1111111111111111,\"#46039f\"],[0.2222222222222222,\"#7201a8\"],[0.3333333333333333,\"#9c179e\"],[0.4444444444444444,\"#bd3786\"],[0.5555555555555556,\"#d8576b\"],[0.6666666666666666,\"#ed7953\"],[0.7777777777777778,\"#fb9f3a\"],[0.8888888888888888,\"#fdca26\"],[1.0,\"#f0f921\"]],\"sequentialminus\":[[0.0,\"#0d0887\"],[0.1111111111111111,\"#46039f\"],[0.2222222222222222,\"#7201a8\"],[0.3333333333333333,\"#9c179e\"],[0.4444444444444444,\"#bd3786\"],[0.5555555555555556,\"#d8576b\"],[0.6666666666666666,\"#ed7953\"],[0.7777777777777778,\"#fb9f3a\"],[0.8888888888888888,\"#fdca26\"],[1.0,\"#f0f921\"]]},\"colorway\":[\"#636efa\",\"#EF553B\",\"#00cc96\",\"#ab63fa\",\"#FFA15A\",\"#19d3f3\",\"#FF6692\",\"#B6E880\",\"#FF97FF\",\"#FECB52\"],\"font\":{\"color\":\"#2a3f5f\"},\"geo\":{\"bgcolor\":\"white\",\"lakecolor\":\"white\",\"landcolor\":\"white\",\"showlakes\":true,\"showland\":true,\"subunitcolor\":\"#C8D4E3\"},\"hoverlabel\":{\"align\":\"left\"},\"hovermode\":\"closest\",\"mapbox\":{\"style\":\"light\"},\"paper_bgcolor\":\"white\",\"plot_bgcolor\":\"white\",\"polar\":{\"angularaxis\":{\"gridcolor\":\"#EBF0F8\",\"linecolor\":\"#EBF0F8\",\"ticks\":\"\"},\"bgcolor\":\"white\",\"radialaxis\":{\"gridcolor\":\"#EBF0F8\",\"linecolor\":\"#EBF0F8\",\"ticks\":\"\"}},\"scene\":{\"xaxis\":{\"backgroundcolor\":\"white\",\"gridcolor\":\"#DFE8F3\",\"gridwidth\":2,\"linecolor\":\"#EBF0F8\",\"showbackground\":true,\"ticks\":\"\",\"zerolinecolor\":\"#EBF0F8\"},\"yaxis\":{\"backgroundcolor\":\"white\",\"gridcolor\":\"#DFE8F3\",\"gridwidth\":2,\"linecolor\":\"#EBF0F8\",\"showbackground\":true,\"ticks\":\"\",\"zerolinecolor\":\"#EBF0F8\"},\"zaxis\":{\"backgroundcolor\":\"white\",\"gridcolor\":\"#DFE8F3\",\"gridwidth\":2,\"linecolor\":\"#EBF0F8\",\"showbackground\":true,\"ticks\":\"\",\"zerolinecolor\":\"#EBF0F8\"}},\"shapedefaults\":{\"line\":{\"color\":\"#2a3f5f\"}},\"ternary\":{\"aaxis\":{\"gridcolor\":\"#DFE8F3\",\"linecolor\":\"#A2B1C6\",\"ticks\":\"\"},\"baxis\":{\"gridcolor\":\"#DFE8F3\",\"linecolor\":\"#A2B1C6\",\"ticks\":\"\"},\"bgcolor\":\"white\",\"caxis\":{\"gridcolor\":\"#DFE8F3\",\"linecolor\":\"#A2B1C6\",\"ticks\":\"\"}},\"title\":{\"x\":0.05},\"xaxis\":{\"automargin\":true,\"gridcolor\":\"#EBF0F8\",\"linecolor\":\"#EBF0F8\",\"ticks\":\"\",\"title\":{\"standoff\":15},\"zerolinecolor\":\"#EBF0F8\",\"zerolinewidth\":2},\"yaxis\":{\"automargin\":true,\"gridcolor\":\"#EBF0F8\",\"linecolor\":\"#EBF0F8\",\"ticks\":\"\",\"title\":{\"standoff\":15},\"zerolinecolor\":\"#EBF0F8\",\"zerolinewidth\":2}}},\"title\":{\"font\":{\"size\":25},\"text\":\"Fairness Radar\",\"x\":0.5,\"y\":0.99},\"font\":{\"color\":\"#371ea3\"},\"margin\":{\"t\":78,\"b\":71,\"r\":30},\"polar\":{\"radialaxis\":{\"range\":[0,2.5141761584025084]}}},                        {\"displaylogo\": false, \"staticPlot\": false, \"toImageButtonOptions\": {\"height\": null, \"width\": null}, \"modeBarButtonsToRemove\": [\"sendDataToCloud\", \"lasso2d\", \"autoScale2d\", \"select2d\", \"zoom2d\", \"pan2d\", \"zoomIn2d\", \"zoomOut2d\", \"resetScale2d\", \"toggleSpikelines\", \"hoverCompareCartesian\", \"hoverClosestCartesian\"], \"responsive\": true}                    ).then(function(){\n",
              "                            \n",
              "var gd = document.getElementById('c95b27ca-57e5-451e-a24a-444e28ed0c27');\n",
              "var x = new MutationObserver(function (mutations, observer) {{\n",
              "        var display = window.getComputedStyle(gd).display;\n",
              "        if (!display || display === 'none') {{\n",
              "            console.log([gd, 'removed!']);\n",
              "            Plotly.purge(gd);\n",
              "            observer.disconnect();\n",
              "        }}\n",
              "}});\n",
              "\n",
              "// Listen for the removal of the full notebook cells\n",
              "var notebookContainer = gd.closest('#notebook-container');\n",
              "if (notebookContainer) {{\n",
              "    x.observe(notebookContainer, {childList: true});\n",
              "}}\n",
              "\n",
              "// Listen for the clearing of the current output cell\n",
              "var outputEl = gd.closest('.output');\n",
              "if (outputEl) {{\n",
              "    x.observe(outputEl, {childList: true});\n",
              "}}\n",
              "\n",
              "                        })                };                            </script>        </div>\n",
              "</body>\n",
              "</html>"
            ]
          },
          "metadata": {}
        }
      ],
      "source": [
        "mf_list[0].plot(mf_list[1:],type = 'radar')"
      ]
    },
    {
      "cell_type": "code",
      "execution_count": 155,
      "id": "4937c5f4-1535-40d3-96fd-f36008e5ead4",
      "metadata": {
        "colab": {
          "base_uri": "https://localhost:8080/",
          "height": 542
        },
        "id": "4937c5f4-1535-40d3-96fd-f36008e5ead4",
        "outputId": "947bee2b-f780-424f-b3e6-556f1ee17300"
      },
      "outputs": [
        {
          "output_type": "display_data",
          "data": {
            "text/html": [
              "<html>\n",
              "<head><meta charset=\"utf-8\" /></head>\n",
              "<body>\n",
              "    <div>            <script src=\"https://cdnjs.cloudflare.com/ajax/libs/mathjax/2.7.5/MathJax.js?config=TeX-AMS-MML_SVG\"></script><script type=\"text/javascript\">if (window.MathJax) {MathJax.Hub.Config({SVG: {font: \"STIX-Web\"}});}</script>                <script type=\"text/javascript\">window.PlotlyConfig = {MathJaxConfig: 'local'};</script>\n",
              "        <script src=\"https://cdn.plot.ly/plotly-2.8.3.min.js\"></script>                <div id=\"22dd61c7-03fa-4bb8-b8c3-8d154d862bda\" class=\"plotly-graph-div\" style=\"height:525px; width:100%;\"></div>            <script type=\"text/javascript\">                                    window.PLOTLYENV=window.PLOTLYENV || {};                                    if (document.getElementById(\"22dd61c7-03fa-4bb8-b8c3-8d154d862bda\")) {                    Plotly.newPlot(                        \"22dd61c7-03fa-4bb8-b8c3-8d154d862bda\",                        [{\"coloraxis\":\"coloraxis\",\"name\":\"0\",\"x\":[\"TPR\",\"TNR\",\"PPV\",\"NPV\",\"FNR\",\"FPR\",\"FDR\",\"FOR\",\"ACC\",\"STP\"],\"y\":[\"Logistic Regression\",\"Decision Tree\",\"Random Forest\"],\"z\":[[1.7943926095643756,0.36155768405927796,0.20669339415700427,0.08188694661567207,1.2572563607503937,2.4141761584025083,0.4571536125550024,0.1679681212706564,0.11220097162673438,2.156075894684898],[0.7037117531839628,0.2507575210189581,0.3966427986978489,0.15914400127980144,0.7068469791944341,0.8742951963191142,0.6054281135151918,0.33825138028237467,0.13268024743552229,0.6497453851491025],[0.9110048688324713,0.25501507780567584,0.2978188164851116,0.14046471598767088,0.9494701713164461,0.9619538207439277,0.5286142998657829,0.31629703318861896,0.14581264773705743,1.0073347357127904]],\"type\":\"heatmap\",\"xaxis\":\"x\",\"yaxis\":\"y\",\"hovertemplate\":\"<b>%{y}</b><br><br>Parity loss metric: %{x}<br>parity loss: %{z:.3f}<br><extra></extra>\"}],                        {\"template\":{\"data\":{\"barpolar\":[{\"marker\":{\"line\":{\"color\":\"white\",\"width\":0.5},\"pattern\":{\"fillmode\":\"overlay\",\"size\":10,\"solidity\":0.2}},\"type\":\"barpolar\"}],\"bar\":[{\"error_x\":{\"color\":\"#2a3f5f\"},\"error_y\":{\"color\":\"#2a3f5f\"},\"marker\":{\"line\":{\"color\":\"white\",\"width\":0.5},\"pattern\":{\"fillmode\":\"overlay\",\"size\":10,\"solidity\":0.2}},\"type\":\"bar\"}],\"carpet\":[{\"aaxis\":{\"endlinecolor\":\"#2a3f5f\",\"gridcolor\":\"#C8D4E3\",\"linecolor\":\"#C8D4E3\",\"minorgridcolor\":\"#C8D4E3\",\"startlinecolor\":\"#2a3f5f\"},\"baxis\":{\"endlinecolor\":\"#2a3f5f\",\"gridcolor\":\"#C8D4E3\",\"linecolor\":\"#C8D4E3\",\"minorgridcolor\":\"#C8D4E3\",\"startlinecolor\":\"#2a3f5f\"},\"type\":\"carpet\"}],\"choropleth\":[{\"colorbar\":{\"outlinewidth\":0,\"ticks\":\"\"},\"type\":\"choropleth\"}],\"contourcarpet\":[{\"colorbar\":{\"outlinewidth\":0,\"ticks\":\"\"},\"type\":\"contourcarpet\"}],\"contour\":[{\"colorbar\":{\"outlinewidth\":0,\"ticks\":\"\"},\"colorscale\":[[0.0,\"#0d0887\"],[0.1111111111111111,\"#46039f\"],[0.2222222222222222,\"#7201a8\"],[0.3333333333333333,\"#9c179e\"],[0.4444444444444444,\"#bd3786\"],[0.5555555555555556,\"#d8576b\"],[0.6666666666666666,\"#ed7953\"],[0.7777777777777778,\"#fb9f3a\"],[0.8888888888888888,\"#fdca26\"],[1.0,\"#f0f921\"]],\"type\":\"contour\"}],\"heatmapgl\":[{\"colorbar\":{\"outlinewidth\":0,\"ticks\":\"\"},\"colorscale\":[[0.0,\"#0d0887\"],[0.1111111111111111,\"#46039f\"],[0.2222222222222222,\"#7201a8\"],[0.3333333333333333,\"#9c179e\"],[0.4444444444444444,\"#bd3786\"],[0.5555555555555556,\"#d8576b\"],[0.6666666666666666,\"#ed7953\"],[0.7777777777777778,\"#fb9f3a\"],[0.8888888888888888,\"#fdca26\"],[1.0,\"#f0f921\"]],\"type\":\"heatmapgl\"}],\"heatmap\":[{\"colorbar\":{\"outlinewidth\":0,\"ticks\":\"\"},\"colorscale\":[[0.0,\"#0d0887\"],[0.1111111111111111,\"#46039f\"],[0.2222222222222222,\"#7201a8\"],[0.3333333333333333,\"#9c179e\"],[0.4444444444444444,\"#bd3786\"],[0.5555555555555556,\"#d8576b\"],[0.6666666666666666,\"#ed7953\"],[0.7777777777777778,\"#fb9f3a\"],[0.8888888888888888,\"#fdca26\"],[1.0,\"#f0f921\"]],\"type\":\"heatmap\"}],\"histogram2dcontour\":[{\"colorbar\":{\"outlinewidth\":0,\"ticks\":\"\"},\"colorscale\":[[0.0,\"#0d0887\"],[0.1111111111111111,\"#46039f\"],[0.2222222222222222,\"#7201a8\"],[0.3333333333333333,\"#9c179e\"],[0.4444444444444444,\"#bd3786\"],[0.5555555555555556,\"#d8576b\"],[0.6666666666666666,\"#ed7953\"],[0.7777777777777778,\"#fb9f3a\"],[0.8888888888888888,\"#fdca26\"],[1.0,\"#f0f921\"]],\"type\":\"histogram2dcontour\"}],\"histogram2d\":[{\"colorbar\":{\"outlinewidth\":0,\"ticks\":\"\"},\"colorscale\":[[0.0,\"#0d0887\"],[0.1111111111111111,\"#46039f\"],[0.2222222222222222,\"#7201a8\"],[0.3333333333333333,\"#9c179e\"],[0.4444444444444444,\"#bd3786\"],[0.5555555555555556,\"#d8576b\"],[0.6666666666666666,\"#ed7953\"],[0.7777777777777778,\"#fb9f3a\"],[0.8888888888888888,\"#fdca26\"],[1.0,\"#f0f921\"]],\"type\":\"histogram2d\"}],\"histogram\":[{\"marker\":{\"pattern\":{\"fillmode\":\"overlay\",\"size\":10,\"solidity\":0.2}},\"type\":\"histogram\"}],\"mesh3d\":[{\"colorbar\":{\"outlinewidth\":0,\"ticks\":\"\"},\"type\":\"mesh3d\"}],\"parcoords\":[{\"line\":{\"colorbar\":{\"outlinewidth\":0,\"ticks\":\"\"}},\"type\":\"parcoords\"}],\"pie\":[{\"automargin\":true,\"type\":\"pie\"}],\"scatter3d\":[{\"line\":{\"colorbar\":{\"outlinewidth\":0,\"ticks\":\"\"}},\"marker\":{\"colorbar\":{\"outlinewidth\":0,\"ticks\":\"\"}},\"type\":\"scatter3d\"}],\"scattercarpet\":[{\"marker\":{\"colorbar\":{\"outlinewidth\":0,\"ticks\":\"\"}},\"type\":\"scattercarpet\"}],\"scattergeo\":[{\"marker\":{\"colorbar\":{\"outlinewidth\":0,\"ticks\":\"\"}},\"type\":\"scattergeo\"}],\"scattergl\":[{\"marker\":{\"colorbar\":{\"outlinewidth\":0,\"ticks\":\"\"}},\"type\":\"scattergl\"}],\"scattermapbox\":[{\"marker\":{\"colorbar\":{\"outlinewidth\":0,\"ticks\":\"\"}},\"type\":\"scattermapbox\"}],\"scatterpolargl\":[{\"marker\":{\"colorbar\":{\"outlinewidth\":0,\"ticks\":\"\"}},\"type\":\"scatterpolargl\"}],\"scatterpolar\":[{\"marker\":{\"colorbar\":{\"outlinewidth\":0,\"ticks\":\"\"}},\"type\":\"scatterpolar\"}],\"scatter\":[{\"marker\":{\"colorbar\":{\"outlinewidth\":0,\"ticks\":\"\"}},\"type\":\"scatter\"}],\"scatterternary\":[{\"marker\":{\"colorbar\":{\"outlinewidth\":0,\"ticks\":\"\"}},\"type\":\"scatterternary\"}],\"surface\":[{\"colorbar\":{\"outlinewidth\":0,\"ticks\":\"\"},\"colorscale\":[[0.0,\"#0d0887\"],[0.1111111111111111,\"#46039f\"],[0.2222222222222222,\"#7201a8\"],[0.3333333333333333,\"#9c179e\"],[0.4444444444444444,\"#bd3786\"],[0.5555555555555556,\"#d8576b\"],[0.6666666666666666,\"#ed7953\"],[0.7777777777777778,\"#fb9f3a\"],[0.8888888888888888,\"#fdca26\"],[1.0,\"#f0f921\"]],\"type\":\"surface\"}],\"table\":[{\"cells\":{\"fill\":{\"color\":\"#EBF0F8\"},\"line\":{\"color\":\"white\"}},\"header\":{\"fill\":{\"color\":\"#C8D4E3\"},\"line\":{\"color\":\"white\"}},\"type\":\"table\"}]},\"layout\":{\"annotationdefaults\":{\"arrowcolor\":\"#2a3f5f\",\"arrowhead\":0,\"arrowwidth\":1},\"autotypenumbers\":\"strict\",\"coloraxis\":{\"colorbar\":{\"outlinewidth\":0,\"ticks\":\"\"}},\"colorscale\":{\"diverging\":[[0,\"#8e0152\"],[0.1,\"#c51b7d\"],[0.2,\"#de77ae\"],[0.3,\"#f1b6da\"],[0.4,\"#fde0ef\"],[0.5,\"#f7f7f7\"],[0.6,\"#e6f5d0\"],[0.7,\"#b8e186\"],[0.8,\"#7fbc41\"],[0.9,\"#4d9221\"],[1,\"#276419\"]],\"sequential\":[[0.0,\"#0d0887\"],[0.1111111111111111,\"#46039f\"],[0.2222222222222222,\"#7201a8\"],[0.3333333333333333,\"#9c179e\"],[0.4444444444444444,\"#bd3786\"],[0.5555555555555556,\"#d8576b\"],[0.6666666666666666,\"#ed7953\"],[0.7777777777777778,\"#fb9f3a\"],[0.8888888888888888,\"#fdca26\"],[1.0,\"#f0f921\"]],\"sequentialminus\":[[0.0,\"#0d0887\"],[0.1111111111111111,\"#46039f\"],[0.2222222222222222,\"#7201a8\"],[0.3333333333333333,\"#9c179e\"],[0.4444444444444444,\"#bd3786\"],[0.5555555555555556,\"#d8576b\"],[0.6666666666666666,\"#ed7953\"],[0.7777777777777778,\"#fb9f3a\"],[0.8888888888888888,\"#fdca26\"],[1.0,\"#f0f921\"]]},\"colorway\":[\"#636efa\",\"#EF553B\",\"#00cc96\",\"#ab63fa\",\"#FFA15A\",\"#19d3f3\",\"#FF6692\",\"#B6E880\",\"#FF97FF\",\"#FECB52\"],\"font\":{\"color\":\"#2a3f5f\"},\"geo\":{\"bgcolor\":\"white\",\"lakecolor\":\"white\",\"landcolor\":\"white\",\"showlakes\":true,\"showland\":true,\"subunitcolor\":\"#C8D4E3\"},\"hoverlabel\":{\"align\":\"left\"},\"hovermode\":\"closest\",\"mapbox\":{\"style\":\"light\"},\"paper_bgcolor\":\"white\",\"plot_bgcolor\":\"white\",\"polar\":{\"angularaxis\":{\"gridcolor\":\"#EBF0F8\",\"linecolor\":\"#EBF0F8\",\"ticks\":\"\"},\"bgcolor\":\"white\",\"radialaxis\":{\"gridcolor\":\"#EBF0F8\",\"linecolor\":\"#EBF0F8\",\"ticks\":\"\"}},\"scene\":{\"xaxis\":{\"backgroundcolor\":\"white\",\"gridcolor\":\"#DFE8F3\",\"gridwidth\":2,\"linecolor\":\"#EBF0F8\",\"showbackground\":true,\"ticks\":\"\",\"zerolinecolor\":\"#EBF0F8\"},\"yaxis\":{\"backgroundcolor\":\"white\",\"gridcolor\":\"#DFE8F3\",\"gridwidth\":2,\"linecolor\":\"#EBF0F8\",\"showbackground\":true,\"ticks\":\"\",\"zerolinecolor\":\"#EBF0F8\"},\"zaxis\":{\"backgroundcolor\":\"white\",\"gridcolor\":\"#DFE8F3\",\"gridwidth\":2,\"linecolor\":\"#EBF0F8\",\"showbackground\":true,\"ticks\":\"\",\"zerolinecolor\":\"#EBF0F8\"}},\"shapedefaults\":{\"line\":{\"color\":\"#2a3f5f\"}},\"ternary\":{\"aaxis\":{\"gridcolor\":\"#DFE8F3\",\"linecolor\":\"#A2B1C6\",\"ticks\":\"\"},\"baxis\":{\"gridcolor\":\"#DFE8F3\",\"linecolor\":\"#A2B1C6\",\"ticks\":\"\"},\"bgcolor\":\"white\",\"caxis\":{\"gridcolor\":\"#DFE8F3\",\"linecolor\":\"#A2B1C6\",\"ticks\":\"\"}},\"title\":{\"x\":0.05},\"xaxis\":{\"automargin\":true,\"gridcolor\":\"#EBF0F8\",\"linecolor\":\"#EBF0F8\",\"ticks\":\"\",\"title\":{\"standoff\":15},\"zerolinecolor\":\"#EBF0F8\",\"zerolinewidth\":2},\"yaxis\":{\"automargin\":true,\"gridcolor\":\"#EBF0F8\",\"linecolor\":\"#EBF0F8\",\"ticks\":\"\",\"title\":{\"standoff\":15},\"zerolinecolor\":\"#EBF0F8\",\"zerolinewidth\":2}}},\"xaxis\":{\"anchor\":\"y\",\"domain\":[0.0,1.0],\"scaleanchor\":\"y\",\"constrain\":\"domain\",\"title\":{\"text\":\"parity loss metrics\"}},\"yaxis\":{\"anchor\":\"x\",\"domain\":[0.0,1.0],\"autorange\":\"reversed\",\"constrain\":\"domain\",\"title\":{\"text\":\"model\"}},\"coloraxis\":{\"colorbar\":{\"title\":{\"text\":\"Metric's parity loss\"}},\"colorscale\":[[0.0,\"#c7f5bf\"],[0.25,\"#8bdcbe\"],[0.5,\"#46bac2\"],[0.75,\"#4378bf\"],[1.0,\"#371ea3\"]]},\"margin\":{\"t\":78,\"b\":71,\"r\":30},\"title\":{\"font\":{\"size\":25},\"text\":\"Fairness Heatmap\",\"x\":0.5,\"y\":0.99},\"font\":{\"color\":\"#371ea3\"}},                        {\"displaylogo\": false, \"staticPlot\": false, \"toImageButtonOptions\": {\"height\": null, \"width\": null}, \"modeBarButtonsToRemove\": [\"sendDataToCloud\", \"lasso2d\", \"autoScale2d\", \"select2d\", \"zoom2d\", \"pan2d\", \"zoomIn2d\", \"zoomOut2d\", \"resetScale2d\", \"toggleSpikelines\", \"hoverCompareCartesian\", \"hoverClosestCartesian\"], \"responsive\": true}                    ).then(function(){\n",
              "                            \n",
              "var gd = document.getElementById('22dd61c7-03fa-4bb8-b8c3-8d154d862bda');\n",
              "var x = new MutationObserver(function (mutations, observer) {{\n",
              "        var display = window.getComputedStyle(gd).display;\n",
              "        if (!display || display === 'none') {{\n",
              "            console.log([gd, 'removed!']);\n",
              "            Plotly.purge(gd);\n",
              "            observer.disconnect();\n",
              "        }}\n",
              "}});\n",
              "\n",
              "// Listen for the removal of the full notebook cells\n",
              "var notebookContainer = gd.closest('#notebook-container');\n",
              "if (notebookContainer) {{\n",
              "    x.observe(notebookContainer, {childList: true});\n",
              "}}\n",
              "\n",
              "// Listen for the clearing of the current output cell\n",
              "var outputEl = gd.closest('.output');\n",
              "if (outputEl) {{\n",
              "    x.observe(outputEl, {childList: true});\n",
              "}}\n",
              "\n",
              "                        })                };                            </script>        </div>\n",
              "</body>\n",
              "</html>"
            ]
          },
          "metadata": {}
        }
      ],
      "source": [
        "mf_list[0].plot(mf_list[1:],type = 'heatmap')"
      ]
    },
    {
      "cell_type": "markdown",
      "id": "b3569cb7-e3b4-4bd8-8e7a-a7c359ac23bd",
      "metadata": {
        "id": "b3569cb7-e3b4-4bd8-8e7a-a7c359ac23bd"
      },
      "source": [
        "#### Conclusion\n",
        "Overall, \"priors_count\" and \"age\" are important predictors for the target variable in all three models. Our analysis shows that the performance of our random forest model is only slightly better than the simple logistic model. While there are tools available to help us understand the \"black box\" nature of the random forest model, the logistic model is still easier to interpret and understand due to its straightforward linear equation. However, it is important to note that all three models are unfair, and this limitation highlights the need for continued work to address biases in algorithmic systems. As machine learning methods play an increasingly important role in our society, it is crucial that we remain aware of their limitations and work to improve their fairness and accuracy."
      ]
    },
    {
      "cell_type": "markdown",
      "id": "253dda3f-90c5-4a44-b126-2d57c334a40b",
      "metadata": {
        "tags": [],
        "id": "253dda3f-90c5-4a44-b126-2d57c334a40b"
      },
      "source": [
        "## Further Discussion"
      ]
    },
    {
      "cell_type": "markdown",
      "id": "72d92260-fcf4-4272-bafa-38bbca297dbb",
      "metadata": {
        "tags": [],
        "id": "72d92260-fcf4-4272-bafa-38bbca297dbb"
      },
      "source": [
        "### Question 2."
      ]
    },
    {
      "cell_type": "markdown",
      "id": "53defdab-6289-423f-8136-38832002a206",
      "metadata": {
        "id": "53defdab-6289-423f-8136-38832002a206"
      },
      "source": [
        "#### 2.1 Are interpretable models just as accurate as black box machine learning models for predicting recidivism?"
      ]
    },
    {
      "cell_type": "markdown",
      "id": "a6c11ffd-aabf-4589-9b94-80190d59cf0f",
      "metadata": {
        "id": "a6c11ffd-aabf-4589-9b94-80190d59cf0f"
      },
      "source": [
        "Interpretable models are machine learning models that help provide understandable explanations of their predictions and decision-making processes. The term “Black box machine learning models” refers to models that are not interpretable by humans because they lack transparency. Examples for black box machine learning models include neural networks. The opposite of black box machine learning models are interpretable models, sometimes also referred to as “White box models” or “Glass box models”. They are understandable and verifiable by humans, thus they are transparent. An example for an interpretable model is a logistic regression (compare Molnar 2022). \n",
        "\n",
        "This opacity terminology not only describes missing transparency in the algorithms themselves, but voluntary missing transparency, which is caused by the companies who develop them. Even interpretable models can be black box models, when how they work isn’t revealed by the companies - as is the case with the COMPAS algorithm that will be discussed in the next paragraph.  These algorithms are proprietary. The company’s financial benefits from selling the model would be lost, if how they work would be public as Cynthia Rudin, a scientist who advocates for interpretable models in high stake decisions, points out (2019, p.9).\n",
        "\n",
        "\n",
        "Rudin argues that interpretable models can be just as accurate as black box machine learning models for predicting recidivism. In the case of the COMPAS algorithm, the interpretable alternative is COREL. COREL is a model that only uses age, priors and optionally gender. Both COMPAS and COREL “have similar true and false positive and true and false negative rates on data from Broward County, Florida” (Rudin 2019, p. 6). \n",
        "\n",
        "For machine learning models in general Rudin even goes as far as to state that interpretable models could even have in-practice a higher accuracy, because typographical errors can occur in the datasets and can then have an impact on the predicted outcome (2019, p.5).  Nevertheless there is a point in the fact that interpretable models are just as accurate as “the machine learning researcher’s ability to create accurate-yet-interpretable models” (2019, p. 8) allows the model to be. So definitely interpretable models aren’t automatically as accurate as black box machine learning models.\n",
        "\n",
        "Before moving on to the discussion of transparency, it should be briefly mentioned that even if there is not necessarily a tradeoff between accuracy and interpretability, there is one for interpretability and flexibility. As Gareth et al. put it “In general, as the flexibility of a method increases, its interpretability decreases.” (2013, p. 25)"
      ]
    },
    {
      "cell_type": "markdown",
      "id": "7918e312-3068-438b-b372-324c42ad95a6",
      "metadata": {
        "id": "7918e312-3068-438b-b372-324c42ad95a6"
      },
      "source": [
        "#### 2.2 Can complex models be as transparent as simple ones?\n",
        "That being said, be cautious that “interpretable machine learning” and “explainable machine learning” are often used interchangeably, but as Rudin argues, should be differentiated and used consciously on a common ground (2019, p.14). She defines interpretable models as models that are inherently interpretable. Whereas explainable models, in her perception, are black box models that are explained using a second (posthoc) model. Which then in turn is also the reason why troubleshooting the model is also very difficult and time-consuming. \n",
        "\n",
        "One of her main arguments for interpretable models, in comparison with explainable models, is “explanations are often not reliable, and can be misleading [...]. If we instead use models that are inherently interpretable, they provide their own explanations, which are faithful to what the model actually computes.” (2019, p.1) This means, the explanation model is always just an approximation of how the black box model functions. \n",
        "\n",
        "Zachary Lipton doesn’t make this differentiation, between interpretability and explainability, but agrees that “the task of interpretation appears underspecified” and also that “transparency to humans and post-hoc explanations [are] competing notions” (2017, p.1).\n",
        "In trying to specify interpretability he considers different levels of transparency, this being the opposite of opacity:\n",
        "“transparency at the level of the entire model (simulatability), \n",
        "at the level of individual components (e.g. parameters) (decomposability), \n",
        "and at the level of the training algorithm (algorithmic transparency).” (2017, p.4)\n",
        "The derived levels of interpretability are therefore: \n",
        "Algorithm Transparency: “How does the algorithm create the model?” (Molnar 2022),\n",
        "Global, Holistic Model Interpretability: “How does the trained model make predictions?” (Molnar 2022),\n",
        "Global Model Interpretability on a Modular Level: “How do parts of the model affect predictions?” (Molnar 2022),\n",
        "Local Interpretability for a Single Prediction: “Why did the model make a certain prediction for an instance?” (Molnar 2022),\n",
        "Local Interpretability for a Group of Predictions: “Why did the model make specific predictions for a group of instances?” (Molnar 2022).\n",
        "\n",
        "Lipton concludes that “. Linear models are not strictly more interpretable than deep neural networks”, but equal, less or more interpretable depending on the level of interpretability that one is concerned about (2017, p. 7).\n",
        "\n",
        "Rudin agrees indirectly when stating that even with her differentiation or explainable and interpretable models “there is a spectrum between fully transparent models (where we understand how all the variables are jointly related to each other) and models that are lightly constrained in model form (such as models that are forced to increase as one of the variables increases, or models that, all else being equal, prefer variables that domain experts have identified as important)” (2019, p. 1). "
      ]
    },
    {
      "cell_type": "markdown",
      "id": "2f4dca62-2bac-4714-b82c-50e8c50aef1f",
      "metadata": {
        "id": "2f4dca62-2bac-4714-b82c-50e8c50aef1f"
      },
      "source": [
        "#### 2.3 How do I communicate nonlinear dependencies?\n",
        "\n",
        "Non-linear dependencies, also referred to as non-linear relationships, play an important role in the interpretability of models. Non-linear dependencies describe relationships between the predicting features and the predicted response of the model and are inherent to the features and predicted response, so they do occur for both black box models as well as interpretable models (Gareth et al. 2013, p.90ff). \n",
        "The ability of a model to adjust to these non-linear dependencies depends on the model's flexibility. It was already briefly mentioned that there is a tradeoff between flexibility and interpretability. Meaning that complex models, including black box machine learning models which are not interpretable by humans, can adapt better to these dependencies.\n",
        "\n",
        "Consequently it is important to choose the right model. The model in turn can help communicate the non-linear dependencies:\n",
        "For example, a decision tree can show the specific conditions that lead to a certain prediction, and how those conditions are interconnected. A linear regression model with non-linear dependencies could be better expressed by a polynomial regression function as follows: \n",
        "yi = β0 + β1xi1 + β2xi2 + ··· + βpxip + i\n",
        "Another way to communicate non-linear dependencies in linear regression - but also for classification problems - are generalized additive models (GAM). Generalized additive models model each feature with a non-linear function. Then these functions are weighed and summed. Apart from these three there are even more models, including step functions and regression splines, etc. (compare Gareth et al. 2013, p.265ff; Molnar 2022).\n",
        "\n",
        "Apart from choosing the right model the non-linear dependencies can also be analyzed directly by performing a feature importance analysis. It can show the contribution of the features involved. This in turn can help for feature tuning and minimizing the number of features for interpretable models. A feature importance analysis can be performed using permutation. Molnar explains “A feature is “important” if shuffling its values increases the model error, because in this case the model relied on the feature for the prediction. A feature is “unimportant” if shuffling its values leaves the model error unchanged, because in this case the model ignored the feature for the prediction.” (2022)\n"
      ]
    },
    {
      "cell_type": "markdown",
      "id": "c4ac7e14-b95d-42a9-a5c4-37253f236075",
      "metadata": {
        "tags": [],
        "id": "c4ac7e14-b95d-42a9-a5c4-37253f236075"
      },
      "source": [
        "### Question 5. How can I find relevant interactions?"
      ]
    },
    {
      "cell_type": "markdown",
      "id": "96e0bb97-4cb6-4c95-a7ef-b3f4ec656d7a",
      "metadata": {
        "id": "96e0bb97-4cb6-4c95-a7ef-b3f4ec656d7a"
      },
      "source": [
        "There are several ways to statistically find relevant interactions between features in an interpretable machine learning model. Some common methods include:\n",
        "\n",
        "**Using interaction terms**: One way to find interactions between features is by creating interaction terms. Because the “magnitude of the interaction effect in nonlinear models does not equal the marginal effect of the interaction term, the magnitude of the interaction of the variable effect then depends on all the covariates in the model” (Ai and Norton, p. 154)., which are the product of two or more predictor variables. These interaction terms can be added to the model as new predictors, and their coefficients can be used to evaluate the strength and significance of the interactions.\n",
        "\n",
        "**Using partial dependence plots**: Another way to find interactions between features is by using partial dependence plots. Jerome H. Friedman (p. 1219) explained that “Functions of a categorical variable and another variable (real or categorical) are best summarized by a sequence of(''trellis”) plots, each one showing the dependence of first input on the second variable, conditioned on the respective values of the first variable”. Essentially, the plots show the relationship between a predictor and the outcome variable, holding all other predictors constant.\n",
        "\n",
        "**Using Permutation Importance**: Feature importance provides a highly compressed, global insight into the model’s behavior (Christoph Molnar). By using Permutation Importance as a way to understand the feature importance, shuffling the values of a feature and observing the change in the performance of the model. The features that have a larger effect on the model performance when shuffled are considered more important. \n",
        "\n",
        "**Using SHapley Additive exPlanations (SHAP) values**: Based on the Shapley documentation, SHAP values are a unified measure of feature importance that assigns each feature an importance value for a particular prediction. Originally a game theoretic approach to explain the output of any machine learning model, It connects optimal credit allocation with local explanations using classic Shapley values. By comparing the SHAP values for different features, you can identify interactions between features.\n",
        "\n",
        "It's important to note that none of these methods are foolproof in finding interactions. The best way to find interactions is through experimentation and testing different combinations of features and also visualizing the data, will give a better understanding of the relationship between features. \n",
        "We know from several sources that in the data from Broward County, Florida, age and priors interact with race. But in order to know to which extent they interact, we would have to conduct one or several of the above mentioned methods.\n",
        "\n"
      ]
    },
    {
      "cell_type": "markdown",
      "id": "4cefed08-72a3-451e-bb37-2db3b5da00a2",
      "metadata": {
        "tags": [],
        "id": "4cefed08-72a3-451e-bb37-2db3b5da00a2"
      },
      "source": [
        "## Final Conclusion"
      ]
    },
    {
      "cell_type": "markdown",
      "id": "eec0cd54-c4b4-4b4c-8679-2f85dc3ee873",
      "metadata": {
        "id": "eec0cd54-c4b4-4b4c-8679-2f85dc3ee873"
      },
      "source": [
        "As previously mentioned, the performance of a machine learning model is largely dependent on the quality of the data used to train it. In the case of recidivism prediction, the higher base rate of African-Americans (52%) compared to other races (39%) results in different error rates between the two groups. If the recidivism rate is the same within each risk category, regardless of race, then a higher proportion of black defendants will be classified as high risk, even if they do not reoffend. This leads to a higher False Positive Rate (FPR) for black defendants. \n",
        "\n",
        "The COMPAS algorithm is therefore biased, but not because of bad intentions of those creating it. We believe that they aimed for fairness as they had similar predictive values. Nonetheless, the bias is a result of the systemic racism and social conditions that impact the data used to train the models.\n",
        "\n",
        "It is crucial to be mindful of the limitations of machine learning methods when making decisions that could greatly impact a person's future. Algorithms can provide valuable insights, but they are simply a reflection of the current system. As humans, it is our responsibility to work towards creating a better and more equitable reality."
      ]
    },
    {
      "cell_type": "markdown",
      "id": "edfbddd7-27d8-4630-913b-eb71d7704ef0",
      "metadata": {
        "tags": [],
        "id": "edfbddd7-27d8-4630-913b-eb71d7704ef0"
      },
      "source": [
        "## References"
      ]
    },
    {
      "cell_type": "markdown",
      "id": "130dd2cb-a421-4f55-99f7-871cf9e38120",
      "metadata": {
        "id": "130dd2cb-a421-4f55-99f7-871cf9e38120"
      },
      "source": [
        "Markus Waser, “Nonlinear Dependencies in and between Time Series” retrieved from: https://publik.tuwien.ac.at/files/PubDat_189752.pdf<br>\n",
        "\n",
        "Patrick Hall, “Predictive modeling: Striking a balance between accuracy and interpretability”. Retrieved from: https://www.oreilly.com/content/predictive-modeling-striking-a-balance-between-accuracy-and-interpretability/<br>\n",
        "\n",
        "Chunrong Ai and Edward C. Norton, “Computing interaction effects and standard errors in logit and Probit models” retrieved from: https://hhstokes.people.uic.edu/ftp/e535/probit/NortonWangAi.pdf<br>\n",
        "\n",
        "Jerome H. Friedman, \"Greedy function approximation: A gradient boosting machine..\" Ann. Statist. 29 (5) 1189 - 1232, October 2001. Retrieved from: https://doi.org/10.1214/aos/1013203451<br>\n",
        "\n",
        "Molnar, Christoph. “Interpretable Machine Learning: A Guide for Making Black Box Models Explainable” (2022): Chapter: Permutation Feature Importance\n",
        "Slundberg/shap · GitHub<br>\n",
        "\n",
        "Rudin, Cynthia. “Stop Explaining Black Box Machine Learning Models for High Stakes Decisions and use Interpretable Models Instead” (2019): Nature Machine Intelligence. Retrieved from: https://arxiv.org/abs/1811.10154 <br>\n",
        "\n",
        "Ai, C., & Norton, E. C. (2004). Computing interaction effects and standard errors in logit and Probit models. Retrieved January 15, 2023, from https://hhstokes.people.uic.edu/ftp/e535/probit/NortonWangAi.pdf.\n",
        "\n",
        "Oh, S. (2019). Feature Interaction in Terms of Prediction Performance. Applied Sciences, 9(23), 5191. https://doi.org/10.3390/app9235191\n",
        "\n",
        "Friedman, Jerome H. (2001): Greedy function approximation: A gradient boosting machine… Ann. Statist. 29 (5) 1189 - 1232. Retrieved January 15, 2023, from https://doi.org/10.1214/aos/1013203451/\n",
        "\n",
        "Molnar, Christoph (2022): Interpretable Machine Learning: A Guide for Making Black Box Models Explainable. Retrieved January 12, 2023, from  https://christophm.github.io/interpretable-ml-book/feature-importance.html\n",
        "\n",
        "Lundberg, S. (2020, December 18). Welcome to the SHAP documentation Retrieved from https://github.com/slundberg/shap/blob/master/docs/index.rst"
      ]
    }
  ],
  "metadata": {
    "kernelspec": {
      "display_name": "Python 3 (ipykernel)",
      "language": "python",
      "name": "python3"
    },
    "language_info": {
      "codemirror_mode": {
        "name": "ipython",
        "version": 3
      },
      "file_extension": ".py",
      "mimetype": "text/x-python",
      "name": "python",
      "nbconvert_exporter": "python",
      "pygments_lexer": "ipython3",
      "version": "3.9.12"
    },
    "colab": {
      "provenance": []
    }
  },
  "nbformat": 4,
  "nbformat_minor": 5
}