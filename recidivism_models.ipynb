{
 "cells": [
  {
   "cell_type": "code",
   "execution_count": 36,
   "id": "f42f6ccd-7209-4f04-8ac0-e7ce12167e49",
   "metadata": {},
   "outputs": [],
   "source": [
    "import numpy as np\n",
    "import matplotlib.pyplot as plt\n",
    "import pandas as pd\n",
    "import seaborn as sns\n",
    "# from scipy.stats import norm\n",
    "from scipy import stats\n",
    "# from sklearn import (\n",
    "#     linear_model, metrics, pipeline, preprocessing, model_selection\n",
    "# )\n",
    "from sklearn.linear_model import LogisticRegression, LinearRegression, Lasso, Ridge\n",
    "from sklearn.ensemble import RandomForestRegressor, RandomForestClassifier\n",
    "from sklearn.tree import DecisionTreeRegressor,DecisionTreeClassifier\n",
    "from sklearn.metrics import accuracy_score, confusion_matrix, classification_report,mean_absolute_error,r2_score\n",
    "from time import time\n",
    "\n",
    "from sklearn import model_selection\n",
    "from sklearn.compose import ColumnTransformer\n",
    "from sklearn.pipeline import Pipeline, FeatureUnion\n",
    "from sklearn.preprocessing import OneHotEncoder, StandardScaler\n",
    "# from sklearn.model_selection import cross_val_score\n",
    "# from sklearn.model_selection import RepeatedKFold\n",
    "import warnings\n",
    "warnings.filterwarnings('ignore')"
   ]
  },
  {
   "cell_type": "markdown",
   "id": "2091c009-b947-47d7-98ab-35e25db76e17",
   "metadata": {},
   "source": [
    "## Load Data"
   ]
  },
  {
   "cell_type": "code",
   "execution_count": 2,
   "id": "c1db2852-fdda-4c28-a9c0-8b05a0065a72",
   "metadata": {},
   "outputs": [
    {
     "name": "stdout",
     "output_type": "stream",
     "text": [
      "(4743, 54)\n"
     ]
    },
    {
     "data": {
      "text/plain": [
       "Index(['id', 'name', 'first', 'last', 'compas_screening_date', 'sex', 'dob',\n",
       "       'age', 'age_cat', 'race', 'juv_fel_count', 'decile_score',\n",
       "       'juv_misd_count', 'juv_other_count', 'priors_count',\n",
       "       'days_b_screening_arrest', 'c_jail_in', 'c_jail_out', 'c_case_number',\n",
       "       'c_offense_date', 'c_arrest_date', 'c_days_from_compas',\n",
       "       'c_charge_degree', 'c_charge_desc', 'is_recid', 'r_case_number',\n",
       "       'r_charge_degree', 'r_days_from_arrest', 'r_offense_date',\n",
       "       'r_charge_desc', 'r_jail_in', 'r_jail_out', 'violent_recid',\n",
       "       'is_violent_recid', 'vr_case_number', 'vr_charge_degree',\n",
       "       'vr_offense_date', 'vr_charge_desc', 'type_of_assessment',\n",
       "       'decile_score.1', 'score_text', 'screening_date',\n",
       "       'v_type_of_assessment', 'v_decile_score', 'v_score_text',\n",
       "       'v_screening_date', 'in_custody', 'out_custody', 'priors_count.1',\n",
       "       'start', 'end', 'event', 'two_year_recid', 'two_year_recid.1'],\n",
       "      dtype='object')"
      ]
     },
     "execution_count": 2,
     "metadata": {},
     "output_type": "execute_result"
    }
   ],
   "source": [
    "dataURL = 'https://raw.githubusercontent.com/propublica/compas-analysis/master/compas-scores-two-years-violent.csv'\n",
    "raw_data = pd.read_csv(dataURL)\n",
    "print(raw_data.shape)\n",
    "raw_data.columns"
   ]
  },
  {
   "cell_type": "code",
   "execution_count": 3,
   "id": "24c9a839-6adb-42fe-9001-44f1cb307357",
   "metadata": {},
   "outputs": [
    {
     "data": {
      "text/plain": [
       "4020"
      ]
     },
     "execution_count": 3,
     "metadata": {},
     "output_type": "execute_result"
    }
   ],
   "source": [
    "compas_df = raw_data.loc[\n",
    "    (raw_data['days_b_screening_arrest'] <= 30) &\n",
    "    (raw_data['days_b_screening_arrest'] >= -30) &\n",
    "    (raw_data['is_recid'] != -1) &\n",
    "    (raw_data['c_charge_degree'] != \"O\") &\n",
    "    (raw_data['score_text'] != \"N/A\")\n",
    "]\n",
    "len(compas_df)"
   ]
  },
  {
   "cell_type": "markdown",
   "id": "31df9383-44ad-402f-89b6-fdb4cd5e44ed",
   "metadata": {},
   "source": [
    "## Recidivism Classification"
   ]
  },
  {
   "cell_type": "code",
   "execution_count": 4,
   "id": "e00bb009-53ec-43d0-9f9a-2c7cb168731b",
   "metadata": {},
   "outputs": [],
   "source": [
    "df = compas_df.copy()"
   ]
  },
  {
   "cell_type": "markdown",
   "id": "4a384742-deb5-4cc9-85b1-828999982225",
   "metadata": {},
   "source": [
    "#### Handle simple bias and unbalance. \n",
    "we can clearly see that the sample is unbalanced: Asian and Native Amerian samples are too small -> inapprociate to analyze and make predictions for them -> we'll add them to the Other group. This also makes the sample data more balanced."
   ]
  },
  {
   "cell_type": "code",
   "execution_count": 5,
   "id": "d0b6399b-305c-4caa-8ab8-251d9b2844ef",
   "metadata": {},
   "outputs": [
    {
     "data": {
      "text/plain": [
       "African-American    1918\n",
       "Caucasian           1459\n",
       "Hispanic             355\n",
       "Other                288\n",
       "Name: race, dtype: int64"
      ]
     },
     "execution_count": 5,
     "metadata": {},
     "output_type": "execute_result"
    }
   ],
   "source": [
    "df.loc[df['race'].isin(['Native American', 'Asian']), 'race'] = \"Other\"\n",
    "df['race'].value_counts()"
   ]
  },
  {
   "cell_type": "code",
   "execution_count": 6,
   "id": "668c0cf1-fe42-4464-950e-b24a07d816b3",
   "metadata": {},
   "outputs": [],
   "source": [
    "# df['juv_total'] = df[['juv_fel_count', 'juv_misd_count', 'juv_other_count']].sum(axis = 1)"
   ]
  },
  {
   "cell_type": "markdown",
   "id": "b33ee13d-0bf3-493a-b5de-7f13c725e82c",
   "metadata": {},
   "source": [
    "### prepare pipelines to transform data"
   ]
  },
  {
   "cell_type": "code",
   "execution_count": 7,
   "id": "54a08406-eed8-48a7-b2d9-5927c1f9dbe7",
   "metadata": {},
   "outputs": [],
   "source": [
    "# pipeline to transform data\n",
    "categorical_transformer = Pipeline(steps = [('onehot', OneHotEncoder(drop = 'if_binary'))])\n",
    "numerical_transformer = Pipeline(steps = [('scale', StandardScaler())])"
   ]
  },
  {
   "cell_type": "code",
   "execution_count": 22,
   "id": "5d0a4006-8807-4f17-acb5-93632e4d95d0",
   "metadata": {
    "tags": []
   },
   "outputs": [],
   "source": [
    "def evaluate_classification_models(model, y_test, y_preds):\n",
    "        print(model)\n",
    "        # print(\"\\t Training Time: %0.8f\" % train_time)\n",
    "        # print(\"\\t Prediction Time: %0.8f\" % pred_time)\n",
    "        print(\"\\t Accuracy Score: %0.5f\" % accuracy_score(y_test, y_preds))\n",
    "        # print(\"\\t Classification Report\",\"\\n\", classification_report(y_test, y_preds))\n",
    "        print()"
   ]
  },
  {
   "cell_type": "code",
   "execution_count": 20,
   "id": "f3930616-80ff-4ef9-a40f-1262651a55b7",
   "metadata": {},
   "outputs": [],
   "source": [
    "# function to run models\n",
    "def run_model(features, target, stratify, size, classifiers, categorical_features, numerical_features, evaluation):\n",
    "   \n",
    "    # split train and test data\n",
    "    X_train, X_test, y_train, y_test = model_selection.train_test_split(\n",
    "        features, \n",
    "        target, \n",
    "        stratify = stratify,\n",
    "        test_size = size, \n",
    "        random_state = 3)\n",
    "    \n",
    "    # preprocessor\n",
    "    preprocessor = ColumnTransformer(transformers = [\n",
    "        ('cat_preprocess', categorical_transformer, categorical_features),\n",
    "        ('num_preprocess', numerical_transformer, numerical_features)\n",
    "    ])\n",
    "    \n",
    "    # run each model on our model pipeline\n",
    "    for c in classifiers:\n",
    "        model = Pipeline(steps = [\n",
    "        ('preprocessor', preprocessor),\n",
    "        ('classifier', c)])\n",
    "        start = time()\n",
    "        model.fit(X_train, y_train)\n",
    "        train_time = time() - start\n",
    "        y_preds = model.predict(X_test)\n",
    "        pred_time = time() - (start + train_time)\n",
    "        evaluation(c, y_test, y_preds)"
   ]
  },
  {
   "cell_type": "code",
   "execution_count": 39,
   "id": "088f4a3d-b382-4d1f-89a0-7ec7d6743186",
   "metadata": {},
   "outputs": [],
   "source": [
    "classifiers = [\n",
    "    LogisticRegression(random_state=3),\n",
    "    DecisionTreeClassifier(random_state=3),\n",
    "    RandomForestClassifier(random_state=3),\n",
    "]"
   ]
  },
  {
   "cell_type": "code",
   "execution_count": 11,
   "id": "2488cdbb-81e4-42ea-8a94-db1185991fb5",
   "metadata": {},
   "outputs": [],
   "source": [
    "target = df[['two_year_recid']]\n",
    "stratify = df['race']"
   ]
  },
  {
   "cell_type": "code",
   "execution_count": 40,
   "id": "3595d42c-91b7-4601-9282-5597e8261180",
   "metadata": {},
   "outputs": [
    {
     "name": "stdout",
     "output_type": "stream",
     "text": [
      "LogisticRegression(random_state=3)\n",
      "\t Accuracy Score: 0.83781\n",
      "\n",
      "DecisionTreeClassifier(random_state=3)\n",
      "\t Accuracy Score: 0.79502\n",
      "\n",
      "RandomForestClassifier(random_state=3)\n",
      "\t Accuracy Score: 0.81891\n",
      "\n"
     ]
    }
   ],
   "source": [
    "run_model(\n",
    "    df[['sex','age','race','priors_count','c_charge_degree']], \n",
    "    target,\n",
    "    stratify, \n",
    "    0.25,\n",
    "    classifiers, \n",
    "    ['race','sex','c_charge_degree'],\n",
    "    ['age','priors_count'],\n",
    "    evaluate_classification_models\n",
    ")"
   ]
  },
  {
   "cell_type": "code",
   "execution_count": 41,
   "id": "e19d4f5c-9f9d-4197-b984-6ae0893920a5",
   "metadata": {},
   "outputs": [
    {
     "name": "stdout",
     "output_type": "stream",
     "text": [
      "LogisticRegression(random_state=3)\n",
      "\t Accuracy Score: 0.83458\n",
      "\n",
      "DecisionTreeClassifier(random_state=3)\n",
      "\t Accuracy Score: 0.80473\n",
      "\n",
      "RandomForestClassifier(random_state=3)\n",
      "\t Accuracy Score: 0.80721\n",
      "\n"
     ]
    }
   ],
   "source": [
    "run_model(\n",
    "    df[['sex','age','race','priors_count','c_charge_degree','juv_fel_count', 'juv_misd_count', 'juv_other_count']], \n",
    "    target,\n",
    "    stratify, \n",
    "    0.2,\n",
    "    classifiers, \n",
    "    ['race','sex','c_charge_degree'],\n",
    "    ['age','priors_count','juv_fel_count', 'juv_misd_count', 'juv_other_count'],\n",
    "    evaluate_classification_models\n",
    ")"
   ]
  },
  {
   "cell_type": "code",
   "execution_count": 42,
   "id": "7fde32fb-c507-4ffa-a7d1-917c4a7f1290",
   "metadata": {},
   "outputs": [],
   "source": [
    "classifiers = [\n",
    "    LogisticRegression(random_state=42),\n",
    "    DecisionTreeClassifier(random_state=42),\n",
    "    RandomForestClassifier(n_estimators = 1000, random_state = 42),\n",
    "]"
   ]
  },
  {
   "cell_type": "code",
   "execution_count": 43,
   "id": "59a9163a-7887-4d8b-be73-2f90df343e2f",
   "metadata": {},
   "outputs": [
    {
     "name": "stdout",
     "output_type": "stream",
     "text": [
      "LogisticRegression(random_state=42)\n",
      "\t Accuracy Score: 0.83458\n",
      "\n",
      "DecisionTreeClassifier(random_state=42)\n",
      "\t Accuracy Score: 0.80721\n",
      "\n",
      "RandomForestClassifier(n_estimators=1000, random_state=42)\n",
      "\t Accuracy Score: 0.80721\n",
      "\n"
     ]
    }
   ],
   "source": [
    "run_model(\n",
    "    df[['sex','age','race','priors_count','c_charge_degree','juv_fel_count', 'juv_misd_count', 'juv_other_count']], \n",
    "    target,\n",
    "    stratify, \n",
    "    0.2,\n",
    "    classifiers, \n",
    "    ['race','sex','c_charge_degree'],\n",
    "    ['age','priors_count','juv_fel_count', 'juv_misd_count', 'juv_other_count'],\n",
    "    evaluate_classification_models\n",
    ")"
   ]
  },
  {
   "cell_type": "markdown",
   "id": "9f1062ee-a63e-433a-853c-3f3e0ece647e",
   "metadata": {},
   "source": [
    "## COMPAS scores for recidivism"
   ]
  },
  {
   "cell_type": "code",
   "execution_count": 37,
   "id": "b778a462-31d2-4678-94a3-56a5a2f554a8",
   "metadata": {},
   "outputs": [],
   "source": [
    "def evaluate_regression_models(model, y_test, y_preds):\n",
    "        print(model)\n",
    "        # print(\"\\t Training Time: %0.8f\" % train_time)\n",
    "        # print(\"\\t Prediction Time: %0.8f\" % pred_time)\n",
    "        print(\"\\t MAE: %0.5f\" % mean_absolute_error(y_test, y_preds)),\n",
    "        print(\"\\t R2 Score: %05f\" % r2_score(y_test, y_preds)),\n",
    "        print()"
   ]
  },
  {
   "cell_type": "code",
   "execution_count": 31,
   "id": "207ddb9e-0742-4420-a177-8be5a50b0160",
   "metadata": {},
   "outputs": [],
   "source": [
    "regressors = [\n",
    "    LinearRegression(),\n",
    "    Lasso(),\n",
    "    Ridge(),\n",
    "    DecisionTreeRegressor(),\n",
    "    RandomForestRegressor()\n",
    "]"
   ]
  },
  {
   "cell_type": "code",
   "execution_count": 32,
   "id": "388ef527-6ae4-442b-9795-eeafb0319ff8",
   "metadata": {},
   "outputs": [],
   "source": [
    "linear_target = df['decile_score']"
   ]
  },
  {
   "cell_type": "code",
   "execution_count": 38,
   "id": "47611e3b-449d-41b2-9ca2-6b7ffe93ecb7",
   "metadata": {},
   "outputs": [
    {
     "name": "stdout",
     "output_type": "stream",
     "text": [
      "LinearRegression()\n",
      "\t MAE: 1.62923\n",
      "\t R2 Score: 0.444618\n",
      "\n",
      "Lasso()\n",
      "\t MAE: 2.22661\n",
      "\t R2 Score: 0.113033\n",
      "\n",
      "Ridge()\n",
      "\t MAE: 1.62923\n",
      "\t R2 Score: 0.444923\n",
      "\n",
      "DecisionTreeRegressor()\n",
      "\t MAE: 1.87046\n",
      "\t R2 Score: 0.162157\n",
      "\n",
      "RandomForestRegressor()\n",
      "\t MAE: 1.70030\n",
      "\t R2 Score: 0.345064\n",
      "\n"
     ]
    }
   ],
   "source": [
    "run_model(\n",
    "    df[['sex','age','race','priors_count','c_charge_degree','juv_fel_count', 'juv_misd_count', 'juv_other_count']], \n",
    "    linear_target,\n",
    "    stratify, \n",
    "    0.2,\n",
    "    regressors, \n",
    "    ['race','sex','c_charge_degree'],\n",
    "    ['age','priors_count','juv_fel_count', 'juv_misd_count', 'juv_other_count'],\n",
    "    evaluate_regression_models\n",
    ")"
   ]
  },
  {
   "cell_type": "code",
   "execution_count": null,
   "id": "73013efc-2e83-4c93-a231-c399ef46c88c",
   "metadata": {},
   "outputs": [],
   "source": []
  }
 ],
 "metadata": {
  "kernelspec": {
   "display_name": "Python 3 (ipykernel)",
   "language": "python",
   "name": "python3"
  },
  "language_info": {
   "codemirror_mode": {
    "name": "ipython",
    "version": 3
   },
   "file_extension": ".py",
   "mimetype": "text/x-python",
   "name": "python",
   "nbconvert_exporter": "python",
   "pygments_lexer": "ipython3",
   "version": "3.9.6"
  }
 },
 "nbformat": 4,
 "nbformat_minor": 5
}
