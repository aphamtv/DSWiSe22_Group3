{
 "cells": [
  {
   "cell_type": "code",
   "execution_count": 187,
   "id": "f42f6ccd-7209-4f04-8ac0-e7ce12167e49",
   "metadata": {},
   "outputs": [],
   "source": [
    "import numpy as np\n",
    "import matplotlib.pyplot as plt\n",
    "import pandas as pd\n",
    "import seaborn as sns\n",
    "# from scipy.stats import norm\n",
    "from scipy import stats\n",
    "# from sklearn import (\n",
    "#     linear_model, metrics, pipeline, preprocessing, model_selection\n",
    "# )\n",
    "from sklearn.linear_model import LogisticRegression, LinearRegression, Lasso, Ridge\n",
    "from sklearn.ensemble import RandomForestRegressor, RandomForestClassifier\n",
    "from sklearn.tree import DecisionTreeRegressor,DecisionTreeClassifier\n",
    "from sklearn.metrics import accuracy_score, f1_score,confusion_matrix, classification_report,mean_absolute_error,r2_score\n",
    "from time import time\n",
    "from sklearn.model_selection import cross_val_score\n",
    "\n",
    "\n",
    "from sklearn import model_selection\n",
    "from sklearn.compose import ColumnTransformer\n",
    "from sklearn.pipeline import Pipeline, FeatureUnion\n",
    "from sklearn.preprocessing import OneHotEncoder, StandardScaler\n",
    "import warnings\n",
    "warnings.filterwarnings('ignore')"
   ]
  },
  {
   "cell_type": "markdown",
   "id": "2091c009-b947-47d7-98ab-35e25db76e17",
   "metadata": {},
   "source": [
    "## Load Data"
   ]
  },
  {
   "cell_type": "code",
   "execution_count": 73,
   "id": "c1db2852-fdda-4c28-a9c0-8b05a0065a72",
   "metadata": {},
   "outputs": [
    {
     "name": "stdout",
     "output_type": "stream",
     "text": [
      "(4743, 54)\n"
     ]
    },
    {
     "data": {
      "text/plain": [
       "Index(['id', 'name', 'first', 'last', 'compas_screening_date', 'sex', 'dob',\n",
       "       'age', 'age_cat', 'race', 'juv_fel_count', 'decile_score',\n",
       "       'juv_misd_count', 'juv_other_count', 'priors_count',\n",
       "       'days_b_screening_arrest', 'c_jail_in', 'c_jail_out', 'c_case_number',\n",
       "       'c_offense_date', 'c_arrest_date', 'c_days_from_compas',\n",
       "       'c_charge_degree', 'c_charge_desc', 'is_recid', 'r_case_number',\n",
       "       'r_charge_degree', 'r_days_from_arrest', 'r_offense_date',\n",
       "       'r_charge_desc', 'r_jail_in', 'r_jail_out', 'violent_recid',\n",
       "       'is_violent_recid', 'vr_case_number', 'vr_charge_degree',\n",
       "       'vr_offense_date', 'vr_charge_desc', 'type_of_assessment',\n",
       "       'decile_score.1', 'score_text', 'screening_date',\n",
       "       'v_type_of_assessment', 'v_decile_score', 'v_score_text',\n",
       "       'v_screening_date', 'in_custody', 'out_custody', 'priors_count.1',\n",
       "       'start', 'end', 'event', 'two_year_recid', 'two_year_recid.1'],\n",
       "      dtype='object')"
      ]
     },
     "execution_count": 73,
     "metadata": {},
     "output_type": "execute_result"
    }
   ],
   "source": [
    "dataURL = 'https://raw.githubusercontent.com/propublica/compas-analysis/master/compas-scores-two-years-violent.csv'\n",
    "raw_data = pd.read_csv(dataURL)\n",
    "print(raw_data.shape)\n",
    "raw_data.columns"
   ]
  },
  {
   "cell_type": "code",
   "execution_count": 74,
   "id": "24c9a839-6adb-42fe-9001-44f1cb307357",
   "metadata": {},
   "outputs": [
    {
     "data": {
      "text/plain": [
       "4020"
      ]
     },
     "execution_count": 74,
     "metadata": {},
     "output_type": "execute_result"
    }
   ],
   "source": [
    "compas_df = raw_data.loc[\n",
    "    (raw_data['days_b_screening_arrest'] <= 30) &\n",
    "    (raw_data['days_b_screening_arrest'] >= -30) &\n",
    "    (raw_data['is_recid'] != -1) &\n",
    "    (raw_data['c_charge_degree'] != \"O\") &\n",
    "    (raw_data['score_text'] != \"N/A\")\n",
    "]\n",
    "len(compas_df)"
   ]
  },
  {
   "cell_type": "markdown",
   "id": "31df9383-44ad-402f-89b6-fdb4cd5e44ed",
   "metadata": {},
   "source": [
    "## Recidivism Classification"
   ]
  },
  {
   "cell_type": "markdown",
   "id": "c8125204-92a9-477b-ba31-3d3f171a3623",
   "metadata": {},
   "source": [
    "### Prepare Data"
   ]
  },
  {
   "cell_type": "code",
   "execution_count": 75,
   "id": "e00bb009-53ec-43d0-9f9a-2c7cb168731b",
   "metadata": {},
   "outputs": [],
   "source": [
    "df = compas_df.copy()"
   ]
  },
  {
   "cell_type": "markdown",
   "id": "4a384742-deb5-4cc9-85b1-828999982225",
   "metadata": {},
   "source": [
    "#### Handle simple bias and unbalance. \n",
    "we can clearly see that the sample is unbalanced: Asian and Native Amerian samples are too small -> inapprociate to analyze and make predictions for them -> we'll add them to the Other group. This also makes the sample data more balanced."
   ]
  },
  {
   "cell_type": "code",
   "execution_count": 76,
   "id": "d0b6399b-305c-4caa-8ab8-251d9b2844ef",
   "metadata": {},
   "outputs": [
    {
     "data": {
      "text/plain": [
       "African-American    1918\n",
       "Caucasian           1459\n",
       "Hispanic             355\n",
       "Other                288\n",
       "Name: race, dtype: int64"
      ]
     },
     "execution_count": 76,
     "metadata": {},
     "output_type": "execute_result"
    }
   ],
   "source": [
    "df.loc[df['race'].isin(['Native American', 'Asian']), 'race'] = \"Other\"\n",
    "df['race'].value_counts()"
   ]
  },
  {
   "cell_type": "code",
   "execution_count": 77,
   "id": "f1f1b79b-c4f1-43de-b534-a43dd22dec15",
   "metadata": {},
   "outputs": [],
   "source": [
    "features = df[['sex','age','race','priors_count','c_charge_degree','juv_fel_count', 'juv_misd_count', 'juv_other_count']]\n",
    "target = df['two_year_recid']"
   ]
  },
  {
   "cell_type": "code",
   "execution_count": 78,
   "id": "d524c1ba-a521-4888-8c2a-7900a2ab1974",
   "metadata": {},
   "outputs": [],
   "source": [
    "# split train and test data\n",
    "X_train, X_test, y_train, y_test = model_selection.train_test_split(\n",
    "        features, \n",
    "        target, \n",
    "        # stratify = stratify,\n",
    "        test_size = 0.3, \n",
    "        random_state = 42)"
   ]
  },
  {
   "cell_type": "markdown",
   "id": "b33ee13d-0bf3-493a-b5de-7f13c725e82c",
   "metadata": {},
   "source": [
    "### Data Preprocessing"
   ]
  },
  {
   "cell_type": "code",
   "execution_count": 79,
   "id": "9a714b57-13a0-4d3e-8802-fa24c22fa3c7",
   "metadata": {},
   "outputs": [],
   "source": [
    "# classify data type\n",
    "categorical_features = ['race','sex','c_charge_degree']\n",
    "numerical_features = ['age','priors_count','juv_fel_count', 'juv_misd_count', 'juv_other_count']"
   ]
  },
  {
   "cell_type": "code",
   "execution_count": 80,
   "id": "54a08406-eed8-48a7-b2d9-5927c1f9dbe7",
   "metadata": {},
   "outputs": [],
   "source": [
    "# pipeline to transform data\n",
    "categorical_transformer = Pipeline(steps = [('onehot', OneHotEncoder(drop = 'if_binary'))])\n",
    "numerical_transformer = Pipeline(steps = [('scale', StandardScaler())])"
   ]
  },
  {
   "cell_type": "code",
   "execution_count": 81,
   "id": "688f6f6b-cba8-42bd-847a-9ae467583b85",
   "metadata": {},
   "outputs": [],
   "source": [
    "preprocessor = ColumnTransformer(transformers = [\n",
    "    ('cat_preprocess', categorical_transformer, categorical_features),\n",
    "    ('num_preprocess', numerical_transformer, numerical_features)\n",
    "])"
   ]
  },
  {
   "cell_type": "markdown",
   "id": "515a70ee-3421-414f-b625-cc72bd8660c5",
   "metadata": {},
   "source": [
    "### Define metrics and functions"
   ]
  },
  {
   "cell_type": "code",
   "execution_count": 91,
   "id": "5d0a4006-8807-4f17-acb5-93632e4d95d0",
   "metadata": {
    "tags": []
   },
   "outputs": [],
   "source": [
    "def evaluate_classification_models(model, y_test, y_preds,train_time,pred_time):\n",
    "        print(model)\n",
    "        print(\"\\t Training Time: %0.8f\" % train_time)\n",
    "        print(\"\\t Prediction Time: %0.8f\" % pred_time)\n",
    "        print(\"\\t Accuracy Score: %0.5f\" % accuracy_score(y_test, y_preds))\n",
    "        print(\"\\t Classification Report\",\"\\n\", classification_report(y_test, y_preds))\n",
    "        print()"
   ]
  },
  {
   "cell_type": "code",
   "execution_count": 134,
   "id": "f3930616-80ff-4ef9-a40f-1262651a55b7",
   "metadata": {},
   "outputs": [],
   "source": [
    "def run_model(classifiers):\n",
    "    for c in classifiers:\n",
    "        model = Pipeline(steps = [\n",
    "        ('preprocessor', preprocessor),\n",
    "        ('classifier', c)])\n",
    "        start = time()\n",
    "        accuracy_score = cross_val_score(model,X_train,y_train, cv=3, scoring ='accuracy')\n",
    "        f1_score = cross_val_score(model,X_train,y_train, cv=3, scoring ='f1')\n",
    "        train_time = time() - start\n",
    "        print(c)\n",
    "        print(\"\\t Training Time: %0.8f\" % train_time)\n",
    "        print(\"\\t AVG Accuracy Score: %0.5f\" % accuracy_score.mean())\n",
    "        print(\"\\t AVG F1 Score: %0.5f\" % f1_score.mean())\n"
   ]
  },
  {
   "cell_type": "markdown",
   "id": "e98c5e18-14a2-4352-bdb4-58dbbd40d913",
   "metadata": {},
   "source": [
    "### Baseline Model"
   ]
  },
  {
   "cell_type": "code",
   "execution_count": 135,
   "id": "088f4a3d-b382-4d1f-89a0-7ec7d6743186",
   "metadata": {},
   "outputs": [
    {
     "name": "stdout",
     "output_type": "stream",
     "text": [
      "LogisticRegression(random_state=42)\n",
      "\t Training Time: 0.12617302\n",
      "\t AVG Accuracy Score: 0.84115\n",
      "\t AVG F1 Score: 0.17133\n"
     ]
    }
   ],
   "source": [
    "baseline_model = [LogisticRegression(random_state=42)]\n",
    "run_model(baseline_model)"
   ]
  },
  {
   "cell_type": "markdown",
   "id": "4fd4f685-b044-4815-9228-7f11a10337d1",
   "metadata": {},
   "source": [
    "### Model Comparison & Selection"
   ]
  },
  {
   "cell_type": "code",
   "execution_count": 141,
   "id": "88eafea3-06ac-41ef-a3fd-881d647daf26",
   "metadata": {},
   "outputs": [],
   "source": [
    "classifers = [\n",
    "    DecisionTreeClassifier(random_state=42),\n",
    "    RandomForestClassifier(random_state=42),\n",
    "]"
   ]
  },
  {
   "cell_type": "code",
   "execution_count": 137,
   "id": "c8cbc4b6-54d2-4c58-96e6-e04f8e27e616",
   "metadata": {},
   "outputs": [
    {
     "name": "stdout",
     "output_type": "stream",
     "text": [
      "DecisionTreeClassifier(random_state=42)\n",
      "\t Training Time: 0.07846189\n",
      "\t AVG Accuracy Score: 0.79211\n",
      "\t AVG F1 Score: 0.27640\n",
      "RandomForestClassifier(random_state=42)\n",
      "\t Training Time: 0.60507512\n",
      "\t AVG Accuracy Score: 0.80952\n",
      "\t AVG F1 Score: 0.26550\n"
     ]
    }
   ],
   "source": [
    "run_model(classifers)"
   ]
  },
  {
   "cell_type": "markdown",
   "id": "9f1062ee-a63e-433a-853c-3f3e0ece647e",
   "metadata": {},
   "source": [
    "**Our tree models aren't better than baseline logistic regression model -> need to tuning**"
   ]
  },
  {
   "cell_type": "markdown",
   "id": "132dc01f-1023-4ab8-9886-d6849e19e0a5",
   "metadata": {},
   "source": [
    "|Model          | Accuracy Score      |\n",
    "| :------------ | :-----------: |\n",
    "| **Baseline Logistic Regression**  | **84.115%**     |\n",
    "| Decision Tree  | **79.211%**     |\n",
    "| Random Forest | **80.952%**     "
   ]
  },
  {
   "cell_type": "markdown",
   "id": "94c0cd93-053e-4dfd-b089-9d7038943714",
   "metadata": {
    "tags": []
   },
   "source": [
    "### Tunning Decision Tree"
   ]
  },
  {
   "cell_type": "markdown",
   "id": "7d99d15c-ddc4-4784-9580-c57d7bcf324c",
   "metadata": {},
   "source": [
    "#### Randomized Parameter Tuning"
   ]
  },
  {
   "cell_type": "code",
   "execution_count": 160,
   "id": "582ebac6-7157-476a-9099-aa571a830042",
   "metadata": {},
   "outputs": [],
   "source": [
    "from sklearn.model_selection import RandomizedSearchCV\n",
    "\n",
    "dt_pipeline = Pipeline(steps = [\n",
    "        ('preprocessor', preprocessor),\n",
    "        ('model', DecisionTreeClassifier(random_state = 42))\n",
    "])\n",
    "dt_param_dis = {\n",
    "    'model__criterion': ['gini','entropy'],\n",
    "    'model__splitter': ['best','random'],\n",
    "    'model__max_depth': [2,5,10,20,40,None],\n",
    "    'model__min_samples_split': [2,5,10,15],\n",
    "    'model__max_features': ['auto','sqrt','log2',None]}\n",
    "\n",
    "rs_dt = RandomizedSearchCV(\n",
    "        estimator = dt_pipeline, \n",
    "        param_distributions = dt_param_dis, \n",
    "        n_iter =100, \n",
    "        cv = 3, \n",
    "        random_state = 42, \n",
    "        scoring ='accuracy')"
   ]
  },
  {
   "cell_type": "code",
   "execution_count": 158,
   "id": "df218862-a9ce-4bb6-8c31-6ad1c30aa442",
   "metadata": {},
   "outputs": [
    {
     "name": "stdout",
     "output_type": "stream",
     "text": [
      "best stcore = 0.8386638237384506\n",
      "best params = {'model__splitter': 'random', 'model__min_samples_split': 5, 'model__max_features': 'auto', 'model__max_depth': 2, 'model__criterion': 'entropy'}\n"
     ]
    }
   ],
   "source": [
    "rs_dt.fit(X_train,y_train)\n",
    "print('best stcore = ' + str(rs_dt.best_score_))\n",
    "print('best params = ' + str(rs_dt.best_params_))"
   ]
  },
  {
   "cell_type": "markdown",
   "id": "1593e22a-97e3-44b7-a31c-2da75f7b6aed",
   "metadata": {},
   "source": [
    "#### GridSearch"
   ]
  },
  {
   "cell_type": "code",
   "execution_count": 161,
   "id": "198deeb1-3fa0-4046-b4d2-bc3018767854",
   "metadata": {},
   "outputs": [],
   "source": [
    "from sklearn.model_selection import GridSearchCV\n",
    "\n",
    "\n",
    "gs_dt = GridSearchCV(\n",
    "        estimator = dt_pipeline, \n",
    "        param_grid = dt_param_dis, \n",
    "        cv = 3,\n",
    "        scoring ='accuracy')"
   ]
  },
  {
   "cell_type": "code",
   "execution_count": 162,
   "id": "d6139e18-ad9e-47fd-98f1-108ae8b6e2e4",
   "metadata": {},
   "outputs": [
    {
     "name": "stdout",
     "output_type": "stream",
     "text": [
      "best stcore = 0.8397299218194741\n",
      "best params = {'model__criterion': 'entropy', 'model__max_depth': 5, 'model__max_features': None, 'model__min_samples_split': 15, 'model__splitter': 'random'}\n"
     ]
    }
   ],
   "source": [
    "gs_dt.fit(X_train,y_train)\n",
    "print('best stcore = ' + str(gs_dt.best_score_))\n",
    "print('best params = ' + str(gs_dt.best_params_))"
   ]
  },
  {
   "cell_type": "markdown",
   "id": "562b5a47-aabd-4950-a29e-7de8b1aa937a",
   "metadata": {},
   "source": [
    "### Tunning Random Forest"
   ]
  },
  {
   "cell_type": "markdown",
   "id": "77813379-11c2-4297-8e3a-5654405afcb3",
   "metadata": {},
   "source": [
    "### Randomized Parameter Tuning"
   ]
  },
  {
   "cell_type": "code",
   "execution_count": 175,
   "id": "49e0f2c6-e656-4b8e-ace2-ff422a1e84af",
   "metadata": {},
   "outputs": [],
   "source": [
    "rf_pipeline = Pipeline(steps = [\n",
    "        ('preprocessor', preprocessor),\n",
    "        ('model', RandomForestClassifier(random_state = 42))\n",
    "])\n",
    "\n",
    "rf_param_dis = {\n",
    "    'model__n_estimators': [int(x) for x in np.linspace(start = 50, stop = 300, num = 10)],\n",
    "    'model__max_features': ['auto', 'sqrt'],\n",
    "    'model__max_depth': [int(x) for x in np.linspace(60, 200, num = 11)]+[None],\n",
    "    'model__min_samples_split': [10, 15, 20],\n",
    "    'model__min_samples_leaf': [1, 2, 4],\n",
    "    'model__bootstrap': [True, False]}\n",
    "\n",
    "rs_rf = RandomizedSearchCV(\n",
    "    estimator = rf_pipeline, \n",
    "    param_distributions = rf_param_dis, \n",
    "    n_iter = 100, \n",
    "    cv = 3, \n",
    "    random_state = 42, \n",
    "    scoring ='accuracy')"
   ]
  },
  {
   "cell_type": "code",
   "execution_count": 176,
   "id": "be377f07-828a-4f1e-a3e3-68801c842e3c",
   "metadata": {},
   "outputs": [
    {
     "name": "stdout",
     "output_type": "stream",
     "text": [
      "best stcore = 0.8400852878464818\n",
      "best params = {'model__n_estimators': 77, 'model__min_samples_split': 20, 'model__min_samples_leaf': 4, 'model__max_features': 'auto', 'model__max_depth': 144, 'model__bootstrap': True}\n",
      "52.80803990364075\n"
     ]
    }
   ],
   "source": [
    "start = time()\n",
    "rs_rf.fit(X_train,y_train)\n",
    "print('best stcore = ' + str(rs_rf.best_score_))\n",
    "print('best params = ' + str(rs_rf.best_params_))\n",
    "train_time = time() - start\n",
    "print(train_time)"
   ]
  },
  {
   "cell_type": "code",
   "execution_count": 177,
   "id": "a80e4602-8799-4d9f-b3d0-d744376373d8",
   "metadata": {},
   "outputs": [],
   "source": [
    "rf_param_gs = {\n",
    "    'model__n_estimators': [int(x) for x in np.linspace(start = 60, stop = 80, num = 5)],\n",
    "    'model__max_features': ['auto', 'sqrt'],\n",
    "    'model__max_depth': [int(x) for x in np.linspace(100, 200, num = 10)]+[None],\n",
    "    'model__min_samples_split': [20, 25, 30],\n",
    "    'model__min_samples_leaf': [4, 6, 8],\n",
    "    'model__bootstrap': [True, False]}"
   ]
  },
  {
   "cell_type": "code",
   "execution_count": 178,
   "id": "df0357f5-7364-4a68-bf5c-cb80a42691b3",
   "metadata": {},
   "outputs": [],
   "source": [
    "gs_dt = GridSearchCV(\n",
    "        estimator = rf_pipeline, \n",
    "        param_grid = rf_param_gs, \n",
    "        cv = 3,\n",
    "        scoring ='accuracy')"
   ]
  },
  {
   "cell_type": "code",
   "execution_count": 179,
   "id": "7823a849-74be-4755-afe7-3c26b2452d3a",
   "metadata": {},
   "outputs": [
    {
     "name": "stdout",
     "output_type": "stream",
     "text": [
      "best stcore = 0.8422174840085287\n",
      "best params = {'model__bootstrap': True, 'model__max_depth': 100, 'model__max_features': 'auto', 'model__min_samples_leaf': 6, 'model__min_samples_split': 25, 'model__n_estimators': 60}\n",
      "391.5878019332886\n"
     ]
    }
   ],
   "source": [
    "start = time()\n",
    "gs_dt.fit(X_train,y_train)\n",
    "print('best stcore = ' + str(gs_dt.best_score_))\n",
    "print('best params = ' + str(gs_dt.best_params_))\n",
    "train_time = time() - start\n",
    "print(train_time)"
   ]
  },
  {
   "cell_type": "code",
   "execution_count": 181,
   "id": "dd56668f-2759-42a4-813b-e2175f352c6f",
   "metadata": {},
   "outputs": [],
   "source": [
    "rf_param_gs = {\n",
    "    'model__n_estimators': [int(x) for x in np.linspace(start = 50, stop = 200, num = 5)],\n",
    "    'model__max_features': ['auto', 'sqrt'],\n",
    "    'model__max_depth': [int(x) for x in np.linspace(100, 200, num = 10)]+[None],\n",
    "    'model__min_samples_split': [int(x) for x in np.linspace(6, 20, num = 1)]+[None],\n",
    "    'model__min_samples_leaf': [int(x) for x in np.linspace(20, 200, num = 10)]+[None],\n",
    "    'model__bootstrap': [True, False]\n",
    "}"
   ]
  },
  {
   "cell_type": "code",
   "execution_count": 182,
   "id": "38c82574-0bc7-45ca-ac36-de6fee035e56",
   "metadata": {},
   "outputs": [
    {
     "name": "stdout",
     "output_type": "stream",
     "text": [
      "best stcore = 0.8422174840085287\n",
      "best params = {'model__bootstrap': True, 'model__max_depth': 100, 'model__max_features': 'auto', 'model__min_samples_leaf': 6, 'model__min_samples_split': 25, 'model__n_estimators': 60}\n",
      "392.04707312583923\n"
     ]
    }
   ],
   "source": [
    "start = time()\n",
    "gs_dt.fit(X_train,y_train)\n",
    "print('best stcore = ' + str(gs_dt.best_score_))\n",
    "print('best params = ' + str(gs_dt.best_params_))\n",
    "train_time = time() - start\n",
    "print(train_time)"
   ]
  },
  {
   "cell_type": "markdown",
   "id": "29962314-0249-4f93-8323-6683aee774b5",
   "metadata": {},
   "source": [
    "#### Compare models against the Test Set"
   ]
  },
  {
   "cell_type": "code",
   "execution_count": null,
   "id": "05568097-12d2-4e6b-855b-df837590ef65",
   "metadata": {},
   "outputs": [],
   "source": [
    "nb_pred = nb.predict(X_test)\n",
    "ens_pred = ens.predict(X_test)\n",
    "dt_pred = dt_voting.predict(X_test)\n",
    "ens_stack_pred = ens_stack.predict(X_test)\n",
    "rf_pred = rf_est.predict(X_test)"
   ]
  },
  {
   "cell_type": "code",
   "execution_count": 198,
   "id": "9adc3c7e-647c-4dd4-9662-e8b1d6d20ded",
   "metadata": {},
   "outputs": [],
   "source": [
    "def test_model(classifiers):\n",
    "    for c in classifiers:\n",
    "        model = Pipeline(steps = [\n",
    "        ('preprocessor', preprocessor),\n",
    "        ('classifier', c)])\n",
    "        start = time()\n",
    "        model.fit(X_train, y_train)\n",
    "        y_preds = model.predict(X_test)\n",
    "        test_time = time() - start\n",
    "        print(c)\n",
    "        print(\"\\t Testing Time: %0.8f\" % test_time)\n",
    "        print(\"\\t AVG Accuracy Score: %0.5f\" % accuracy_score(y_test, y_preds))\n",
    "        print(\"\\t AVG F1 Score: %0.5f\" % f1_score(y_test, y_preds))\n",
    "        print()\n"
   ]
  },
  {
   "cell_type": "code",
   "execution_count": 191,
   "id": "b64750d1-f308-4860-82fb-2ada4ec821fa",
   "metadata": {},
   "outputs": [
    {
     "name": "stdout",
     "output_type": "stream",
     "text": [
      "LogisticRegression(random_state=42)\n",
      "\t Testing Time: 0.05517220\n",
      "\t AVG Accuracy Score: 0.84494\n",
      "\t AVG F1 Score: 0.18341\n"
     ]
    }
   ],
   "source": [
    "test_model(baseline_model)"
   ]
  },
  {
   "cell_type": "code",
   "execution_count": 196,
   "id": "8e571ec7-46b2-43d6-a409-e3d48a016171",
   "metadata": {},
   "outputs": [],
   "source": [
    "tunned_classifers =[\n",
    "    DecisionTreeClassifier(\n",
    "        criterion = 'entropy', \n",
    "        max_depth = 5, \n",
    "        max_features = None,\n",
    "        min_samples_split = 15, \n",
    "        splitter = 'random'\n",
    "    ),\n",
    "    RandomForestClassifier(\n",
    "        n_estimators = 60,\n",
    "        max_depth = 100,\n",
    "        max_features = 'auto',\n",
    "        bootstrap = True,\n",
    "        min_samples_split = 25,\n",
    "        min_samples_leaf = 6\n",
    "    )\n",
    "]\n",
    "        \n",
    "    "
   ]
  },
  {
   "cell_type": "code",
   "execution_count": 199,
   "id": "5eebc598-10f1-4236-b413-4fa39b3ca0fc",
   "metadata": {},
   "outputs": [
    {
     "name": "stdout",
     "output_type": "stream",
     "text": [
      "DecisionTreeClassifier(criterion='entropy', max_depth=5, min_samples_split=15,\n",
      "                       splitter='random')\n",
      "\t Testing Time: 0.01809406\n",
      "\t AVG Accuracy Score: 0.83665\n",
      "\t AVG F1 Score: 0.23346\n",
      "\n",
      "RandomForestClassifier(max_depth=100, max_features='auto', min_samples_leaf=6,\n",
      "                       min_samples_split=25, n_estimators=60)\n",
      "\t Testing Time: 0.08935714\n",
      "\t AVG Accuracy Score: 0.84577\n",
      "\t AVG F1 Score: 0.22500\n",
      "\n"
     ]
    }
   ],
   "source": [
    "test_model(tunned_classifers)"
   ]
  }
 ],
 "metadata": {
  "kernelspec": {
   "display_name": "Python 3 (ipykernel)",
   "language": "python",
   "name": "python3"
  },
  "language_info": {
   "codemirror_mode": {
    "name": "ipython",
    "version": 3
   },
   "file_extension": ".py",
   "mimetype": "text/x-python",
   "name": "python",
   "nbconvert_exporter": "python",
   "pygments_lexer": "ipython3",
   "version": "3.9.6"
  }
 },
 "nbformat": 4,
 "nbformat_minor": 5
}
