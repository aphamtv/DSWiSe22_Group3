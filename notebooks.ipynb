{
 "cells": [
  {
   "cell_type": "markdown",
   "id": "053ba07e-f66a-471f-a253-a3b6898aa91a",
   "metadata": {
    "canvas": {
     "comments": [],
     "componentType": "CodeCell",
     "copiedOriginId": null,
     "diskcache": false,
     "headerColor": "inherit",
     "id": "2a20b8f0-712f-4414-a3e9-dd6195487c47",
     "isComponent": false,
     "name": "",
     "parents": []
    }
   },
   "source": [
    "# COMPAS Racial Bias Analysis"
   ]
  },
  {
   "cell_type": "markdown",
   "id": "208d660d-a098-42ff-8053-c9afb8b215d8",
   "metadata": {
    "canvas": {
     "comments": [],
     "componentType": "CodeCell",
     "copiedOriginId": null,
     "diskcache": false,
     "headerColor": "inherit",
     "id": "fb16a85a-c552-4a40-a1ff-4af0e53744f2",
     "isComponent": false,
     "name": "",
     "parents": []
    }
   },
   "source": [
    "## Import Packages"
   ]
  },
  {
   "cell_type": "code",
   "execution_count": 1,
   "id": "4bbceee6-d419-477a-b886-7b0631d7d97a",
   "metadata": {
    "canvas": {
     "comments": [],
     "componentType": "CodeCell",
     "copiedOriginId": null,
     "diskcache": false,
     "headerColor": "none",
     "id": "b5578e8a-e6b4-4f6b-a08f-54f61b04c5e0",
     "isComponent": true,
     "name": "import libraries",
     "parents": []
    },
    "tags": []
   },
   "outputs": [],
   "source": [
    "import numpy as np\n",
    "import matplotlib as matplt\n",
    "import matplotlib.pyplot as plt\n",
    "import pandas as pd\n",
    "import seaborn as sns\n",
    "from scipy.stats import norm\n",
    "from scipy import stats\n",
    "from sklearn import (\n",
    "    linear_model, metrics, pipeline, preprocessing, model_selection\n",
    ")\n",
    "from sklearn.ensemble import RandomForestRegressor\n",
    "from sklearn.tree import DecisionTreeRegressor\n",
    "import time\n",
    "# from sklearn.model_selection import cross_val_score\n",
    "# from sklearn.model_selection import RepeatedKFold\n",
    "# from sklearn.linear_model import Lasso\n",
    "import warnings\n",
    "warnings.filterwarnings('ignore')"
   ]
  },
  {
   "cell_type": "markdown",
   "id": "9ccaa1ae-5b14-4614-b52c-ac94f249e895",
   "metadata": {
    "canvas": {
     "comments": [],
     "componentType": "CodeCell",
     "copiedOriginId": null,
     "diskcache": false,
     "headerColor": "inherit",
     "id": "43883e0f-0bfa-458c-9339-89639e1d5a86",
     "isComponent": false,
     "name": "",
     "parents": []
    }
   },
   "source": [
    "## Prepare Data"
   ]
  },
  {
   "cell_type": "code",
   "execution_count": 42,
   "id": "7002905e-0325-4db0-874b-b1f7fe9e4636",
   "metadata": {
    "canvas": {
     "comments": [],
     "componentType": "CodeCell",
     "copiedOriginId": null,
     "diskcache": false,
     "headerColor": "none",
     "id": "792f693b-df84-49b2-a07d-ee4bfe557125",
     "isComponent": true,
     "name": "load raw data",
     "parents": [
      {
       "id": "b5578e8a-e6b4-4f6b-a08f-54f61b04c5e0",
       "name": "import libraries"
      }
     ]
    },
    "tags": []
   },
   "outputs": [
    {
     "name": "stdout",
     "output_type": "stream",
     "text": [
      "(7214, 53)\n"
     ]
    },
    {
     "data": {
      "text/plain": [
       "Index(['id', 'name', 'first', 'last', 'compas_screening_date', 'sex', 'dob',\n",
       "       'age', 'age_cat', 'race', 'juv_fel_count', 'decile_score',\n",
       "       'juv_misd_count', 'juv_other_count', 'priors_count',\n",
       "       'days_b_screening_arrest', 'c_jail_in', 'c_jail_out', 'c_case_number',\n",
       "       'c_offense_date', 'c_arrest_date', 'c_days_from_compas',\n",
       "       'c_charge_degree', 'c_charge_desc', 'is_recid', 'r_case_number',\n",
       "       'r_charge_degree', 'r_days_from_arrest', 'r_offense_date',\n",
       "       'r_charge_desc', 'r_jail_in', 'r_jail_out', 'violent_recid',\n",
       "       'is_violent_recid', 'vr_case_number', 'vr_charge_degree',\n",
       "       'vr_offense_date', 'vr_charge_desc', 'type_of_assessment',\n",
       "       'decile_score.1', 'score_text', 'screening_date',\n",
       "       'v_type_of_assessment', 'v_decile_score', 'v_score_text',\n",
       "       'v_screening_date', 'in_custody', 'out_custody', 'priors_count.1',\n",
       "       'start', 'end', 'event', 'two_year_recid'],\n",
       "      dtype='object')"
      ]
     },
     "execution_count": 42,
     "metadata": {},
     "output_type": "execute_result"
    }
   ],
   "source": [
    "raw_data = pd.read_csv(\"./data/compas-scores-two-years.csv\")\n",
    "print(raw_data.shape)\n",
    "raw_data.columns\n",
    "# raw_data.head()"
   ]
  },
  {
   "cell_type": "markdown",
   "id": "1a4bd081-ae72-4509-a2a0-3facb5ed4f92",
   "metadata": {
    "canvas": {
     "comments": [],
     "componentType": "CodeCell",
     "copiedOriginId": null,
     "diskcache": false,
     "headerColor": "inherit",
     "id": "17fc935f-7c09-4225-aa22-a6a9a18d4f12",
     "isComponent": false,
     "name": "",
     "parents": []
    }
   },
   "source": [
    "### Data Description\n",
    "* age: Age of the defendant. It is numeric.\n",
    "* age_cat: Category of Age. It can be < 25, 25-45, >45.\n",
    "* sex: Sex of the defendant. It is either 'Male' or 'Female'\n",
    "* race: Race of the defendant. It can be 'African-American', 'Caucasian', 'Hispanic', 'Asian', or 'Other'.\n",
    "* juv_fel_count: The number of prior juvenile felonie of the defendant.\n",
    "* juv_misd_count: The number of prior juvenile misdemeanors of the defendant.\n",
    "* c_charge_degree: Degree of the crime. It is either M (Misdemeanor), F (Felony), or O (not causing jail time).\n",
    "* priors_count: Count of prior crimes committed by the defendant. It is numeric.\n",
    "* days_b_screening_arrest: Days between the arrest and COMPAS screening.\n",
    "* decile_score: The COMPAS score predicted by the system. It is between 0-10.\n",
    "* score_text: Category of decile score. It can be Low (1-4), Medium (5-7), and High (8-10).\n",
    "* is_recid: A variable to indicate if recidivism was done by the defendant. It can be 0, 1, -1.\n",
    "* two_year_recid: A variable to indicate if recidivism was done by the defendant within two years.\n",
    "* c_jail_in: Time when the defendant was jailed.\n",
    "* c_jail_out: Time when the defendant was released from the jail."
   ]
  },
  {
   "cell_type": "code",
   "execution_count": 5,
   "id": "db786a7a-4a63-4be7-b082-0708269ac1e8",
   "metadata": {
    "canvas": {
     "comments": [],
     "componentType": "CodeCell",
     "copiedOriginId": null,
     "diskcache": false,
     "headerColor": "inherit",
     "id": "80fa0385-b919-4e89-b4bf-b8e208821382",
     "isComponent": false,
     "name": "",
     "parents": []
    }
   },
   "outputs": [],
   "source": [
    "# raw_data.isna().sum()"
   ]
  },
  {
   "cell_type": "markdown",
   "id": "d0bb9109-2320-4574-b70c-64769eb6f00a",
   "metadata": {
    "canvas": {
     "comments": [],
     "componentType": "CodeCell",
     "copiedOriginId": null,
     "diskcache": false,
     "headerColor": "inherit",
     "id": "7a552585-2144-4449-bd6b-7980416db328",
     "isComponent": false,
     "name": "",
     "parents": []
    }
   },
   "source": [
    "### Data Cleaning\n",
    "However not all of the rows are useable for the first round of analysis.\n",
    "\n",
    "There are a number of reasons remove rows because of missing data:\n",
    "* If the charge date of a defendants Compas scored crime was not within 30 days from when the person was arrested, we assume that because of data quality reasons, that we do not have the right offense.\n",
    "* We coded the recidivist flag -- `is_recid` -- to be -1 if we could not find a compas case at all.\n",
    "* In a similar vein, ordinary traffic offenses -- those with a `c_charge_degree` of 'O' -- will not result in Jail time are removed (only two of them).\n",
    "* We filtered the underlying data from Broward county to include only those rows representing people who had either recidivated in two years, or had at least two years outside of a correctional facility."
   ]
  },
  {
   "cell_type": "code",
   "execution_count": 43,
   "id": "d9358220-38cc-4c58-a960-419d3e5acf8e",
   "metadata": {
    "canvas": {
     "comments": [],
     "componentType": "CodeCell",
     "copiedOriginId": null,
     "diskcache": false,
     "headerColor": "none",
     "id": "d73da040-1a7f-4ebf-9b64-701d88696c90",
     "isComponent": true,
     "name": "filter data",
     "parents": [
      {
       "id": "792f693b-df84-49b2-a07d-ee4bfe557125",
       "name": "load raw data"
      }
     ]
    },
    "tags": []
   },
   "outputs": [
    {
     "data": {
      "text/plain": [
       "6172"
      ]
     },
     "execution_count": 43,
     "metadata": {},
     "output_type": "execute_result"
    }
   ],
   "source": [
    "df = raw_data.loc[\n",
    "    (raw_data['days_b_screening_arrest'] <= 30) &\n",
    "    (raw_data['days_b_screening_arrest'] >= -30) &\n",
    "    (raw_data['is_recid'] != -1) &\n",
    "    (raw_data['c_charge_degree'] != \"O\") &\n",
    "    (raw_data['score_text'] != \"N/A\")\n",
    "]\n",
    "len(df)"
   ]
  },
  {
   "cell_type": "markdown",
   "id": "8e956af3-f39c-43fb-89cf-a9c2102852ec",
   "metadata": {
    "canvas": {
     "comments": [],
     "componentType": "CodeCell",
     "copiedOriginId": null,
     "diskcache": false,
     "headerColor": "inherit",
     "id": "d670572b-3f4f-4fdd-a07b-27e7c2dfeee6",
     "isComponent": false,
     "name": "",
     "parents": []
    }
   },
   "source": [
    "## COMPAS Score and Recidivism\n"
   ]
  },
  {
   "cell_type": "markdown",
   "id": "32d984c5-d178-457a-9e17-e8da9da334af",
   "metadata": {
    "canvas": {
     "comments": [],
     "componentType": "CodeCell",
     "copiedOriginId": null,
     "diskcache": false,
     "headerColor": "inherit",
     "id": "c043e162-aefd-418d-a89f-18a65fd69e9d",
     "isComponent": false,
     "name": "",
     "parents": []
    }
   },
   "source": [
    "We visualize the data to see how scores and race correlate to each other"
   ]
  },
  {
   "cell_type": "markdown",
   "id": "c153994d-5197-4994-838b-47d766d4e7ad",
   "metadata": {
    "canvas": {
     "comments": [],
     "componentType": "CodeCell",
     "copiedOriginId": null,
     "diskcache": false,
     "headerColor": "inherit",
     "id": "96398f47-f113-407d-8db0-e36819c59924",
     "isComponent": false,
     "name": "",
     "parents": []
    }
   },
   "source": [
    "### Exploratory Analysis"
   ]
  },
  {
   "cell_type": "markdown",
   "id": "878596a2-cf26-4cb2-87cf-0cddcb4bf973",
   "metadata": {
    "canvas": {
     "comments": [],
     "componentType": "CodeCell",
     "copiedOriginId": null,
     "diskcache": false,
     "headerColor": "inherit",
     "id": "54057456-4850-4928-be1a-47eb47161248",
     "isComponent": false,
     "name": "",
     "parents": []
    }
   },
   "source": [
    "#### Score and Race"
   ]
  },
  {
   "cell_type": "code",
   "execution_count": 44,
   "id": "a7f428bb-c422-4f84-958a-c8d41a0c4d1d",
   "metadata": {
    "canvas": {
     "comments": [],
     "componentType": "CodeCell",
     "copiedOriginId": null,
     "diskcache": false,
     "headerColor": "inherit",
     "id": "47339072-9d9b-4d37-b3fd-ffb405463cf3",
     "isComponent": true,
     "name": "analysis",
     "parents": [
      {
       "id": "d73da040-1a7f-4ebf-9b64-701d88696c90",
       "name": "filter data"
      }
     ]
    },
    "tags": []
   },
   "outputs": [
    {
     "data": {
      "text/plain": [
       "African-American    3175\n",
       "Caucasian           2103\n",
       "Hispanic             509\n",
       "Other                343\n",
       "Asian                 31\n",
       "Native American       11\n",
       "Name: race, dtype: int64"
      ]
     },
     "execution_count": 44,
     "metadata": {},
     "output_type": "execute_result"
    }
   ],
   "source": [
    "df['race'].value_counts()"
   ]
  },
  {
   "cell_type": "code",
   "execution_count": 45,
   "id": "146791c6-ac71-48a1-be34-03325196fe9e",
   "metadata": {
    "canvas": {
     "comments": [],
     "componentType": "CodeCell",
     "copiedOriginId": null,
     "diskcache": false,
     "headerColor": "inherit",
     "id": "44ae4332-137e-4a04-9934-6983fe82b9cd",
     "isComponent": false,
     "name": "",
     "parents": []
    },
    "tags": []
   },
   "outputs": [
    {
     "data": {
      "text/plain": [
       "<AxesSubplot:title={'center':'Score Text by Race'}, xlabel='Race', ylabel='Score Text'>"
      ]
     },
     "execution_count": 45,
     "metadata": {},
     "output_type": "execute_result"
    },
    {
     "data": {
      "image/png": "[encoded data removed]",
      "text/plain": [
       "<Figure size 800x400 with 1 Axes>"
      ]
     },
     "metadata": {},
     "output_type": "display_data"
    }
   ],
   "source": [
    "score_text_by_race = df.groupby(['race','score_text'], sort = True)['id'].size()\n",
    "score_text_by_race.unstack().plot(\n",
    "    kind = \"barh\", \n",
    "    title = \"Score Text by Race\",\n",
    "    ylabel = \"Score Text\",\n",
    "    xlabel = \"Race\",\n",
    "    figsize = (8,4),\n",
    "    stacked = True\n",
    ")"
   ]
  },
  {
   "cell_type": "markdown",
   "id": "2b2c7c68-bdb2-4f0e-a088-90c75cdd24a1",
   "metadata": {
    "canvas": {
     "comments": [],
     "componentType": "CodeCell",
     "copiedOriginId": null,
     "diskcache": false,
     "headerColor": "inherit",
     "id": "0a924d16-a7b9-44a9-a251-a282c67233ec",
     "isComponent": false,
     "name": "",
     "parents": []
    }
   },
   "source": [
    "African American group has the highest number of High Scores individuals. However, they are also the biggest group, so we need to consider the proportions of score text in each Race group. "
   ]
  },
  {
   "cell_type": "code",
   "execution_count": 46,
   "id": "d62d9135-c011-4afa-9ba7-7d9ec5b891f9",
   "metadata": {
    "canvas": {
     "comments": [],
     "componentType": "CodeCell",
     "copiedOriginId": null,
     "diskcache": false,
     "headerColor": "inherit",
     "id": "501f6cc2-f064-442c-9e46-7955bce81284",
     "isComponent": false,
     "name": "",
     "parents": []
    }
   },
   "outputs": [
    {
     "data": {
      "text/html": [
       "<div>\n",
       "<style scoped>\n",
       "    .dataframe tbody tr th:only-of-type {\n",
       "        vertical-align: middle;\n",
       "    }\n",
       "\n",
       "    .dataframe tbody tr th {\n",
       "        vertical-align: top;\n",
       "    }\n",
       "\n",
       "    .dataframe thead th {\n",
       "        text-align: right;\n",
       "    }\n",
       "</style>\n",
       "<table border=\"1\" class=\"dataframe\">\n",
       "  <thead>\n",
       "    <tr style=\"text-align: right;\">\n",
       "      <th></th>\n",
       "      <th></th>\n",
       "      <th>score_text</th>\n",
       "      <th>prop</th>\n",
       "    </tr>\n",
       "    <tr>\n",
       "      <th>race</th>\n",
       "      <th>score_text</th>\n",
       "      <th></th>\n",
       "      <th></th>\n",
       "    </tr>\n",
       "  </thead>\n",
       "  <tbody>\n",
       "    <tr>\n",
       "      <th rowspan=\"3\" valign=\"top\">African-American</th>\n",
       "      <th>High</th>\n",
       "      <td>845</td>\n",
       "      <td>26.614173</td>\n",
       "    </tr>\n",
       "    <tr>\n",
       "      <th>Low</th>\n",
       "      <td>1346</td>\n",
       "      <td>42.393701</td>\n",
       "    </tr>\n",
       "    <tr>\n",
       "      <th>Medium</th>\n",
       "      <td>984</td>\n",
       "      <td>30.992126</td>\n",
       "    </tr>\n",
       "    <tr>\n",
       "      <th rowspan=\"3\" valign=\"top\">Asian</th>\n",
       "      <th>High</th>\n",
       "      <td>3</td>\n",
       "      <td>9.677419</td>\n",
       "    </tr>\n",
       "    <tr>\n",
       "      <th>Low</th>\n",
       "      <td>24</td>\n",
       "      <td>77.419355</td>\n",
       "    </tr>\n",
       "    <tr>\n",
       "      <th>Medium</th>\n",
       "      <td>4</td>\n",
       "      <td>12.903226</td>\n",
       "    </tr>\n",
       "    <tr>\n",
       "      <th rowspan=\"3\" valign=\"top\">Caucasian</th>\n",
       "      <th>High</th>\n",
       "      <td>223</td>\n",
       "      <td>10.603899</td>\n",
       "    </tr>\n",
       "    <tr>\n",
       "      <th>Low</th>\n",
       "      <td>1407</td>\n",
       "      <td>66.904422</td>\n",
       "    </tr>\n",
       "    <tr>\n",
       "      <th>Medium</th>\n",
       "      <td>473</td>\n",
       "      <td>22.491679</td>\n",
       "    </tr>\n",
       "    <tr>\n",
       "      <th rowspan=\"3\" valign=\"top\">Hispanic</th>\n",
       "      <th>High</th>\n",
       "      <td>47</td>\n",
       "      <td>9.233792</td>\n",
       "    </tr>\n",
       "    <tr>\n",
       "      <th>Low</th>\n",
       "      <td>368</td>\n",
       "      <td>72.298625</td>\n",
       "    </tr>\n",
       "    <tr>\n",
       "      <th>Medium</th>\n",
       "      <td>94</td>\n",
       "      <td>18.467583</td>\n",
       "    </tr>\n",
       "    <tr>\n",
       "      <th rowspan=\"3\" valign=\"top\">Native American</th>\n",
       "      <th>High</th>\n",
       "      <td>4</td>\n",
       "      <td>36.363636</td>\n",
       "    </tr>\n",
       "    <tr>\n",
       "      <th>Low</th>\n",
       "      <td>3</td>\n",
       "      <td>27.272727</td>\n",
       "    </tr>\n",
       "    <tr>\n",
       "      <th>Medium</th>\n",
       "      <td>4</td>\n",
       "      <td>36.363636</td>\n",
       "    </tr>\n",
       "    <tr>\n",
       "      <th rowspan=\"3\" valign=\"top\">Other</th>\n",
       "      <th>High</th>\n",
       "      <td>22</td>\n",
       "      <td>6.413994</td>\n",
       "    </tr>\n",
       "    <tr>\n",
       "      <th>Low</th>\n",
       "      <td>273</td>\n",
       "      <td>79.591837</td>\n",
       "    </tr>\n",
       "    <tr>\n",
       "      <th>Medium</th>\n",
       "      <td>48</td>\n",
       "      <td>13.994169</td>\n",
       "    </tr>\n",
       "  </tbody>\n",
       "</table>\n",
       "</div>"
      ],
      "text/plain": [
       "                             score_text       prop\n",
       "race             score_text                       \n",
       "African-American High               845  26.614173\n",
       "                 Low               1346  42.393701\n",
       "                 Medium             984  30.992126\n",
       "Asian            High                 3   9.677419\n",
       "                 Low                 24  77.419355\n",
       "                 Medium               4  12.903226\n",
       "Caucasian        High               223  10.603899\n",
       "                 Low               1407  66.904422\n",
       "                 Medium             473  22.491679\n",
       "Hispanic         High                47   9.233792\n",
       "                 Low                368  72.298625\n",
       "                 Medium              94  18.467583\n",
       "Native American  High                 4  36.363636\n",
       "                 Low                  3  27.272727\n",
       "                 Medium               4  36.363636\n",
       "Other            High                22   6.413994\n",
       "                 Low                273  79.591837\n",
       "                 Medium              48  13.994169"
      ]
     },
     "execution_count": 46,
     "metadata": {},
     "output_type": "execute_result"
    }
   ],
   "source": [
    "#calculate the total and proportions of score texts in each race group\n",
    "score_text_by_race_prop= df.groupby(['race', 'score_text']).agg({'score_text': 'count'})\n",
    "score_text_by_race_prop['prop'] = score_text_by_race_prop.groupby(level = 0).apply(lambda x:100 * x / float(x.sum()))\n",
    "score_text_by_race_prop"
   ]
  },
  {
   "cell_type": "markdown",
   "id": "1c929cb9-32eb-422c-bf1a-b85edf5e7788",
   "metadata": {
    "canvas": {
     "comments": [],
     "componentType": "CodeCell",
     "copiedOriginId": null,
     "diskcache": false,
     "headerColor": "inherit",
     "id": "1bed0e95-f9bf-484d-8fb2-d7902d37399b",
     "isComponent": false,
     "name": "",
     "parents": []
    }
   },
   "source": [
    "26,6% of African-American defendants are classified with High Scores compared to 10.6% of Caucasian group"
   ]
  },
  {
   "cell_type": "markdown",
   "id": "d0447e6f-25d2-4d48-959e-295ed2d10e86",
   "metadata": {
    "canvas": {
     "comments": [],
     "componentType": "CodeCell",
     "copiedOriginId": null,
     "diskcache": false,
     "headerColor": "inherit",
     "id": "18826843-325f-4da8-9c8d-461a2d9d926e",
     "isComponent": false,
     "name": "",
     "parents": []
    }
   },
   "source": [
    "#### Distribution of decile scores\n",
    "There is a clear downtrend in Decile Score for Caucasian and Hispanic; however, no downtrend for African-American."
   ]
  },
  {
   "cell_type": "code",
   "execution_count": 48,
   "id": "d4639ac3-425d-4e7c-a8ed-7f0dd03b6a22",
   "metadata": {
    "canvas": {
     "comments": [],
     "componentType": "CodeCell",
     "copiedOriginId": null,
     "diskcache": false,
     "headerColor": "inherit",
     "id": "afcd672e-5a94-4e96-b73a-8e37aa021441",
     "isComponent": false,
     "name": "",
     "parents": []
    }
   },
   "outputs": [
    {
     "data": {
      "text/plain": [
       "<AxesSubplot:title={'center':'Decile Score Histogram by Race (%)'}, xlabel='Race', ylabel='%'>"
      ]
     },
     "execution_count": 48,
     "metadata": {},
     "output_type": "execute_result"
    },
    {
     "data": {
      "image/png": "[encoded data removed]",
      "text/plain": [
       "<Figure size 1400x500 with 2 Axes>"
      ]
     },
     "metadata": {},
     "output_type": "display_data"
    }
   ],
   "source": [
    "fig, axs = plt.subplots(1,2, figsize=(14, 5))\n",
    "# Decile Score by race\n",
    "df.groupby('decile_score')['race'].value_counts(normalize = False).unstack().plot(\n",
    "    kind = \"bar\",\n",
    "    title = \"Decile Score Histogram by Race\",\n",
    "    ylabel = \"Count\",\n",
    "    xlabel = \"Race\",\n",
    "    ax=axs[0])\n",
    "\n",
    "\n",
    "df.groupby('decile_score')['race'].value_counts(normalize = True).unstack().plot(\n",
    "    kind = \"bar\",\n",
    "    title = \"Decile Score Histogram by Race (%)\",\n",
    "    ylabel = \"%\",\n",
    "    xlabel = \"Race\",\n",
    "    ax=axs[1])"
   ]
  },
  {
   "cell_type": "code",
   "execution_count": 39,
   "id": "54b73c7c-b3b6-4497-a2de-cb4f68466603",
   "metadata": {
    "canvas": {
     "comments": [],
     "componentType": "CodeCell",
     "copiedOriginId": null,
     "diskcache": false,
     "headerColor": "inherit",
     "id": "659786bb-d792-4b54-a1eb-e4b9861525d2",
     "isComponent": false,
     "name": "",
     "parents": []
    }
   },
   "outputs": [],
   "source": [
    "# sns.countplot(\n",
    "#     data = df,\n",
    "#     x = 'decile_score',\n",
    "#     hue = 'race',\n",
    "#     palette = [\"#F97306\",\"#0343DF\",\"#00FF00\"]\n",
    "# )\n",
    "# plt.title('Distribution of Decile Scores by Race')\n",
    "# plt.xlabel('Decile Score')\n",
    "# plt.ylabel('Count')"
   ]
  },
  {
   "cell_type": "code",
   "execution_count": 49,
   "id": "af72a9f5-ae70-4efa-9749-ce42f7984142",
   "metadata": {
    "canvas": {
     "comments": [],
     "componentType": "CodeCell",
     "copiedOriginId": null,
     "diskcache": false,
     "headerColor": "inherit",
     "id": "4d172e7a-4b1d-42a8-8354-c7175164e877",
     "isComponent": false,
     "name": "",
     "parents": []
    }
   },
   "outputs": [
    {
     "data": {
      "text/html": [
       "<div>\n",
       "<style scoped>\n",
       "    .dataframe tbody tr th:only-of-type {\n",
       "        vertical-align: middle;\n",
       "    }\n",
       "\n",
       "    .dataframe tbody tr th {\n",
       "        vertical-align: top;\n",
       "    }\n",
       "\n",
       "    .dataframe thead th {\n",
       "        text-align: right;\n",
       "    }\n",
       "</style>\n",
       "<table border=\"1\" class=\"dataframe\">\n",
       "  <thead>\n",
       "    <tr style=\"text-align: right;\">\n",
       "      <th></th>\n",
       "      <th>count</th>\n",
       "      <th>mean</th>\n",
       "      <th>std</th>\n",
       "      <th>min</th>\n",
       "      <th>25%</th>\n",
       "      <th>50%</th>\n",
       "      <th>75%</th>\n",
       "      <th>max</th>\n",
       "    </tr>\n",
       "    <tr>\n",
       "      <th>race</th>\n",
       "      <th></th>\n",
       "      <th></th>\n",
       "      <th></th>\n",
       "      <th></th>\n",
       "      <th></th>\n",
       "      <th></th>\n",
       "      <th></th>\n",
       "      <th></th>\n",
       "    </tr>\n",
       "  </thead>\n",
       "  <tbody>\n",
       "    <tr>\n",
       "      <th>African-American</th>\n",
       "      <td>3175.0</td>\n",
       "      <td>5.276850</td>\n",
       "      <td>2.828073</td>\n",
       "      <td>1.0</td>\n",
       "      <td>3.0</td>\n",
       "      <td>5.0</td>\n",
       "      <td>8.0</td>\n",
       "      <td>10.0</td>\n",
       "    </tr>\n",
       "    <tr>\n",
       "      <th>Asian</th>\n",
       "      <td>31.0</td>\n",
       "      <td>2.838710</td>\n",
       "      <td>2.583238</td>\n",
       "      <td>1.0</td>\n",
       "      <td>1.0</td>\n",
       "      <td>2.0</td>\n",
       "      <td>3.0</td>\n",
       "      <td>10.0</td>\n",
       "    </tr>\n",
       "    <tr>\n",
       "      <th>Caucasian</th>\n",
       "      <td>2103.0</td>\n",
       "      <td>3.635283</td>\n",
       "      <td>2.562748</td>\n",
       "      <td>1.0</td>\n",
       "      <td>1.0</td>\n",
       "      <td>3.0</td>\n",
       "      <td>5.0</td>\n",
       "      <td>10.0</td>\n",
       "    </tr>\n",
       "    <tr>\n",
       "      <th>Hispanic</th>\n",
       "      <td>509.0</td>\n",
       "      <td>3.383104</td>\n",
       "      <td>2.544987</td>\n",
       "      <td>1.0</td>\n",
       "      <td>1.0</td>\n",
       "      <td>3.0</td>\n",
       "      <td>5.0</td>\n",
       "      <td>10.0</td>\n",
       "    </tr>\n",
       "    <tr>\n",
       "      <th>Native American</th>\n",
       "      <td>11.0</td>\n",
       "      <td>6.454545</td>\n",
       "      <td>3.012097</td>\n",
       "      <td>2.0</td>\n",
       "      <td>4.5</td>\n",
       "      <td>7.0</td>\n",
       "      <td>9.0</td>\n",
       "      <td>10.0</td>\n",
       "    </tr>\n",
       "    <tr>\n",
       "      <th>Other</th>\n",
       "      <td>343.0</td>\n",
       "      <td>2.889213</td>\n",
       "      <td>2.345700</td>\n",
       "      <td>1.0</td>\n",
       "      <td>1.0</td>\n",
       "      <td>2.0</td>\n",
       "      <td>4.0</td>\n",
       "      <td>10.0</td>\n",
       "    </tr>\n",
       "  </tbody>\n",
       "</table>\n",
       "</div>"
      ],
      "text/plain": [
       "                   count      mean       std  min  25%  50%  75%   max\n",
       "race                                                                  \n",
       "African-American  3175.0  5.276850  2.828073  1.0  3.0  5.0  8.0  10.0\n",
       "Asian               31.0  2.838710  2.583238  1.0  1.0  2.0  3.0  10.0\n",
       "Caucasian         2103.0  3.635283  2.562748  1.0  1.0  3.0  5.0  10.0\n",
       "Hispanic           509.0  3.383104  2.544987  1.0  1.0  3.0  5.0  10.0\n",
       "Native American     11.0  6.454545  3.012097  2.0  4.5  7.0  9.0  10.0\n",
       "Other              343.0  2.889213  2.345700  1.0  1.0  2.0  4.0  10.0"
      ]
     },
     "execution_count": 49,
     "metadata": {},
     "output_type": "execute_result"
    }
   ],
   "source": [
    "df.groupby('race')['decile_score'].describe()"
   ]
  },
  {
   "cell_type": "markdown",
   "id": "158e5d23-7643-4570-b69c-59ad1bbbcb8c",
   "metadata": {
    "canvas": {
     "comments": [],
     "componentType": "CodeCell",
     "copiedOriginId": null,
     "diskcache": false,
     "headerColor": "inherit",
     "id": "05a2a43b-354b-4202-b009-3c646492b919",
     "isComponent": false,
     "name": "",
     "parents": []
    }
   },
   "source": [
    "### COMPAS Score Prediction"
   ]
  },
  {
   "cell_type": "markdown",
   "id": "3fdb8eaf-7fab-4da0-8897-01f28b116de3",
   "metadata": {
    "canvas": {
     "comments": [],
     "componentType": "CodeCell",
     "copiedOriginId": null,
     "diskcache": false,
     "headerColor": "inherit",
     "id": "c02f36e7-b6b7-4f34-91ca-2432b5d67bf1",
     "isComponent": false,
     "name": "",
     "parents": []
    }
   },
   "source": [
    "#### Handle simple bias and unbalance. \n",
    "we can clearly see that the sample is unbalanced: Asian and Native Amerian samples are too small -> inapprociate to analyze and make predictions for them -> we'll add them to the Other group. This also makes the sample data more balanced."
   ]
  },
  {
   "cell_type": "code",
   "execution_count": 54,
   "id": "649b891b-25bd-4e7e-b616-0a2b565151fd",
   "metadata": {
    "canvas": {
     "comments": [],
     "componentType": "CodeCell",
     "copiedOriginId": null,
     "diskcache": false,
     "headerColor": "inherit",
     "id": "105e0e98-5ec6-4c58-b118-3df6fbd72894",
     "isComponent": false,
     "name": "",
     "parents": []
    }
   },
   "outputs": [
    {
     "data": {
      "text/plain": [
       "African-American    3175\n",
       "Caucasian           2103\n",
       "Hispanic             509\n",
       "Other                385\n",
       "Name: race, dtype: int64"
      ]
     },
     "execution_count": 54,
     "metadata": {},
     "output_type": "execute_result"
    }
   ],
   "source": [
    "df.loc[df['race'].isin(['Native American', 'Asian']), 'race'] = \"Other\"\n",
    "df['race'].value_counts()"
   ]
  },
  {
   "cell_type": "code",
   "execution_count": 51,
   "id": "ea11e72d-c361-47f8-a89b-70945fd3a537",
   "metadata": {
    "canvas": {
     "comments": [],
     "componentType": "CodeCell",
     "copiedOriginId": null,
     "diskcache": false,
     "headerColor": "inherit",
     "id": "ab5579d6-8043-4781-9a33-ea4faf630acc",
     "isComponent": false,
     "name": "",
     "parents": []
    }
   },
   "outputs": [
    {
     "data": {
      "text/html": [
       "<div>\n",
       "<style scoped>\n",
       "    .dataframe tbody tr th:only-of-type {\n",
       "        vertical-align: middle;\n",
       "    }\n",
       "\n",
       "    .dataframe tbody tr th {\n",
       "        vertical-align: top;\n",
       "    }\n",
       "\n",
       "    .dataframe thead th {\n",
       "        text-align: right;\n",
       "    }\n",
       "</style>\n",
       "<table border=\"1\" class=\"dataframe\">\n",
       "  <thead>\n",
       "    <tr style=\"text-align: right;\">\n",
       "      <th></th>\n",
       "      <th>count</th>\n",
       "      <th>mean</th>\n",
       "      <th>std</th>\n",
       "      <th>min</th>\n",
       "      <th>25%</th>\n",
       "      <th>50%</th>\n",
       "      <th>75%</th>\n",
       "      <th>max</th>\n",
       "    </tr>\n",
       "    <tr>\n",
       "      <th>race</th>\n",
       "      <th></th>\n",
       "      <th></th>\n",
       "      <th></th>\n",
       "      <th></th>\n",
       "      <th></th>\n",
       "      <th></th>\n",
       "      <th></th>\n",
       "      <th></th>\n",
       "    </tr>\n",
       "  </thead>\n",
       "  <tbody>\n",
       "    <tr>\n",
       "      <th>African-American</th>\n",
       "      <td>3175.0</td>\n",
       "      <td>5.276850</td>\n",
       "      <td>2.828073</td>\n",
       "      <td>1.0</td>\n",
       "      <td>3.0</td>\n",
       "      <td>5.0</td>\n",
       "      <td>8.0</td>\n",
       "      <td>10.0</td>\n",
       "    </tr>\n",
       "    <tr>\n",
       "      <th>Caucasian</th>\n",
       "      <td>2103.0</td>\n",
       "      <td>3.635283</td>\n",
       "      <td>2.562748</td>\n",
       "      <td>1.0</td>\n",
       "      <td>1.0</td>\n",
       "      <td>3.0</td>\n",
       "      <td>5.0</td>\n",
       "      <td>10.0</td>\n",
       "    </tr>\n",
       "    <tr>\n",
       "      <th>Hispanic</th>\n",
       "      <td>509.0</td>\n",
       "      <td>3.383104</td>\n",
       "      <td>2.544987</td>\n",
       "      <td>1.0</td>\n",
       "      <td>1.0</td>\n",
       "      <td>3.0</td>\n",
       "      <td>5.0</td>\n",
       "      <td>10.0</td>\n",
       "    </tr>\n",
       "    <tr>\n",
       "      <th>Other</th>\n",
       "      <td>385.0</td>\n",
       "      <td>2.987013</td>\n",
       "      <td>2.452112</td>\n",
       "      <td>1.0</td>\n",
       "      <td>1.0</td>\n",
       "      <td>2.0</td>\n",
       "      <td>4.0</td>\n",
       "      <td>10.0</td>\n",
       "    </tr>\n",
       "  </tbody>\n",
       "</table>\n",
       "</div>"
      ],
      "text/plain": [
       "                   count      mean       std  min  25%  50%  75%   max\n",
       "race                                                                  \n",
       "African-American  3175.0  5.276850  2.828073  1.0  3.0  5.0  8.0  10.0\n",
       "Caucasian         2103.0  3.635283  2.562748  1.0  1.0  3.0  5.0  10.0\n",
       "Hispanic           509.0  3.383104  2.544987  1.0  1.0  3.0  5.0  10.0\n",
       "Other              385.0  2.987013  2.452112  1.0  1.0  2.0  4.0  10.0"
      ]
     },
     "execution_count": 51,
     "metadata": {},
     "output_type": "execute_result"
    }
   ],
   "source": [
    "df.groupby('race')['decile_score'].describe()"
   ]
  },
  {
   "cell_type": "markdown",
   "id": "768fa5e7-8b57-47e0-abe5-1306259d8554",
   "metadata": {
    "canvas": {
     "comments": [],
     "componentType": "CodeCell",
     "copiedOriginId": null,
     "diskcache": false,
     "headerColor": "inherit",
     "id": "44d72fd1-eee6-4c55-aa7c-4bad96489f9e",
     "isComponent": false,
     "name": "",
     "parents": []
    }
   },
   "source": [
    "#### Linear Regression Model\n",
    "features:\n",
    "* race\n",
    "* age group (age_cat)\n",
    "* criminal history (priors_count)\n",
    "* Felony or Misdemeanor charge (charge degree) \n",
    "* sex"
   ]
  },
  {
   "cell_type": "code",
   "execution_count": null,
   "id": "1d438f8d-1833-40b1-96c4-b9c89d15ece8",
   "metadata": {
    "canvas": {
     "comments": [],
     "componentType": "CodeCell",
     "copiedOriginId": null,
     "diskcache": false,
     "headerColor": "inherit",
     "id": "ec0d1769-cd70-436f-a8e4-efc2df7fa557",
     "isComponent": false,
     "name": "",
     "parents": []
    }
   },
   "outputs": [],
   "source": []
  },
  {
   "cell_type": "code",
   "execution_count": 6,
   "id": "7c64d81b-e123-45ee-a80e-6989569fa5ed",
   "metadata": {
    "canvas": {
     "comments": [],
     "componentType": "CodeCell",
     "copiedOriginId": null,
     "diskcache": false,
     "headerColor": "inherit",
     "id": "5600e3ce-9dfa-4a4e-9de2-2851f56c6c71",
     "isComponent": false,
     "name": "",
     "parents": []
    }
   },
   "outputs": [],
   "source": [
    "features = pd.concat(\n",
    "    [pd.get_dummies(df.age_cat, prefix='age'),\n",
    "     pd.get_dummies(df.sex, prefix='sex'),\n",
    "     pd.get_dummies(df.c_charge_degree, prefix='degree'), # felony or misdemeanor charge ('f' or 'm')\n",
    "     df.priors_count],\n",
    "    axis=1)\n",
    "\n",
    "# drop one less dummy variable\n",
    "features.drop(['age_25 - 45', 'sex_Female', 'degree_M'], axis=1, inplace=True)\n",
    "\n",
    "# predict the Decile Score\n",
    "target = df.decile_score"
   ]
  },
  {
   "cell_type": "markdown",
   "id": "6be108e9-b742-473a-aebd-30ce378d4179",
   "metadata": {
    "canvas": {
     "comments": [],
     "componentType": "CodeCell",
     "copiedOriginId": null,
     "diskcache": false,
     "headerColor": "inherit",
     "id": "bde4f96e-c27e-4e37-943c-95b12c61eae3",
     "isComponent": false,
     "name": "",
     "parents": []
    }
   },
   "source": [
    "### Lasso"
   ]
  },
  {
   "cell_type": "code",
   "execution_count": 7,
   "id": "f4c94c3c-9f68-4eef-a54f-ad0e373f328c",
   "metadata": {
    "canvas": {
     "comments": [],
     "componentType": "CodeCell",
     "copiedOriginId": null,
     "diskcache": false,
     "headerColor": "inherit",
     "id": "10e1d45c-a529-4725-a545-edf8cb955a64",
     "isComponent": false,
     "name": "",
     "parents": []
    }
   },
   "outputs": [
    {
     "ename": "NameError",
     "evalue": "name 'LinearRegression' is not defined",
     "output_type": "error",
     "traceback": [
      "\u001b[0;31m---------------------------------------------------------------------------\u001b[0m",
      "\u001b[0;31mNameError\u001b[0m                                 Traceback (most recent call last)",
      "Cell \u001b[0;32mIn [7], line 2\u001b[0m\n\u001b[1;32m      1\u001b[0m regressors \u001b[38;5;241m=\u001b[39m [\n\u001b[0;32m----> 2\u001b[0m         LinearRegression(),\n\u001b[1;32m      3\u001b[0m         Lasso(),\n\u001b[1;32m      4\u001b[0m         Ridge(),\n\u001b[1;32m      5\u001b[0m         RandomForestRegressor(),\n\u001b[1;32m      6\u001b[0m         DecisionTreeRegressor()\n\u001b[1;32m      7\u001b[0m         ]\n\u001b[1;32m      9\u001b[0m \u001b[38;5;28;01mfor\u001b[39;00m model \u001b[38;5;129;01min\u001b[39;00m regressors:\n\u001b[1;32m     10\u001b[0m     start \u001b[38;5;241m=\u001b[39m time()\n",
      "\u001b[0;31mNameError\u001b[0m: name 'LinearRegression' is not defined"
     ]
    }
   ],
   "source": []
  },
  {
   "cell_type": "code",
   "execution_count": null,
   "id": "de6f24fe-2278-4787-bb58-cf479de433ae",
   "metadata": {
    "canvas": {
     "comments": [],
     "componentType": "CodeCell",
     "copiedOriginId": null,
     "diskcache": false,
     "headerColor": "inherit",
     "id": "bc6162af-51c7-4ba9-a6db-749a99e65d91",
     "isComponent": false,
     "name": "",
     "parents": []
    }
   },
   "outputs": [],
   "source": []
  },
  {
   "cell_type": "code",
   "execution_count": 10,
   "id": "783fb608-8ae6-4472-92be-8bd81e56e658",
   "metadata": {
    "canvas": {
     "comments": [],
     "componentType": "CodeCell",
     "copiedOriginId": null,
     "diskcache": false,
     "headerColor": "inherit",
     "id": "7a501e23-d313-494a-9d3f-312b53f38b58",
     "isComponent": false,
     "name": "",
     "parents": []
    }
   },
   "outputs": [],
   "source": [
    "X_train, X_test, y_train, y_test = model_selection.train_test_split(features, target, test_size = 0.25, random_state = 3)"
   ]
  },
  {
   "cell_type": "code",
   "execution_count": 16,
   "id": "b834357f-2aca-4687-b229-f79046857ff9",
   "metadata": {
    "canvas": {
     "comments": [],
     "componentType": "CodeCell",
     "copiedOriginId": null,
     "diskcache": false,
     "headerColor": "inherit",
     "id": "4ac76b4d-85a6-4f15-a094-00e331cb65ce",
     "isComponent": false,
     "name": "",
     "parents": []
    }
   },
   "outputs": [],
   "source": [
    "alphas = 10**np.linspace(10,-2,1000)*0.5"
   ]
  },
  {
   "cell_type": "code",
   "execution_count": 9,
   "id": "c0630933-8d6e-4991-821c-d149a730c1e7",
   "metadata": {
    "canvas": {
     "comments": [],
     "componentType": "CodeCell",
     "copiedOriginId": null,
     "diskcache": false,
     "headerColor": "inherit",
     "id": "0581074c-f063-403f-8295-955187a96634",
     "isComponent": false,
     "name": "",
     "parents": []
    }
   },
   "outputs": [],
   "source": [
    "regressors = [\n",
    "        linear_model.LinearRegression(),\n",
    "        linear_model.Lasso(),\n",
    "        linear_model.Ridge(),\n",
    "        RandomForestRegressor(),\n",
    "        DecisionTreeRegressor()\n",
    "        ]"
   ]
  },
  {
   "cell_type": "code",
   "execution_count": 16,
   "id": "963a183d-7969-4b12-87b9-abf5826322c4",
   "metadata": {
    "canvas": {
     "comments": [],
     "componentType": "CodeCell",
     "copiedOriginId": null,
     "diskcache": false,
     "headerColor": "inherit",
     "id": "35d56daa-6f09-4d76-831a-ade906d4b6b2",
     "isComponent": false,
     "name": "",
     "parents": []
    }
   },
   "outputs": [
    {
     "ename": "NameError",
     "evalue": "name 'simple_fe' is not defined",
     "output_type": "error",
     "traceback": [
      "\u001b[0;31m---------------------------------------------------------------------------\u001b[0m",
      "\u001b[0;31mNameError\u001b[0m                                 Traceback (most recent call last)",
      "Cell \u001b[0;32mIn [16], line 6\u001b[0m\n\u001b[1;32m      4\u001b[0m \u001b[38;5;28;01mfor\u001b[39;00m model \u001b[38;5;129;01min\u001b[39;00m regressors:\n\u001b[1;32m      5\u001b[0m     start \u001b[38;5;241m=\u001b[39m time\u001b[38;5;241m.\u001b[39mtime()\n\u001b[0;32m----> 6\u001b[0m     parsed_x_train \u001b[38;5;241m=\u001b[39m simple_fe\u001b[38;5;241m.\u001b[39mfit_transform(x_train,y_train)\n\u001b[1;32m      7\u001b[0m     parsed_x_test \u001b[38;5;241m=\u001b[39m simple_fe\u001b[38;5;241m.\u001b[39mfit_transform(x_test,y_test)\n\u001b[1;32m      8\u001b[0m     model\u001b[38;5;241m.\u001b[39mfit(parsed_x_train, y_train)\n",
      "\u001b[0;31mNameError\u001b[0m: name 'simple_fe' is not defined"
     ]
    }
   ],
   "source": [
    "from sklearn.metrics import classification_report, mean_squared_error\n",
    "from sklearn.pipeline import Pipeline\n",
    "import time \n",
    "model = \n",
    "for model in regressors:\n",
    "    start = time.time()\n",
    "    parsed_x_train = simple_fe.fit_transform(x_train,y_train)\n",
    "    parsed_x_test = simple_fe.fit_transform(x_test,y_test)\n",
    "    model.fit(parsed_x_train, y_train)\n",
    "    train_time = time() - start\n",
    "    start = time()\n",
    "    y_pred = model.predict(parsed_x_test)\n",
    "    predict_time = time()-start    \n",
    "    print(model)\n",
    "    print(\"\\tTraining time: %0.3fs\" % train_time)\n",
    "    print(\"\\tPrediction time: %0.3fs\" % predict_time)\n",
    "    print(\"\\tExplained variance:\", explained_variance_score(y_test, y_pred))\n",
    "    print(\"\\tMean absolute error:\", mean_absolute_error(y_test, y_pred))\n",
    "    print(\"\\tR2 score:\", r2_score(y_test, y_pred))\n",
    "    print()"
   ]
  },
  {
   "cell_type": "code",
   "execution_count": 17,
   "id": "1bb51173-4752-47de-8561-bfc58ffc4846",
   "metadata": {
    "canvas": {
     "comments": [],
     "componentType": "CodeCell",
     "copiedOriginId": null,
     "diskcache": false,
     "headerColor": "inherit",
     "id": "9a0d067e-f127-4c47-803c-9610d8246429",
     "isComponent": false,
     "name": "",
     "parents": []
    }
   },
   "outputs": [
    {
     "data": {
      "text/plain": [
       "0.005"
      ]
     },
     "execution_count": 17,
     "metadata": {},
     "output_type": "execute_result"
    }
   ],
   "source": [
    "# Lasso Model\n",
    "# find the best alpha\n",
    "lasso_cv = linear_model.LassoCV(alphas = alphas, cv = 10, max_iter = 100000).fit(X_train,y_train)\n",
    "lasso_cv.alpha_"
   ]
  },
  {
   "cell_type": "code",
   "execution_count": 19,
   "id": "9bfd9ef1-990f-44ce-995d-724176707767",
   "metadata": {
    "canvas": {
     "comments": [],
     "componentType": "CodeCell",
     "copiedOriginId": null,
     "diskcache": false,
     "headerColor": "inherit",
     "id": "fdf04ec6-ccdc-4032-a242-3e45aaa4db89",
     "isComponent": false,
     "name": "",
     "parents": []
    }
   },
   "outputs": [
    {
     "data": {
      "text/plain": [
       "2.259341551719152"
      ]
     },
     "execution_count": 19,
     "metadata": {},
     "output_type": "execute_result"
    }
   ],
   "source": [
    "lasso_model = linear_model.Lasso().set_params(alpha = lasso_cv.alpha_).fit(X_train,y_train)\n",
    "\n",
    "y_pred= lasso_model.predict(X_test)\n",
    "\n",
    "np.sqrt(metrics.mean_squared_error(y_test,y_pred))"
   ]
  },
  {
   "cell_type": "code",
   "execution_count": 20,
   "id": "cb07dabf-3c79-4705-bbd3-4ffeeed2edc4",
   "metadata": {
    "canvas": {
     "comments": [],
     "componentType": "CodeCell",
     "copiedOriginId": null,
     "diskcache": false,
     "headerColor": "inherit",
     "id": "71b03649-589d-454c-8c14-10df6e390b62",
     "isComponent": false,
     "name": "",
     "parents": []
    }
   },
   "outputs": [
    {
     "data": {
      "text/plain": [
       "0.005"
      ]
     },
     "execution_count": 20,
     "metadata": {},
     "output_type": "execute_result"
    }
   ],
   "source": [
    "lasso_cv_model = linear_model.RidgeCV(alphas = alphas, scoring = 'neg_mean_squared_error', normalize = True).fit(X_train, y_train)\n",
    "lasso_cv_model.alpha_"
   ]
  },
  {
   "cell_type": "markdown",
   "id": "e350d5df-3a14-4154-ae12-f544de6fb47a",
   "metadata": {
    "canvas": {
     "comments": [],
     "componentType": "CodeCell",
     "copiedOriginId": null,
     "diskcache": false,
     "headerColor": "inherit",
     "id": "0506bce9-8fd1-484e-803c-4848e69f1c7e",
     "isComponent": false,
     "name": "",
     "parents": []
    }
   },
   "source": [
    "### Ridge"
   ]
  },
  {
   "cell_type": "code",
   "execution_count": 21,
   "id": "5f317929-b89b-4ca4-8363-1e9dbe57f866",
   "metadata": {
    "canvas": {
     "comments": [],
     "componentType": "CodeCell",
     "copiedOriginId": null,
     "diskcache": false,
     "headerColor": "inherit",
     "id": "f632fb1f-b701-4b1f-b06a-595838126167",
     "isComponent": false,
     "name": "",
     "parents": []
    }
   },
   "outputs": [
    {
     "data": {
      "text/plain": [
       "5.100613454127368"
      ]
     },
     "execution_count": 21,
     "metadata": {},
     "output_type": "execute_result"
    }
   ],
   "source": [
    "ridge_model = linear_model.Ridge(alpha = ridgecv_model.alpha_, normalize = True).fit(X_train, y_train)\n",
    "metrics.mean_squared_error(y_test, ridge_model.predict(X_test))"
   ]
  }
 ],
 "metadata": {
  "canvas": {
   "colorPalette": [
    "inherit",
    "inherit",
    "inherit",
    "inherit",
    "inherit",
    "inherit",
    "inherit",
    "inherit",
    "inherit",
    "inherit"
   ],
   "parameters": [],
   "version": "1.0"
  },
  "kernelspec": {
   "display_name": "Python 3 (ipykernel)",
   "language": "python",
   "name": "python3"
  },
  "language_info": {
   "codemirror_mode": {
    "name": "ipython",
    "version": 3
   },
   "file_extension": ".py",
   "mimetype": "text/x-python",
   "name": "python",
   "nbconvert_exporter": "python",
   "pygments_lexer": "ipython3",
   "version": "3.9.6"
  }
 },
 "nbformat": 4,
 "nbformat_minor": 5
}
