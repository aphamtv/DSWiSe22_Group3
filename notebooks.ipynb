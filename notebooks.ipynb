{
 "cells": [
  {
   "cell_type": "markdown",
   "id": "053ba07e-f66a-471f-a253-a3b6898aa91a",
   "metadata": {
    "canvas": {
     "comments": [],
     "componentType": "CodeCell",
     "copiedOriginId": null,
     "diskcache": false,
     "headerColor": "inherit",
     "id": "2a20b8f0-712f-4414-a3e9-dd6195487c47",
     "isComponent": false,
     "name": "",
     "parents": []
    }
   },
   "source": [
    "# COMPAS Racial Bias Analysis"
   ]
  },
  {
   "cell_type": "markdown",
   "id": "208d660d-a098-42ff-8053-c9afb8b215d8",
   "metadata": {
    "canvas": {
     "comments": [],
     "componentType": "CodeCell",
     "copiedOriginId": null,
     "diskcache": false,
     "headerColor": "inherit",
     "id": "fb16a85a-c552-4a40-a1ff-4af0e53744f2",
     "isComponent": false,
     "name": "",
     "parents": []
    }
   },
   "source": [
    "## Import Packages"
   ]
  },
  {
   "cell_type": "code",
   "execution_count": 1,
   "id": "4bbceee6-d419-477a-b886-7b0631d7d97a",
   "metadata": {
    "canvas": {
     "comments": [],
     "componentType": "CodeCell",
     "copiedOriginId": null,
     "diskcache": false,
     "headerColor": "none",
     "id": "b5578e8a-e6b4-4f6b-a08f-54f61b04c5e0",
     "isComponent": true,
     "name": "import libraries",
     "parents": []
    },
    "tags": []
   },
   "outputs": [],
   "source": [
    "import numpy as np\n",
    "import matplotlib as matplt\n",
    "import matplotlib.pyplot as plt\n",
    "import pandas as pd\n",
    "import seaborn as sns\n",
    "from scipy.stats import norm\n",
    "from scipy import stats\n",
    "from sklearn import (\n",
    "    linear_model, metrics, pipeline, preprocessing, model_selection\n",
    ")\n",
    "from sklearn.linear_model import LogisticRegression\n",
    "from sklearn.ensemble import RandomForestRegressor, RandomForestClassifier\n",
    "from sklearn.tree import DecisionTreeRegressor,DecisionTreeClassifier\n",
    "from sklearn.metrics import accuracy_score, confusion_matrix, classification_report\n",
    "from datetime import datetime\n",
    "from time import time\n",
    "import random\n",
    "import sys\n",
    "# from sklearn.model_selection import cross_val_score\n",
    "# from sklearn.model_selection import RepeatedKFold\n",
    "# from sklearn.linear_model import Lasso\n",
    "import warnings\n",
    "warnings.filterwarnings('ignore')"
   ]
  },
  {
   "cell_type": "markdown",
   "id": "9ccaa1ae-5b14-4614-b52c-ac94f249e895",
   "metadata": {
    "canvas": {
     "comments": [],
     "componentType": "CodeCell",
     "copiedOriginId": null,
     "diskcache": false,
     "headerColor": "inherit",
     "id": "43883e0f-0bfa-458c-9339-89639e1d5a86",
     "isComponent": false,
     "name": "",
     "parents": []
    }
   },
   "source": [
    "## Prepare Data"
   ]
  },
  {
   "cell_type": "code",
   "execution_count": 2,
   "id": "7002905e-0325-4db0-874b-b1f7fe9e4636",
   "metadata": {
    "canvas": {
     "comments": [],
     "componentType": "CodeCell",
     "copiedOriginId": null,
     "diskcache": false,
     "headerColor": "none",
     "id": "792f693b-df84-49b2-a07d-ee4bfe557125",
     "isComponent": true,
     "name": "load raw data",
     "parents": [
      {
       "id": "b5578e8a-e6b4-4f6b-a08f-54f61b04c5e0",
       "name": "import libraries"
      }
     ]
    },
    "tags": []
   },
   "outputs": [
    {
     "name": "stdout",
     "output_type": "stream",
     "text": [
      "(4743, 54)\n"
     ]
    },
    {
     "data": {
      "text/plain": [
       "Index(['id', 'name', 'first', 'last', 'compas_screening_date', 'sex', 'dob',\n",
       "       'age', 'age_cat', 'race', 'juv_fel_count', 'decile_score',\n",
       "       'juv_misd_count', 'juv_other_count', 'priors_count',\n",
       "       'days_b_screening_arrest', 'c_jail_in', 'c_jail_out', 'c_case_number',\n",
       "       'c_offense_date', 'c_arrest_date', 'c_days_from_compas',\n",
       "       'c_charge_degree', 'c_charge_desc', 'is_recid', 'r_case_number',\n",
       "       'r_charge_degree', 'r_days_from_arrest', 'r_offense_date',\n",
       "       'r_charge_desc', 'r_jail_in', 'r_jail_out', 'violent_recid',\n",
       "       'is_violent_recid', 'vr_case_number', 'vr_charge_degree',\n",
       "       'vr_offense_date', 'vr_charge_desc', 'type_of_assessment',\n",
       "       'decile_score.1', 'score_text', 'screening_date',\n",
       "       'v_type_of_assessment', 'v_decile_score', 'v_score_text',\n",
       "       'v_screening_date', 'in_custody', 'out_custody', 'priors_count.1',\n",
       "       'start', 'end', 'event', 'two_year_recid', 'two_year_recid.1'],\n",
       "      dtype='object')"
      ]
     },
     "execution_count": 2,
     "metadata": {},
     "output_type": "execute_result"
    }
   ],
   "source": [
    "dataURL = 'https://raw.githubusercontent.com/propublica/compas-analysis/master/compas-scores-two-years-violent.csv'\n",
    "raw_data = pd.read_csv(dataURL)\n",
    "print(raw_data.shape)\n",
    "raw_data.columns\n",
    "# raw_data.head()"
   ]
  },
  {
   "cell_type": "markdown",
   "id": "1a4bd081-ae72-4509-a2a0-3facb5ed4f92",
   "metadata": {
    "canvas": {
     "comments": [],
     "componentType": "CodeCell",
     "copiedOriginId": null,
     "diskcache": false,
     "headerColor": "inherit",
     "id": "17fc935f-7c09-4225-aa22-a6a9a18d4f12",
     "isComponent": false,
     "name": "",
     "parents": []
    }
   },
   "source": [
    "### Data Description\n",
    "* age: Age of the defendant. It is numeric.\n",
    "* age_cat: Category of Age. It can be < 25, 25-45, >45.\n",
    "* sex: Sex of the defendant. It is either 'Male' or 'Female'\n",
    "* race: Race of the defendant. It can be 'African-American', 'Caucasian', 'Hispanic', 'Asian', or 'Other'.\n",
    "* juv_fel_count: The number of prior juvenile felonie of the defendant.\n",
    "* juv_misd_count: The number of prior juvenile misdemeanors of the defendant.\n",
    "* juv_other_count: The number of juvenile convictions that are neither a felony nor a misdemeanor\n",
    "* c_charge_degree: Degree of the crime. It is either M (Misdemeanor), F (Felony), or O (not causing jail time).\n",
    "* priors_count: Count of prior crimes committed by the defendant. It is numeric.\n",
    "* days_b_screening_arrest: Days between the arrest and COMPAS screening.\n",
    "* decile_score: The COMPAS score predicted by the system. It is between 0-10.\n",
    "* score_text: Category of decile score. It can be Low (1-4), Medium (5-7), and High (8-10).\n",
    "* is_recid: A variable to indicate if recidivism was done by the defendant. It can be 0, 1, -1.\n",
    "* two_year_recid: A variable to indicate if recidivism was done by the defendant within two years.\n",
    "* c_jail_in: Time when the defendant was jailed.\n",
    "* c_jail_out: Time when the defendant was released from the jail."
   ]
  },
  {
   "cell_type": "code",
   "execution_count": 3,
   "id": "db786a7a-4a63-4be7-b082-0708269ac1e8",
   "metadata": {
    "canvas": {
     "comments": [],
     "componentType": "CodeCell",
     "copiedOriginId": null,
     "diskcache": false,
     "headerColor": "inherit",
     "id": "80fa0385-b919-4e89-b4bf-b8e208821382",
     "isComponent": false,
     "name": "",
     "parents": []
    }
   },
   "outputs": [],
   "source": [
    "# raw_data.isna().sum()"
   ]
  },
  {
   "cell_type": "markdown",
   "id": "d0bb9109-2320-4574-b70c-64769eb6f00a",
   "metadata": {
    "canvas": {
     "comments": [],
     "componentType": "CodeCell",
     "copiedOriginId": null,
     "diskcache": false,
     "headerColor": "inherit",
     "id": "7a552585-2144-4449-bd6b-7980416db328",
     "isComponent": false,
     "name": "",
     "parents": []
    }
   },
   "source": [
    "### Data Cleaning\n",
    "However not all of the rows are useable for the first round of analysis.\n",
    "\n",
    "There are a number of reasons remove rows because of missing data:\n",
    "* If the charge date of a defendants Compas scored crime was not within 30 days from when the person was arrested, we assume that because of data quality reasons, that we do not have the right offense.\n",
    "* We coded the recidivist flag -- `is_recid` -- to be -1 if we could not find a compas case at all.\n",
    "* In a similar vein, ordinary traffic offenses -- those with a `c_charge_degree` of 'O' -- will not result in Jail time are removed (only two of them).\n",
    "* We filtered the underlying data from Broward county to include only those rows representing people who had either recidivated in two years, or had at least two years outside of a correctional facility."
   ]
  },
  {
   "cell_type": "code",
   "execution_count": 4,
   "id": "d9358220-38cc-4c58-a960-419d3e5acf8e",
   "metadata": {
    "canvas": {
     "comments": [],
     "componentType": "CodeCell",
     "copiedOriginId": null,
     "diskcache": false,
     "headerColor": "none",
     "id": "d73da040-1a7f-4ebf-9b64-701d88696c90",
     "isComponent": true,
     "name": "filter data",
     "parents": [
      {
       "id": "792f693b-df84-49b2-a07d-ee4bfe557125",
       "name": "load raw data"
      }
     ]
    },
    "tags": []
   },
   "outputs": [
    {
     "data": {
      "text/plain": [
       "4020"
      ]
     },
     "execution_count": 4,
     "metadata": {},
     "output_type": "execute_result"
    }
   ],
   "source": [
    "compas_df = raw_data.loc[\n",
    "    (raw_data['days_b_screening_arrest'] <= 30) &\n",
    "    (raw_data['days_b_screening_arrest'] >= -30) &\n",
    "    (raw_data['is_recid'] != -1) &\n",
    "    (raw_data['c_charge_degree'] != \"O\") &\n",
    "    (raw_data['score_text'] != \"N/A\")\n",
    "]\n",
    "len(compas_df)"
   ]
  },
  {
   "cell_type": "markdown",
   "id": "8e956af3-f39c-43fb-89cf-a9c2102852ec",
   "metadata": {
    "canvas": {
     "comments": [],
     "componentType": "CodeCell",
     "copiedOriginId": null,
     "diskcache": false,
     "headerColor": "inherit",
     "id": "d670572b-3f4f-4fdd-a07b-27e7c2dfeee6",
     "isComponent": false,
     "name": "",
     "parents": []
    }
   },
   "source": [
    "## COMPAS Score and Recidivism\n"
   ]
  },
  {
   "cell_type": "markdown",
   "id": "32d984c5-d178-457a-9e17-e8da9da334af",
   "metadata": {
    "canvas": {
     "comments": [],
     "componentType": "CodeCell",
     "copiedOriginId": null,
     "diskcache": false,
     "headerColor": "inherit",
     "id": "c043e162-aefd-418d-a89f-18a65fd69e9d",
     "isComponent": false,
     "name": "",
     "parents": []
    }
   },
   "source": [
    "We visualize the data to see how scores and race correlate to each other"
   ]
  },
  {
   "cell_type": "markdown",
   "id": "c153994d-5197-4994-838b-47d766d4e7ad",
   "metadata": {
    "canvas": {
     "comments": [],
     "componentType": "CodeCell",
     "copiedOriginId": null,
     "diskcache": false,
     "headerColor": "inherit",
     "id": "96398f47-f113-407d-8db0-e36819c59924",
     "isComponent": false,
     "name": "",
     "parents": []
    }
   },
   "source": [
    "### Exploratory Analysis"
   ]
  },
  {
   "cell_type": "markdown",
   "id": "878596a2-cf26-4cb2-87cf-0cddcb4bf973",
   "metadata": {
    "canvas": {
     "comments": [],
     "componentType": "CodeCell",
     "copiedOriginId": null,
     "diskcache": false,
     "headerColor": "inherit",
     "id": "54057456-4850-4928-be1a-47eb47161248",
     "isComponent": false,
     "name": "",
     "parents": []
    }
   },
   "source": [
    "#### Score and Race"
   ]
  },
  {
   "cell_type": "code",
   "execution_count": 5,
   "id": "a7f428bb-c422-4f84-958a-c8d41a0c4d1d",
   "metadata": {
    "canvas": {
     "comments": [],
     "componentType": "CodeCell",
     "copiedOriginId": null,
     "diskcache": false,
     "headerColor": "inherit",
     "id": "47339072-9d9b-4d37-b3fd-ffb405463cf3",
     "isComponent": true,
     "name": "analysis",
     "parents": [
      {
       "id": "d73da040-1a7f-4ebf-9b64-701d88696c90",
       "name": "filter data"
      }
     ]
    },
    "tags": []
   },
   "outputs": [
    {
     "data": {
      "text/plain": [
       "African-American    1918\n",
       "Caucasian           1459\n",
       "Hispanic             355\n",
       "Other                255\n",
       "Asian                 26\n",
       "Native American        7\n",
       "Name: race, dtype: int64"
      ]
     },
     "execution_count": 5,
     "metadata": {},
     "output_type": "execute_result"
    }
   ],
   "source": [
    "compas_df['race'].value_counts()"
   ]
  },
  {
   "cell_type": "code",
   "execution_count": 6,
   "id": "146791c6-ac71-48a1-be34-03325196fe9e",
   "metadata": {
    "canvas": {
     "comments": [],
     "componentType": "CodeCell",
     "copiedOriginId": null,
     "diskcache": false,
     "headerColor": "inherit",
     "id": "44ae4332-137e-4a04-9934-6983fe82b9cd",
     "isComponent": false,
     "name": "",
     "parents": []
    },
    "tags": []
   },
   "outputs": [
    {
     "data": {
      "text/plain": [
       "<AxesSubplot:title={'center':'Score Text by Race'}, xlabel='Race', ylabel='Score Text'>"
      ]
     },
     "execution_count": 6,
     "metadata": {},
     "output_type": "execute_result"
    },
    {
     "data": {
      "image/png": "[encoded data removed]",
      "text/plain": [
       "<Figure size 800x400 with 1 Axes>"
      ]
     },
     "metadata": {},
     "output_type": "display_data"
    }
   ],
   "source": [
    "score_text_by_race = compas_df.groupby(['race','score_text'], sort = True)['id'].size()\n",
    "score_text_by_race.unstack().plot(\n",
    "    kind = \"barh\", \n",
    "    title = \"Score Text by Race\",\n",
    "    ylabel = \"Score Text\",\n",
    "    xlabel = \"Race\",\n",
    "    figsize = (8,4),\n",
    "    stacked = True\n",
    ")"
   ]
  },
  {
   "cell_type": "markdown",
   "id": "2b2c7c68-bdb2-4f0e-a088-90c75cdd24a1",
   "metadata": {
    "canvas": {
     "comments": [],
     "componentType": "CodeCell",
     "copiedOriginId": null,
     "diskcache": false,
     "headerColor": "inherit",
     "id": "0a924d16-a7b9-44a9-a251-a282c67233ec",
     "isComponent": false,
     "name": "",
     "parents": []
    }
   },
   "source": [
    "African American group has the highest number of High Scores individuals. However, they are also the biggest group, so we need to consider the proportions of score text in each Race group. "
   ]
  },
  {
   "cell_type": "code",
   "execution_count": 7,
   "id": "d62d9135-c011-4afa-9ba7-7d9ec5b891f9",
   "metadata": {
    "canvas": {
     "comments": [],
     "componentType": "CodeCell",
     "copiedOriginId": null,
     "diskcache": false,
     "headerColor": "inherit",
     "id": "501f6cc2-f064-442c-9e46-7955bce81284",
     "isComponent": false,
     "name": "",
     "parents": []
    }
   },
   "outputs": [
    {
     "data": {
      "text/html": [
       "<div>\n",
       "<style scoped>\n",
       "    .dataframe tbody tr th:only-of-type {\n",
       "        vertical-align: middle;\n",
       "    }\n",
       "\n",
       "    .dataframe tbody tr th {\n",
       "        vertical-align: top;\n",
       "    }\n",
       "\n",
       "    .dataframe thead th {\n",
       "        text-align: right;\n",
       "    }\n",
       "</style>\n",
       "<table border=\"1\" class=\"dataframe\">\n",
       "  <thead>\n",
       "    <tr style=\"text-align: right;\">\n",
       "      <th></th>\n",
       "      <th></th>\n",
       "      <th>score_text</th>\n",
       "      <th>prop</th>\n",
       "    </tr>\n",
       "    <tr>\n",
       "      <th>race</th>\n",
       "      <th>score_text</th>\n",
       "      <th></th>\n",
       "      <th></th>\n",
       "    </tr>\n",
       "  </thead>\n",
       "  <tbody>\n",
       "    <tr>\n",
       "      <th rowspan=\"3\" valign=\"top\">African-American</th>\n",
       "      <th>High</th>\n",
       "      <td>386</td>\n",
       "      <td>20.125130</td>\n",
       "    </tr>\n",
       "    <tr>\n",
       "      <th>Low</th>\n",
       "      <td>969</td>\n",
       "      <td>50.521376</td>\n",
       "    </tr>\n",
       "    <tr>\n",
       "      <th>Medium</th>\n",
       "      <td>563</td>\n",
       "      <td>29.353493</td>\n",
       "    </tr>\n",
       "    <tr>\n",
       "      <th rowspan=\"3\" valign=\"top\">Asian</th>\n",
       "      <th>High</th>\n",
       "      <td>2</td>\n",
       "      <td>7.692308</td>\n",
       "    </tr>\n",
       "    <tr>\n",
       "      <th>Low</th>\n",
       "      <td>22</td>\n",
       "      <td>84.615385</td>\n",
       "    </tr>\n",
       "    <tr>\n",
       "      <th>Medium</th>\n",
       "      <td>2</td>\n",
       "      <td>7.692308</td>\n",
       "    </tr>\n",
       "    <tr>\n",
       "      <th rowspan=\"3\" valign=\"top\">Caucasian</th>\n",
       "      <th>High</th>\n",
       "      <td>105</td>\n",
       "      <td>7.216495</td>\n",
       "    </tr>\n",
       "    <tr>\n",
       "      <th>Low</th>\n",
       "      <td>1087</td>\n",
       "      <td>74.707904</td>\n",
       "    </tr>\n",
       "    <tr>\n",
       "      <th>Medium</th>\n",
       "      <td>263</td>\n",
       "      <td>18.075601</td>\n",
       "    </tr>\n",
       "    <tr>\n",
       "      <th rowspan=\"3\" valign=\"top\">Hispanic</th>\n",
       "      <th>High</th>\n",
       "      <td>26</td>\n",
       "      <td>7.323944</td>\n",
       "    </tr>\n",
       "    <tr>\n",
       "      <th>Low</th>\n",
       "      <td>277</td>\n",
       "      <td>78.028169</td>\n",
       "    </tr>\n",
       "    <tr>\n",
       "      <th>Medium</th>\n",
       "      <td>52</td>\n",
       "      <td>14.647887</td>\n",
       "    </tr>\n",
       "    <tr>\n",
       "      <th rowspan=\"3\" valign=\"top\">Native American</th>\n",
       "      <th>High</th>\n",
       "      <td>2</td>\n",
       "      <td>28.571429</td>\n",
       "    </tr>\n",
       "    <tr>\n",
       "      <th>Low</th>\n",
       "      <td>3</td>\n",
       "      <td>42.857143</td>\n",
       "    </tr>\n",
       "    <tr>\n",
       "      <th>Medium</th>\n",
       "      <td>2</td>\n",
       "      <td>28.571429</td>\n",
       "    </tr>\n",
       "    <tr>\n",
       "      <th rowspan=\"3\" valign=\"top\">Other</th>\n",
       "      <th>High</th>\n",
       "      <td>15</td>\n",
       "      <td>5.905512</td>\n",
       "    </tr>\n",
       "    <tr>\n",
       "      <th>Low</th>\n",
       "      <td>208</td>\n",
       "      <td>81.889764</td>\n",
       "    </tr>\n",
       "    <tr>\n",
       "      <th>Medium</th>\n",
       "      <td>31</td>\n",
       "      <td>12.204724</td>\n",
       "    </tr>\n",
       "  </tbody>\n",
       "</table>\n",
       "</div>"
      ],
      "text/plain": [
       "                             score_text       prop\n",
       "race             score_text                       \n",
       "African-American High               386  20.125130\n",
       "                 Low                969  50.521376\n",
       "                 Medium             563  29.353493\n",
       "Asian            High                 2   7.692308\n",
       "                 Low                 22  84.615385\n",
       "                 Medium               2   7.692308\n",
       "Caucasian        High               105   7.216495\n",
       "                 Low               1087  74.707904\n",
       "                 Medium             263  18.075601\n",
       "Hispanic         High                26   7.323944\n",
       "                 Low                277  78.028169\n",
       "                 Medium              52  14.647887\n",
       "Native American  High                 2  28.571429\n",
       "                 Low                  3  42.857143\n",
       "                 Medium               2  28.571429\n",
       "Other            High                15   5.905512\n",
       "                 Low                208  81.889764\n",
       "                 Medium              31  12.204724"
      ]
     },
     "execution_count": 7,
     "metadata": {},
     "output_type": "execute_result"
    }
   ],
   "source": [
    "#calculate the total and proportions of score texts in each race group\n",
    "score_text_by_race_prop= compas_df.groupby(['race', 'score_text']).agg({'score_text': 'count'})\n",
    "score_text_by_race_prop['prop'] = score_text_by_race_prop.groupby(level = 0).apply(lambda x:100 * x / float(x.sum()))\n",
    "score_text_by_race_prop"
   ]
  },
  {
   "cell_type": "markdown",
   "id": "1c929cb9-32eb-422c-bf1a-b85edf5e7788",
   "metadata": {
    "canvas": {
     "comments": [],
     "componentType": "CodeCell",
     "copiedOriginId": null,
     "diskcache": false,
     "headerColor": "inherit",
     "id": "1bed0e95-f9bf-484d-8fb2-d7902d37399b",
     "isComponent": false,
     "name": "",
     "parents": []
    }
   },
   "source": [
    "26,6% of African-American defendants are classified with High Scores compared to 10.6% of Caucasian group"
   ]
  },
  {
   "cell_type": "markdown",
   "id": "d0447e6f-25d2-4d48-959e-295ed2d10e86",
   "metadata": {
    "canvas": {
     "comments": [],
     "componentType": "CodeCell",
     "copiedOriginId": null,
     "diskcache": false,
     "headerColor": "inherit",
     "id": "18826843-325f-4da8-9c8d-461a2d9d926e",
     "isComponent": false,
     "name": "",
     "parents": []
    }
   },
   "source": [
    "#### Distribution of decile scores\n",
    "There is a clear downtrend in Decile Score for Caucasian and Hispanic; however, no downtrend for African-American."
   ]
  },
  {
   "cell_type": "code",
   "execution_count": 8,
   "id": "d4639ac3-425d-4e7c-a8ed-7f0dd03b6a22",
   "metadata": {
    "canvas": {
     "comments": [],
     "componentType": "CodeCell",
     "copiedOriginId": null,
     "diskcache": false,
     "headerColor": "inherit",
     "id": "afcd672e-5a94-4e96-b73a-8e37aa021441",
     "isComponent": false,
     "name": "",
     "parents": []
    }
   },
   "outputs": [
    {
     "data": {
      "text/plain": [
       "<AxesSubplot:title={'center':'Decile Score Histogram by Race (%)'}, xlabel='Race', ylabel='%'>"
      ]
     },
     "execution_count": 8,
     "metadata": {},
     "output_type": "execute_result"
    },
    {
     "data": {
      "image/png": "[encoded data removed]",
      "text/plain": [
       "<Figure size 1400x500 with 2 Axes>"
      ]
     },
     "metadata": {},
     "output_type": "display_data"
    }
   ],
   "source": [
    "fig, axs = plt.subplots(1,2, figsize=(14, 5))\n",
    "# Decile Score by race\n",
    "compas_df.groupby('decile_score')['race'].value_counts(normalize = False).unstack().plot(\n",
    "    kind = \"bar\",\n",
    "    title = \"Decile Score Histogram by Race\",\n",
    "    ylabel = \"Count\",\n",
    "    xlabel = \"Race\",\n",
    "    ax=axs[0])\n",
    "\n",
    "\n",
    "compas_df.groupby('decile_score')['race'].value_counts(normalize = True).unstack().plot(\n",
    "    kind = \"bar\",\n",
    "    title = \"Decile Score Histogram by Race (%)\",\n",
    "    ylabel = \"%\",\n",
    "    xlabel = \"Race\",\n",
    "    ax=axs[1])"
   ]
  },
  {
   "cell_type": "code",
   "execution_count": 9,
   "id": "54b73c7c-b3b6-4497-a2de-cb4f68466603",
   "metadata": {
    "canvas": {
     "comments": [],
     "componentType": "CodeCell",
     "copiedOriginId": null,
     "diskcache": false,
     "headerColor": "inherit",
     "id": "659786bb-d792-4b54-a1eb-e4b9861525d2",
     "isComponent": false,
     "name": "",
     "parents": []
    }
   },
   "outputs": [],
   "source": [
    "# sns.countplot(\n",
    "#     data = compas_df,\n",
    "#     x = 'decile_score',\n",
    "#     hue = 'race',\n",
    "#     palette = [\"#F97306\",\"#0343compas_df\",\"#00FF00\"]\n",
    "# )\n",
    "# plt.title('Distribution of Decile Scores by Race')\n",
    "# plt.xlabel('Decile Score')\n",
    "# plt.ylabel('Count')"
   ]
  },
  {
   "cell_type": "code",
   "execution_count": 10,
   "id": "af72a9f5-ae70-4efa-9749-ce42f7984142",
   "metadata": {
    "canvas": {
     "comments": [],
     "componentType": "CodeCell",
     "copiedOriginId": null,
     "diskcache": false,
     "headerColor": "inherit",
     "id": "4d172e7a-4b1d-42a8-8354-c7175164e877",
     "isComponent": false,
     "name": "",
     "parents": []
    }
   },
   "outputs": [
    {
     "data": {
      "text/html": [
       "<div>\n",
       "<style scoped>\n",
       "    .dataframe tbody tr th:only-of-type {\n",
       "        vertical-align: middle;\n",
       "    }\n",
       "\n",
       "    .dataframe tbody tr th {\n",
       "        vertical-align: top;\n",
       "    }\n",
       "\n",
       "    .dataframe thead th {\n",
       "        text-align: right;\n",
       "    }\n",
       "</style>\n",
       "<table border=\"1\" class=\"dataframe\">\n",
       "  <thead>\n",
       "    <tr style=\"text-align: right;\">\n",
       "      <th></th>\n",
       "      <th>count</th>\n",
       "      <th>mean</th>\n",
       "      <th>std</th>\n",
       "      <th>min</th>\n",
       "      <th>25%</th>\n",
       "      <th>50%</th>\n",
       "      <th>75%</th>\n",
       "      <th>max</th>\n",
       "    </tr>\n",
       "    <tr>\n",
       "      <th>race</th>\n",
       "      <th></th>\n",
       "      <th></th>\n",
       "      <th></th>\n",
       "      <th></th>\n",
       "      <th></th>\n",
       "      <th></th>\n",
       "      <th></th>\n",
       "      <th></th>\n",
       "    </tr>\n",
       "  </thead>\n",
       "  <tbody>\n",
       "    <tr>\n",
       "      <th>African-American</th>\n",
       "      <td>1918.0</td>\n",
       "      <td>4.714807</td>\n",
       "      <td>2.795312</td>\n",
       "      <td>1.0</td>\n",
       "      <td>2.0</td>\n",
       "      <td>4.0</td>\n",
       "      <td>7.0</td>\n",
       "      <td>10.0</td>\n",
       "    </tr>\n",
       "    <tr>\n",
       "      <th>Asian</th>\n",
       "      <td>26.0</td>\n",
       "      <td>2.461538</td>\n",
       "      <td>2.403843</td>\n",
       "      <td>1.0</td>\n",
       "      <td>1.0</td>\n",
       "      <td>1.0</td>\n",
       "      <td>3.0</td>\n",
       "      <td>10.0</td>\n",
       "    </tr>\n",
       "    <tr>\n",
       "      <th>Caucasian</th>\n",
       "      <td>1459.0</td>\n",
       "      <td>3.156957</td>\n",
       "      <td>2.374282</td>\n",
       "      <td>-1.0</td>\n",
       "      <td>1.0</td>\n",
       "      <td>2.0</td>\n",
       "      <td>5.0</td>\n",
       "      <td>10.0</td>\n",
       "    </tr>\n",
       "    <tr>\n",
       "      <th>Hispanic</th>\n",
       "      <td>355.0</td>\n",
       "      <td>3.064789</td>\n",
       "      <td>2.374244</td>\n",
       "      <td>1.0</td>\n",
       "      <td>1.0</td>\n",
       "      <td>2.0</td>\n",
       "      <td>4.0</td>\n",
       "      <td>10.0</td>\n",
       "    </tr>\n",
       "    <tr>\n",
       "      <th>Native American</th>\n",
       "      <td>7.0</td>\n",
       "      <td>5.428571</td>\n",
       "      <td>3.101459</td>\n",
       "      <td>2.0</td>\n",
       "      <td>2.5</td>\n",
       "      <td>6.0</td>\n",
       "      <td>8.0</td>\n",
       "      <td>9.0</td>\n",
       "    </tr>\n",
       "    <tr>\n",
       "      <th>Other</th>\n",
       "      <td>255.0</td>\n",
       "      <td>2.678431</td>\n",
       "      <td>2.339015</td>\n",
       "      <td>-1.0</td>\n",
       "      <td>1.0</td>\n",
       "      <td>2.0</td>\n",
       "      <td>4.0</td>\n",
       "      <td>10.0</td>\n",
       "    </tr>\n",
       "  </tbody>\n",
       "</table>\n",
       "</div>"
      ],
      "text/plain": [
       "                   count      mean       std  min  25%  50%  75%   max\n",
       "race                                                                  \n",
       "African-American  1918.0  4.714807  2.795312  1.0  2.0  4.0  7.0  10.0\n",
       "Asian               26.0  2.461538  2.403843  1.0  1.0  1.0  3.0  10.0\n",
       "Caucasian         1459.0  3.156957  2.374282 -1.0  1.0  2.0  5.0  10.0\n",
       "Hispanic           355.0  3.064789  2.374244  1.0  1.0  2.0  4.0  10.0\n",
       "Native American      7.0  5.428571  3.101459  2.0  2.5  6.0  8.0   9.0\n",
       "Other              255.0  2.678431  2.339015 -1.0  1.0  2.0  4.0  10.0"
      ]
     },
     "execution_count": 10,
     "metadata": {},
     "output_type": "execute_result"
    }
   ],
   "source": [
    "compas_df.groupby('race')['decile_score'].describe()"
   ]
  },
  {
   "cell_type": "code",
   "execution_count": null,
   "id": "6dbea659-dc41-4c3f-b28c-7b4b66d6b15b",
   "metadata": {},
   "outputs": [],
   "source": []
  }
 ],
 "metadata": {
  "canvas": {
   "colorPalette": [
    "inherit",
    "inherit",
    "inherit",
    "inherit",
    "inherit",
    "inherit",
    "inherit",
    "inherit",
    "inherit",
    "inherit"
   ],
   "parameters": [],
   "version": "1.0"
  },
  "kernelspec": {
   "display_name": "Python 3 (ipykernel)",
   "language": "python",
   "name": "python3"
  },
  "language_info": {
   "codemirror_mode": {
    "name": "ipython",
    "version": 3
   },
   "file_extension": ".py",
   "mimetype": "text/x-python",
   "name": "python",
   "nbconvert_exporter": "python",
   "pygments_lexer": "ipython3",
   "version": "3.9.6"
  }
 },
 "nbformat": 4,
 "nbformat_minor": 5
}
