{
 "cells": [
  {
   "cell_type": "code",
   "execution_count": 1,
   "metadata": {
    "colab": {
     "base_uri": "https://localhost:8080/"
    },
    "id": "zxaZjgNGc_70",
    "outputId": "cbc8db87-4326-4e5b-d60b-3fd37d2f594b"
   },
   "outputs": [],
   "source": [
    "#from google.colab import drive\n",
    "#drive.mount ('/content/drive')"
   ]
  },
  {
   "cell_type": "code",
   "execution_count": 2,
   "metadata": {
    "colab": {
     "base_uri": "https://localhost:8080/"
    },
    "id": "K-YsUzc-cYFs",
    "outputId": "7545a8c2-e3d7-412d-dfb2-cf497d0d30ce"
   },
   "outputs": [],
   "source": [
    "import numpy as np\n",
    "import matplotlib as matplt\n",
    "import matplotlib.pyplot as plt\n",
    "import pandas as pd\n",
    "import seaborn as sns\n",
    "from scipy.stats import norm\n",
    "from scipy import stats\n",
    "from sklearn import (\n",
    "    linear_model, metrics, pipeline, preprocessing, model_selection\n",
    ")\n",
    "\n",
    "from sklearn.preprocessing import scale, LabelEncoder\n",
    "import sklearn.linear_model as skl_lm\n",
    "from sklearn.metrics import mean_squared_error, r2_score, roc_curve, roc_auc_score\n",
    "import statsmodels.api as sm\n",
    "import statsmodels.formula.api as smf\n",
    "\n",
    "#!pip install lifelines\n",
    "from lifelines import CoxPHFitter\n",
    "\n",
    "from sklearn.model_selection import cross_val_score\n",
    "from sklearn.model_selection import RepeatedKFold\n",
    "from sklearn.linear_model import Lasso\n",
    "\n",
    "import sklearn.linear_model as skl_lm\n",
    "\n",
    "from sklearn.model_selection import RepeatedKFold\n",
    "from sklearn.tree import DecisionTreeClassifier\n",
    "from sklearn.model_selection import KFold, cross_val_score\n",
    "\n",
    "import warnings\n",
    "warnings.filterwarnings('ignore')\n",
    "\n",
    "import plotly.express as px"
   ]
  },
  {
   "cell_type": "markdown",
   "metadata": {
    "id": "CwJsBm-CBGaO"
   },
   "source": [
    "#Import data"
   ]
  },
  {
   "cell_type": "code",
   "execution_count": 3,
   "metadata": {
    "colab": {
     "base_uri": "https://localhost:8080/"
    },
    "id": "ke2zQr7Sck9A",
    "outputId": "206c2f8b-979e-43e7-f0fd-35251211d652"
   },
   "outputs": [
    {
     "name": "stdout",
     "output_type": "stream",
     "text": [
      "(7214, 53)\n"
     ]
    },
    {
     "data": {
      "text/plain": [
       "Index(['id', 'name', 'first', 'last', 'compas_screening_date', 'sex', 'dob',\n",
       "       'age', 'age_cat', 'race', 'juv_fel_count', 'decile_score',\n",
       "       'juv_misd_count', 'juv_other_count', 'priors_count',\n",
       "       'days_b_screening_arrest', 'c_jail_in', 'c_jail_out', 'c_case_number',\n",
       "       'c_offense_date', 'c_arrest_date', 'c_days_from_compas',\n",
       "       'c_charge_degree', 'c_charge_desc', 'is_recid', 'r_case_number',\n",
       "       'r_charge_degree', 'r_days_from_arrest', 'r_offense_date',\n",
       "       'r_charge_desc', 'r_jail_in', 'r_jail_out', 'violent_recid',\n",
       "       'is_violent_recid', 'vr_case_number', 'vr_charge_degree',\n",
       "       'vr_offense_date', 'vr_charge_desc', 'type_of_assessment',\n",
       "       'decile_score.1', 'score_text', 'screening_date',\n",
       "       'v_type_of_assessment', 'v_decile_score', 'v_score_text',\n",
       "       'v_screening_date', 'in_custody', 'out_custody', 'priors_count.1',\n",
       "       'start', 'end', 'event', 'two_year_recid'],\n",
       "      dtype='object')"
      ]
     },
     "execution_count": 3,
     "metadata": {},
     "output_type": "execute_result"
    }
   ],
   "source": [
    "raw_data = pd.read_csv(\"compas-analysis-master/compas-scores-two-years.csv\")\n",
    "print(raw_data.shape)\n",
    "raw_data.columns"
   ]
  },
  {
   "cell_type": "code",
   "execution_count": 4,
   "metadata": {
    "colab": {
     "base_uri": "https://localhost:8080/",
     "height": 366
    },
    "id": "3NbCStLbt5an",
    "outputId": "fd51fa72-07e3-4748-ecc7-482b3f19c2d9"
   },
   "outputs": [
    {
     "data": {
      "text/html": [
       "<div>\n",
       "<style scoped>\n",
       "    .dataframe tbody tr th:only-of-type {\n",
       "        vertical-align: middle;\n",
       "    }\n",
       "\n",
       "    .dataframe tbody tr th {\n",
       "        vertical-align: top;\n",
       "    }\n",
       "\n",
       "    .dataframe thead th {\n",
       "        text-align: right;\n",
       "    }\n",
       "</style>\n",
       "<table border=\"1\" class=\"dataframe\">\n",
       "  <thead>\n",
       "    <tr style=\"text-align: right;\">\n",
       "      <th></th>\n",
       "      <th>id</th>\n",
       "      <th>name</th>\n",
       "      <th>first</th>\n",
       "      <th>last</th>\n",
       "      <th>compas_screening_date</th>\n",
       "      <th>sex</th>\n",
       "      <th>dob</th>\n",
       "      <th>age</th>\n",
       "      <th>age_cat</th>\n",
       "      <th>race</th>\n",
       "      <th>...</th>\n",
       "      <th>v_decile_score</th>\n",
       "      <th>v_score_text</th>\n",
       "      <th>v_screening_date</th>\n",
       "      <th>in_custody</th>\n",
       "      <th>out_custody</th>\n",
       "      <th>priors_count.1</th>\n",
       "      <th>start</th>\n",
       "      <th>end</th>\n",
       "      <th>event</th>\n",
       "      <th>two_year_recid</th>\n",
       "    </tr>\n",
       "  </thead>\n",
       "  <tbody>\n",
       "    <tr>\n",
       "      <th>0</th>\n",
       "      <td>1</td>\n",
       "      <td>miguel hernandez</td>\n",
       "      <td>miguel</td>\n",
       "      <td>hernandez</td>\n",
       "      <td>2013-08-14</td>\n",
       "      <td>Male</td>\n",
       "      <td>1947-04-18</td>\n",
       "      <td>69</td>\n",
       "      <td>Greater than 45</td>\n",
       "      <td>Other</td>\n",
       "      <td>...</td>\n",
       "      <td>1</td>\n",
       "      <td>Low</td>\n",
       "      <td>2013-08-14</td>\n",
       "      <td>2014-07-07</td>\n",
       "      <td>2014-07-14</td>\n",
       "      <td>0</td>\n",
       "      <td>0</td>\n",
       "      <td>327</td>\n",
       "      <td>0</td>\n",
       "      <td>0</td>\n",
       "    </tr>\n",
       "    <tr>\n",
       "      <th>1</th>\n",
       "      <td>3</td>\n",
       "      <td>kevon dixon</td>\n",
       "      <td>kevon</td>\n",
       "      <td>dixon</td>\n",
       "      <td>2013-01-27</td>\n",
       "      <td>Male</td>\n",
       "      <td>1982-01-22</td>\n",
       "      <td>34</td>\n",
       "      <td>25 - 45</td>\n",
       "      <td>African-American</td>\n",
       "      <td>...</td>\n",
       "      <td>1</td>\n",
       "      <td>Low</td>\n",
       "      <td>2013-01-27</td>\n",
       "      <td>2013-01-26</td>\n",
       "      <td>2013-02-05</td>\n",
       "      <td>0</td>\n",
       "      <td>9</td>\n",
       "      <td>159</td>\n",
       "      <td>1</td>\n",
       "      <td>1</td>\n",
       "    </tr>\n",
       "    <tr>\n",
       "      <th>2</th>\n",
       "      <td>4</td>\n",
       "      <td>ed philo</td>\n",
       "      <td>ed</td>\n",
       "      <td>philo</td>\n",
       "      <td>2013-04-14</td>\n",
       "      <td>Male</td>\n",
       "      <td>1991-05-14</td>\n",
       "      <td>24</td>\n",
       "      <td>Less than 25</td>\n",
       "      <td>African-American</td>\n",
       "      <td>...</td>\n",
       "      <td>3</td>\n",
       "      <td>Low</td>\n",
       "      <td>2013-04-14</td>\n",
       "      <td>2013-06-16</td>\n",
       "      <td>2013-06-16</td>\n",
       "      <td>4</td>\n",
       "      <td>0</td>\n",
       "      <td>63</td>\n",
       "      <td>0</td>\n",
       "      <td>1</td>\n",
       "    </tr>\n",
       "    <tr>\n",
       "      <th>3</th>\n",
       "      <td>5</td>\n",
       "      <td>marcu brown</td>\n",
       "      <td>marcu</td>\n",
       "      <td>brown</td>\n",
       "      <td>2013-01-13</td>\n",
       "      <td>Male</td>\n",
       "      <td>1993-01-21</td>\n",
       "      <td>23</td>\n",
       "      <td>Less than 25</td>\n",
       "      <td>African-American</td>\n",
       "      <td>...</td>\n",
       "      <td>6</td>\n",
       "      <td>Medium</td>\n",
       "      <td>2013-01-13</td>\n",
       "      <td>NaN</td>\n",
       "      <td>NaN</td>\n",
       "      <td>1</td>\n",
       "      <td>0</td>\n",
       "      <td>1174</td>\n",
       "      <td>0</td>\n",
       "      <td>0</td>\n",
       "    </tr>\n",
       "    <tr>\n",
       "      <th>4</th>\n",
       "      <td>6</td>\n",
       "      <td>bouthy pierrelouis</td>\n",
       "      <td>bouthy</td>\n",
       "      <td>pierrelouis</td>\n",
       "      <td>2013-03-26</td>\n",
       "      <td>Male</td>\n",
       "      <td>1973-01-22</td>\n",
       "      <td>43</td>\n",
       "      <td>25 - 45</td>\n",
       "      <td>Other</td>\n",
       "      <td>...</td>\n",
       "      <td>1</td>\n",
       "      <td>Low</td>\n",
       "      <td>2013-03-26</td>\n",
       "      <td>NaN</td>\n",
       "      <td>NaN</td>\n",
       "      <td>2</td>\n",
       "      <td>0</td>\n",
       "      <td>1102</td>\n",
       "      <td>0</td>\n",
       "      <td>0</td>\n",
       "    </tr>\n",
       "  </tbody>\n",
       "</table>\n",
       "<p>5 rows × 53 columns</p>\n",
       "</div>"
      ],
      "text/plain": [
       "   id                name   first         last compas_screening_date   sex  \\\n",
       "0   1    miguel hernandez  miguel    hernandez            2013-08-14  Male   \n",
       "1   3         kevon dixon   kevon        dixon            2013-01-27  Male   \n",
       "2   4            ed philo      ed        philo            2013-04-14  Male   \n",
       "3   5         marcu brown   marcu        brown            2013-01-13  Male   \n",
       "4   6  bouthy pierrelouis  bouthy  pierrelouis            2013-03-26  Male   \n",
       "\n",
       "          dob  age          age_cat              race  ...  v_decile_score  \\\n",
       "0  1947-04-18   69  Greater than 45             Other  ...               1   \n",
       "1  1982-01-22   34          25 - 45  African-American  ...               1   \n",
       "2  1991-05-14   24     Less than 25  African-American  ...               3   \n",
       "3  1993-01-21   23     Less than 25  African-American  ...               6   \n",
       "4  1973-01-22   43          25 - 45             Other  ...               1   \n",
       "\n",
       "   v_score_text  v_screening_date  in_custody  out_custody  priors_count.1  \\\n",
       "0           Low        2013-08-14  2014-07-07   2014-07-14               0   \n",
       "1           Low        2013-01-27  2013-01-26   2013-02-05               0   \n",
       "2           Low        2013-04-14  2013-06-16   2013-06-16               4   \n",
       "3        Medium        2013-01-13         NaN          NaN               1   \n",
       "4           Low        2013-03-26         NaN          NaN               2   \n",
       "\n",
       "  start   end event two_year_recid  \n",
       "0     0   327     0              0  \n",
       "1     9   159     1              1  \n",
       "2     0    63     0              1  \n",
       "3     0  1174     0              0  \n",
       "4     0  1102     0              0  \n",
       "\n",
       "[5 rows x 53 columns]"
      ]
     },
     "execution_count": 4,
     "metadata": {},
     "output_type": "execute_result"
    }
   ],
   "source": [
    "raw_data.head()"
   ]
  },
  {
   "cell_type": "code",
   "execution_count": 5,
   "metadata": {
    "id": "zpgWBJgldp38"
   },
   "outputs": [],
   "source": [
    "#raw_data.isna().sum()"
   ]
  },
  {
   "cell_type": "markdown",
   "metadata": {
    "id": "y08U2FIPuVNe"
   },
   "source": [
    "Short comparison to other CSVs"
   ]
  },
  {
   "cell_type": "code",
   "execution_count": 6,
   "metadata": {
    "colab": {
     "base_uri": "https://localhost:8080/"
    },
    "id": "Ek9X9d5KuU4i",
    "outputId": "5ab1790d-b53d-4644-ad4f-dae57fdae822"
   },
   "outputs": [
    {
     "name": "stdout",
     "output_type": "stream",
     "text": [
      "(13419, 52)\n"
     ]
    },
    {
     "data": {
      "text/plain": [
       "Index(['id', 'name', 'first', 'last', 'compas_screening_date', 'sex', 'dob',\n",
       "       'age', 'age_cat', 'race', 'juv_fel_count', 'decile_score',\n",
       "       'juv_misd_count', 'juv_other_count', 'priors_count',\n",
       "       'days_b_screening_arrest', 'c_jail_in', 'c_jail_out', 'c_case_number',\n",
       "       'c_offense_date', 'c_arrest_date', 'c_days_from_compas',\n",
       "       'c_charge_degree', 'c_charge_desc', 'is_recid', 'r_case_number',\n",
       "       'r_charge_degree', 'r_days_from_arrest', 'r_offense_date',\n",
       "       'r_charge_desc', 'r_jail_in', 'r_jail_out', 'violent_recid',\n",
       "       'is_violent_recid', 'vr_case_number', 'vr_charge_degree',\n",
       "       'vr_offense_date', 'vr_charge_desc', 'type_of_assessment',\n",
       "       'decile_score.1', 'score_text', 'screening_date',\n",
       "       'v_type_of_assessment', 'v_decile_score', 'v_score_text',\n",
       "       'v_screening_date', 'in_custody', 'out_custody', 'priors_count.1',\n",
       "       'start', 'end', 'event'],\n",
       "      dtype='object')"
      ]
     },
     "execution_count": 6,
     "metadata": {},
     "output_type": "execute_result"
    }
   ],
   "source": [
    "parsed_data = pd.read_csv(\"compas-analysis-master/cox-parsed.csv\")\n",
    "print(parsed_data.shape)\n",
    "parsed_data.columns "
   ]
  },
  {
   "cell_type": "markdown",
   "metadata": {
    "id": "E3W-WM7vvgJ-"
   },
   "source": [
    "how is this dataset diffrent: number of rows is bigger (names double if diffrent), but columns are the same"
   ]
  },
  {
   "cell_type": "code",
   "execution_count": 7,
   "metadata": {
    "colab": {
     "base_uri": "https://localhost:8080/",
     "height": 366
    },
    "id": "7HxMBkrBuzx0",
    "outputId": "ca812166-17ea-4be3-8f85-949ea5fda590"
   },
   "outputs": [
    {
     "data": {
      "text/html": [
       "<div>\n",
       "<style scoped>\n",
       "    .dataframe tbody tr th:only-of-type {\n",
       "        vertical-align: middle;\n",
       "    }\n",
       "\n",
       "    .dataframe tbody tr th {\n",
       "        vertical-align: top;\n",
       "    }\n",
       "\n",
       "    .dataframe thead th {\n",
       "        text-align: right;\n",
       "    }\n",
       "</style>\n",
       "<table border=\"1\" class=\"dataframe\">\n",
       "  <thead>\n",
       "    <tr style=\"text-align: right;\">\n",
       "      <th></th>\n",
       "      <th>id</th>\n",
       "      <th>name</th>\n",
       "      <th>first</th>\n",
       "      <th>last</th>\n",
       "      <th>compas_screening_date</th>\n",
       "      <th>sex</th>\n",
       "      <th>dob</th>\n",
       "      <th>age</th>\n",
       "      <th>age_cat</th>\n",
       "      <th>race</th>\n",
       "      <th>...</th>\n",
       "      <th>v_type_of_assessment</th>\n",
       "      <th>v_decile_score</th>\n",
       "      <th>v_score_text</th>\n",
       "      <th>v_screening_date</th>\n",
       "      <th>in_custody</th>\n",
       "      <th>out_custody</th>\n",
       "      <th>priors_count.1</th>\n",
       "      <th>start</th>\n",
       "      <th>end</th>\n",
       "      <th>event</th>\n",
       "    </tr>\n",
       "  </thead>\n",
       "  <tbody>\n",
       "    <tr>\n",
       "      <th>0</th>\n",
       "      <td>1</td>\n",
       "      <td>miguel hernandez</td>\n",
       "      <td>miguel</td>\n",
       "      <td>hernandez</td>\n",
       "      <td>2013-08-14</td>\n",
       "      <td>Male</td>\n",
       "      <td>1947-04-18</td>\n",
       "      <td>69</td>\n",
       "      <td>Greater than 45</td>\n",
       "      <td>Other</td>\n",
       "      <td>...</td>\n",
       "      <td>Risk of Violence</td>\n",
       "      <td>1</td>\n",
       "      <td>Low</td>\n",
       "      <td>2013-08-14</td>\n",
       "      <td>2014-07-07</td>\n",
       "      <td>2014-07-14</td>\n",
       "      <td>0</td>\n",
       "      <td>0</td>\n",
       "      <td>327</td>\n",
       "      <td>0</td>\n",
       "    </tr>\n",
       "    <tr>\n",
       "      <th>1</th>\n",
       "      <td>1</td>\n",
       "      <td>miguel hernandez</td>\n",
       "      <td>miguel</td>\n",
       "      <td>hernandez</td>\n",
       "      <td>2013-08-14</td>\n",
       "      <td>Male</td>\n",
       "      <td>1947-04-18</td>\n",
       "      <td>69</td>\n",
       "      <td>Greater than 45</td>\n",
       "      <td>Other</td>\n",
       "      <td>...</td>\n",
       "      <td>Risk of Violence</td>\n",
       "      <td>1</td>\n",
       "      <td>Low</td>\n",
       "      <td>2013-08-14</td>\n",
       "      <td>2014-07-07</td>\n",
       "      <td>2014-07-14</td>\n",
       "      <td>0</td>\n",
       "      <td>334</td>\n",
       "      <td>961</td>\n",
       "      <td>0</td>\n",
       "    </tr>\n",
       "    <tr>\n",
       "      <th>2</th>\n",
       "      <td>3</td>\n",
       "      <td>kevon dixon</td>\n",
       "      <td>kevon</td>\n",
       "      <td>dixon</td>\n",
       "      <td>2013-01-27</td>\n",
       "      <td>Male</td>\n",
       "      <td>1982-01-22</td>\n",
       "      <td>34</td>\n",
       "      <td>25 - 45</td>\n",
       "      <td>African-American</td>\n",
       "      <td>...</td>\n",
       "      <td>Risk of Violence</td>\n",
       "      <td>1</td>\n",
       "      <td>Low</td>\n",
       "      <td>2013-01-27</td>\n",
       "      <td>2013-01-26</td>\n",
       "      <td>2013-02-05</td>\n",
       "      <td>0</td>\n",
       "      <td>9</td>\n",
       "      <td>159</td>\n",
       "      <td>1</td>\n",
       "    </tr>\n",
       "    <tr>\n",
       "      <th>3</th>\n",
       "      <td>4</td>\n",
       "      <td>ed philo</td>\n",
       "      <td>ed</td>\n",
       "      <td>philo</td>\n",
       "      <td>2013-04-14</td>\n",
       "      <td>Male</td>\n",
       "      <td>1991-05-14</td>\n",
       "      <td>24</td>\n",
       "      <td>Less than 25</td>\n",
       "      <td>African-American</td>\n",
       "      <td>...</td>\n",
       "      <td>Risk of Violence</td>\n",
       "      <td>3</td>\n",
       "      <td>Low</td>\n",
       "      <td>2013-04-14</td>\n",
       "      <td>2013-06-16</td>\n",
       "      <td>2013-06-16</td>\n",
       "      <td>4</td>\n",
       "      <td>0</td>\n",
       "      <td>63</td>\n",
       "      <td>0</td>\n",
       "    </tr>\n",
       "    <tr>\n",
       "      <th>4</th>\n",
       "      <td>4</td>\n",
       "      <td>ed philo</td>\n",
       "      <td>ed</td>\n",
       "      <td>philo</td>\n",
       "      <td>2013-04-14</td>\n",
       "      <td>Male</td>\n",
       "      <td>1991-05-14</td>\n",
       "      <td>24</td>\n",
       "      <td>Less than 25</td>\n",
       "      <td>African-American</td>\n",
       "      <td>...</td>\n",
       "      <td>Risk of Violence</td>\n",
       "      <td>3</td>\n",
       "      <td>Low</td>\n",
       "      <td>2013-04-14</td>\n",
       "      <td>2013-06-16</td>\n",
       "      <td>2013-06-16</td>\n",
       "      <td>4</td>\n",
       "      <td>63</td>\n",
       "      <td>64</td>\n",
       "      <td>1</td>\n",
       "    </tr>\n",
       "  </tbody>\n",
       "</table>\n",
       "<p>5 rows × 52 columns</p>\n",
       "</div>"
      ],
      "text/plain": [
       "   id              name   first       last compas_screening_date   sex  \\\n",
       "0   1  miguel hernandez  miguel  hernandez            2013-08-14  Male   \n",
       "1   1  miguel hernandez  miguel  hernandez            2013-08-14  Male   \n",
       "2   3       kevon dixon   kevon      dixon            2013-01-27  Male   \n",
       "3   4          ed philo      ed      philo            2013-04-14  Male   \n",
       "4   4          ed philo      ed      philo            2013-04-14  Male   \n",
       "\n",
       "          dob  age          age_cat              race  ...  \\\n",
       "0  1947-04-18   69  Greater than 45             Other  ...   \n",
       "1  1947-04-18   69  Greater than 45             Other  ...   \n",
       "2  1982-01-22   34          25 - 45  African-American  ...   \n",
       "3  1991-05-14   24     Less than 25  African-American  ...   \n",
       "4  1991-05-14   24     Less than 25  African-American  ...   \n",
       "\n",
       "   v_type_of_assessment  v_decile_score  v_score_text  v_screening_date  \\\n",
       "0      Risk of Violence               1           Low        2013-08-14   \n",
       "1      Risk of Violence               1           Low        2013-08-14   \n",
       "2      Risk of Violence               1           Low        2013-01-27   \n",
       "3      Risk of Violence               3           Low        2013-04-14   \n",
       "4      Risk of Violence               3           Low        2013-04-14   \n",
       "\n",
       "   in_custody  out_custody priors_count.1 start  end event  \n",
       "0  2014-07-07   2014-07-14              0     0  327     0  \n",
       "1  2014-07-07   2014-07-14              0   334  961     0  \n",
       "2  2013-01-26   2013-02-05              0     9  159     1  \n",
       "3  2013-06-16   2013-06-16              4     0   63     0  \n",
       "4  2013-06-16   2013-06-16              4    63   64     1  \n",
       "\n",
       "[5 rows x 52 columns]"
      ]
     },
     "execution_count": 7,
     "metadata": {},
     "output_type": "execute_result"
    }
   ],
   "source": [
    "parsed_data.head()"
   ]
  },
  {
   "cell_type": "markdown",
   "metadata": {
    "id": "ReAis1bfeOPK"
   },
   "source": [
    "# Data Cleaning"
   ]
  },
  {
   "cell_type": "code",
   "execution_count": 8,
   "metadata": {
    "colab": {
     "base_uri": "https://localhost:8080/"
    },
    "id": "bsdDouc1dr9x",
    "outputId": "11651fbf-da34-457a-ec4d-130b0351e8da"
   },
   "outputs": [
    {
     "data": {
      "text/plain": [
       "6172"
      ]
     },
     "execution_count": 8,
     "metadata": {},
     "output_type": "execute_result"
    }
   ],
   "source": [
    "df = raw_data.loc[\n",
    "    (raw_data['days_b_screening_arrest'] <= 30) &\n",
    "    (raw_data['days_b_screening_arrest'] >= -30) &\n",
    "    (raw_data['is_recid'] != -1) &\n",
    "    (raw_data['c_charge_degree'] != \"O\") &\n",
    "    (raw_data['score_text'] != \"N/A\")\n",
    "]\n",
    "len(df)"
   ]
  },
  {
   "cell_type": "code",
   "execution_count": 9,
   "metadata": {},
   "outputs": [
    {
     "data": {
      "text/plain": [
       "False"
      ]
     },
     "execution_count": 9,
     "metadata": {},
     "output_type": "execute_result"
    }
   ],
   "source": [
    "df[[\"is_recid\", \"two_year_recid\"]]\n",
    "df['is_recid'].equals(df['two_year_recid'])"
   ]
  },
  {
   "cell_type": "markdown",
   "metadata": {
    "id": "e9mV_C6EeLYu"
   },
   "source": [
    "# Exploratory Analysis"
   ]
  },
  {
   "cell_type": "code",
   "execution_count": 10,
   "metadata": {
    "colab": {
     "base_uri": "https://localhost:8080/"
    },
    "id": "ygdSfPnRdvX-",
    "outputId": "d5fe51ca-1e13-437a-b292-00444f53d01d"
   },
   "outputs": [
    {
     "data": {
      "text/plain": [
       "African-American    3175\n",
       "Caucasian           2103\n",
       "Hispanic             509\n",
       "Other                343\n",
       "Asian                 31\n",
       "Native American       11\n",
       "Name: race, dtype: int64"
      ]
     },
     "execution_count": 10,
     "metadata": {},
     "output_type": "execute_result"
    }
   ],
   "source": [
    "# Number of people per race\n",
    "df['race'].value_counts()"
   ]
  },
  {
   "cell_type": "code",
   "execution_count": 11,
   "metadata": {
    "colab": {
     "base_uri": "https://localhost:8080/",
     "height": 175
    },
    "id": "ZzKlIkTNd0QC",
    "outputId": "912f5958-5aab-41c6-e198-f5bfa16c5cf9"
   },
   "outputs": [
    {
     "data": {
      "text/html": [
       "<div>\n",
       "<style scoped>\n",
       "    .dataframe tbody tr th:only-of-type {\n",
       "        vertical-align: middle;\n",
       "    }\n",
       "\n",
       "    .dataframe tbody tr th {\n",
       "        vertical-align: top;\n",
       "    }\n",
       "\n",
       "    .dataframe thead th {\n",
       "        text-align: right;\n",
       "    }\n",
       "</style>\n",
       "<table border=\"1\" class=\"dataframe\">\n",
       "  <thead>\n",
       "    <tr style=\"text-align: right;\">\n",
       "      <th>race</th>\n",
       "      <th>African-American</th>\n",
       "      <th>Asian</th>\n",
       "      <th>Caucasian</th>\n",
       "      <th>Hispanic</th>\n",
       "      <th>Native American</th>\n",
       "      <th>Other</th>\n",
       "    </tr>\n",
       "    <tr>\n",
       "      <th>score_text</th>\n",
       "      <th></th>\n",
       "      <th></th>\n",
       "      <th></th>\n",
       "      <th></th>\n",
       "      <th></th>\n",
       "      <th></th>\n",
       "    </tr>\n",
       "  </thead>\n",
       "  <tbody>\n",
       "    <tr>\n",
       "      <th>High</th>\n",
       "      <td>845</td>\n",
       "      <td>3</td>\n",
       "      <td>223</td>\n",
       "      <td>47</td>\n",
       "      <td>4</td>\n",
       "      <td>22</td>\n",
       "    </tr>\n",
       "    <tr>\n",
       "      <th>Low</th>\n",
       "      <td>1346</td>\n",
       "      <td>24</td>\n",
       "      <td>1407</td>\n",
       "      <td>368</td>\n",
       "      <td>3</td>\n",
       "      <td>273</td>\n",
       "    </tr>\n",
       "    <tr>\n",
       "      <th>Medium</th>\n",
       "      <td>984</td>\n",
       "      <td>4</td>\n",
       "      <td>473</td>\n",
       "      <td>94</td>\n",
       "      <td>4</td>\n",
       "      <td>48</td>\n",
       "    </tr>\n",
       "  </tbody>\n",
       "</table>\n",
       "</div>"
      ],
      "text/plain": [
       "race        African-American  Asian  Caucasian  Hispanic  Native American  \\\n",
       "score_text                                                                  \n",
       "High                     845      3        223        47                4   \n",
       "Low                     1346     24       1407       368                3   \n",
       "Medium                   984      4        473        94                4   \n",
       "\n",
       "race        Other  \n",
       "score_text         \n",
       "High           22  \n",
       "Low           273  \n",
       "Medium         48  "
      ]
     },
     "execution_count": 11,
     "metadata": {},
     "output_type": "execute_result"
    }
   ],
   "source": [
    "# Race by ccore text\n",
    "pd.crosstab(df['score_text'],df['race'])"
   ]
  },
  {
   "cell_type": "code",
   "execution_count": 12,
   "metadata": {
    "colab": {
     "base_uri": "https://localhost:8080/",
     "height": 298
    },
    "id": "FzO29N4Ad4Fh",
    "outputId": "98cffbf6-c470-4717-dfa5-2f92148beb33"
   },
   "outputs": [
    {
     "data": {
      "text/plain": [
       "<AxesSubplot:title={'center':'Score Text by Race'}, ylabel='Race'>"
      ]
     },
     "execution_count": 12,
     "metadata": {},
     "output_type": "execute_result"
    },
    {
     "data": {
      "image/png": "[encoded data removed]",
      "text/plain": [
       "<Figure size 576x288 with 1 Axes>"
      ]
     },
     "metadata": {
      "needs_background": "light"
     },
     "output_type": "display_data"
    }
   ],
   "source": [
    "score_text_by_race = df.groupby(['race','score_text'], sort = True)['id'].size()\n",
    "score_text_by_race.unstack().plot(\n",
    "    kind = \"barh\", \n",
    "    title = \"Score Text by Race\",\n",
    "    ylabel = \"Score Text\",\n",
    "    xlabel = \"Race\",\n",
    "    figsize = (8,4),\n",
    "    stacked = True\n",
    ")"
   ]
  },
  {
   "cell_type": "code",
   "execution_count": 13,
   "metadata": {
    "id": "kd0IeDP1d5lS"
   },
   "outputs": [],
   "source": [
    "# Create a dataframe with only the african-americans, caucasians and hispanics\n",
    "df_three = df.loc[df['race'].isin([\"African-American\",\"Caucasian\",\"Hispanic\"])]"
   ]
  },
  {
   "cell_type": "code",
   "execution_count": 14,
   "metadata": {
    "colab": {
     "base_uri": "https://localhost:8080/",
     "height": 363
    },
    "id": "pPF7-kJzd7vP",
    "outputId": "55e11330-8dd7-45ee-9d17-062298634af2"
   },
   "outputs": [
    {
     "data": {
      "text/html": [
       "<div>\n",
       "<style scoped>\n",
       "    .dataframe tbody tr th:only-of-type {\n",
       "        vertical-align: middle;\n",
       "    }\n",
       "\n",
       "    .dataframe tbody tr th {\n",
       "        vertical-align: top;\n",
       "    }\n",
       "\n",
       "    .dataframe thead th {\n",
       "        text-align: right;\n",
       "    }\n",
       "</style>\n",
       "<table border=\"1\" class=\"dataframe\">\n",
       "  <thead>\n",
       "    <tr style=\"text-align: right;\">\n",
       "      <th></th>\n",
       "      <th></th>\n",
       "      <th>score_text</th>\n",
       "      <th>prop</th>\n",
       "    </tr>\n",
       "    <tr>\n",
       "      <th>race</th>\n",
       "      <th>score_text</th>\n",
       "      <th></th>\n",
       "      <th></th>\n",
       "    </tr>\n",
       "  </thead>\n",
       "  <tbody>\n",
       "    <tr>\n",
       "      <th rowspan=\"3\" valign=\"top\">African-American</th>\n",
       "      <th>High</th>\n",
       "      <td>845</td>\n",
       "      <td>26.614173</td>\n",
       "    </tr>\n",
       "    <tr>\n",
       "      <th>Low</th>\n",
       "      <td>1346</td>\n",
       "      <td>42.393701</td>\n",
       "    </tr>\n",
       "    <tr>\n",
       "      <th>Medium</th>\n",
       "      <td>984</td>\n",
       "      <td>30.992126</td>\n",
       "    </tr>\n",
       "    <tr>\n",
       "      <th rowspan=\"3\" valign=\"top\">Caucasian</th>\n",
       "      <th>High</th>\n",
       "      <td>223</td>\n",
       "      <td>10.603899</td>\n",
       "    </tr>\n",
       "    <tr>\n",
       "      <th>Low</th>\n",
       "      <td>1407</td>\n",
       "      <td>66.904422</td>\n",
       "    </tr>\n",
       "    <tr>\n",
       "      <th>Medium</th>\n",
       "      <td>473</td>\n",
       "      <td>22.491679</td>\n",
       "    </tr>\n",
       "    <tr>\n",
       "      <th rowspan=\"3\" valign=\"top\">Hispanic</th>\n",
       "      <th>High</th>\n",
       "      <td>47</td>\n",
       "      <td>9.233792</td>\n",
       "    </tr>\n",
       "    <tr>\n",
       "      <th>Low</th>\n",
       "      <td>368</td>\n",
       "      <td>72.298625</td>\n",
       "    </tr>\n",
       "    <tr>\n",
       "      <th>Medium</th>\n",
       "      <td>94</td>\n",
       "      <td>18.467583</td>\n",
       "    </tr>\n",
       "  </tbody>\n",
       "</table>\n",
       "</div>"
      ],
      "text/plain": [
       "                             score_text       prop\n",
       "race             score_text                       \n",
       "African-American High               845  26.614173\n",
       "                 Low               1346  42.393701\n",
       "                 Medium             984  30.992126\n",
       "Caucasian        High               223  10.603899\n",
       "                 Low               1407  66.904422\n",
       "                 Medium             473  22.491679\n",
       "Hispanic         High                47   9.233792\n",
       "                 Low                368  72.298625\n",
       "                 Medium              94  18.467583"
      ]
     },
     "execution_count": 14,
     "metadata": {},
     "output_type": "execute_result"
    }
   ],
   "source": [
    "# Calculate the total and proportions of score texts in each race group\n",
    "score_text_by_race_prop= df_three.groupby(['race', 'score_text']).agg({'score_text': 'count'})\n",
    "score_text_by_race_prop['prop'] = score_text_by_race_prop.groupby(level = 0).apply(lambda x:100 * x / float(x.sum()))\n",
    "score_text_by_race_prop"
   ]
  },
  {
   "cell_type": "code",
   "execution_count": 15,
   "metadata": {
    "colab": {
     "base_uri": "https://localhost:8080/"
    },
    "id": "esMOBXDHd-Ew",
    "outputId": "a359abbf-c9f9-4440-ad4d-aa28c6b0eb2b"
   },
   "outputs": [
    {
     "data": {
      "text/plain": [
       "race\n",
       "African-American    5.276850\n",
       "Caucasian           3.635283\n",
       "Hispanic            3.383104\n",
       "Name: decile_score, dtype: float64"
      ]
     },
     "execution_count": 15,
     "metadata": {},
     "output_type": "execute_result"
    }
   ],
   "source": [
    "# Mean decile scores per race\n",
    "df_three.groupby('race')['decile_score'].mean()"
   ]
  },
  {
   "cell_type": "code",
   "execution_count": 16,
   "metadata": {
    "colab": {
     "base_uri": "https://localhost:8080/",
     "height": 312
    },
    "id": "oclWFcIAd_Du",
    "outputId": "dd23663a-2283-4c4c-ff81-77b150b6f44d"
   },
   "outputs": [
    {
     "data": {
      "text/plain": [
       "Text(0, 0.5, 'Count')"
      ]
     },
     "execution_count": 16,
     "metadata": {},
     "output_type": "execute_result"
    },
    {
     "data": {
      "image/png": "[encoded data removed]",
      "text/plain": [
       "<Figure size 432x288 with 1 Axes>"
      ]
     },
     "metadata": {
      "needs_background": "light"
     },
     "output_type": "display_data"
    }
   ],
   "source": [
    "# Distribution of decile scores per race\n",
    "sns.countplot(\n",
    "    data = df_three,\n",
    "    x = 'decile_score',\n",
    "    hue = 'race',\n",
    "    palette = [\"#F97306\",\"#0343DF\",\"#00FF00\"]\n",
    ")\n",
    "plt.title('Distribution of Decile Scores by Race')\n",
    "plt.xlabel('Decile Score')\n",
    "plt.ylabel('Count')"
   ]
  },
  {
   "cell_type": "markdown",
   "metadata": {
    "id": "9GPrMjhxeXfi"
   },
   "source": [
    "# COMPAS Score Prediction"
   ]
  },
  {
   "cell_type": "markdown",
   "metadata": {
    "id": "eeC2UCLOxeCq"
   },
   "source": [
    "# Reproduction of COMPAS analysis"
   ]
  },
  {
   "cell_type": "code",
   "execution_count": 17,
   "metadata": {
    "id": "1qKttRZNxibU"
   },
   "outputs": [],
   "source": [
    "# Create a dataframe with only the african-americans and caucasians\n",
    "df_binary = df.loc[df['race'].isin([\"African-American\",\"Caucasian\"])]"
   ]
  },
  {
   "cell_type": "code",
   "execution_count": 18,
   "metadata": {
    "colab": {
     "base_uri": "https://localhost:8080/",
     "height": 366
    },
    "id": "xrz7uSqAgrNl",
    "outputId": "67f70f91-1954-46c7-e6e3-903d1d8db475"
   },
   "outputs": [
    {
     "data": {
      "text/html": [
       "<div>\n",
       "<style scoped>\n",
       "    .dataframe tbody tr th:only-of-type {\n",
       "        vertical-align: middle;\n",
       "    }\n",
       "\n",
       "    .dataframe tbody tr th {\n",
       "        vertical-align: top;\n",
       "    }\n",
       "\n",
       "    .dataframe thead th {\n",
       "        text-align: right;\n",
       "    }\n",
       "</style>\n",
       "<table border=\"1\" class=\"dataframe\">\n",
       "  <thead>\n",
       "    <tr style=\"text-align: right;\">\n",
       "      <th></th>\n",
       "      <th>id</th>\n",
       "      <th>name</th>\n",
       "      <th>first</th>\n",
       "      <th>last</th>\n",
       "      <th>compas_screening_date</th>\n",
       "      <th>sex</th>\n",
       "      <th>dob</th>\n",
       "      <th>age</th>\n",
       "      <th>age_cat</th>\n",
       "      <th>race</th>\n",
       "      <th>...</th>\n",
       "      <th>v_decile_score</th>\n",
       "      <th>v_score_text</th>\n",
       "      <th>v_screening_date</th>\n",
       "      <th>in_custody</th>\n",
       "      <th>out_custody</th>\n",
       "      <th>priors_count.1</th>\n",
       "      <th>start</th>\n",
       "      <th>end</th>\n",
       "      <th>event</th>\n",
       "      <th>two_year_recid</th>\n",
       "    </tr>\n",
       "  </thead>\n",
       "  <tbody>\n",
       "    <tr>\n",
       "      <th>1</th>\n",
       "      <td>3</td>\n",
       "      <td>kevon dixon</td>\n",
       "      <td>kevon</td>\n",
       "      <td>dixon</td>\n",
       "      <td>2013-01-27</td>\n",
       "      <td>Male</td>\n",
       "      <td>1982-01-22</td>\n",
       "      <td>34</td>\n",
       "      <td>25 - 45</td>\n",
       "      <td>African-American</td>\n",
       "      <td>...</td>\n",
       "      <td>1</td>\n",
       "      <td>Low</td>\n",
       "      <td>2013-01-27</td>\n",
       "      <td>2013-01-26</td>\n",
       "      <td>2013-02-05</td>\n",
       "      <td>0</td>\n",
       "      <td>9</td>\n",
       "      <td>159</td>\n",
       "      <td>1</td>\n",
       "      <td>1</td>\n",
       "    </tr>\n",
       "    <tr>\n",
       "      <th>2</th>\n",
       "      <td>4</td>\n",
       "      <td>ed philo</td>\n",
       "      <td>ed</td>\n",
       "      <td>philo</td>\n",
       "      <td>2013-04-14</td>\n",
       "      <td>Male</td>\n",
       "      <td>1991-05-14</td>\n",
       "      <td>24</td>\n",
       "      <td>Less than 25</td>\n",
       "      <td>African-American</td>\n",
       "      <td>...</td>\n",
       "      <td>3</td>\n",
       "      <td>Low</td>\n",
       "      <td>2013-04-14</td>\n",
       "      <td>2013-06-16</td>\n",
       "      <td>2013-06-16</td>\n",
       "      <td>4</td>\n",
       "      <td>0</td>\n",
       "      <td>63</td>\n",
       "      <td>0</td>\n",
       "      <td>1</td>\n",
       "    </tr>\n",
       "    <tr>\n",
       "      <th>6</th>\n",
       "      <td>8</td>\n",
       "      <td>edward riddle</td>\n",
       "      <td>edward</td>\n",
       "      <td>riddle</td>\n",
       "      <td>2014-02-19</td>\n",
       "      <td>Male</td>\n",
       "      <td>1974-07-23</td>\n",
       "      <td>41</td>\n",
       "      <td>25 - 45</td>\n",
       "      <td>Caucasian</td>\n",
       "      <td>...</td>\n",
       "      <td>2</td>\n",
       "      <td>Low</td>\n",
       "      <td>2014-02-19</td>\n",
       "      <td>2014-03-31</td>\n",
       "      <td>2014-04-18</td>\n",
       "      <td>14</td>\n",
       "      <td>5</td>\n",
       "      <td>40</td>\n",
       "      <td>1</td>\n",
       "      <td>1</td>\n",
       "    </tr>\n",
       "    <tr>\n",
       "      <th>8</th>\n",
       "      <td>10</td>\n",
       "      <td>elizabeth thieme</td>\n",
       "      <td>elizabeth</td>\n",
       "      <td>thieme</td>\n",
       "      <td>2014-03-16</td>\n",
       "      <td>Female</td>\n",
       "      <td>1976-06-03</td>\n",
       "      <td>39</td>\n",
       "      <td>25 - 45</td>\n",
       "      <td>Caucasian</td>\n",
       "      <td>...</td>\n",
       "      <td>1</td>\n",
       "      <td>Low</td>\n",
       "      <td>2014-03-16</td>\n",
       "      <td>2014-03-15</td>\n",
       "      <td>2014-03-18</td>\n",
       "      <td>0</td>\n",
       "      <td>2</td>\n",
       "      <td>747</td>\n",
       "      <td>0</td>\n",
       "      <td>0</td>\n",
       "    </tr>\n",
       "    <tr>\n",
       "      <th>10</th>\n",
       "      <td>14</td>\n",
       "      <td>benjamin franc</td>\n",
       "      <td>benjamin</td>\n",
       "      <td>franc</td>\n",
       "      <td>2013-11-26</td>\n",
       "      <td>Male</td>\n",
       "      <td>1988-06-01</td>\n",
       "      <td>27</td>\n",
       "      <td>25 - 45</td>\n",
       "      <td>Caucasian</td>\n",
       "      <td>...</td>\n",
       "      <td>4</td>\n",
       "      <td>Low</td>\n",
       "      <td>2013-11-26</td>\n",
       "      <td>2013-11-25</td>\n",
       "      <td>2013-11-26</td>\n",
       "      <td>0</td>\n",
       "      <td>0</td>\n",
       "      <td>857</td>\n",
       "      <td>0</td>\n",
       "      <td>0</td>\n",
       "    </tr>\n",
       "  </tbody>\n",
       "</table>\n",
       "<p>5 rows × 53 columns</p>\n",
       "</div>"
      ],
      "text/plain": [
       "    id              name      first    last compas_screening_date     sex  \\\n",
       "1    3       kevon dixon      kevon   dixon            2013-01-27    Male   \n",
       "2    4          ed philo         ed   philo            2013-04-14    Male   \n",
       "6    8     edward riddle     edward  riddle            2014-02-19    Male   \n",
       "8   10  elizabeth thieme  elizabeth  thieme            2014-03-16  Female   \n",
       "10  14    benjamin franc   benjamin   franc            2013-11-26    Male   \n",
       "\n",
       "           dob  age       age_cat              race  ...  v_decile_score  \\\n",
       "1   1982-01-22   34       25 - 45  African-American  ...               1   \n",
       "2   1991-05-14   24  Less than 25  African-American  ...               3   \n",
       "6   1974-07-23   41       25 - 45         Caucasian  ...               2   \n",
       "8   1976-06-03   39       25 - 45         Caucasian  ...               1   \n",
       "10  1988-06-01   27       25 - 45         Caucasian  ...               4   \n",
       "\n",
       "    v_score_text  v_screening_date  in_custody  out_custody  priors_count.1  \\\n",
       "1            Low        2013-01-27  2013-01-26   2013-02-05               0   \n",
       "2            Low        2013-04-14  2013-06-16   2013-06-16               4   \n",
       "6            Low        2014-02-19  2014-03-31   2014-04-18              14   \n",
       "8            Low        2014-03-16  2014-03-15   2014-03-18               0   \n",
       "10           Low        2013-11-26  2013-11-25   2013-11-26               0   \n",
       "\n",
       "   start  end event two_year_recid  \n",
       "1      9  159     1              1  \n",
       "2      0   63     0              1  \n",
       "6      5   40     1              1  \n",
       "8      2  747     0              0  \n",
       "10     0  857     0              0  \n",
       "\n",
       "[5 rows x 53 columns]"
      ]
     },
     "execution_count": 18,
     "metadata": {},
     "output_type": "execute_result"
    }
   ],
   "source": [
    "df_binary.head()"
   ]
  },
  {
   "cell_type": "markdown",
   "metadata": {
    "id": "em36XsXNmYZy"
   },
   "source": [
    "### Distribution of COMPAS score among whtites and blacks (plot) & compare with Distribution of real recidivism among whites and blacks (plot)"
   ]
  },
  {
   "cell_type": "code",
   "execution_count": 19,
   "metadata": {
    "id": "XQhrk-b3kQEN"
   },
   "outputs": [],
   "source": [
    "# Calculate the total and proportions of decile scores per race\n",
    "decile_score_by_race_prop= df_binary.groupby(['race', 'decile_score']).agg({'decile_score': 'count'})\n",
    "decile_score_by_race_prop['prop'] = decile_score_by_race_prop.groupby(level = 0).apply(lambda x:100 * x / float(x.sum()))"
   ]
  },
  {
   "cell_type": "code",
   "execution_count": 20,
   "metadata": {
    "id": "vpM6etORkpw8"
   },
   "outputs": [],
   "source": [
    "# Calculate the total and proportions of recidivates per race\n",
    "is_recid_by_race_prop= df_binary.groupby(['race', 'is_recid']).agg({'decile_score': 'count'})\n",
    "is_recid_by_race_prop['prop'] = is_recid_by_race_prop.groupby(level = 0).apply(lambda x:100 * x / float(x.sum()))"
   ]
  },
  {
   "cell_type": "code",
   "execution_count": 21,
   "metadata": {
    "colab": {
     "base_uri": "https://localhost:8080/",
     "height": 312
    },
    "id": "LBoZMxSCgyRg",
    "outputId": "73f93e7a-2742-461f-97d5-d5dcd91315b4"
   },
   "outputs": [
    {
     "data": {
      "text/plain": [
       "Text(0, 0.5, 'Count')"
      ]
     },
     "execution_count": 21,
     "metadata": {},
     "output_type": "execute_result"
    },
    {
     "data": {
      "image/png": "[encoded data removed]",
      "text/plain": [
       "<Figure size 432x288 with 1 Axes>"
      ]
     },
     "metadata": {
      "needs_background": "light"
     },
     "output_type": "display_data"
    }
   ],
   "source": [
    "sns.countplot(\n",
    "    data = df_binary,\n",
    "    x = 'decile_score',\n",
    "    hue = 'race',\n",
    "    palette = [\"#F97306\",\"#0343DF\",\"#00FF00\"]\n",
    ")\n",
    "plt.title('Distribution of Decile Scores by Race')\n",
    "plt.xlabel('Decile Score')\n",
    "plt.ylabel('Count')"
   ]
  },
  {
   "cell_type": "code",
   "execution_count": 22,
   "metadata": {
    "colab": {
     "base_uri": "https://localhost:8080/",
     "height": 312
    },
    "id": "PbmUL6ixlCVo",
    "outputId": "01b12885-8d89-4c85-9e30-3bd02fc7bf62"
   },
   "outputs": [
    {
     "data": {
      "text/plain": [
       "Text(0, 0.5, 'Count')"
      ]
     },
     "execution_count": 22,
     "metadata": {},
     "output_type": "execute_result"
    },
    {
     "data": {
      "image/png": "[encoded data removed]",
      "text/plain": [
       "<Figure size 432x288 with 1 Axes>"
      ]
     },
     "metadata": {
      "needs_background": "light"
     },
     "output_type": "display_data"
    }
   ],
   "source": [
    "sns.countplot(\n",
    "    data = df_binary,\n",
    "    x = 'is_recid',\n",
    "    hue = 'race',\n",
    "    palette = [\"#F97306\",\"#0343DF\",\"#00FF00\"]\n",
    ")\n",
    "plt.title('Distribution of recidivism by Race')\n",
    "plt.xlabel('Recidivism')\n",
    "plt.ylabel('Count')"
   ]
  },
  {
   "cell_type": "markdown",
   "metadata": {
    "id": "Lb-QwPcbmiQZ"
   },
   "source": [
    "### Most predictive factors in logistic model (with controlling for other factors) for score"
   ]
  },
  {
   "cell_type": "code",
   "execution_count": 23,
   "metadata": {
    "id": "_Xwes0c7wzQ3"
   },
   "outputs": [],
   "source": [
    "# As in the ProPublica article the score text \"medium\" and \"high\" are labeled \"high\", the score text \"low\" stays the same in order to have binary score texts\n",
    "df['score_text_binary'] = df['score_text'].replace(['Medium'], 'High')"
   ]
  },
  {
   "cell_type": "code",
   "execution_count": 24,
   "metadata": {
    "id": "ohbmQUcEw3EZ"
   },
   "outputs": [],
   "source": [
    "# In order to be able to use this labeling in the regression, the labels need to be numerical\n",
    "df['score_text_binary']= df['score_text_binary'].replace(['High'], 1)\n",
    "df['score_text_binary']= df['score_text_binary'].replace(['Low'], 0)"
   ]
  },
  {
   "cell_type": "markdown",
   "metadata": {
    "id": "PRFh4Zj0wUi1"
   },
   "source": [
    "ProPublica Claim: Black defendants are 45% more likely than white defendants to receive a higher score correcting for the seriousness of their crime, previous arrests, and future criminal behavior (when adjusted for other variables, because in their table they show 0.47)."
   ]
  },
  {
   "cell_type": "code",
   "execution_count": 25,
   "metadata": {
    "colab": {
     "base_uri": "https://localhost:8080/"
    },
    "id": "sDdMcWXiWJVH",
    "outputId": "63c526f8-4687-4330-bd55-d2a04be1c33d"
   },
   "outputs": [
    {
     "name": "stdout",
     "output_type": "stream",
     "text": [
      "Optimization terminated successfully.\n",
      "         Current function value: 0.499708\n",
      "         Iterations 6\n",
      "                           Logit Regression Results                           \n",
      "==============================================================================\n",
      "Dep. Variable:      score_text_binary   No. Observations:                 6172\n",
      "Model:                          Logit   Df Residuals:                     6160\n",
      "Method:                           MLE   Df Model:                           11\n",
      "Date:                Sun, 12 Feb 2023   Pseudo R-squ.:                  0.2729\n",
      "Time:                        10:59:16   Log-Likelihood:                -3084.2\n",
      "converged:                       True   LL-Null:                       -4241.7\n",
      "Covariance Type:            nonrobust   LLR p-value:                     0.000\n",
      "=================================================================================================================================\n",
      "                                                                    coef    std err          z      P>|z|      [0.025      0.975]\n",
      "---------------------------------------------------------------------------------------------------------------------------------\n",
      "Intercept                                                        -1.5255      0.079    -19.430      0.000      -1.679      -1.372\n",
      "C(age_cat)[T.Greater than 45]                                    -1.3556      0.099    -13.682      0.000      -1.550      -1.161\n",
      "C(age_cat)[T.Less than 25]                                        1.3084      0.076     17.232      0.000       1.160       1.457\n",
      "C(race, Treatment(reference=\"Caucasian\"))[T.African-American]     0.4772      0.069      6.881      0.000       0.341       0.613\n",
      "C(race, Treatment(reference=\"Caucasian\"))[T.Asian]               -0.2544      0.478     -0.532      0.595      -1.192       0.683\n",
      "C(race, Treatment(reference=\"Caucasian\"))[T.Hispanic]            -0.4284      0.128     -3.344      0.001      -0.680      -0.177\n",
      "C(race, Treatment(reference=\"Caucasian\"))[T.Native American]      1.3942      0.766      1.820      0.069      -0.107       2.896\n",
      "C(race, Treatment(reference=\"Caucasian\"))[T.Other]               -0.8263      0.162     -5.098      0.000      -1.144      -0.509\n",
      "C(sex, Treatment(reference=\"Male\"))[T.Female]                     0.2213      0.080      2.783      0.005       0.065       0.377\n",
      "C(c_charge_degree)[T.M]                                          -0.3112      0.067     -4.677      0.000      -0.442      -0.181\n",
      "priors_count                                                      0.2689      0.011     24.221      0.000       0.247       0.291\n",
      "two_year_recid                                                    0.6859      0.064     10.713      0.000       0.560       0.811\n",
      "=================================================================================================================================\n"
     ]
    }
   ],
   "source": [
    "# Logistic Regression: Where the intercept doesn't take the right value automatically, we set it via the reference. \n",
    "# The Intercept shall be: white, male, aged between 25-45\n",
    "est = smf.logit('score_text_binary ~ C(age_cat) + C(race, Treatment(reference=\"Caucasian\")) + C(sex,Treatment(reference=\"Male\")) + priors_count + C(c_charge_degree) + two_year_recid', df).fit()\n",
    "print(est.summary())"
   ]
  },
  {
   "cell_type": "code",
   "execution_count": 26,
   "metadata": {
    "colab": {
     "base_uri": "https://localhost:8080/"
    },
    "id": "5nMdy9bJwj1s",
    "outputId": "b2469f27-9be6-4240-da36-5b6953f8c70a"
   },
   "outputs": [
    {
     "data": {
      "text/plain": [
       "1.452825407001621"
      ]
     },
     "execution_count": 26,
     "metadata": {},
     "output_type": "execute_result"
    }
   ],
   "source": [
    "# Controlling for other variables by taking the Intercept to have a control and a treatment group\n",
    "ControlgGroup= np.exp(-1.5255)/(1+ np.exp(-1.5255))\n",
    "FinalClaim= np.exp(0.4772)/(1- ControlgGroup + (ControlgGroup * np.exp(0.4772)))\n",
    "FinalClaim\n",
    "# Interpretation: Black people are 45% more likely to be assesed as high risk"
   ]
  },
  {
   "cell_type": "markdown",
   "metadata": {
    "id": "EonI0grX1H3a"
   },
   "source": [
    "## Cox analysis : in progress\n"
   ]
  },
  {
   "cell_type": "code",
   "execution_count": 27,
   "metadata": {
    "colab": {
     "base_uri": "https://localhost:8080/"
    },
    "id": "2VaNzwRk1GiA",
    "outputId": "7a77dcb5-40f1-49d9-b238-e41717432371"
   },
   "outputs": [
    {
     "name": "stdout",
     "output_type": "stream",
     "text": [
      "(10325, 48)\n"
     ]
    },
    {
     "data": {
      "text/plain": [
       "Index(['id', 'sex', 'dob', 'age', 'age_cat', 'race', 'juv_fel_count',\n",
       "       'decile_score', 'juv_misd_count', 'juv_other_count', 'priors_count',\n",
       "       'days_b_screening_arrest', 'c_jail_in', 'c_jail_out', 'c_case_number',\n",
       "       'c_offense_date', 'c_arrest_date', 'c_days_from_compas',\n",
       "       'c_charge_degree', 'c_charge_desc', 'is_recid', 'r_case_number',\n",
       "       'r_charge_degree', 'r_days_from_arrest', 'r_offense_date',\n",
       "       'r_charge_desc', 'r_jail_in', 'r_jail_out', 'violent_recid',\n",
       "       'is_violent_recid', 'vr_case_number', 'vr_charge_degree',\n",
       "       'vr_offense_date', 'vr_charge_desc', 'type_of_assessment',\n",
       "       'decile_score.1', 'score_text', 'screening_date',\n",
       "       'v_type_of_assessment', 'v_decile_score', 'v_score_text',\n",
       "       'v_screening_date', 'in_custody', 'out_custody', 'priors_count.1',\n",
       "       'start', 'end', 'event'],\n",
       "      dtype='object')"
      ]
     },
     "execution_count": 27,
     "metadata": {},
     "output_type": "execute_result"
    }
   ],
   "source": [
    "# Cleaning as ProPublica article\n",
    "parsed_filter= parsed_data.loc[\n",
    "    (parsed_data['score_text'] != 'N/A') &\n",
    "    (parsed_data['end'] > parsed_data['start'])]\n",
    "\n",
    "\n",
    "parsed_not_duplicates= parsed_filter.drop_duplicates(subset='id')\n",
    "\n",
    "# Drop variables not dummyfiables\n",
    "parsed_not_duplicates= parsed_not_duplicates.drop(['name','first','last','compas_screening_date'], axis=1)\n",
    "\n",
    "print(parsed_not_duplicates.shape)\n",
    "parsed_not_duplicates.columns"
   ]
  },
  {
   "cell_type": "code",
   "execution_count": 28,
   "metadata": {
    "colab": {
     "base_uri": "https://localhost:8080/"
    },
    "id": "iQ85GaBpiqoY",
    "outputId": "7defd0ec-3894-4880-bd1f-1f31ed68a1f8"
   },
   "outputs": [
    {
     "name": "stdout",
     "output_type": "stream",
     "text": [
      "   id  sex   dob  age  age_cat  race  juv_fel_count  decile_score  \\\n",
      "0   1    1    77   69        1     5              0             1   \n",
      "2   3    1  3660   34        0     0              0             3   \n",
      "3   4    1  5886   24        2     0              0             4   \n",
      "5   5    1  6326   23        2     0              0             8   \n",
      "6   6    1  2203   43        0     5              0             1   \n",
      "\n",
      "   juv_misd_count  juv_other_count  ...  v_type_of_assessment  v_decile_score  \\\n",
      "0               0                0  ...                     0               1   \n",
      "2               0                0  ...                     0               1   \n",
      "3               0                1  ...                     0               3   \n",
      "5               1                0  ...                     0               6   \n",
      "6               0                0  ...                     0               1   \n",
      "\n",
      "   v_score_text  v_screening_date  in_custody  out_custody  priors_count.1  \\\n",
      "0             1               205         609          610               0   \n",
      "2             1                26          85           87               0   \n",
      "3             1               102         223          218               4   \n",
      "5             2                12        1205         1213               1   \n",
      "6             1                83        1205         1213               2   \n",
      "\n",
      "   start   end  event  \n",
      "0      0   327      0  \n",
      "2      9   159      1  \n",
      "3      0    63      0  \n",
      "5      0  1174      0  \n",
      "6      0  1102      0  \n",
      "\n",
      "[5 rows x 48 columns]\n"
     ]
    }
   ],
   "source": [
    "# Create dummy variables \n",
    "for feature in parsed_not_duplicates.columns:\n",
    "    if parsed_not_duplicates[feature].dtype==\"object\":\n",
    "      le = LabelEncoder()\n",
    "      le.fit(parsed_not_duplicates.columns)\n",
    "      parsed_not_duplicates[feature] = le.fit_transform(parsed_not_duplicates[feature].astype(str)) #le.fit_transform(df_train[feature].astype(str))\n",
    "\n",
    "print(parsed_not_duplicates.head())"
   ]
  },
  {
   "cell_type": "code",
   "execution_count": 29,
   "metadata": {
    "id": "khoru_rXjGtl"
   },
   "outputs": [],
   "source": [
    "#parsed_not_duplicates.isna().sum()"
   ]
  },
  {
   "cell_type": "code",
   "execution_count": 30,
   "metadata": {
    "colab": {
     "base_uri": "https://localhost:8080/",
     "height": 345
    },
    "id": "ve8aSeBw4b-G",
    "outputId": "6f11c72d-44a3-486c-bf57-838639533577"
   },
   "outputs": [
    {
     "ename": "TypeError",
     "evalue": "NaNs were detected in the dataset. Try using pd.isnull to find the problematic values.",
     "output_type": "error",
     "traceback": [
      "\u001b[1;31m---------------------------------------------------------------------------\u001b[0m",
      "\u001b[1;31mTypeError\u001b[0m                                 Traceback (most recent call last)",
      "Input \u001b[1;32mIn [30]\u001b[0m, in \u001b[0;36m<cell line: 3>\u001b[1;34m()\u001b[0m\n\u001b[0;32m      1\u001b[0m \u001b[38;5;66;03m# Fit the Cox\u001b[39;00m\n\u001b[0;32m      2\u001b[0m cph \u001b[38;5;241m=\u001b[39m CoxPHFitter()\n\u001b[1;32m----> 3\u001b[0m cph \u001b[38;5;241m=\u001b[39m \u001b[43mcph\u001b[49m\u001b[38;5;241;43m.\u001b[39;49m\u001b[43mfit\u001b[49m\u001b[43m(\u001b[49m\u001b[43mparsed_not_duplicates\u001b[49m\u001b[43m,\u001b[49m\u001b[43m \u001b[49m\u001b[43mduration_col\u001b[49m\u001b[43m \u001b[49m\u001b[38;5;241;43m=\u001b[39;49m\u001b[43m \u001b[49m\u001b[38;5;124;43m'\u001b[39;49m\u001b[38;5;124;43mend\u001b[39;49m\u001b[38;5;124;43m'\u001b[39;49m\u001b[43m,\u001b[49m\u001b[43m \u001b[49m\u001b[43mevent_col\u001b[49m\u001b[43m \u001b[49m\u001b[38;5;241;43m=\u001b[39;49m\u001b[43m \u001b[49m\u001b[38;5;124;43m'\u001b[39;49m\u001b[38;5;124;43mevent\u001b[39;49m\u001b[38;5;124;43m'\u001b[39;49m\u001b[43m)\u001b[49m\n\u001b[0;32m      4\u001b[0m cph\u001b[38;5;241m.\u001b[39mprint_summary()\n",
      "File \u001b[1;32m~\\anaconda3\\lib\\site-packages\\lifelines\\utils\\__init__.py:56\u001b[0m, in \u001b[0;36mCensoringType.right_censoring.<locals>.f\u001b[1;34m(model, *args, **kwargs)\u001b[0m\n\u001b[0;32m     53\u001b[0m \u001b[38;5;129m@wraps\u001b[39m(function)\n\u001b[0;32m     54\u001b[0m \u001b[38;5;28;01mdef\u001b[39;00m \u001b[38;5;21mf\u001b[39m(model, \u001b[38;5;241m*\u001b[39margs, \u001b[38;5;241m*\u001b[39m\u001b[38;5;241m*\u001b[39mkwargs):\n\u001b[0;32m     55\u001b[0m     \u001b[38;5;28mcls\u001b[39m\u001b[38;5;241m.\u001b[39mset_censoring_type(model, \u001b[38;5;28mcls\u001b[39m\u001b[38;5;241m.\u001b[39mRIGHT)\n\u001b[1;32m---> 56\u001b[0m     \u001b[38;5;28;01mreturn\u001b[39;00m function(model, \u001b[38;5;241m*\u001b[39margs, \u001b[38;5;241m*\u001b[39m\u001b[38;5;241m*\u001b[39mkwargs)\n",
      "File \u001b[1;32m~\\anaconda3\\lib\\site-packages\\lifelines\\fitters\\coxph_fitter.py:290\u001b[0m, in \u001b[0;36mCoxPHFitter.fit\u001b[1;34m(self, df, duration_col, event_col, show_progress, initial_point, strata, weights_col, cluster_col, robust, batch_mode, timeline, formula, entry_col, fit_options)\u001b[0m\n\u001b[0;32m    184\u001b[0m \u001b[38;5;124;03m\"\"\"\u001b[39;00m\n\u001b[0;32m    185\u001b[0m \u001b[38;5;124;03mFit the Cox proportional hazard model to a right-censored dataset. Alias of `fit_right_censoring`.\u001b[39;00m\n\u001b[0;32m    186\u001b[0m \n\u001b[1;32m   (...)\u001b[0m\n\u001b[0;32m    287\u001b[0m \n\u001b[0;32m    288\u001b[0m \u001b[38;5;124;03m\"\"\"\u001b[39;00m\n\u001b[0;32m    289\u001b[0m \u001b[38;5;28mself\u001b[39m\u001b[38;5;241m.\u001b[39mstrata \u001b[38;5;241m=\u001b[39m utils\u001b[38;5;241m.\u001b[39m_to_list_or_singleton(utils\u001b[38;5;241m.\u001b[39mcoalesce(strata, \u001b[38;5;28mself\u001b[39m\u001b[38;5;241m.\u001b[39mstrata))\n\u001b[1;32m--> 290\u001b[0m \u001b[38;5;28mself\u001b[39m\u001b[38;5;241m.\u001b[39m_model \u001b[38;5;241m=\u001b[39m \u001b[38;5;28;43mself\u001b[39;49m\u001b[38;5;241;43m.\u001b[39;49m\u001b[43m_fit_model\u001b[49m\u001b[43m(\u001b[49m\n\u001b[0;32m    291\u001b[0m \u001b[43m    \u001b[49m\u001b[43mdf\u001b[49m\u001b[43m,\u001b[49m\n\u001b[0;32m    292\u001b[0m \u001b[43m    \u001b[49m\u001b[43mduration_col\u001b[49m\u001b[43m,\u001b[49m\n\u001b[0;32m    293\u001b[0m \u001b[43m    \u001b[49m\u001b[43mevent_col\u001b[49m\u001b[38;5;241;43m=\u001b[39;49m\u001b[43mevent_col\u001b[49m\u001b[43m,\u001b[49m\n\u001b[0;32m    294\u001b[0m \u001b[43m    \u001b[49m\u001b[43mshow_progress\u001b[49m\u001b[38;5;241;43m=\u001b[39;49m\u001b[43mshow_progress\u001b[49m\u001b[43m,\u001b[49m\n\u001b[0;32m    295\u001b[0m \u001b[43m    \u001b[49m\u001b[43minitial_point\u001b[49m\u001b[38;5;241;43m=\u001b[39;49m\u001b[43minitial_point\u001b[49m\u001b[43m,\u001b[49m\n\u001b[0;32m    296\u001b[0m \u001b[43m    \u001b[49m\u001b[43mstrata\u001b[49m\u001b[38;5;241;43m=\u001b[39;49m\u001b[38;5;28;43mself\u001b[39;49m\u001b[38;5;241;43m.\u001b[39;49m\u001b[43mstrata\u001b[49m\u001b[43m,\u001b[49m\n\u001b[0;32m    297\u001b[0m \u001b[43m    \u001b[49m\u001b[43mweights_col\u001b[49m\u001b[38;5;241;43m=\u001b[39;49m\u001b[43mweights_col\u001b[49m\u001b[43m,\u001b[49m\n\u001b[0;32m    298\u001b[0m \u001b[43m    \u001b[49m\u001b[43mcluster_col\u001b[49m\u001b[38;5;241;43m=\u001b[39;49m\u001b[43mcluster_col\u001b[49m\u001b[43m,\u001b[49m\n\u001b[0;32m    299\u001b[0m \u001b[43m    \u001b[49m\u001b[43mrobust\u001b[49m\u001b[38;5;241;43m=\u001b[39;49m\u001b[43mrobust\u001b[49m\u001b[43m,\u001b[49m\n\u001b[0;32m    300\u001b[0m \u001b[43m    \u001b[49m\u001b[43mbatch_mode\u001b[49m\u001b[38;5;241;43m=\u001b[39;49m\u001b[43mbatch_mode\u001b[49m\u001b[43m,\u001b[49m\n\u001b[0;32m    301\u001b[0m \u001b[43m    \u001b[49m\u001b[43mtimeline\u001b[49m\u001b[38;5;241;43m=\u001b[39;49m\u001b[43mtimeline\u001b[49m\u001b[43m,\u001b[49m\n\u001b[0;32m    302\u001b[0m \u001b[43m    \u001b[49m\u001b[43mformula\u001b[49m\u001b[38;5;241;43m=\u001b[39;49m\u001b[43mformula\u001b[49m\u001b[43m,\u001b[49m\n\u001b[0;32m    303\u001b[0m \u001b[43m    \u001b[49m\u001b[43mentry_col\u001b[49m\u001b[38;5;241;43m=\u001b[39;49m\u001b[43mentry_col\u001b[49m\u001b[43m,\u001b[49m\n\u001b[0;32m    304\u001b[0m \u001b[43m    \u001b[49m\u001b[43mfit_options\u001b[49m\u001b[38;5;241;43m=\u001b[39;49m\u001b[43mfit_options\u001b[49m\u001b[43m,\u001b[49m\n\u001b[0;32m    305\u001b[0m \u001b[43m\u001b[49m\u001b[43m)\u001b[49m\n\u001b[0;32m    306\u001b[0m \u001b[38;5;28;01mreturn\u001b[39;00m \u001b[38;5;28mself\u001b[39m\n",
      "File \u001b[1;32m~\\anaconda3\\lib\\site-packages\\lifelines\\fitters\\coxph_fitter.py:610\u001b[0m, in \u001b[0;36mCoxPHFitter._fit_model\u001b[1;34m(self, *args, **kwargs)\u001b[0m\n\u001b[0;32m    608\u001b[0m \u001b[38;5;28;01mdef\u001b[39;00m \u001b[38;5;21m_fit_model\u001b[39m(\u001b[38;5;28mself\u001b[39m, \u001b[38;5;241m*\u001b[39margs, \u001b[38;5;241m*\u001b[39m\u001b[38;5;241m*\u001b[39mkwargs):\n\u001b[0;32m    609\u001b[0m     \u001b[38;5;28;01mif\u001b[39;00m \u001b[38;5;28mself\u001b[39m\u001b[38;5;241m.\u001b[39mbaseline_estimation_method \u001b[38;5;241m==\u001b[39m \u001b[38;5;124m\"\u001b[39m\u001b[38;5;124mbreslow\u001b[39m\u001b[38;5;124m\"\u001b[39m:\n\u001b[1;32m--> 610\u001b[0m         \u001b[38;5;28;01mreturn\u001b[39;00m \u001b[38;5;28mself\u001b[39m\u001b[38;5;241m.\u001b[39m_fit_model_breslow(\u001b[38;5;241m*\u001b[39margs, \u001b[38;5;241m*\u001b[39m\u001b[38;5;241m*\u001b[39mkwargs)\n\u001b[0;32m    611\u001b[0m     \u001b[38;5;28;01melif\u001b[39;00m \u001b[38;5;28mself\u001b[39m\u001b[38;5;241m.\u001b[39mbaseline_estimation_method \u001b[38;5;241m==\u001b[39m \u001b[38;5;124m\"\u001b[39m\u001b[38;5;124mspline\u001b[39m\u001b[38;5;124m\"\u001b[39m:\n\u001b[0;32m    612\u001b[0m         \u001b[38;5;28;01mreturn\u001b[39;00m \u001b[38;5;28mself\u001b[39m\u001b[38;5;241m.\u001b[39m_fit_model_spline(\u001b[38;5;241m*\u001b[39margs, \u001b[38;5;241m*\u001b[39m\u001b[38;5;241m*\u001b[39mkwargs)\n",
      "File \u001b[1;32m~\\anaconda3\\lib\\site-packages\\lifelines\\fitters\\coxph_fitter.py:623\u001b[0m, in \u001b[0;36mCoxPHFitter._fit_model_breslow\u001b[1;34m(self, *args, **kwargs)\u001b[0m\n\u001b[0;32m    619\u001b[0m model \u001b[38;5;241m=\u001b[39m SemiParametricPHFitter(\n\u001b[0;32m    620\u001b[0m     penalizer\u001b[38;5;241m=\u001b[39m\u001b[38;5;28mself\u001b[39m\u001b[38;5;241m.\u001b[39mpenalizer, l1_ratio\u001b[38;5;241m=\u001b[39m\u001b[38;5;28mself\u001b[39m\u001b[38;5;241m.\u001b[39ml1_ratio, strata\u001b[38;5;241m=\u001b[39m\u001b[38;5;28mself\u001b[39m\u001b[38;5;241m.\u001b[39mstrata, alpha\u001b[38;5;241m=\u001b[39m\u001b[38;5;28mself\u001b[39m\u001b[38;5;241m.\u001b[39malpha, label\u001b[38;5;241m=\u001b[39m\u001b[38;5;28mself\u001b[39m\u001b[38;5;241m.\u001b[39m_label\n\u001b[0;32m    621\u001b[0m )\n\u001b[0;32m    622\u001b[0m \u001b[38;5;28;01mif\u001b[39;00m utils\u001b[38;5;241m.\u001b[39mCensoringType\u001b[38;5;241m.\u001b[39mis_right_censoring(\u001b[38;5;28mself\u001b[39m):\n\u001b[1;32m--> 623\u001b[0m     model\u001b[38;5;241m.\u001b[39mfit(\u001b[38;5;241m*\u001b[39margs, \u001b[38;5;241m*\u001b[39m\u001b[38;5;241m*\u001b[39mkwargs)\n\u001b[0;32m    624\u001b[0m     \u001b[38;5;28;01mreturn\u001b[39;00m model\n\u001b[0;32m    625\u001b[0m \u001b[38;5;28;01melse\u001b[39;00m:\n",
      "File \u001b[1;32m~\\anaconda3\\lib\\site-packages\\lifelines\\utils\\__init__.py:56\u001b[0m, in \u001b[0;36mCensoringType.right_censoring.<locals>.f\u001b[1;34m(model, *args, **kwargs)\u001b[0m\n\u001b[0;32m     53\u001b[0m \u001b[38;5;129m@wraps\u001b[39m(function)\n\u001b[0;32m     54\u001b[0m \u001b[38;5;28;01mdef\u001b[39;00m \u001b[38;5;21mf\u001b[39m(model, \u001b[38;5;241m*\u001b[39margs, \u001b[38;5;241m*\u001b[39m\u001b[38;5;241m*\u001b[39mkwargs):\n\u001b[0;32m     55\u001b[0m     \u001b[38;5;28mcls\u001b[39m\u001b[38;5;241m.\u001b[39mset_censoring_type(model, \u001b[38;5;28mcls\u001b[39m\u001b[38;5;241m.\u001b[39mRIGHT)\n\u001b[1;32m---> 56\u001b[0m     \u001b[38;5;28;01mreturn\u001b[39;00m function(model, \u001b[38;5;241m*\u001b[39margs, \u001b[38;5;241m*\u001b[39m\u001b[38;5;241m*\u001b[39mkwargs)\n",
      "File \u001b[1;32m~\\anaconda3\\lib\\site-packages\\lifelines\\fitters\\coxph_fitter.py:1229\u001b[0m, in \u001b[0;36mSemiParametricPHFitter.fit\u001b[1;34m(self, df, duration_col, event_col, show_progress, initial_point, strata, weights_col, cluster_col, robust, batch_mode, timeline, formula, entry_col, fit_options)\u001b[0m\n\u001b[0;32m   1226\u001b[0m \u001b[38;5;28mself\u001b[39m\u001b[38;5;241m.\u001b[39mformula \u001b[38;5;241m=\u001b[39m formula\n\u001b[0;32m   1227\u001b[0m \u001b[38;5;28mself\u001b[39m\u001b[38;5;241m.\u001b[39mentry_col \u001b[38;5;241m=\u001b[39m entry_col\n\u001b[1;32m-> 1229\u001b[0m X, T, E, weights, entries, original_index, \u001b[38;5;28mself\u001b[39m\u001b[38;5;241m.\u001b[39m_clusters \u001b[38;5;241m=\u001b[39m \u001b[38;5;28;43mself\u001b[39;49m\u001b[38;5;241;43m.\u001b[39;49m\u001b[43m_preprocess_dataframe\u001b[49m\u001b[43m(\u001b[49m\u001b[43mdf\u001b[49m\u001b[43m)\u001b[49m\n\u001b[0;32m   1231\u001b[0m \u001b[38;5;28mself\u001b[39m\u001b[38;5;241m.\u001b[39mdurations \u001b[38;5;241m=\u001b[39m T\u001b[38;5;241m.\u001b[39mcopy()\n\u001b[0;32m   1232\u001b[0m \u001b[38;5;28mself\u001b[39m\u001b[38;5;241m.\u001b[39mevent_observed \u001b[38;5;241m=\u001b[39m E\u001b[38;5;241m.\u001b[39mcopy()\n",
      "File \u001b[1;32m~\\anaconda3\\lib\\site-packages\\lifelines\\fitters\\coxph_fitter.py:1334\u001b[0m, in \u001b[0;36mSemiParametricPHFitter._preprocess_dataframe\u001b[1;34m(self, df)\u001b[0m\n\u001b[0;32m   1331\u001b[0m utils\u001b[38;5;241m.\u001b[39mcheck_nans_or_infs(E)\n\u001b[0;32m   1332\u001b[0m E \u001b[38;5;241m=\u001b[39m E\u001b[38;5;241m.\u001b[39mastype(\u001b[38;5;28mbool\u001b[39m)\n\u001b[1;32m-> 1334\u001b[0m \u001b[38;5;28;43mself\u001b[39;49m\u001b[38;5;241;43m.\u001b[39;49m\u001b[43m_check_values_pre_fitting\u001b[49m\u001b[43m(\u001b[49m\u001b[43mX\u001b[49m\u001b[43m,\u001b[49m\u001b[43m \u001b[49m\u001b[43mT\u001b[49m\u001b[43m,\u001b[49m\u001b[43m \u001b[49m\u001b[43mE\u001b[49m\u001b[43m,\u001b[49m\u001b[43m \u001b[49m\u001b[43mW\u001b[49m\u001b[43m,\u001b[49m\u001b[43m \u001b[49m\u001b[43mentries\u001b[49m\u001b[43m)\u001b[49m\n\u001b[0;32m   1336\u001b[0m \u001b[38;5;28;01mreturn\u001b[39;00m X, T, E, W, entries, original_index, _clusters\n",
      "File \u001b[1;32m~\\anaconda3\\lib\\site-packages\\lifelines\\fitters\\coxph_fitter.py:1352\u001b[0m, in \u001b[0;36mSemiParametricPHFitter._check_values_pre_fitting\u001b[1;34m(self, X, T, E, W, entries)\u001b[0m\n\u001b[0;32m   1350\u001b[0m utils\u001b[38;5;241m.\u001b[39mcheck_for_numeric_dtypes_or_raise(X)\n\u001b[0;32m   1351\u001b[0m utils\u001b[38;5;241m.\u001b[39mcheck_nans_or_infs(T)\n\u001b[1;32m-> 1352\u001b[0m \u001b[43mutils\u001b[49m\u001b[38;5;241;43m.\u001b[39;49m\u001b[43mcheck_nans_or_infs\u001b[49m\u001b[43m(\u001b[49m\u001b[43mX\u001b[49m\u001b[43m)\u001b[49m\n\u001b[0;32m   1353\u001b[0m \u001b[38;5;66;03m# check to make sure their weights are okay\u001b[39;00m\n\u001b[0;32m   1354\u001b[0m \u001b[38;5;28;01mif\u001b[39;00m \u001b[38;5;28mself\u001b[39m\u001b[38;5;241m.\u001b[39mweights_col:\n",
      "File \u001b[1;32m~\\anaconda3\\lib\\site-packages\\lifelines\\utils\\__init__.py:1175\u001b[0m, in \u001b[0;36mcheck_nans_or_infs\u001b[1;34m(df_or_array)\u001b[0m\n\u001b[0;32m   1173\u001b[0m \u001b[38;5;28;01mdef\u001b[39;00m \u001b[38;5;21mcheck_nans_or_infs\u001b[39m(df_or_array):\n\u001b[0;32m   1174\u001b[0m     \u001b[38;5;28;01mif\u001b[39;00m \u001b[38;5;28misinstance\u001b[39m(df_or_array, (pd\u001b[38;5;241m.\u001b[39mSeries, pd\u001b[38;5;241m.\u001b[39mDataFrame)):\n\u001b[1;32m-> 1175\u001b[0m         \u001b[38;5;28;01mreturn\u001b[39;00m \u001b[43mcheck_nans_or_infs\u001b[49m\u001b[43m(\u001b[49m\u001b[43mdf_or_array\u001b[49m\u001b[38;5;241;43m.\u001b[39;49m\u001b[43mvalues\u001b[49m\u001b[43m)\u001b[49m\n\u001b[0;32m   1177\u001b[0m     \u001b[38;5;28;01mif\u001b[39;00m pd\u001b[38;5;241m.\u001b[39misnull(df_or_array)\u001b[38;5;241m.\u001b[39many():\n\u001b[0;32m   1178\u001b[0m         \u001b[38;5;28;01mraise\u001b[39;00m \u001b[38;5;167;01mTypeError\u001b[39;00m(\u001b[38;5;124m\"\u001b[39m\u001b[38;5;124mNaNs were detected in the dataset. Try using pd.isnull to find the problematic values.\u001b[39m\u001b[38;5;124m\"\u001b[39m)\n",
      "File \u001b[1;32m~\\anaconda3\\lib\\site-packages\\lifelines\\utils\\__init__.py:1178\u001b[0m, in \u001b[0;36mcheck_nans_or_infs\u001b[1;34m(df_or_array)\u001b[0m\n\u001b[0;32m   1175\u001b[0m     \u001b[38;5;28;01mreturn\u001b[39;00m check_nans_or_infs(df_or_array\u001b[38;5;241m.\u001b[39mvalues)\n\u001b[0;32m   1177\u001b[0m \u001b[38;5;28;01mif\u001b[39;00m pd\u001b[38;5;241m.\u001b[39misnull(df_or_array)\u001b[38;5;241m.\u001b[39many():\n\u001b[1;32m-> 1178\u001b[0m     \u001b[38;5;28;01mraise\u001b[39;00m \u001b[38;5;167;01mTypeError\u001b[39;00m(\u001b[38;5;124m\"\u001b[39m\u001b[38;5;124mNaNs were detected in the dataset. Try using pd.isnull to find the problematic values.\u001b[39m\u001b[38;5;124m\"\u001b[39m)\n\u001b[0;32m   1180\u001b[0m \u001b[38;5;28;01mtry\u001b[39;00m:\n\u001b[0;32m   1181\u001b[0m     infs \u001b[38;5;241m=\u001b[39m np\u001b[38;5;241m.\u001b[39misinf(df_or_array)\n",
      "\u001b[1;31mTypeError\u001b[0m: NaNs were detected in the dataset. Try using pd.isnull to find the problematic values."
     ]
    }
   ],
   "source": [
    "# Fit the Cox\n",
    "cph = CoxPHFitter()\n",
    "cph = cph.fit(parsed_not_duplicates, duration_col = 'end', event_col = 'event')\n",
    "cph.print_summary()"
   ]
  },
  {
   "cell_type": "markdown",
   "metadata": {
    "id": "rf4YXgK3xjAm"
   },
   "source": [
    "# Reproduce Northpointe's rebuttal\n",
    "AUC Results in Sample A\n",
    "Sample A consists of pretrial defendants with complete case\n",
    "records who have at least two years of follow-up time. The PP authors use\n",
    "Sample A to fit reverse logistic regressions predicting the“Not Low”Risk Level.\n",
    "Subsets of Sample A are used for tests of the GRRS (n=6,172) and the VRRS\n",
    "(n=4,020). (p.4 and 16 Northpointe)"
   ]
  },
  {
   "cell_type": "code",
   "execution_count": 31,
   "metadata": {
    "colab": {
     "base_uri": "https://localhost:8080/"
    },
    "id": "oJ3spczfvtTr",
    "outputId": "64c8cf58-d44b-4cce-9ac0-8a495901f168"
   },
   "outputs": [
    {
     "name": "stdout",
     "output_type": "stream",
     "text": [
      "   id  name  first  last  compas_screening_date  sex   dob  age  age_cat  \\\n",
      "0   1  4216   1615  1454                    202    1    43   69        1   \n",
      "1   3  3437   1285   897                     26    1  2280   34        0   \n",
      "2   4  1709    651  2509                    102    1  3905   24        2   \n",
      "5   7  3939   1545  2189                    307    1  1196   44        0   \n",
      "6   8  1749    661  2707                    388    1  1447   41        0   \n",
      "\n",
      "   race  ...  v_score_text  v_screening_date  in_custody  out_custody  \\\n",
      "0     5  ...             1               202         549          553   \n",
      "1     0  ...             1                26          27           34   \n",
      "2     0  ...             1               102         165          165   \n",
      "5     5  ...             1               307         331          332   \n",
      "6     2  ...             1               388         452          470   \n",
      "\n",
      "   priors_count.1  start  end  event  two_year_recid  score_text_binary  \n",
      "0               0      0  327      0               0                  0  \n",
      "1               0      9  159      1               1                  0  \n",
      "2               4      0   63      0               1                  0  \n",
      "5               0      1  853      0               0                  0  \n",
      "6              14      5   40      1               1                  1  \n",
      "\n",
      "[5 rows x 54 columns]\n"
     ]
    }
   ],
   "source": [
    "# Convert categorical features to numeric levels\n",
    "for feature in df.columns:\n",
    "    if df[feature].dtype==\"object\":\n",
    "      le = LabelEncoder()\n",
    "      le.fit(df.columns)\n",
    "      df[feature] = le.fit_transform(df[feature].astype(str)) #le.fit_transform(df_train[feature].astype(str))\n",
    "\n",
    "print(df.head())"
   ]
  },
  {
   "cell_type": "code",
   "execution_count": 32,
   "metadata": {
    "id": "YSN1zgoG4Qhr"
   },
   "outputs": [],
   "source": [
    "# Dataframe of target: binary score text\n",
    "y = df.score_text_binary"
   ]
  },
  {
   "cell_type": "code",
   "execution_count": 33,
   "metadata": {
    "id": "l7e79sTUvt-2"
   },
   "outputs": [],
   "source": [
    "# We take the same features as ProPublica did for their logistic regression. This is what Northpointe did as well (Sample A)\n",
    "X = df[['age_cat','race', 'sex', 'priors_count','c_charge_degree', 'two_year_recid']]\n",
    "X_train, X_test, y_train, y_test = model_selection.train_test_split(X, y, test_size = 0.11, random_state = 94)"
   ]
  },
  {
   "cell_type": "code",
   "execution_count": 34,
   "metadata": {
    "colab": {
     "base_uri": "https://localhost:8080/",
     "height": 312
    },
    "id": "tnSbhFEV2UUz",
    "outputId": "87447447-360d-4dfd-c62d-e6679da91338"
   },
   "outputs": [
    {
     "data": {
      "image/png": "[encoded data removed]",
      "text/plain": [
       "<Figure size 432x288 with 1 Axes>"
      ]
     },
     "metadata": {
      "needs_background": "light"
     },
     "output_type": "display_data"
    },
    {
     "name": "stdout",
     "output_type": "stream",
     "text": [
      "The total AUC is  0.7419049137350764\n"
     ]
    }
   ],
   "source": [
    "# Fit logisti regression\n",
    "clf2 = skl_lm.LogisticRegression(solver='newton-cg')\n",
    "clf2.fit(X_train,y_train)\n",
    "\n",
    "# Predict y probability \n",
    "y_pred = clf2.predict_proba(X_test) \n",
    "y_pred_prob = y_pred[:,1]\n",
    "\n",
    "# ROC\n",
    "fpr, tpr, thresholds = roc_curve(y_test, y_pred_prob)\n",
    "plt.plot([0, 1], [0, 1], 'k--')\n",
    "plt.plot(fpr, tpr, label='Logistic Regression')\n",
    "plt.xlabel('False Positive Rate')\n",
    "plt.ylabel('True Positive Rate')\n",
    "plt.title('Logistic Regression ROC Curve')\n",
    "plt.show();\n",
    "\n",
    "#AUC\n",
    "print('The total AUC is ', roc_auc_score(y_test, y_pred_prob))\n",
    "\n",
    "#Their AUC for sample A is 0.71 #Why is this one diffrent than the output?"
   ]
  },
  {
   "cell_type": "markdown",
   "metadata": {
    "id": "zBIYxHh9750A"
   },
   "source": [
    "# Reproduce Washington Post 1 analysis"
   ]
  },
  {
   "cell_type": "markdown",
   "metadata": {
    "id": "YWMPT6mJ-A-Q"
   },
   "source": [
    "###Code taken from https://allendowney.github.io/RecidivismCaseStudy/02_calibration.html\n",
    "###Is it ok that we take it? (Sofi)"
   ]
  },
  {
   "cell_type": "code",
   "execution_count": 35,
   "metadata": {
    "id": "xrQ81tsS-AUF"
   },
   "outputs": [],
   "source": [
    "#Anh please rewrite \n",
    "from os.path import basename, exists\n",
    "\n",
    "def download(url):\n",
    "    filename = basename(url)\n",
    "    if not exists(filename):\n",
    "        from urllib.request import urlretrieve\n",
    "        local, _ = urlretrieve(url, filename)\n",
    "        print('Downloaded ' + local)\n"
   ]
  },
  {
   "cell_type": "code",
   "execution_count": 36,
   "metadata": {
    "colab": {
     "base_uri": "https://localhost:8080/"
    },
    "id": "P4IV9Z6q-qRV",
    "outputId": "8a62ddbb-2531-4a06-b6f3-2a8aca6a8481"
   },
   "outputs": [],
   "source": [
    "download('https://raw.githubusercontent.com/AllenDowney/RecidivismCaseStudy/' +\n",
    "         'master/utils.py')"
   ]
  },
  {
   "cell_type": "code",
   "execution_count": 37,
   "metadata": {
    "id": "Zuk4e3ie-x35"
   },
   "outputs": [],
   "source": [
    "from utils import decorate\n",
    "from utils import make_matrix\n",
    "from utils import compute_metrics\n",
    "from utils import error_rates"
   ]
  },
  {
   "cell_type": "code",
   "execution_count": 38,
   "metadata": {
    "id": "4Mck5MP3BUio"
   },
   "outputs": [],
   "source": [
    "def calibration_curve(df):\n",
    "    \"\"\"Fraction in each risk group charged with another crime.\n",
    "    \n",
    "    df: DataFrame\n",
    "    \n",
    "    returns: Series\n",
    "    \"\"\"\n",
    "    grouped = df.groupby('decile_score')\n",
    "    return grouped['two_year_recid'].mean()"
   ]
  },
  {
   "cell_type": "markdown",
   "metadata": {
    "id": "XklHL3tCE1k2"
   },
   "source": [
    "###The plot below shows an approximate equality between white and black defendants. This holds for every one of Northpointe’s 10 risk levels."
   ]
  },
  {
   "cell_type": "code",
   "execution_count": 39,
   "metadata": {
    "colab": {
     "base_uri": "https://localhost:8080/",
     "height": 297
    },
    "id": "PhWAp0VdBWfJ",
    "outputId": "a2489595-bcb3-4475-fbaf-295212949ff2"
   },
   "outputs": [
    {
     "data": {
      "image/png": "[encoded data removed]",
      "text/plain": [
       "<Figure size 432x288 with 1 Axes>"
      ]
     },
     "metadata": {
      "needs_background": "light"
     },
     "output_type": "display_data"
    }
   ],
   "source": [
    "cal_all = calibration_curve(raw_data)\n",
    "cal_all.plot(linestyle='dotted', \n",
    "              color='gray',\n",
    "              label='All defendants')\n",
    "\n",
    "white = (raw_data['race'] == 'Caucasian')\n",
    "cal_white = calibration_curve(raw_data[white])\n",
    "cal_white.plot(label='White')\n",
    "\n",
    "black = (raw_data['race'] == 'African-American')\n",
    "cal_black = calibration_curve(raw_data[black])\n",
    "cal_black.plot(label='Black')\n",
    "\n",
    "decorate(xlabel='Risk score',\n",
    "         ylabel='Fraction charged with new crime',\n",
    "         title='Recivism vs risk score, grouped by race')"
   ]
  },
  {
   "cell_type": "markdown",
   "metadata": {
    "id": "_U83VJWS-6jc"
   },
   "source": [
    "###This plot shows that we can’t be fair in both ways at the same time"
   ]
  },
  {
   "cell_type": "code",
   "execution_count": 40,
   "metadata": {
    "colab": {
     "base_uri": "https://localhost:8080/"
    },
    "id": "05AXNSBUuu45",
    "outputId": "fb9a1478-b486-4aff-9ddd-f8c2676823bb"
   },
   "outputs": [
    {
     "data": {
      "text/plain": [
       "(3696, 53)"
      ]
     },
     "execution_count": 40,
     "metadata": {},
     "output_type": "execute_result"
    }
   ],
   "source": [
    "# Create Datafram with only african-americans\n",
    "df_black = raw_data.loc[raw_data['race'].isin([\"African-American\"])]\n",
    "df_black.shape"
   ]
  },
  {
   "cell_type": "code",
   "execution_count": 41,
   "metadata": {
    "colab": {
     "base_uri": "https://localhost:8080/"
    },
    "id": "hMasTgvouu46",
    "outputId": "6595e43a-c8d3-4b70-bc31-ee32b4dc6c98"
   },
   "outputs": [
    {
     "data": {
      "text/plain": [
       "(2454, 53)"
      ]
     },
     "execution_count": 41,
     "metadata": {},
     "output_type": "execute_result"
    }
   ],
   "source": [
    "# Create dataframe with only caucasians\n",
    "df_white = raw_data.loc[raw_data['race'].isin([\"Caucasian\"])]\n",
    "df_white.shape"
   ]
  },
  {
   "cell_type": "code",
   "execution_count": 42,
   "metadata": {
    "id": "zQuWynH4uu46"
   },
   "outputs": [],
   "source": [
    "# Per race:\n",
    "# Relabel the score text as before but not with numerical\n",
    "# Devide dataframe in recidivated and non-recidivated\n",
    "df_white['score_text'] = raw_data['score_text'].replace(['Medium'], 'Medium/High').replace(['High'], 'Medium/High')\n",
    "df_white_recid = df_white.loc[df_white['is_recid'].isin([1])]\n",
    "df_white_nonrecid = df_white.loc[df_white['is_recid'].isin([0])]\n",
    "\n",
    "df_black['score_text'] = raw_data['score_text'].replace(['Medium'], 'Medium/High').replace(['High'], 'Medium/High')\n",
    "df_black_recid = df_black.loc[df_black['is_recid'].isin([1])]\n",
    "df_black_nonrecid = df_black.loc[df_black['is_recid'].isin([0])]"
   ]
  },
  {
   "cell_type": "code",
   "execution_count": 43,
   "metadata": {
    "colab": {
     "base_uri": "https://localhost:8080/",
     "height": 369
    },
    "id": "wBODgShFuu47",
    "outputId": "54e02d78-1644-43ad-e0dc-1869ae5fb19f"
   },
   "outputs": [
    {
     "data": {
      "text/plain": [
       "<function matplotlib.pyplot.show(close=None, block=None)>"
      ]
     },
     "execution_count": 43,
     "metadata": {},
     "output_type": "execute_result"
    },
    {
     "data": {
      "image/png": "[encoded data removed]",
      "text/plain": [
       "<Figure size 432x288 with 1 Axes>"
      ]
     },
     "metadata": {
      "needs_background": "light"
     },
     "output_type": "display_data"
    }
   ],
   "source": [
    "# Trying with 2 subplots for stacking\n",
    "df_plot = df_black.groupby(['is_recid', 'score_text']).size().reset_index().pivot(columns='is_recid', index='score_text', values=0)\n",
    "ax = df_plot.plot(\n",
    "    kind='bar', \n",
    "    stacked=True,\n",
    "    width=0.7,\n",
    "    title='Distribution of recidivism for Blacks',\n",
    "    color=[\"#00558A\",\"#00B2FF\"])\n",
    "plt.gca().invert_xaxis()\n",
    "ax.set_xlabel(\"Risk Category\")\n",
    "ax.set_ylabel(\"Number of Defendants\")\n",
    "plt.ylim([0, 2000])\n",
    "plt.yticks([0, 500, 1000, 1500, 2000])\n",
    "\n",
    "plt.show"
   ]
  },
  {
   "cell_type": "code",
   "execution_count": null,
   "metadata": {
    "colab": {
     "base_uri": "https://localhost:8080/",
     "height": 369
    },
    "id": "Q69GQgGtuu47",
    "outputId": "4cb8e80c-9656-4aac-a7f6-28ac64b0c364"
   },
   "outputs": [],
   "source": [
    "df_plot = df_white.groupby(['is_recid', 'score_text']).size().reset_index().pivot(columns='is_recid', index='score_text', values=0)\n",
    "df_plot.plot(\n",
    "    kind='bar', \n",
    "    stacked=True,\n",
    "    width=0.7,\n",
    "    title='Distribution of recidivism for Whites',\n",
    "    color=[\"#00558A\",\"#00B2FF\"])\n",
    "plt.gca().invert_xaxis()\n",
    "ax.set_xlabel(\"Risk Category\")\n",
    "ax.set_ylabel(\"Number of Defendants\")\n",
    "plt.ylim([0, 2000])\n",
    "plt.yticks([0, 500, 1000, 1500, 2000])\n",
    "\n",
    "plt.show"
   ]
  },
  {
   "cell_type": "code",
   "execution_count": 44,
   "metadata": {},
   "outputs": [
    {
     "data": {
      "image/png": "[encoded data removed]",
      "text/plain": [
       "<Figure size 720x360 with 2 Axes>"
      ]
     },
     "metadata": {
      "needs_background": "light"
     },
     "output_type": "display_data"
    }
   ],
   "source": [
    "# Create figure and axes objects\n",
    "fig, (ax1, ax2) = plt.subplots(1, 2, figsize=(10,5))\n",
    "\n",
    "# Plot first dataframe\n",
    "df_plot = df_black.groupby(['is_recid', 'score_text']).size().reset_index().pivot(columns='is_recid', index='score_text', values=0)\n",
    "df_plot.plot(\n",
    "    kind='bar', \n",
    "    stacked=True,\n",
    "    width=0.7,\n",
    "    title='Distribution of recidivism for Blacks',\n",
    "    color=[\"#00558A\",\"#00B2FF\"],\n",
    "    ax=ax1)\n",
    "ax1.set_xlabel(\"Risk Category\")\n",
    "ax1.set_ylabel(\"Number of Defendants\")\n",
    "#ax1.invert_xaxis()\n",
    "plt.ylim([0, 2250])\n",
    "plt.yticks([0, 500, 1000, 1500, 2000])\n",
    "\n",
    "# Plot second dataframe\n",
    "df_plot = df_white.groupby(['is_recid', 'score_text']).size().reset_index().pivot(columns='is_recid', index='score_text', values=0)\n",
    "df_plot.plot(\n",
    "    kind='bar', \n",
    "    stacked=True,\n",
    "    width=0.7,\n",
    "    title='Distribution of recidivism for Whites',\n",
    "    color=[\"#00558A\",\"#00B2FF\"],\n",
    "    ax=ax2)\n",
    "ax2.set_xlabel(\"Risk Category\")\n",
    "ax2.set_ylabel(\"\")\n",
    "#ax2.invert_xaxis()\n",
    "plt.ylim([0, 2250])\n",
    "plt.yticks([0, 500, 1000, 1500, 2000])\n",
    "\n",
    "# Show plot\n",
    "plt.show()\n"
   ]
  },
  {
   "cell_type": "code",
   "execution_count": null,
   "metadata": {},
   "outputs": [],
   "source": []
  },
  {
   "cell_type": "markdown",
   "metadata": {
    "id": "RdUBgqrvzYNj"
   },
   "source": [
    "# Directly / indirectly Model recidivism / Tree based model for ?\n",
    "\n",
    "\n",
    "directly(classification) --> random forest?\n",
    "*  predict recidivism\n",
    "*  predict violent recidivism\n",
    "\n",
    "indirectly (regression)\n",
    "*  predict COMPAS scores for recidivism\n",
    "*  predict COMPAS scores for violent recidivism\n"
   ]
  },
  {
   "cell_type": "code",
   "execution_count": null,
   "metadata": {
    "id": "NOEz1-NHyDPA"
   },
   "outputs": [],
   "source": []
  },
  {
   "cell_type": "markdown",
   "metadata": {
    "id": "kgB2JtfgyDr0"
   },
   "source": [
    "# Explore connections between local and global explanations from machine learning model with multiple linear regression"
   ]
  },
  {
   "cell_type": "code",
   "execution_count": null,
   "metadata": {
    "id": "Se8CzVPGzEtr"
   },
   "outputs": [],
   "source": []
  },
  {
   "cell_type": "markdown",
   "metadata": {
    "id": "to-zgxeNzFEo"
   },
   "source": [
    "# 1 or more questions from the following:\n",
    "\n",
    "1. Is there a single correct definition of fairness ? Are multiple types of fairness compatible ?\n",
    "2. Are interpretable models just as accurate as black box machine learning models for predicting recidivism ?\n",
    "Can complex models be as transparent as simple ones ? How do I communicate nonlinear dependencies ?\n",
    "3. How do I explain a single prediction, i.e. how do I decompose it into feature driven components ? What\n",
    "would be useful global feature attribution methods ?\n",
    "4. How does the \"base rate\" affect the tradeoffs ?\n",
    "5. How can I find relevant interactions ?\n",
    "6. Counterfactuals: what extra value do they bring and what assumptions are made ?\n"
   ]
  },
  {
   "cell_type": "code",
   "execution_count": null,
   "metadata": {
    "id": "5HxqTKmBzP1R"
   },
   "outputs": [],
   "source": []
  },
  {
   "cell_type": "markdown",
   "metadata": {
    "id": "sokK9U33zx8x"
   },
   "source": [
    "# Are the COMPAS risk scales racially biased against blacks?\n"
   ]
  },
  {
   "cell_type": "markdown",
   "metadata": {
    "id": "i9tDlY8cz15g"
   },
   "source": [
    "\"Particular characteristics of non-black defendants in Broward County, Florida are the reason why some of the previous analyses found COMPAS biased\" (stated as an assumption in file:///C:/Users/joana/Documents/Nextcloud/03%20Karriere/2022%20WS%2023%20BIPM%20HWR/1%20-%20Data%20Science/project/reading/Chapter%2010%20Story%20COMPAS_%20recidivism%20reloaded%20_%20XAI%20Stories.pdf page 16)\n",
    "\n",
    "Check Ceteris Paribus (which freezes all othe factors) and then it's still biased for African Americans (same, page 20)\n",
    "\n",
    "\n",
    "\n",
    "could they controll for race (interrelating with age and number for arrests for example)?"
   ]
  },
  {
   "cell_type": "markdown",
   "metadata": {
    "id": "CYTgDli-veoc"
   },
   "source": [
    "### Is the Articel / model of COMPAS good?"
   ]
  },
  {
   "cell_type": "markdown",
   "metadata": {
    "id": "RczIIuF-4iEH"
   },
   "source": [
    "\"Particular characteristics of non-black defendants in Broward County, Florida are the reason why some of the previous analyses found COMPAS biased\" (stated as an assumption in file:///C:/Users/joana/Documents/Nextcloud/03%20Karriere/2022%20WS%2023%20BIPM%20HWR/1%20-%20Data%20Science/project/reading/Chapter%2010%20Story%20COMPAS_%20recidivism%20reloaded%20_%20XAI%20Stories.pdf page 16)\n",
    "\n",
    "Check Ceteris Paribus (which freezes all othe factors) and then it's still biased for African Americans (same, page 20)\n",
    "\n",
    "could they controll for race (interrelating with age and number for arrests for example)?\n",
    "\n"
   ]
  }
 ],
 "metadata": {
  "colab": {
   "provenance": []
  },
  "kernelspec": {
   "display_name": "Python 3 (ipykernel)",
   "language": "python",
   "name": "python3"
  },
  "language_info": {
   "codemirror_mode": {
    "name": "ipython",
    "version": 3
   },
   "file_extension": ".py",
   "mimetype": "text/x-python",
   "name": "python",
   "nbconvert_exporter": "python",
   "pygments_lexer": "ipython3",
   "version": "3.9.12"
  }
 },
 "nbformat": 4,
 "nbformat_minor": 1
}
