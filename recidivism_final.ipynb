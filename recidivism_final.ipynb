{
 "cells": [
  {
   "cell_type": "code",
   "execution_count": 64,
   "id": "6775a9c7-01c8-403a-9975-7ef2f13a6e82",
   "metadata": {},
   "outputs": [],
   "source": [
    "import numpy as np\n",
    "import matplotlib.pyplot as plt\n",
    "import pandas as pd\n",
    "import seaborn as sns\n",
    "from scipy import stats\n",
    "\n",
    "from sklearn.linear_model import LogisticRegression\n",
    "\n",
    "from sklearn.ensemble import RandomForestClassifier\n",
    "from sklearn.tree import DecisionTreeClassifier\n",
    "from sklearn.metrics import accuracy_score, f1_score,confusion_matrix, classification_report,mean_absolute_error,r2_score, roc_auc_score\n",
    "from time import time\n",
    "from sklearn.model_selection import cross_val_score, train_test_split,cross_validate, StratifiedKFold\n",
    "from xgboost import XGBClassifier\n",
    "# from sklearn.feature_selection import SelectKBest, chi2\n",
    "from sklearn.compose import ColumnTransformer\n",
    "from sklearn.pipeline import Pipeline, FeatureUnion\n",
    "from sklearn.preprocessing import LabelEncoder, StandardScaler\n",
    "from sklearn.model_selection import GridSearchCV, RandomizedSearchCV\n",
    "import warnings\n",
    "import os\n",
    "warnings.filterwarnings('ignore')"
   ]
  },
  {
   "cell_type": "code",
   "execution_count": 2,
   "id": "84235978-4b54-4ca9-9bae-27dabfb0ef39",
   "metadata": {},
   "outputs": [],
   "source": [
    "rand = 3\n",
    "os.environ['PYTHONHASHSEED']=str(rand)\n",
    "np.random.seed(rand)"
   ]
  },
  {
   "cell_type": "markdown",
   "id": "4f657003-52ef-45c2-9d37-eedd6b5b9563",
   "metadata": {},
   "source": [
    "## Load Data"
   ]
  },
  {
   "cell_type": "code",
   "execution_count": 3,
   "id": "4a3324f6-a1ed-4281-a75b-8a6aa3987ca4",
   "metadata": {},
   "outputs": [
    {
     "name": "stdout",
     "output_type": "stream",
     "text": [
      "(7214, 53)\n"
     ]
    },
    {
     "data": {
      "text/plain": [
       "Index(['id', 'name', 'first', 'last', 'compas_screening_date', 'sex', 'dob',\n",
       "       'age', 'age_cat', 'race', 'juv_fel_count', 'decile_score',\n",
       "       'juv_misd_count', 'juv_other_count', 'priors_count',\n",
       "       'days_b_screening_arrest', 'c_jail_in', 'c_jail_out', 'c_case_number',\n",
       "       'c_offense_date', 'c_arrest_date', 'c_days_from_compas',\n",
       "       'c_charge_degree', 'c_charge_desc', 'is_recid', 'r_case_number',\n",
       "       'r_charge_degree', 'r_days_from_arrest', 'r_offense_date',\n",
       "       'r_charge_desc', 'r_jail_in', 'r_jail_out', 'violent_recid',\n",
       "       'is_violent_recid', 'vr_case_number', 'vr_charge_degree',\n",
       "       'vr_offense_date', 'vr_charge_desc', 'type_of_assessment',\n",
       "       'decile_score.1', 'score_text', 'screening_date',\n",
       "       'v_type_of_assessment', 'v_decile_score', 'v_score_text',\n",
       "       'v_screening_date', 'in_custody', 'out_custody', 'priors_count.1',\n",
       "       'start', 'end', 'event', 'two_year_recid'],\n",
       "      dtype='object')"
      ]
     },
     "execution_count": 3,
     "metadata": {},
     "output_type": "execute_result"
    }
   ],
   "source": [
    "dataURL = 'https://raw.githubusercontent.com/propublica/compas-analysis/master/compas-scores-two-years.csv'\n",
    "raw_data = pd.read_csv(dataURL)\n",
    "print(raw_data.shape)\n",
    "raw_data.columns"
   ]
  },
  {
   "cell_type": "code",
   "execution_count": 4,
   "id": "ddc573b6-fcb2-4a60-ad05-b5ec6009fe66",
   "metadata": {},
   "outputs": [
    {
     "data": {
      "text/plain": [
       "6172"
      ]
     },
     "execution_count": 4,
     "metadata": {},
     "output_type": "execute_result"
    }
   ],
   "source": [
    "compas_df = raw_data.loc[\n",
    "    (raw_data['days_b_screening_arrest'] <= 30) &\n",
    "    (raw_data['days_b_screening_arrest'] >= -30) &\n",
    "    (raw_data['is_recid'] != -1) &\n",
    "    (raw_data['c_charge_degree'] != \"O\") &\n",
    "    (raw_data['score_text'] != \"N/A\")\n",
    "]\n",
    "len(compas_df)"
   ]
  },
  {
   "cell_type": "markdown",
   "id": "3d4054af-c07e-48bc-9243-0b4c91144abb",
   "metadata": {},
   "source": [
    "## Recidivism Classification"
   ]
  },
  {
   "cell_type": "markdown",
   "id": "064293a3-c8f7-4e0c-b49e-e7349e694fc0",
   "metadata": {},
   "source": [
    "### Prepare Data"
   ]
  },
  {
   "cell_type": "code",
   "execution_count": 25,
   "id": "e826f5b8-11bc-4fbd-9c8d-ca4f9fa91c5e",
   "metadata": {},
   "outputs": [],
   "source": [
    "df = compas_df.copy()"
   ]
  },
  {
   "cell_type": "markdown",
   "id": "1232ce8c-18dc-403c-8694-fac2fc61aed2",
   "metadata": {},
   "source": [
    "#### Check data bias. \n",
    "we can clearly see that the sample is unbalanced: Asian and Native Amerian samples are too small -> inapprociate to analyze and make predictions for them -> we'll add them to the Other group. This also makes the sample data more balanced."
   ]
  },
  {
   "cell_type": "code",
   "execution_count": 26,
   "id": "05b32f22-e776-4e36-ae4c-d14f96362ad5",
   "metadata": {},
   "outputs": [
    {
     "data": {
      "text/plain": [
       "African-American    3175\n",
       "Caucasian           2103\n",
       "Hispanic             509\n",
       "Other                385\n",
       "Name: race, dtype: int64"
      ]
     },
     "execution_count": 26,
     "metadata": {},
     "output_type": "execute_result"
    }
   ],
   "source": [
    "df.loc[df['race'].isin(['Native American', 'Asian']), 'race'] = \"Other\"\n",
    "df['race'].value_counts()"
   ]
  },
  {
   "cell_type": "markdown",
   "id": "62d096bf-d8ca-406c-a128-432656bc783e",
   "metadata": {},
   "source": [
    "#### Check Data Balance"
   ]
  },
  {
   "cell_type": "code",
   "execution_count": 36,
   "id": "6fec6b6f-3e74-4bfb-8c71-6c7477ddaaf7",
   "metadata": {},
   "outputs": [
    {
     "name": "stdout",
     "output_type": "stream",
     "text": [
      "Not Recidivism Rate: 45.51%\n",
      "Recidivism Rate: 54.49%\n"
     ]
    }
   ],
   "source": [
    "not_recid = (df['two_year_recid'].sum()/df['two_year_recid'].shape[0])*100\n",
    "\n",
    "print(\"Not Recidivism Rate: %.2f%%\" % not_recid)\n",
    "print(\"Recidivism Rate: %.2f%%\" % (100-not_recid))"
   ]
  },
  {
   "cell_type": "markdown",
   "id": "d462e0b1-9923-4022-9675-e9510c0ef524",
   "metadata": {},
   "source": [
    "#### Preprocess Steps"
   ]
  },
  {
   "cell_type": "code",
   "execution_count": 27,
   "id": "93a12293-f133-4fb9-8e90-52be2f0fb07d",
   "metadata": {},
   "outputs": [],
   "source": [
    "# copy the original columns for reference later\n",
    "df[['race_ref','age_ref','c_charge_degree']] = df[['race','sex','c_charge_degree']]"
   ]
  },
  {
   "cell_type": "code",
   "execution_count": 28,
   "id": "68c4cd06-c187-415f-9812-ab33f6aba890",
   "metadata": {},
   "outputs": [],
   "source": [
    "# Label Encode Categorical Data\n",
    "df[['race','sex','c_charge_degree']] = df[['race','sex','c_charge_degree']].apply(LabelEncoder().fit_transform)"
   ]
  },
  {
   "cell_type": "code",
   "execution_count": 38,
   "id": "378fc552-b4d6-4946-991b-774b97ddfd29",
   "metadata": {},
   "outputs": [],
   "source": [
    "# df.head()"
   ]
  },
  {
   "cell_type": "code",
   "execution_count": 39,
   "id": "f0f8af9f-e4fc-4f22-b114-5b1615c4abb8",
   "metadata": {},
   "outputs": [],
   "source": [
    "features = df[['sex','age','race','priors_count','c_charge_degree']]\n",
    "target = df['two_year_recid']\n",
    "stratify = df['two_year_recid']"
   ]
  },
  {
   "cell_type": "code",
   "execution_count": 40,
   "id": "8c40a5eb-f3c1-4a21-a6d9-b2aa605cacbe",
   "metadata": {},
   "outputs": [],
   "source": [
    "X_train, X_test, y_train, y_test = train_test_split(\n",
    "        features, \n",
    "        target, \n",
    "        stratify = stratify,\n",
    "        test_size = 0.25,\n",
    "        random_state = rand\n",
    ")"
   ]
  },
  {
   "cell_type": "markdown",
   "id": "8f245110-a6ef-4313-9922-79887dc91eb8",
   "metadata": {
    "id": "b266d2e6-66fd-4a32-9596-ca82214cfb04",
    "tags": []
   },
   "source": [
    "## Modeling & Evaluation"
   ]
  },
  {
   "cell_type": "markdown",
   "id": "24c75f31-a302-4563-8f37-1371172194ac",
   "metadata": {
    "id": "dc9189c8-d086-4e4f-8751-ace6a79a4345"
   },
   "source": [
    "### Define Models to train"
   ]
  },
  {
   "cell_type": "code",
   "execution_count": 68,
   "id": "339a802d-426b-43ae-8669-833d4ce720f4",
   "metadata": {},
   "outputs": [],
   "source": [
    "classifiers = {\n",
    "    'Logistic Regression': {'model': Pipeline(steps = [\n",
    "            ('scale', StandardScaler()),\n",
    "            ('classifier', LogisticRegression(random_state = rand))\n",
    "             ])},\n",
    "    'Decision Tree' : {'model': DecisionTreeClassifier(random_state = rand)},\n",
    "    'Random Forest' : {'model': RandomForestClassifier(random_state = rand)},\n",
    "    'XGBoost': {'model': XGBClassifier(random_state = rand)}\n",
    "}"
   ]
  },
  {
   "cell_type": "code",
   "execution_count": 69,
   "id": "92034b03-1e14-48ea-a9f0-b0faed3239e4",
   "metadata": {},
   "outputs": [],
   "source": [
    "cv_result = pd.DataFrame(columns= ['Model', \n",
    "                                   'AVG F1', \n",
    "                                   'AVG AUC', \n",
    "                                   'AVG Precision', \n",
    "                                   'AVG Recall', \n",
    "                                   'AVG Accuracy'])"
   ]
  },
  {
   "cell_type": "code",
   "execution_count": 70,
   "id": "c1b9ca4c-266c-41f3-a2e9-01267c5ac46c",
   "metadata": {},
   "outputs": [],
   "source": [
    "for model_name in classifiers.keys():\n",
    "    model = classifiers[model_name]['model']\n",
    "    \n",
    "    # define scoring metrics\n",
    "    scoring = ['f1','roc_auc','precision','recall','accuracy']\n",
    "        \n",
    "    # generate cross validation for with defined random state\n",
    "    skf = StratifiedKFold(n_splits = 5, random_state = rand, shuffle = True)\n",
    "        \n",
    "    # run cross validation\n",
    "    scores = cross_validate(\n",
    "        model, \n",
    "        X_train, \n",
    "        y_train, \n",
    "        scoring = scoring, \n",
    "        cv = skf)\n",
    "    cv_result = cv_result.append({'Model': model_name, \n",
    "                                  'AVG F1': scores['test_f1'].mean(), \n",
    "                                  'AVG AUC': scores['test_roc_auc'].mean(),\n",
    "                                  'AVG Precision': scores['test_precision'].mean(), \n",
    "                                   'AVG Recall': scores['test_recall'].mean(), \n",
    "                                   'AVG Accuracy': scores['test_accuracy'].mean()\n",
    "                                 }, ignore_index = True\n",
    "                                )"
   ]
  },
  {
   "cell_type": "code",
   "execution_count": 73,
   "id": "3cf29f2e-034c-404b-9491-ff3d214a2a40",
   "metadata": {},
   "outputs": [
    {
     "data": {
      "text/html": [
       "<div>\n",
       "<style scoped>\n",
       "    .dataframe tbody tr th:only-of-type {\n",
       "        vertical-align: middle;\n",
       "    }\n",
       "\n",
       "    .dataframe tbody tr th {\n",
       "        vertical-align: top;\n",
       "    }\n",
       "\n",
       "    .dataframe thead th {\n",
       "        text-align: right;\n",
       "    }\n",
       "</style>\n",
       "<table border=\"1\" class=\"dataframe\">\n",
       "  <thead>\n",
       "    <tr style=\"text-align: right;\">\n",
       "      <th></th>\n",
       "      <th>Model</th>\n",
       "      <th>AVG F1</th>\n",
       "      <th>AVG AUC</th>\n",
       "      <th>AVG Precision</th>\n",
       "      <th>AVG Recall</th>\n",
       "      <th>AVG Accuracy</th>\n",
       "    </tr>\n",
       "  </thead>\n",
       "  <tbody>\n",
       "    <tr>\n",
       "      <th>0</th>\n",
       "      <td>Logistic Regression</td>\n",
       "      <td>0.603266</td>\n",
       "      <td>0.725765</td>\n",
       "      <td>0.677022</td>\n",
       "      <td>0.544362</td>\n",
       "      <td>0.674225</td>\n",
       "    </tr>\n",
       "    <tr>\n",
       "      <th>3</th>\n",
       "      <td>XGBoost</td>\n",
       "      <td>0.597061</td>\n",
       "      <td>0.699279</td>\n",
       "      <td>0.642393</td>\n",
       "      <td>0.559087</td>\n",
       "      <td>0.656729</td>\n",
       "    </tr>\n",
       "    <tr>\n",
       "      <th>2</th>\n",
       "      <td>Random Forest</td>\n",
       "      <td>0.584983</td>\n",
       "      <td>0.676750</td>\n",
       "      <td>0.594487</td>\n",
       "      <td>0.576650</td>\n",
       "      <td>0.627782</td>\n",
       "    </tr>\n",
       "    <tr>\n",
       "      <th>1</th>\n",
       "      <td>Decision Tree</td>\n",
       "      <td>0.551325</td>\n",
       "      <td>0.632899</td>\n",
       "      <td>0.595979</td>\n",
       "      <td>0.513532</td>\n",
       "      <td>0.619790</td>\n",
       "    </tr>\n",
       "  </tbody>\n",
       "</table>\n",
       "</div>"
      ],
      "text/plain": [
       "                 Model    AVG F1   AVG AUC  AVG Precision  AVG Recall  \\\n",
       "0  Logistic Regression  0.603266  0.725765       0.677022    0.544362   \n",
       "3              XGBoost  0.597061  0.699279       0.642393    0.559087   \n",
       "2        Random Forest  0.584983  0.676750       0.594487    0.576650   \n",
       "1        Decision Tree  0.551325  0.632899       0.595979    0.513532   \n",
       "\n",
       "   AVG Accuracy  \n",
       "0      0.674225  \n",
       "3      0.656729  \n",
       "2      0.627782  \n",
       "1      0.619790  "
      ]
     },
     "execution_count": 73,
     "metadata": {},
     "output_type": "execute_result"
    }
   ],
   "source": [
    "# print the result, sort by the AVG F1\n",
    "cv_result.sort_values(by='AVG F1', ascending=False)"
   ]
  },
  {
   "cell_type": "markdown",
   "id": "529f04da-58ad-4ee1-a999-cb94be3b59a8",
   "metadata": {},
   "source": [
    "### Tuning"
   ]
  },
  {
   "cell_type": "markdown",
   "id": "21aef35a-e5bf-408e-a472-ca76b450682d",
   "metadata": {},
   "source": [
    "#### Random Search"
   ]
  },
  {
   "cell_type": "code",
   "execution_count": 113,
   "id": "2c91fc2f-8e9f-4457-b487-353836a2c93e",
   "metadata": {},
   "outputs": [],
   "source": [
    "# define params grid for decision tree\n",
    "dt_param_dis = {\n",
    "    'model__criterion': ['gini','entropy'],\n",
    "    'model__splitter': ['best','random'],\n",
    "    'model__max_depth': [2,5,10,20,40,None],\n",
    "    'model__min_samples_split': [2,5,10,15],\n",
    "    'model__max_features': ['auto','sqrt','log2',None]}"
   ]
  },
  {
   "cell_type": "code",
   "execution_count": 88,
   "id": "da4e7b5e-8e30-4433-b8c3-3a151ae29e33",
   "metadata": {},
   "outputs": [],
   "source": [
    "# define params grid for random forest\n",
    "rf_param_grid = {\n",
    "    'n_estimators': [int(x) for x in np.linspace(start = 100, stop = 200, num = 20)],\n",
    "    'max_features': ['auto', 'sqrt'],\n",
    "    'max_depth': [int(x) for x in np.linspace(80, 100, num = 10)],\n",
    "    'min_samples_split': [int(x) for x in np.linspace(start = 2, stop = 20, num = 5)],\n",
    "    'min_samples_leaf': [int(x) for x in np.linspace(start = 1, stop = 20, num = 2)],\n",
    "    'bootstrap': [True, False]\n",
    "}"
   ]
  },
  {
   "cell_type": "code",
   "execution_count": 97,
   "id": "65ee15ea-65b3-489e-9ecb-7521314bbc71",
   "metadata": {},
   "outputs": [],
   "source": [
    "# define params grid for XGB\n",
    "xgb_param_grid = {\n",
    "    'max_depth': [int(x) for x in np.linspace(start = 3, stop = 5, num = 1)],\n",
    "    'learning_rate': [float(x) for x in np.arange(start = 0.1, stop = 0.5, step = 0.1)],\n",
    "    'n_estimators': [int(x) for x in np.linspace(start = 300, stop = 500, num = 50)],\n",
    "    'reg_alpha': [float(x) for x in np.arange(start = 2.5, stop = 5.0, step = 0.1)],\n",
    "    'reg_lambda': [float(x) for x in np.arange(start = 2.5, stop = 5.0, step = 0.1)]\n",
    "}"
   ]
  },
  {
   "cell_type": "code",
   "execution_count": 116,
   "id": "e4886c79-fc04-47d1-ae04-ef5496a58076",
   "metadata": {},
   "outputs": [],
   "source": [
    "tuning_classifiers = {\n",
    "    'Decision Tree' : \n",
    "    {'model': DecisionTreeClassifier(random_state = rand), 'param_grid': dt_param_dis},\n",
    "    'Random Forest' : \n",
    "    {'model': RandomForestClassifier(random_state = rand), 'param_grid': rf_param_grid},\n",
    "    'XGBoost': \n",
    "    {'model': XGBClassifier(random_state = rand), 'param_grid': xgb_param_grid},\n",
    "    \n",
    "}"
   ]
  },
  {
   "cell_type": "code",
   "execution_count": 117,
   "id": "814fe31a-335a-435d-8e47-fde6d5314b39",
   "metadata": {},
   "outputs": [
    {
     "name": "stdout",
     "output_type": "stream",
     "text": [
      "Decision Tree\n",
      "best score = 0.6880539373066371\n",
      "best params = {'reg_lambda': 4.900000000000002, 'reg_alpha': 2.7, 'n_estimators': 414, 'max_depth': 3, 'learning_rate': 0.1}\n",
      "\n",
      "Random Forest\n",
      "best score = 0.6889181016870002\n",
      "best params = {'reg_lambda': 3.700000000000001, 'reg_alpha': 2.9000000000000004, 'n_estimators': 451, 'max_depth': 3, 'learning_rate': 0.2}\n",
      "\n",
      "XGBoost\n",
      "best score = 0.6882694530383515\n",
      "best params = {'reg_lambda': 2.9000000000000004, 'reg_alpha': 3.2000000000000006, 'n_estimators': 361, 'max_depth': 3, 'learning_rate': 0.2}\n",
      "\n"
     ]
    }
   ],
   "source": [
    "for model_name in tuning_classifiers.keys():\n",
    "    rs = RandomizedSearchCV(\n",
    "        estimator = tuning_classifiers[i]['model'], \n",
    "        param_distributions = tuning_classifiers[i]['param_grid'], \n",
    "        n_iter = 100, \n",
    "        cv = 5, \n",
    "        scoring ='f1_micro')\n",
    "    rs.fit(X_train, y_train)\n",
    "    print(model_name)\n",
    "    print('best score = ' + str(rs.best_score_))\n",
    "    print('best params = ' + str(rs.best_params_))\n",
    "    print()"
   ]
  },
  {
   "cell_type": "markdown",
   "id": "3ad1ef5a-734c-46c5-a3d3-7f683b034559",
   "metadata": {
    "id": "c758c9d7-0447-4198-993b-82f0bac4ac99"
   },
   "source": [
    "## Model Interpretations"
   ]
  },
  {
   "cell_type": "markdown",
   "id": "96d9fea1-ca93-4f30-8da3-f618409ceba9",
   "metadata": {},
   "source": [
    "#### Logistic Regression"
   ]
  },
  {
   "cell_type": "code",
   "execution_count": 118,
   "id": "e9250574-7e61-4cca-9af8-ff9cd047457b",
   "metadata": {},
   "outputs": [
    {
     "ename": "AttributeError",
     "evalue": "'LogisticRegression' object has no attribute 'coef_'",
     "output_type": "error",
     "traceback": [
      "\u001b[0;31m---------------------------------------------------------------------------\u001b[0m",
      "\u001b[0;31mAttributeError\u001b[0m                            Traceback (most recent call last)",
      "Cell \u001b[0;32mIn [118], line 1\u001b[0m\n\u001b[0;32m----> 1\u001b[0m coefs_log \u001b[38;5;241m=\u001b[39m classifiers[\u001b[38;5;124m'\u001b[39m\u001b[38;5;124mLogistic Regression\u001b[39m\u001b[38;5;124m'\u001b[39m][\u001b[38;5;124m'\u001b[39m\u001b[38;5;124mmodel\u001b[39m\u001b[38;5;124m'\u001b[39m]\u001b[38;5;241m.\u001b[39msteps[\u001b[38;5;241m1\u001b[39m][\u001b[38;5;241m1\u001b[39m]\u001b[38;5;241m.\u001b[39mcoef_[\u001b[38;5;241m0\u001b[39m]\n\u001b[1;32m      2\u001b[0m intercept_log \u001b[38;5;241m=\u001b[39m classifiers[\u001b[38;5;124m'\u001b[39m\u001b[38;5;124mLogistic Regression\u001b[39m\u001b[38;5;124m'\u001b[39m][\u001b[38;5;124m'\u001b[39m\u001b[38;5;124mmodel\u001b[39m\u001b[38;5;124m'\u001b[39m]\u001b[38;5;241m.\u001b[39msteps[\u001b[38;5;241m1\u001b[39m][\u001b[38;5;241m1\u001b[39m]\u001b[38;5;241m.\u001b[39mintercept_\n\u001b[1;32m      3\u001b[0m \u001b[38;5;28mprint\u001b[39m(\u001b[38;5;124m'\u001b[39m\u001b[38;5;124mcoefficients:\u001b[39m\u001b[38;5;130;01m\\t\u001b[39;00m\u001b[38;5;132;01m%s\u001b[39;00m\u001b[38;5;124m'\u001b[39m \u001b[38;5;241m%\u001b[39m coefs_log)\n",
      "\u001b[0;31mAttributeError\u001b[0m: 'LogisticRegression' object has no attribute 'coef_'"
     ]
    }
   ],
   "source": [
    "coefs_log = classifiers['Logistic Regression']['model'].steps[1][1].coef_[0]\n",
    "intercept_log = classifiers['Logistic Regression']['model'].steps[1][1].intercept_\n",
    "print('coefficients:\\t%s' % coefs_log)\n",
    "print('intercept:\\t%s' % intercept_log)"
   ]
  },
  {
   "cell_type": "code",
   "execution_count": 119,
   "id": "204e8904-7462-46ea-96e1-e890a55da875",
   "metadata": {},
   "outputs": [],
   "source": [
    "lg = Pipeline(steps = [\n",
    "            ('scale', StandardScaler()),\n",
    "            ('classifier', LogisticRegression(random_state = rand))\n",
    "             ])"
   ]
  },
  {
   "cell_type": "code",
   "execution_count": 120,
   "id": "a4f840c6-dcd4-4268-ba00-6c1fa5098a42",
   "metadata": {},
   "outputs": [
    {
     "data": {
      "text/html": [
       "<style>#sk-container-id-3 {color: black;background-color: white;}#sk-container-id-3 pre{padding: 0;}#sk-container-id-3 div.sk-toggleable {background-color: white;}#sk-container-id-3 label.sk-toggleable__label {cursor: pointer;display: block;width: 100%;margin-bottom: 0;padding: 0.3em;box-sizing: border-box;text-align: center;}#sk-container-id-3 label.sk-toggleable__label-arrow:before {content: \"▸\";float: left;margin-right: 0.25em;color: #696969;}#sk-container-id-3 label.sk-toggleable__label-arrow:hover:before {color: black;}#sk-container-id-3 div.sk-estimator:hover label.sk-toggleable__label-arrow:before {color: black;}#sk-container-id-3 div.sk-toggleable__content {max-height: 0;max-width: 0;overflow: hidden;text-align: left;background-color: #f0f8ff;}#sk-container-id-3 div.sk-toggleable__content pre {margin: 0.2em;color: black;border-radius: 0.25em;background-color: #f0f8ff;}#sk-container-id-3 input.sk-toggleable__control:checked~div.sk-toggleable__content {max-height: 200px;max-width: 100%;overflow: auto;}#sk-container-id-3 input.sk-toggleable__control:checked~label.sk-toggleable__label-arrow:before {content: \"▾\";}#sk-container-id-3 div.sk-estimator input.sk-toggleable__control:checked~label.sk-toggleable__label {background-color: #d4ebff;}#sk-container-id-3 div.sk-label input.sk-toggleable__control:checked~label.sk-toggleable__label {background-color: #d4ebff;}#sk-container-id-3 input.sk-hidden--visually {border: 0;clip: rect(1px 1px 1px 1px);clip: rect(1px, 1px, 1px, 1px);height: 1px;margin: -1px;overflow: hidden;padding: 0;position: absolute;width: 1px;}#sk-container-id-3 div.sk-estimator {font-family: monospace;background-color: #f0f8ff;border: 1px dotted black;border-radius: 0.25em;box-sizing: border-box;margin-bottom: 0.5em;}#sk-container-id-3 div.sk-estimator:hover {background-color: #d4ebff;}#sk-container-id-3 div.sk-parallel-item::after {content: \"\";width: 100%;border-bottom: 1px solid gray;flex-grow: 1;}#sk-container-id-3 div.sk-label:hover label.sk-toggleable__label {background-color: #d4ebff;}#sk-container-id-3 div.sk-serial::before {content: \"\";position: absolute;border-left: 1px solid gray;box-sizing: border-box;top: 0;bottom: 0;left: 50%;z-index: 0;}#sk-container-id-3 div.sk-serial {display: flex;flex-direction: column;align-items: center;background-color: white;padding-right: 0.2em;padding-left: 0.2em;position: relative;}#sk-container-id-3 div.sk-item {position: relative;z-index: 1;}#sk-container-id-3 div.sk-parallel {display: flex;align-items: stretch;justify-content: center;background-color: white;position: relative;}#sk-container-id-3 div.sk-item::before, #sk-container-id-3 div.sk-parallel-item::before {content: \"\";position: absolute;border-left: 1px solid gray;box-sizing: border-box;top: 0;bottom: 0;left: 50%;z-index: -1;}#sk-container-id-3 div.sk-parallel-item {display: flex;flex-direction: column;z-index: 1;position: relative;background-color: white;}#sk-container-id-3 div.sk-parallel-item:first-child::after {align-self: flex-end;width: 50%;}#sk-container-id-3 div.sk-parallel-item:last-child::after {align-self: flex-start;width: 50%;}#sk-container-id-3 div.sk-parallel-item:only-child::after {width: 0;}#sk-container-id-3 div.sk-dashed-wrapped {border: 1px dashed gray;margin: 0 0.4em 0.5em 0.4em;box-sizing: border-box;padding-bottom: 0.4em;background-color: white;}#sk-container-id-3 div.sk-label label {font-family: monospace;font-weight: bold;display: inline-block;line-height: 1.2em;}#sk-container-id-3 div.sk-label-container {text-align: center;}#sk-container-id-3 div.sk-container {/* jupyter's `normalize.less` sets `[hidden] { display: none; }` but bootstrap.min.css set `[hidden] { display: none !important; }` so we also need the `!important` here to be able to override the default hidden behavior on the sphinx rendered scikit-learn.org. See: https://github.com/scikit-learn/scikit-learn/issues/21755 */display: inline-block !important;position: relative;}#sk-container-id-3 div.sk-text-repr-fallback {display: none;}</style><div id=\"sk-container-id-3\" class=\"sk-top-container\"><div class=\"sk-text-repr-fallback\"><pre>Pipeline(steps=[(&#x27;scale&#x27;, StandardScaler()),\n",
       "                (&#x27;classifier&#x27;, LogisticRegression(random_state=3))])</pre><b>In a Jupyter environment, please rerun this cell to show the HTML representation or trust the notebook. <br />On GitHub, the HTML representation is unable to render, please try loading this page with nbviewer.org.</b></div><div class=\"sk-container\" hidden><div class=\"sk-item sk-dashed-wrapped\"><div class=\"sk-label-container\"><div class=\"sk-label sk-toggleable\"><input class=\"sk-toggleable__control sk-hidden--visually\" id=\"sk-estimator-id-3\" type=\"checkbox\" ><label for=\"sk-estimator-id-3\" class=\"sk-toggleable__label sk-toggleable__label-arrow\">Pipeline</label><div class=\"sk-toggleable__content\"><pre>Pipeline(steps=[(&#x27;scale&#x27;, StandardScaler()),\n",
       "                (&#x27;classifier&#x27;, LogisticRegression(random_state=3))])</pre></div></div></div><div class=\"sk-serial\"><div class=\"sk-item\"><div class=\"sk-estimator sk-toggleable\"><input class=\"sk-toggleable__control sk-hidden--visually\" id=\"sk-estimator-id-4\" type=\"checkbox\" ><label for=\"sk-estimator-id-4\" class=\"sk-toggleable__label sk-toggleable__label-arrow\">StandardScaler</label><div class=\"sk-toggleable__content\"><pre>StandardScaler()</pre></div></div></div><div class=\"sk-item\"><div class=\"sk-estimator sk-toggleable\"><input class=\"sk-toggleable__control sk-hidden--visually\" id=\"sk-estimator-id-5\" type=\"checkbox\" ><label for=\"sk-estimator-id-5\" class=\"sk-toggleable__label sk-toggleable__label-arrow\">LogisticRegression</label><div class=\"sk-toggleable__content\"><pre>LogisticRegression(random_state=3)</pre></div></div></div></div></div></div></div>"
      ],
      "text/plain": [
       "Pipeline(steps=[('scale', StandardScaler()),\n",
       "                ('classifier', LogisticRegression(random_state=3))])"
      ]
     },
     "execution_count": 120,
     "metadata": {},
     "output_type": "execute_result"
    }
   ],
   "source": [
    "lg.fit(X_train, y_train)"
   ]
  },
  {
   "cell_type": "code",
   "execution_count": null,
   "id": "4e040be4-3aed-45c5-b6eb-baba16d69c71",
   "metadata": {},
   "outputs": [],
   "source": []
  }
 ],
 "metadata": {
  "kernelspec": {
   "display_name": "Python 3 (ipykernel)",
   "language": "python",
   "name": "python3"
  },
  "language_info": {
   "codemirror_mode": {
    "name": "ipython",
    "version": 3
   },
   "file_extension": ".py",
   "mimetype": "text/x-python",
   "name": "python",
   "nbconvert_exporter": "python",
   "pygments_lexer": "ipython3",
   "version": "3.9.6"
  }
 },
 "nbformat": 4,
 "nbformat_minor": 5
}
