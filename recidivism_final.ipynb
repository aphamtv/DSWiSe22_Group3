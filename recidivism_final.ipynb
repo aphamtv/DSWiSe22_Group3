{
 "cells": [
  {
   "cell_type": "markdown",
   "id": "3d4054af-c07e-48bc-9243-0b4c91144abb",
   "metadata": {},
   "source": [
    "# Recidivism Classification"
   ]
  },
  {
   "cell_type": "markdown",
   "id": "27de8099-7dc6-4954-8369-b71d388e55e4",
   "metadata": {},
   "source": [
    "The use of algorithms in the criminal justice system has become increasingly popular, with one such algorithm being the Compas risk assessment tool. While the exact number of features used by Compas is not publicly disclosed, it is known to consider a combination of demographic information and criminal history data to predict the risk of recidivism. However, the nature of the Compas algorithm is complex and its functioning is considered to be \"black-box,\" making it difficult to interpret the reasoning behind its predictions.\n",
    "\n",
    "Given the limitations and potential biases associated with the use of such black-box models, it is of interest to explore alternative approaches to predicting recidivism. This study aims to answer the question of whether recidivism can be predicted based on simple factors such as age, gender, race, and prior history of recidivism. Additionally, we aim to compare the performance of a more complex tree-based statistical model with a simpler logistic regression model.\n",
    "\n",
    "It is hypothesized that tree-based statistical methods will yield better predictions than logistic regression, and this project aims to examine the feature importance, predictability, and model interpretability of the two approaches."
   ]
  },
  {
   "cell_type": "markdown",
   "id": "7fbd1b71-9ec9-461c-ad53-226bd07d904d",
   "metadata": {
    "tags": []
   },
   "source": [
    "## Data Preparation"
   ]
  },
  {
   "cell_type": "code",
   "execution_count": 1,
   "id": "6775a9c7-01c8-403a-9975-7ef2f13a6e82",
   "metadata": {},
   "outputs": [],
   "source": [
    "import numpy as np\n",
    "import matplotlib.pyplot as plt\n",
    "import pandas as pd\n",
    "import seaborn as sns\n",
    "from sklearn.linear_model import LogisticRegression\n",
    "from sklearn.ensemble import RandomForestClassifier\n",
    "from sklearn.tree import DecisionTreeClassifier, plot_tree, export_text\n",
    "from time import time\n",
    "from sklearn import metrics\n",
    "from sklearn.model_selection import cross_val_score, train_test_split,cross_validate, StratifiedKFold\n",
    "from xgboost import XGBClassifier\n",
    "from sklearn.compose import ColumnTransformer\n",
    "from sklearn.pipeline import Pipeline\n",
    "from sklearn.preprocessing import LabelEncoder, StandardScaler\n",
    "from sklearn.model_selection import GridSearchCV, RandomizedSearchCV\n",
    "import warnings\n",
    "import os\n",
    "warnings.filterwarnings('ignore')"
   ]
  },
  {
   "cell_type": "code",
   "execution_count": 2,
   "id": "84235978-4b54-4ca9-9bae-27dabfb0ef39",
   "metadata": {},
   "outputs": [],
   "source": [
    "# set global random seed\n",
    "rand = 3\n",
    "os.environ['PYTHONHASHSEED']=str(rand)\n",
    "np.random.seed(rand)"
   ]
  },
  {
   "cell_type": "markdown",
   "id": "4f657003-52ef-45c2-9d37-eedd6b5b9563",
   "metadata": {},
   "source": [
    "### Load Data"
   ]
  },
  {
   "cell_type": "markdown",
   "id": "656121ec-95aa-4555-9bca-6f1810fb7de0",
   "metadata": {},
   "source": [
    "We use the `Compas-scores-two-years` dataset published by ProPublica and apply the same data filter used by them to create a new dataframe compas_df. The dataset contains information on defendants charged with a crime and assessed using the COMPAS risk assessment tool. The data includes demographic information, criminal history, and the results of the COMPAS assessment, including a predicted risk score and likelihood of recidivism over a two-year period. The filter selects only the rows from the data where the number of days between the arrest and the screening is within the range of -30 to 30, the value in the is_recid column is not -1, the value in the c_charge_degree column is not \"O\", and the value in the score_text column is not \"N/A\"."
   ]
  },
  {
   "cell_type": "code",
   "execution_count": 3,
   "id": "4a3324f6-a1ed-4281-a75b-8a6aa3987ca4",
   "metadata": {},
   "outputs": [
    {
     "data": {
      "text/plain": [
       "Index(['id', 'name', 'first', 'last', 'compas_screening_date', 'sex', 'dob',\n",
       "       'age', 'age_cat', 'race', 'juv_fel_count', 'decile_score',\n",
       "       'juv_misd_count', 'juv_other_count', 'priors_count',\n",
       "       'days_b_screening_arrest', 'c_jail_in', 'c_jail_out', 'c_case_number',\n",
       "       'c_offense_date', 'c_arrest_date', 'c_days_from_compas',\n",
       "       'c_charge_degree', 'c_charge_desc', 'is_recid', 'r_case_number',\n",
       "       'r_charge_degree', 'r_days_from_arrest', 'r_offense_date',\n",
       "       'r_charge_desc', 'r_jail_in', 'r_jail_out', 'violent_recid',\n",
       "       'is_violent_recid', 'vr_case_number', 'vr_charge_degree',\n",
       "       'vr_offense_date', 'vr_charge_desc', 'type_of_assessment',\n",
       "       'decile_score.1', 'score_text', 'screening_date',\n",
       "       'v_type_of_assessment', 'v_decile_score', 'v_score_text',\n",
       "       'v_screening_date', 'in_custody', 'out_custody', 'priors_count.1',\n",
       "       'start', 'end', 'event', 'two_year_recid'],\n",
       "      dtype='object')"
      ]
     },
     "execution_count": 3,
     "metadata": {},
     "output_type": "execute_result"
    }
   ],
   "source": [
    "dataURL = 'https://raw.githubusercontent.com/propublica/compas-analysis/master/compas-scores-two-years.csv'\n",
    "compas_df = pd.read_csv(dataURL)\n",
    "compas_df.columns"
   ]
  },
  {
   "cell_type": "code",
   "execution_count": 4,
   "id": "ddc573b6-fcb2-4a60-ad05-b5ec6009fe66",
   "metadata": {},
   "outputs": [
    {
     "data": {
      "text/plain": [
       "(6172, 53)"
      ]
     },
     "execution_count": 4,
     "metadata": {},
     "output_type": "execute_result"
    }
   ],
   "source": [
    "df = compas_df.loc[\n",
    "    (compas_df['days_b_screening_arrest'] <= 30) &\n",
    "    (compas_df['days_b_screening_arrest'] >= -30) &\n",
    "    (compas_df['is_recid'] != -1) &\n",
    "    (compas_df['c_charge_degree'] != \"O\") &\n",
    "    (compas_df['score_text'] != \"N/A\")\n",
    "]\n",
    "df.shape"
   ]
  },
  {
   "cell_type": "markdown",
   "id": "d82b039e-d52d-4b6f-a807-37915329b8af",
   "metadata": {},
   "source": [
    "Our hypothesis focuses on the predictability of recidivism based on simple factors, therefore, we only use a subset of the features available in the dataset. The selected features include 'sex', 'age', 'race', 'priors_count', and 'c_charge_degree', which will be used to predict the two-year recidivism. These features were chosen based on their simplicity and potential impact on recidivism, and represent a mix of demographic and criminal history information.\""
   ]
  },
  {
   "cell_type": "code",
   "execution_count": 5,
   "id": "e826f5b8-11bc-4fbd-9c8d-ca4f9fa91c5e",
   "metadata": {},
   "outputs": [
    {
     "data": {
      "text/plain": [
       "(6172, 6)"
      ]
     },
     "execution_count": 5,
     "metadata": {},
     "output_type": "execute_result"
    }
   ],
   "source": [
    "df = df[['sex', 'age', 'race', 'priors_count', 'c_charge_degree', 'two_year_recid']]\n",
    "df.shape"
   ]
  },
  {
   "cell_type": "markdown",
   "id": "3b4bab22-1737-4636-bc65-6e5c07d8c68f",
   "metadata": {},
   "source": [
    "the dataset is composed of  6172 rows and 6 columns"
   ]
  },
  {
   "cell_type": "markdown",
   "id": "064293a3-c8f7-4e0c-b49e-e7349e694fc0",
   "metadata": {
    "tags": []
   },
   "source": [
    "### Processing Data"
   ]
  },
  {
   "cell_type": "markdown",
   "id": "1232ce8c-18dc-403c-8694-fac2fc61aed2",
   "metadata": {},
   "source": [
    "### Data bias \n",
    "Before analyzing the data, it is important to check for data bias. Our analysis reveals that the sample is unbalanced with regards to the race feature, where the sample data of COMPAS have extremely small representation of Asian and Native American. According to the US Census data, Asians make up about 5.23% of the nation’s overall population in 2014; in the ProPublica, however, they accounts for only 0.5% of the data."
   ]
  },
  {
   "cell_type": "code",
   "execution_count": 6,
   "id": "585619eb-9461-4c67-b225-3626d1324fa1",
   "metadata": {},
   "outputs": [
    {
     "data": {
      "text/plain": [
       "<AxesSubplot:title={'center':'Defendants by Race Distribution'}>"
      ]
     },
     "execution_count": 6,
     "metadata": {},
     "output_type": "execute_result"
    },
    {
     "data": {
      "image/png": "[encoded data removed]",
      "text/plain": [
       "<Figure size 432x288 with 1 Axes>"
      ]
     },
     "metadata": {
      "needs_background": "light"
     },
     "output_type": "display_data"
    }
   ],
   "source": [
    "df['race'].value_counts().plot(\n",
    "    title = \"Defendants by Race Distribution\",\n",
    "    kind= \"barh\", \n",
    "    color = \"#4D4D4D\")"
   ]
  },
  {
   "cell_type": "code",
   "execution_count": 7,
   "id": "9628aaf5-cb4d-4e8b-b214-35855da36000",
   "metadata": {},
   "outputs": [
    {
     "name": "stdout",
     "output_type": "stream",
     "text": [
      "Race Distribution of Defendants\n",
      "                  Value Counts  Percentage\n",
      "African-American          3175      51.442\n",
      "Caucasian                 2103      34.073\n",
      "Hispanic                   509       8.247\n",
      "Other                      343       5.557\n",
      "Asian                       31       0.502\n",
      "Native American             11       0.178\n"
     ]
    }
   ],
   "source": [
    "value_counts = df['race'].value_counts()\n",
    "percentage = np.round(value_counts / len(df) * 100,3)\n",
    "\n",
    "table = pd.concat([value_counts, percentage], axis=1)\n",
    "table.columns = ['Value Counts', 'Percentage']\n",
    "print(\"Race Distribution of Defendants\")\n",
    "print(table)"
   ]
  },
  {
   "cell_type": "markdown",
   "id": "8347199d-b9c6-421e-93f1-71e907f5725e",
   "metadata": {},
   "source": [
    " To address this issue, we merge these two groups into a single \"Other\" group, making the sample data more balanced and allowing us to make more accurate predictions.\""
   ]
  },
  {
   "cell_type": "code",
   "execution_count": 8,
   "id": "05b32f22-e776-4e36-ae4c-d14f96362ad5",
   "metadata": {},
   "outputs": [
    {
     "data": {
      "text/plain": [
       "African-American    3175\n",
       "Caucasian           2103\n",
       "Hispanic             509\n",
       "Other                385\n",
       "Name: race, dtype: int64"
      ]
     },
     "execution_count": 8,
     "metadata": {},
     "output_type": "execute_result"
    }
   ],
   "source": [
    "df.loc[df['race'].isin(['Native American', 'Asian']), 'race'] = \"Other\"\n",
    "df['race'].value_counts()"
   ]
  },
  {
   "cell_type": "markdown",
   "id": "62d096bf-d8ca-406c-a128-432656bc783e",
   "metadata": {},
   "source": [
    "### Data Imbalance"
   ]
  },
  {
   "cell_type": "markdown",
   "id": "03e90e53-5487-4ed3-8a69-e6f4f4d25ba0",
   "metadata": {},
   "source": [
    "In this step, we are checking the balance of the target variable, which is the rate of recidivism. According to the data, the rate of not recidivism is 45.51% and the rate of recidivism is 54.49%. This means that the data is imbalanced, with a higher rate of recidivism than not recidivism. Despite the imbalance, the difference in the rate is small, so we have decided to leave it as it is, without making any adjustments."
   ]
  },
  {
   "cell_type": "code",
   "execution_count": 9,
   "id": "6fec6b6f-3e74-4bfb-8c71-6c7477ddaaf7",
   "metadata": {},
   "outputs": [
    {
     "name": "stdout",
     "output_type": "stream",
     "text": [
      "Not Recidivism Rate: 45.512%\n",
      "Recidivism Rate: 54.488%\n"
     ]
    }
   ],
   "source": [
    "not_recid = (df['two_year_recid'].sum()/df['two_year_recid'].shape[0])*100\n",
    "\n",
    "print(\"Not Recidivism Rate: %.3f%%\" % not_recid)\n",
    "print(\"Recidivism Rate: %.3f%%\" % (100-not_recid))"
   ]
  },
  {
   "cell_type": "markdown",
   "id": "9bb71a09-f450-4d82-8dca-6ad80fb8e207",
   "metadata": {},
   "source": [
    "### Categorical Data Encoding"
   ]
  },
  {
   "cell_type": "markdown",
   "id": "ac579e37-e21a-4c2f-a2d7-7607600fc17e",
   "metadata": {},
   "source": [
    "The categorical data is converted into numerical data. The purpose of converting these variables into numerical form is to make it easier for machine learning algorithms to work with the data."
   ]
  },
  {
   "cell_type": "code",
   "execution_count": 10,
   "id": "64d3a0bb-e620-47a9-b964-97d58c7c0939",
   "metadata": {},
   "outputs": [],
   "source": [
    "# Create a dictionary to store the original and encoded values\n",
    "encoding_dict = {}\n",
    "\n",
    "# # Fit and transform the data in each column\n",
    "for column in ['race','sex','c_charge_degree']:\n",
    "    encoder = LabelEncoder()\n",
    "    # Fit and transform the data\n",
    "    df[column] = encoder.fit_transform(df[column])\n",
    "    \n",
    "    # Create the mapping dictionary\n",
    "    encoding_dict[column] = dict(zip(encoder.classes_, encoder.transform(encoder.classes_)))\n",
    "# print(encoding_dict)"
   ]
  },
  {
   "cell_type": "code",
   "execution_count": 11,
   "id": "378fc552-b4d6-4946-991b-774b97ddfd29",
   "metadata": {},
   "outputs": [
    {
     "data": {
      "text/html": [
       "<div>\n",
       "<style scoped>\n",
       "    .dataframe tbody tr th:only-of-type {\n",
       "        vertical-align: middle;\n",
       "    }\n",
       "\n",
       "    .dataframe tbody tr th {\n",
       "        vertical-align: top;\n",
       "    }\n",
       "\n",
       "    .dataframe thead th {\n",
       "        text-align: right;\n",
       "    }\n",
       "</style>\n",
       "<table border=\"1\" class=\"dataframe\">\n",
       "  <thead>\n",
       "    <tr style=\"text-align: right;\">\n",
       "      <th></th>\n",
       "      <th>sex</th>\n",
       "      <th>age</th>\n",
       "      <th>race</th>\n",
       "      <th>priors_count</th>\n",
       "      <th>c_charge_degree</th>\n",
       "      <th>two_year_recid</th>\n",
       "    </tr>\n",
       "  </thead>\n",
       "  <tbody>\n",
       "    <tr>\n",
       "      <th>0</th>\n",
       "      <td>1</td>\n",
       "      <td>69</td>\n",
       "      <td>3</td>\n",
       "      <td>0</td>\n",
       "      <td>0</td>\n",
       "      <td>0</td>\n",
       "    </tr>\n",
       "    <tr>\n",
       "      <th>1</th>\n",
       "      <td>1</td>\n",
       "      <td>34</td>\n",
       "      <td>0</td>\n",
       "      <td>0</td>\n",
       "      <td>0</td>\n",
       "      <td>1</td>\n",
       "    </tr>\n",
       "    <tr>\n",
       "      <th>2</th>\n",
       "      <td>1</td>\n",
       "      <td>24</td>\n",
       "      <td>0</td>\n",
       "      <td>4</td>\n",
       "      <td>0</td>\n",
       "      <td>1</td>\n",
       "    </tr>\n",
       "    <tr>\n",
       "      <th>5</th>\n",
       "      <td>1</td>\n",
       "      <td>44</td>\n",
       "      <td>3</td>\n",
       "      <td>0</td>\n",
       "      <td>1</td>\n",
       "      <td>0</td>\n",
       "    </tr>\n",
       "    <tr>\n",
       "      <th>6</th>\n",
       "      <td>1</td>\n",
       "      <td>41</td>\n",
       "      <td>1</td>\n",
       "      <td>14</td>\n",
       "      <td>0</td>\n",
       "      <td>1</td>\n",
       "    </tr>\n",
       "  </tbody>\n",
       "</table>\n",
       "</div>"
      ],
      "text/plain": [
       "   sex  age  race  priors_count  c_charge_degree  two_year_recid\n",
       "0    1   69     3             0                0               0\n",
       "1    1   34     0             0                0               1\n",
       "2    1   24     0             4                0               1\n",
       "5    1   44     3             0                1               0\n",
       "6    1   41     1            14                0               1"
      ]
     },
     "execution_count": 11,
     "metadata": {},
     "output_type": "execute_result"
    }
   ],
   "source": [
    "df.head()"
   ]
  },
  {
   "cell_type": "markdown",
   "id": "fc7d68e5-dba2-42c0-a4be-9b1ffae7c523",
   "metadata": {
    "tags": []
   },
   "source": [
    "## Model Implementation"
   ]
  },
  {
   "cell_type": "markdown",
   "id": "22db3832-a18c-4554-a813-4b2439c42d7d",
   "metadata": {},
   "source": [
    "### Training and Testing Data"
   ]
  },
  {
   "cell_type": "markdown",
   "id": "aa76152e-776c-4734-936f-142b0c9df02f",
   "metadata": {},
   "source": [
    "The dataset was divided into two parts: 70% for training and 30% for testing. In order to ensure that the proportion of positive and negative samples in both the training and testing datasets was the same as in the original dataset, the stratified sampling approach was used with the target variable 'two_year_recid' as the stratification criterion. This helps to avoid any bias in the model evaluation that could result from an imbalanced distribution of the target variable in the training and testing datasets."
   ]
  },
  {
   "cell_type": "code",
   "execution_count": 12,
   "id": "f0f8af9f-e4fc-4f22-b114-5b1615c4abb8",
   "metadata": {},
   "outputs": [],
   "source": [
    "# define features, target, and stratify for splitting\n",
    "features = df[['sex','age','race','priors_count','c_charge_degree']]\n",
    "target = df['two_year_recid']\n",
    "stratify = df['two_year_recid']"
   ]
  },
  {
   "cell_type": "code",
   "execution_count": 13,
   "id": "0c3f89e9-3157-4c10-9b24-df17924f0786",
   "metadata": {},
   "outputs": [],
   "source": [
    "X_train, X_test, y_train, y_test = train_test_split(\n",
    "        features, \n",
    "        target, \n",
    "        test_size = 0.3,\n",
    "        random_state = rand\n",
    ")"
   ]
  },
  {
   "cell_type": "code",
   "execution_count": 84,
   "id": "ba4aad7c",
   "metadata": {},
   "outputs": [
    {
     "data": {
      "text/html": [
       "<div>\n",
       "<style scoped>\n",
       "    .dataframe tbody tr th:only-of-type {\n",
       "        vertical-align: middle;\n",
       "    }\n",
       "\n",
       "    .dataframe tbody tr th {\n",
       "        vertical-align: top;\n",
       "    }\n",
       "\n",
       "    .dataframe thead th {\n",
       "        text-align: right;\n",
       "    }\n",
       "</style>\n",
       "<table border=\"1\" class=\"dataframe\">\n",
       "  <thead>\n",
       "    <tr style=\"text-align: right;\">\n",
       "      <th></th>\n",
       "      <th>sex</th>\n",
       "      <th>age</th>\n",
       "      <th>race</th>\n",
       "      <th>priors_count</th>\n",
       "      <th>c_charge_degree</th>\n",
       "    </tr>\n",
       "  </thead>\n",
       "  <tbody>\n",
       "    <tr>\n",
       "      <th>2036</th>\n",
       "      <td>1</td>\n",
       "      <td>21</td>\n",
       "      <td>1</td>\n",
       "      <td>0</td>\n",
       "      <td>1</td>\n",
       "    </tr>\n",
       "    <tr>\n",
       "      <th>20</th>\n",
       "      <td>1</td>\n",
       "      <td>64</td>\n",
       "      <td>0</td>\n",
       "      <td>13</td>\n",
       "      <td>0</td>\n",
       "    </tr>\n",
       "    <tr>\n",
       "      <th>536</th>\n",
       "      <td>1</td>\n",
       "      <td>32</td>\n",
       "      <td>2</td>\n",
       "      <td>20</td>\n",
       "      <td>0</td>\n",
       "    </tr>\n",
       "    <tr>\n",
       "      <th>6433</th>\n",
       "      <td>0</td>\n",
       "      <td>25</td>\n",
       "      <td>0</td>\n",
       "      <td>5</td>\n",
       "      <td>0</td>\n",
       "    </tr>\n",
       "    <tr>\n",
       "      <th>2705</th>\n",
       "      <td>0</td>\n",
       "      <td>19</td>\n",
       "      <td>0</td>\n",
       "      <td>0</td>\n",
       "      <td>1</td>\n",
       "    </tr>\n",
       "  </tbody>\n",
       "</table>\n",
       "</div>"
      ],
      "text/plain": [
       "      sex  age  race  priors_count  c_charge_degree\n",
       "2036    1   21     1             0                1\n",
       "20      1   64     0            13                0\n",
       "536     1   32     2            20                0\n",
       "6433    0   25     0             5                0\n",
       "2705    0   19     0             0                1"
      ]
     },
     "execution_count": 84,
     "metadata": {},
     "output_type": "execute_result"
    }
   ],
   "source": [
    "X_test.head()"
   ]
  },
  {
   "cell_type": "markdown",
   "id": "db04ee9a-f043-4562-870c-02b5e66611fc",
   "metadata": {},
   "source": [
    "### Evaluation Metrics\n",
    "The F1 score and AUC ROC are used as the evaluation metrics for the models due to the slight imbalance in the data class. These metrics provide a comprehensive evaluation of the model's performance in terms of precision, recall, and accuracy, allowing us to address the imbalance in the data class and accurately assess the model's ability to predict recidivism. In addition, cross validation using Stratified Kfolds with 5 splits is also employed to improve the robustness of the model evaluation results."
   ]
  },
  {
   "cell_type": "markdown",
   "id": "24c75f31-a302-4563-8f37-1371172194ac",
   "metadata": {
    "id": "dc9189c8-d086-4e4f-8751-ace6a79a4345"
   },
   "source": [
    "### Model Selections"
   ]
  },
  {
   "cell_type": "markdown",
   "id": "77ba084f-9c73-4665-8d73-61cef169c906",
   "metadata": {},
   "source": [
    "We use Logistic Regression as the baseline model due to its simplicity and ease of interpretability. It is widely used for binary classification problems and can provide a quick and efficient solution for our problem.\n",
    "\n",
    "For the tree-based models, we use Decision Tree and Random Forest. Random Forest is an ensemble model that builds multiple decision trees and aggregates their predictions to reduce overfitting and improve accuracy. Decision Tree, on the other hand, builds a single tree from the training data, making it easier to interpret the model. These two models are popular for their performance, scalability, and ability to handle large datasets. \n",
    "\n",
    "Initially, the model is implemented on the training data without any tuning or adjustments to the model's parameters. This allows us to obtain a baseline performance of the model and serves as a starting point for further optimization."
   ]
  },
  {
   "cell_type": "code",
   "execution_count": 14,
   "id": "339a802d-426b-43ae-8669-833d4ce720f4",
   "metadata": {},
   "outputs": [],
   "source": [
    "classifiers = {\n",
    "    'Logistic Regression': {'model': Pipeline(steps = [\n",
    "            ('scale', StandardScaler()),\n",
    "            ('classifier', LogisticRegression(random_state = rand))])},\n",
    "    'Decision Tree' : {'model': DecisionTreeClassifier(random_state = rand)},\n",
    "    'Random Forest' : {'model': RandomForestClassifier(random_state = rand)},\n",
    "}"
   ]
  },
  {
   "cell_type": "code",
   "execution_count": 15,
   "id": "92034b03-1e14-48ea-a9f0-b0faed3239e4",
   "metadata": {},
   "outputs": [],
   "source": [
    "# create a df to store the cross-validation results of each model\n",
    "cv_result = pd.DataFrame(columns= ['Model', \n",
    "                                   'AVG F1', \n",
    "                                   'AVG AUC', \n",
    "                                   'AVG Precision', \n",
    "                                   'AVG Recall', \n",
    "                                   'AVG Accuracy'])"
   ]
  },
  {
   "cell_type": "code",
   "execution_count": 16,
   "id": "c1b9ca4c-266c-41f3-a2e9-01267c5ac46c",
   "metadata": {},
   "outputs": [],
   "source": [
    "for model_name in classifiers.keys():\n",
    "    model = classifiers[model_name]['model']\n",
    "    \n",
    "    # define scoring metrics\n",
    "    scoring = ['f1','roc_auc','precision','recall','accuracy']\n",
    "        \n",
    "    # generate cross validation for with defined random state\n",
    "    skf = StratifiedKFold(n_splits = 5, random_state = rand, shuffle = True)\n",
    "        \n",
    "    # cross validation\n",
    "    scores = cross_validate(\n",
    "        model, \n",
    "        X_train, \n",
    "        y_train, \n",
    "        scoring = scoring, \n",
    "        cv = skf)\n",
    "    cv_result = cv_result.append({'Model': model_name, \n",
    "                                  'AVG F1': scores['test_f1'].mean(), \n",
    "                                  'AVG AUC': scores['test_roc_auc'].mean(),\n",
    "                                  'AVG Precision': scores['test_precision'].mean(), \n",
    "                                   'AVG Recall': scores['test_recall'].mean(), \n",
    "                                   'AVG Accuracy': scores['test_accuracy'].mean()\n",
    "                                 }, ignore_index = True\n",
    "                                )"
   ]
  },
  {
   "cell_type": "code",
   "execution_count": 19,
   "id": "77832b71-7912-43ae-838b-48ed855cb8e9",
   "metadata": {},
   "outputs": [
    {
     "name": "stdout",
     "output_type": "stream",
     "text": [
      "Cross Validation Result\n"
     ]
    },
    {
     "data": {
      "text/html": [
       "<div>\n",
       "<style scoped>\n",
       "    .dataframe tbody tr th:only-of-type {\n",
       "        vertical-align: middle;\n",
       "    }\n",
       "\n",
       "    .dataframe tbody tr th {\n",
       "        vertical-align: top;\n",
       "    }\n",
       "\n",
       "    .dataframe thead th {\n",
       "        text-align: right;\n",
       "    }\n",
       "</style>\n",
       "<table border=\"1\" class=\"dataframe\">\n",
       "  <thead>\n",
       "    <tr style=\"text-align: right;\">\n",
       "      <th></th>\n",
       "      <th>Model</th>\n",
       "      <th>AVG F1</th>\n",
       "      <th>AVG AUC</th>\n",
       "      <th>AVG Precision</th>\n",
       "      <th>AVG Recall</th>\n",
       "      <th>AVG Accuracy</th>\n",
       "    </tr>\n",
       "  </thead>\n",
       "  <tbody>\n",
       "    <tr>\n",
       "      <th>0</th>\n",
       "      <td>Logistic Regression</td>\n",
       "      <td>0.607078</td>\n",
       "      <td>0.721697</td>\n",
       "      <td>0.676028</td>\n",
       "      <td>0.551145</td>\n",
       "      <td>0.675694</td>\n",
       "    </tr>\n",
       "    <tr>\n",
       "      <th>2</th>\n",
       "      <td>Random Forest</td>\n",
       "      <td>0.57137</td>\n",
       "      <td>0.659876</td>\n",
       "      <td>0.578241</td>\n",
       "      <td>0.564885</td>\n",
       "      <td>0.614583</td>\n",
       "    </tr>\n",
       "    <tr>\n",
       "      <th>1</th>\n",
       "      <td>Decision Tree</td>\n",
       "      <td>0.52679</td>\n",
       "      <td>0.608238</td>\n",
       "      <td>0.566454</td>\n",
       "      <td>0.492621</td>\n",
       "      <td>0.597685</td>\n",
       "    </tr>\n",
       "  </tbody>\n",
       "</table>\n",
       "</div>"
      ],
      "text/plain": [
       "                 Model    AVG F1   AVG AUC AVG Precision AVG Recall  \\\n",
       "0  Logistic Regression  0.607078  0.721697      0.676028   0.551145   \n",
       "2        Random Forest   0.57137  0.659876      0.578241   0.564885   \n",
       "1        Decision Tree   0.52679  0.608238      0.566454   0.492621   \n",
       "\n",
       "  AVG Accuracy  \n",
       "0     0.675694  \n",
       "2     0.614583  \n",
       "1     0.597685  "
      ]
     },
     "execution_count": 19,
     "metadata": {},
     "output_type": "execute_result"
    }
   ],
   "source": [
    "# print the result, sort by the AVG F1\n",
    "print(\"Cross Validation Result\")\n",
    "cv_result.sort_values(by='AVG F1', ascending=False)"
   ]
  },
  {
   "cell_type": "markdown",
   "id": "1112ad67-d7ff-4313-8b6a-98287ca67fd9",
   "metadata": {},
   "source": [
    "The Logistic Regression model has demonstrated the best performance in terms of F1 score and AUC ROC. As a next step, we will fine-tune the tree-based models to see if we can improve their performance and find a model that outperforms Logistic Regression."
   ]
  },
  {
   "cell_type": "markdown",
   "id": "529f04da-58ad-4ee1-a999-cb94be3b59a8",
   "metadata": {},
   "source": [
    "### Model Tuning"
   ]
  },
  {
   "cell_type": "markdown",
   "id": "21aef35a-e5bf-408e-a472-ca76b450682d",
   "metadata": {},
   "source": [
    "We utilized Random Search to find the best hyperparameters for each of the tree-based models. The hyperparameters are the parameters that cannot be learned from the training data and are used to control the learning process of the model. By fine-tuning these hyperparameters, we aimed to improve the performance of the tree-based models and find the best one for our problem."
   ]
  },
  {
   "cell_type": "code",
   "execution_count": 20,
   "id": "2c91fc2f-8e9f-4457-b487-353836a2c93e",
   "metadata": {},
   "outputs": [],
   "source": [
    "# define params grid for decision tree\n",
    "dt_param_dis = {\n",
    "    'criterion': ['gini','entropy'],\n",
    "    'splitter': ['best','random'],\n",
    "    'max_depth': [2,5,10,20,40,None],\n",
    "    'min_samples_split': [2,5,10,15],\n",
    "    'max_features': ['auto','sqrt','log2',None]}"
   ]
  },
  {
   "cell_type": "code",
   "execution_count": 21,
   "id": "da4e7b5e-8e30-4433-b8c3-3a151ae29e33",
   "metadata": {},
   "outputs": [],
   "source": [
    "# define params grid for random forest\n",
    "rf_param_grid = {\n",
    "    'n_estimators': [int(x) for x in np.linspace(start = 100, stop = 200, num = 20)],\n",
    "    'max_features': ['auto', 'sqrt'],\n",
    "    'max_depth': [int(x) for x in np.linspace(80, 100, num = 10)],\n",
    "    'min_samples_split': [int(x) for x in np.linspace(start = 2, stop = 20, num = 5)],\n",
    "    'min_samples_leaf': [int(x) for x in np.linspace(start = 1, stop = 20, num = 2)],\n",
    "    'bootstrap': [True, False]\n",
    "}"
   ]
  },
  {
   "cell_type": "code",
   "execution_count": 22,
   "id": "e4886c79-fc04-47d1-ae04-ef5496a58076",
   "metadata": {},
   "outputs": [],
   "source": [
    "tuning_classifiers = {\n",
    "    'Decision Tree' : \n",
    "    {'model': DecisionTreeClassifier(random_state = rand), 'param_grid': dt_param_dis},\n",
    "    'Random Forest' : \n",
    "    {'model': RandomForestClassifier(random_state = rand), 'param_grid': rf_param_grid}}"
   ]
  },
  {
   "cell_type": "code",
   "execution_count": 55,
   "id": "f40e7dc4",
   "metadata": {},
   "outputs": [],
   "source": [
    "from sklearn.metrics import confusion_matrix, classification_report\n",
    "import matplotlib.pyplot as plt\n",
    "import seaborn as sns"
   ]
  },
  {
   "cell_type": "code",
   "execution_count": 105,
   "id": "8a689548-844b-4155-935b-dbbff215597c",
   "metadata": {},
   "outputs": [
    {
     "name": "stdout",
     "output_type": "stream",
     "text": [
      "True Negatives (TN): 780\n",
      "False Positives (FP): 228\n",
      "False Negatives (FN): 344\n",
      "True Positives (TP): 500\n",
      "Classification Report:\n",
      "              precision    recall  f1-score   support\n",
      "\n",
      "           0       0.69      0.77      0.73      1008\n",
      "           1       0.69      0.59      0.64       844\n",
      "\n",
      "    accuracy                           0.69      1852\n",
      "   macro avg       0.69      0.68      0.68      1852\n",
      "weighted avg       0.69      0.69      0.69      1852\n",
      "\n",
      "Decision Tree\n",
      "best score = 0.6668981481481482\n",
      "best params = {'splitter': 'best', 'min_samples_split': 5, 'max_features': None, 'max_depth': 5, 'criterion': 'entropy'}\n",
      "\n",
      "True Negatives (TN): 771\n",
      "False Positives (FP): 237\n",
      "False Negatives (FN): 333\n",
      "True Positives (TP): 511\n",
      "Classification Report:\n",
      "              precision    recall  f1-score   support\n",
      "\n",
      "           0       0.70      0.76      0.73      1008\n",
      "           1       0.68      0.61      0.64       844\n",
      "\n",
      "    accuracy                           0.69      1852\n",
      "   macro avg       0.69      0.69      0.69      1852\n",
      "weighted avg       0.69      0.69      0.69      1852\n",
      "\n",
      "Random Forest\n",
      "best score = 0.675\n",
      "best params = {'n_estimators': 184, 'min_samples_split': 11, 'min_samples_leaf': 20, 'max_features': 'sqrt', 'max_depth': 97, 'bootstrap': True}\n",
      "\n"
     ]
    }
   ],
   "source": [
    "# comment out b/c running time was a bit long, the results were added to the classifiers below\n",
    "\n",
    "for model_name in tuning_classifiers.keys():\n",
    "    rs = RandomizedSearchCV(\n",
    "        estimator = tuning_classifiers[model_name]['model'], \n",
    "        param_distributions = tuning_classifiers[model_name]['param_grid'], \n",
    "        n_iter = 100, \n",
    "        cv = 5, \n",
    "        scoring ='f1_micro',\n",
    "        random_state = rand)\n",
    "    rs.fit(X_train, y_train)\n",
    "    y_pred = rs.predict(X_test)\n",
    "    \n",
    "    cm = confusion_matrix(y_test, y_pred)\n",
    "    \n",
    "    cr = classification_report(y_test, y_pred)\n",
    "    tn, fp, fn, tp = cm.ravel()\n",
    "    print(\"True Negatives (TN):\", tn)\n",
    "    print(\"False Positives (FP):\", fp)\n",
    "    print(\"False Negatives (FN):\", fn)\n",
    "    print(\"True Positives (TP):\", tp)\n",
    "    print(\"Classification Report:\")\n",
    "    print(cr)\n",
    "    print(model_name)\n",
    "    print('best score = ' + str(rs.best_score_))\n",
    "    print('best params = ' + str(rs.best_params_))\n",
    "    print()"
   ]
  },
  {
   "cell_type": "code",
   "execution_count": null,
   "id": "c7e1c22b",
   "metadata": {},
   "outputs": [],
   "source": []
  },
  {
   "cell_type": "code",
   "execution_count": 104,
   "id": "d8509c1a",
   "metadata": {},
   "outputs": [
    {
     "name": "stdout",
     "output_type": "stream",
     "text": [
      "2036    1\n",
      "20      1\n",
      "536     0\n",
      "6433    1\n",
      "2705    1\n",
      "       ..\n",
      "4925    0\n",
      "956     1\n",
      "3257    0\n",
      "2921    0\n",
      "2809    0\n",
      "Name: two_year_recid, Length: 1852, dtype: int64\n"
     ]
    }
   ],
   "source": [
    "#cm_black = confusion_matrix(y_test[\"race\"] = 0, y_pred[\"race\"] = 0)\n",
    "#cm_white = confusion_matrix(y_test[\"race\"] = 1, y_pred[\"race\"] = 1)\n",
    "print(y_test)"
   ]
  },
  {
   "cell_type": "code",
   "execution_count": 32,
   "id": "b999693b-259e-400f-9735-1717ec9e3cfa",
   "metadata": {},
   "outputs": [],
   "source": [
    "tuned_classifiers = {\n",
    "    'Logistic Regression': {'model': Pipeline(steps = [\n",
    "        ('scale', StandardScaler()),\n",
    "        ('classifier', LogisticRegression(random_state = rand))])},\n",
    "    'Decision Tree' : {'model': DecisionTreeClassifier(\n",
    "        splitter = 'best', \n",
    "        min_samples_split = 5, \n",
    "        max_features = 10, \n",
    "        max_depth = 5, \n",
    "        criterion = 'gini',\n",
    "        random_state = rand,)},\n",
    "    'Random Forest' : {'model': RandomForestClassifier(\n",
    "        n_estimators = 115,\n",
    "        min_samples_split = 2,\n",
    "        min_samples_leaf = 20,\n",
    "        max_features = 'auto' ,\n",
    "        max_depth = 100,\n",
    "        bootstrap = True,\n",
    "        random_state = rand)}\n",
    "}"
   ]
  },
  {
   "cell_type": "markdown",
   "id": "af9d06e9-570f-423d-a125-4014a5179dd7",
   "metadata": {
    "tags": []
   },
   "source": [
    "## Results"
   ]
  },
  {
   "cell_type": "markdown",
   "id": "b9b79c85-7f0e-43f6-91af-8c1aec381d2c",
   "metadata": {},
   "source": [
    "We use the Dalex package which provides a suite of tools for interpretation and explanation of complex predictive models. The use of Dalex allows us to obtain a better understanding of the relationship between our predictors and the outcome we aim to predict. "
   ]
  },
  {
   "cell_type": "code",
   "execution_count": 24,
   "id": "a51fc172-899a-4c4f-9e69-744ed273a45d",
   "metadata": {},
   "outputs": [],
   "source": [
    "# use Dalexdalex library\n",
    "import dalex as dx"
   ]
  },
  {
   "cell_type": "markdown",
   "id": "9c834457-5211-4711-9716-58bb71b14a68",
   "metadata": {},
   "source": [
    "**Create explainer for each model**"
   ]
  },
  {
   "cell_type": "code",
   "execution_count": 74,
   "id": "4e040be4-3aed-45c5-b6eb-baba16d69c71",
   "metadata": {},
   "outputs": [
    {
     "name": "stdout",
     "output_type": "stream",
     "text": [
      "Preparation of a new explainer is initiated\n",
      "\n",
      "  -> data              : 1852 rows 5 cols\n",
      "  -> target variable   : Parameter 'y' was a pandas.Series. Converted to a numpy.ndarray.\n",
      "  -> target variable   : 1852 values\n",
      "  -> model_class       : sklearn.linear_model._logistic.LogisticRegression (default)\n",
      "  -> label             : Logistic Regression\n",
      "  -> predict function  : <function yhat_proba_default at 0x0000018FDEECAE50> will be used (default)\n",
      "  -> predict function  : Accepts pandas.DataFrame and numpy.ndarray.\n",
      "  -> predicted values  : min = 0.0627, mean = 0.449, max = 0.987\n",
      "  -> model type        : classification will be used (default)\n",
      "  -> residual function : difference between y and yhat (default)\n",
      "  -> residuals         : min = -0.933, mean = 0.00663, max = 0.921\n",
      "  -> model_info        : package sklearn\n",
      "\n",
      "A new explainer has been created!\n"
     ]
    }
   ],
   "source": [
    "# Create Explainer Object for Logistic Model\n",
    "lr_model = classifiers['Logistic Regression']['model'].fit(X_train, y_train)\n",
    "\n",
    "# create Explainer object\n",
    "lr_exp = dx.Explainer(\n",
    "    lr_model,\n",
    "    X_test, \n",
    "    y_test,\n",
    "    label = \"Logistic Regression\", \n",
    "    verbose = True)"
   ]
  },
  {
   "cell_type": "code",
   "execution_count": 75,
   "id": "af0bf92c-3599-488e-8690-49d37dac14e2",
   "metadata": {},
   "outputs": [
    {
     "name": "stdout",
     "output_type": "stream",
     "text": [
      "Preparation of a new explainer is initiated\n",
      "\n",
      "  -> data              : 1852 rows 5 cols\n",
      "  -> target variable   : Parameter 'y' was a pandas.Series. Converted to a numpy.ndarray.\n",
      "  -> target variable   : 1852 values\n",
      "  -> model_class       : sklearn.ensemble._forest.RandomForestClassifier (default)\n",
      "  -> label             : Random Forest\n",
      "  -> predict function  : <function yhat_proba_default at 0x0000018FDEECAE50> will be used (default)\n",
      "  -> predict function  : Accepts only pandas.DataFrame, numpy.ndarray causes problems.\n",
      "  -> model type        : classification will be used (default)\n",
      "  -> residual function : difference between y and yhat (default)\n",
      "  -> residuals         :  'residual_function' returns an Error when executed:\n",
      "This RandomForestClassifier instance is not fitted yet. Call 'fit' with appropriate arguments before using this estimator.\n",
      "  -> model_info        : package sklearn\n",
      "\n",
      "A new explainer has been created!\n"
     ]
    }
   ],
   "source": [
    "# Create Explainer Object for Random Forest\n",
    "rf_exp = dx.Explainer(\n",
    "    tuned_classifiers['Random Forest']['model'],\n",
    "    X_test, \n",
    "    y_test,\n",
    "    label = \"Random Forest\", \n",
    "    verbose = True)"
   ]
  },
  {
   "cell_type": "code",
   "execution_count": 76,
   "id": "80ca16d9-b210-40de-83ab-fccdce0f1acf",
   "metadata": {},
   "outputs": [],
   "source": [
    "# combine into one explainer list\n",
    "exp_list = [lr_exp, rf_exp]"
   ]
  },
  {
   "cell_type": "markdown",
   "id": "bbca8657-a231-41f9-bf01-aaf0ad2f64f2",
   "metadata": {},
   "source": [
    "### Model Performance"
   ]
  },
  {
   "cell_type": "code",
   "execution_count": 77,
   "id": "12357785-4b59-4e2e-a191-6fc142b88e9d",
   "metadata": {},
   "outputs": [
    {
     "ename": "NotFittedError",
     "evalue": "This RandomForestClassifier instance is not fitted yet. Call 'fit' with appropriate arguments before using this estimator.",
     "output_type": "error",
     "traceback": [
      "\u001b[1;31m---------------------------------------------------------------------------\u001b[0m",
      "\u001b[1;31mNotFittedError\u001b[0m                            Traceback (most recent call last)",
      "Input \u001b[1;32mIn [77]\u001b[0m, in \u001b[0;36m<cell line: 1>\u001b[1;34m()\u001b[0m\n\u001b[1;32m----> 1\u001b[0m m_performance_list \u001b[38;5;241m=\u001b[39m [e\u001b[38;5;241m.\u001b[39mmodel_performance() \u001b[38;5;28;01mfor\u001b[39;00m e \u001b[38;5;129;01min\u001b[39;00m exp_list]\n\u001b[0;32m      2\u001b[0m pd\u001b[38;5;241m.\u001b[39mconcat([mp\u001b[38;5;241m.\u001b[39mresult[[\u001b[38;5;124m'\u001b[39m\u001b[38;5;124mf1\u001b[39m\u001b[38;5;124m'\u001b[39m,\u001b[38;5;124m'\u001b[39m\u001b[38;5;124mauc\u001b[39m\u001b[38;5;124m'\u001b[39m]] \u001b[38;5;28;01mfor\u001b[39;00m mp \u001b[38;5;129;01min\u001b[39;00m m_performance_list], axis\u001b[38;5;241m=\u001b[39m\u001b[38;5;241m0\u001b[39m)\u001b[38;5;241m.\u001b[39msort_values(by\u001b[38;5;241m=\u001b[39m\u001b[38;5;124m'\u001b[39m\u001b[38;5;124mf1\u001b[39m\u001b[38;5;124m'\u001b[39m, ascending\u001b[38;5;241m=\u001b[39m\u001b[38;5;28;01mFalse\u001b[39;00m)\n",
      "Input \u001b[1;32mIn [77]\u001b[0m, in \u001b[0;36m<listcomp>\u001b[1;34m(.0)\u001b[0m\n\u001b[1;32m----> 1\u001b[0m m_performance_list \u001b[38;5;241m=\u001b[39m [\u001b[43me\u001b[49m\u001b[38;5;241;43m.\u001b[39;49m\u001b[43mmodel_performance\u001b[49m\u001b[43m(\u001b[49m\u001b[43m)\u001b[49m \u001b[38;5;28;01mfor\u001b[39;00m e \u001b[38;5;129;01min\u001b[39;00m exp_list]\n\u001b[0;32m      2\u001b[0m pd\u001b[38;5;241m.\u001b[39mconcat([mp\u001b[38;5;241m.\u001b[39mresult[[\u001b[38;5;124m'\u001b[39m\u001b[38;5;124mf1\u001b[39m\u001b[38;5;124m'\u001b[39m,\u001b[38;5;124m'\u001b[39m\u001b[38;5;124mauc\u001b[39m\u001b[38;5;124m'\u001b[39m]] \u001b[38;5;28;01mfor\u001b[39;00m mp \u001b[38;5;129;01min\u001b[39;00m m_performance_list], axis\u001b[38;5;241m=\u001b[39m\u001b[38;5;241m0\u001b[39m)\u001b[38;5;241m.\u001b[39msort_values(by\u001b[38;5;241m=\u001b[39m\u001b[38;5;124m'\u001b[39m\u001b[38;5;124mf1\u001b[39m\u001b[38;5;124m'\u001b[39m, ascending\u001b[38;5;241m=\u001b[39m\u001b[38;5;28;01mFalse\u001b[39;00m)\n",
      "File \u001b[1;32m~\\anaconda3\\lib\\site-packages\\dalex\\_explainer\\object.py:493\u001b[0m, in \u001b[0;36mExplainer.model_performance\u001b[1;34m(self, model_type, cutoff, label)\u001b[0m\n\u001b[0;32m    487\u001b[0m     model_type \u001b[38;5;241m=\u001b[39m \u001b[38;5;28mself\u001b[39m\u001b[38;5;241m.\u001b[39mmodel_type\n\u001b[0;32m    489\u001b[0m _model_performance \u001b[38;5;241m=\u001b[39m ModelPerformance(\n\u001b[0;32m    490\u001b[0m     model_type\u001b[38;5;241m=\u001b[39mmodel_type,\n\u001b[0;32m    491\u001b[0m     cutoff\u001b[38;5;241m=\u001b[39mcutoff\n\u001b[0;32m    492\u001b[0m )\n\u001b[1;32m--> 493\u001b[0m \u001b[43m_model_performance\u001b[49m\u001b[38;5;241;43m.\u001b[39;49m\u001b[43mfit\u001b[49m\u001b[43m(\u001b[49m\u001b[38;5;28;43mself\u001b[39;49m\u001b[43m)\u001b[49m\n\u001b[0;32m    495\u001b[0m \u001b[38;5;28;01mif\u001b[39;00m label:\n\u001b[0;32m    496\u001b[0m     _model_performance\u001b[38;5;241m.\u001b[39mresult[\u001b[38;5;124m'\u001b[39m\u001b[38;5;124mlabel\u001b[39m\u001b[38;5;124m'\u001b[39m] \u001b[38;5;241m=\u001b[39m label\n",
      "File \u001b[1;32m~\\anaconda3\\lib\\site-packages\\dalex\\model_explanations\\_model_performance\\object.py:65\u001b[0m, in \u001b[0;36mModelPerformance.fit\u001b[1;34m(self, explainer)\u001b[0m\n\u001b[0;32m     63\u001b[0m     y_pred \u001b[38;5;241m=\u001b[39m explainer\u001b[38;5;241m.\u001b[39my_hat\n\u001b[0;32m     64\u001b[0m \u001b[38;5;28;01melse\u001b[39;00m:\n\u001b[1;32m---> 65\u001b[0m     y_pred \u001b[38;5;241m=\u001b[39m \u001b[43mexplainer\u001b[49m\u001b[38;5;241;43m.\u001b[39;49m\u001b[43mpredict\u001b[49m\u001b[43m(\u001b[49m\u001b[43mexplainer\u001b[49m\u001b[38;5;241;43m.\u001b[39;49m\u001b[43mdata\u001b[49m\u001b[43m)\u001b[49m\n\u001b[0;32m     67\u001b[0m \u001b[38;5;28;01mif\u001b[39;00m explainer\u001b[38;5;241m.\u001b[39mresiduals \u001b[38;5;129;01mis\u001b[39;00m \u001b[38;5;129;01mnot\u001b[39;00m \u001b[38;5;28;01mNone\u001b[39;00m:\n\u001b[0;32m     68\u001b[0m     _residuals \u001b[38;5;241m=\u001b[39m explainer\u001b[38;5;241m.\u001b[39mresiduals\n",
      "File \u001b[1;32m~\\anaconda3\\lib\\site-packages\\dalex\\_explainer\\object.py:187\u001b[0m, in \u001b[0;36mExplainer.predict\u001b[1;34m(self, data)\u001b[0m\n\u001b[0;32m    170\u001b[0m \u001b[38;5;124;03m\"\"\"Make a prediction\u001b[39;00m\n\u001b[0;32m    171\u001b[0m \n\u001b[0;32m    172\u001b[0m \u001b[38;5;124;03mThis function uses the `predict_function` attribute.\u001b[39;00m\n\u001b[1;32m   (...)\u001b[0m\n\u001b[0;32m    182\u001b[0m \u001b[38;5;124;03m    Model predictions for given `data`.\u001b[39;00m\n\u001b[0;32m    183\u001b[0m \u001b[38;5;124;03m\"\"\"\u001b[39;00m\n\u001b[0;32m    185\u001b[0m checks\u001b[38;5;241m.\u001b[39mcheck_method_data(data)\n\u001b[1;32m--> 187\u001b[0m \u001b[38;5;28;01mreturn\u001b[39;00m \u001b[38;5;28;43mself\u001b[39;49m\u001b[38;5;241;43m.\u001b[39;49m\u001b[43mpredict_function\u001b[49m\u001b[43m(\u001b[49m\u001b[38;5;28;43mself\u001b[39;49m\u001b[38;5;241;43m.\u001b[39;49m\u001b[43mmodel\u001b[49m\u001b[43m,\u001b[49m\u001b[43m \u001b[49m\u001b[43mdata\u001b[49m\u001b[43m)\u001b[49m\n",
      "File \u001b[1;32m~\\anaconda3\\lib\\site-packages\\dalex\\_explainer\\yhat.py:10\u001b[0m, in \u001b[0;36myhat_proba_default\u001b[1;34m(m, d)\u001b[0m\n\u001b[0;32m      9\u001b[0m \u001b[38;5;28;01mdef\u001b[39;00m \u001b[38;5;21myhat_proba_default\u001b[39m(m, d):\n\u001b[1;32m---> 10\u001b[0m     \u001b[38;5;28;01mreturn\u001b[39;00m \u001b[43mm\u001b[49m\u001b[38;5;241;43m.\u001b[39;49m\u001b[43mpredict_proba\u001b[49m\u001b[43m(\u001b[49m\u001b[43md\u001b[49m\u001b[43m)\u001b[49m[:, \u001b[38;5;241m1\u001b[39m]\n",
      "File \u001b[1;32m~\\anaconda3\\lib\\site-packages\\sklearn\\ensemble\\_forest.py:848\u001b[0m, in \u001b[0;36mForestClassifier.predict_proba\u001b[1;34m(self, X)\u001b[0m\n\u001b[0;32m    826\u001b[0m \u001b[38;5;28;01mdef\u001b[39;00m \u001b[38;5;21mpredict_proba\u001b[39m(\u001b[38;5;28mself\u001b[39m, X):\n\u001b[0;32m    827\u001b[0m     \u001b[38;5;124;03m\"\"\"\u001b[39;00m\n\u001b[0;32m    828\u001b[0m \u001b[38;5;124;03m    Predict class probabilities for X.\u001b[39;00m\n\u001b[0;32m    829\u001b[0m \n\u001b[1;32m   (...)\u001b[0m\n\u001b[0;32m    846\u001b[0m \u001b[38;5;124;03m        classes corresponds to that in the attribute :term:`classes_`.\u001b[39;00m\n\u001b[0;32m    847\u001b[0m \u001b[38;5;124;03m    \"\"\"\u001b[39;00m\n\u001b[1;32m--> 848\u001b[0m     \u001b[43mcheck_is_fitted\u001b[49m\u001b[43m(\u001b[49m\u001b[38;5;28;43mself\u001b[39;49m\u001b[43m)\u001b[49m\n\u001b[0;32m    849\u001b[0m     \u001b[38;5;66;03m# Check data\u001b[39;00m\n\u001b[0;32m    850\u001b[0m     X \u001b[38;5;241m=\u001b[39m \u001b[38;5;28mself\u001b[39m\u001b[38;5;241m.\u001b[39m_validate_X_predict(X)\n",
      "File \u001b[1;32m~\\anaconda3\\lib\\site-packages\\sklearn\\utils\\validation.py:1222\u001b[0m, in \u001b[0;36mcheck_is_fitted\u001b[1;34m(estimator, attributes, msg, all_or_any)\u001b[0m\n\u001b[0;32m   1217\u001b[0m     fitted \u001b[38;5;241m=\u001b[39m [\n\u001b[0;32m   1218\u001b[0m         v \u001b[38;5;28;01mfor\u001b[39;00m v \u001b[38;5;129;01min\u001b[39;00m \u001b[38;5;28mvars\u001b[39m(estimator) \u001b[38;5;28;01mif\u001b[39;00m v\u001b[38;5;241m.\u001b[39mendswith(\u001b[38;5;124m\"\u001b[39m\u001b[38;5;124m_\u001b[39m\u001b[38;5;124m\"\u001b[39m) \u001b[38;5;129;01mand\u001b[39;00m \u001b[38;5;129;01mnot\u001b[39;00m v\u001b[38;5;241m.\u001b[39mstartswith(\u001b[38;5;124m\"\u001b[39m\u001b[38;5;124m__\u001b[39m\u001b[38;5;124m\"\u001b[39m)\n\u001b[0;32m   1219\u001b[0m     ]\n\u001b[0;32m   1221\u001b[0m \u001b[38;5;28;01mif\u001b[39;00m \u001b[38;5;129;01mnot\u001b[39;00m fitted:\n\u001b[1;32m-> 1222\u001b[0m     \u001b[38;5;28;01mraise\u001b[39;00m NotFittedError(msg \u001b[38;5;241m%\u001b[39m {\u001b[38;5;124m\"\u001b[39m\u001b[38;5;124mname\u001b[39m\u001b[38;5;124m\"\u001b[39m: \u001b[38;5;28mtype\u001b[39m(estimator)\u001b[38;5;241m.\u001b[39m\u001b[38;5;18m__name__\u001b[39m})\n",
      "\u001b[1;31mNotFittedError\u001b[0m: This RandomForestClassifier instance is not fitted yet. Call 'fit' with appropriate arguments before using this estimator."
     ]
    }
   ],
   "source": [
    "m_performance_list = [e.model_performance() for e in exp_list]\n",
    "pd.concat([mp.result[['f1','auc']] for mp in m_performance_list], axis=0).sort_values(by='f1', ascending=False)"
   ]
  },
  {
   "cell_type": "code",
   "execution_count": 29,
   "id": "dac3571a-d5c7-4cee-ac70-70fc222a4ada",
   "metadata": {},
   "outputs": [
    {
     "ename": "NameError",
     "evalue": "name 'm_performance_list' is not defined",
     "output_type": "error",
     "traceback": [
      "\u001b[1;31m---------------------------------------------------------------------------\u001b[0m",
      "\u001b[1;31mNameError\u001b[0m                                 Traceback (most recent call last)",
      "Input \u001b[1;32mIn [29]\u001b[0m, in \u001b[0;36m<cell line: 1>\u001b[1;34m()\u001b[0m\n\u001b[1;32m----> 1\u001b[0m \u001b[43mm_performance_list\u001b[49m[\u001b[38;5;241m0\u001b[39m]\u001b[38;5;241m.\u001b[39mplot(m_performance_list[\u001b[38;5;241m1\u001b[39m], geom\u001b[38;5;241m=\u001b[39m\u001b[38;5;124m\"\u001b[39m\u001b[38;5;124mroc\u001b[39m\u001b[38;5;124m\"\u001b[39m)\n",
      "\u001b[1;31mNameError\u001b[0m: name 'm_performance_list' is not defined"
     ]
    }
   ],
   "source": [
    "m_performance_list[0].plot(m_performance_list[1], geom=\"roc\")"
   ]
  },
  {
   "cell_type": "markdown",
   "id": "34c06877-0378-4ac1-a175-1262ecdce3ab",
   "metadata": {},
   "source": [
    "### Variable Importance"
   ]
  },
  {
   "cell_type": "code",
   "execution_count": 78,
   "id": "7dfe0b80-2d99-490e-a6b5-df57ac36e62e",
   "metadata": {},
   "outputs": [
    {
     "ename": "NotFittedError",
     "evalue": "This RandomForestClassifier instance is not fitted yet. Call 'fit' with appropriate arguments before using this estimator.",
     "output_type": "error",
     "traceback": [
      "\u001b[1;31m---------------------------------------------------------------------------\u001b[0m",
      "\u001b[1;31mNotFittedError\u001b[0m                            Traceback (most recent call last)",
      "Input \u001b[1;32mIn [78]\u001b[0m, in \u001b[0;36m<cell line: 1>\u001b[1;34m()\u001b[0m\n\u001b[1;32m----> 1\u001b[0m m_vi_list \u001b[38;5;241m=\u001b[39m [e\u001b[38;5;241m.\u001b[39mmodel_parts() \u001b[38;5;28;01mfor\u001b[39;00m e \u001b[38;5;129;01min\u001b[39;00m exp_list]\n",
      "Input \u001b[1;32mIn [78]\u001b[0m, in \u001b[0;36m<listcomp>\u001b[1;34m(.0)\u001b[0m\n\u001b[1;32m----> 1\u001b[0m m_vi_list \u001b[38;5;241m=\u001b[39m [\u001b[43me\u001b[49m\u001b[38;5;241;43m.\u001b[39;49m\u001b[43mmodel_parts\u001b[49m\u001b[43m(\u001b[49m\u001b[43m)\u001b[49m \u001b[38;5;28;01mfor\u001b[39;00m e \u001b[38;5;129;01min\u001b[39;00m exp_list]\n",
      "File \u001b[1;32m~\\anaconda3\\lib\\site-packages\\dalex\\_explainer\\object.py:587\u001b[0m, in \u001b[0;36mExplainer.model_parts\u001b[1;34m(self, loss_function, type, N, B, variables, variable_groups, keep_raw_permutations, label, processes, random_state, **kwargs)\u001b[0m\n\u001b[0;32m    574\u001b[0m checks\u001b[38;5;241m.\u001b[39mcheck_y_again(\u001b[38;5;28mself\u001b[39m\u001b[38;5;241m.\u001b[39my)\n\u001b[0;32m    576\u001b[0m _model_parts \u001b[38;5;241m=\u001b[39m VariableImportance(\n\u001b[0;32m    577\u001b[0m     loss_function\u001b[38;5;241m=\u001b[39mloss_function,\n\u001b[0;32m    578\u001b[0m     \u001b[38;5;28mtype\u001b[39m\u001b[38;5;241m=\u001b[39m_type,\n\u001b[1;32m   (...)\u001b[0m\n\u001b[0;32m    585\u001b[0m     keep_raw_permutations\u001b[38;5;241m=\u001b[39mkeep_raw_permutations,\n\u001b[0;32m    586\u001b[0m )\n\u001b[1;32m--> 587\u001b[0m \u001b[43m_model_parts\u001b[49m\u001b[38;5;241;43m.\u001b[39;49m\u001b[43mfit\u001b[49m\u001b[43m(\u001b[49m\u001b[38;5;28;43mself\u001b[39;49m\u001b[43m)\u001b[49m\n\u001b[0;32m    589\u001b[0m \u001b[38;5;28;01mif\u001b[39;00m label:\n\u001b[0;32m    590\u001b[0m     _model_parts\u001b[38;5;241m.\u001b[39mresult[\u001b[38;5;124m'\u001b[39m\u001b[38;5;124mlabel\u001b[39m\u001b[38;5;124m'\u001b[39m] \u001b[38;5;241m=\u001b[39m label\n",
      "File \u001b[1;32m~\\anaconda3\\lib\\site-packages\\dalex\\model_explanations\\_variable_importance\\object.py:123\u001b[0m, in \u001b[0;36mVariableImportance.fit\u001b[1;34m(self, explainer)\u001b[0m\n\u001b[0;32m    121\u001b[0m \u001b[38;5;28mself\u001b[39m\u001b[38;5;241m.\u001b[39mvariable_groups \u001b[38;5;241m=\u001b[39m checks\u001b[38;5;241m.\u001b[39mcheck_variable_groups(\u001b[38;5;28mself\u001b[39m\u001b[38;5;241m.\u001b[39mvariable_groups, explainer)\n\u001b[0;32m    122\u001b[0m \u001b[38;5;28mself\u001b[39m\u001b[38;5;241m.\u001b[39mvariables \u001b[38;5;241m=\u001b[39m checks\u001b[38;5;241m.\u001b[39mcheck_variables(\u001b[38;5;28mself\u001b[39m\u001b[38;5;241m.\u001b[39mvariables, \u001b[38;5;28mself\u001b[39m\u001b[38;5;241m.\u001b[39mvariable_groups, explainer)\n\u001b[1;32m--> 123\u001b[0m \u001b[38;5;28mself\u001b[39m\u001b[38;5;241m.\u001b[39mresult, \u001b[38;5;28mself\u001b[39m\u001b[38;5;241m.\u001b[39mpermutation \u001b[38;5;241m=\u001b[39m \u001b[43mutils\u001b[49m\u001b[38;5;241;43m.\u001b[39;49m\u001b[43mcalculate_variable_importance\u001b[49m\u001b[43m(\u001b[49m\u001b[43mexplainer\u001b[49m\u001b[43m,\u001b[49m\n\u001b[0;32m    124\u001b[0m \u001b[43m                                                                    \u001b[49m\u001b[38;5;28;43mself\u001b[39;49m\u001b[38;5;241;43m.\u001b[39;49m\u001b[43mtype\u001b[49m\u001b[43m,\u001b[49m\n\u001b[0;32m    125\u001b[0m \u001b[43m                                                                    \u001b[49m\u001b[38;5;28;43mself\u001b[39;49m\u001b[38;5;241;43m.\u001b[39;49m\u001b[43mloss_function\u001b[49m\u001b[43m,\u001b[49m\n\u001b[0;32m    126\u001b[0m \u001b[43m                                                                    \u001b[49m\u001b[38;5;28;43mself\u001b[39;49m\u001b[38;5;241;43m.\u001b[39;49m\u001b[43mvariables\u001b[49m\u001b[43m,\u001b[49m\n\u001b[0;32m    127\u001b[0m \u001b[43m                                                                    \u001b[49m\u001b[38;5;28;43mself\u001b[39;49m\u001b[38;5;241;43m.\u001b[39;49m\u001b[43mN\u001b[49m\u001b[43m,\u001b[49m\n\u001b[0;32m    128\u001b[0m \u001b[43m                                                                    \u001b[49m\u001b[38;5;28;43mself\u001b[39;49m\u001b[38;5;241;43m.\u001b[39;49m\u001b[43mB\u001b[49m\u001b[43m,\u001b[49m\n\u001b[0;32m    129\u001b[0m \u001b[43m                                                                    \u001b[49m\u001b[43mexplainer\u001b[49m\u001b[38;5;241;43m.\u001b[39;49m\u001b[43mlabel\u001b[49m\u001b[43m,\u001b[49m\n\u001b[0;32m    130\u001b[0m \u001b[43m                                                                    \u001b[49m\u001b[38;5;28;43mself\u001b[39;49m\u001b[38;5;241;43m.\u001b[39;49m\u001b[43mprocesses\u001b[49m\u001b[43m,\u001b[49m\n\u001b[0;32m    131\u001b[0m \u001b[43m                                                                    \u001b[49m\u001b[38;5;28;43mself\u001b[39;49m\u001b[38;5;241;43m.\u001b[39;49m\u001b[43mkeep_raw_permutations\u001b[49m\u001b[43m,\u001b[49m\n\u001b[0;32m    132\u001b[0m \u001b[43m                                                                    \u001b[49m\u001b[38;5;28;43mself\u001b[39;49m\u001b[38;5;241;43m.\u001b[39;49m\u001b[43mrandom_state\u001b[49m\u001b[43m)\u001b[49m\n",
      "File \u001b[1;32m~\\anaconda3\\lib\\site-packages\\dalex\\model_explanations\\_variable_importance\\utils.py:21\u001b[0m, in \u001b[0;36mcalculate_variable_importance\u001b[1;34m(explainer, type, loss_function, variables, N, B, label, processes, keep_raw_permutations, random_state)\u001b[0m\n\u001b[0;32m     19\u001b[0m     result \u001b[38;5;241m=\u001b[39m [\u001b[38;5;28;01mNone\u001b[39;00m] \u001b[38;5;241m*\u001b[39m B\n\u001b[0;32m     20\u001b[0m     \u001b[38;5;28;01mfor\u001b[39;00m i \u001b[38;5;129;01min\u001b[39;00m \u001b[38;5;28mrange\u001b[39m(B):\n\u001b[1;32m---> 21\u001b[0m         result[i] \u001b[38;5;241m=\u001b[39m \u001b[43mloss_after_permutation\u001b[49m\u001b[43m(\u001b[49m\u001b[43mexplainer\u001b[49m\u001b[38;5;241;43m.\u001b[39;49m\u001b[43mdata\u001b[49m\u001b[43m,\u001b[49m\u001b[43m \u001b[49m\u001b[43mexplainer\u001b[49m\u001b[38;5;241;43m.\u001b[39;49m\u001b[43my\u001b[49m\u001b[43m,\u001b[49m\u001b[43m \u001b[49m\u001b[43mexplainer\u001b[49m\u001b[38;5;241;43m.\u001b[39;49m\u001b[43mmodel\u001b[49m\u001b[43m,\u001b[49m\u001b[43m \u001b[49m\u001b[43mexplainer\u001b[49m\u001b[38;5;241;43m.\u001b[39;49m\u001b[43mpredict_function\u001b[49m\u001b[43m,\u001b[49m\n\u001b[0;32m     22\u001b[0m \u001b[43m                                           \u001b[49m\u001b[43mloss_function\u001b[49m\u001b[43m,\u001b[49m\u001b[43m \u001b[49m\u001b[43mvariables\u001b[49m\u001b[43m,\u001b[49m\u001b[43m \u001b[49m\u001b[43mN\u001b[49m\u001b[43m,\u001b[49m\u001b[43m \u001b[49m\u001b[43mnp\u001b[49m\u001b[38;5;241;43m.\u001b[39;49m\u001b[43mrandom\u001b[49m\u001b[43m)\u001b[49m\n\u001b[0;32m     23\u001b[0m \u001b[38;5;28;01melse\u001b[39;00m:\n\u001b[0;32m     24\u001b[0m     \u001b[38;5;66;03m# Create number generator for each iteration\u001b[39;00m\n\u001b[0;32m     25\u001b[0m     ss \u001b[38;5;241m=\u001b[39m SeedSequence(random_state)\n",
      "File \u001b[1;32m~\\anaconda3\\lib\\site-packages\\dalex\\model_explanations\\_variable_importance\\utils.py:63\u001b[0m, in \u001b[0;36mloss_after_permutation\u001b[1;34m(data, y, model, predict, loss_function, variables, N, rng)\u001b[0m\n\u001b[0;32m     60\u001b[0m     observed \u001b[38;5;241m=\u001b[39m y\n\u001b[0;32m     62\u001b[0m \u001b[38;5;66;03m# loss on the full model or when outcomes are permuted\u001b[39;00m\n\u001b[1;32m---> 63\u001b[0m loss_full \u001b[38;5;241m=\u001b[39m loss_function(observed, \u001b[43mpredict\u001b[49m\u001b[43m(\u001b[49m\u001b[43mmodel\u001b[49m\u001b[43m,\u001b[49m\u001b[43m \u001b[49m\u001b[43msampled_data\u001b[49m\u001b[43m)\u001b[49m)\n\u001b[0;32m     65\u001b[0m sampled_rows2 \u001b[38;5;241m=\u001b[39m rng\u001b[38;5;241m.\u001b[39mchoice(\u001b[38;5;28mrange\u001b[39m(observed\u001b[38;5;241m.\u001b[39mshape[\u001b[38;5;241m0\u001b[39m]), observed\u001b[38;5;241m.\u001b[39mshape[\u001b[38;5;241m0\u001b[39m], replace\u001b[38;5;241m=\u001b[39m\u001b[38;5;28;01mFalse\u001b[39;00m)\n\u001b[0;32m     66\u001b[0m loss_baseline \u001b[38;5;241m=\u001b[39m loss_function(observed[sampled_rows2], predict(model, sampled_data))\n",
      "File \u001b[1;32m~\\anaconda3\\lib\\site-packages\\dalex\\_explainer\\yhat.py:10\u001b[0m, in \u001b[0;36myhat_proba_default\u001b[1;34m(m, d)\u001b[0m\n\u001b[0;32m      9\u001b[0m \u001b[38;5;28;01mdef\u001b[39;00m \u001b[38;5;21myhat_proba_default\u001b[39m(m, d):\n\u001b[1;32m---> 10\u001b[0m     \u001b[38;5;28;01mreturn\u001b[39;00m \u001b[43mm\u001b[49m\u001b[38;5;241;43m.\u001b[39;49m\u001b[43mpredict_proba\u001b[49m\u001b[43m(\u001b[49m\u001b[43md\u001b[49m\u001b[43m)\u001b[49m[:, \u001b[38;5;241m1\u001b[39m]\n",
      "File \u001b[1;32m~\\anaconda3\\lib\\site-packages\\sklearn\\ensemble\\_forest.py:848\u001b[0m, in \u001b[0;36mForestClassifier.predict_proba\u001b[1;34m(self, X)\u001b[0m\n\u001b[0;32m    826\u001b[0m \u001b[38;5;28;01mdef\u001b[39;00m \u001b[38;5;21mpredict_proba\u001b[39m(\u001b[38;5;28mself\u001b[39m, X):\n\u001b[0;32m    827\u001b[0m     \u001b[38;5;124;03m\"\"\"\u001b[39;00m\n\u001b[0;32m    828\u001b[0m \u001b[38;5;124;03m    Predict class probabilities for X.\u001b[39;00m\n\u001b[0;32m    829\u001b[0m \n\u001b[1;32m   (...)\u001b[0m\n\u001b[0;32m    846\u001b[0m \u001b[38;5;124;03m        classes corresponds to that in the attribute :term:`classes_`.\u001b[39;00m\n\u001b[0;32m    847\u001b[0m \u001b[38;5;124;03m    \"\"\"\u001b[39;00m\n\u001b[1;32m--> 848\u001b[0m     \u001b[43mcheck_is_fitted\u001b[49m\u001b[43m(\u001b[49m\u001b[38;5;28;43mself\u001b[39;49m\u001b[43m)\u001b[49m\n\u001b[0;32m    849\u001b[0m     \u001b[38;5;66;03m# Check data\u001b[39;00m\n\u001b[0;32m    850\u001b[0m     X \u001b[38;5;241m=\u001b[39m \u001b[38;5;28mself\u001b[39m\u001b[38;5;241m.\u001b[39m_validate_X_predict(X)\n",
      "File \u001b[1;32m~\\anaconda3\\lib\\site-packages\\sklearn\\utils\\validation.py:1222\u001b[0m, in \u001b[0;36mcheck_is_fitted\u001b[1;34m(estimator, attributes, msg, all_or_any)\u001b[0m\n\u001b[0;32m   1217\u001b[0m     fitted \u001b[38;5;241m=\u001b[39m [\n\u001b[0;32m   1218\u001b[0m         v \u001b[38;5;28;01mfor\u001b[39;00m v \u001b[38;5;129;01min\u001b[39;00m \u001b[38;5;28mvars\u001b[39m(estimator) \u001b[38;5;28;01mif\u001b[39;00m v\u001b[38;5;241m.\u001b[39mendswith(\u001b[38;5;124m\"\u001b[39m\u001b[38;5;124m_\u001b[39m\u001b[38;5;124m\"\u001b[39m) \u001b[38;5;129;01mand\u001b[39;00m \u001b[38;5;129;01mnot\u001b[39;00m v\u001b[38;5;241m.\u001b[39mstartswith(\u001b[38;5;124m\"\u001b[39m\u001b[38;5;124m__\u001b[39m\u001b[38;5;124m\"\u001b[39m)\n\u001b[0;32m   1219\u001b[0m     ]\n\u001b[0;32m   1221\u001b[0m \u001b[38;5;28;01mif\u001b[39;00m \u001b[38;5;129;01mnot\u001b[39;00m fitted:\n\u001b[1;32m-> 1222\u001b[0m     \u001b[38;5;28;01mraise\u001b[39;00m NotFittedError(msg \u001b[38;5;241m%\u001b[39m {\u001b[38;5;124m\"\u001b[39m\u001b[38;5;124mname\u001b[39m\u001b[38;5;124m\"\u001b[39m: \u001b[38;5;28mtype\u001b[39m(estimator)\u001b[38;5;241m.\u001b[39m\u001b[38;5;18m__name__\u001b[39m})\n",
      "\u001b[1;31mNotFittedError\u001b[0m: This RandomForestClassifier instance is not fitted yet. Call 'fit' with appropriate arguments before using this estimator."
     ]
    }
   ],
   "source": [
    "m_vi_list = [e.model_parts() for e in exp_list]"
   ]
  },
  {
   "cell_type": "code",
   "execution_count": 79,
   "id": "759e52a3-e842-4b17-a797-5d705e002f46",
   "metadata": {},
   "outputs": [
    {
     "ename": "NameError",
     "evalue": "name 'm_vi_list' is not defined",
     "output_type": "error",
     "traceback": [
      "\u001b[1;31m---------------------------------------------------------------------------\u001b[0m",
      "\u001b[1;31mNameError\u001b[0m                                 Traceback (most recent call last)",
      "Input \u001b[1;32mIn [79]\u001b[0m, in \u001b[0;36m<cell line: 1>\u001b[1;34m()\u001b[0m\n\u001b[1;32m----> 1\u001b[0m \u001b[43mm_vi_list\u001b[49m[\u001b[38;5;241m0\u001b[39m]\u001b[38;5;241m.\u001b[39mplot(m_vi_list[\u001b[38;5;241m1\u001b[39m])\n",
      "\u001b[1;31mNameError\u001b[0m: name 'm_vi_list' is not defined"
     ]
    }
   ],
   "source": [
    "m_vi_list[0].plot(m_vi_list[1])"
   ]
  },
  {
   "cell_type": "markdown",
   "id": "fbbc7f66-f82b-4f89-9776-7863bfdd6e5d",
   "metadata": {},
   "source": [
    "**Partial Dependences**"
   ]
  },
  {
   "cell_type": "code",
   "execution_count": 80,
   "id": "5890af0d-a843-4487-88a5-bc8f6c281fca",
   "metadata": {},
   "outputs": [
    {
     "name": "stderr",
     "output_type": "stream",
     "text": [
      "Calculating ceteris paribus: 100%|██████████████████████████████████████████████████████| 5/5 [00:00<00:00, 199.82it/s]\n",
      "Calculating ceteris paribus:   0%|                                                               | 0/5 [00:00<?, ?it/s]\n"
     ]
    },
    {
     "ename": "NotFittedError",
     "evalue": "This RandomForestClassifier instance is not fitted yet. Call 'fit' with appropriate arguments before using this estimator.",
     "output_type": "error",
     "traceback": [
      "\u001b[1;31m---------------------------------------------------------------------------\u001b[0m",
      "\u001b[1;31mNotFittedError\u001b[0m                            Traceback (most recent call last)",
      "Input \u001b[1;32mIn [80]\u001b[0m, in \u001b[0;36m<cell line: 1>\u001b[1;34m()\u001b[0m\n\u001b[1;32m----> 1\u001b[0m m_pdp_list \u001b[38;5;241m=\u001b[39m [e\u001b[38;5;241m.\u001b[39mmodel_profile(\u001b[38;5;28mtype\u001b[39m \u001b[38;5;241m=\u001b[39m \u001b[38;5;124m'\u001b[39m\u001b[38;5;124mpartial\u001b[39m\u001b[38;5;124m'\u001b[39m) \u001b[38;5;28;01mfor\u001b[39;00m e \u001b[38;5;129;01min\u001b[39;00m exp_list]\n",
      "Input \u001b[1;32mIn [80]\u001b[0m, in \u001b[0;36m<listcomp>\u001b[1;34m(.0)\u001b[0m\n\u001b[1;32m----> 1\u001b[0m m_pdp_list \u001b[38;5;241m=\u001b[39m [\u001b[43me\u001b[49m\u001b[38;5;241;43m.\u001b[39;49m\u001b[43mmodel_profile\u001b[49m\u001b[43m(\u001b[49m\u001b[38;5;28;43mtype\u001b[39;49m\u001b[43m \u001b[49m\u001b[38;5;241;43m=\u001b[39;49m\u001b[43m \u001b[49m\u001b[38;5;124;43m'\u001b[39;49m\u001b[38;5;124;43mpartial\u001b[39;49m\u001b[38;5;124;43m'\u001b[39;49m\u001b[43m)\u001b[49m \u001b[38;5;28;01mfor\u001b[39;00m e \u001b[38;5;129;01min\u001b[39;00m exp_list]\n",
      "File \u001b[1;32m~\\anaconda3\\lib\\site-packages\\dalex\\_explainer\\object.py:707\u001b[0m, in \u001b[0;36mExplainer.model_profile\u001b[1;34m(self, type, N, variables, variable_type, groups, span, grid_points, variable_splits, variable_splits_type, center, label, processes, random_state, verbose)\u001b[0m\n\u001b[0;32m    704\u001b[0m     _y \u001b[38;5;241m=\u001b[39m \u001b[38;5;28mself\u001b[39m\u001b[38;5;241m.\u001b[39my\n\u001b[0;32m    705\u001b[0m     _new_observation \u001b[38;5;241m=\u001b[39m \u001b[38;5;28mself\u001b[39m\u001b[38;5;241m.\u001b[39mdata\n\u001b[1;32m--> 707\u001b[0m \u001b[43m_ceteris_paribus\u001b[49m\u001b[38;5;241;43m.\u001b[39;49m\u001b[43mfit\u001b[49m\u001b[43m(\u001b[49m\u001b[38;5;28;43mself\u001b[39;49m\u001b[43m,\u001b[49m\u001b[43m \u001b[49m\u001b[43m_new_observation\u001b[49m\u001b[43m,\u001b[49m\u001b[43m \u001b[49m\u001b[43m_y\u001b[49m\u001b[43m,\u001b[49m\u001b[43m \u001b[49m\u001b[43mverbose\u001b[49m\u001b[38;5;241;43m=\u001b[39;49m\u001b[43mverbose\u001b[49m\u001b[43m)\u001b[49m\n\u001b[0;32m    709\u001b[0m _model_profile \u001b[38;5;241m=\u001b[39m AggregatedProfiles(\n\u001b[0;32m    710\u001b[0m     \u001b[38;5;28mtype\u001b[39m\u001b[38;5;241m=\u001b[39m_type,\n\u001b[0;32m    711\u001b[0m     variables\u001b[38;5;241m=\u001b[39mvariables,\n\u001b[1;32m   (...)\u001b[0m\n\u001b[0;32m    716\u001b[0m     random_state\u001b[38;5;241m=\u001b[39mrandom_state\n\u001b[0;32m    717\u001b[0m )\n\u001b[0;32m    719\u001b[0m _model_profile\u001b[38;5;241m.\u001b[39mfit(_ceteris_paribus, verbose)\n",
      "File \u001b[1;32m~\\anaconda3\\lib\\site-packages\\dalex\\predict_explanations\\_ceteris_paribus\\object.py:126\u001b[0m, in \u001b[0;36mCeterisParibus.fit\u001b[1;34m(self, explainer, new_observation, y, verbose)\u001b[0m\n\u001b[0;32m    116\u001b[0m \u001b[38;5;28mself\u001b[39m\u001b[38;5;241m.\u001b[39mvariable_splits \u001b[38;5;241m=\u001b[39m checks\u001b[38;5;241m.\u001b[39mcheck_variable_splits(\u001b[38;5;28mself\u001b[39m\u001b[38;5;241m.\u001b[39mvariable_splits,\n\u001b[0;32m    117\u001b[0m                                              \u001b[38;5;28mself\u001b[39m\u001b[38;5;241m.\u001b[39mvariables,\n\u001b[0;32m    118\u001b[0m                                              \u001b[38;5;28mself\u001b[39m\u001b[38;5;241m.\u001b[39mgrid_points,\n\u001b[1;32m   (...)\u001b[0m\n\u001b[0;32m    121\u001b[0m                                              \u001b[38;5;28mself\u001b[39m\u001b[38;5;241m.\u001b[39mvariable_splits_with_obs,\n\u001b[0;32m    122\u001b[0m                                              \u001b[38;5;28mself\u001b[39m\u001b[38;5;241m.\u001b[39mnew_observation)\n\u001b[0;32m    124\u001b[0m y \u001b[38;5;241m=\u001b[39m checks\u001b[38;5;241m.\u001b[39mcheck_y(y)\n\u001b[1;32m--> 126\u001b[0m \u001b[38;5;28mself\u001b[39m\u001b[38;5;241m.\u001b[39mresult, \u001b[38;5;28mself\u001b[39m\u001b[38;5;241m.\u001b[39mnew_observation \u001b[38;5;241m=\u001b[39m \u001b[43mutils\u001b[49m\u001b[38;5;241;43m.\u001b[39;49m\u001b[43mcalculate_ceteris_paribus\u001b[49m\u001b[43m(\u001b[49m\n\u001b[0;32m    127\u001b[0m \u001b[43m    \u001b[49m\u001b[43mexplainer\u001b[49m\u001b[43m,\u001b[49m\n\u001b[0;32m    128\u001b[0m \u001b[43m    \u001b[49m\u001b[38;5;28;43mself\u001b[39;49m\u001b[38;5;241;43m.\u001b[39;49m\u001b[43mnew_observation\u001b[49m\u001b[43m,\u001b[49m\n\u001b[0;32m    129\u001b[0m \u001b[43m    \u001b[49m\u001b[38;5;28;43mself\u001b[39;49m\u001b[38;5;241;43m.\u001b[39;49m\u001b[43mvariable_splits\u001b[49m\u001b[43m,\u001b[49m\n\u001b[0;32m    130\u001b[0m \u001b[43m    \u001b[49m\u001b[43my\u001b[49m\u001b[43m,\u001b[49m\n\u001b[0;32m    131\u001b[0m \u001b[43m    \u001b[49m\u001b[38;5;28;43mself\u001b[39;49m\u001b[38;5;241;43m.\u001b[39;49m\u001b[43mprocesses\u001b[49m\u001b[43m,\u001b[49m\n\u001b[0;32m    132\u001b[0m \u001b[43m    \u001b[49m\u001b[43mverbose\u001b[49m\n\u001b[0;32m    133\u001b[0m \u001b[43m\u001b[49m\u001b[43m)\u001b[49m\n",
      "File \u001b[1;32m~\\anaconda3\\lib\\site-packages\\dalex\\predict_explanations\\_ceteris_paribus\\utils.py:23\u001b[0m, in \u001b[0;36mcalculate_ceteris_paribus\u001b[1;34m(explainer, new_observation, variable_splits, y, processes, verbose)\u001b[0m\n\u001b[0;32m      9\u001b[0m \u001b[38;5;28;01mdef\u001b[39;00m \u001b[38;5;21mcalculate_ceteris_paribus\u001b[39m(explainer,\n\u001b[0;32m     10\u001b[0m                               new_observation,\n\u001b[0;32m     11\u001b[0m                               variable_splits,\n\u001b[0;32m     12\u001b[0m                               y,\n\u001b[0;32m     13\u001b[0m                               processes,\n\u001b[0;32m     14\u001b[0m                               verbose\u001b[38;5;241m=\u001b[39m\u001b[38;5;28;01mTrue\u001b[39;00m):\n\u001b[0;32m     15\u001b[0m     \u001b[38;5;124;03m\"\"\"\u001b[39;00m\n\u001b[0;32m     16\u001b[0m \u001b[38;5;124;03m    Inner method that calculates ceteris paribus and some additional fields.\u001b[39;00m\n\u001b[0;32m     17\u001b[0m \n\u001b[1;32m   (...)\u001b[0m\n\u001b[0;32m     20\u001b[0m \u001b[38;5;124;03m    :return: None\u001b[39;00m\n\u001b[0;32m     21\u001b[0m \u001b[38;5;124;03m    \"\"\"\u001b[39;00m\n\u001b[1;32m---> 23\u001b[0m     profiles \u001b[38;5;241m=\u001b[39m \u001b[43mcalculate_variable_profile\u001b[49m\u001b[43m(\u001b[49m\u001b[43mexplainer\u001b[49m\u001b[38;5;241;43m.\u001b[39;49m\u001b[43mpredict_function\u001b[49m\u001b[43m,\u001b[49m\n\u001b[0;32m     24\u001b[0m \u001b[43m                                          \u001b[49m\u001b[43mexplainer\u001b[49m\u001b[38;5;241;43m.\u001b[39;49m\u001b[43mmodel\u001b[49m\u001b[43m,\u001b[49m\n\u001b[0;32m     25\u001b[0m \u001b[43m                                          \u001b[49m\u001b[43mnew_observation\u001b[49m\u001b[43m,\u001b[49m\n\u001b[0;32m     26\u001b[0m \u001b[43m                                          \u001b[49m\u001b[43mvariable_splits\u001b[49m\u001b[43m,\u001b[49m\n\u001b[0;32m     27\u001b[0m \u001b[43m                                          \u001b[49m\u001b[43mprocesses\u001b[49m\u001b[43m,\u001b[49m\n\u001b[0;32m     28\u001b[0m \u001b[43m                                          \u001b[49m\u001b[43mverbose\u001b[49m\u001b[43m)\u001b[49m\n\u001b[0;32m     30\u001b[0m     profiles\u001b[38;5;241m.\u001b[39mloc[:, \u001b[38;5;124m'\u001b[39m\u001b[38;5;124m_label_\u001b[39m\u001b[38;5;124m'\u001b[39m] \u001b[38;5;241m=\u001b[39m explainer\u001b[38;5;241m.\u001b[39mlabel\n\u001b[0;32m     32\u001b[0m     \u001b[38;5;66;03m# add points of interests\u001b[39;00m\n",
      "File \u001b[1;32m~\\anaconda3\\lib\\site-packages\\dalex\\predict_explanations\\_ceteris_paribus\\utils.py:66\u001b[0m, in \u001b[0;36mcalculate_variable_profile\u001b[1;34m(predict_function, model, data, variable_splits, processes, verbose)\u001b[0m\n\u001b[0;32m     64\u001b[0m     \u001b[38;5;28;01mfor\u001b[39;00m variable \u001b[38;5;129;01min\u001b[39;00m tqdm(variable_splits, desc\u001b[38;5;241m=\u001b[39m\u001b[38;5;124m\"\u001b[39m\u001b[38;5;124mCalculating ceteris paribus\u001b[39m\u001b[38;5;124m\"\u001b[39m, disable\u001b[38;5;241m=\u001b[39m\u001b[38;5;129;01mnot\u001b[39;00m verbose):\n\u001b[0;32m     65\u001b[0m         split_points \u001b[38;5;241m=\u001b[39m variable_splits[variable]\n\u001b[1;32m---> 66\u001b[0m         profile\u001b[38;5;241m.\u001b[39mappend(\u001b[43msingle_variable_profile\u001b[49m\u001b[43m(\u001b[49m\u001b[43mpredict_function\u001b[49m\u001b[43m,\u001b[49m\u001b[43m \u001b[49m\u001b[43mmodel\u001b[49m\u001b[43m,\u001b[49m\u001b[43m \u001b[49m\u001b[43mdata\u001b[49m\u001b[43m,\u001b[49m\u001b[43m \u001b[49m\u001b[43mvariable\u001b[49m\u001b[43m,\u001b[49m\u001b[43m \u001b[49m\u001b[43msplit_points\u001b[49m\u001b[43m)\u001b[49m)\n\u001b[0;32m     67\u001b[0m \u001b[38;5;28;01melse\u001b[39;00m:\n\u001b[0;32m     68\u001b[0m     pool \u001b[38;5;241m=\u001b[39m mp\u001b[38;5;241m.\u001b[39mget_context(\u001b[38;5;124m'\u001b[39m\u001b[38;5;124mspawn\u001b[39m\u001b[38;5;124m'\u001b[39m)\u001b[38;5;241m.\u001b[39mPool(processes)\n",
      "File \u001b[1;32m~\\anaconda3\\lib\\site-packages\\dalex\\predict_explanations\\_ceteris_paribus\\utils.py:106\u001b[0m, in \u001b[0;36msingle_variable_profile\u001b[1;34m(predict, model, data, variable, split_points)\u001b[0m\n\u001b[0;32m    103\u001b[0m original \u001b[38;5;241m=\u001b[39m new_data\u001b[38;5;241m.\u001b[39mloc[:, variable]\u001b[38;5;241m.\u001b[39mcopy()\n\u001b[0;32m    104\u001b[0m new_data\u001b[38;5;241m.\u001b[39mloc[:, variable] \u001b[38;5;241m=\u001b[39m np\u001b[38;5;241m.\u001b[39mtile(split_points, data\u001b[38;5;241m.\u001b[39mshape[\u001b[38;5;241m0\u001b[39m])\n\u001b[1;32m--> 106\u001b[0m yhat \u001b[38;5;241m=\u001b[39m \u001b[43mpredict\u001b[49m\u001b[43m(\u001b[49m\u001b[43mmodel\u001b[49m\u001b[43m,\u001b[49m\u001b[43m \u001b[49m\u001b[43mnew_data\u001b[49m\u001b[43m)\u001b[49m\n\u001b[0;32m    108\u001b[0m new_data\u001b[38;5;241m.\u001b[39mloc[:, \u001b[38;5;124m'\u001b[39m\u001b[38;5;124m_original_\u001b[39m\u001b[38;5;124m'\u001b[39m] \u001b[38;5;241m=\u001b[39m original\n\u001b[0;32m    109\u001b[0m new_data\u001b[38;5;241m.\u001b[39mloc[:, \u001b[38;5;124m'\u001b[39m\u001b[38;5;124m_yhat_\u001b[39m\u001b[38;5;124m'\u001b[39m] \u001b[38;5;241m=\u001b[39m yhat\n",
      "File \u001b[1;32m~\\anaconda3\\lib\\site-packages\\dalex\\_explainer\\yhat.py:10\u001b[0m, in \u001b[0;36myhat_proba_default\u001b[1;34m(m, d)\u001b[0m\n\u001b[0;32m      9\u001b[0m \u001b[38;5;28;01mdef\u001b[39;00m \u001b[38;5;21myhat_proba_default\u001b[39m(m, d):\n\u001b[1;32m---> 10\u001b[0m     \u001b[38;5;28;01mreturn\u001b[39;00m \u001b[43mm\u001b[49m\u001b[38;5;241;43m.\u001b[39;49m\u001b[43mpredict_proba\u001b[49m\u001b[43m(\u001b[49m\u001b[43md\u001b[49m\u001b[43m)\u001b[49m[:, \u001b[38;5;241m1\u001b[39m]\n",
      "File \u001b[1;32m~\\anaconda3\\lib\\site-packages\\sklearn\\ensemble\\_forest.py:848\u001b[0m, in \u001b[0;36mForestClassifier.predict_proba\u001b[1;34m(self, X)\u001b[0m\n\u001b[0;32m    826\u001b[0m \u001b[38;5;28;01mdef\u001b[39;00m \u001b[38;5;21mpredict_proba\u001b[39m(\u001b[38;5;28mself\u001b[39m, X):\n\u001b[0;32m    827\u001b[0m     \u001b[38;5;124;03m\"\"\"\u001b[39;00m\n\u001b[0;32m    828\u001b[0m \u001b[38;5;124;03m    Predict class probabilities for X.\u001b[39;00m\n\u001b[0;32m    829\u001b[0m \n\u001b[1;32m   (...)\u001b[0m\n\u001b[0;32m    846\u001b[0m \u001b[38;5;124;03m        classes corresponds to that in the attribute :term:`classes_`.\u001b[39;00m\n\u001b[0;32m    847\u001b[0m \u001b[38;5;124;03m    \"\"\"\u001b[39;00m\n\u001b[1;32m--> 848\u001b[0m     \u001b[43mcheck_is_fitted\u001b[49m\u001b[43m(\u001b[49m\u001b[38;5;28;43mself\u001b[39;49m\u001b[43m)\u001b[49m\n\u001b[0;32m    849\u001b[0m     \u001b[38;5;66;03m# Check data\u001b[39;00m\n\u001b[0;32m    850\u001b[0m     X \u001b[38;5;241m=\u001b[39m \u001b[38;5;28mself\u001b[39m\u001b[38;5;241m.\u001b[39m_validate_X_predict(X)\n",
      "File \u001b[1;32m~\\anaconda3\\lib\\site-packages\\sklearn\\utils\\validation.py:1222\u001b[0m, in \u001b[0;36mcheck_is_fitted\u001b[1;34m(estimator, attributes, msg, all_or_any)\u001b[0m\n\u001b[0;32m   1217\u001b[0m     fitted \u001b[38;5;241m=\u001b[39m [\n\u001b[0;32m   1218\u001b[0m         v \u001b[38;5;28;01mfor\u001b[39;00m v \u001b[38;5;129;01min\u001b[39;00m \u001b[38;5;28mvars\u001b[39m(estimator) \u001b[38;5;28;01mif\u001b[39;00m v\u001b[38;5;241m.\u001b[39mendswith(\u001b[38;5;124m\"\u001b[39m\u001b[38;5;124m_\u001b[39m\u001b[38;5;124m\"\u001b[39m) \u001b[38;5;129;01mand\u001b[39;00m \u001b[38;5;129;01mnot\u001b[39;00m v\u001b[38;5;241m.\u001b[39mstartswith(\u001b[38;5;124m\"\u001b[39m\u001b[38;5;124m__\u001b[39m\u001b[38;5;124m\"\u001b[39m)\n\u001b[0;32m   1219\u001b[0m     ]\n\u001b[0;32m   1221\u001b[0m \u001b[38;5;28;01mif\u001b[39;00m \u001b[38;5;129;01mnot\u001b[39;00m fitted:\n\u001b[1;32m-> 1222\u001b[0m     \u001b[38;5;28;01mraise\u001b[39;00m NotFittedError(msg \u001b[38;5;241m%\u001b[39m {\u001b[38;5;124m\"\u001b[39m\u001b[38;5;124mname\u001b[39m\u001b[38;5;124m\"\u001b[39m: \u001b[38;5;28mtype\u001b[39m(estimator)\u001b[38;5;241m.\u001b[39m\u001b[38;5;18m__name__\u001b[39m})\n",
      "\u001b[1;31mNotFittedError\u001b[0m: This RandomForestClassifier instance is not fitted yet. Call 'fit' with appropriate arguments before using this estimator."
     ]
    }
   ],
   "source": [
    "m_pdp_list = [e.model_profile(type = 'partial') for e in exp_list]"
   ]
  },
  {
   "cell_type": "code",
   "execution_count": null,
   "id": "8fea2a35-42f2-4afb-babd-8ee608977f09",
   "metadata": {},
   "outputs": [],
   "source": [
    "# lr_pdp = lr_exp.model_profile(type = 'partial', label=\"pdp\")"
   ]
  },
  {
   "cell_type": "code",
   "execution_count": null,
   "id": "85727c7c-ec6d-4cf2-a08c-c86ac42f9012",
   "metadata": {},
   "outputs": [],
   "source": [
    "m_pdp_list[0].plot(m_pdp_list[1])"
   ]
  },
  {
   "cell_type": "code",
   "execution_count": null,
   "id": "8e43b68e-d88d-4bec-b9a5-e4aca2ade2df",
   "metadata": {},
   "outputs": [],
   "source": [
    "# lr_pdp.plot()"
   ]
  },
  {
   "cell_type": "code",
   "execution_count": null,
   "id": "c4c31c98-5912-4237-a0d2-e160f021ac88",
   "metadata": {},
   "outputs": [],
   "source": [
    "# lr_pdp_cat = lr_exp.model_profile(type = 'partial', variable_type='categorical',\n",
    "#                             variables = [\"race\"], label=\"pdp\")"
   ]
  },
  {
   "cell_type": "code",
   "execution_count": null,
   "id": "75585313-c730-49d1-9448-3f0d213a6969",
   "metadata": {},
   "outputs": [],
   "source": [
    "# lr_pdp_cat.plot()"
   ]
  },
  {
   "cell_type": "markdown",
   "id": "a89a2130-6896-42ba-981b-85464b1606b0",
   "metadata": {},
   "source": [
    "#### Interpreting individual predictions"
   ]
  },
  {
   "cell_type": "code",
   "execution_count": 37,
   "id": "0ef4579e-5b67-4467-b06a-eb354e7b200b",
   "metadata": {},
   "outputs": [
    {
     "data": {
      "text/html": [
       "<div>\n",
       "<style scoped>\n",
       "    .dataframe tbody tr th:only-of-type {\n",
       "        vertical-align: middle;\n",
       "    }\n",
       "\n",
       "    .dataframe tbody tr th {\n",
       "        vertical-align: top;\n",
       "    }\n",
       "\n",
       "    .dataframe thead th {\n",
       "        text-align: right;\n",
       "    }\n",
       "</style>\n",
       "<table border=\"1\" class=\"dataframe\">\n",
       "  <thead>\n",
       "    <tr style=\"text-align: right;\">\n",
       "      <th></th>\n",
       "      <th>sex</th>\n",
       "      <th>age</th>\n",
       "      <th>race</th>\n",
       "      <th>priors_count</th>\n",
       "      <th>c_charge_degree</th>\n",
       "    </tr>\n",
       "  </thead>\n",
       "  <tbody>\n",
       "    <tr>\n",
       "      <th>6433</th>\n",
       "      <td>0</td>\n",
       "      <td>25</td>\n",
       "      <td>0</td>\n",
       "      <td>5</td>\n",
       "      <td>0</td>\n",
       "    </tr>\n",
       "  </tbody>\n",
       "</table>\n",
       "</div>"
      ],
      "text/plain": [
       "      sex  age  race  priors_count  c_charge_degree\n",
       "6433    0   25     0             5                0"
      ]
     },
     "execution_count": 37,
     "metadata": {},
     "output_type": "execute_result"
    }
   ],
   "source": [
    "sample_1 = X_test.iloc[[3]]\n",
    "sample_1.head()"
   ]
  },
  {
   "cell_type": "code",
   "execution_count": 38,
   "id": "36c203fa-5c12-47d5-9b54-04a77f88a515",
   "metadata": {},
   "outputs": [],
   "source": [
    "reverse_encoding = { \n",
    "    'race': {0: 'African-American', 1: 'Caucasian', 2: 'Hispanic', 3: 'Other'},\n",
    "    'sex': {0: 'Female', 1: 'Male'},\n",
    "    'c_charge_degree':{0: 'F', 1: 'M'}}"
   ]
  },
  {
   "cell_type": "code",
   "execution_count": 39,
   "id": "35077046-fee9-48af-b6fd-cbdc1010bd75",
   "metadata": {},
   "outputs": [],
   "source": [
    "sample_1_reversed = sample_1.copy()\n",
    "for column in ['race','sex','c_charge_degree']:\n",
    "    sample_1_reversed[column] = sample_1[column].map(reverse_encoding[column])"
   ]
  },
  {
   "cell_type": "code",
   "execution_count": 40,
   "id": "d52d924f-3ac3-4f7e-985b-96e965efe371",
   "metadata": {},
   "outputs": [
    {
     "data": {
      "text/html": [
       "<div>\n",
       "<style scoped>\n",
       "    .dataframe tbody tr th:only-of-type {\n",
       "        vertical-align: middle;\n",
       "    }\n",
       "\n",
       "    .dataframe tbody tr th {\n",
       "        vertical-align: top;\n",
       "    }\n",
       "\n",
       "    .dataframe thead th {\n",
       "        text-align: right;\n",
       "    }\n",
       "</style>\n",
       "<table border=\"1\" class=\"dataframe\">\n",
       "  <thead>\n",
       "    <tr style=\"text-align: right;\">\n",
       "      <th></th>\n",
       "      <th>sex</th>\n",
       "      <th>age</th>\n",
       "      <th>race</th>\n",
       "      <th>priors_count</th>\n",
       "      <th>c_charge_degree</th>\n",
       "    </tr>\n",
       "  </thead>\n",
       "  <tbody>\n",
       "    <tr>\n",
       "      <th>6433</th>\n",
       "      <td>Female</td>\n",
       "      <td>25</td>\n",
       "      <td>African-American</td>\n",
       "      <td>5</td>\n",
       "      <td>F</td>\n",
       "    </tr>\n",
       "  </tbody>\n",
       "</table>\n",
       "</div>"
      ],
      "text/plain": [
       "         sex  age              race  priors_count c_charge_degree\n",
       "6433  Female   25  African-American             5               F"
      ]
     },
     "execution_count": 40,
     "metadata": {},
     "output_type": "execute_result"
    }
   ],
   "source": [
    "# create this to see the values\n",
    "sample_1_reversed"
   ]
  },
  {
   "cell_type": "code",
   "execution_count": 41,
   "id": "dbdd7120-55b6-490d-88e1-94a3f1c23023",
   "metadata": {},
   "outputs": [
    {
     "data": {
      "text/html": [
       "<div>\n",
       "<style scoped>\n",
       "    .dataframe tbody tr th:only-of-type {\n",
       "        vertical-align: middle;\n",
       "    }\n",
       "\n",
       "    .dataframe tbody tr th {\n",
       "        vertical-align: top;\n",
       "    }\n",
       "\n",
       "    .dataframe thead th {\n",
       "        text-align: right;\n",
       "    }\n",
       "</style>\n",
       "<table border=\"1\" class=\"dataframe\">\n",
       "  <thead>\n",
       "    <tr style=\"text-align: right;\">\n",
       "      <th></th>\n",
       "      <th>sex</th>\n",
       "      <th>age</th>\n",
       "      <th>race</th>\n",
       "      <th>priors_count</th>\n",
       "      <th>c_charge_degree</th>\n",
       "    </tr>\n",
       "  </thead>\n",
       "  <tbody>\n",
       "    <tr>\n",
       "      <th>6433</th>\n",
       "      <td>Female</td>\n",
       "      <td>25</td>\n",
       "      <td>African-American</td>\n",
       "      <td>5</td>\n",
       "      <td>F</td>\n",
       "    </tr>\n",
       "  </tbody>\n",
       "</table>\n",
       "</div>"
      ],
      "text/plain": [
       "         sex  age              race  priors_count c_charge_degree\n",
       "6433  Female   25  African-American             5               F"
      ]
     },
     "execution_count": 41,
     "metadata": {},
     "output_type": "execute_result"
    }
   ],
   "source": [
    "sample_1_reversed"
   ]
  },
  {
   "cell_type": "code",
   "execution_count": 42,
   "id": "47aeecb7-4ac1-47ef-b016-1b8cefd7facb",
   "metadata": {},
   "outputs": [
    {
     "name": "stdout",
     "output_type": "stream",
     "text": [
      "prediction:  [0.59161719]\n",
      "truth:  6433    1\n",
      "Name: two_year_recid, dtype: int64\n"
     ]
    }
   ],
   "source": [
    "print('prediction: ', lr_exp.predict(sample_1))\n",
    "print('truth: ', y_test.iloc[[3]])"
   ]
  },
  {
   "cell_type": "code",
   "execution_count": 106,
   "id": "7761f025-5901-4781-9de0-61cc41b0685e",
   "metadata": {},
   "outputs": [
    {
     "ename": "NotFittedError",
     "evalue": "This RandomForestClassifier instance is not fitted yet. Call 'fit' with appropriate arguments before using this estimator.",
     "output_type": "error",
     "traceback": [
      "\u001b[1;31m---------------------------------------------------------------------------\u001b[0m",
      "\u001b[1;31mNotFittedError\u001b[0m                            Traceback (most recent call last)",
      "Input \u001b[1;32mIn [106]\u001b[0m, in \u001b[0;36m<cell line: 1>\u001b[1;34m()\u001b[0m\n\u001b[1;32m----> 1\u001b[0m sample_1_bd_list \u001b[38;5;241m=\u001b[39m [e\u001b[38;5;241m.\u001b[39mpredict_parts(sample_1, \u001b[38;5;28mtype\u001b[39m\u001b[38;5;241m=\u001b[39m\u001b[38;5;124m'\u001b[39m\u001b[38;5;124mbreak_down\u001b[39m\u001b[38;5;124m'\u001b[39m) \u001b[38;5;28;01mfor\u001b[39;00m e \u001b[38;5;129;01min\u001b[39;00m exp_list]\n",
      "Input \u001b[1;32mIn [106]\u001b[0m, in \u001b[0;36m<listcomp>\u001b[1;34m(.0)\u001b[0m\n\u001b[1;32m----> 1\u001b[0m sample_1_bd_list \u001b[38;5;241m=\u001b[39m [\u001b[43me\u001b[49m\u001b[38;5;241;43m.\u001b[39;49m\u001b[43mpredict_parts\u001b[49m\u001b[43m(\u001b[49m\u001b[43msample_1\u001b[49m\u001b[43m,\u001b[49m\u001b[43m \u001b[49m\u001b[38;5;28;43mtype\u001b[39;49m\u001b[38;5;241;43m=\u001b[39;49m\u001b[38;5;124;43m'\u001b[39;49m\u001b[38;5;124;43mbreak_down\u001b[39;49m\u001b[38;5;124;43m'\u001b[39;49m\u001b[43m)\u001b[49m \u001b[38;5;28;01mfor\u001b[39;00m e \u001b[38;5;129;01min\u001b[39;00m exp_list]\n",
      "File \u001b[1;32m~\\anaconda3\\lib\\site-packages\\dalex\\_explainer\\object.py:320\u001b[0m, in \u001b[0;36mExplainer.predict_parts\u001b[1;34m(self, new_observation, type, order, interaction_preference, path, N, B, keep_distributions, label, processes, random_state, **kwargs)\u001b[0m\n\u001b[0;32m    317\u001b[0m \u001b[38;5;28;01melse\u001b[39;00m:\n\u001b[0;32m    318\u001b[0m     \u001b[38;5;28;01mraise\u001b[39;00m \u001b[38;5;167;01mTypeError\u001b[39;00m(\u001b[38;5;124m\"\u001b[39m\u001b[38;5;124mWrong type parameter.\u001b[39m\u001b[38;5;124m\"\u001b[39m)\n\u001b[1;32m--> 320\u001b[0m _predict_parts\u001b[38;5;241m.\u001b[39mfit(\u001b[38;5;28mself\u001b[39m, new_observation, \u001b[38;5;241m*\u001b[39m\u001b[38;5;241m*\u001b[39mkwargs)\n\u001b[0;32m    322\u001b[0m \u001b[38;5;28;01mif\u001b[39;00m label:\n\u001b[0;32m    323\u001b[0m     _predict_parts\u001b[38;5;241m.\u001b[39mresult[\u001b[38;5;124m'\u001b[39m\u001b[38;5;124mlabel\u001b[39m\u001b[38;5;124m'\u001b[39m] \u001b[38;5;241m=\u001b[39m label\n",
      "File \u001b[1;32m~\\anaconda3\\lib\\site-packages\\dalex\\predict_explanations\\_break_down\\object.py:100\u001b[0m, in \u001b[0;36mBreakDown.fit\u001b[1;34m(self, explainer, new_observation)\u001b[0m\n\u001b[0;32m     91\u001b[0m     result, yhats_distributions \u001b[38;5;241m=\u001b[39m utils\u001b[38;5;241m.\u001b[39mlocal_interactions(\n\u001b[0;32m     92\u001b[0m         explainer,\n\u001b[0;32m     93\u001b[0m         _new_observation,\n\u001b[1;32m   (...)\u001b[0m\n\u001b[0;32m     97\u001b[0m         \u001b[38;5;28mself\u001b[39m\u001b[38;5;241m.\u001b[39mkeep_distributions\n\u001b[0;32m     98\u001b[0m     )\n\u001b[0;32m     99\u001b[0m \u001b[38;5;28;01melif\u001b[39;00m \u001b[38;5;28mself\u001b[39m\u001b[38;5;241m.\u001b[39mtype \u001b[38;5;241m==\u001b[39m \u001b[38;5;124m'\u001b[39m\u001b[38;5;124mbreak_down\u001b[39m\u001b[38;5;124m'\u001b[39m:\n\u001b[1;32m--> 100\u001b[0m     result, yhats_distributions \u001b[38;5;241m=\u001b[39m \u001b[43mutils\u001b[49m\u001b[38;5;241;43m.\u001b[39;49m\u001b[43mlocal_interactions\u001b[49m\u001b[43m(\u001b[49m\n\u001b[0;32m    101\u001b[0m \u001b[43m        \u001b[49m\u001b[43mexplainer\u001b[49m\u001b[43m,\u001b[49m\n\u001b[0;32m    102\u001b[0m \u001b[43m        \u001b[49m\u001b[43m_new_observation\u001b[49m\u001b[43m,\u001b[49m\n\u001b[0;32m    103\u001b[0m \u001b[43m        \u001b[49m\u001b[38;5;28;43mself\u001b[39;49m\u001b[38;5;241;43m.\u001b[39;49m\u001b[43minteraction_preference\u001b[49m\u001b[43m,\u001b[49m\n\u001b[0;32m    104\u001b[0m \u001b[43m        \u001b[49m\u001b[38;5;124;43m'\u001b[39;49m\u001b[38;5;124;43m1d\u001b[39;49m\u001b[38;5;124;43m'\u001b[39;49m\u001b[43m,\u001b[49m\n\u001b[0;32m    105\u001b[0m \u001b[43m        \u001b[49m\u001b[38;5;28;43mself\u001b[39;49m\u001b[38;5;241;43m.\u001b[39;49m\u001b[43morder\u001b[49m\u001b[43m,\u001b[49m\n\u001b[0;32m    106\u001b[0m \u001b[43m        \u001b[49m\u001b[38;5;28;43mself\u001b[39;49m\u001b[38;5;241;43m.\u001b[39;49m\u001b[43mkeep_distributions\u001b[49m\n\u001b[0;32m    107\u001b[0m \u001b[43m    \u001b[49m\u001b[43m)\u001b[49m\n\u001b[0;32m    108\u001b[0m \u001b[38;5;28;01melse\u001b[39;00m:\n\u001b[0;32m    109\u001b[0m     \u001b[38;5;28;01mraise\u001b[39;00m \u001b[38;5;167;01mValueError\u001b[39;00m(\u001b[38;5;124m\"\u001b[39m\u001b[38;5;124m'\u001b[39m\u001b[38;5;124mtype\u001b[39m\u001b[38;5;124m'\u001b[39m\u001b[38;5;124m must be one of \u001b[39m\u001b[38;5;124m{\u001b[39m\u001b[38;5;124m'\u001b[39m\u001b[38;5;124mbreak_down_interactions\u001b[39m\u001b[38;5;124m'\u001b[39m\u001b[38;5;124m, \u001b[39m\u001b[38;5;124m'\u001b[39m\u001b[38;5;124mbreak_down\u001b[39m\u001b[38;5;124m'\u001b[39m\u001b[38;5;124m}\u001b[39m\u001b[38;5;124m\"\u001b[39m)\n",
      "File \u001b[1;32m~\\anaconda3\\lib\\site-packages\\dalex\\predict_explanations\\_break_down\\utils.py:18\u001b[0m, in \u001b[0;36mlocal_interactions\u001b[1;34m(explainer, new_observation, interaction_preference, type, order, keep_distributions)\u001b[0m\n\u001b[0;32m      7\u001b[0m \u001b[38;5;28;01mdef\u001b[39;00m \u001b[38;5;21mlocal_interactions\u001b[39m(explainer,\n\u001b[0;32m      8\u001b[0m                        new_observation,\n\u001b[0;32m      9\u001b[0m                        interaction_preference,\n\u001b[1;32m   (...)\u001b[0m\n\u001b[0;32m     16\u001b[0m \n\u001b[0;32m     17\u001b[0m     \u001b[38;5;66;03m# set target\u001b[39;00m\n\u001b[1;32m---> 18\u001b[0m     target_yhat \u001b[38;5;241m=\u001b[39m \u001b[43mexplainer\u001b[49m\u001b[38;5;241;43m.\u001b[39;49m\u001b[43mpredict\u001b[49m\u001b[43m(\u001b[49m\u001b[43mnew_observation\u001b[49m\u001b[43m)\u001b[49m\n\u001b[0;32m     19\u001b[0m     baseline_yhat \u001b[38;5;241m=\u001b[39m np\u001b[38;5;241m.\u001b[39mmean(explainer\u001b[38;5;241m.\u001b[39mpredict(explainer\u001b[38;5;241m.\u001b[39mdata))\n\u001b[0;32m     21\u001b[0m     \u001b[38;5;66;03m# 1d changes\u001b[39;00m\n\u001b[0;32m     22\u001b[0m     \u001b[38;5;66;03m# how the average would change if single variable is changed\u001b[39;00m\n",
      "File \u001b[1;32m~\\anaconda3\\lib\\site-packages\\dalex\\_explainer\\object.py:187\u001b[0m, in \u001b[0;36mExplainer.predict\u001b[1;34m(self, data)\u001b[0m\n\u001b[0;32m    170\u001b[0m \u001b[38;5;124;03m\"\"\"Make a prediction\u001b[39;00m\n\u001b[0;32m    171\u001b[0m \n\u001b[0;32m    172\u001b[0m \u001b[38;5;124;03mThis function uses the `predict_function` attribute.\u001b[39;00m\n\u001b[1;32m   (...)\u001b[0m\n\u001b[0;32m    182\u001b[0m \u001b[38;5;124;03m    Model predictions for given `data`.\u001b[39;00m\n\u001b[0;32m    183\u001b[0m \u001b[38;5;124;03m\"\"\"\u001b[39;00m\n\u001b[0;32m    185\u001b[0m checks\u001b[38;5;241m.\u001b[39mcheck_method_data(data)\n\u001b[1;32m--> 187\u001b[0m \u001b[38;5;28;01mreturn\u001b[39;00m \u001b[38;5;28;43mself\u001b[39;49m\u001b[38;5;241;43m.\u001b[39;49m\u001b[43mpredict_function\u001b[49m\u001b[43m(\u001b[49m\u001b[38;5;28;43mself\u001b[39;49m\u001b[38;5;241;43m.\u001b[39;49m\u001b[43mmodel\u001b[49m\u001b[43m,\u001b[49m\u001b[43m \u001b[49m\u001b[43mdata\u001b[49m\u001b[43m)\u001b[49m\n",
      "File \u001b[1;32m~\\anaconda3\\lib\\site-packages\\dalex\\_explainer\\yhat.py:10\u001b[0m, in \u001b[0;36myhat_proba_default\u001b[1;34m(m, d)\u001b[0m\n\u001b[0;32m      9\u001b[0m \u001b[38;5;28;01mdef\u001b[39;00m \u001b[38;5;21myhat_proba_default\u001b[39m(m, d):\n\u001b[1;32m---> 10\u001b[0m     \u001b[38;5;28;01mreturn\u001b[39;00m \u001b[43mm\u001b[49m\u001b[38;5;241;43m.\u001b[39;49m\u001b[43mpredict_proba\u001b[49m\u001b[43m(\u001b[49m\u001b[43md\u001b[49m\u001b[43m)\u001b[49m[:, \u001b[38;5;241m1\u001b[39m]\n",
      "File \u001b[1;32m~\\anaconda3\\lib\\site-packages\\sklearn\\ensemble\\_forest.py:848\u001b[0m, in \u001b[0;36mForestClassifier.predict_proba\u001b[1;34m(self, X)\u001b[0m\n\u001b[0;32m    826\u001b[0m \u001b[38;5;28;01mdef\u001b[39;00m \u001b[38;5;21mpredict_proba\u001b[39m(\u001b[38;5;28mself\u001b[39m, X):\n\u001b[0;32m    827\u001b[0m     \u001b[38;5;124;03m\"\"\"\u001b[39;00m\n\u001b[0;32m    828\u001b[0m \u001b[38;5;124;03m    Predict class probabilities for X.\u001b[39;00m\n\u001b[0;32m    829\u001b[0m \n\u001b[1;32m   (...)\u001b[0m\n\u001b[0;32m    846\u001b[0m \u001b[38;5;124;03m        classes corresponds to that in the attribute :term:`classes_`.\u001b[39;00m\n\u001b[0;32m    847\u001b[0m \u001b[38;5;124;03m    \"\"\"\u001b[39;00m\n\u001b[1;32m--> 848\u001b[0m     \u001b[43mcheck_is_fitted\u001b[49m\u001b[43m(\u001b[49m\u001b[38;5;28;43mself\u001b[39;49m\u001b[43m)\u001b[49m\n\u001b[0;32m    849\u001b[0m     \u001b[38;5;66;03m# Check data\u001b[39;00m\n\u001b[0;32m    850\u001b[0m     X \u001b[38;5;241m=\u001b[39m \u001b[38;5;28mself\u001b[39m\u001b[38;5;241m.\u001b[39m_validate_X_predict(X)\n",
      "File \u001b[1;32m~\\anaconda3\\lib\\site-packages\\sklearn\\utils\\validation.py:1222\u001b[0m, in \u001b[0;36mcheck_is_fitted\u001b[1;34m(estimator, attributes, msg, all_or_any)\u001b[0m\n\u001b[0;32m   1217\u001b[0m     fitted \u001b[38;5;241m=\u001b[39m [\n\u001b[0;32m   1218\u001b[0m         v \u001b[38;5;28;01mfor\u001b[39;00m v \u001b[38;5;129;01min\u001b[39;00m \u001b[38;5;28mvars\u001b[39m(estimator) \u001b[38;5;28;01mif\u001b[39;00m v\u001b[38;5;241m.\u001b[39mendswith(\u001b[38;5;124m\"\u001b[39m\u001b[38;5;124m_\u001b[39m\u001b[38;5;124m\"\u001b[39m) \u001b[38;5;129;01mand\u001b[39;00m \u001b[38;5;129;01mnot\u001b[39;00m v\u001b[38;5;241m.\u001b[39mstartswith(\u001b[38;5;124m\"\u001b[39m\u001b[38;5;124m__\u001b[39m\u001b[38;5;124m\"\u001b[39m)\n\u001b[0;32m   1219\u001b[0m     ]\n\u001b[0;32m   1221\u001b[0m \u001b[38;5;28;01mif\u001b[39;00m \u001b[38;5;129;01mnot\u001b[39;00m fitted:\n\u001b[1;32m-> 1222\u001b[0m     \u001b[38;5;28;01mraise\u001b[39;00m NotFittedError(msg \u001b[38;5;241m%\u001b[39m {\u001b[38;5;124m\"\u001b[39m\u001b[38;5;124mname\u001b[39m\u001b[38;5;124m\"\u001b[39m: \u001b[38;5;28mtype\u001b[39m(estimator)\u001b[38;5;241m.\u001b[39m\u001b[38;5;18m__name__\u001b[39m})\n",
      "\u001b[1;31mNotFittedError\u001b[0m: This RandomForestClassifier instance is not fitted yet. Call 'fit' with appropriate arguments before using this estimator."
     ]
    }
   ],
   "source": [
    "sample_1_bd_list = [e.predict_parts(sample_1, type='break_down') for e in exp_list]"
   ]
  },
  {
   "cell_type": "code",
   "execution_count": 44,
   "id": "4587ecdf-fc42-4879-ab06-9808c403664a",
   "metadata": {},
   "outputs": [
    {
     "ename": "NameError",
     "evalue": "name 'sample_1_bd_list' is not defined",
     "output_type": "error",
     "traceback": [
      "\u001b[1;31m---------------------------------------------------------------------------\u001b[0m",
      "\u001b[1;31mNameError\u001b[0m                                 Traceback (most recent call last)",
      "Input \u001b[1;32mIn [44]\u001b[0m, in \u001b[0;36m<cell line: 1>\u001b[1;34m()\u001b[0m\n\u001b[1;32m----> 1\u001b[0m \u001b[43msample_1_bd_list\u001b[49m[\u001b[38;5;241m0\u001b[39m]\u001b[38;5;241m.\u001b[39mplot(sample_1_bd_list[\u001b[38;5;241m1\u001b[39m])\n",
      "\u001b[1;31mNameError\u001b[0m: name 'sample_1_bd_list' is not defined"
     ]
    }
   ],
   "source": [
    "sample_1_bd_list[0].plot(sample_1_bd_list[1])"
   ]
  },
  {
   "cell_type": "code",
   "execution_count": 45,
   "id": "425a927d-150b-4f43-96ea-eda01f157512",
   "metadata": {},
   "outputs": [
    {
     "ename": "NameError",
     "evalue": "name 'sample_1_bd_list' is not defined",
     "output_type": "error",
     "traceback": [
      "\u001b[1;31m---------------------------------------------------------------------------\u001b[0m",
      "\u001b[1;31mNameError\u001b[0m                                 Traceback (most recent call last)",
      "Input \u001b[1;32mIn [45]\u001b[0m, in \u001b[0;36m<cell line: 1>\u001b[1;34m()\u001b[0m\n\u001b[1;32m----> 1\u001b[0m pd\u001b[38;5;241m.\u001b[39mconcat(bd\u001b[38;5;241m.\u001b[39mresult \u001b[38;5;28;01mfor\u001b[39;00m bd \u001b[38;5;129;01min\u001b[39;00m \u001b[43msample_1_bd_list\u001b[49m)\n",
      "\u001b[1;31mNameError\u001b[0m: name 'sample_1_bd_list' is not defined"
     ]
    }
   ],
   "source": [
    "pd.concat(bd.result for bd in sample_1_bd_list)"
   ]
  },
  {
   "cell_type": "code",
   "execution_count": 46,
   "id": "a8774cab-3224-4d01-b284-d68773d9e6e2",
   "metadata": {},
   "outputs": [
    {
     "ename": "NotFittedError",
     "evalue": "This RandomForestClassifier instance is not fitted yet. Call 'fit' with appropriate arguments before using this estimator.",
     "output_type": "error",
     "traceback": [
      "\u001b[1;31m---------------------------------------------------------------------------\u001b[0m",
      "\u001b[1;31mNotFittedError\u001b[0m                            Traceback (most recent call last)",
      "Input \u001b[1;32mIn [46]\u001b[0m, in \u001b[0;36m<cell line: 1>\u001b[1;34m()\u001b[0m\n\u001b[1;32m----> 1\u001b[0m sample_1_shap_list \u001b[38;5;241m=\u001b[39m [e\u001b[38;5;241m.\u001b[39mpredict_parts(sample_1, \u001b[38;5;28mtype\u001b[39m\u001b[38;5;241m=\u001b[39m\u001b[38;5;124m'\u001b[39m\u001b[38;5;124mshap\u001b[39m\u001b[38;5;124m'\u001b[39m) \u001b[38;5;28;01mfor\u001b[39;00m e \u001b[38;5;129;01min\u001b[39;00m exp_list]\n",
      "Input \u001b[1;32mIn [46]\u001b[0m, in \u001b[0;36m<listcomp>\u001b[1;34m(.0)\u001b[0m\n\u001b[1;32m----> 1\u001b[0m sample_1_shap_list \u001b[38;5;241m=\u001b[39m [\u001b[43me\u001b[49m\u001b[38;5;241;43m.\u001b[39;49m\u001b[43mpredict_parts\u001b[49m\u001b[43m(\u001b[49m\u001b[43msample_1\u001b[49m\u001b[43m,\u001b[49m\u001b[43m \u001b[49m\u001b[38;5;28;43mtype\u001b[39;49m\u001b[38;5;241;43m=\u001b[39;49m\u001b[38;5;124;43m'\u001b[39;49m\u001b[38;5;124;43mshap\u001b[39;49m\u001b[38;5;124;43m'\u001b[39;49m\u001b[43m)\u001b[49m \u001b[38;5;28;01mfor\u001b[39;00m e \u001b[38;5;129;01min\u001b[39;00m exp_list]\n",
      "File \u001b[1;32m~\\anaconda3\\lib\\site-packages\\dalex\\_explainer\\object.py:320\u001b[0m, in \u001b[0;36mExplainer.predict_parts\u001b[1;34m(self, new_observation, type, order, interaction_preference, path, N, B, keep_distributions, label, processes, random_state, **kwargs)\u001b[0m\n\u001b[0;32m    317\u001b[0m \u001b[38;5;28;01melse\u001b[39;00m:\n\u001b[0;32m    318\u001b[0m     \u001b[38;5;28;01mraise\u001b[39;00m \u001b[38;5;167;01mTypeError\u001b[39;00m(\u001b[38;5;124m\"\u001b[39m\u001b[38;5;124mWrong type parameter.\u001b[39m\u001b[38;5;124m\"\u001b[39m)\n\u001b[1;32m--> 320\u001b[0m _predict_parts\u001b[38;5;241m.\u001b[39mfit(\u001b[38;5;28mself\u001b[39m, new_observation, \u001b[38;5;241m*\u001b[39m\u001b[38;5;241m*\u001b[39mkwargs)\n\u001b[0;32m    322\u001b[0m \u001b[38;5;28;01mif\u001b[39;00m label:\n\u001b[0;32m    323\u001b[0m     _predict_parts\u001b[38;5;241m.\u001b[39mresult[\u001b[38;5;124m'\u001b[39m\u001b[38;5;124mlabel\u001b[39m\u001b[38;5;124m'\u001b[39m] \u001b[38;5;241m=\u001b[39m label\n",
      "File \u001b[1;32m~\\anaconda3\\lib\\site-packages\\dalex\\predict_explanations\\_shap\\object.py:99\u001b[0m, in \u001b[0;36mShap.fit\u001b[1;34m(self, explainer, new_observation)\u001b[0m\n\u001b[0;32m     97\u001b[0m _new_observation \u001b[38;5;241m=\u001b[39m checks\u001b[38;5;241m.\u001b[39mcheck_new_observation(new_observation, explainer)\n\u001b[0;32m     98\u001b[0m checks\u001b[38;5;241m.\u001b[39mcheck_columns_in_new_observation(_new_observation, explainer)\n\u001b[1;32m---> 99\u001b[0m \u001b[38;5;28mself\u001b[39m\u001b[38;5;241m.\u001b[39mresult, \u001b[38;5;28mself\u001b[39m\u001b[38;5;241m.\u001b[39mprediction, \u001b[38;5;28mself\u001b[39m\u001b[38;5;241m.\u001b[39mintercept, \u001b[38;5;28mself\u001b[39m\u001b[38;5;241m.\u001b[39myhats_distributions \u001b[38;5;241m=\u001b[39m \u001b[43mutils\u001b[49m\u001b[38;5;241;43m.\u001b[39;49m\u001b[43mshap\u001b[49m\u001b[43m(\u001b[49m\n\u001b[0;32m    100\u001b[0m \u001b[43m    \u001b[49m\u001b[43mexplainer\u001b[49m\u001b[43m,\u001b[49m\n\u001b[0;32m    101\u001b[0m \u001b[43m    \u001b[49m\u001b[43m_new_observation\u001b[49m\u001b[43m,\u001b[49m\n\u001b[0;32m    102\u001b[0m \u001b[43m    \u001b[49m\u001b[38;5;28;43mself\u001b[39;49m\u001b[38;5;241;43m.\u001b[39;49m\u001b[43mpath\u001b[49m\u001b[43m,\u001b[49m\n\u001b[0;32m    103\u001b[0m \u001b[43m    \u001b[49m\u001b[38;5;28;43mself\u001b[39;49m\u001b[38;5;241;43m.\u001b[39;49m\u001b[43mkeep_distributions\u001b[49m\u001b[43m,\u001b[49m\n\u001b[0;32m    104\u001b[0m \u001b[43m    \u001b[49m\u001b[38;5;28;43mself\u001b[39;49m\u001b[38;5;241;43m.\u001b[39;49m\u001b[43mB\u001b[49m\u001b[43m,\u001b[49m\n\u001b[0;32m    105\u001b[0m \u001b[43m    \u001b[49m\u001b[38;5;28;43mself\u001b[39;49m\u001b[38;5;241;43m.\u001b[39;49m\u001b[43mprocesses\u001b[49m\u001b[43m,\u001b[49m\n\u001b[0;32m    106\u001b[0m \u001b[43m    \u001b[49m\u001b[38;5;28;43mself\u001b[39;49m\u001b[38;5;241;43m.\u001b[39;49m\u001b[43mrandom_state\u001b[49m\n\u001b[0;32m    107\u001b[0m \u001b[43m\u001b[49m\u001b[43m)\u001b[49m\n",
      "File \u001b[1;32m~\\anaconda3\\lib\\site-packages\\dalex\\predict_explanations\\_shap\\utils.py:27\u001b[0m, in \u001b[0;36mshap\u001b[1;34m(explainer, new_observation, path, keep_distributions, B, processes, random_state)\u001b[0m\n\u001b[0;32m     24\u001b[0m p \u001b[38;5;241m=\u001b[39m new_observation\u001b[38;5;241m.\u001b[39mshape[\u001b[38;5;241m1\u001b[39m]\n\u001b[0;32m     26\u001b[0m \u001b[38;5;28;01mif\u001b[39;00m processes \u001b[38;5;241m==\u001b[39m \u001b[38;5;241m1\u001b[39m:\n\u001b[1;32m---> 27\u001b[0m     result_list \u001b[38;5;241m=\u001b[39m [\n\u001b[0;32m     28\u001b[0m         iterate_paths(explainer\u001b[38;5;241m.\u001b[39mpredict_function, explainer\u001b[38;5;241m.\u001b[39mmodel, explainer\u001b[38;5;241m.\u001b[39mdata,\n\u001b[0;32m     29\u001b[0m                       explainer\u001b[38;5;241m.\u001b[39mlabel, new_observation, p, b \u001b[38;5;241m+\u001b[39m \u001b[38;5;241m1\u001b[39m, np\u001b[38;5;241m.\u001b[39mrandom)\n\u001b[0;32m     30\u001b[0m         \u001b[38;5;28;01mfor\u001b[39;00m b \u001b[38;5;129;01min\u001b[39;00m \u001b[38;5;28mrange\u001b[39m(B)]\n\u001b[0;32m     31\u001b[0m \u001b[38;5;28;01melse\u001b[39;00m:\n\u001b[0;32m     32\u001b[0m     \u001b[38;5;66;03m# Create number generator for each iteration\u001b[39;00m\n\u001b[0;32m     33\u001b[0m     ss \u001b[38;5;241m=\u001b[39m SeedSequence(random_state)\n",
      "File \u001b[1;32m~\\anaconda3\\lib\\site-packages\\dalex\\predict_explanations\\_shap\\utils.py:28\u001b[0m, in \u001b[0;36m<listcomp>\u001b[1;34m(.0)\u001b[0m\n\u001b[0;32m     24\u001b[0m p \u001b[38;5;241m=\u001b[39m new_observation\u001b[38;5;241m.\u001b[39mshape[\u001b[38;5;241m1\u001b[39m]\n\u001b[0;32m     26\u001b[0m \u001b[38;5;28;01mif\u001b[39;00m processes \u001b[38;5;241m==\u001b[39m \u001b[38;5;241m1\u001b[39m:\n\u001b[0;32m     27\u001b[0m     result_list \u001b[38;5;241m=\u001b[39m [\n\u001b[1;32m---> 28\u001b[0m         \u001b[43miterate_paths\u001b[49m\u001b[43m(\u001b[49m\u001b[43mexplainer\u001b[49m\u001b[38;5;241;43m.\u001b[39;49m\u001b[43mpredict_function\u001b[49m\u001b[43m,\u001b[49m\u001b[43m \u001b[49m\u001b[43mexplainer\u001b[49m\u001b[38;5;241;43m.\u001b[39;49m\u001b[43mmodel\u001b[49m\u001b[43m,\u001b[49m\u001b[43m \u001b[49m\u001b[43mexplainer\u001b[49m\u001b[38;5;241;43m.\u001b[39;49m\u001b[43mdata\u001b[49m\u001b[43m,\u001b[49m\n\u001b[0;32m     29\u001b[0m \u001b[43m                      \u001b[49m\u001b[43mexplainer\u001b[49m\u001b[38;5;241;43m.\u001b[39;49m\u001b[43mlabel\u001b[49m\u001b[43m,\u001b[49m\u001b[43m \u001b[49m\u001b[43mnew_observation\u001b[49m\u001b[43m,\u001b[49m\u001b[43m \u001b[49m\u001b[43mp\u001b[49m\u001b[43m,\u001b[49m\u001b[43m \u001b[49m\u001b[43mb\u001b[49m\u001b[43m \u001b[49m\u001b[38;5;241;43m+\u001b[39;49m\u001b[43m \u001b[49m\u001b[38;5;241;43m1\u001b[39;49m\u001b[43m,\u001b[49m\u001b[43m \u001b[49m\u001b[43mnp\u001b[49m\u001b[38;5;241;43m.\u001b[39;49m\u001b[43mrandom\u001b[49m\u001b[43m)\u001b[49m\n\u001b[0;32m     30\u001b[0m         \u001b[38;5;28;01mfor\u001b[39;00m b \u001b[38;5;129;01min\u001b[39;00m \u001b[38;5;28mrange\u001b[39m(B)]\n\u001b[0;32m     31\u001b[0m \u001b[38;5;28;01melse\u001b[39;00m:\n\u001b[0;32m     32\u001b[0m     \u001b[38;5;66;03m# Create number generator for each iteration\u001b[39;00m\n\u001b[0;32m     33\u001b[0m     ss \u001b[38;5;241m=\u001b[39m SeedSequence(random_state)\n",
      "File \u001b[1;32m~\\anaconda3\\lib\\site-packages\\dalex\\predict_explanations\\_shap\\utils.py:11\u001b[0m, in \u001b[0;36miterate_paths\u001b[1;34m(predict_function, model, data, label, new_observation, p, b, rng)\u001b[0m\n\u001b[0;32m      9\u001b[0m \u001b[38;5;28;01mdef\u001b[39;00m \u001b[38;5;21miterate_paths\u001b[39m(predict_function, model, data, label, new_observation, p, b, rng):\n\u001b[0;32m     10\u001b[0m     random_path \u001b[38;5;241m=\u001b[39m rng\u001b[38;5;241m.\u001b[39mchoice(np\u001b[38;5;241m.\u001b[39marange(p), p, replace\u001b[38;5;241m=\u001b[39m\u001b[38;5;28;01mFalse\u001b[39;00m)\n\u001b[1;32m---> 11\u001b[0m     \u001b[38;5;28;01mreturn\u001b[39;00m \u001b[43mget_single_random_path\u001b[49m\u001b[43m(\u001b[49m\u001b[43mpredict_function\u001b[49m\u001b[43m,\u001b[49m\u001b[43m \u001b[49m\u001b[43mmodel\u001b[49m\u001b[43m,\u001b[49m\u001b[43m \u001b[49m\u001b[43mdata\u001b[49m\u001b[43m,\u001b[49m\u001b[43m \u001b[49m\u001b[43mlabel\u001b[49m\u001b[43m,\u001b[49m\u001b[43m \u001b[49m\u001b[43mnew_observation\u001b[49m\u001b[43m,\u001b[49m\u001b[43m \u001b[49m\u001b[43mrandom_path\u001b[49m\u001b[43m,\u001b[49m\u001b[43m \u001b[49m\u001b[43mb\u001b[49m\u001b[43m)\u001b[49m\n",
      "File \u001b[1;32m~\\anaconda3\\lib\\site-packages\\dalex\\predict_explanations\\_shap\\utils.py:91\u001b[0m, in \u001b[0;36mget_single_random_path\u001b[1;34m(predict, model, data, label, new_observation, random_path, b)\u001b[0m\n\u001b[0;32m     89\u001b[0m current_data \u001b[38;5;241m=\u001b[39m deepcopy(data)\n\u001b[0;32m     90\u001b[0m yhats \u001b[38;5;241m=\u001b[39m np\u001b[38;5;241m.\u001b[39mempty(\u001b[38;5;28mlen\u001b[39m(random_path) \u001b[38;5;241m+\u001b[39m \u001b[38;5;241m1\u001b[39m)\n\u001b[1;32m---> 91\u001b[0m yhats[\u001b[38;5;241m0\u001b[39m] \u001b[38;5;241m=\u001b[39m \u001b[43mpredict\u001b[49m\u001b[43m(\u001b[49m\u001b[43mmodel\u001b[49m\u001b[43m,\u001b[49m\u001b[43m \u001b[49m\u001b[43mcurrent_data\u001b[49m\u001b[43m)\u001b[49m\u001b[38;5;241m.\u001b[39mmean()\n\u001b[0;32m     92\u001b[0m \u001b[38;5;28;01mfor\u001b[39;00m i, candidate \u001b[38;5;129;01min\u001b[39;00m \u001b[38;5;28menumerate\u001b[39m(random_path):\n\u001b[0;32m     93\u001b[0m     current_data\u001b[38;5;241m.\u001b[39miloc[:, candidate] \u001b[38;5;241m=\u001b[39m new_observation\u001b[38;5;241m.\u001b[39miloc[\u001b[38;5;241m0\u001b[39m, candidate]\n",
      "File \u001b[1;32m~\\anaconda3\\lib\\site-packages\\dalex\\_explainer\\yhat.py:10\u001b[0m, in \u001b[0;36myhat_proba_default\u001b[1;34m(m, d)\u001b[0m\n\u001b[0;32m      9\u001b[0m \u001b[38;5;28;01mdef\u001b[39;00m \u001b[38;5;21myhat_proba_default\u001b[39m(m, d):\n\u001b[1;32m---> 10\u001b[0m     \u001b[38;5;28;01mreturn\u001b[39;00m \u001b[43mm\u001b[49m\u001b[38;5;241;43m.\u001b[39;49m\u001b[43mpredict_proba\u001b[49m\u001b[43m(\u001b[49m\u001b[43md\u001b[49m\u001b[43m)\u001b[49m[:, \u001b[38;5;241m1\u001b[39m]\n",
      "File \u001b[1;32m~\\anaconda3\\lib\\site-packages\\sklearn\\ensemble\\_forest.py:848\u001b[0m, in \u001b[0;36mForestClassifier.predict_proba\u001b[1;34m(self, X)\u001b[0m\n\u001b[0;32m    826\u001b[0m \u001b[38;5;28;01mdef\u001b[39;00m \u001b[38;5;21mpredict_proba\u001b[39m(\u001b[38;5;28mself\u001b[39m, X):\n\u001b[0;32m    827\u001b[0m     \u001b[38;5;124;03m\"\"\"\u001b[39;00m\n\u001b[0;32m    828\u001b[0m \u001b[38;5;124;03m    Predict class probabilities for X.\u001b[39;00m\n\u001b[0;32m    829\u001b[0m \n\u001b[1;32m   (...)\u001b[0m\n\u001b[0;32m    846\u001b[0m \u001b[38;5;124;03m        classes corresponds to that in the attribute :term:`classes_`.\u001b[39;00m\n\u001b[0;32m    847\u001b[0m \u001b[38;5;124;03m    \"\"\"\u001b[39;00m\n\u001b[1;32m--> 848\u001b[0m     \u001b[43mcheck_is_fitted\u001b[49m\u001b[43m(\u001b[49m\u001b[38;5;28;43mself\u001b[39;49m\u001b[43m)\u001b[49m\n\u001b[0;32m    849\u001b[0m     \u001b[38;5;66;03m# Check data\u001b[39;00m\n\u001b[0;32m    850\u001b[0m     X \u001b[38;5;241m=\u001b[39m \u001b[38;5;28mself\u001b[39m\u001b[38;5;241m.\u001b[39m_validate_X_predict(X)\n",
      "File \u001b[1;32m~\\anaconda3\\lib\\site-packages\\sklearn\\utils\\validation.py:1222\u001b[0m, in \u001b[0;36mcheck_is_fitted\u001b[1;34m(estimator, attributes, msg, all_or_any)\u001b[0m\n\u001b[0;32m   1217\u001b[0m     fitted \u001b[38;5;241m=\u001b[39m [\n\u001b[0;32m   1218\u001b[0m         v \u001b[38;5;28;01mfor\u001b[39;00m v \u001b[38;5;129;01min\u001b[39;00m \u001b[38;5;28mvars\u001b[39m(estimator) \u001b[38;5;28;01mif\u001b[39;00m v\u001b[38;5;241m.\u001b[39mendswith(\u001b[38;5;124m\"\u001b[39m\u001b[38;5;124m_\u001b[39m\u001b[38;5;124m\"\u001b[39m) \u001b[38;5;129;01mand\u001b[39;00m \u001b[38;5;129;01mnot\u001b[39;00m v\u001b[38;5;241m.\u001b[39mstartswith(\u001b[38;5;124m\"\u001b[39m\u001b[38;5;124m__\u001b[39m\u001b[38;5;124m\"\u001b[39m)\n\u001b[0;32m   1219\u001b[0m     ]\n\u001b[0;32m   1221\u001b[0m \u001b[38;5;28;01mif\u001b[39;00m \u001b[38;5;129;01mnot\u001b[39;00m fitted:\n\u001b[1;32m-> 1222\u001b[0m     \u001b[38;5;28;01mraise\u001b[39;00m NotFittedError(msg \u001b[38;5;241m%\u001b[39m {\u001b[38;5;124m\"\u001b[39m\u001b[38;5;124mname\u001b[39m\u001b[38;5;124m\"\u001b[39m: \u001b[38;5;28mtype\u001b[39m(estimator)\u001b[38;5;241m.\u001b[39m\u001b[38;5;18m__name__\u001b[39m})\n",
      "\u001b[1;31mNotFittedError\u001b[0m: This RandomForestClassifier instance is not fitted yet. Call 'fit' with appropriate arguments before using this estimator."
     ]
    }
   ],
   "source": [
    "sample_1_shap_list = [e.predict_parts(sample_1, type='shap') for e in exp_list]"
   ]
  },
  {
   "cell_type": "code",
   "execution_count": 47,
   "id": "54d2c4e6-bc32-4a32-a611-02c234809149",
   "metadata": {},
   "outputs": [
    {
     "ename": "NameError",
     "evalue": "name 'sample_1_shap_list' is not defined",
     "output_type": "error",
     "traceback": [
      "\u001b[1;31m---------------------------------------------------------------------------\u001b[0m",
      "\u001b[1;31mNameError\u001b[0m                                 Traceback (most recent call last)",
      "Input \u001b[1;32mIn [47]\u001b[0m, in \u001b[0;36m<cell line: 1>\u001b[1;34m()\u001b[0m\n\u001b[1;32m----> 1\u001b[0m \u001b[43msample_1_shap_list\u001b[49m[\u001b[38;5;241m0\u001b[39m]\u001b[38;5;241m.\u001b[39mplot(sample_1_shap_list[\u001b[38;5;241m1\u001b[39m])\n",
      "\u001b[1;31mNameError\u001b[0m: name 'sample_1_shap_list' is not defined"
     ]
    }
   ],
   "source": [
    "sample_1_shap_list[0].plot(sample_1_shap_list[1])"
   ]
  },
  {
   "cell_type": "code",
   "execution_count": 48,
   "id": "404a02e7-b9c8-4ce6-b747-f11d9bb0c88d",
   "metadata": {},
   "outputs": [
    {
     "data": {
      "text/html": [
       "<div>\n",
       "<style scoped>\n",
       "    .dataframe tbody tr th:only-of-type {\n",
       "        vertical-align: middle;\n",
       "    }\n",
       "\n",
       "    .dataframe tbody tr th {\n",
       "        vertical-align: top;\n",
       "    }\n",
       "\n",
       "    .dataframe thead th {\n",
       "        text-align: right;\n",
       "    }\n",
       "</style>\n",
       "<table border=\"1\" class=\"dataframe\">\n",
       "  <thead>\n",
       "    <tr style=\"text-align: right;\">\n",
       "      <th></th>\n",
       "      <th>sex</th>\n",
       "      <th>age</th>\n",
       "      <th>race</th>\n",
       "      <th>priors_count</th>\n",
       "      <th>c_charge_degree</th>\n",
       "    </tr>\n",
       "  </thead>\n",
       "  <tbody>\n",
       "    <tr>\n",
       "      <th>2465</th>\n",
       "      <td>1</td>\n",
       "      <td>37</td>\n",
       "      <td>1</td>\n",
       "      <td>1</td>\n",
       "      <td>0</td>\n",
       "    </tr>\n",
       "  </tbody>\n",
       "</table>\n",
       "</div>"
      ],
      "text/plain": [
       "      sex  age  race  priors_count  c_charge_degree\n",
       "2465    1   37     1             1                0"
      ]
     },
     "execution_count": 48,
     "metadata": {},
     "output_type": "execute_result"
    }
   ],
   "source": [
    "sample_2 = X_test.iloc[[20]]\n",
    "sample_2"
   ]
  },
  {
   "cell_type": "code",
   "execution_count": 49,
   "id": "9bcf5867-02cd-421a-8e3e-42aa313f038d",
   "metadata": {},
   "outputs": [
    {
     "name": "stdout",
     "output_type": "stream",
     "text": [
      "prediction:  [0.36595884]\n",
      "truth:  2465    1\n",
      "Name: two_year_recid, dtype: int64\n"
     ]
    }
   ],
   "source": [
    "print('prediction: ', lr_exp.predict(sample_2))\n",
    "print('truth: ', y_test.iloc[[20]])"
   ]
  },
  {
   "cell_type": "code",
   "execution_count": 107,
   "id": "fa678c64-7ffb-4816-9711-96bac3c882d1",
   "metadata": {},
   "outputs": [
    {
     "data": {
      "application/vnd.plotly.v1+json": {
       "config": {
        "displaylogo": false,
        "modeBarButtonsToRemove": [
         "sendDataToCloud",
         "lasso2d",
         "autoScale2d",
         "select2d",
         "zoom2d",
         "pan2d",
         "zoomIn2d",
         "zoomOut2d",
         "resetScale2d",
         "toggleSpikelines",
         "hoverCompareCartesian",
         "hoverClosestCartesian"
        ],
        "plotlyServerURL": "https://plot.ly",
        "staticPlot": false,
        "toImageButtonOptions": {
         "height": null,
         "width": null
        }
       },
       "data": [
        {
         "base": 0.44909256339194553,
         "hoverinfo": "text",
         "hoverlabel": {
          "bgcolor": "rgba(0,0,0,0.8)"
         },
         "hovertext": [
          "Average response: 0.449<br>Prediction: 0.366<br>priors_count = 1.0<br>decreases average response <br>by 0.076",
          "Average response: 0.449<br>Prediction: 0.366<br>age = 37.0<br>decreases average response <br>by 0.029",
          "Average response: 0.449<br>Prediction: 0.366<br>c_charge_degree = 0.0<br>increases average response <br>by 0.016",
          "Average response: 0.449<br>Prediction: 0.366<br>sex = 1.0<br>increases average response <br>by 0.013",
          "Average response: 0.449<br>Prediction: 0.366<br>race = 1.0<br>decreases average response <br>by 0.007"
         ],
         "marker": {
          "color": [
           "#f05a71",
           "#f05a71",
           "#8bdcbe",
           "#8bdcbe",
           "#f05a71"
          ]
         },
         "orientation": "h",
         "showlegend": false,
         "text": [
          "-0.076",
          "-0.029",
          "+0.016",
          "+0.013",
          "-0.007"
         ],
         "textposition": "outside",
         "type": "bar",
         "x": [
          -0.076,
          -0.029,
          0.016,
          0.013,
          -0.007
         ],
         "xaxis": "x",
         "y": [
          "priors_count = 1.0",
          "age = 37.0",
          "c_charge_degree = 0.0",
          "sex = 1.0",
          "race = 1.0"
         ],
         "yaxis": "y"
        }
       ],
       "layout": {
        "annotations": [
         {
          "font": {
           "size": 16
          },
          "showarrow": false,
          "text": "Logistic Regression",
          "x": 0.5,
          "xanchor": "center",
          "xref": "paper",
          "y": 1,
          "yanchor": "bottom",
          "yref": "paper"
         },
         {
          "font": {
           "size": 16
          },
          "showarrow": false,
          "text": "contribution",
          "x": 0.5,
          "xanchor": "center",
          "xref": "paper",
          "y": 0,
          "yanchor": "top",
          "yref": "paper",
          "yshift": -30
         }
        ],
        "font": {
         "color": "#371ea3"
        },
        "height": 253,
        "margin": {
         "b": 71,
         "r": 30,
         "t": 78
        },
        "shapes": [
         {
          "line": {
           "color": "#371ea3",
           "dash": "dot",
           "width": 1.5
          },
          "type": "line",
          "x0": 0.44909256339194553,
          "x1": 0.44909256339194553,
          "xref": "x",
          "y0": -1,
          "y1": 5,
          "yref": "y"
         }
        ],
        "template": {
         "data": {
          "scatter": [
           {
            "type": "scatter"
           }
          ]
         }
        },
        "title": {
         "text": "Shapley Values",
         "x": 0.15
        },
        "xaxis": {
         "anchor": "y",
         "automargin": true,
         "domain": [
          0,
          1
         ],
         "fixedrange": true,
         "gridwidth": 2,
         "range": [
          0.35929256339194554,
          0.4788925633919455
         ],
         "tickcolor": "white",
         "ticklen": 3,
         "ticks": "outside",
         "type": "linear",
         "zeroline": false
        },
        "yaxis": {
         "anchor": "x",
         "automargin": true,
         "autorange": "reversed",
         "domain": [
          0,
          1
         ],
         "fixedrange": true,
         "gridwidth": 2,
         "tickcolor": "white",
         "ticklen": 10,
         "ticks": "outside",
         "type": "category"
        }
       }
      },
      "text/html": [
       "<div>                            <div id=\"eb474011-8738-41a9-8613-02360c56ae05\" class=\"plotly-graph-div\" style=\"height:253.0px; width:100%;\"></div>            <script type=\"text/javascript\">                require([\"plotly\"], function(Plotly) {                    window.PLOTLYENV=window.PLOTLYENV || {};                                    if (document.getElementById(\"eb474011-8738-41a9-8613-02360c56ae05\")) {                    Plotly.newPlot(                        \"eb474011-8738-41a9-8613-02360c56ae05\",                        [{\"base\":0.44909256339194553,\"hoverinfo\":\"text\",\"hoverlabel\":{\"bgcolor\":\"rgba(0,0,0,0.8)\"},\"hovertext\":[\"Average response: 0.449<br>Prediction: 0.366<br>priors_count = 1.0<br>decreases average response <br>by 0.076\",\"Average response: 0.449<br>Prediction: 0.366<br>age = 37.0<br>decreases average response <br>by 0.029\",\"Average response: 0.449<br>Prediction: 0.366<br>c_charge_degree = 0.0<br>increases average response <br>by 0.016\",\"Average response: 0.449<br>Prediction: 0.366<br>sex = 1.0<br>increases average response <br>by 0.013\",\"Average response: 0.449<br>Prediction: 0.366<br>race = 1.0<br>decreases average response <br>by 0.007\"],\"marker\":{\"color\":[\"#f05a71\",\"#f05a71\",\"#8bdcbe\",\"#8bdcbe\",\"#f05a71\"]},\"orientation\":\"h\",\"showlegend\":false,\"text\":[\"-0.076\",\"-0.029\",\"+0.016\",\"+0.013\",\"-0.007\"],\"textposition\":\"outside\",\"x\":[-0.076,-0.029,0.016,0.013,-0.007],\"y\":[\"priors_count = 1.0\",\"age = 37.0\",\"c_charge_degree = 0.0\",\"sex = 1.0\",\"race = 1.0\"],\"type\":\"bar\",\"xaxis\":\"x\",\"yaxis\":\"y\"}],                        {\"template\":{\"data\":{\"scatter\":[{\"type\":\"scatter\"}]}},\"xaxis\":{\"anchor\":\"y\",\"domain\":[0.0,1.0],\"type\":\"linear\",\"gridwidth\":2,\"zeroline\":false,\"automargin\":true,\"ticks\":\"outside\",\"tickcolor\":\"white\",\"ticklen\":3,\"fixedrange\":true,\"range\":[0.35929256339194554,0.4788925633919455]},\"yaxis\":{\"anchor\":\"x\",\"domain\":[0.0,1.0],\"type\":\"category\",\"autorange\":\"reversed\",\"gridwidth\":2,\"automargin\":true,\"ticks\":\"outside\",\"tickcolor\":\"white\",\"ticklen\":10,\"fixedrange\":true},\"annotations\":[{\"font\":{\"size\":16},\"showarrow\":false,\"text\":\"Logistic Regression\",\"x\":0.5,\"xanchor\":\"center\",\"xref\":\"paper\",\"y\":1.0,\"yanchor\":\"bottom\",\"yref\":\"paper\"},{\"font\":{\"size\":16},\"showarrow\":false,\"text\":\"contribution\",\"x\":0.5,\"xanchor\":\"center\",\"xref\":\"paper\",\"y\":0,\"yanchor\":\"top\",\"yref\":\"paper\",\"yshift\":-30}],\"shapes\":[{\"line\":{\"color\":\"#371ea3\",\"dash\":\"dot\",\"width\":1.5},\"type\":\"line\",\"x0\":0.44909256339194553,\"x1\":0.44909256339194553,\"xref\":\"x\",\"y0\":-1,\"y1\":5,\"yref\":\"y\"}],\"title\":{\"text\":\"Shapley Values\",\"x\":0.15},\"font\":{\"color\":\"#371ea3\"},\"margin\":{\"t\":78,\"b\":71,\"r\":30},\"height\":253.0},                        {\"displaylogo\": false, \"staticPlot\": false, \"toImageButtonOptions\": {\"height\": null, \"width\": null}, \"modeBarButtonsToRemove\": [\"sendDataToCloud\", \"lasso2d\", \"autoScale2d\", \"select2d\", \"zoom2d\", \"pan2d\", \"zoomIn2d\", \"zoomOut2d\", \"resetScale2d\", \"toggleSpikelines\", \"hoverCompareCartesian\", \"hoverClosestCartesian\"], \"responsive\": true}                    ).then(function(){\n",
       "                            \n",
       "var gd = document.getElementById('eb474011-8738-41a9-8613-02360c56ae05');\n",
       "var x = new MutationObserver(function (mutations, observer) {{\n",
       "        var display = window.getComputedStyle(gd).display;\n",
       "        if (!display || display === 'none') {{\n",
       "            console.log([gd, 'removed!']);\n",
       "            Plotly.purge(gd);\n",
       "            observer.disconnect();\n",
       "        }}\n",
       "}});\n",
       "\n",
       "// Listen for the removal of the full notebook cells\n",
       "var notebookContainer = gd.closest('#notebook-container');\n",
       "if (notebookContainer) {{\n",
       "    x.observe(notebookContainer, {childList: true});\n",
       "}}\n",
       "\n",
       "// Listen for the clearing of the current output cell\n",
       "var outputEl = gd.closest('.output');\n",
       "if (outputEl) {{\n",
       "    x.observe(outputEl, {childList: true});\n",
       "}}\n",
       "\n",
       "                        })                };                });            </script>        </div>"
      ]
     },
     "metadata": {},
     "output_type": "display_data"
    }
   ],
   "source": [
    "sample_2_shap = lr_exp.predict_parts(sample_2, type='shap')\n",
    "sample_2_shap.plot()"
   ]
  },
  {
   "cell_type": "code",
   "execution_count": 136,
   "id": "18c0f85c",
   "metadata": {},
   "outputs": [
    {
     "data": {
      "text/html": [
       "<div>\n",
       "<style scoped>\n",
       "    .dataframe tbody tr th:only-of-type {\n",
       "        vertical-align: middle;\n",
       "    }\n",
       "\n",
       "    .dataframe tbody tr th {\n",
       "        vertical-align: top;\n",
       "    }\n",
       "\n",
       "    .dataframe thead th {\n",
       "        text-align: right;\n",
       "    }\n",
       "</style>\n",
       "<table border=\"1\" class=\"dataframe\">\n",
       "  <thead>\n",
       "    <tr style=\"text-align: right;\">\n",
       "      <th></th>\n",
       "      <th>sex</th>\n",
       "      <th>age</th>\n",
       "      <th>race</th>\n",
       "      <th>priors_count</th>\n",
       "      <th>c_charge_degree</th>\n",
       "      <th>y_test</th>\n",
       "      <th>y_pred</th>\n",
       "    </tr>\n",
       "  </thead>\n",
       "  <tbody>\n",
       "    <tr>\n",
       "      <th>2036</th>\n",
       "      <td>1</td>\n",
       "      <td>21</td>\n",
       "      <td>1</td>\n",
       "      <td>0</td>\n",
       "      <td>1</td>\n",
       "      <td>1</td>\n",
       "      <td>1</td>\n",
       "    </tr>\n",
       "    <tr>\n",
       "      <th>20</th>\n",
       "      <td>1</td>\n",
       "      <td>64</td>\n",
       "      <td>0</td>\n",
       "      <td>13</td>\n",
       "      <td>0</td>\n",
       "      <td>1</td>\n",
       "      <td>1</td>\n",
       "    </tr>\n",
       "    <tr>\n",
       "      <th>536</th>\n",
       "      <td>1</td>\n",
       "      <td>32</td>\n",
       "      <td>2</td>\n",
       "      <td>20</td>\n",
       "      <td>0</td>\n",
       "      <td>0</td>\n",
       "      <td>1</td>\n",
       "    </tr>\n",
       "    <tr>\n",
       "      <th>6433</th>\n",
       "      <td>0</td>\n",
       "      <td>25</td>\n",
       "      <td>0</td>\n",
       "      <td>5</td>\n",
       "      <td>0</td>\n",
       "      <td>1</td>\n",
       "      <td>1</td>\n",
       "    </tr>\n",
       "    <tr>\n",
       "      <th>2705</th>\n",
       "      <td>0</td>\n",
       "      <td>19</td>\n",
       "      <td>0</td>\n",
       "      <td>0</td>\n",
       "      <td>1</td>\n",
       "      <td>1</td>\n",
       "      <td>0</td>\n",
       "    </tr>\n",
       "  </tbody>\n",
       "</table>\n",
       "</div>"
      ],
      "text/plain": [
       "      sex  age  race  priors_count  c_charge_degree  y_test  y_pred\n",
       "2036    1   21     1             0                1       1       1\n",
       "20      1   64     0            13                0       1       1\n",
       "536     1   32     2            20                0       0       1\n",
       "6433    0   25     0             5                0       1       1\n",
       "2705    0   19     0             0                1       1       0"
      ]
     },
     "execution_count": 136,
     "metadata": {},
     "output_type": "execute_result"
    }
   ],
   "source": [
    "df_new = X_test\n",
    "df_new['y_test'] = y_test\n",
    "df_new['y_pred'] = y_pred\n",
    "\n",
    "df_new.head()"
   ]
  },
  {
   "cell_type": "code",
   "execution_count": 147,
   "id": "ca28665e",
   "metadata": {},
   "outputs": [],
   "source": [
    "df_whites = df_new.loc[df['race'] == 1]\n",
    "df_blacks = df_new.loc[df['race'] == 0]"
   ]
  },
  {
   "cell_type": "code",
   "execution_count": 207,
   "id": "80a882ae",
   "metadata": {},
   "outputs": [
    {
     "data": {
      "image/png": "[encoded data removed]",
      "text/plain": [
       "<Figure size 720x360 with 4 Axes>"
      ]
     },
     "metadata": {
      "needs_background": "light"
     },
     "output_type": "display_data"
    }
   ],
   "source": [
    "thresh = 150\n",
    "\n",
    "# Calculate confusion matrices for each subset\n",
    "cm1 = confusion_matrix(df_blacks['y_test'], df_blacks['y_pred'])\n",
    "cm2 = confusion_matrix(df_whites['y_test'], df_whites['y_pred'])\n",
    "\n",
    "# Plot confusion matrices side by side\n",
    "fig, (ax1, ax2) = plt.subplots(1, 2, figsize=(10,5))\n",
    "\n",
    "# Plot first confusion matrix\n",
    "im1 = ax1.imshow(cm1, cmap=plt.cm.Reds)\n",
    "ax1.set_xticks(np.arange(2))\n",
    "ax1.set_yticks(np.arange(2))\n",
    "ax1.set_xticklabels(['Predicted Negative', 'Predicted Positive'])\n",
    "ax1.set_yticklabels(['True Negative', 'True Positive'])\n",
    "plt.setp(ax1.get_xticklabels(), rotation=0, rotation_mode=\"anchor\")\n",
    "for i in range(2):\n",
    "    for j in range(2):\n",
    "        ax1.text(j, i, cm1[i, j], ha=\"center\", va=\"center\", color=\"white\" if cm1[i, j] > thresh else \"black\")\n",
    "ax1.set_title(\"African-American\")\n",
    "\n",
    "# Plot second confusion matrix\n",
    "im2 = ax2.imshow(cm2, cmap=plt.cm.Reds)\n",
    "ax2.set_xticks(np.arange(2))\n",
    "ax2.set_yticks(np.arange(2))\n",
    "ax2.set_xticklabels(['Predicted Negative', 'Predicted Positive'])\n",
    "ax2.set_yticklabels(['', ''])\n",
    "plt.setp(ax2.get_xticklabels(), rotation=0, rotation_mode=\"anchor\")\n",
    "for i in range(2):\n",
    "    for j in range(2):\n",
    "        ax2.text(j, i, cm2[i, j], ha=\"center\", va=\"center\", color=\"white\" if cm2[i, j] > thresh else \"black\")\n",
    "ax2.set_title(\"Caucasian\")\n",
    "\n",
    "# Add colorbar\n",
    "fig.colorbar(im1, ax=ax1, fraction=0.046, pad=0.04)\n",
    "fig.colorbar(im2, ax=ax2, fraction=0.046, pad=0.04)\n",
    "\n",
    "plt.show()\n"
   ]
  },
  {
   "cell_type": "code",
   "execution_count": 173,
   "id": "597eccb5-0a4b-421c-b2cb-617d6265c6ad",
   "metadata": {},
   "outputs": [],
   "source": [
    "# sample_2_shap.result\n"
   ]
  },
  {
   "cell_type": "markdown",
   "id": "d4cbcc76-51e9-4224-9560-d89942d7876a",
   "metadata": {},
   "source": [
    "### Decision Tree"
   ]
  },
  {
   "cell_type": "code",
   "execution_count": null,
   "id": "c3a3c629-bd64-462e-8601-3688320993cf",
   "metadata": {},
   "outputs": [],
   "source": [
    "# dt_clf = tuned_classifiers['Decision Tree']['model'].fit(X_train, y_train)"
   ]
  },
  {
   "cell_type": "code",
   "execution_count": null,
   "id": "f3fcccc6-b07e-416f-a3b6-7b860fa54877",
   "metadata": {},
   "outputs": [],
   "source": [
    "# fig = plt.figure(figsize = (20,8))\n",
    "# _ = plot_tree(dt_clf, filled = True)\n",
    "# plt.show()"
   ]
  },
  {
   "cell_type": "code",
   "execution_count": null,
   "id": "6998a27f-6ece-485d-bb99-2cb73f333d2b",
   "metadata": {},
   "outputs": [],
   "source": [
    "# text_representation = export_text(dt_clf)\n",
    "# print(text_representation)"
   ]
  },
  {
   "cell_type": "code",
   "execution_count": null,
   "id": "9bedf5c3-5e89-4f15-9e66-8030e74bbc93",
   "metadata": {},
   "outputs": [],
   "source": [
    "# fig.savefig(\"/Users/anhpham/notebooks/data_science/Group Project/DSWiSe22_Group3/decistion_tree.png\")"
   ]
  },
  {
   "cell_type": "markdown",
   "id": "bd6a2866-9cf9-4a67-8a8a-7909aed8ea14",
   "metadata": {},
   "source": [
    "### Random Forest"
   ]
  },
  {
   "cell_type": "code",
   "execution_count": null,
   "id": "b24f2851-47d8-4a55-ae09-61a349468909",
   "metadata": {},
   "outputs": [],
   "source": [
    "# rf_exp = dx.Explainer(\n",
    "#     tuned_classifiers['Random Forest']['model'],\n",
    "#     X_test, \n",
    "#     y_test,\n",
    "#     label = \"Random Forest\", \n",
    "#     verbose = True)"
   ]
  },
  {
   "cell_type": "code",
   "execution_count": null,
   "id": "cee2ce27-8cc9-42b1-9b66-605071af2d78",
   "metadata": {},
   "outputs": [],
   "source": [
    "# rf_mp = rf_exp.model_performance(model_type = 'classification')\n",
    "# rf_mp.result"
   ]
  },
  {
   "cell_type": "code",
   "execution_count": null,
   "id": "45168dd4-c7e2-41c1-93b3-0a610fa1cb35",
   "metadata": {},
   "outputs": [],
   "source": [
    "# rf_mp.plot(geom=\"roc\")"
   ]
  },
  {
   "cell_type": "code",
   "execution_count": null,
   "id": "c21fe697-9a0c-4606-a058-948874a8cbf6",
   "metadata": {},
   "outputs": [],
   "source": [
    "# rf_vi = rf_exp.model_parts()"
   ]
  },
  {
   "cell_type": "code",
   "execution_count": null,
   "id": "1e2cafa8-6d6a-4951-bb12-0f76c8a5a0fe",
   "metadata": {},
   "outputs": [],
   "source": [
    "# rf_vi.plot()"
   ]
  },
  {
   "cell_type": "code",
   "execution_count": null,
   "id": "ba6d075e-3dfc-483e-970c-ab6490de8956",
   "metadata": {},
   "outputs": [],
   "source": [
    "# sample_1_bd_rf = rf_exp.predict_parts(sample_1, type='shap')"
   ]
  },
  {
   "cell_type": "code",
   "execution_count": null,
   "id": "cbbc0e53-0bb5-459d-89f2-c8dba9ed2cf5",
   "metadata": {},
   "outputs": [],
   "source": [
    "# sample_1_bd_rf.plot()"
   ]
  },
  {
   "cell_type": "code",
   "execution_count": null,
   "id": "b980cccd-a80d-4ef2-8077-be00bef95cf4",
   "metadata": {},
   "outputs": [],
   "source": [
    "# rf_pdp = rf_exp.model_profile(type = 'partial', label=\"pdp\")"
   ]
  },
  {
   "cell_type": "code",
   "execution_count": null,
   "id": "aa5e4415-ab64-40ce-a810-130a9aba42e5",
   "metadata": {},
   "outputs": [],
   "source": [
    "# rf_pdp.plot()"
   ]
  },
  {
   "cell_type": "code",
   "execution_count": null,
   "id": "96a7cc05-bf37-42c6-9d3d-b6278249750f",
   "metadata": {},
   "outputs": [],
   "source": []
  }
 ],
 "metadata": {
  "kernelspec": {
   "display_name": "Python 3 (ipykernel)",
   "language": "python",
   "name": "python3"
  },
  "language_info": {
   "codemirror_mode": {
    "name": "ipython",
    "version": 3
   },
   "file_extension": ".py",
   "mimetype": "text/x-python",
   "name": "python",
   "nbconvert_exporter": "python",
   "pygments_lexer": "ipython3",
   "version": "3.9.12"
  }
 },
 "nbformat": 4,
 "nbformat_minor": 5
}
