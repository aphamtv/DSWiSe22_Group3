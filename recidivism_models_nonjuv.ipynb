{
 "cells": [
  {
   "cell_type": "code",
   "execution_count": 32,
   "id": "f42f6ccd-7209-4f04-8ac0-e7ce12167e49",
   "metadata": {},
   "outputs": [],
   "source": [
    "import numpy as np\n",
    "import matplotlib.pyplot as plt\n",
    "import pandas as pd\n",
    "import seaborn as sns\n",
    "# from scipy.stats import norm\n",
    "from scipy import stats\n",
    "\n",
    "from sklearn.linear_model import LogisticRegression, LinearRegression, Lasso, Ridge\n",
    "from sklearn.ensemble import RandomForestRegressor, RandomForestClassifier\n",
    "from sklearn.tree import DecisionTreeRegressor,DecisionTreeClassifier\n",
    "from sklearn.metrics import accuracy_score, f1_score,confusion_matrix, classification_report,mean_absolute_error,r2_score, roc_auc_score\n",
    "from time import time\n",
    "from sklearn.model_selection import cross_val_score, train_test_split,cross_validate\n",
    "from imblearn.under_sampling import RandomUnderSampler\n",
    "# from sklearn.feature_selection import SelectKBest, chi2\n",
    "from sklearn.compose import ColumnTransformer\n",
    "from sklearn.pipeline import Pipeline, FeatureUnion\n",
    "from sklearn.preprocessing import OneHotEncoder, StandardScaler\n",
    "from sklearn.model_selection import GridSearchCV, RandomizedSearchCV\n",
    "import warnings\n",
    "warnings.filterwarnings('ignore')"
   ]
  },
  {
   "cell_type": "markdown",
   "id": "2091c009-b947-47d7-98ab-35e25db76e17",
   "metadata": {},
   "source": [
    "## Load Data"
   ]
  },
  {
   "cell_type": "code",
   "execution_count": 2,
   "id": "c1db2852-fdda-4c28-a9c0-8b05a0065a72",
   "metadata": {},
   "outputs": [
    {
     "name": "stdout",
     "output_type": "stream",
     "text": [
      "(7214, 53)\n"
     ]
    },
    {
     "data": {
      "text/plain": [
       "Index(['id', 'name', 'first', 'last', 'compas_screening_date', 'sex', 'dob',\n",
       "       'age', 'age_cat', 'race', 'juv_fel_count', 'decile_score',\n",
       "       'juv_misd_count', 'juv_other_count', 'priors_count',\n",
       "       'days_b_screening_arrest', 'c_jail_in', 'c_jail_out', 'c_case_number',\n",
       "       'c_offense_date', 'c_arrest_date', 'c_days_from_compas',\n",
       "       'c_charge_degree', 'c_charge_desc', 'is_recid', 'r_case_number',\n",
       "       'r_charge_degree', 'r_days_from_arrest', 'r_offense_date',\n",
       "       'r_charge_desc', 'r_jail_in', 'r_jail_out', 'violent_recid',\n",
       "       'is_violent_recid', 'vr_case_number', 'vr_charge_degree',\n",
       "       'vr_offense_date', 'vr_charge_desc', 'type_of_assessment',\n",
       "       'decile_score.1', 'score_text', 'screening_date',\n",
       "       'v_type_of_assessment', 'v_decile_score', 'v_score_text',\n",
       "       'v_screening_date', 'in_custody', 'out_custody', 'priors_count.1',\n",
       "       'start', 'end', 'event', 'two_year_recid'],\n",
       "      dtype='object')"
      ]
     },
     "execution_count": 2,
     "metadata": {},
     "output_type": "execute_result"
    }
   ],
   "source": [
    "dataURL = 'https://raw.githubusercontent.com/propublica/compas-analysis/master/compas-scores-two-years.csv'\n",
    "raw_data = pd.read_csv(dataURL)\n",
    "print(raw_data.shape)\n",
    "raw_data.columns"
   ]
  },
  {
   "cell_type": "code",
   "execution_count": 3,
   "id": "24c9a839-6adb-42fe-9001-44f1cb307357",
   "metadata": {},
   "outputs": [
    {
     "data": {
      "text/plain": [
       "6172"
      ]
     },
     "execution_count": 3,
     "metadata": {},
     "output_type": "execute_result"
    }
   ],
   "source": [
    "compas_df = raw_data.loc[\n",
    "    (raw_data['days_b_screening_arrest'] <= 30) &\n",
    "    (raw_data['days_b_screening_arrest'] >= -30) &\n",
    "    (raw_data['is_recid'] != -1) &\n",
    "    (raw_data['c_charge_degree'] != \"O\") &\n",
    "    (raw_data['score_text'] != \"N/A\")\n",
    "]\n",
    "len(compas_df)"
   ]
  },
  {
   "cell_type": "markdown",
   "id": "31df9383-44ad-402f-89b6-fdb4cd5e44ed",
   "metadata": {},
   "source": [
    "## Recidivism Classification"
   ]
  },
  {
   "cell_type": "markdown",
   "id": "c8125204-92a9-477b-ba31-3d3f171a3623",
   "metadata": {},
   "source": [
    "### Prepare Data"
   ]
  },
  {
   "cell_type": "code",
   "execution_count": 4,
   "id": "e00bb009-53ec-43d0-9f9a-2c7cb168731b",
   "metadata": {},
   "outputs": [],
   "source": [
    "df = compas_df.copy()"
   ]
  },
  {
   "cell_type": "markdown",
   "id": "23245954-4ce1-4d44-b06b-aad9af0eda00",
   "metadata": {},
   "source": [
    "#### Check missing data**"
   ]
  },
  {
   "cell_type": "code",
   "execution_count": 19,
   "id": "bcf25253-3d10-4a80-9fbf-f1cd763c1466",
   "metadata": {},
   "outputs": [
    {
     "data": {
      "text/plain": [
       "sex                0\n",
       "age                0\n",
       "race               0\n",
       "priors_count       0\n",
       "c_charge_degree    0\n",
       "two_year_recid     0\n",
       "dtype: int64"
      ]
     },
     "execution_count": 19,
     "metadata": {},
     "output_type": "execute_result"
    }
   ],
   "source": [
    "df[['sex','age','race','priors_count','c_charge_degree','two_year_recid']].isna().sum()"
   ]
  },
  {
   "cell_type": "markdown",
   "id": "4a384742-deb5-4cc9-85b1-828999982225",
   "metadata": {},
   "source": [
    "#### Check data bias. \n",
    "we can clearly see that the sample is unbalanced: Asian and Native Amerian samples are too small -> inapprociate to analyze and make predictions for them -> we'll add them to the Other group. This also makes the sample data more balanced."
   ]
  },
  {
   "cell_type": "code",
   "execution_count": 5,
   "id": "d0b6399b-305c-4caa-8ab8-251d9b2844ef",
   "metadata": {},
   "outputs": [
    {
     "data": {
      "text/plain": [
       "African-American    3175\n",
       "Caucasian           2103\n",
       "Hispanic             509\n",
       "Other                385\n",
       "Name: race, dtype: int64"
      ]
     },
     "execution_count": 5,
     "metadata": {},
     "output_type": "execute_result"
    }
   ],
   "source": [
    "df.loc[df['race'].isin(['Native American', 'Asian']), 'race'] = \"Other\"\n",
    "df['race'].value_counts()"
   ]
  },
  {
   "cell_type": "markdown",
   "id": "3ea1082b-fe30-477b-8ca1-16a364a9058d",
   "metadata": {},
   "source": [
    "#### Check data balance"
   ]
  },
  {
   "cell_type": "code",
   "execution_count": 20,
   "id": "64b3e92a-56b6-44b6-8d1a-a0ac53065f68",
   "metadata": {},
   "outputs": [
    {
     "data": {
      "text/plain": [
       "<AxesSubplot:>"
      ]
     },
     "execution_count": 20,
     "metadata": {},
     "output_type": "execute_result"
    },
    {
     "data": {
      "image/png": "[encoded data removed]",
      "text/plain": [
       "<Figure size 640x480 with 1 Axes>"
      ]
     },
     "metadata": {},
     "output_type": "display_data"
    }
   ],
   "source": [
    "df['two_year_recid'].hist()"
   ]
  },
  {
   "cell_type": "code",
   "execution_count": 21,
   "id": "d7e76c1f-64e3-4665-96c9-949b15fb095d",
   "metadata": {},
   "outputs": [
    {
     "data": {
      "text/plain": [
       "0    0.54488\n",
       "1    0.45512\n",
       "Name: two_year_recid, dtype: float64"
      ]
     },
     "execution_count": 21,
     "metadata": {},
     "output_type": "execute_result"
    }
   ],
   "source": [
    "df['two_year_recid'].value_counts(normalize=True)"
   ]
  },
  {
   "cell_type": "markdown",
   "id": "e7174207-13d2-4de3-8015-ca0246ec4adf",
   "metadata": {},
   "source": [
    "the overall non-recidivism rate within two year of our sample was 0.55, while the rate of recidivism is 0.45 -> class imbalance. \n",
    "-> use Randomly Unsampling to balance the sample"
   ]
  },
  {
   "cell_type": "code",
   "execution_count": 22,
   "id": "f1f1b79b-c4f1-43de-b534-a43dd22dec15",
   "metadata": {},
   "outputs": [],
   "source": [
    "features = df[['sex','age','race','priors_count','c_charge_degree']]\n",
    "target = df['two_year_recid']\n",
    "stratify = df['two_year_recid']"
   ]
  },
  {
   "cell_type": "code",
   "execution_count": 23,
   "id": "d524c1ba-a521-4888-8c2a-7900a2ab1974",
   "metadata": {},
   "outputs": [],
   "source": [
    "# split train and test data\n",
    "X_train, X_test, y_train, y_test = train_test_split(\n",
    "        features, \n",
    "        target, \n",
    "        stratify = stratify,\n",
    "        test_size = 0.3, \n",
    "        random_state = 42)"
   ]
  },
  {
   "cell_type": "code",
   "execution_count": 24,
   "id": "02e4fb81-c0e7-45ad-9782-54accd06b268",
   "metadata": {},
   "outputs": [],
   "source": [
    "# Randomly undersampling train data\n",
    "# b/c test data doesn't affect the model prediction, we dont need to sampling them \n",
    "u_smpl = RandomUnderSampler(random_state = 42) \n",
    "X_train_smpl, y_train_smpl = u_smpl.fit_resample(X_train, y_train)"
   ]
  },
  {
   "cell_type": "markdown",
   "id": "d104a20f-8a72-4e95-bacc-a86375f5d355",
   "metadata": {},
   "source": [
    "y_train_smpl.value_counts().plot.bar()"
   ]
  },
  {
   "cell_type": "code",
   "execution_count": null,
   "id": "850f8a28-c4c5-4f58-ae1e-3deb852b2e23",
   "metadata": {},
   "outputs": [],
   "source": [
    "# corr = df.corr()\n",
    "# corr.style.background_gradient(cmap='coolwarm')"
   ]
  },
  {
   "cell_type": "markdown",
   "id": "b33ee13d-0bf3-493a-b5de-7f13c725e82c",
   "metadata": {},
   "source": [
    "### Data Preprocessing"
   ]
  },
  {
   "cell_type": "code",
   "execution_count": 26,
   "id": "9a714b57-13a0-4d3e-8802-fa24c22fa3c7",
   "metadata": {},
   "outputs": [],
   "source": [
    "# classify data type\n",
    "categorical_features = ['race','sex','c_charge_degree']\n",
    "numerical_features = ['age','priors_count']"
   ]
  },
  {
   "cell_type": "code",
   "execution_count": 27,
   "id": "54a08406-eed8-48a7-b2d9-5927c1f9dbe7",
   "metadata": {},
   "outputs": [],
   "source": [
    "# pipeline to transform data\n",
    "categorical_transformer = Pipeline(steps = [('onehot', OneHotEncoder(drop = 'if_binary'))])\n",
    "numerical_transformer = Pipeline(steps = [('scale', StandardScaler())])"
   ]
  },
  {
   "cell_type": "code",
   "execution_count": 28,
   "id": "688f6f6b-cba8-42bd-847a-9ae467583b85",
   "metadata": {},
   "outputs": [],
   "source": [
    "preprocessor = ColumnTransformer(transformers = [\n",
    "    ('cat_preprocess', categorical_transformer, categorical_features),\n",
    "    ('num_preprocess', numerical_transformer, numerical_features)\n",
    "])"
   ]
  },
  {
   "cell_type": "markdown",
   "id": "515a70ee-3421-414f-b625-cc72bd8660c5",
   "metadata": {},
   "source": [
    "### Define metrics and functions"
   ]
  },
  {
   "cell_type": "markdown",
   "id": "4810bf9d-7c2f-4cb5-ae28-97b6865592bc",
   "metadata": {},
   "source": [
    "**our main metric: F1. But ROC AUC, precision, and recall are also use for model evaluation**"
   ]
  },
  {
   "cell_type": "code",
   "execution_count": 51,
   "id": "ac24291e-bf4c-41fe-990a-d686dbce0e6d",
   "metadata": {},
   "outputs": [],
   "source": [
    "def run_model(classifiers, X_train, y_train):\n",
    "    for c in classifiers:\n",
    "        model = Pipeline(steps = [\n",
    "            ('preprocessor', preprocessor),\n",
    "            ('classifier', c)])\n",
    "        # define scoring metrics\n",
    "        scoring = ['f1','roc_auc','precision','recall','accuracy']\n",
    "        \n",
    "        # run cross validation\n",
    "        scores = cross_validate(\n",
    "            model, \n",
    "            X_train, \n",
    "            y_train, \n",
    "            scoring = scoring, \n",
    "            cv = 5)\n",
    "        # print results\n",
    "        print(c)\n",
    "        print(\"\\t AVG F1 Score: %0.5f\" % scores['test_f1'].mean())\n",
    "        print(\"\\t AVG AUC Score: %0.5f\" % scores['test_roc_auc'].mean())\n",
    "        # print(\"\\t AVG Accuracy Score: %0.5f\" % scores['test_accuracy'].mean())\n",
    "        print(\"\\t AVG Precision Score: %0.5f\" % scores['test_precision'].mean())\n",
    "        print(\"\\t AVG Recall Score: %0.5f\" % scores['test_accuracy'].mean())\n",
    "        print()"
   ]
  },
  {
   "cell_type": "markdown",
   "id": "e98c5e18-14a2-4352-bdb4-58dbbd40d913",
   "metadata": {},
   "source": [
    "### Baseline Model"
   ]
  },
  {
   "cell_type": "code",
   "execution_count": 53,
   "id": "a53a794c-ed10-412e-8902-808fc4caf0c5",
   "metadata": {},
   "outputs": [
    {
     "name": "stdout",
     "output_type": "stream",
     "text": [
      "LogisticRegression(random_state=42)\n",
      "\t AVG F1 Score: 0.65634\n",
      "\t AVG AUC Score: 0.72214\n",
      "\t AVG Precision Score: 0.66356\n",
      "\t AVG Recall Score: 0.65972\n",
      "\n"
     ]
    }
   ],
   "source": [
    "baseline_model = [LogisticRegression(random_state=42)]\n",
    "\n",
    "run_model(baseline_model, X_train_smpl, y_train_smpl)"
   ]
  },
  {
   "cell_type": "markdown",
   "id": "4fd4f685-b044-4815-9228-7f11a10337d1",
   "metadata": {},
   "source": [
    "### Model Comparison & Selection"
   ]
  },
  {
   "cell_type": "code",
   "execution_count": 54,
   "id": "88eafea3-06ac-41ef-a3fd-881d647daf26",
   "metadata": {},
   "outputs": [],
   "source": [
    "classifers = [\n",
    "    DecisionTreeClassifier(random_state = 42),\n",
    "    RandomForestClassifier(random_state = 42),\n",
    "]"
   ]
  },
  {
   "cell_type": "code",
   "execution_count": 57,
   "id": "c8cbc4b6-54d2-4c58-96e6-e04f8e27e616",
   "metadata": {},
   "outputs": [
    {
     "name": "stdout",
     "output_type": "stream",
     "text": [
      "DecisionTreeClassifier(random_state=42)\n",
      "\t AVG F1 Score: 0.58643\n",
      "\t AVG AUC Score: 0.61819\n",
      "\t AVG Precision Score: 0.61499\n",
      "\t AVG Recall Score: 0.60478\n",
      "\n",
      "RandomForestClassifier(random_state=42)\n",
      "\t AVG F1 Score: 0.63116\n",
      "\t AVG AUC Score: 0.67173\n",
      "\t AVG Precision Score: 0.62272\n",
      "\t AVG Recall Score: 0.62615\n",
      "\n"
     ]
    }
   ],
   "source": [
    "run_model(classifers, X_train_smpl, y_train_smpl)"
   ]
  },
  {
   "cell_type": "markdown",
   "id": "9f1062ee-a63e-433a-853c-3f3e0ece647e",
   "metadata": {},
   "source": [
    "**Our tree models aren't better than baseline logistic regression model -> need to tuning**"
   ]
  },
  {
   "cell_type": "markdown",
   "id": "132dc01f-1023-4ab8-9886-d6849e19e0a5",
   "metadata": {},
   "source": [
    "|Model          | AVG Accuracy Score      | AVG F1 Score      |\n",
    "| :------------ | :-----------: | :-----------: |\n",
    "| **Baseline Logistic Regression**  | **66.806%**     | **0.59945**     |\n",
    "| Decision Tree  | **61.019%**     | **0.54.205%**  \n",
    "| Random Forest | **63.333%**   |**0.59191%**    "
   ]
  },
  {
   "cell_type": "markdown",
   "id": "bbbf56d0-7bca-42bc-aa45-ac9098ef2c94",
   "metadata": {},
   "source": [
    "## Find the best paramaters for tree models"
   ]
  },
  {
   "cell_type": "markdown",
   "id": "6d2dc33f-222a-403e-80fc-088770e018e4",
   "metadata": {},
   "source": [
    "### Decision Tree"
   ]
  },
  {
   "cell_type": "code",
   "execution_count": 270,
   "id": "582ebac6-7157-476a-9099-aa571a830042",
   "metadata": {},
   "outputs": [],
   "source": [
    "# # Randomized Parameter Tuning\n",
    "\n",
    "# dt_pipeline = Pipeline(steps = [\n",
    "#         ('preprocessor', preprocessor),\n",
    "#         ('model', DecisionTreeClassifier(random_state = 42))\n",
    "# ])\n",
    "\n",
    "# rs_dt = RandomizedSearchCV(\n",
    "#         estimator = dt_pipeline, \n",
    "#         param_distributions = dt_param_dis, \n",
    "#         n_iter =100, \n",
    "#         cv = 3, \n",
    "#         random_state = 42, \n",
    "#         scoring ='f1_micro')"
   ]
  },
  {
   "cell_type": "code",
   "execution_count": null,
   "id": "df218862-a9ce-4bb6-8c31-6ad1c30aa442",
   "metadata": {},
   "outputs": [],
   "source": [
    "# rs_dt.fit(X_train,y_train)\n",
    "# print('best stcore = ' + str(rs_dt.best_score_))\n",
    "# print('best params = ' + str(rs_dt.best_params_))"
   ]
  },
  {
   "cell_type": "code",
   "execution_count": 58,
   "id": "38fe5ec5-8d6a-4cf4-a914-d2b2da2c6920",
   "metadata": {},
   "outputs": [],
   "source": [
    "#  GridSearch CV\n",
    "# define the param for searching\n",
    "dt_pipeline = Pipeline(steps = [\n",
    "        ('preprocessor', preprocessor),\n",
    "        ('model', DecisionTreeClassifier(random_state = 42))\n",
    "])\n",
    "\n",
    "# dt_param_dis = {\n",
    "#     'model__criterion': ['gini'],\n",
    "#     'model__splitter': ['best'],\n",
    "#     'model__max_depth': [2,5,None],\n",
    "#     'model__min_samples_split': [None],\n",
    "#     'model__max_features': [None]\n",
    "# }\n",
    "\n",
    "dt_param_dis = {\n",
    "    'model__criterion': ['gini','entropy'],\n",
    "    'model__splitter': ['best','random'],\n",
    "    'model__max_depth': [2,5,10,20,40,None],\n",
    "    'model__min_samples_split': [2,5,10,15],\n",
    "    'model__max_features': ['auto','sqrt','log2',None]}"
   ]
  },
  {
   "cell_type": "code",
   "execution_count": 65,
   "id": "c9d39b70-9353-4c16-8fc4-ee199f9c37ea",
   "metadata": {},
   "outputs": [],
   "source": [
    "# function to call the fit search\n",
    "def fit_search(model):\n",
    "    start = time()\n",
    "    model.fit(X_train_smpl, y_train_smpl)\n",
    "    print('best score = ' + str(model.best_score_))\n",
    "    print('best params = ' + str(model.best_params_))\n",
    "    searching_time = time() - start\n",
    "    print(\"Searching time: %0.8f\" % searching_time)"
   ]
  },
  {
   "cell_type": "code",
   "execution_count": 66,
   "id": "198deeb1-3fa0-4046-b4d2-bc3018767854",
   "metadata": {},
   "outputs": [],
   "source": [
    "dt_gs = GridSearchCV(\n",
    "        estimator = dt_pipeline, \n",
    "        param_grid = dt_param_dis, \n",
    "        cv = 5,\n",
    "        scoring ='f1_micro')"
   ]
  },
  {
   "cell_type": "code",
   "execution_count": 67,
   "id": "e60e2811-0b36-40ee-ad59-03b1764c24db",
   "metadata": {},
   "outputs": [
    {
     "name": "stdout",
     "output_type": "stream",
     "text": [
      "best score = 0.6683679770830706\n",
      "best params = {'model__criterion': 'gini', 'model__max_depth': 5, 'model__max_features': None, 'model__min_samples_split': 10, 'model__splitter': 'random'}\n",
      "Searching time: 12.82733226\n"
     ]
    }
   ],
   "source": [
    "fit_search(dt_gs)"
   ]
  },
  {
   "cell_type": "markdown",
   "id": "94c0cd93-053e-4dfd-b089-9d7038943714",
   "metadata": {
    "tags": []
   },
   "source": [
    "### Random Forests"
   ]
  },
  {
   "cell_type": "code",
   "execution_count": 68,
   "id": "6321b354-d1fb-452b-a7d5-a39be009e2cb",
   "metadata": {},
   "outputs": [],
   "source": [
    "# define params for tuning \n",
    "rf_pipeline = Pipeline(steps = [\n",
    "        ('preprocessor', preprocessor),\n",
    "        ('model', RandomForestClassifier(random_state = 42))\n",
    "])\n",
    "\n",
    "rf_param_dis = {\n",
    "    'model__n_estimators': [int(x) for x in np.linspace(start = 100, stop = 400, num = 20)],\n",
    "    'model__max_features': ['auto', 'sqrt'],\n",
    "    'model__max_depth': [int(x) for x in np.linspace(80, 200, num = 10)]+[None],\n",
    "    'model__min_samples_split': [int(x) for x in np.linspace(start = 2, stop = 20, num = 5)],\n",
    "    'model__min_samples_leaf': [int(x) for x in np.linspace(start = 1, stop = 20, num = 2)],\n",
    "    'model__bootstrap': [True, False]\n",
    "}"
   ]
  },
  {
   "cell_type": "code",
   "execution_count": 69,
   "id": "49e0f2c6-e656-4b8e-ace2-ff422a1e84af",
   "metadata": {},
   "outputs": [],
   "source": [
    "# Randomized Search\n",
    "rf_rs = RandomizedSearchCV(\n",
    "    estimator = rf_pipeline, \n",
    "    param_distributions = rf_param_dis, \n",
    "    n_iter = 100, \n",
    "    cv = 5, \n",
    "    random_state = 42, \n",
    "    scoring ='f1_micro')"
   ]
  },
  {
   "cell_type": "code",
   "execution_count": 70,
   "id": "285ce573-6d91-44af-a6af-aa2a5933fe97",
   "metadata": {},
   "outputs": [
    {
     "name": "stdout",
     "output_type": "stream",
     "text": [
      "best score = 0.6777782088712572\n",
      "best params = {'model__n_estimators': 257, 'model__min_samples_split': 6, 'model__min_samples_leaf': 20, 'model__max_features': 'sqrt', 'model__max_depth': 120, 'model__bootstrap': True}\n",
      "Searching time: 143.15167522\n"
     ]
    }
   ],
   "source": [
    "fit_search(rf_rs)"
   ]
  },
  {
   "cell_type": "markdown",
   "id": "910ad97f-5f35-43b0-a3f1-c38d3374e911",
   "metadata": {},
   "source": [
    "0.678 -> better than our logistic model (0.656). "
   ]
  },
  {
   "cell_type": "code",
   "execution_count": 78,
   "id": "7128842e-7459-4fd0-ad0e-4291bd754867",
   "metadata": {},
   "outputs": [],
   "source": [
    "# rf_param_gs = {\n",
    "#     'model__n_estimators': [int(x) for x in np.linspace(start = 250, stop = 350, num = 10)],\n",
    "#     'model__max_features': ['auto', 'sqrt'],\n",
    "#     'model__max_depth': [int(x) for x in np.linspace(60, 100, num = 10)]+[None],\n",
    "#     'model__min_samples_split': [int(x) for x in np.linspace(start = 15, stop = 25, num = 5)],\n",
    "#     'model__min_samples_leaf': [int(x) for x in np.linspace(start = 15, stop = 25, num = 5)],\n",
    "#     'model__bootstrap': [True, False]\n",
    "# }"
   ]
  },
  {
   "cell_type": "code",
   "execution_count": 81,
   "id": "df0357f5-7364-4a68-bf5c-cb80a42691b3",
   "metadata": {},
   "outputs": [],
   "source": [
    "# rf_gs = GridSearchCV(\n",
    "#         estimator = rf_pipeline, \n",
    "#         param_grid = rf_param_gs, \n",
    "#         cv = 3,\n",
    "#         scoring ='accuracy')"
   ]
  },
  {
   "cell_type": "code",
   "execution_count": 71,
   "id": "7823a849-74be-4755-afe7-3c26b2452d3a",
   "metadata": {},
   "outputs": [],
   "source": [
    "# fit_search(rf_gs)"
   ]
  },
  {
   "cell_type": "markdown",
   "id": "29962314-0249-4f93-8323-6683aee774b5",
   "metadata": {},
   "source": [
    "#### Compare models against the Test Set"
   ]
  },
  {
   "cell_type": "code",
   "execution_count": 78,
   "id": "9adc3c7e-647c-4dd4-9662-e8b1d6d20ded",
   "metadata": {},
   "outputs": [],
   "source": [
    "def test_model(classifiers):\n",
    "    for c in classifiers:\n",
    "        model = Pipeline(steps = [\n",
    "        ('preprocessor', preprocessor),\n",
    "        ('classifier', c)])\n",
    "        start = time()\n",
    "        model.fit(X_train_smpl, y_train_smpl)\n",
    "        y_preds = model.predict(X_test)\n",
    "        test_time = time() - start\n",
    "        print(c)\n",
    "        # print(\"\\t Testing Time: %0.8f\" % test_time)\n",
    "        # print(\"\\t Accuracy Score: %0.5f\" % accuracy_score(y_test, y_preds))\n",
    "        print(\"\\t F1 Score: %0.5f\" % f1_score(y_test, y_preds))\n",
    "        print(\"\\t ROC AU C%0.5f\" % roc_auc_score(y_test, y_preds))\n",
    "\n",
    "        print()\n",
    "        print(\"\\t Classification Report\",\"\\n\", classification_report(y_test, y_preds))\n",
    "        print()"
   ]
  },
  {
   "cell_type": "code",
   "execution_count": 79,
   "id": "b64750d1-f308-4860-82fb-2ada4ec821fa",
   "metadata": {},
   "outputs": [
    {
     "name": "stdout",
     "output_type": "stream",
     "text": [
      "LogisticRegression(random_state=42)\n",
      "\t F1 Score: 0.64754\n",
      "\t ROC AU C0.67339\n",
      "\n",
      "\t Classification Report \n",
      "               precision    recall  f1-score   support\n",
      "\n",
      "           0       0.71      0.69      0.70      1009\n",
      "           1       0.64      0.66      0.65       843\n",
      "\n",
      "    accuracy                           0.67      1852\n",
      "   macro avg       0.67      0.67      0.67      1852\n",
      "weighted avg       0.68      0.67      0.68      1852\n",
      "\n",
      "\n"
     ]
    }
   ],
   "source": [
    "test_model(baseline_model)"
   ]
  },
  {
   "cell_type": "code",
   "execution_count": 80,
   "id": "8bfe6067-24cf-4fe3-8c89-7baacadd7fb4",
   "metadata": {},
   "outputs": [
    {
     "name": "stdout",
     "output_type": "stream",
     "text": [
      "LogisticRegression(random_state=42)\n",
      "\t F1 Score: 0.64754\n",
      "\t ROC AU C0.67339\n",
      "\n",
      "\t Classification Report \n",
      "               precision    recall  f1-score   support\n",
      "\n",
      "           0       0.71      0.69      0.70      1009\n",
      "           1       0.64      0.66      0.65       843\n",
      "\n",
      "    accuracy                           0.67      1852\n",
      "   macro avg       0.67      0.67      0.67      1852\n",
      "weighted avg       0.68      0.67      0.68      1852\n",
      "\n",
      "\n"
     ]
    }
   ],
   "source": [
    "test_model(baseline_model)"
   ]
  },
  {
   "cell_type": "code",
   "execution_count": 74,
   "id": "8e571ec7-46b2-43d6-a409-e3d48a016171",
   "metadata": {},
   "outputs": [],
   "source": [
    "tunned_classifers =[\n",
    "    DecisionTreeClassifier(\n",
    "        criterion = 'gini', \n",
    "        max_depth = 5, \n",
    "        max_features = None,\n",
    "        min_samples_split = 10, \n",
    "        splitter = 'random'\n",
    "    ),\n",
    "    RandomForestClassifier(\n",
    "        n_estimators = 257,\n",
    "        max_depth = 120,\n",
    "        max_features = 'sqrt',\n",
    "        bootstrap = True,\n",
    "        min_samples_split = 6,\n",
    "        min_samples_leaf = 20\n",
    "    )\n",
    "]"
   ]
  },
  {
   "cell_type": "code",
   "execution_count": 81,
   "id": "4d265d63-1133-4d40-ba5b-711072b40508",
   "metadata": {},
   "outputs": [
    {
     "name": "stdout",
     "output_type": "stream",
     "text": [
      "DecisionTreeClassifier(max_depth=5, min_samples_split=10, splitter='random')\n",
      "\t F1 Score: 0.55736\n",
      "\t ROC AU C0.62125\n",
      "\n",
      "\t Classification Report \n",
      "               precision    recall  f1-score   support\n",
      "\n",
      "           0       0.64      0.73      0.68      1009\n",
      "           1       0.61      0.51      0.56       843\n",
      "\n",
      "    accuracy                           0.63      1852\n",
      "   macro avg       0.63      0.62      0.62      1852\n",
      "weighted avg       0.63      0.63      0.63      1852\n",
      "\n",
      "\n",
      "RandomForestClassifier(max_depth=120, min_samples_leaf=20, min_samples_split=6,\n",
      "                       n_estimators=257)\n",
      "\t F1 Score: 0.64779\n",
      "\t ROC AU C0.67547\n",
      "\n",
      "\t Classification Report \n",
      "               precision    recall  f1-score   support\n",
      "\n",
      "           0       0.71      0.70      0.70      1009\n",
      "           1       0.64      0.65      0.65       843\n",
      "\n",
      "    accuracy                           0.68      1852\n",
      "   macro avg       0.68      0.68      0.68      1852\n",
      "weighted avg       0.68      0.68      0.68      1852\n",
      "\n",
      "\n"
     ]
    }
   ],
   "source": [
    "test_model(tunned_classifers)"
   ]
  },
  {
   "cell_type": "code",
   "execution_count": null,
   "id": "c885a17e-efd1-4c3d-9943-f07fab2fbacf",
   "metadata": {},
   "outputs": [],
   "source": []
  }
 ],
 "metadata": {
  "kernelspec": {
   "display_name": "Python 3 (ipykernel)",
   "language": "python",
   "name": "python3"
  },
  "language_info": {
   "codemirror_mode": {
    "name": "ipython",
    "version": 3
   },
   "file_extension": ".py",
   "mimetype": "text/x-python",
   "name": "python",
   "nbconvert_exporter": "python",
   "pygments_lexer": "ipython3",
   "version": "3.9.6"
  }
 },
 "nbformat": 4,
 "nbformat_minor": 5
}
