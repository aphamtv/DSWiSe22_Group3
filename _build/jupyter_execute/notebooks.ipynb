{
 "cells": [
  {
   "cell_type": "markdown",
   "id": "053ba07e-f66a-471f-a253-a3b6898aa91a",
   "metadata": {
    "canvas": {
     "comments": [],
     "componentType": "CodeCell",
     "copiedOriginId": null,
     "diskcache": false,
     "headerColor": "inherit",
     "id": "2a20b8f0-712f-4414-a3e9-dd6195487c47",
     "isComponent": false,
     "name": "",
     "parents": []
    }
   },
   "source": [
    "# COMPAS Racial Bias Analysis"
   ]
  },
  {
   "cell_type": "markdown",
   "id": "208d660d-a098-42ff-8053-c9afb8b215d8",
   "metadata": {
    "canvas": {
     "comments": [],
     "componentType": "CodeCell",
     "copiedOriginId": null,
     "diskcache": false,
     "headerColor": "inherit",
     "id": "fb16a85a-c552-4a40-a1ff-4af0e53744f2",
     "isComponent": false,
     "name": "",
     "parents": []
    }
   },
   "source": [
    "## Import Packages"
   ]
  },
  {
   "cell_type": "code",
   "execution_count": 1,
   "id": "4bbceee6-d419-477a-b886-7b0631d7d97a",
   "metadata": {
    "canvas": {
     "comments": [],
     "componentType": "CodeCell",
     "copiedOriginId": null,
     "diskcache": false,
     "headerColor": "none",
     "id": "b5578e8a-e6b4-4f6b-a08f-54f61b04c5e0",
     "isComponent": true,
     "name": "import libraries",
     "parents": []
    },
    "tags": []
   },
   "outputs": [],
   "source": [
    "import numpy as np\n",
    "import matplotlib as matplt\n",
    "import matplotlib.pyplot as plt\n",
    "import pandas as pd\n",
    "import seaborn as sns\n",
    "from scipy.stats import norm\n",
    "from scipy import stats\n",
    "from sklearn import (\n",
    "    linear_model, metrics, pipeline, preprocessing, model_selection\n",
    ")\n",
    "# from sklearn.model_selection import cross_val_score\n",
    "# from sklearn.model_selection import RepeatedKFold\n",
    "# from sklearn.linear_model import Lasso\n",
    "import warnings\n",
    "warnings.filterwarnings('ignore')"
   ]
  },
  {
   "cell_type": "markdown",
   "id": "9ccaa1ae-5b14-4614-b52c-ac94f249e895",
   "metadata": {
    "canvas": {
     "comments": [],
     "componentType": "CodeCell",
     "copiedOriginId": null,
     "diskcache": false,
     "headerColor": "inherit",
     "id": "43883e0f-0bfa-458c-9339-89639e1d5a86",
     "isComponent": false,
     "name": "",
     "parents": []
    }
   },
   "source": [
    "## Prepare Data"
   ]
  },
  {
   "cell_type": "code",
   "execution_count": 2,
   "id": "7002905e-0325-4db0-874b-b1f7fe9e4636",
   "metadata": {
    "canvas": {
     "comments": [],
     "componentType": "CodeCell",
     "copiedOriginId": null,
     "diskcache": false,
     "headerColor": "none",
     "id": "792f693b-df84-49b2-a07d-ee4bfe557125",
     "isComponent": true,
     "name": "load raw data",
     "parents": [
      {
       "id": "b5578e8a-e6b4-4f6b-a08f-54f61b04c5e0",
       "name": "import libraries"
      }
     ]
    },
    "tags": []
   },
   "outputs": [
    {
     "name": "stdout",
     "output_type": "stream",
     "text": [
      "(7214, 53)\n"
     ]
    },
    {
     "data": {
      "text/html": [
       "<div>\n",
       "<style scoped>\n",
       "    .dataframe tbody tr th:only-of-type {\n",
       "        vertical-align: middle;\n",
       "    }\n",
       "\n",
       "    .dataframe tbody tr th {\n",
       "        vertical-align: top;\n",
       "    }\n",
       "\n",
       "    .dataframe thead th {\n",
       "        text-align: right;\n",
       "    }\n",
       "</style>\n",
       "<table border=\"1\" class=\"dataframe\">\n",
       "  <thead>\n",
       "    <tr style=\"text-align: right;\">\n",
       "      <th></th>\n",
       "      <th>id</th>\n",
       "      <th>name</th>\n",
       "      <th>first</th>\n",
       "      <th>last</th>\n",
       "      <th>compas_screening_date</th>\n",
       "      <th>sex</th>\n",
       "      <th>dob</th>\n",
       "      <th>age</th>\n",
       "      <th>age_cat</th>\n",
       "      <th>race</th>\n",
       "      <th>...</th>\n",
       "      <th>v_decile_score</th>\n",
       "      <th>v_score_text</th>\n",
       "      <th>v_screening_date</th>\n",
       "      <th>in_custody</th>\n",
       "      <th>out_custody</th>\n",
       "      <th>priors_count.1</th>\n",
       "      <th>start</th>\n",
       "      <th>end</th>\n",
       "      <th>event</th>\n",
       "      <th>two_year_recid</th>\n",
       "    </tr>\n",
       "  </thead>\n",
       "  <tbody>\n",
       "    <tr>\n",
       "      <th>0</th>\n",
       "      <td>1</td>\n",
       "      <td>miguel hernandez</td>\n",
       "      <td>miguel</td>\n",
       "      <td>hernandez</td>\n",
       "      <td>2013-08-14</td>\n",
       "      <td>Male</td>\n",
       "      <td>1947-04-18</td>\n",
       "      <td>69</td>\n",
       "      <td>Greater than 45</td>\n",
       "      <td>Other</td>\n",
       "      <td>...</td>\n",
       "      <td>1</td>\n",
       "      <td>Low</td>\n",
       "      <td>2013-08-14</td>\n",
       "      <td>2014-07-07</td>\n",
       "      <td>2014-07-14</td>\n",
       "      <td>0</td>\n",
       "      <td>0</td>\n",
       "      <td>327</td>\n",
       "      <td>0</td>\n",
       "      <td>0</td>\n",
       "    </tr>\n",
       "    <tr>\n",
       "      <th>1</th>\n",
       "      <td>3</td>\n",
       "      <td>kevon dixon</td>\n",
       "      <td>kevon</td>\n",
       "      <td>dixon</td>\n",
       "      <td>2013-01-27</td>\n",
       "      <td>Male</td>\n",
       "      <td>1982-01-22</td>\n",
       "      <td>34</td>\n",
       "      <td>25 - 45</td>\n",
       "      <td>African-American</td>\n",
       "      <td>...</td>\n",
       "      <td>1</td>\n",
       "      <td>Low</td>\n",
       "      <td>2013-01-27</td>\n",
       "      <td>2013-01-26</td>\n",
       "      <td>2013-02-05</td>\n",
       "      <td>0</td>\n",
       "      <td>9</td>\n",
       "      <td>159</td>\n",
       "      <td>1</td>\n",
       "      <td>1</td>\n",
       "    </tr>\n",
       "    <tr>\n",
       "      <th>2</th>\n",
       "      <td>4</td>\n",
       "      <td>ed philo</td>\n",
       "      <td>ed</td>\n",
       "      <td>philo</td>\n",
       "      <td>2013-04-14</td>\n",
       "      <td>Male</td>\n",
       "      <td>1991-05-14</td>\n",
       "      <td>24</td>\n",
       "      <td>Less than 25</td>\n",
       "      <td>African-American</td>\n",
       "      <td>...</td>\n",
       "      <td>3</td>\n",
       "      <td>Low</td>\n",
       "      <td>2013-04-14</td>\n",
       "      <td>2013-06-16</td>\n",
       "      <td>2013-06-16</td>\n",
       "      <td>4</td>\n",
       "      <td>0</td>\n",
       "      <td>63</td>\n",
       "      <td>0</td>\n",
       "      <td>1</td>\n",
       "    </tr>\n",
       "    <tr>\n",
       "      <th>3</th>\n",
       "      <td>5</td>\n",
       "      <td>marcu brown</td>\n",
       "      <td>marcu</td>\n",
       "      <td>brown</td>\n",
       "      <td>2013-01-13</td>\n",
       "      <td>Male</td>\n",
       "      <td>1993-01-21</td>\n",
       "      <td>23</td>\n",
       "      <td>Less than 25</td>\n",
       "      <td>African-American</td>\n",
       "      <td>...</td>\n",
       "      <td>6</td>\n",
       "      <td>Medium</td>\n",
       "      <td>2013-01-13</td>\n",
       "      <td>NaN</td>\n",
       "      <td>NaN</td>\n",
       "      <td>1</td>\n",
       "      <td>0</td>\n",
       "      <td>1174</td>\n",
       "      <td>0</td>\n",
       "      <td>0</td>\n",
       "    </tr>\n",
       "    <tr>\n",
       "      <th>4</th>\n",
       "      <td>6</td>\n",
       "      <td>bouthy pierrelouis</td>\n",
       "      <td>bouthy</td>\n",
       "      <td>pierrelouis</td>\n",
       "      <td>2013-03-26</td>\n",
       "      <td>Male</td>\n",
       "      <td>1973-01-22</td>\n",
       "      <td>43</td>\n",
       "      <td>25 - 45</td>\n",
       "      <td>Other</td>\n",
       "      <td>...</td>\n",
       "      <td>1</td>\n",
       "      <td>Low</td>\n",
       "      <td>2013-03-26</td>\n",
       "      <td>NaN</td>\n",
       "      <td>NaN</td>\n",
       "      <td>2</td>\n",
       "      <td>0</td>\n",
       "      <td>1102</td>\n",
       "      <td>0</td>\n",
       "      <td>0</td>\n",
       "    </tr>\n",
       "  </tbody>\n",
       "</table>\n",
       "<p>5 rows × 53 columns</p>\n",
       "</div>"
      ],
      "text/plain": [
       "   id                name   first         last compas_screening_date   sex  \\\n",
       "0   1    miguel hernandez  miguel    hernandez            2013-08-14  Male   \n",
       "1   3         kevon dixon   kevon        dixon            2013-01-27  Male   \n",
       "2   4            ed philo      ed        philo            2013-04-14  Male   \n",
       "3   5         marcu brown   marcu        brown            2013-01-13  Male   \n",
       "4   6  bouthy pierrelouis  bouthy  pierrelouis            2013-03-26  Male   \n",
       "\n",
       "          dob  age          age_cat              race  ...  v_decile_score  \\\n",
       "0  1947-04-18   69  Greater than 45             Other  ...               1   \n",
       "1  1982-01-22   34          25 - 45  African-American  ...               1   \n",
       "2  1991-05-14   24     Less than 25  African-American  ...               3   \n",
       "3  1993-01-21   23     Less than 25  African-American  ...               6   \n",
       "4  1973-01-22   43          25 - 45             Other  ...               1   \n",
       "\n",
       "   v_score_text  v_screening_date  in_custody  out_custody  priors_count.1  \\\n",
       "0           Low        2013-08-14  2014-07-07   2014-07-14               0   \n",
       "1           Low        2013-01-27  2013-01-26   2013-02-05               0   \n",
       "2           Low        2013-04-14  2013-06-16   2013-06-16               4   \n",
       "3        Medium        2013-01-13         NaN          NaN               1   \n",
       "4           Low        2013-03-26         NaN          NaN               2   \n",
       "\n",
       "  start   end event two_year_recid  \n",
       "0     0   327     0              0  \n",
       "1     9   159     1              1  \n",
       "2     0    63     0              1  \n",
       "3     0  1174     0              0  \n",
       "4     0  1102     0              0  \n",
       "\n",
       "[5 rows x 53 columns]"
      ]
     },
     "execution_count": 2,
     "metadata": {},
     "output_type": "execute_result"
    }
   ],
   "source": [
    "raw_data = pd.read_csv(\"./data/compas-scores-two-years.csv\")\n",
    "print(raw_data.shape)\n",
    "raw_data.head()"
   ]
  },
  {
   "cell_type": "markdown",
   "id": "1a4bd081-ae72-4509-a2a0-3facb5ed4f92",
   "metadata": {
    "canvas": {
     "comments": [],
     "componentType": "CodeCell",
     "copiedOriginId": null,
     "diskcache": false,
     "headerColor": "inherit",
     "id": "17fc935f-7c09-4225-aa22-a6a9a18d4f12",
     "isComponent": false,
     "name": "",
     "parents": []
    }
   },
   "source": [
    "### Data Description\n",
    "* age: Age of the defendant. It is numeric.\n",
    "* age_cat: Category of Age. It can be < 25, 25-45, >45.\n",
    "* sex: Sex of the defendant. It is either 'Male' or 'Female'\n",
    "* race: Race of the defendant. It can be 'African-American', 'Caucasian', 'Hispanic', 'Asian', or 'Other'.\n",
    "* c_charge_degree: Degree of the crime. It is either M (Misdemeanor), F (Felony), or O (not causing jail time).\n",
    "* priors_count: Count of prior crimes committed by the defendant. It is numeric.\n",
    "* days_b_screening_arrest: Days between the arrest and COMPAS screening.\n",
    "* decile_score: The COMPAS score predicted by the system. It is between 0-10.\n",
    "* score_text: Category of decile score. It can be Low (1-4), Medium (5-7), and High (8-10).\n",
    "* is_recid: A variable to indicate if recidivism was done by the defendant. It can be 0, 1, -1.\n",
    "* two_year_recid: A variable to indicate if recidivism was done by the defendant within two years.\n",
    "* c_jail_in: Time when the defendant was jailed.\n",
    "* c_jail_out: Time when the defendant was released from the jail."
   ]
  },
  {
   "cell_type": "code",
   "execution_count": 3,
   "id": "b54df73f-96da-4644-a438-8b262d7231e1",
   "metadata": {
    "canvas": {
     "comments": [],
     "componentType": "CodeCell",
     "copiedOriginId": null,
     "diskcache": false,
     "headerColor": "inherit",
     "id": "e1a49162-3f20-4a7e-80c9-8cec45e78e72",
     "isComponent": false,
     "name": "",
     "parents": []
    }
   },
   "outputs": [
    {
     "ename": "SyntaxError",
     "evalue": "invalid syntax (3191181717.py, line 1)",
     "output_type": "error",
     "traceback": [
      "\u001b[0;36m  Cell \u001b[0;32mIn [3], line 1\u001b[0;36m\u001b[0m\n\u001b[0;31m    race, age, criminal history (priors_count), charge degree, gender\u001b[0m\n\u001b[0m                                                                     ^\u001b[0m\n\u001b[0;31mSyntaxError\u001b[0m\u001b[0;31m:\u001b[0m invalid syntax\n"
     ]
    }
   ],
   "source": [
    "race, age, criminal history (priors_count), charge degree, gender"
   ]
  },
  {
   "cell_type": "code",
   "execution_count": 147,
   "id": "db786a7a-4a63-4be7-b082-0708269ac1e8",
   "metadata": {
    "canvas": {
     "comments": [],
     "componentType": "CodeCell",
     "copiedOriginId": null,
     "diskcache": false,
     "headerColor": "inherit",
     "id": "80fa0385-b919-4e89-b4bf-b8e208821382",
     "isComponent": false,
     "name": "",
     "parents": []
    }
   },
   "outputs": [],
   "source": [
    "# raw_data.isna().sum()"
   ]
  },
  {
   "cell_type": "markdown",
   "id": "d0bb9109-2320-4574-b70c-64769eb6f00a",
   "metadata": {
    "canvas": {
     "comments": [],
     "componentType": "CodeCell",
     "copiedOriginId": null,
     "diskcache": false,
     "headerColor": "inherit",
     "id": "7a552585-2144-4449-bd6b-7980416db328",
     "isComponent": false,
     "name": "",
     "parents": []
    }
   },
   "source": [
    "### Data Cleaning\n",
    "However not all of the rows are useable for the first round of analysis.\n",
    "\n",
    "There are a number of reasons remove rows because of missing data:\n",
    "* If the charge date of a defendants Compas scored crime was not within 30 days from when the person was arrested, we assume that because of data quality reasons, that we do not have the right offense.\n",
    "* We coded the recidivist flag -- `is_recid` -- to be -1 if we could not find a compas case at all.\n",
    "* In a similar vein, ordinary traffic offenses -- those with a `c_charge_degree` of 'O' -- will not result in Jail time are removed (only two of them).\n",
    "* We filtered the underlying data from Broward county to include only those rows representing people who had either recidivated in two years, or had at least two years outside of a correctional facility."
   ]
  },
  {
   "cell_type": "code",
   "execution_count": 181,
   "id": "d9358220-38cc-4c58-a960-419d3e5acf8e",
   "metadata": {
    "canvas": {
     "comments": [],
     "componentType": "CodeCell",
     "copiedOriginId": null,
     "diskcache": false,
     "headerColor": "none",
     "id": "d73da040-1a7f-4ebf-9b64-701d88696c90",
     "isComponent": true,
     "name": "filter data",
     "parents": [
      {
       "id": "792f693b-df84-49b2-a07d-ee4bfe557125",
       "name": "load raw data"
      }
     ]
    },
    "tags": []
   },
   "outputs": [
    {
     "data": {
      "text/plain": [
       "6172"
      ]
     },
     "execution_count": 181,
     "metadata": {},
     "output_type": "execute_result"
    }
   ],
   "source": [
    "df = raw_data.loc[\n",
    "    (raw_data['days_b_screening_arrest'] <= 30) &\n",
    "    (raw_data['days_b_screening_arrest'] >= -30) &\n",
    "    (raw_data['is_recid'] != -1) &\n",
    "    (raw_data['c_charge_degree'] != \"O\") &\n",
    "    (raw_data['score_text'] != \"N/A\")\n",
    "]\n",
    "len(df)"
   ]
  },
  {
   "cell_type": "markdown",
   "id": "8e956af3-f39c-43fb-89cf-a9c2102852ec",
   "metadata": {
    "canvas": {
     "comments": [],
     "componentType": "CodeCell",
     "copiedOriginId": null,
     "diskcache": false,
     "headerColor": "inherit",
     "id": "d670572b-3f4f-4fdd-a07b-27e7c2dfeee6",
     "isComponent": false,
     "name": "",
     "parents": []
    }
   },
   "source": [
    "## COMPAS Score and Recidivism\n"
   ]
  },
  {
   "cell_type": "markdown",
   "id": "32d984c5-d178-457a-9e17-e8da9da334af",
   "metadata": {
    "canvas": {
     "comments": [],
     "componentType": "CodeCell",
     "copiedOriginId": null,
     "diskcache": false,
     "headerColor": "inherit",
     "id": "c043e162-aefd-418d-a89f-18a65fd69e9d",
     "isComponent": false,
     "name": "",
     "parents": []
    }
   },
   "source": [
    "We visualize the data to see how scores and race correlate to each other"
   ]
  },
  {
   "cell_type": "markdown",
   "id": "c153994d-5197-4994-838b-47d766d4e7ad",
   "metadata": {
    "canvas": {
     "comments": [],
     "componentType": "CodeCell",
     "copiedOriginId": null,
     "diskcache": false,
     "headerColor": "inherit",
     "id": "96398f47-f113-407d-8db0-e36819c59924",
     "isComponent": false,
     "name": "",
     "parents": []
    }
   },
   "source": [
    "### Exploratory Analysis"
   ]
  },
  {
   "cell_type": "markdown",
   "id": "878596a2-cf26-4cb2-87cf-0cddcb4bf973",
   "metadata": {
    "canvas": {
     "comments": [],
     "componentType": "CodeCell",
     "copiedOriginId": null,
     "diskcache": false,
     "headerColor": "inherit",
     "id": "54057456-4850-4928-be1a-47eb47161248",
     "isComponent": false,
     "name": "",
     "parents": []
    }
   },
   "source": [
    "#### Score and Race"
   ]
  },
  {
   "cell_type": "code",
   "execution_count": 182,
   "id": "a7f428bb-c422-4f84-958a-c8d41a0c4d1d",
   "metadata": {
    "canvas": {
     "comments": [],
     "componentType": "CodeCell",
     "copiedOriginId": null,
     "diskcache": false,
     "headerColor": "inherit",
     "id": "47339072-9d9b-4d37-b3fd-ffb405463cf3",
     "isComponent": false,
     "name": "",
     "parents": []
    }
   },
   "outputs": [
    {
     "data": {
      "text/plain": [
       "African-American    3175\n",
       "Caucasian           2103\n",
       "Hispanic             509\n",
       "Other                343\n",
       "Asian                 31\n",
       "Native American       11\n",
       "Name: race, dtype: int64"
      ]
     },
     "execution_count": 182,
     "metadata": {},
     "output_type": "execute_result"
    }
   ],
   "source": [
    "df['race'].value_counts()"
   ]
  },
  {
   "cell_type": "code",
   "execution_count": 189,
   "id": "0533f39e-238e-45cf-98f2-31c541cea8dd",
   "metadata": {
    "canvas": {
     "comments": [],
     "componentType": "CodeCell",
     "copiedOriginId": null,
     "diskcache": false,
     "headerColor": "inherit",
     "id": "4ea8c1bd-be71-4cb0-bc56-2021250f48e6",
     "isComponent": false,
     "name": "",
     "parents": []
    }
   },
   "outputs": [
    {
     "data": {
      "text/html": [
       "<div>\n",
       "<style scoped>\n",
       "    .dataframe tbody tr th:only-of-type {\n",
       "        vertical-align: middle;\n",
       "    }\n",
       "\n",
       "    .dataframe tbody tr th {\n",
       "        vertical-align: top;\n",
       "    }\n",
       "\n",
       "    .dataframe thead th {\n",
       "        text-align: right;\n",
       "    }\n",
       "</style>\n",
       "<table border=\"1\" class=\"dataframe\">\n",
       "  <thead>\n",
       "    <tr style=\"text-align: right;\">\n",
       "      <th>race</th>\n",
       "      <th>African-American</th>\n",
       "      <th>Caucasian</th>\n",
       "      <th>Hispanic</th>\n",
       "    </tr>\n",
       "    <tr>\n",
       "      <th>score_text</th>\n",
       "      <th></th>\n",
       "      <th></th>\n",
       "      <th></th>\n",
       "    </tr>\n",
       "  </thead>\n",
       "  <tbody>\n",
       "    <tr>\n",
       "      <th>High</th>\n",
       "      <td>845</td>\n",
       "      <td>223</td>\n",
       "      <td>47</td>\n",
       "    </tr>\n",
       "    <tr>\n",
       "      <th>Low</th>\n",
       "      <td>1346</td>\n",
       "      <td>1407</td>\n",
       "      <td>368</td>\n",
       "    </tr>\n",
       "    <tr>\n",
       "      <th>Medium</th>\n",
       "      <td>984</td>\n",
       "      <td>473</td>\n",
       "      <td>94</td>\n",
       "    </tr>\n",
       "  </tbody>\n",
       "</table>\n",
       "</div>"
      ],
      "text/plain": [
       "race        African-American  Caucasian  Hispanic\n",
       "score_text                                       \n",
       "High                     845        223        47\n",
       "Low                     1346       1407       368\n",
       "Medium                   984        473        94"
      ]
     },
     "execution_count": 189,
     "metadata": {},
     "output_type": "execute_result"
    }
   ],
   "source": [
    "# Race by Score Text\n",
    "pd.crosstab(df['score_text'],df['race'])"
   ]
  },
  {
   "cell_type": "code",
   "execution_count": 183,
   "id": "146791c6-ac71-48a1-be34-03325196fe9e",
   "metadata": {
    "canvas": {
     "comments": [],
     "componentType": "CodeCell",
     "copiedOriginId": null,
     "diskcache": false,
     "headerColor": "inherit",
     "id": "44ae4332-137e-4a04-9934-6983fe82b9cd",
     "isComponent": false,
     "name": "",
     "parents": []
    }
   },
   "outputs": [
    {
     "data": {
      "text/plain": [
       "<AxesSubplot:title={'center':'Score Text by Race'}, xlabel='Race', ylabel='Score Text'>"
      ]
     },
     "execution_count": 183,
     "metadata": {},
     "output_type": "execute_result"
    },
    {
     "data": {
      "image/png": "[encoded data removed]",
      "text/plain": [
       "<Figure size 800x400 with 1 Axes>"
      ]
     },
     "metadata": {
      "filenames": {
       "image/png": "/Users/anhpham/notebooks/data_science/Group Project/DSWiSe22_Group3/_build/jupyter_execute/notebooks_16_1.png"
      }
     },
     "output_type": "display_data"
    }
   ],
   "source": [
    "score_text_by_race = df.groupby(['race','score_text'], sort = True)['id'].size()\n",
    "score_text_by_race.unstack().plot(\n",
    "    kind = \"barh\", \n",
    "    title = \"Score Text by Race\",\n",
    "    ylabel = \"Score Text\",\n",
    "    xlabel = \"Race\",\n",
    "    figsize = (8,4),\n",
    "    stacked = True\n",
    ")"
   ]
  },
  {
   "cell_type": "markdown",
   "id": "a748ae43-0d4c-48d8-885f-c3830eb5415b",
   "metadata": {
    "canvas": {
     "comments": [],
     "componentType": "CodeCell",
     "copiedOriginId": null,
     "diskcache": false,
     "headerColor": "inherit",
     "id": "a36ce76a-7030-4e40-8ca1-286f4e45dc1e",
     "isComponent": false,
     "name": "",
     "parents": []
    }
   },
   "source": [
    "African American group has the highest number of High Scores individuals. However, they are also the biggest group, so we need to consider the proportions of score text in each Race group. Since we have significantly more samples for African-American, Caucasian and Hispanic, we will focus on these three groups only."
   ]
  },
  {
   "cell_type": "code",
   "execution_count": 184,
   "id": "261b629c-0765-4a1a-9373-e748f79d73c9",
   "metadata": {
    "canvas": {
     "comments": [],
     "componentType": "CodeCell",
     "copiedOriginId": null,
     "diskcache": false,
     "headerColor": "inherit",
     "id": "a4d683cb-04f1-458f-b41a-c80a3f4b3a70",
     "isComponent": false,
     "name": "",
     "parents": []
    }
   },
   "outputs": [],
   "source": [
    "df = df.loc[df['race'].isin([\"African-American\",\"Caucasian\",\"Hispanic\"])]"
   ]
  },
  {
   "cell_type": "code",
   "execution_count": 185,
   "id": "d62d9135-c011-4afa-9ba7-7d9ec5b891f9",
   "metadata": {
    "canvas": {
     "comments": [],
     "componentType": "CodeCell",
     "copiedOriginId": null,
     "diskcache": false,
     "headerColor": "inherit",
     "id": "501f6cc2-f064-442c-9e46-7955bce81284",
     "isComponent": false,
     "name": "",
     "parents": []
    }
   },
   "outputs": [
    {
     "data": {
      "text/html": [
       "<div>\n",
       "<style scoped>\n",
       "    .dataframe tbody tr th:only-of-type {\n",
       "        vertical-align: middle;\n",
       "    }\n",
       "\n",
       "    .dataframe tbody tr th {\n",
       "        vertical-align: top;\n",
       "    }\n",
       "\n",
       "    .dataframe thead th {\n",
       "        text-align: right;\n",
       "    }\n",
       "</style>\n",
       "<table border=\"1\" class=\"dataframe\">\n",
       "  <thead>\n",
       "    <tr style=\"text-align: right;\">\n",
       "      <th></th>\n",
       "      <th></th>\n",
       "      <th>score_text</th>\n",
       "      <th>prop</th>\n",
       "    </tr>\n",
       "    <tr>\n",
       "      <th>race</th>\n",
       "      <th>score_text</th>\n",
       "      <th></th>\n",
       "      <th></th>\n",
       "    </tr>\n",
       "  </thead>\n",
       "  <tbody>\n",
       "    <tr>\n",
       "      <th rowspan=\"3\" valign=\"top\">African-American</th>\n",
       "      <th>High</th>\n",
       "      <td>845</td>\n",
       "      <td>26.614173</td>\n",
       "    </tr>\n",
       "    <tr>\n",
       "      <th>Low</th>\n",
       "      <td>1346</td>\n",
       "      <td>42.393701</td>\n",
       "    </tr>\n",
       "    <tr>\n",
       "      <th>Medium</th>\n",
       "      <td>984</td>\n",
       "      <td>30.992126</td>\n",
       "    </tr>\n",
       "    <tr>\n",
       "      <th rowspan=\"3\" valign=\"top\">Caucasian</th>\n",
       "      <th>High</th>\n",
       "      <td>223</td>\n",
       "      <td>10.603899</td>\n",
       "    </tr>\n",
       "    <tr>\n",
       "      <th>Low</th>\n",
       "      <td>1407</td>\n",
       "      <td>66.904422</td>\n",
       "    </tr>\n",
       "    <tr>\n",
       "      <th>Medium</th>\n",
       "      <td>473</td>\n",
       "      <td>22.491679</td>\n",
       "    </tr>\n",
       "    <tr>\n",
       "      <th rowspan=\"3\" valign=\"top\">Hispanic</th>\n",
       "      <th>High</th>\n",
       "      <td>47</td>\n",
       "      <td>9.233792</td>\n",
       "    </tr>\n",
       "    <tr>\n",
       "      <th>Low</th>\n",
       "      <td>368</td>\n",
       "      <td>72.298625</td>\n",
       "    </tr>\n",
       "    <tr>\n",
       "      <th>Medium</th>\n",
       "      <td>94</td>\n",
       "      <td>18.467583</td>\n",
       "    </tr>\n",
       "  </tbody>\n",
       "</table>\n",
       "</div>"
      ],
      "text/plain": [
       "                             score_text       prop\n",
       "race             score_text                       \n",
       "African-American High               845  26.614173\n",
       "                 Low               1346  42.393701\n",
       "                 Medium             984  30.992126\n",
       "Caucasian        High               223  10.603899\n",
       "                 Low               1407  66.904422\n",
       "                 Medium             473  22.491679\n",
       "Hispanic         High                47   9.233792\n",
       "                 Low                368  72.298625\n",
       "                 Medium              94  18.467583"
      ]
     },
     "execution_count": 185,
     "metadata": {},
     "output_type": "execute_result"
    }
   ],
   "source": [
    "#calculate the total and proportions of score texts in each race group\n",
    "score_text_by_race_prop= df.groupby(['race', 'score_text']).agg({'score_text': 'count'})\n",
    "score_text_by_race_prop['prop'] = score_text_by_race_prop.groupby(level = 0).apply(lambda x:100 * x / float(x.sum()))\n",
    "score_text_by_race_prop"
   ]
  },
  {
   "cell_type": "code",
   "execution_count": 188,
   "id": "af72a9f5-ae70-4efa-9749-ce42f7984142",
   "metadata": {
    "canvas": {
     "comments": [],
     "componentType": "CodeCell",
     "copiedOriginId": null,
     "diskcache": false,
     "headerColor": "inherit",
     "id": "4d172e7a-4b1d-42a8-8354-c7175164e877",
     "isComponent": false,
     "name": "",
     "parents": []
    }
   },
   "outputs": [
    {
     "data": {
      "text/plain": [
       "race\n",
       "African-American    5.276850\n",
       "Caucasian           3.635283\n",
       "Hispanic            3.383104\n",
       "Name: decile_score, dtype: float64"
      ]
     },
     "execution_count": 188,
     "metadata": {},
     "output_type": "execute_result"
    }
   ],
   "source": [
    "df.groupby('race')['decile_score'].mean()"
   ]
  },
  {
   "cell_type": "markdown",
   "id": "7f722d85-47b7-4413-b4e6-08d366c3ecea",
   "metadata": {
    "canvas": {
     "comments": [],
     "componentType": "CodeCell",
     "copiedOriginId": null,
     "diskcache": false,
     "headerColor": "inherit",
     "id": "ef0d2f30-edd6-4801-a6cd-632607df9359",
     "isComponent": false,
     "name": "",
     "parents": []
    }
   },
   "source": [
    "26,6% of African-American defendants are classified with High Scores compared to 10.6% of Caucasian group"
   ]
  },
  {
   "cell_type": "markdown",
   "id": "897edf52-7491-4232-ba46-828719ef91ba",
   "metadata": {
    "canvas": {
     "comments": [],
     "componentType": "CodeCell",
     "copiedOriginId": null,
     "diskcache": false,
     "headerColor": "inherit",
     "id": "b024097e-d465-415c-9828-8f93fe2af126",
     "isComponent": false,
     "name": "",
     "parents": []
    }
   },
   "source": [
    "#### Distribution of decile scores"
   ]
  },
  {
   "cell_type": "code",
   "execution_count": 191,
   "id": "c9f54119-a57a-4cc2-97e0-1b6efa56573e",
   "metadata": {
    "canvas": {
     "comments": [],
     "componentType": "CodeCell",
     "copiedOriginId": null,
     "diskcache": false,
     "headerColor": "inherit",
     "id": "02c6e73e-dcdb-4bf6-b1dd-25ddb1844cec",
     "isComponent": false,
     "name": "",
     "parents": []
    }
   },
   "outputs": [
    {
     "data": {
      "text/plain": [
       "Text(0, 0.5, 'Count')"
      ]
     },
     "execution_count": 191,
     "metadata": {},
     "output_type": "execute_result"
    },
    {
     "data": {
      "image/png": "[encoded data removed]",
      "text/plain": [
       "<Figure size 640x480 with 1 Axes>"
      ]
     },
     "metadata": {
      "filenames": {
       "image/png": "/Users/anhpham/notebooks/data_science/Group Project/DSWiSe22_Group3/_build/jupyter_execute/notebooks_23_1.png"
      }
     },
     "output_type": "display_data"
    }
   ],
   "source": [
    "sns.countplot(\n",
    "    data = df,\n",
    "    x = 'decile_score',\n",
    "    hue = 'race',\n",
    "    palette = [\"#F97306\",\"#0343DF\",\"#00FF00\"]\n",
    ")\n",
    "plt.title('Distribution of Decile Scores by Race')\n",
    "plt.xlabel('Decile Score')\n",
    "plt.ylabel('Count')"
   ]
  },
  {
   "cell_type": "markdown",
   "id": "b39a2868-7135-48dd-a9c9-9f778091a3ed",
   "metadata": {
    "canvas": {
     "comments": [],
     "componentType": "CodeCell",
     "copiedOriginId": null,
     "diskcache": false,
     "headerColor": "inherit",
     "id": "4379ba1f-3544-4b8a-a96f-2268cb67384c",
     "isComponent": false,
     "name": "",
     "parents": []
    }
   },
   "source": [
    "There is a clear downtrend in Decile Score for Caucasian and Hispanic; however, no downtrend for African-American."
   ]
  },
  {
   "cell_type": "markdown",
   "id": "158e5d23-7643-4570-b69c-59ad1bbbcb8c",
   "metadata": {
    "canvas": {
     "comments": [],
     "componentType": "CodeCell",
     "copiedOriginId": null,
     "diskcache": false,
     "headerColor": "inherit",
     "id": "05a2a43b-354b-4202-b009-3c646492b919",
     "isComponent": false,
     "name": "",
     "parents": []
    }
   },
   "source": [
    "### COMPAS Score Prediction"
   ]
  },
  {
   "cell_type": "markdown",
   "id": "768fa5e7-8b57-47e0-abe5-1306259d8554",
   "metadata": {
    "canvas": {
     "comments": [],
     "componentType": "CodeCell",
     "copiedOriginId": null,
     "diskcache": false,
     "headerColor": "inherit",
     "id": "44d72fd1-eee6-4c55-aa7c-4bad96489f9e",
     "isComponent": false,
     "name": "",
     "parents": []
    }
   },
   "source": [
    "#### Linear Regression Model\n",
    "features:\n",
    "* race\n",
    "* age group (age_cat)\n",
    "* criminal history (priors_count)\n",
    "* Felony or Misdemeanor charge (charge degree) \n",
    "* sex"
   ]
  },
  {
   "cell_type": "code",
   "execution_count": 193,
   "id": "7c64d81b-e123-45ee-a80e-6989569fa5ed",
   "metadata": {
    "canvas": {
     "comments": [],
     "componentType": "CodeCell",
     "copiedOriginId": null,
     "diskcache": false,
     "headerColor": "inherit",
     "id": "5600e3ce-9dfa-4a4e-9de2-2851f56c6c71",
     "isComponent": false,
     "name": "",
     "parents": []
    }
   },
   "outputs": [],
   "source": [
    "features = pd.concat(\n",
    "    [pd.get_dummies(df.age_cat, prefix='age'),\n",
    "     pd.get_dummies(df.sex, prefix='sex'),\n",
    "     pd.get_dummies(df.c_charge_degree, prefix='degree'), # felony or misdemeanor charge ('f' or 'm')\n",
    "     df.priors_count],\n",
    "    axis=1)\n",
    "\n",
    "# drop one less dummy variable\n",
    "features.drop(['age_25 - 45', 'sex_Female', 'degree_M'], axis=1, inplace=True)\n",
    "\n",
    "# predict the Decile Score\n",
    "target = df.decile_score"
   ]
  },
  {
   "cell_type": "markdown",
   "id": "6be108e9-b742-473a-aebd-30ce378d4179",
   "metadata": {
    "canvas": {
     "comments": [],
     "componentType": "CodeCell",
     "copiedOriginId": null,
     "diskcache": false,
     "headerColor": "inherit",
     "id": "bde4f96e-c27e-4e37-943c-95b12c61eae3",
     "isComponent": false,
     "name": "",
     "parents": []
    }
   },
   "source": [
    "### Lasso"
   ]
  },
  {
   "cell_type": "code",
   "execution_count": 196,
   "id": "783fb608-8ae6-4472-92be-8bd81e56e658",
   "metadata": {
    "canvas": {
     "comments": [],
     "componentType": "CodeCell",
     "copiedOriginId": null,
     "diskcache": false,
     "headerColor": "inherit",
     "id": "7a501e23-d313-494a-9d3f-312b53f38b58",
     "isComponent": false,
     "name": "",
     "parents": []
    }
   },
   "outputs": [],
   "source": [
    "X_train, X_test, y_train, y_test = model_selection.train_test_split(features, target, test_size = 0.25, random_state = 3)"
   ]
  },
  {
   "cell_type": "code",
   "execution_count": 211,
   "id": "b834357f-2aca-4687-b229-f79046857ff9",
   "metadata": {
    "canvas": {
     "comments": [],
     "componentType": "CodeCell",
     "copiedOriginId": null,
     "diskcache": false,
     "headerColor": "inherit",
     "id": "4ac76b4d-85a6-4f15-a094-00e331cb65ce",
     "isComponent": false,
     "name": "",
     "parents": []
    }
   },
   "outputs": [],
   "source": [
    "alphas = 10**np.linspace(10,-2,1000)*0.5"
   ]
  },
  {
   "cell_type": "code",
   "execution_count": 218,
   "id": "1bb51173-4752-47de-8561-bfc58ffc4846",
   "metadata": {
    "canvas": {
     "comments": [],
     "componentType": "CodeCell",
     "copiedOriginId": null,
     "diskcache": false,
     "headerColor": "inherit",
     "id": "9a0d067e-f127-4c47-803c-9610d8246429",
     "isComponent": false,
     "name": "",
     "parents": []
    }
   },
   "outputs": [
    {
     "data": {
      "text/plain": [
       "0.005"
      ]
     },
     "execution_count": 218,
     "metadata": {},
     "output_type": "execute_result"
    }
   ],
   "source": [
    "# Lasso Model\n",
    "# find the best alpha\n",
    "lasso_cv = linear_model.LassoCV(alphas = alphas, cv = 10, max_iter = 100000).fit(X_train,y_train)\n",
    "lasso_cv.alpha_"
   ]
  },
  {
   "cell_type": "code",
   "execution_count": 219,
   "id": "9bfd9ef1-990f-44ce-995d-724176707767",
   "metadata": {
    "canvas": {
     "comments": [],
     "componentType": "CodeCell",
     "copiedOriginId": null,
     "diskcache": false,
     "headerColor": "inherit",
     "id": "fdf04ec6-ccdc-4032-a242-3e45aaa4db89",
     "isComponent": false,
     "name": "",
     "parents": []
    }
   },
   "outputs": [
    {
     "data": {
      "text/plain": [
       "2.259341551719152"
      ]
     },
     "execution_count": 219,
     "metadata": {},
     "output_type": "execute_result"
    }
   ],
   "source": [
    "lasso_model = Lasso().set_params(alpha = lasso_cv.alpha_).fit(X_train,y_train)\n",
    "\n",
    "y_pred= lasso_model.predict(X_test)\n",
    "\n",
    "np.sqrt(metrics.mean_squared_error(y_test,y_pred))"
   ]
  },
  {
   "cell_type": "code",
   "execution_count": 216,
   "id": "cb07dabf-3c79-4705-bbd3-4ffeeed2edc4",
   "metadata": {
    "canvas": {
     "comments": [],
     "componentType": "CodeCell",
     "copiedOriginId": null,
     "diskcache": false,
     "headerColor": "inherit",
     "id": "71b03649-589d-454c-8c14-10df6e390b62",
     "isComponent": false,
     "name": "",
     "parents": []
    }
   },
   "outputs": [
    {
     "data": {
      "text/plain": [
       "0.005"
      ]
     },
     "execution_count": 216,
     "metadata": {},
     "output_type": "execute_result"
    }
   ],
   "source": [
    "lasso_cv_model = linear_model.RidgeCV(alphas = alphas, scoring = 'neg_mean_squared_error', normalize = True).fit(X_train, y_train)\n",
    "lasso_cv_model.alpha_"
   ]
  },
  {
   "cell_type": "markdown",
   "id": "e350d5df-3a14-4154-ae12-f544de6fb47a",
   "metadata": {
    "canvas": {
     "comments": [],
     "componentType": "CodeCell",
     "copiedOriginId": null,
     "diskcache": false,
     "headerColor": "inherit",
     "id": "0506bce9-8fd1-484e-803c-4848e69f1c7e",
     "isComponent": false,
     "name": "",
     "parents": []
    }
   },
   "source": [
    "### Ridge"
   ]
  },
  {
   "cell_type": "code",
   "execution_count": 224,
   "id": "5f317929-b89b-4ca4-8363-1e9dbe57f866",
   "metadata": {
    "canvas": {
     "comments": [],
     "componentType": "CodeCell",
     "copiedOriginId": null,
     "diskcache": false,
     "headerColor": "inherit",
     "id": "f632fb1f-b701-4b1f-b06a-595838126167",
     "isComponent": false,
     "name": "",
     "parents": []
    }
   },
   "outputs": [
    {
     "data": {
      "text/plain": [
       "5.100613454127368"
      ]
     },
     "execution_count": 224,
     "metadata": {},
     "output_type": "execute_result"
    }
   ],
   "source": [
    "ridge_model = linear_model.Ridge(alpha = lasso_cv_model.alpha_, normalize = True).fit(X_train, y_train)\n",
    "metrics.mean_squared_error(y_test, ridge_model.predict(X_test))"
   ]
  }
 ],
 "metadata": {
  "canvas": {
   "colorPalette": [
    "inherit",
    "inherit",
    "inherit",
    "inherit",
    "inherit",
    "inherit",
    "inherit",
    "inherit",
    "inherit",
    "inherit"
   ],
   "parameters": [],
   "version": "1.0"
  },
  "kernelspec": {
   "display_name": "Python 3 (ipykernel)",
   "language": "python",
   "name": "python3"
  },
  "language_info": {
   "codemirror_mode": {
    "name": "ipython",
    "version": 3
   },
   "file_extension": ".py",
   "mimetype": "text/x-python",
   "name": "python",
   "nbconvert_exporter": "python",
   "pygments_lexer": "ipython3",
   "version": "3.9.6"
  }
 },
 "nbformat": 4,
 "nbformat_minor": 5
}